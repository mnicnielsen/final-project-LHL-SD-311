{
 "cells": [
  {
   "cell_type": "markdown",
   "id": "39f4264d-ab15-4503-b90d-d78d85271dca",
   "metadata": {
    "tags": []
   },
   "source": [
    "# Tensoflow NLP Model for Text Classification"
   ]
  },
  {
   "cell_type": "markdown",
   "id": "603d644c-7783-4f5f-b392-0865a6de92bb",
   "metadata": {},
   "source": [
    "## Imports"
   ]
  },
  {
   "cell_type": "code",
   "execution_count": 1,
   "id": "eda95c3b-eded-4950-addb-02536ef18f13",
   "metadata": {},
   "outputs": [],
   "source": [
    "import pandas as pd\n",
    "import numpy as np\n",
    "from matplotlib import pyplot as plt\n",
    "import seaborn as sns\n",
    "from datetime import datetime\n",
    "from sklearn.model_selection import train_test_split\n",
    "import pickle\n",
    "\n",
    "from __future__ import absolute_import, division, print_function, unicode_literals\n",
    "\n",
    "import tensorflow as tf\n",
    "\n",
    "import os\n",
    "import datetime\n",
    "# import tensorflow_hub as hub\n",
    "from tensorflow import keras"
   ]
  },
  {
   "cell_type": "markdown",
   "id": "f93e5afd-acf6-4314-8f65-5d530bdb60e1",
   "metadata": {},
   "source": [
    "## Pre-Processing"
   ]
  },
  {
   "cell_type": "code",
   "execution_count": 2,
   "id": "586917ea-a092-408e-9315-d78c308958e5",
   "metadata": {},
   "outputs": [],
   "source": [
    "with open('../data/processed_20_data.pkl', 'rb') as file:\n",
    "    processed_20_data = pickle.load(file)"
   ]
  },
  {
   "cell_type": "code",
   "execution_count": 3,
   "id": "09c5aebe-f300-465d-8f64-4ac16a30fe5e",
   "metadata": {},
   "outputs": [],
   "source": [
    "#only keep relevant columns\n",
    "processed_20_data = processed_20_data[['detailed_type', 'public_description']]"
   ]
  },
  {
   "cell_type": "code",
   "execution_count": 4,
   "id": "7cbd59fd-e225-461e-bee2-8c66d48c2bc4",
   "metadata": {},
   "outputs": [
    {
     "ename": "NameError",
     "evalue": "name 'processed_22_data' is not defined",
     "output_type": "error",
     "traceback": [
      "\u001b[1;31m---------------------------------------------------------------------------\u001b[0m",
      "\u001b[1;31mNameError\u001b[0m                                 Traceback (most recent call last)",
      "Input \u001b[1;32mIn [4]\u001b[0m, in \u001b[0;36m<cell line: 1>\u001b[1;34m()\u001b[0m\n\u001b[1;32m----> 1\u001b[0m processed_20_data \u001b[38;5;241m=\u001b[39m processed_20_data[(processed_20_data[\u001b[38;5;124m'\u001b[39m\u001b[38;5;124mdetailed_type\u001b[39m\u001b[38;5;124m'\u001b[39m] \u001b[38;5;241m!=\u001b[39m \u001b[38;5;124m'\u001b[39m\u001b[38;5;124mTRAFFIC MAINTENANCE - OTHER\u001b[39m\u001b[38;5;124m'\u001b[39m) \u001b[38;5;241m&\u001b[39m (processed_20_data[\u001b[38;5;124m'\u001b[39m\u001b[38;5;124mdetailed_type\u001b[39m\u001b[38;5;124m'\u001b[39m] \u001b[38;5;241m!=\u001b[39m \u001b[38;5;124m'\u001b[39m\u001b[38;5;124mRed Zone\u001b[39m\u001b[38;5;124m'\u001b[39m) \u001b[38;5;241m&\u001b[39m (processed_20_data[\u001b[38;5;124m'\u001b[39m\u001b[38;5;124mdetailed_type\u001b[39m\u001b[38;5;124m'\u001b[39m] \u001b[38;5;241m!=\u001b[39m \u001b[38;5;124m'\u001b[39m\u001b[38;5;124mOversized Vehicle\u001b[39m\u001b[38;5;124m'\u001b[39m) \u001b[38;5;241m&\u001b[39m ((\u001b[43mprocessed_22_data\u001b[49m[\u001b[38;5;124m'\u001b[39m\u001b[38;5;124mdetailed_type\u001b[39m\u001b[38;5;124m'\u001b[39m] \u001b[38;5;241m!=\u001b[39m \u001b[38;5;124m'\u001b[39m\u001b[38;5;124mContainer Request\u001b[39m\u001b[38;5;124m'\u001b[39m))]\n",
      "\u001b[1;31mNameError\u001b[0m: name 'processed_22_data' is not defined"
     ]
    }
   ],
   "source": [
    "processed_20_data = processed_20_data[(processed_20_data['detailed_type'] != 'TRAFFIC MAINTENANCE - OTHER') & (processed_20_data['detailed_type'] != 'Red Zone') & (processed_20_data['detailed_type'] != 'Oversized Vehicle') & ((processed_22_data['detailed_type'] != 'Container Request'))]"
   ]
  },
  {
   "cell_type": "code",
   "execution_count": null,
   "id": "af633270-a3d5-48aa-91c4-58b1860085ad",
   "metadata": {},
   "outputs": [],
   "source": [
    "# processed_21_data[processed_21_data['public_description'] == 'Encampment out front of Kristys.']"
   ]
  },
  {
   "cell_type": "code",
   "execution_count": null,
   "id": "674e3c4b-bd84-4424-a791-fd8a949bcd77",
   "metadata": {},
   "outputs": [],
   "source": [
    "# #split train and test data\n",
    "# (requests_train, requests_test) = train_test_split(processed_21_data, test_size = 0.2, random_state = 42)"
   ]
  },
  {
   "cell_type": "markdown",
   "id": "32e5b78c-28de-468a-a437-977e100c9c83",
   "metadata": {},
   "source": [
    "## Tensorflow Model"
   ]
  },
  {
   "cell_type": "markdown",
   "id": "9c867814-2307-439c-9b18-9b8696172405",
   "metadata": {},
   "source": [
    "### Imports"
   ]
  },
  {
   "cell_type": "code",
   "execution_count": null,
   "id": "035c470b-7fc3-42dd-a477-58c9fdc8b338",
   "metadata": {},
   "outputs": [],
   "source": [
    "from __future__ import absolute_import, division, print_function, unicode_literals\n",
    "\n",
    "import tensorflow as tf\n",
    "\n",
    "import os\n",
    "import datetime\n",
    "import tensorflow_hub as hub"
   ]
  },
  {
   "cell_type": "code",
   "execution_count": null,
   "id": "e9016c86-4fcc-40b5-befb-f3d2b0612263",
   "metadata": {},
   "outputs": [],
   "source": [
    "pd.set_option('display.max_colwidth', None)"
   ]
  },
  {
   "cell_type": "code",
   "execution_count": null,
   "id": "a668b477-604e-47bb-ba27-99c443d17bcd",
   "metadata": {
    "tags": []
   },
   "outputs": [],
   "source": [
    "processed_20_data.sample(10)"
   ]
  },
  {
   "cell_type": "code",
   "execution_count": null,
   "id": "f85de6bf-3294-41f3-8c48-4ec983e38e16",
   "metadata": {},
   "outputs": [],
   "source": [
    "X_train, X_test = train_test_split(processed_20_data, test_size=0.2, random_state=42)"
   ]
  },
  {
   "cell_type": "code",
   "execution_count": null,
   "id": "ed890d26-12fb-411b-8fcb-1d50996f04f1",
   "metadata": {},
   "outputs": [],
   "source": [
    "from sklearn.utils import class_weight"
   ]
  },
  {
   "cell_type": "code",
   "execution_count": null,
   "id": "bea7fa13-4009-4250-b20f-759a5a3e2e9b",
   "metadata": {},
   "outputs": [],
   "source": [
    "class_weights = list(class_weight.compute_class_weight(class_weight = 'balanced',\n",
    "                                                       classes= np.unique(processed_20_data['detailed_type']),\n",
    "                                                      y=processed_20_data['detailed_type']\n",
    "                                                      ))"
   ]
  },
  {
   "cell_type": "code",
   "execution_count": null,
   "id": "9fe647b9-bb29-4744-abf4-53d7f90df17c",
   "metadata": {},
   "outputs": [],
   "source": [
    "len(X_train['detailed_type'].value_counts())"
   ]
  },
  {
   "cell_type": "code",
   "execution_count": null,
   "id": "6132bd7a-9584-4e25-8766-e127636bbb3b",
   "metadata": {
    "tags": []
   },
   "outputs": [],
   "source": [
    "class_weights"
   ]
  },
  {
   "cell_type": "code",
   "execution_count": null,
   "id": "28fd6cd9-3d66-43c1-9cbe-7e689e2a7ce8",
   "metadata": {
    "tags": []
   },
   "outputs": [],
   "source": [
    "num_options = len(class_weights)\n",
    "num_options"
   ]
  },
  {
   "cell_type": "code",
   "execution_count": null,
   "id": "6c4fb032-7c8c-4ef5-a0fc-4f719a72158b",
   "metadata": {},
   "outputs": [],
   "source": [
    "weights = {}"
   ]
  },
  {
   "cell_type": "code",
   "execution_count": null,
   "id": "6b5a6740-e31b-4c09-8c8e-e7d19a85cf82",
   "metadata": {},
   "outputs": [],
   "source": [
    "for index, weight in enumerate(class_weights) :\n",
    "    weights[index]=weight"
   ]
  },
  {
   "cell_type": "code",
   "execution_count": null,
   "id": "a72fe509-02a3-4dc0-9503-97568039c06f",
   "metadata": {
    "tags": []
   },
   "outputs": [],
   "source": [
    "weights"
   ]
  },
  {
   "cell_type": "code",
   "execution_count": null,
   "id": "5cab28d1-2c40-4ffe-b512-b42efa0d91d9",
   "metadata": {},
   "outputs": [],
   "source": [
    "list1 = [3,1]"
   ]
  },
  {
   "cell_type": "code",
   "execution_count": null,
   "id": "f7c6f072-f071-4fc2-a139-d11be3565042",
   "metadata": {},
   "outputs": [],
   "source": [
    "np.array(list1).shape"
   ]
  },
  {
   "cell_type": "code",
   "execution_count": null,
   "id": "5413842e-c654-42b6-bb9d-25957b344b58",
   "metadata": {},
   "outputs": [],
   "source": [
    "array1 = np.array([1])\n",
    "array2 = np.array([5])"
   ]
  },
  {
   "cell_type": "code",
   "execution_count": null,
   "id": "f138f2f6-8804-4747-9009-2cad8cd1d675",
   "metadata": {},
   "outputs": [],
   "source": [
    "# string1 = 'string1'\n",
    "# string2 = 'string2'\n",
    "# string3 = 'string3'\n",
    "\n",
    "# string_array = np.array([string1])\n",
    "# print('shape', string_array.shape)\n",
    "# print('type', type(string_array))"
   ]
  },
  {
   "cell_type": "code",
   "execution_count": null,
   "id": "a78a6d5d-12cd-42a5-a8d7-ae92a906d990",
   "metadata": {},
   "outputs": [],
   "source": [
    "# test_array = X_train['public_description'].values[0:1]\n",
    "# print('shape', test_array.shape)\n",
    "# print('type', type(test_array))"
   ]
  },
  {
   "cell_type": "code",
   "execution_count": null,
   "id": "ee75b7cb-ab51-4f37-8485-831f10b96c9a",
   "metadata": {},
   "outputs": [],
   "source": [
    "# type(X_train['public_description'].values[0])"
   ]
  },
  {
   "cell_type": "code",
   "execution_count": null,
   "id": "504f894e-4e44-428c-9f26-2ccca7e7b510",
   "metadata": {},
   "outputs": [],
   "source": [
    "dataset_train = tf.data.Dataset.from_tensor_slices((string_array, test_array))"
   ]
  },
  {
   "cell_type": "code",
   "execution_count": null,
   "id": "2e3ca4ad-8186-4f09-a7e0-32420e8bded2",
   "metadata": {},
   "outputs": [],
   "source": [
    "#Instantiate\n",
    "dataset_train = tf.data.Dataset.from_tensor_slices((X_train['public_description'].values, X_train['detailed_type'].values))\n",
    "dataset_test = tf.data.Dataset.from_tensor_slices((X_test['public_description'].values, X_test['detailed_type'].values))"
   ]
  },
  {
   "cell_type": "code",
   "execution_count": null,
   "id": "dade2369-3051-47f1-81f7-5ccd552578e7",
   "metadata": {},
   "outputs": [],
   "source": [
    "# dataset_train = tf.data.Dataset.from_tensor_slices((testing, X_train['detailed_type'].values))"
   ]
  },
  {
   "cell_type": "code",
   "execution_count": null,
   "id": "e14e1564-252d-4fdd-8133-e72b4aa65966",
   "metadata": {},
   "outputs": [],
   "source": [
    "for text, target in dataset_train.take(5):\n",
    "    print('description: {}, Target: {}'.format(text, target))"
   ]
  },
  {
   "cell_type": "code",
   "execution_count": null,
   "id": "6a1e4d18-6525-4e46-94af-e3775bf6fe11",
   "metadata": {},
   "outputs": [],
   "source": [
    "for text, target in dataset_test.take(5):\n",
    "    print('description: {}, Target: {}'.format(text, target))"
   ]
  },
  {
   "cell_type": "code",
   "execution_count": null,
   "id": "56412722-e259-40fa-8ace-c0ce77a77ac3",
   "metadata": {},
   "outputs": [],
   "source": [
    "detailed_types = list(np.unique(X_train['detailed_type']))\n",
    "detailed_types"
   ]
  },
  {
   "cell_type": "code",
   "execution_count": null,
   "id": "5604d556-ae3d-4bdf-be00-746f9967da67",
   "metadata": {},
   "outputs": [],
   "source": [
    "vals = list(range(num_options))"
   ]
  },
  {
   "cell_type": "code",
   "execution_count": null,
   "id": "f245a5b0-1079-4085-b991-8944a863570c",
   "metadata": {},
   "outputs": [],
   "source": [
    "num_options == len(vals)"
   ]
  },
  {
   "cell_type": "code",
   "execution_count": null,
   "id": "51fa5d6e-f487-4f55-b2b3-73080bded449",
   "metadata": {},
   "outputs": [],
   "source": [
    "table = tf.lookup.StaticHashTable(\n",
    "    initializer=tf.lookup.KeyValueTensorInitializer(\n",
    "        keys=tf.constant(detailed_types),\n",
    "        values=tf.constant(vals),\n",
    "    ),\n",
    "        default_value=tf.constant(-1),\n",
    "        name=\"target_encoding\"\n",
    ")\n"
   ]
  },
  {
   "cell_type": "code",
   "execution_count": null,
   "id": "9e1a36be-8949-42f6-9f5d-9b160da55fcd",
   "metadata": {},
   "outputs": [],
   "source": [
    "pickle.dump(detailed_types, open('../data/detailed_types.pkl', 'wb'))\n",
    "pickle.dump(vals, open('../data/vals.pkl', 'wb'))"
   ]
  },
  {
   "cell_type": "code",
   "execution_count": null,
   "id": "08c9011a-ea77-46c5-8ec5-e65ff68a6eb2",
   "metadata": {},
   "outputs": [],
   "source": [
    "@tf.function\n",
    "def target(x):\n",
    "    return table.lookup(x)"
   ]
  },
  {
   "cell_type": "code",
   "execution_count": null,
   "id": "d265f243-769e-4337-8883-6c7d9efb2307",
   "metadata": {},
   "outputs": [],
   "source": [
    "def show_batch(dataset, size=5):\n",
    "    for batch, label in dataset.take(size):\n",
    "        print(batch.numpy())\n",
    "        print(target(label).numpy())"
   ]
  },
  {
   "cell_type": "code",
   "execution_count": null,
   "id": "29b19d16-0ea6-494b-8cab-41e9c285d81c",
   "metadata": {
    "tags": []
   },
   "outputs": [],
   "source": [
    "show_batch(dataset_test, 6)"
   ]
  },
  {
   "cell_type": "code",
   "execution_count": null,
   "id": "b23676d7-8efc-4eab-97b4-dc521d71f087",
   "metadata": {},
   "outputs": [],
   "source": [
    "def fetch(text, labels):\n",
    "        return text, tf.one_hot(target(labels),num_options)"
   ]
  },
  {
   "cell_type": "code",
   "execution_count": null,
   "id": "f9d34044-413f-4f51-95e4-104f5f6808f6",
   "metadata": {},
   "outputs": [],
   "source": [
    "train_data_f = dataset_train.map(fetch)\n",
    "test_data_f=dataset_test.map(fetch)"
   ]
  },
  {
   "cell_type": "code",
   "execution_count": null,
   "id": "f4afb2af-4922-4fdc-bac4-85fbb5ebd3fc",
   "metadata": {},
   "outputs": [],
   "source": [
    "# next(iter(train_data_f))"
   ]
  },
  {
   "cell_type": "code",
   "execution_count": null,
   "id": "f585d628-70b8-4cef-8e51-7ac4502778e7",
   "metadata": {
    "tags": []
   },
   "outputs": [],
   "source": [
    "train_data, train_labels = next(iter(train_data_f.batch(2)))\n",
    "train_data, train_labels"
   ]
  },
  {
   "cell_type": "code",
   "execution_count": null,
   "id": "44c20810-b6a2-4fa5-915f-1471a9b00a29",
   "metadata": {
    "tags": []
   },
   "outputs": [],
   "source": [
    "# embedding = \"https://tfhub.dev/google/tf2-preview/nnlm-en-dim128/1\"\n",
    "# hub_layer = hub.KerasLayer(embedding, output_shape=[128], input_shape=[],\n",
    "#                            dtype=tf.string, trainable=True)\n",
    "# hub_layer(train_data[:1])"
   ]
  },
  {
   "cell_type": "code",
   "execution_count": null,
   "id": "cfa02fe7-1be6-4c93-b2b6-02806237a458",
   "metadata": {},
   "outputs": [],
   "source": [
    "# model = tf.keras.Sequential()\n",
    "# model.add(hub_layer)\n",
    "# for units in [128, 128, 64, 32]:\n",
    "#     model.add(tf.keras.layers.Dense(units, activation='relu'))\n",
    "#     model.add(tf.keras.layers.Dropout(0.3))\n",
    "# model.add(tf.keras.layers.Dense(num_options, activation='softmax'))\n",
    "\n",
    "# model.summary()"
   ]
  },
  {
   "cell_type": "code",
   "execution_count": null,
   "id": "82b91ee0-04c1-474e-9897-10c2cdfcac89",
   "metadata": {},
   "outputs": [],
   "source": [
    "# model.compile(optimizer='adam',\n",
    "#              loss=tf.keras.losses.CategoricalCrossentropy(from_logits=True),\n",
    "#              metrics=['accuracy'])"
   ]
  },
  {
   "cell_type": "code",
   "execution_count": null,
   "id": "ddbd119f-8a5e-491f-8295-0634db9443b7",
   "metadata": {},
   "outputs": [],
   "source": [
    "train_data_f=train_data_f.shuffle(70000).batch(512)\n",
    "test_data_f=test_data_f.batch(512)"
   ]
  },
  {
   "cell_type": "code",
   "execution_count": null,
   "id": "3cf42453-456b-43fd-9295-8c23573c5abc",
   "metadata": {},
   "outputs": [],
   "source": [
    "model = keras.models.load_model('../data/tf_model_22.pkl')"
   ]
  },
  {
   "cell_type": "code",
   "execution_count": null,
   "id": "6827a02c-04ee-4d25-ad5f-2488e8dc0fa0",
   "metadata": {
    "tags": []
   },
   "outputs": [],
   "source": [
    "# history = model.train(train_data_f,\n",
    "#                    epochs=5,\n",
    "#                    validation_data=test_data_f,\n",
    "#                    verbose=1,\n",
    "#                    class_weight=weights)"
   ]
  },
  {
   "cell_type": "code",
   "execution_count": null,
   "id": "b5f31844-a45f-4c28-8477-62b0fa2718fb",
   "metadata": {
    "tags": []
   },
   "outputs": [],
   "source": [
    "# update neural network with new data only\n",
    "from sklearn.datasets import make_classification\n",
    "from sklearn.model_selection import train_test_split\n",
    "from tensorflow.keras.models import Sequential\n",
    "from tensorflow.keras.layers import Dense\n",
    "from tensorflow.keras.optimizers import SGD\n",
    "\n",
    "# define dataset\n",
    "# X, y = make_classification(n_samples=1000, n_features=20, n_informative=15, n_redundant=5, random_state=1)\n",
    "# record the number of input features in the data\n",
    "# n_features = X.shape[1]\n",
    "# split into old and new data\n",
    "# X_old, X_new, y_old, y_new = train_test_split(X, y, test_size=0.50, random_state=1)\n",
    "# define the model\n",
    "# model = Sequential()\n",
    "# model.add(Dense(20, kernel_initializer='he_normal', activation='relu', input_dim=n_features))\n",
    "# model.add(Dense(10, kernel_initializer='he_normal', activation='relu'))\n",
    "# model.add(Dense(1, activation='sigmoid'))\n",
    "# # define the optimization algorithm\n",
    "# opt = SGD(learning_rate=0.01, momentum=0.9)\n",
    "# # compile the model\n",
    "# model.compile(optimizer=opt, loss='binary_crossentropy')\n",
    "# # fit the model on old data\n",
    "# model.fit(X_old, y_old, epochs=150, batch_size=32, verbose=0)\n",
    " \n",
    "# save model...\n",
    " \n",
    "# load model...\n",
    " \n",
    "# update model on new data only with a smaller learning rate\n",
    "opt = SGD(learning_rate=0.001, momentum=0.9)\n",
    "# compile the model\n",
    "model.compile(optimizer=opt, loss='binary_crossentropy')\n",
    "# fit the model on new data\n",
    "model.fit(train_data, train_labels, epochs=3, batch_size=32, verbose=0)"
   ]
  },
  {
   "cell_type": "code",
   "execution_count": null,
   "id": "2fbaba2b-f371-4498-8de1-e2b894b72d52",
   "metadata": {},
   "outputs": [],
   "source": [
    "# model.save('../data/tf_model.pkl')"
   ]
  },
  {
   "cell_type": "code",
   "execution_count": null,
   "id": "e8d56388-24ad-49b5-862e-bb5753d8feef",
   "metadata": {
    "tags": []
   },
   "outputs": [],
   "source": [
    "# pickle.dump(model, open('../data/tf_model.pkl', 'wb'))"
   ]
  },
  {
   "cell_type": "code",
   "execution_count": null,
   "id": "9e7815b0-251b-485e-9413-973526b237c3",
   "metadata": {},
   "outputs": [],
   "source": [
    "for_results = len(list(dataset_test))"
   ]
  },
  {
   "cell_type": "code",
   "execution_count": null,
   "id": "64d0ae5e-7687-4c9c-89d1-0da786dfa56b",
   "metadata": {},
   "outputs": [],
   "source": [
    "results = model.evaluate(dataset_test.map(fetch).batch(for_results), verbose=2)"
   ]
  },
  {
   "cell_type": "code",
   "execution_count": null,
   "id": "f286643a-3298-4555-add6-001d23dee538",
   "metadata": {},
   "outputs": [],
   "source": [
    "print(results)"
   ]
  },
  {
   "cell_type": "code",
   "execution_count": null,
   "id": "b5a995df-70d7-427c-95f7-31f06f93d685",
   "metadata": {},
   "outputs": [],
   "source": [
    "next(iter(dataset_test.map(fetch).batch(1)))"
   ]
  },
  {
   "cell_type": "code",
   "execution_count": null,
   "id": "30098480-f686-4feb-8793-913171bda5b3",
   "metadata": {},
   "outputs": [],
   "source": [
    "type(dataset_test)"
   ]
  },
  {
   "cell_type": "code",
   "execution_count": null,
   "id": "38cbc0b6-ae68-4eda-bbf2-a37a80a869ca",
   "metadata": {},
   "outputs": [],
   "source": [
    "test_data, test_labels = next(iter(dataset_test.map(fetch).batch(for_results)))"
   ]
  },
  {
   "cell_type": "code",
   "execution_count": null,
   "id": "167e1ac3-6d26-4147-9529-c896e3219408",
   "metadata": {},
   "outputs": [],
   "source": [
    "y_pred=model.predict(test_data)"
   ]
  },
  {
   "cell_type": "code",
   "execution_count": null,
   "id": "99e9e1c1-fc82-473a-ae0a-dca32a7534e0",
   "metadata": {},
   "outputs": [],
   "source": [
    "# type(test_data)"
   ]
  },
  {
   "cell_type": "code",
   "execution_count": null,
   "id": "e3b0b1d7-72f9-4fff-9d2a-c102607f194f",
   "metadata": {},
   "outputs": [],
   "source": [
    "y_pred"
   ]
  },
  {
   "cell_type": "code",
   "execution_count": null,
   "id": "7bf56281-5371-4466-a592-49f4ba2632a6",
   "metadata": {
    "tags": []
   },
   "outputs": [],
   "source": [
    "results_df = pd.DataFrame(y_pred)\n",
    "results_df.columns = ['72 Hour Violation',\n",
    " 'COVID-19',\n",
    " 'Container Left Out',\n",
    " 'Container Out Late',\n",
    " 'Damaged/Knocked Over Pole',\n",
    " 'Dead Animal',\n",
    " 'Development Services - Code Enforcement',\n",
    " 'Drain Inlet',\n",
    " 'Encampment',\n",
    " 'Encroachment',\n",
    " 'Environmental Services Code Compliance',\n",
    " 'Fallen/Hanging Tree Limb',\n",
    " 'Flashing Traffic Signal Lights',\n",
    " 'Graffiti Removal',\n",
    " 'Graffiti Removal - Commercial',\n",
    " 'Illegal Dumping',\n",
    " 'Litter',\n",
    " 'Missed Collection',\n",
    " 'Other',\n",
    " 'Oversized Vehicle',\n",
    " 'Parking',\n",
    " 'Parking Zone Violation',\n",
    " 'Pavement Maintenance',\n",
    " 'Potential Missed Collection',\n",
    " 'Pothole',\n",
    " 'Quality of Life Issues',\n",
    " 'ROW Maintenance',\n",
    " 'Resurfacing Evaluation',\n",
    " 'Right-of-Way Code Enforcement',\n",
    " 'Shared Mobility Device',\n",
    " 'Sidewalk Repair Issue',\n",
    " 'Stormwater',\n",
    " 'Stormwater Code Enforcement',\n",
    " 'Stormwater Pollution Prevention',\n",
    " 'Street Flooded',\n",
    " 'Street Light Maintenance',\n",
    " 'Street Light Out of Service',\n",
    " 'Street Sweeping',\n",
    " 'Traffic Engineering',\n",
    " 'Traffic Sign Maintenance',\n",
    " 'Traffic Signal Issue',\n",
    " 'Traffic Signal Out of Service',\n",
    " 'Traffic Signal Timing',\n",
    " 'Trash/Recycling Collection',\n",
    " 'Tree Maintenance',\n",
    " 'Tree Removal',\n",
    " 'Tree Trimming for Pedestrian/Vehicle Clearance',\n",
    " 'Trimming Request',\n",
    " 'Vegetation Encroachment',\n",
    " 'Waste on Private Property',\n",
    " 'Weed Cleanup']\n",
    "results_df"
   ]
  },
  {
   "cell_type": "code",
   "execution_count": null,
   "id": "92195abd-977d-481e-a66e-821802e32361",
   "metadata": {
    "tags": []
   },
   "outputs": [],
   "source": [
    "#return column where value is that above\n",
    "j = 0\n",
    "max_col = []\n",
    "\n",
    "for j in range(100):\n",
    "\n",
    "    i=0\n",
    "\n",
    "\n",
    "    while i < results_df.shape[1]:\n",
    "        if results_df.iloc[j,i] == results_df.iloc[j,:].max():\n",
    "            max_col.append(list(results_df.columns)[i])\n",
    "        i += 1"
   ]
  },
  {
   "cell_type": "code",
   "execution_count": null,
   "id": "8950cfdf-bfc4-424a-8598-0b6110d9abc4",
   "metadata": {
    "tags": []
   },
   "outputs": [],
   "source": [
    "max_col"
   ]
  },
  {
   "cell_type": "code",
   "execution_count": null,
   "id": "b7196a11-e016-4234-bcea-6f0adb99f430",
   "metadata": {},
   "outputs": [],
   "source": [
    "test_df = pd.DataFrame(test_data).head(100)"
   ]
  },
  {
   "cell_type": "code",
   "execution_count": null,
   "id": "98225a09-6110-4140-93d9-a6375b70356b",
   "metadata": {},
   "outputs": [],
   "source": [
    "test_df['prediction'] = max_col"
   ]
  },
  {
   "cell_type": "code",
   "execution_count": null,
   "id": "672dc0b4-de59-415d-850f-2fa494e0bfc9",
   "metadata": {},
   "outputs": [],
   "source": [
    "test_df.sample(10)"
   ]
  },
  {
   "cell_type": "code",
   "execution_count": null,
   "id": "ac776260-ca7e-4061-a158-332eaa1ae67e",
   "metadata": {},
   "outputs": [],
   "source": [
    "from sklearn.metrics import classification_report"
   ]
  },
  {
   "cell_type": "code",
   "execution_count": null,
   "id": "78dabbfd-bfc1-47ee-82b8-6f8b9758fd90",
   "metadata": {},
   "outputs": [],
   "source": [
    "print(classification_report(test_labels.numpy().argmax(axis=1), y_pred.argmax(axis=1), zero_division = 1))"
   ]
  },
  {
   "cell_type": "code",
   "execution_count": null,
   "id": "9382b4d1-abb7-46ec-92e7-3e246e84e40f",
   "metadata": {},
   "outputs": [],
   "source": [
    "from sklearn.metrics import confusion_matrix\n",
    "confusion_matrix(test_labels.numpy().argmax(axis=1), y_pred.argmax(axis=1))"
   ]
  },
  {
   "cell_type": "code",
   "execution_count": null,
   "id": "184c02fd-8980-443b-a35d-9d9c8a7dc2ab",
   "metadata": {},
   "outputs": [],
   "source": [
    "model.save('../data/tf_model_20.pkl')"
   ]
  },
  {
   "cell_type": "code",
   "execution_count": null,
   "id": "866a7090-3611-40e2-9b1f-c9ae8b07900b",
   "metadata": {},
   "outputs": [],
   "source": []
  }
 ],
 "metadata": {
  "kernelspec": {
   "display_name": "Python 3 (ipykernel)",
   "language": "python",
   "name": "python3"
  },
  "language_info": {
   "codemirror_mode": {
    "name": "ipython",
    "version": 3
   },
   "file_extension": ".py",
   "mimetype": "text/x-python",
   "name": "python",
   "nbconvert_exporter": "python",
   "pygments_lexer": "ipython3",
   "version": "3.9.12"
  }
 },
 "nbformat": 4,
 "nbformat_minor": 5
}
