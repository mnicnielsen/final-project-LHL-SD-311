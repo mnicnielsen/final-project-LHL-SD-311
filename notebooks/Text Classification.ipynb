{
 "cells": [
  {
   "cell_type": "markdown",
   "id": "39f4264d-ab15-4503-b90d-d78d85271dca",
   "metadata": {
    "tags": []
   },
   "source": [
    "# Tensoflow NLP Model for Text Classification"
   ]
  },
  {
   "cell_type": "markdown",
   "id": "603d644c-7783-4f5f-b392-0865a6de92bb",
   "metadata": {},
   "source": [
    "## Imports"
   ]
  },
  {
   "cell_type": "code",
   "execution_count": 1,
   "id": "eda95c3b-eded-4950-addb-02536ef18f13",
   "metadata": {},
   "outputs": [],
   "source": [
    "import pandas as pd\n",
    "import numpy as np\n",
    "from matplotlib import pyplot as plt\n",
    "import seaborn as sns\n",
    "from datetime import datetime\n",
    "from sklearn.model_selection import train_test_split"
   ]
  },
  {
   "cell_type": "markdown",
   "id": "f93e5afd-acf6-4314-8f65-5d530bdb60e1",
   "metadata": {},
   "source": [
    "## Pre-Processing"
   ]
  },
  {
   "cell_type": "code",
   "execution_count": 2,
   "id": "89cee9e1-0bb3-4624-824f-88c0a25ae4f2",
   "metadata": {},
   "outputs": [],
   "source": [
    "#load dataset\n",
    "requests = pd.read_csv('../data/2021_closed_requests.csv', low_memory=False)"
   ]
  },
  {
   "cell_type": "code",
   "execution_count": 3,
   "id": "674e3c4b-bd84-4424-a791-fd8a949bcd77",
   "metadata": {},
   "outputs": [],
   "source": [
    "#split train and test data\n",
    "(requests_train, requests_test) = train_test_split(requests, test_size = 0.2, random_state = 42)"
   ]
  },
  {
   "cell_type": "code",
   "execution_count": 4,
   "id": "09c5aebe-f300-465d-8f64-4ac16a30fe5e",
   "metadata": {},
   "outputs": [
    {
     "data": {
      "text/plain": [
       "(256344, 23)"
      ]
     },
     "execution_count": 4,
     "metadata": {},
     "output_type": "execute_result"
    }
   ],
   "source": [
    "#drop rows which are duplicate requests - so drop all rows with a value in the service_request_parent_id columns, only keep nulls\n",
    "requests_train['service_request_parent_id'].fillna(0, inplace = True)\n",
    "requests_train = requests_train[requests_train['service_request_parent_id'] == 0]\n",
    "requests_train.shape"
   ]
  },
  {
   "cell_type": "code",
   "execution_count": 5,
   "id": "99b1cf5c-1ef1-4f82-8700-09a9020fd2c5",
   "metadata": {},
   "outputs": [],
   "source": [
    "# drop service_request_parent_id\n",
    "requests_train.drop(labels='service_request_parent_id', axis=1, inplace=True)"
   ]
  },
  {
   "cell_type": "code",
   "execution_count": 6,
   "id": "1dc67cf7-8f5f-4694-bb59-6e4f4248b950",
   "metadata": {},
   "outputs": [],
   "source": [
    "#drop SAP notification column\n",
    "requests_train.drop(labels = 'sap_notification_number', axis=1, inplace=True)"
   ]
  },
  {
   "cell_type": "code",
   "execution_count": 7,
   "id": "4d22ba6f-63a5-4089-9624-bcc4d6acba0a",
   "metadata": {},
   "outputs": [],
   "source": [
    "#drop date columns\n",
    "requests_train.drop(labels = ['date_requested', 'case_age_days', 'date_closed'], axis=1, inplace=True)"
   ]
  },
  {
   "cell_type": "code",
   "execution_count": 8,
   "id": "6107e0b5-0ebf-4eaa-be32-7c3b3321d56a",
   "metadata": {},
   "outputs": [],
   "source": [
    "#drop case_record_type\n",
    "requests_train.drop(labels = 'case_record_type', axis=1, inplace=True)"
   ]
  },
  {
   "cell_type": "code",
   "execution_count": 9,
   "id": "e37748a5-ea99-471c-bb6c-52f767be05c3",
   "metadata": {},
   "outputs": [],
   "source": [
    "# change the strings that say 'nan' in service_name_detail to null values\n",
    "requests_train['service_name_detail'] = np.where(requests_train['service_name_detail'] == 'nan', None, requests_train['service_name_detail'])"
   ]
  },
  {
   "cell_type": "code",
   "execution_count": 10,
   "id": "80080e08-957a-41ba-be9c-a740dbc60ae9",
   "metadata": {},
   "outputs": [],
   "source": [
    "#drop status column\n",
    "requests_train.drop(labels = 'status', axis=1, inplace=True)"
   ]
  },
  {
   "cell_type": "code",
   "execution_count": 11,
   "id": "2e8e9b06-4d6d-44b3-affa-09ca6e91f965",
   "metadata": {},
   "outputs": [
    {
     "data": {
      "text/plain": [
       "(253970, 16)"
      ]
     },
     "execution_count": 11,
     "metadata": {},
     "output_type": "execute_result"
    }
   ],
   "source": [
    "#drop those with no council district listed\n",
    "requests_train = requests_train.dropna(subset=['council_district'])\n",
    "requests_train.shape"
   ]
  },
  {
   "cell_type": "code",
   "execution_count": 12,
   "id": "82f225c3-3f83-44cf-81ac-d9b3606f2cd3",
   "metadata": {},
   "outputs": [],
   "source": [
    "#drop all location columns\n",
    "requests_train.drop(labels = ['council_district', 'lat', 'lng', 'street_address', 'zipcode'], axis=1, inplace=True)"
   ]
  },
  {
   "cell_type": "code",
   "execution_count": 13,
   "id": "4377f7b0-84c3-4968-adb7-0bdc792a330e",
   "metadata": {},
   "outputs": [],
   "source": [
    "# delete comm_plan_code and comm_plan_name columns\n",
    "requests_train.drop(labels=['comm_plan_code', 'comm_plan_name'], axis=1, inplace=True)"
   ]
  },
  {
   "cell_type": "code",
   "execution_count": 14,
   "id": "bb2c4b0d-e405-4607-9be3-606fc343de0e",
   "metadata": {},
   "outputs": [],
   "source": [
    "# drop park_name column\n",
    "requests_train.drop(labels=['park_name'], axis=1, inplace=True)"
   ]
  },
  {
   "cell_type": "code",
   "execution_count": 15,
   "id": "3ac0e387-6956-4d96-8be2-32c081770f25",
   "metadata": {},
   "outputs": [
    {
     "data": {
      "text/plain": [
       "(219488, 8)"
      ]
     },
     "execution_count": 15,
     "metadata": {},
     "output_type": "execute_result"
    }
   ],
   "source": [
    "# only keep rows with the following case_origin: Mobile, Web, Phone\n",
    "requests_train = requests_train[(requests_train['case_origin'] == 'Mobile') | (requests_train['case_origin'] == 'Web') | (requests_train['case_origin'] == 'Phone')]\n",
    "requests_train.shape"
   ]
  },
  {
   "cell_type": "code",
   "execution_count": 16,
   "id": "a2548424-ecb1-4e44-af54-5e389448c165",
   "metadata": {},
   "outputs": [],
   "source": [
    "# drop case origin column\n",
    "requests_train.drop(labels=['case_origin'], axis=1, inplace=True)"
   ]
  },
  {
   "cell_type": "code",
   "execution_count": 17,
   "id": "3a2994e2-2514-42de-874b-d558a2a96a46",
   "metadata": {},
   "outputs": [],
   "source": [
    "# drop referred column\n",
    "requests_train.drop(labels=['referred'], axis=1, inplace=True)"
   ]
  },
  {
   "cell_type": "code",
   "execution_count": 18,
   "id": "0c12bf99-f586-41e2-8a09-e4f80768b9f0",
   "metadata": {},
   "outputs": [],
   "source": [
    "# drop floc and iamfloc columns\n",
    "requests_train.drop(labels=['floc', 'iamfloc'], axis=1, inplace=True)"
   ]
  },
  {
   "cell_type": "code",
   "execution_count": 19,
   "id": "45627400-f0ae-4fc6-91af-aa62c8cb3816",
   "metadata": {},
   "outputs": [
    {
     "data": {
      "text/html": [
       "<div>\n",
       "<style scoped>\n",
       "    .dataframe tbody tr th:only-of-type {\n",
       "        vertical-align: middle;\n",
       "    }\n",
       "\n",
       "    .dataframe tbody tr th {\n",
       "        vertical-align: top;\n",
       "    }\n",
       "\n",
       "    .dataframe thead th {\n",
       "        text-align: right;\n",
       "    }\n",
       "</style>\n",
       "<table border=\"1\" class=\"dataframe\">\n",
       "  <thead>\n",
       "    <tr style=\"text-align: right;\">\n",
       "      <th></th>\n",
       "      <th>service_request_id</th>\n",
       "      <th>service_name</th>\n",
       "      <th>service_name_detail</th>\n",
       "      <th>public_description</th>\n",
       "    </tr>\n",
       "  </thead>\n",
       "  <tbody>\n",
       "    <tr>\n",
       "      <th>164116</th>\n",
       "      <td>3359023</td>\n",
       "      <td>Missed Collection</td>\n",
       "      <td>Missed Collection</td>\n",
       "      <td>They just didn't pick it up.  The bin was plac...</td>\n",
       "    </tr>\n",
       "    <tr>\n",
       "      <th>215343</th>\n",
       "      <td>3420859</td>\n",
       "      <td>Missed Collection</td>\n",
       "      <td>Missed Collection</td>\n",
       "      <td>Missed recycling</td>\n",
       "    </tr>\n",
       "  </tbody>\n",
       "</table>\n",
       "</div>"
      ],
      "text/plain": [
       "        service_request_id       service_name service_name_detail  \\\n",
       "164116             3359023  Missed Collection   Missed Collection   \n",
       "215343             3420859  Missed Collection   Missed Collection   \n",
       "\n",
       "                                       public_description  \n",
       "164116  They just didn't pick it up.  The bin was plac...  \n",
       "215343                                   Missed recycling  "
      ]
     },
     "execution_count": 19,
     "metadata": {},
     "output_type": "execute_result"
    }
   ],
   "source": [
    "requests_train.head(2)"
   ]
  },
  {
   "cell_type": "code",
   "execution_count": 20,
   "id": "45cb63a3-36b6-4555-838f-c76833ffb5e1",
   "metadata": {},
   "outputs": [
    {
     "data": {
      "text/plain": [
       "(202027, 4)"
      ]
     },
     "execution_count": 20,
     "metadata": {},
     "output_type": "execute_result"
    }
   ],
   "source": [
    "# drop all values with no public description\n",
    "requests_train = requests_train.dropna(subset=['public_description'])\n",
    "requests_train.shape"
   ]
  },
  {
   "cell_type": "code",
   "execution_count": 21,
   "id": "ee396c85-a7aa-4476-9ed2-828df88239c7",
   "metadata": {},
   "outputs": [
    {
     "data": {
      "text/plain": [
       "32"
      ]
     },
     "execution_count": 21,
     "metadata": {},
     "output_type": "execute_result"
    }
   ],
   "source": [
    "requests_train\n",
    "#Find number of unique values in service_name\n",
    "len(np.unique(requests_train['service_name']))"
   ]
  },
  {
   "cell_type": "code",
   "execution_count": 22,
   "id": "f38a4e1a-2a9a-4a84-957f-20ad96679a23",
   "metadata": {},
   "outputs": [],
   "source": [
    "# service_name_details_to_keep = ['Missed Collection', 'Graffiti Removal', '72 Hour Violation', \n",
    "#                                 'Illegal Dumping', 'Parking Zone Violation', \n",
    "#                                 'Graffiti Removal - Commercial', 'STREET LIGHT OUT', \n",
    "#                                 'Potential Missed Collection', 'CONCRETE SIDEWALK REPAIR ISSUE', \n",
    "#                                 'LIGHTS OUT', 'SWPP - Storm Water Polution Prevention', \n",
    "#                                 'EVALUATE TREE FOR REMOVAL', 'LIGHTS ON FLASH', 'POLE KNOCK OVER/DAMAGE', \n",
    "#                                 'LIMB FALLEN OR HANGING', 'Container Left Out', 'Vegetation Encroachment', \n",
    "#                                 'Encroachment', 'DRAIN INLET', 'Litter', 'Out Late', 'CONTRACTUAL TRIMMING', \n",
    "#                                 'EVALUATE FOR RESURFACING/SLURRY', 'Quality of Life Issues', \n",
    "#                                 'TRIM TREE FOR PEDS/VEHICLE CLEARANCE', 'TRAFFIC MAINTENANCE - OTHER', \n",
    "#                                 'PAINT CURB - MAINTENANCE', 'DAMAGED CURB', 'MINOR ASPHALT REPAIR',  \n",
    "#                                 'TRAFFIC OPERATIONS CURB DESIGNATION EVALUATIONS', 'TREE FALLEN', \n",
    "#                                 'GUARDRAILS/BARRIER METAL/WOODEN', 'Street Litter Container', 'PALM FRONDS DOWN', \n",
    "#                                 'PAINT STRIPING - MAINTENANCE',  'TRAFFIC OPERATIONS TRAFFIC CALMING/SAFETY FEATURES', \n",
    "#                                 'SIGNAL FACING WRONG DIRECTION', 'SIDEWALK MINOR REHAB CONTRACT', 'INVESTIGATE', \n",
    "#                                 'TRIM TREE - BLOCKING TRAFFIC DEVICE', 'ASPHALT PAVEMENT REPAIR ISSUE',  \n",
    "#                                 'TRAFFIC OPERATIONS SIGNAGE EVALUATIONS', 'LIGHT ON DURING THE DAY', 'Citizen Contact', \n",
    "#                                 'CHAIN LINK FENCE REPAIR', 'DRAINAGE DITCH', 'FREE TREE PLANTING REQUEST', 'Container Overflow', \n",
    "#                                 'TRAFFIC SIGNAL STRIPING/SIGNAGE REVIEW', 'SIDEWALK LIFTED']"
   ]
  },
  {
   "cell_type": "code",
   "execution_count": 23,
   "id": "36ee4ea9-0271-4981-b029-96edee1de09c",
   "metadata": {},
   "outputs": [],
   "source": [
    "all_details = list(np.unique(requests_train['service_name_detail'].dropna()))"
   ]
  },
  {
   "cell_type": "code",
   "execution_count": 24,
   "id": "49ae6c6e-3adc-468e-a9c1-960002aef25e",
   "metadata": {},
   "outputs": [
    {
     "data": {
      "text/plain": [
       "142"
      ]
     },
     "execution_count": 24,
     "metadata": {},
     "output_type": "execute_result"
    }
   ],
   "source": [
    "len(all_details)"
   ]
  },
  {
   "cell_type": "code",
   "execution_count": 25,
   "id": "7f18e3b3-6719-42f6-af1b-a78846a26872",
   "metadata": {},
   "outputs": [],
   "source": [
    "requests_train['detailed_type'] = np.where(requests_train['service_name_detail'].isin(all_details) == True, \n",
    "                                        requests_train['service_name_detail'], \n",
    "                                        requests_train['service_name'])"
   ]
  },
  {
   "cell_type": "code",
   "execution_count": 26,
   "id": "fe499662-1e54-4746-9da6-a8ce749e763a",
   "metadata": {},
   "outputs": [
    {
     "data": {
      "text/plain": [
       "162"
      ]
     },
     "execution_count": 26,
     "metadata": {},
     "output_type": "execute_result"
    }
   ],
   "source": [
    "len(np.unique(requests_train['detailed_type']))"
   ]
  },
  {
   "cell_type": "code",
   "execution_count": 27,
   "id": "77514136-930a-41a3-a430-ebd8d550b617",
   "metadata": {},
   "outputs": [],
   "source": [
    "# #Find number of unique values\n",
    "# len(np.unique(requests_train['detailed_type']))"
   ]
  },
  {
   "cell_type": "code",
   "execution_count": 28,
   "id": "e27ab520-3135-4cdc-acd8-e32cb9219a0c",
   "metadata": {},
   "outputs": [],
   "source": [
    "# requests_train['detailed_type'].value_counts().tail(20)"
   ]
  },
  {
   "cell_type": "code",
   "execution_count": 29,
   "id": "d21aef2a-1def-4458-92bb-153d35865641",
   "metadata": {},
   "outputs": [
    {
     "data": {
      "text/plain": [
       "Missed Collection                         29884\n",
       "72 Hour Violation                         21682\n",
       "Encampment                                21028\n",
       "Graffiti Removal                          19995\n",
       "Shared Mobility Device                    15804\n",
       "                                          ...  \n",
       " BICYCLE FACILITIES DESIGN                    1\n",
       "MILL & PAVE TRENCH REPAIRS                    1\n",
       " CIP EVALUATE FOR STREET WIDENING             1\n",
       "RESTORE CONCRETE UTILITY TRENCH               1\n",
       "DEFINE SCOPE FOR SW MJR REHAB CONTRACT        1\n",
       "Name: detailed_type, Length: 162, dtype: int64"
      ]
     },
     "execution_count": 29,
     "metadata": {},
     "output_type": "execute_result"
    }
   ],
   "source": [
    "requests_train['detailed_type'].value_counts()"
   ]
  },
  {
   "cell_type": "code",
   "execution_count": 30,
   "id": "bf7889c5-3f12-423a-9b3b-f2122d862b68",
   "metadata": {},
   "outputs": [],
   "source": [
    "# drop service_name and service_name_detail\n",
    "requests_train.drop(labels=['service_name', 'service_name_detail'], axis=1, inplace=True)"
   ]
  },
  {
   "cell_type": "code",
   "execution_count": 31,
   "id": "0539c06a-8a38-44f7-be03-9c60729b492f",
   "metadata": {},
   "outputs": [
    {
     "data": {
      "text/html": [
       "<div>\n",
       "<style scoped>\n",
       "    .dataframe tbody tr th:only-of-type {\n",
       "        vertical-align: middle;\n",
       "    }\n",
       "\n",
       "    .dataframe tbody tr th {\n",
       "        vertical-align: top;\n",
       "    }\n",
       "\n",
       "    .dataframe thead th {\n",
       "        text-align: right;\n",
       "    }\n",
       "</style>\n",
       "<table border=\"1\" class=\"dataframe\">\n",
       "  <thead>\n",
       "    <tr style=\"text-align: right;\">\n",
       "      <th></th>\n",
       "      <th>service_request_id</th>\n",
       "      <th>public_description</th>\n",
       "      <th>detailed_type</th>\n",
       "    </tr>\n",
       "  </thead>\n",
       "  <tbody>\n",
       "    <tr>\n",
       "      <th>91433</th>\n",
       "      <td>3271508</td>\n",
       "      <td>This car hasn't been moved for the better part...</td>\n",
       "      <td>72 Hour Violation</td>\n",
       "    </tr>\n",
       "    <tr>\n",
       "      <th>234638</th>\n",
       "      <td>3444668</td>\n",
       "      <td>Illegal encampment area is known for the use o...</td>\n",
       "      <td>Encampment</td>\n",
       "    </tr>\n",
       "    <tr>\n",
       "      <th>93938</th>\n",
       "      <td>3274554</td>\n",
       "      <td>Trash was not collected from my residence</td>\n",
       "      <td>Missed Collection</td>\n",
       "    </tr>\n",
       "    <tr>\n",
       "      <th>321911</th>\n",
       "      <td>3559602</td>\n",
       "      <td>Translated: Graffiti... graciela</td>\n",
       "      <td>Graffiti Removal</td>\n",
       "    </tr>\n",
       "    <tr>\n",
       "      <th>339350</th>\n",
       "      <td>3585038</td>\n",
       "      <td>Broken stop sign</td>\n",
       "      <td>Traffic Sign Maintenance</td>\n",
       "    </tr>\n",
       "    <tr>\n",
       "      <th>239010</th>\n",
       "      <td>3450192</td>\n",
       "      <td>Homeless camp on side of road</td>\n",
       "      <td>Encampment</td>\n",
       "    </tr>\n",
       "    <tr>\n",
       "      <th>69261</th>\n",
       "      <td>3244382</td>\n",
       "      <td>Missed garbage pickup. Others missing as well.</td>\n",
       "      <td>Potential Missed Collection</td>\n",
       "    </tr>\n",
       "    <tr>\n",
       "      <th>103606</th>\n",
       "      <td>3286117</td>\n",
       "      <td>Car has been parked on street for over a month...</td>\n",
       "      <td>72 Hour Violation</td>\n",
       "    </tr>\n",
       "    <tr>\n",
       "      <th>177185</th>\n",
       "      <td>3374761</td>\n",
       "      <td>Trash at north park entrance by homeless</td>\n",
       "      <td>Encampment</td>\n",
       "    </tr>\n",
       "    <tr>\n",
       "      <th>357247</th>\n",
       "      <td>3614855</td>\n",
       "      <td>Trash</td>\n",
       "      <td>Shared Mobility Device</td>\n",
       "    </tr>\n",
       "  </tbody>\n",
       "</table>\n",
       "</div>"
      ],
      "text/plain": [
       "        service_request_id                                 public_description  \\\n",
       "91433              3271508  This car hasn't been moved for the better part...   \n",
       "234638             3444668  Illegal encampment area is known for the use o...   \n",
       "93938              3274554          Trash was not collected from my residence   \n",
       "321911             3559602                   Translated: Graffiti... graciela   \n",
       "339350             3585038                                   Broken stop sign   \n",
       "239010             3450192                      Homeless camp on side of road   \n",
       "69261              3244382     Missed garbage pickup. Others missing as well.   \n",
       "103606             3286117  Car has been parked on street for over a month...   \n",
       "177185             3374761           Trash at north park entrance by homeless   \n",
       "357247             3614855                                              Trash   \n",
       "\n",
       "                      detailed_type  \n",
       "91433             72 Hour Violation  \n",
       "234638                   Encampment  \n",
       "93938             Missed Collection  \n",
       "321911             Graffiti Removal  \n",
       "339350     Traffic Sign Maintenance  \n",
       "239010                   Encampment  \n",
       "69261   Potential Missed Collection  \n",
       "103606            72 Hour Violation  \n",
       "177185                   Encampment  \n",
       "357247       Shared Mobility Device  "
      ]
     },
     "execution_count": 31,
     "metadata": {},
     "output_type": "execute_result"
    }
   ],
   "source": [
    "requests_train.sample(10)"
   ]
  },
  {
   "cell_type": "code",
   "execution_count": 32,
   "id": "e390e6fb-3899-4723-a78e-85755f13174f",
   "metadata": {},
   "outputs": [],
   "source": [
    "vectorized_len = np.vectorize(len)"
   ]
  },
  {
   "cell_type": "code",
   "execution_count": 33,
   "id": "67b8b8c3-2251-4a1a-9ce1-4bea96043b8a",
   "metadata": {},
   "outputs": [],
   "source": [
    "requests_train['length_description'] = vectorized_len(requests_train['public_description'])"
   ]
  },
  {
   "cell_type": "code",
   "execution_count": 34,
   "id": "cebae3e5-da28-4875-95f7-bb6e262d7867",
   "metadata": {},
   "outputs": [],
   "source": [
    "# len(requests_train[requests_train['length_description'] < 20])"
   ]
  },
  {
   "cell_type": "code",
   "execution_count": 35,
   "id": "6280c165-d351-43a9-b249-e09e17a10b75",
   "metadata": {},
   "outputs": [],
   "source": [
    "# requests_train = requests_train[requests_train['length_description'] >= 7]"
   ]
  },
  {
   "cell_type": "markdown",
   "id": "32e5b78c-28de-468a-a437-977e100c9c83",
   "metadata": {},
   "source": [
    "## Tensorflow Model"
   ]
  },
  {
   "cell_type": "markdown",
   "id": "9c867814-2307-439c-9b18-9b8696172405",
   "metadata": {},
   "source": [
    "### Imports"
   ]
  },
  {
   "cell_type": "code",
   "execution_count": 36,
   "id": "035c470b-7fc3-42dd-a477-58c9fdc8b338",
   "metadata": {},
   "outputs": [],
   "source": [
    "from __future__ import absolute_import, division, print_function, unicode_literals\n",
    "\n",
    "import tensorflow as tf\n",
    "\n",
    "import os\n",
    "import datetime\n",
    "import tensorflow_hub as hub"
   ]
  },
  {
   "cell_type": "code",
   "execution_count": 37,
   "id": "e9016c86-4fcc-40b5-befb-f3d2b0612263",
   "metadata": {},
   "outputs": [],
   "source": [
    "pd.set_option('display.max_colwidth', None)"
   ]
  },
  {
   "cell_type": "code",
   "execution_count": 38,
   "id": "a668b477-604e-47bb-ba27-99c443d17bcd",
   "metadata": {},
   "outputs": [
    {
     "data": {
      "text/html": [
       "<div>\n",
       "<style scoped>\n",
       "    .dataframe tbody tr th:only-of-type {\n",
       "        vertical-align: middle;\n",
       "    }\n",
       "\n",
       "    .dataframe tbody tr th {\n",
       "        vertical-align: top;\n",
       "    }\n",
       "\n",
       "    .dataframe thead th {\n",
       "        text-align: right;\n",
       "    }\n",
       "</style>\n",
       "<table border=\"1\" class=\"dataframe\">\n",
       "  <thead>\n",
       "    <tr style=\"text-align: right;\">\n",
       "      <th></th>\n",
       "      <th>service_request_id</th>\n",
       "      <th>public_description</th>\n",
       "      <th>detailed_type</th>\n",
       "      <th>length_description</th>\n",
       "    </tr>\n",
       "  </thead>\n",
       "  <tbody>\n",
       "    <tr>\n",
       "      <th>222007</th>\n",
       "      <td>3428768</td>\n",
       "      <td>Dead palm tree from weevils. Poses a hazard to pedestrians.</td>\n",
       "      <td>EVALUATE TREE FOR REMOVAL</td>\n",
       "      <td>59</td>\n",
       "    </tr>\n",
       "    <tr>\n",
       "      <th>197197</th>\n",
       "      <td>3399178</td>\n",
       "      <td>homeless camp</td>\n",
       "      <td>Dead Animal</td>\n",
       "      <td>13</td>\n",
       "    </tr>\n",
       "    <tr>\n",
       "      <th>7139</th>\n",
       "      <td>3001358</td>\n",
       "      <td>Sidewalk on north side of  Palm, maybe 30 feet from light to turn right onto Saturn- someone pulled up a big chunk of the broken sidewalk and left laying there.</td>\n",
       "      <td>CONCRETE SIDEWALK REPAIR ISSUE</td>\n",
       "      <td>160</td>\n",
       "    </tr>\n",
       "    <tr>\n",
       "      <th>170365</th>\n",
       "      <td>3366531</td>\n",
       "      <td>ADA laying down all night BIRD</td>\n",
       "      <td>Shared Mobility Device</td>\n",
       "      <td>30</td>\n",
       "    </tr>\n",
       "    <tr>\n",
       "      <th>201305</th>\n",
       "      <td>3403983</td>\n",
       "      <td>Shady Oak Rd between Brookhaven Rd. &amp; Windward St.  Potholes need to be filled.</td>\n",
       "      <td>Pothole</td>\n",
       "      <td>79</td>\n",
       "    </tr>\n",
       "    <tr>\n",
       "      <th>323941</th>\n",
       "      <td>3562493</td>\n",
       "      <td>Parking issue</td>\n",
       "      <td>Parking Zone Violation</td>\n",
       "      <td>13</td>\n",
       "    </tr>\n",
       "    <tr>\n",
       "      <th>29558</th>\n",
       "      <td>3195885</td>\n",
       "      <td>Graffiti all down wall</td>\n",
       "      <td>Graffiti Removal</td>\n",
       "      <td>22</td>\n",
       "    </tr>\n",
       "    <tr>\n",
       "      <th>41558</th>\n",
       "      <td>3210784</td>\n",
       "      <td>Outside the old at&amp;t building across from the old yummy buffet</td>\n",
       "      <td>Illegal Dumping</td>\n",
       "      <td>62</td>\n",
       "    </tr>\n",
       "    <tr>\n",
       "      <th>181674</th>\n",
       "      <td>3380195</td>\n",
       "      <td>Graffiti on light pole on Howard Avenue near entrance to sprouts parking lot</td>\n",
       "      <td>Graffiti Removal</td>\n",
       "      <td>76</td>\n",
       "    </tr>\n",
       "    <tr>\n",
       "      <th>295399</th>\n",
       "      <td>3523512</td>\n",
       "      <td>Graffiti on bus stop bench</td>\n",
       "      <td>Graffiti Removal</td>\n",
       "      <td>26</td>\n",
       "    </tr>\n",
       "  </tbody>\n",
       "</table>\n",
       "</div>"
      ],
      "text/plain": [
       "        service_request_id  \\\n",
       "222007             3428768   \n",
       "197197             3399178   \n",
       "7139               3001358   \n",
       "170365             3366531   \n",
       "201305             3403983   \n",
       "323941             3562493   \n",
       "29558              3195885   \n",
       "41558              3210784   \n",
       "181674             3380195   \n",
       "295399             3523512   \n",
       "\n",
       "                                                                                                                                                      public_description  \\\n",
       "222007                                                                                                       Dead palm tree from weevils. Poses a hazard to pedestrians.   \n",
       "197197                                                                                                                                                     homeless camp   \n",
       "7139    Sidewalk on north side of  Palm, maybe 30 feet from light to turn right onto Saturn- someone pulled up a big chunk of the broken sidewalk and left laying there.   \n",
       "170365                                                                                                                                    ADA laying down all night BIRD   \n",
       "201305                                                                                   Shady Oak Rd between Brookhaven Rd. & Windward St.  Potholes need to be filled.   \n",
       "323941                                                                                                                                                     Parking issue   \n",
       "29558                                                                                                                                             Graffiti all down wall   \n",
       "41558                                                                                                     Outside the old at&t building across from the old yummy buffet   \n",
       "181674                                                                                      Graffiti on light pole on Howard Avenue near entrance to sprouts parking lot   \n",
       "295399                                                                                                                                        Graffiti on bus stop bench   \n",
       "\n",
       "                         detailed_type  length_description  \n",
       "222007       EVALUATE TREE FOR REMOVAL                  59  \n",
       "197197                     Dead Animal                  13  \n",
       "7139    CONCRETE SIDEWALK REPAIR ISSUE                 160  \n",
       "170365          Shared Mobility Device                  30  \n",
       "201305                         Pothole                  79  \n",
       "323941          Parking Zone Violation                  13  \n",
       "29558                 Graffiti Removal                  22  \n",
       "41558                  Illegal Dumping                  62  \n",
       "181674                Graffiti Removal                  76  \n",
       "295399                Graffiti Removal                  26  "
      ]
     },
     "execution_count": 38,
     "metadata": {},
     "output_type": "execute_result"
    }
   ],
   "source": [
    "requests_train.sample(10)"
   ]
  },
  {
   "cell_type": "code",
   "execution_count": 39,
   "id": "f85de6bf-3294-41f3-8c48-4ec983e38e16",
   "metadata": {},
   "outputs": [],
   "source": [
    "X_train, X_test = train_test_split(requests_train, test_size=0.2, random_state=42)"
   ]
  },
  {
   "cell_type": "code",
   "execution_count": 40,
   "id": "ed890d26-12fb-411b-8fcb-1d50996f04f1",
   "metadata": {},
   "outputs": [],
   "source": [
    "from sklearn.utils import class_weight"
   ]
  },
  {
   "cell_type": "code",
   "execution_count": 41,
   "id": "ba59450a-dc7b-428d-b713-7211c8c89658",
   "metadata": {},
   "outputs": [],
   "source": [
    "v1 = list(np.unique(requests_train['detailed_type']))"
   ]
  },
  {
   "cell_type": "code",
   "execution_count": 89,
   "id": "cc4d5b01-aa72-49b9-9186-749d90b8089f",
   "metadata": {},
   "outputs": [
    {
     "data": {
      "text/plain": [
       "[' BICYCLE FACILITIES DESIGN',\n",
       " ' BICYCLE FACILITIES EVALUATE FOR MARKINGS',\n",
       " ' BICYCLE FACILITIES EVALUATE FOR RACKS (OR OTHER)',\n",
       " ' BICYCLE FACILITIES EVALUATE FOR SIGNAGE',\n",
       " ' BICYCLE FACILITIES EVALUATE FOR STRIPING',\n",
       " ' BICYCLE FACILITIES GRANTS',\n",
       " ' BICYCLE FACILITIES PLAN CHECK',\n",
       " ' CIP EVALUATE FOR STREET WIDENING',\n",
       " ' CIP FINANCE PLAN UPDATE',\n",
       " ' STREET LIGHT EVALUATE FOR SHIELD',\n",
       " ' TEO WO GUARDRAILS/BARRIER METAL/WOODEN',\n",
       " ' TEO WO PAINT CURB - NEW',\n",
       " ' TEO WO PAINT STRIPING - NEW',\n",
       " ' TEO WO TRAFFIC SIGN - NEW',\n",
       " ' TRAFFIC OPERATIONS CURB DESIGNATION EVALUATIONS',\n",
       " ' TRAFFIC OPERATIONS MARKINGS EVALUATIONS',\n",
       " ' TRAFFIC OPERATIONS PARKING EVALUATIONS',\n",
       " ' TRAFFIC OPERATIONS SIGNAGE EVALUATIONS',\n",
       " ' TRAFFIC OPERATIONS STRIPING EVALUATIONS',\n",
       " ' TRAFFIC OPERATIONS TRAFFIC CALMING/SAFETY FEATURES',\n",
       " ' TRAFFIC OPERATIONS VISIBILITY EVALUATIONS',\n",
       " ' TRAFFIC SAFETY GUARD RAIL REVIEW',\n",
       " ' TRAFFIC SAFETY LEGALITY CHECK',\n",
       " ' TRAFFIC SAFETY PARKING REVIEW',\n",
       " ' TRAFFIC SAFETY RADAR SPEED SURVEY',\n",
       " ' TRAFFIC SAFETY REQUEST FOR INFORMATION',\n",
       " ' TRAFFIC SIGNAL AUDIBLE SIGNAL REVIEW',\n",
       " ' TRAFFIC SIGNAL COORDINATION',\n",
       " ' TRAFFIC SIGNAL PHASING REVIEW',\n",
       " ' TRAFFIC SIGNAL STRIPING/SIGNAGE REVIEW',\n",
       " '--Select Answer--',\n",
       " '72 Hour Violation',\n",
       " 'ASPHALT PAVEMENT REPAIR ISSUE',\n",
       " 'ASPHALT SIDEWALK REPAIR ISSUE',\n",
       " 'AVA',\n",
       " 'BICYCLE FACILITIES MAINTENANCE',\n",
       " 'BIKE MAINT-PAVEMENT IRREGULARITY-ASPHALT',\n",
       " 'BIKE MAINT-TREE/SHRUB ENCROACHMENT',\n",
       " 'BRIDGE/RAILINGS/STAIRS REPAIR',\n",
       " 'BUS PAD INSTALLATION/MAINTENANCE CONTRAC',\n",
       " 'CHAIN LINK FENCE REPAIR',\n",
       " 'CHANNEL',\n",
       " 'CONCRETE CURB RAMPS REPAIR ISSUE',\n",
       " 'CONCRETE PAVEMENT REPAIR ISSUE',\n",
       " 'CONCRETE SIDEWALK REPAIR ISSUE',\n",
       " 'CONTRACTUAL TRIMMING',\n",
       " 'CONVEYANCES',\n",
       " 'COVID-19',\n",
       " 'CROSS GUTTER INSTALLATION/MAINTENANCE',\n",
       " 'CURB RAMP EVAL FOR NEW ADA',\n",
       " 'Citizen Contact',\n",
       " 'Collections Truck Leak',\n",
       " 'Collections Truck Spill',\n",
       " 'Commercial Dumpster Condition',\n",
       " 'Commercial Dumpster Encroachment',\n",
       " 'Community Clean Up',\n",
       " 'Container Left Out',\n",
       " 'Container Overflow',\n",
       " 'DAMAGED CURB',\n",
       " 'DEBRIS FENCE',\n",
       " 'DEFINE SCOPE FOR SW MJR REHAB CONTRACT',\n",
       " 'DEFINE SCOPE PCC MJR REHAB CONTRACT',\n",
       " 'DEFINE SCOPE PCC RECONSTRUCT CONTRACT',\n",
       " 'DRAIN CLEANOUT',\n",
       " 'DRAIN HEADWALL',\n",
       " 'DRAIN INLET',\n",
       " 'DRAIN OUTFALL',\n",
       " 'DRAINAGE CULVERT',\n",
       " 'DRAINAGE DITCH',\n",
       " 'Damage to Private Property',\n",
       " 'Damaged Container',\n",
       " 'Dead Animal',\n",
       " 'Dumpster Overflow',\n",
       " 'EVALUATE FOR RESURFACING/SLURRY',\n",
       " 'EVALUATE FOR SHIELD',\n",
       " 'EVALUATE FOR SIDEWALK CONTRACT',\n",
       " 'EVALUATE TREE FOR REMOVAL',\n",
       " 'Encampment',\n",
       " 'Encroachment',\n",
       " 'FREE TREE PLANTING REQUEST',\n",
       " 'Franchise Encroachment',\n",
       " 'Franchise Hauler Early Collection',\n",
       " 'GUARDRAILS/BARRIER METAL/WOODEN',\n",
       " 'GUARDRAILS/BARRIER METAL/WOODEN MAINT',\n",
       " 'Graffiti',\n",
       " 'Graffiti Removal',\n",
       " 'Graffiti Removal - Commercial',\n",
       " 'Homeless Outreach',\n",
       " 'ILLEGAL TREE TRIM/REMOVAL',\n",
       " 'INVESTIGATE',\n",
       " 'Illegal Construction',\n",
       " 'Illegal Dumping',\n",
       " 'Illegal Use or Activity',\n",
       " 'Inadequate Recycling',\n",
       " 'LIGHT ON DURING THE DAY',\n",
       " 'LIGHT UPGRADE',\n",
       " 'LIGHTS ON FLASH',\n",
       " 'LIGHTS OUT',\n",
       " 'LIMB FALLEN OR HANGING',\n",
       " 'Litter',\n",
       " 'MARKERS/DELINIATORS - MAINTENANCE',\n",
       " 'MILL & PAVE TRENCH REPAIRS',\n",
       " 'MINOR ASPHALT REPAIR',\n",
       " 'Major Contamination in Refuse Container',\n",
       " 'Missed Collection',\n",
       " 'NEW STREET LIGHT',\n",
       " 'NON STRUCTURAL BMP',\n",
       " 'No Recycling',\n",
       " 'Other',\n",
       " 'Out Late',\n",
       " 'Oversized Vehicle',\n",
       " 'Oversized Vehicle Complaints',\n",
       " 'PAINT CURB - MAINTENANCE',\n",
       " 'PAINT LEGEND - MAINTENANCE',\n",
       " 'PAINT STRIPING - MAINTENANCE',\n",
       " 'PALM FRONDS DOWN',\n",
       " 'PIPE',\n",
       " 'POLE KNOCK OVER/DAMAGE',\n",
       " 'PONDING WATER IN GUTTER/STREET',\n",
       " 'Parking',\n",
       " 'Parking Zone Violation',\n",
       " 'Potential Missed Collection',\n",
       " 'Pothole',\n",
       " 'Private Dumpster',\n",
       " 'Quality of Life Issues',\n",
       " 'RESTORE CONCRETE UTILITY TRENCH',\n",
       " 'RESTORE SEWER TRENCH ASPHALT',\n",
       " 'RESTORE WATER TRENCH ASPHALT',\n",
       " 'ROW Maintenance',\n",
       " 'Recycling Contamination',\n",
       " 'SIDEWALK EVALUATION',\n",
       " 'SIDEWALK LIFTED',\n",
       " 'SIDEWALK MINOR REHAB CONTRACT',\n",
       " 'SIGNAL FACING WRONG DIRECTION',\n",
       " 'STORM WATER',\n",
       " 'STREET',\n",
       " 'STREET LIGHT OUT',\n",
       " 'STUMP GRIND CONTRACT',\n",
       " 'SURFACE FLOW ISSUE',\n",
       " 'SWPP - Storm Water Polution Prevention',\n",
       " 'Shared Mobility Device',\n",
       " 'Sidewalk Repair Issue',\n",
       " 'Stolen City Container',\n",
       " 'Stormwater',\n",
       " 'Stormwater Code Enforcement',\n",
       " 'Street Flooded',\n",
       " 'Street Litter Container',\n",
       " 'Street Sweeping',\n",
       " 'TEO-SIGNALS & LIGHTS',\n",
       " 'TRAFFIC MAINTENANCE - OTHER',\n",
       " 'TREE FALLEN',\n",
       " 'TREE INFESTATION - BEES/PESTS',\n",
       " 'TRIM TREE - BLOCKING TRAFFIC DEVICE',\n",
       " 'TRIM TREE FOR PEDS/VEHICLE CLEARANCE',\n",
       " 'Traffic Engineering',\n",
       " 'Traffic Sign Maintenance',\n",
       " 'Traffic Signal Timing',\n",
       " 'Trenches',\n",
       " 'Uncovered Container',\n",
       " 'Vegetation Encroachment',\n",
       " 'Waste on Private Property',\n",
       " 'Weed Cleanup']"
      ]
     },
     "execution_count": 89,
     "metadata": {},
     "output_type": "execute_result"
    }
   ],
   "source": [
    "v1"
   ]
  },
  {
   "cell_type": "code",
   "execution_count": 90,
   "id": "142bd027-8d8e-46ab-b917-8319f6ce675a",
   "metadata": {},
   "outputs": [],
   "source": [
    "v2 = requests_train['detailed_type']"
   ]
  },
  {
   "cell_type": "code",
   "execution_count": 91,
   "id": "5885b77c-3d25-4770-ab6f-9287c96324b0",
   "metadata": {},
   "outputs": [
    {
     "data": {
      "text/plain": [
       "164116         Missed Collection\n",
       "215343         Missed Collection\n",
       "245970           Illegal Dumping\n",
       "241707    Shared Mobility Device\n",
       "358042    Parking Zone Violation\n",
       "                   ...          \n",
       "119879    Shared Mobility Device\n",
       "259178    Shared Mobility Device\n",
       "131932                Encampment\n",
       "146867           Illegal Dumping\n",
       "121958                     Other\n",
       "Name: detailed_type, Length: 202027, dtype: object"
      ]
     },
     "execution_count": 91,
     "metadata": {},
     "output_type": "execute_result"
    }
   ],
   "source": [
    "v2"
   ]
  },
  {
   "cell_type": "code",
   "execution_count": 43,
   "id": "bea7fa13-4009-4250-b20f-759a5a3e2e9b",
   "metadata": {},
   "outputs": [],
   "source": [
    "class_weights = list(class_weight.compute_class_weight(class_weight = 'balanced',\n",
    "                                                       classes= np.unique(requests_train['detailed_type']),\n",
    "                                                      y=requests_train['detailed_type']\n",
    "                                                      ))"
   ]
  },
  {
   "cell_type": "code",
   "execution_count": 44,
   "id": "9fe647b9-bb29-4744-abf4-53d7f90df17c",
   "metadata": {},
   "outputs": [
    {
     "data": {
      "text/plain": [
       "162"
      ]
     },
     "execution_count": 44,
     "metadata": {},
     "output_type": "execute_result"
    }
   ],
   "source": [
    "len(requests_train['detailed_type'].value_counts())"
   ]
  },
  {
   "cell_type": "code",
   "execution_count": 45,
   "id": "31da30fc-6080-40d7-9d85-dc3409726944",
   "metadata": {},
   "outputs": [],
   "source": [
    "class_weights.sort()"
   ]
  },
  {
   "cell_type": "code",
   "execution_count": 86,
   "id": "6132bd7a-9584-4e25-8766-e127636bbb3b",
   "metadata": {},
   "outputs": [
    {
     "data": {
      "text/plain": [
       "[0.04173070027150248,\n",
       " 0.05751684562833596,\n",
       " 0.059305699396689185,\n",
       " 0.06236960474686573,\n",
       " 0.07890915255084664,\n",
       " 0.09971855484675997,\n",
       " 0.10365557700220931,\n",
       " 0.16877523980424688,\n",
       " 0.17062255396272819,\n",
       " 0.3583563927912587,\n",
       " 0.4351291859433288,\n",
       " 0.4477846488020037,\n",
       " 0.4665470433646017,\n",
       " 0.5085971643203835,\n",
       " 0.5431534176452876,\n",
       " 0.5648008364644838,\n",
       " 0.5899149701577958,\n",
       " 0.7535228078027675,\n",
       " 0.7907928008329614,\n",
       " 0.8193694132152302,\n",
       " 0.8308329426472887,\n",
       " 0.8336097907176339,\n",
       " 0.847777190287954,\n",
       " 0.9251337143275817,\n",
       " 0.9607706062508322,\n",
       " 1.00570987654321,\n",
       " 1.0155376603530784,\n",
       " 1.2686472501664092,\n",
       " 1.2843256919810302,\n",
       " 1.4317798472027328,\n",
       " 1.4433799154092364,\n",
       " 1.4863888521020028,\n",
       " 1.5453286826686248,\n",
       " 1.6112147892940314,\n",
       " 1.7153786064836043,\n",
       " 1.9304647785039941,\n",
       " 1.9639059006513075,\n",
       " 2.0244809203142538,\n",
       " 2.389042618608391,\n",
       " 2.6647013822939747,\n",
       " 2.7051632254090676,\n",
       " 2.728840802874355,\n",
       " 2.7961440513757405,\n",
       " 2.906946962502518,\n",
       " 3.0122711278105805,\n",
       " 3.034258508305548,\n",
       " 3.094491927825261,\n",
       " 3.214124347715413,\n",
       " 3.256084195596815,\n",
       " 3.5030344014426413,\n",
       " 4.300276713495104,\n",
       " 4.315156563714811,\n",
       " 4.584853848946986,\n",
       " 4.584853848946986,\n",
       " 4.601772128832399,\n",
       " 5.174606833666308,\n",
       " 5.174606833666308,\n",
       " 7.045651112506103,\n",
       " 7.292866941015089,\n",
       " 7.698026215515927,\n",
       " 8.04567901234568,\n",
       " 8.097923681257015,\n",
       " 8.600553426990208,\n",
       " 9.897462277091906,\n",
       " 10.057098765432098,\n",
       " 10.221969236996559,\n",
       " 10.658805529175899,\n",
       " 10.939300411522634,\n",
       " 10.939300411522634,\n",
       " 11.33709315375982,\n",
       " 11.441103182693396,\n",
       " 11.764907989750757,\n",
       " 12.725308641975309,\n",
       " 13.12716049382716,\n",
       " 14.671532316630357,\n",
       " 18.07362676686348,\n",
       " 19.79492455418381,\n",
       " 20.784670781893006,\n",
       " 21.50138356747552,\n",
       " 23.094078646547782,\n",
       " 23.529815979501514,\n",
       " 24.452553861050593,\n",
       " 27.110440150295222,\n",
       " 29.001866207292565,\n",
       " 32.8179012345679,\n",
       " 37.790310512532734,\n",
       " 38.97125771604938,\n",
       " 41.56934156378601,\n",
       " 43.00276713495104,\n",
       " 43.00276713495104,\n",
       " 46.188157293095564,\n",
       " 51.96167695473251,\n",
       " 56.685465768799105,\n",
       " 56.685465768799105,\n",
       " 59.38477366255144,\n",
       " 59.38477366255144,\n",
       " 65.6358024691358,\n",
       " 73.35766158315178,\n",
       " 89.07716049382717,\n",
       " 89.07716049382717,\n",
       " 89.07716049382717,\n",
       " 89.07716049382717,\n",
       " 95.9292497625831,\n",
       " 95.9292497625831,\n",
       " 113.37093153759821,\n",
       " 124.70802469135802,\n",
       " 124.70802469135802,\n",
       " 155.88503086419752,\n",
       " 155.88503086419752,\n",
       " 155.88503086419752,\n",
       " 155.88503086419752,\n",
       " 155.88503086419752,\n",
       " 155.88503086419752,\n",
       " 155.88503086419752,\n",
       " 178.15432098765433,\n",
       " 178.15432098765433,\n",
       " 207.84670781893004,\n",
       " 207.84670781893004,\n",
       " 207.84670781893004,\n",
       " 207.84670781893004,\n",
       " 207.84670781893004,\n",
       " 249.41604938271604,\n",
       " 311.77006172839504,\n",
       " 311.77006172839504,\n",
       " 311.77006172839504,\n",
       " 311.77006172839504,\n",
       " 311.77006172839504,\n",
       " 311.77006172839504,\n",
       " 311.77006172839504,\n",
       " 415.6934156378601,\n",
       " 415.6934156378601,\n",
       " 415.6934156378601,\n",
       " 415.6934156378601,\n",
       " 415.6934156378601,\n",
       " 623.5401234567901,\n",
       " 623.5401234567901,\n",
       " 623.5401234567901,\n",
       " 623.5401234567901,\n",
       " 623.5401234567901,\n",
       " 623.5401234567901,\n",
       " 623.5401234567901,\n",
       " 623.5401234567901,\n",
       " 1247.0802469135801,\n",
       " 1247.0802469135801,\n",
       " 1247.0802469135801,\n",
       " 1247.0802469135801,\n",
       " 1247.0802469135801,\n",
       " 1247.0802469135801,\n",
       " 1247.0802469135801,\n",
       " 1247.0802469135801,\n",
       " 1247.0802469135801,\n",
       " 1247.0802469135801,\n",
       " 1247.0802469135801,\n",
       " 1247.0802469135801,\n",
       " 1247.0802469135801,\n",
       " 1247.0802469135801,\n",
       " 1247.0802469135801,\n",
       " 1247.0802469135801,\n",
       " 1247.0802469135801,\n",
       " 1247.0802469135801,\n",
       " 1247.0802469135801,\n",
       " 1247.0802469135801]"
      ]
     },
     "execution_count": 86,
     "metadata": {},
     "output_type": "execute_result"
    }
   ],
   "source": [
    "class_weights"
   ]
  },
  {
   "cell_type": "code",
   "execution_count": 47,
   "id": "28fd6cd9-3d66-43c1-9cbe-7e689e2a7ce8",
   "metadata": {},
   "outputs": [
    {
     "data": {
      "text/plain": [
       "162"
      ]
     },
     "execution_count": 47,
     "metadata": {},
     "output_type": "execute_result"
    }
   ],
   "source": [
    "len(class_weights)"
   ]
  },
  {
   "cell_type": "code",
   "execution_count": 48,
   "id": "6c4fb032-7c8c-4ef5-a0fc-4f719a72158b",
   "metadata": {},
   "outputs": [],
   "source": [
    "weights = {}"
   ]
  },
  {
   "cell_type": "code",
   "execution_count": null,
   "id": "7f319ec8-f433-41c2-a48c-8bfda0f5421e",
   "metadata": {},
   "outputs": [],
   "source": [
    "c"
   ]
  },
  {
   "cell_type": "code",
   "execution_count": 49,
   "id": "6b5a6740-e31b-4c09-8c8e-e7d19a85cf82",
   "metadata": {},
   "outputs": [],
   "source": [
    "for index, weight in enumerate(class_weights) :\n",
    "    weights[index]=weight"
   ]
  },
  {
   "cell_type": "code",
   "execution_count": 87,
   "id": "a72fe509-02a3-4dc0-9503-97568039c06f",
   "metadata": {},
   "outputs": [
    {
     "data": {
      "text/plain": [
       "{0: 0.04173070027150248,\n",
       " 1: 0.05751684562833596,\n",
       " 2: 0.059305699396689185,\n",
       " 3: 0.06236960474686573,\n",
       " 4: 0.07890915255084664,\n",
       " 5: 0.09971855484675997,\n",
       " 6: 0.10365557700220931,\n",
       " 7: 0.16877523980424688,\n",
       " 8: 0.17062255396272819,\n",
       " 9: 0.3583563927912587,\n",
       " 10: 0.4351291859433288,\n",
       " 11: 0.4477846488020037,\n",
       " 12: 0.4665470433646017,\n",
       " 13: 0.5085971643203835,\n",
       " 14: 0.5431534176452876,\n",
       " 15: 0.5648008364644838,\n",
       " 16: 0.5899149701577958,\n",
       " 17: 0.7535228078027675,\n",
       " 18: 0.7907928008329614,\n",
       " 19: 0.8193694132152302,\n",
       " 20: 0.8308329426472887,\n",
       " 21: 0.8336097907176339,\n",
       " 22: 0.847777190287954,\n",
       " 23: 0.9251337143275817,\n",
       " 24: 0.9607706062508322,\n",
       " 25: 1.00570987654321,\n",
       " 26: 1.0155376603530784,\n",
       " 27: 1.2686472501664092,\n",
       " 28: 1.2843256919810302,\n",
       " 29: 1.4317798472027328,\n",
       " 30: 1.4433799154092364,\n",
       " 31: 1.4863888521020028,\n",
       " 32: 1.5453286826686248,\n",
       " 33: 1.6112147892940314,\n",
       " 34: 1.7153786064836043,\n",
       " 35: 1.9304647785039941,\n",
       " 36: 1.9639059006513075,\n",
       " 37: 2.0244809203142538,\n",
       " 38: 2.389042618608391,\n",
       " 39: 2.6647013822939747,\n",
       " 40: 2.7051632254090676,\n",
       " 41: 2.728840802874355,\n",
       " 42: 2.7961440513757405,\n",
       " 43: 2.906946962502518,\n",
       " 44: 3.0122711278105805,\n",
       " 45: 3.034258508305548,\n",
       " 46: 3.094491927825261,\n",
       " 47: 3.214124347715413,\n",
       " 48: 3.256084195596815,\n",
       " 49: 3.5030344014426413,\n",
       " 50: 4.300276713495104,\n",
       " 51: 4.315156563714811,\n",
       " 52: 4.584853848946986,\n",
       " 53: 4.584853848946986,\n",
       " 54: 4.601772128832399,\n",
       " 55: 5.174606833666308,\n",
       " 56: 5.174606833666308,\n",
       " 57: 7.045651112506103,\n",
       " 58: 7.292866941015089,\n",
       " 59: 7.698026215515927,\n",
       " 60: 8.04567901234568,\n",
       " 61: 8.097923681257015,\n",
       " 62: 8.600553426990208,\n",
       " 63: 9.897462277091906,\n",
       " 64: 10.057098765432098,\n",
       " 65: 10.221969236996559,\n",
       " 66: 10.658805529175899,\n",
       " 67: 10.939300411522634,\n",
       " 68: 10.939300411522634,\n",
       " 69: 11.33709315375982,\n",
       " 70: 11.441103182693396,\n",
       " 71: 11.764907989750757,\n",
       " 72: 12.725308641975309,\n",
       " 73: 13.12716049382716,\n",
       " 74: 14.671532316630357,\n",
       " 75: 18.07362676686348,\n",
       " 76: 19.79492455418381,\n",
       " 77: 20.784670781893006,\n",
       " 78: 21.50138356747552,\n",
       " 79: 23.094078646547782,\n",
       " 80: 23.529815979501514,\n",
       " 81: 24.452553861050593,\n",
       " 82: 27.110440150295222,\n",
       " 83: 29.001866207292565,\n",
       " 84: 32.8179012345679,\n",
       " 85: 37.790310512532734,\n",
       " 86: 38.97125771604938,\n",
       " 87: 41.56934156378601,\n",
       " 88: 43.00276713495104,\n",
       " 89: 43.00276713495104,\n",
       " 90: 46.188157293095564,\n",
       " 91: 51.96167695473251,\n",
       " 92: 56.685465768799105,\n",
       " 93: 56.685465768799105,\n",
       " 94: 59.38477366255144,\n",
       " 95: 59.38477366255144,\n",
       " 96: 65.6358024691358,\n",
       " 97: 73.35766158315178,\n",
       " 98: 89.07716049382717,\n",
       " 99: 89.07716049382717,\n",
       " 100: 89.07716049382717,\n",
       " 101: 89.07716049382717,\n",
       " 102: 95.9292497625831,\n",
       " 103: 95.9292497625831,\n",
       " 104: 113.37093153759821,\n",
       " 105: 124.70802469135802,\n",
       " 106: 124.70802469135802,\n",
       " 107: 155.88503086419752,\n",
       " 108: 155.88503086419752,\n",
       " 109: 155.88503086419752,\n",
       " 110: 155.88503086419752,\n",
       " 111: 155.88503086419752,\n",
       " 112: 155.88503086419752,\n",
       " 113: 155.88503086419752,\n",
       " 114: 178.15432098765433,\n",
       " 115: 178.15432098765433,\n",
       " 116: 207.84670781893004,\n",
       " 117: 207.84670781893004,\n",
       " 118: 207.84670781893004,\n",
       " 119: 207.84670781893004,\n",
       " 120: 207.84670781893004,\n",
       " 121: 249.41604938271604,\n",
       " 122: 311.77006172839504,\n",
       " 123: 311.77006172839504,\n",
       " 124: 311.77006172839504,\n",
       " 125: 311.77006172839504,\n",
       " 126: 311.77006172839504,\n",
       " 127: 311.77006172839504,\n",
       " 128: 311.77006172839504,\n",
       " 129: 415.6934156378601,\n",
       " 130: 415.6934156378601,\n",
       " 131: 415.6934156378601,\n",
       " 132: 415.6934156378601,\n",
       " 133: 415.6934156378601,\n",
       " 134: 623.5401234567901,\n",
       " 135: 623.5401234567901,\n",
       " 136: 623.5401234567901,\n",
       " 137: 623.5401234567901,\n",
       " 138: 623.5401234567901,\n",
       " 139: 623.5401234567901,\n",
       " 140: 623.5401234567901,\n",
       " 141: 623.5401234567901,\n",
       " 142: 1247.0802469135801,\n",
       " 143: 1247.0802469135801,\n",
       " 144: 1247.0802469135801,\n",
       " 145: 1247.0802469135801,\n",
       " 146: 1247.0802469135801,\n",
       " 147: 1247.0802469135801,\n",
       " 148: 1247.0802469135801,\n",
       " 149: 1247.0802469135801,\n",
       " 150: 1247.0802469135801,\n",
       " 151: 1247.0802469135801,\n",
       " 152: 1247.0802469135801,\n",
       " 153: 1247.0802469135801,\n",
       " 154: 1247.0802469135801,\n",
       " 155: 1247.0802469135801,\n",
       " 156: 1247.0802469135801,\n",
       " 157: 1247.0802469135801,\n",
       " 158: 1247.0802469135801,\n",
       " 159: 1247.0802469135801,\n",
       " 160: 1247.0802469135801,\n",
       " 161: 1247.0802469135801}"
      ]
     },
     "execution_count": 87,
     "metadata": {},
     "output_type": "execute_result"
    }
   ],
   "source": [
    "weights"
   ]
  },
  {
   "cell_type": "code",
   "execution_count": 50,
   "id": "2e3ca4ad-8186-4f09-a7e0-32420e8bded2",
   "metadata": {},
   "outputs": [],
   "source": [
    "#Instantiate\n",
    "dataset_train = tf.data.Dataset.from_tensor_slices((X_train['public_description'].values, X_train['detailed_type'].values))\n",
    "dataset_test = tf.data.Dataset.from_tensor_slices((X_test['public_description'].values, X_test['detailed_type'].values))"
   ]
  },
  {
   "cell_type": "code",
   "execution_count": 51,
   "id": "e14e1564-252d-4fdd-8133-e72b4aa65966",
   "metadata": {},
   "outputs": [
    {
     "name": "stdout",
     "output_type": "stream",
     "text": [
      "description: b'Parking for over a month', Target: b'Encampment'\n",
      "description: b'Homeless', Target: b'Encampment'\n",
      "description: b'Motor home, attached boat trailer and van all have no license plates/', Target: b'Encampment'\n",
      "description: b'Request pick up', Target: b'Missed Collection'\n",
      "description: b'Busted irrigation line Park Village Rd westbound side; I let landscape KTR know but this is not their footprint', Target: b'SWPP - Storm Water Polution Prevention'\n"
     ]
    }
   ],
   "source": [
    "for text, target in dataset_train.take(5):\n",
    "    print('description: {}, Target: {}'.format(text, target))"
   ]
  },
  {
   "cell_type": "code",
   "execution_count": 52,
   "id": "6a1e4d18-6525-4e46-94af-e3775bf6fe11",
   "metadata": {},
   "outputs": [
    {
     "name": "stdout",
     "output_type": "stream",
     "text": [
      "description: b'New graffiti all over building', Target: b'Graffiti Removal'\n",
      "description: b'Bus bench is on the sidewalk not allowing handicap to go by', Target: b'CONCRETE SIDEWALK REPAIR ISSUE'\n",
      "description: b'Graffiti on AT&T box', Target: b'Graffiti Removal - Commercial'\n",
      "description: b'Did not get emptied', Target: b'Missed Collection'\n",
      "description: b'Trash cans on east side of street on Classique Way not picked up', Target: b'Missed Collection'\n"
     ]
    }
   ],
   "source": [
    "for text, target in dataset_test.take(5):\n",
    "    print('description: {}, Target: {}'.format(text, target))"
   ]
  },
  {
   "cell_type": "code",
   "execution_count": 53,
   "id": "56412722-e259-40fa-8ace-c0ce77a77ac3",
   "metadata": {},
   "outputs": [],
   "source": [
    "detailed_types = list(np.unique(requests_train['detailed_type']))"
   ]
  },
  {
   "cell_type": "code",
   "execution_count": 54,
   "id": "5604d556-ae3d-4bdf-be00-746f9967da67",
   "metadata": {},
   "outputs": [],
   "source": [
    "vals = list(range(162))"
   ]
  },
  {
   "cell_type": "code",
   "execution_count": 55,
   "id": "f245a5b0-1079-4085-b991-8944a863570c",
   "metadata": {},
   "outputs": [
    {
     "name": "stdout",
     "output_type": "stream",
     "text": [
      "162\n",
      "162\n"
     ]
    }
   ],
   "source": [
    "print(len(detailed_types))\n",
    "print(len(vals))"
   ]
  },
  {
   "cell_type": "code",
   "execution_count": 56,
   "id": "51fa5d6e-f487-4f55-b2b3-73080bded449",
   "metadata": {},
   "outputs": [],
   "source": [
    "table = tf.lookup.StaticHashTable(\n",
    "    initializer=tf.lookup.KeyValueTensorInitializer(\n",
    "        keys=tf.constant(detailed_types),\n",
    "        values=tf.constant(vals),\n",
    "    ),\n",
    "        default_value=tf.constant(-1),\n",
    "        name=\"target_encoding\"\n",
    ")\n"
   ]
  },
  {
   "cell_type": "code",
   "execution_count": 57,
   "id": "08c9011a-ea77-46c5-8ec5-e65ff68a6eb2",
   "metadata": {},
   "outputs": [],
   "source": [
    "@tf.function\n",
    "def target(x):\n",
    "    return table.lookup(x)"
   ]
  },
  {
   "cell_type": "code",
   "execution_count": 58,
   "id": "d265f243-769e-4337-8883-6c7d9efb2307",
   "metadata": {},
   "outputs": [],
   "source": [
    "def show_batch(dataset, size=5):\n",
    "    for batch, label in dataset.take(size):\n",
    "        print(batch.numpy())\n",
    "        print(target(label).numpy())"
   ]
  },
  {
   "cell_type": "code",
   "execution_count": 59,
   "id": "29b19d16-0ea6-494b-8cab-41e9c285d81c",
   "metadata": {
    "tags": []
   },
   "outputs": [
    {
     "name": "stdout",
     "output_type": "stream",
     "text": [
      "b'New graffiti all over building'\n",
      "85\n",
      "b'Bus bench is on the sidewalk not allowing handicap to go by'\n",
      "44\n",
      "b'Graffiti on AT&T box'\n",
      "86\n",
      "b'Did not get emptied'\n",
      "104\n",
      "b'Trash cans on east side of street on Classique Way not picked up'\n",
      "104\n",
      "b'Missed greens'\n",
      "104\n"
     ]
    }
   ],
   "source": [
    "show_batch(dataset_test, 6)"
   ]
  },
  {
   "cell_type": "code",
   "execution_count": 60,
   "id": "b23676d7-8efc-4eab-97b4-dc521d71f087",
   "metadata": {},
   "outputs": [],
   "source": [
    " def fetch(text, labels):\n",
    "        return text, tf.one_hot(target(labels),162)"
   ]
  },
  {
   "cell_type": "code",
   "execution_count": 61,
   "id": "f9d34044-413f-4f51-95e4-104f5f6808f6",
   "metadata": {},
   "outputs": [],
   "source": [
    "train_data_f = dataset_train.map(fetch)\n",
    "test_data_f=dataset_test.map(fetch)"
   ]
  },
  {
   "cell_type": "code",
   "execution_count": 62,
   "id": "f4afb2af-4922-4fdc-bac4-85fbb5ebd3fc",
   "metadata": {},
   "outputs": [
    {
     "data": {
      "text/plain": [
       "(<tf.Tensor: shape=(), dtype=string, numpy=b'Parking for over a month'>,\n",
       " <tf.Tensor: shape=(162,), dtype=float32, numpy=\n",
       " array([0., 0., 0., 0., 0., 0., 0., 0., 0., 0., 0., 0., 0., 0., 0., 0., 0.,\n",
       "        0., 0., 0., 0., 0., 0., 0., 0., 0., 0., 0., 0., 0., 0., 0., 0., 0.,\n",
       "        0., 0., 0., 0., 0., 0., 0., 0., 0., 0., 0., 0., 0., 0., 0., 0., 0.,\n",
       "        0., 0., 0., 0., 0., 0., 0., 0., 0., 0., 0., 0., 0., 0., 0., 0., 0.,\n",
       "        0., 0., 0., 0., 0., 0., 0., 0., 0., 1., 0., 0., 0., 0., 0., 0., 0.,\n",
       "        0., 0., 0., 0., 0., 0., 0., 0., 0., 0., 0., 0., 0., 0., 0., 0., 0.,\n",
       "        0., 0., 0., 0., 0., 0., 0., 0., 0., 0., 0., 0., 0., 0., 0., 0., 0.,\n",
       "        0., 0., 0., 0., 0., 0., 0., 0., 0., 0., 0., 0., 0., 0., 0., 0., 0.,\n",
       "        0., 0., 0., 0., 0., 0., 0., 0., 0., 0., 0., 0., 0., 0., 0., 0., 0.,\n",
       "        0., 0., 0., 0., 0., 0., 0., 0., 0.], dtype=float32)>)"
      ]
     },
     "execution_count": 62,
     "metadata": {},
     "output_type": "execute_result"
    }
   ],
   "source": [
    "next(iter(train_data_f))"
   ]
  },
  {
   "cell_type": "code",
   "execution_count": 63,
   "id": "f585d628-70b8-4cef-8e51-7ac4502778e7",
   "metadata": {
    "tags": []
   },
   "outputs": [
    {
     "data": {
      "text/plain": [
       "(<tf.Tensor: shape=(2,), dtype=string, numpy=array([b'Parking for over a month', b'Homeless'], dtype=object)>,\n",
       " <tf.Tensor: shape=(2, 162), dtype=float32, numpy=\n",
       " array([[0., 0., 0., 0., 0., 0., 0., 0., 0., 0., 0., 0., 0., 0., 0., 0.,\n",
       "         0., 0., 0., 0., 0., 0., 0., 0., 0., 0., 0., 0., 0., 0., 0., 0.,\n",
       "         0., 0., 0., 0., 0., 0., 0., 0., 0., 0., 0., 0., 0., 0., 0., 0.,\n",
       "         0., 0., 0., 0., 0., 0., 0., 0., 0., 0., 0., 0., 0., 0., 0., 0.,\n",
       "         0., 0., 0., 0., 0., 0., 0., 0., 0., 0., 0., 0., 0., 1., 0., 0.,\n",
       "         0., 0., 0., 0., 0., 0., 0., 0., 0., 0., 0., 0., 0., 0., 0., 0.,\n",
       "         0., 0., 0., 0., 0., 0., 0., 0., 0., 0., 0., 0., 0., 0., 0., 0.,\n",
       "         0., 0., 0., 0., 0., 0., 0., 0., 0., 0., 0., 0., 0., 0., 0., 0.,\n",
       "         0., 0., 0., 0., 0., 0., 0., 0., 0., 0., 0., 0., 0., 0., 0., 0.,\n",
       "         0., 0., 0., 0., 0., 0., 0., 0., 0., 0., 0., 0., 0., 0., 0., 0.,\n",
       "         0., 0.],\n",
       "        [0., 0., 0., 0., 0., 0., 0., 0., 0., 0., 0., 0., 0., 0., 0., 0.,\n",
       "         0., 0., 0., 0., 0., 0., 0., 0., 0., 0., 0., 0., 0., 0., 0., 0.,\n",
       "         0., 0., 0., 0., 0., 0., 0., 0., 0., 0., 0., 0., 0., 0., 0., 0.,\n",
       "         0., 0., 0., 0., 0., 0., 0., 0., 0., 0., 0., 0., 0., 0., 0., 0.,\n",
       "         0., 0., 0., 0., 0., 0., 0., 0., 0., 0., 0., 0., 0., 1., 0., 0.,\n",
       "         0., 0., 0., 0., 0., 0., 0., 0., 0., 0., 0., 0., 0., 0., 0., 0.,\n",
       "         0., 0., 0., 0., 0., 0., 0., 0., 0., 0., 0., 0., 0., 0., 0., 0.,\n",
       "         0., 0., 0., 0., 0., 0., 0., 0., 0., 0., 0., 0., 0., 0., 0., 0.,\n",
       "         0., 0., 0., 0., 0., 0., 0., 0., 0., 0., 0., 0., 0., 0., 0., 0.,\n",
       "         0., 0., 0., 0., 0., 0., 0., 0., 0., 0., 0., 0., 0., 0., 0., 0.,\n",
       "         0., 0.]], dtype=float32)>)"
      ]
     },
     "execution_count": 63,
     "metadata": {},
     "output_type": "execute_result"
    }
   ],
   "source": [
    "train_data, train_labels = next(iter(train_data_f.batch(2)))\n",
    "train_data, train_labels"
   ]
  },
  {
   "cell_type": "code",
   "execution_count": 64,
   "id": "44c20810-b6a2-4fa5-915f-1471a9b00a29",
   "metadata": {
    "tags": []
   },
   "outputs": [
    {
     "name": "stdout",
     "output_type": "stream",
     "text": [
      "WARNING:tensorflow:Please fix your imports. Module tensorflow.python.training.tracking.data_structures has been moved to tensorflow.python.trackable.data_structures. The old module will be deleted in version 2.11.\n"
     ]
    },
    {
     "data": {
      "text/plain": [
       "<tf.Tensor: shape=(1, 128), dtype=float32, numpy=\n",
       "array([[ 0.2947122 ,  0.06149567, -0.12671496,  0.03034275,  0.09676808,\n",
       "         0.16921037, -0.09496925,  0.10810017,  0.05087587,  0.07639003,\n",
       "         0.06503929, -0.05157888, -0.09376147,  0.10455734,  0.02672946,\n",
       "        -0.05654573, -0.03370756, -0.01311209, -0.00636674,  0.24171862,\n",
       "        -0.10896403,  0.18235618, -0.01823283, -0.00650783, -0.03342678,\n",
       "        -0.07151679, -0.0044638 , -0.11139045, -0.11815578, -0.16122422,\n",
       "        -0.04115741, -0.01341171, -0.14442578,  0.15274805, -0.01077449,\n",
       "         0.08248467,  0.06425278, -0.04439811,  0.07978082,  0.01977678,\n",
       "         0.10914295,  0.0390858 , -0.01445776,  0.19658498, -0.02042773,\n",
       "         0.08300801,  0.09490787,  0.12943365,  0.09240463, -0.11280449,\n",
       "         0.03183676, -0.04501188, -0.04222551,  0.0524281 ,  0.09684607,\n",
       "        -0.06504567,  0.08754937,  0.0907004 ,  0.18327884,  0.01068473,\n",
       "        -0.07351647, -0.00059976, -0.10533527, -0.10557347,  0.02202377,\n",
       "        -0.0459122 , -0.1136759 ,  0.0300091 ,  0.01250367,  0.02965814,\n",
       "         0.01275982, -0.06352571, -0.01945144, -0.10206461, -0.216711  ,\n",
       "         0.02129698,  0.01311435, -0.01381541,  0.22602996,  0.05073   ,\n",
       "        -0.11821625, -0.07097684, -0.11605667, -0.0611691 ,  0.12984645,\n",
       "        -0.06667084, -0.13987225, -0.05466427,  0.17285079, -0.05259725,\n",
       "         0.00346703, -0.04174012,  0.00041962, -0.08103141,  0.04623321,\n",
       "         0.00842683,  0.02739611, -0.1635486 , -0.00690141, -0.03047827,\n",
       "         0.01880601, -0.11176938, -0.09149712,  0.05547223,  0.05771765,\n",
       "         0.14376989, -0.03829473,  0.04174377,  0.00182468, -0.03500683,\n",
       "        -0.07165727,  0.01925348,  0.08980836,  0.06675636, -0.04265909,\n",
       "        -0.13492914, -0.0347303 ,  0.04301867,  0.06900043, -0.10708371,\n",
       "         0.03619996, -0.09342505,  0.06540384,  0.08056656, -0.05376927,\n",
       "         0.1816882 ,  0.05583842,  0.05198842]], dtype=float32)>"
      ]
     },
     "execution_count": 64,
     "metadata": {},
     "output_type": "execute_result"
    }
   ],
   "source": [
    "embedding = \"https://tfhub.dev/google/tf2-preview/nnlm-en-dim128/1\"\n",
    "hub_layer = hub.KerasLayer(embedding, output_shape=[128], input_shape=[],\n",
    "                           dtype=tf.string, trainable=True)\n",
    "hub_layer(train_data[:1])"
   ]
  },
  {
   "cell_type": "code",
   "execution_count": 65,
   "id": "cfa02fe7-1be6-4c93-b2b6-02806237a458",
   "metadata": {},
   "outputs": [
    {
     "name": "stdout",
     "output_type": "stream",
     "text": [
      "WARNING:tensorflow:From C:\\Users\\mnicn\\anaconda3\\lib\\site-packages\\tensorflow\\python\\autograph\\pyct\\static_analysis\\liveness.py:83: Analyzer.lamba_check (from tensorflow.python.autograph.pyct.static_analysis.liveness) is deprecated and will be removed after 2023-09-23.\n",
      "Instructions for updating:\n",
      "Lambda fuctions will be no more assumed to be used in the statement where they are used, or at least in the same block. https://github.com/tensorflow/tensorflow/issues/56089\n"
     ]
    },
    {
     "name": "stderr",
     "output_type": "stream",
     "text": [
      "WARNING:tensorflow:From C:\\Users\\mnicn\\anaconda3\\lib\\site-packages\\tensorflow\\python\\autograph\\pyct\\static_analysis\\liveness.py:83: Analyzer.lamba_check (from tensorflow.python.autograph.pyct.static_analysis.liveness) is deprecated and will be removed after 2023-09-23.\n",
      "Instructions for updating:\n",
      "Lambda fuctions will be no more assumed to be used in the statement where they are used, or at least in the same block. https://github.com/tensorflow/tensorflow/issues/56089\n"
     ]
    },
    {
     "name": "stdout",
     "output_type": "stream",
     "text": [
      "Model: \"sequential\"\n",
      "_________________________________________________________________\n",
      " Layer (type)                Output Shape              Param #   \n",
      "=================================================================\n",
      " keras_layer (KerasLayer)    (None, 128)               124642688 \n",
      "                                                                 \n",
      " dense (Dense)               (None, 128)               16512     \n",
      "                                                                 \n",
      " dropout (Dropout)           (None, 128)               0         \n",
      "                                                                 \n",
      " dense_1 (Dense)             (None, 128)               16512     \n",
      "                                                                 \n",
      " dropout_1 (Dropout)         (None, 128)               0         \n",
      "                                                                 \n",
      " dense_2 (Dense)             (None, 64)                8256      \n",
      "                                                                 \n",
      " dropout_2 (Dropout)         (None, 64)                0         \n",
      "                                                                 \n",
      " dense_3 (Dense)             (None, 32)                2080      \n",
      "                                                                 \n",
      " dropout_3 (Dropout)         (None, 32)                0         \n",
      "                                                                 \n",
      " dense_4 (Dense)             (None, 162)               5346      \n",
      "                                                                 \n",
      "=================================================================\n",
      "Total params: 124,691,394\n",
      "Trainable params: 124,691,394\n",
      "Non-trainable params: 0\n",
      "_________________________________________________________________\n"
     ]
    }
   ],
   "source": [
    "model = tf.keras.Sequential()\n",
    "model.add(hub_layer)\n",
    "for units in [128, 128, 64, 32]:\n",
    "    model.add(tf.keras.layers.Dense(units, activation='relu'))\n",
    "    model.add(tf.keras.layers.Dropout(0.3))\n",
    "model.add(tf.keras.layers.Dense(162, activation='softmax'))\n",
    "\n",
    "model.summary()"
   ]
  },
  {
   "cell_type": "code",
   "execution_count": 66,
   "id": "82b91ee0-04c1-474e-9897-10c2cdfcac89",
   "metadata": {},
   "outputs": [],
   "source": [
    "model.compile(optimizer='adam',\n",
    "             loss=tf.keras.losses.CategoricalCrossentropy(from_logits=True),\n",
    "             metrics=['accuracy'])"
   ]
  },
  {
   "cell_type": "code",
   "execution_count": 67,
   "id": "ddbd119f-8a5e-491f-8295-0634db9443b7",
   "metadata": {},
   "outputs": [],
   "source": [
    "train_data_f=train_data_f.shuffle(70000).batch(512)\n",
    "test_data_f=test_data_f.batch(512)"
   ]
  },
  {
   "cell_type": "code",
   "execution_count": 77,
   "id": "6827a02c-04ee-4d25-ad5f-2488e8dc0fa0",
   "metadata": {},
   "outputs": [
    {
     "name": "stdout",
     "output_type": "stream",
     "text": [
      "Epoch 1/50\n",
      "316/316 [==============================] - 503s 2s/step - loss: 87.5850 - accuracy: 0.6116 - val_loss: 2.4264 - val_accuracy: 0.5637\n",
      "Epoch 2/50\n",
      "316/316 [==============================] - 480s 1s/step - loss: 86.1278 - accuracy: 0.6132 - val_loss: 2.4636 - val_accuracy: 0.5599\n",
      "Epoch 3/50\n",
      "316/316 [==============================] - 481s 2s/step - loss: 83.8172 - accuracy: 0.6166 - val_loss: 2.4804 - val_accuracy: 0.5605\n",
      "Epoch 4/50\n",
      "316/316 [==============================] - 480s 1s/step - loss: 82.4076 - accuracy: 0.6195 - val_loss: 2.4774 - val_accuracy: 0.5602\n",
      "Epoch 5/50\n",
      "316/316 [==============================] - 484s 2s/step - loss: 81.3272 - accuracy: 0.6199 - val_loss: 2.5689 - val_accuracy: 0.5599\n",
      "Epoch 6/50\n",
      "316/316 [==============================] - 484s 2s/step - loss: 79.7758 - accuracy: 0.6232 - val_loss: 2.5049 - val_accuracy: 0.5657\n",
      "Epoch 7/50\n",
      "316/316 [==============================] - 481s 2s/step - loss: 78.9223 - accuracy: 0.6248 - val_loss: 2.4581 - val_accuracy: 0.5693\n",
      "Epoch 8/50\n",
      "316/316 [==============================] - 484s 2s/step - loss: 76.9617 - accuracy: 0.6278 - val_loss: 2.5513 - val_accuracy: 0.5643\n",
      "Epoch 9/50\n",
      "316/316 [==============================] - 482s 1s/step - loss: 75.6193 - accuracy: 0.6314 - val_loss: 2.5484 - val_accuracy: 0.5662\n",
      "Epoch 10/50\n",
      "316/316 [==============================] - 488s 2s/step - loss: 76.3794 - accuracy: 0.6320 - val_loss: 2.5400 - val_accuracy: 0.5680\n",
      "Epoch 11/50\n",
      "316/316 [==============================] - 491s 2s/step - loss: 75.0831 - accuracy: 0.6338 - val_loss: 2.5281 - val_accuracy: 0.5640\n",
      "Epoch 12/50\n",
      "316/316 [==============================] - 493s 2s/step - loss: 73.1479 - accuracy: 0.6354 - val_loss: 2.5422 - val_accuracy: 0.5700\n",
      "Epoch 13/50\n",
      "316/316 [==============================] - 495s 2s/step - loss: 73.0495 - accuracy: 0.6376 - val_loss: 2.5377 - val_accuracy: 0.5739\n",
      "Epoch 14/50\n",
      "316/316 [==============================] - 506s 2s/step - loss: 70.8003 - accuracy: 0.6410 - val_loss: 2.5646 - val_accuracy: 0.5641\n",
      "Epoch 15/50\n",
      "316/316 [==============================] - 616s 2s/step - loss: 70.6888 - accuracy: 0.6412 - val_loss: 2.5589 - val_accuracy: 0.5686\n",
      "Epoch 16/50\n",
      "316/316 [==============================] - 491s 2s/step - loss: 70.4049 - accuracy: 0.6433 - val_loss: 2.5919 - val_accuracy: 0.5748\n",
      "Epoch 17/50\n",
      "316/316 [==============================] - 489s 2s/step - loss: 68.9372 - accuracy: 0.6477 - val_loss: 2.6309 - val_accuracy: 0.5738\n",
      "Epoch 18/50\n",
      "316/316 [==============================] - 485s 2s/step - loss: 69.0963 - accuracy: 0.6478 - val_loss: 2.5717 - val_accuracy: 0.5709\n",
      "Epoch 19/50\n",
      "316/316 [==============================] - 502s 2s/step - loss: 68.2336 - accuracy: 0.6501 - val_loss: 2.6354 - val_accuracy: 0.5752\n",
      "Epoch 20/50\n",
      "316/316 [==============================] - 486s 2s/step - loss: 67.4509 - accuracy: 0.6515 - val_loss: 2.5968 - val_accuracy: 0.5731\n",
      "Epoch 21/50\n",
      "316/316 [==============================] - 488s 2s/step - loss: 66.2131 - accuracy: 0.6542 - val_loss: 2.6789 - val_accuracy: 0.5686\n",
      "Epoch 22/50\n",
      "316/316 [==============================] - 488s 2s/step - loss: 66.4997 - accuracy: 0.6558 - val_loss: 2.6507 - val_accuracy: 0.5772\n",
      "Epoch 23/50\n",
      "316/316 [==============================] - 482s 1s/step - loss: 65.8534 - accuracy: 0.6571 - val_loss: 2.6763 - val_accuracy: 0.5778\n",
      "Epoch 24/50\n",
      "316/316 [==============================] - 479s 1s/step - loss: 64.8734 - accuracy: 0.6599 - val_loss: 2.6254 - val_accuracy: 0.5759\n",
      "Epoch 25/50\n",
      "316/316 [==============================] - 479s 1s/step - loss: 64.8799 - accuracy: 0.6617 - val_loss: 2.6803 - val_accuracy: 0.5771\n",
      "Epoch 26/50\n",
      "316/316 [==============================] - 480s 1s/step - loss: 65.1674 - accuracy: 0.6621 - val_loss: 2.6962 - val_accuracy: 0.5760\n",
      "Epoch 27/50\n",
      "316/316 [==============================] - 483s 2s/step - loss: 62.7492 - accuracy: 0.6656 - val_loss: 2.7033 - val_accuracy: 0.5821\n",
      "Epoch 28/50\n",
      "316/316 [==============================] - 480s 2s/step - loss: 62.9935 - accuracy: 0.6678 - val_loss: 2.6922 - val_accuracy: 0.5784\n",
      "Epoch 29/50\n",
      "316/316 [==============================] - 478s 1s/step - loss: 62.2939 - accuracy: 0.6707 - val_loss: 2.7181 - val_accuracy: 0.5801\n",
      "Epoch 30/50\n",
      "316/316 [==============================] - 477s 1s/step - loss: 61.5567 - accuracy: 0.6705 - val_loss: 2.6762 - val_accuracy: 0.5819\n",
      "Epoch 31/50\n",
      "316/316 [==============================] - 477s 1s/step - loss: 61.7238 - accuracy: 0.6728 - val_loss: 2.7407 - val_accuracy: 0.5803\n",
      "Epoch 32/50\n",
      "316/316 [==============================] - 481s 1s/step - loss: 61.4910 - accuracy: 0.6737 - val_loss: 2.6759 - val_accuracy: 0.5826\n",
      "Epoch 33/50\n",
      "316/316 [==============================] - 481s 2s/step - loss: 59.5377 - accuracy: 0.6768 - val_loss: 2.7252 - val_accuracy: 0.5823\n",
      "Epoch 34/50\n",
      "316/316 [==============================] - 481s 1s/step - loss: 60.7987 - accuracy: 0.6773 - val_loss: 2.6805 - val_accuracy: 0.5826\n",
      "Epoch 35/50\n",
      "316/316 [==============================] - 477s 1s/step - loss: 59.3397 - accuracy: 0.6799 - val_loss: 2.7382 - val_accuracy: 0.5853\n",
      "Epoch 36/50\n",
      "316/316 [==============================] - 482s 1s/step - loss: 59.7020 - accuracy: 0.6808 - val_loss: 2.8016 - val_accuracy: 0.5827\n",
      "Epoch 37/50\n",
      "316/316 [==============================] - 480s 1s/step - loss: 59.1374 - accuracy: 0.6809 - val_loss: 2.8041 - val_accuracy: 0.5813\n",
      "Epoch 38/50\n",
      "316/316 [==============================] - 483s 2s/step - loss: 59.5701 - accuracy: 0.6821 - val_loss: 2.7721 - val_accuracy: 0.5806\n",
      "Epoch 39/50\n",
      "316/316 [==============================] - 479s 1s/step - loss: 57.7709 - accuracy: 0.6858 - val_loss: 2.7960 - val_accuracy: 0.5877\n",
      "Epoch 40/50\n",
      "316/316 [==============================] - 479s 1s/step - loss: 57.9654 - accuracy: 0.6861 - val_loss: 2.7182 - val_accuracy: 0.5878\n",
      "Epoch 41/50\n",
      "316/316 [==============================] - 480s 1s/step - loss: 57.5717 - accuracy: 0.6846 - val_loss: 2.8422 - val_accuracy: 0.5863\n",
      "Epoch 42/50\n",
      "316/316 [==============================] - 477s 1s/step - loss: 58.4193 - accuracy: 0.6870 - val_loss: 2.6977 - val_accuracy: 0.5890\n",
      "Epoch 43/50\n",
      "316/316 [==============================] - 480s 1s/step - loss: 57.4596 - accuracy: 0.6887 - val_loss: 2.8073 - val_accuracy: 0.5860\n",
      "Epoch 44/50\n",
      "316/316 [==============================] - 482s 1s/step - loss: 57.1987 - accuracy: 0.6911 - val_loss: 2.7806 - val_accuracy: 0.5880\n",
      "Epoch 45/50\n",
      "316/316 [==============================] - 479s 1s/step - loss: 56.6941 - accuracy: 0.6892 - val_loss: 2.8175 - val_accuracy: 0.5911\n",
      "Epoch 46/50\n",
      "316/316 [==============================] - 478s 1s/step - loss: 56.9625 - accuracy: 0.6904 - val_loss: 2.7233 - val_accuracy: 0.5874\n",
      "Epoch 47/50\n",
      "316/316 [==============================] - 478s 1s/step - loss: 56.4194 - accuracy: 0.6920 - val_loss: 2.8389 - val_accuracy: 0.5880\n",
      "Epoch 48/50\n",
      "316/316 [==============================] - 480s 1s/step - loss: 56.5817 - accuracy: 0.6923 - val_loss: 2.8286 - val_accuracy: 0.5900\n",
      "Epoch 49/50\n",
      "316/316 [==============================] - 479s 1s/step - loss: 54.7904 - accuracy: 0.6929 - val_loss: 2.8607 - val_accuracy: 0.5851\n",
      "Epoch 50/50\n",
      "316/316 [==============================] - 479s 1s/step - loss: 55.3407 - accuracy: 0.6958 - val_loss: 2.8479 - val_accuracy: 0.5880\n"
     ]
    }
   ],
   "source": [
    "history = model.fit(train_data_f,\n",
    "                   epochs=50,\n",
    "                   validation_data=test_data_f,\n",
    "                   verbose=1,\n",
    "                   class_weight=weights)"
   ]
  },
  {
   "cell_type": "code",
   "execution_count": 78,
   "id": "9e7815b0-251b-485e-9413-973526b237c3",
   "metadata": {},
   "outputs": [
    {
     "data": {
      "text/plain": [
       "40406"
      ]
     },
     "execution_count": 78,
     "metadata": {},
     "output_type": "execute_result"
    }
   ],
   "source": [
    "len(list(dataset_test))"
   ]
  },
  {
   "cell_type": "code",
   "execution_count": 79,
   "id": "64d0ae5e-7687-4c9c-89d1-0da786dfa56b",
   "metadata": {},
   "outputs": [
    {
     "name": "stdout",
     "output_type": "stream",
     "text": [
      "1/1 - 7s - loss: 2.8479 - accuracy: 0.5880 - 7s/epoch - 7s/step\n"
     ]
    }
   ],
   "source": [
    "results = model.evaluate(dataset_test.map(fetch).batch(40406), verbose=2)"
   ]
  },
  {
   "cell_type": "code",
   "execution_count": 80,
   "id": "f286643a-3298-4555-add6-001d23dee538",
   "metadata": {},
   "outputs": [
    {
     "name": "stdout",
     "output_type": "stream",
     "text": [
      "[2.8478591442108154, 0.5880067348480225]\n"
     ]
    }
   ],
   "source": [
    "print(results)"
   ]
  },
  {
   "cell_type": "code",
   "execution_count": 81,
   "id": "38cbc0b6-ae68-4eda-bbf2-a37a80a869ca",
   "metadata": {},
   "outputs": [],
   "source": [
    "test_data, test_labels = next(iter(dataset_test.map(fetch).batch(45963)))"
   ]
  },
  {
   "cell_type": "code",
   "execution_count": 82,
   "id": "167e1ac3-6d26-4147-9529-c896e3219408",
   "metadata": {},
   "outputs": [
    {
     "name": "stdout",
     "output_type": "stream",
     "text": [
      "1263/1263 [==============================] - 245s 191ms/step\n"
     ]
    }
   ],
   "source": [
    "y_pred=model.predict(test_data)"
   ]
  },
  {
   "cell_type": "code",
   "execution_count": 83,
   "id": "ac776260-ca7e-4061-a158-332eaa1ae67e",
   "metadata": {},
   "outputs": [],
   "source": [
    "from sklearn.metrics import classification_report"
   ]
  },
  {
   "cell_type": "code",
   "execution_count": 84,
   "id": "78dabbfd-bfc1-47ee-82b8-6f8b9758fd90",
   "metadata": {},
   "outputs": [
    {
     "name": "stdout",
     "output_type": "stream",
     "text": [
      "              precision    recall  f1-score   support\n",
      "\n",
      "           2       0.00      0.00      0.00         1\n",
      "           3       0.00      0.00      0.00         7\n",
      "           4       0.00      0.00      0.00         3\n",
      "           8       0.00      0.00      0.00         1\n",
      "           9       0.00      0.00      0.00         7\n",
      "          11       0.00      0.00      0.00         1\n",
      "          14       0.00      0.00      0.00        84\n",
      "          15       0.00      0.00      0.00        22\n",
      "          16       0.00      0.00      0.00         6\n",
      "          17       0.00      0.00      0.00        64\n",
      "          18       0.00      0.00      0.00         7\n",
      "          19       0.00      0.00      0.00        99\n",
      "          20       0.00      0.00      0.00         6\n",
      "          21       0.00      0.00      0.00         2\n",
      "          22       0.00      0.00      0.00         9\n",
      "          23       0.00      0.00      0.00         3\n",
      "          26       0.00      0.00      0.00        14\n",
      "          28       0.00      0.00      0.00         8\n",
      "          29       0.00      0.00      0.00        31\n",
      "          31       0.00      0.00      0.00      4315\n",
      "          32       0.00      0.00      0.00        48\n",
      "          33       0.00      0.00      0.00         2\n",
      "          34       0.00      0.00      0.00         2\n",
      "          35       0.00      0.00      0.00         3\n",
      "          36       0.00      0.00      0.00         1\n",
      "          37       0.00      0.00      0.00         1\n",
      "          38       0.00      0.00      0.00         4\n",
      "          40       0.00      0.00      0.00        40\n",
      "          41       0.00      0.00      0.00        26\n",
      "          42       0.00      0.00      0.00         3\n",
      "          43       0.00      0.00      0.00        22\n",
      "          44       1.00      0.01      0.03       438\n",
      "          45       0.00      0.00      0.00       162\n",
      "          46       0.00      0.00      0.00         2\n",
      "          47       0.00      0.00      0.00        92\n",
      "          49       0.00      0.00      0.00         1\n",
      "          50       0.00      0.00      0.00        45\n",
      "          51       0.00      0.00      0.00        11\n",
      "          52       0.00      0.00      0.00        22\n",
      "          53       0.00      0.00      0.00         5\n",
      "          54       0.00      0.00      0.00         2\n",
      "          55       0.00      0.00      0.00         3\n",
      "          56       0.00      0.00      0.00       270\n",
      "          57       0.00      0.00      0.00        29\n",
      "          58       0.00      0.00      0.00        90\n",
      "          59       0.00      0.00      0.00         1\n",
      "          63       0.00      0.00      0.00         1\n",
      "          65       0.00      0.00      0.00       188\n",
      "          67       0.00      0.00      0.00         7\n",
      "          68       0.00      0.00      0.00        29\n",
      "          69       0.00      0.00      0.00        10\n",
      "          70       0.00      0.00      0.00        23\n",
      "          71       0.97      0.76      0.85       560\n",
      "          72       0.00      0.00      0.00        24\n",
      "          73       0.00      0.00      0.00       172\n",
      "          74       0.00      0.00      0.00         1\n",
      "          76       0.00      0.00      0.00       295\n",
      "          77       0.70      0.72      0.71      4146\n",
      "          78       0.00      0.00      0.00       245\n",
      "          79       0.00      0.00      0.00        26\n",
      "          80       0.00      0.00      0.00        16\n",
      "          81       0.00      0.00      0.00         3\n",
      "          82       0.00      0.00      0.00        86\n",
      "          83       0.00      0.00      0.00         5\n",
      "          85       0.78      0.91      0.84      3913\n",
      "          86       0.33      0.01      0.02       738\n",
      "          87       0.00      0.00      0.00         1\n",
      "          88       0.00      0.00      0.00         3\n",
      "          89       0.00      0.00      0.00        55\n",
      "          91       0.52      0.30      0.38      2467\n",
      "          92       0.00      0.00      0.00         2\n",
      "          93       0.00      0.00      0.00         1\n",
      "          94       0.00      0.00      0.00        48\n",
      "          95       0.00      0.00      0.00         1\n",
      "          96       0.94      0.77      0.85       275\n",
      "          97       0.78      0.60      0.68       465\n",
      "          98       0.24      0.36      0.29       303\n",
      "          99       0.00      0.00      0.00       169\n",
      "         100       0.00      0.00      0.00        13\n",
      "         102       0.00      0.00      0.00        94\n",
      "         104       0.89      0.92      0.90      5901\n",
      "         105       0.00      0.00      0.00        14\n",
      "         106       0.00      0.00      0.00         3\n",
      "         107       0.00      0.00      0.00        22\n",
      "         108       0.34      0.39      0.36      1555\n",
      "         109       0.50      0.56      0.53       142\n",
      "         110       0.00      0.00      0.00        27\n",
      "         111       0.00      0.00      0.00         4\n",
      "         112       0.65      0.64      0.65       129\n",
      "         113       0.00      0.00      0.00        12\n",
      "         114       0.34      0.40      0.37        84\n",
      "         115       0.53      0.53      0.53        77\n",
      "         116       0.00      0.00      0.00         4\n",
      "         117       0.47      0.51      0.49       300\n",
      "         118       0.00      0.00      0.00         3\n",
      "         119       0.02      0.08      0.03       113\n",
      "         120       0.37      0.85      0.52      2469\n",
      "         121       0.42      0.51      0.46       477\n",
      "         122       0.68      0.88      0.77      1436\n",
      "         123       0.00      0.00      0.00         1\n",
      "         124       0.06      0.21      0.10       155\n",
      "         127       0.00      0.00      0.00         1\n",
      "         128       0.00      0.00      0.00         5\n",
      "         130       0.06      0.17      0.09        12\n",
      "         131       0.02      0.03      0.02        34\n",
      "         132       0.15      0.37      0.21        46\n",
      "         133       0.42      0.63      0.50        67\n",
      "         136       0.63      0.77      0.69       553\n",
      "         137       0.00      0.00      0.00        11\n",
      "         138       0.08      0.19      0.11        26\n",
      "         139       0.38      0.50      0.43       312\n",
      "         140       0.82      0.95      0.88      3206\n",
      "         143       0.00      0.00      0.00         2\n",
      "         144       0.30      0.50      0.37        16\n",
      "         145       0.27      0.54      0.36       201\n",
      "         146       0.25      0.33      0.28        79\n",
      "         147       0.36      0.55      0.43       286\n",
      "         148       0.12      0.50      0.20         2\n",
      "         149       0.25      0.23      0.24       141\n",
      "         150       0.37      0.62      0.46        95\n",
      "         151       0.24      0.41      0.31        22\n",
      "         152       0.36      0.38      0.37        60\n",
      "         153       0.20      0.48      0.29       146\n",
      "         154       0.00      0.00      0.00         1\n",
      "         155       0.52      0.78      0.62       543\n",
      "         156       0.61      0.86      0.71       512\n",
      "         157       0.00      0.00      0.00         4\n",
      "         158       0.00      0.00      0.00         1\n",
      "         159       0.38      0.46      0.42       221\n",
      "         160       0.09      0.52      0.15       341\n",
      "         161       0.25      0.45      0.32       132\n",
      "\n",
      "    accuracy                           0.59     40406\n",
      "   macro avg       0.14      0.17      0.14     40406\n",
      "weighted avg       0.54      0.59      0.54     40406\n",
      "\n"
     ]
    },
    {
     "name": "stderr",
     "output_type": "stream",
     "text": [
      "C:\\Users\\mnicn\\anaconda3\\lib\\site-packages\\sklearn\\metrics\\_classification.py:1344: UndefinedMetricWarning: Precision and F-score are ill-defined and being set to 0.0 in labels with no predicted samples. Use `zero_division` parameter to control this behavior.\n",
      "  _warn_prf(average, modifier, msg_start, len(result))\n",
      "C:\\Users\\mnicn\\anaconda3\\lib\\site-packages\\sklearn\\metrics\\_classification.py:1344: UndefinedMetricWarning: Precision and F-score are ill-defined and being set to 0.0 in labels with no predicted samples. Use `zero_division` parameter to control this behavior.\n",
      "  _warn_prf(average, modifier, msg_start, len(result))\n",
      "C:\\Users\\mnicn\\anaconda3\\lib\\site-packages\\sklearn\\metrics\\_classification.py:1344: UndefinedMetricWarning: Precision and F-score are ill-defined and being set to 0.0 in labels with no predicted samples. Use `zero_division` parameter to control this behavior.\n",
      "  _warn_prf(average, modifier, msg_start, len(result))\n"
     ]
    }
   ],
   "source": [
    "print(classification_report(test_labels.numpy().argmax(axis=1), y_pred.argmax(axis=1)))"
   ]
  },
  {
   "cell_type": "code",
   "execution_count": 85,
   "id": "9382b4d1-abb7-46ec-92e7-3e246e84e40f",
   "metadata": {},
   "outputs": [
    {
     "data": {
      "text/plain": [
       "array([[  0,   0,   0, ...,   0,   0,   0],\n",
       "       [  0,   0,   0, ...,   1,   0,   0],\n",
       "       [  0,   0,   0, ...,   0,   0,   0],\n",
       "       ...,\n",
       "       [  0,   0,   0, ..., 102,   0,  41],\n",
       "       [  0,   0,   0, ...,   1, 176,   2],\n",
       "       [  0,   0,   0, ...,  29,   0,  60]], dtype=int64)"
      ]
     },
     "execution_count": 85,
     "metadata": {},
     "output_type": "execute_result"
    }
   ],
   "source": [
    "from sklearn.metrics import confusion_matrix\n",
    "confusion_matrix(test_labels.numpy().argmax(axis=1), y_pred.argmax(axis=1))"
   ]
  },
  {
   "cell_type": "code",
   "execution_count": null,
   "id": "184c02fd-8980-443b-a35d-9d9c8a7dc2ab",
   "metadata": {},
   "outputs": [],
   "source": []
  }
 ],
 "metadata": {
  "kernelspec": {
   "display_name": "Python 3 (ipykernel)",
   "language": "python",
   "name": "python3"
  },
  "language_info": {
   "codemirror_mode": {
    "name": "ipython",
    "version": 3
   },
   "file_extension": ".py",
   "mimetype": "text/x-python",
   "name": "python",
   "nbconvert_exporter": "python",
   "pygments_lexer": "ipython3",
   "version": "3.9.12"
  }
 },
 "nbformat": 4,
 "nbformat_minor": 5
}
