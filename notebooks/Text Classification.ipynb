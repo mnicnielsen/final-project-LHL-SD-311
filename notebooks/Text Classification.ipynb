{
 "cells": [
  {
   "cell_type": "markdown",
   "id": "39f4264d-ab15-4503-b90d-d78d85271dca",
   "metadata": {
    "tags": []
   },
   "source": [
    "# Tensoflow NLP Model for Text Classification"
   ]
  },
  {
   "cell_type": "markdown",
   "id": "603d644c-7783-4f5f-b392-0865a6de92bb",
   "metadata": {},
   "source": [
    "## Imports"
   ]
  },
  {
   "cell_type": "code",
   "execution_count": 404,
   "id": "eda95c3b-eded-4950-addb-02536ef18f13",
   "metadata": {},
   "outputs": [],
   "source": [
    "import pandas as pd\n",
    "import numpy as np\n",
    "from matplotlib import pyplot as plt\n",
    "import seaborn as sns\n",
    "from datetime import datetime\n",
    "from sklearn.model_selection import train_test_split\n",
    "import pickle"
   ]
  },
  {
   "cell_type": "markdown",
   "id": "f93e5afd-acf6-4314-8f65-5d530bdb60e1",
   "metadata": {},
   "source": [
    "## Pre-Processing"
   ]
  },
  {
   "cell_type": "code",
   "execution_count": 405,
   "id": "586917ea-a092-408e-9315-d78c308958e5",
   "metadata": {},
   "outputs": [],
   "source": [
    "with open('../data/processed_21_data.pkl', 'rb') as file:\n",
    "    processed_21_data = pickle.load(file)"
   ]
  },
  {
   "cell_type": "code",
   "execution_count": 406,
   "id": "09c5aebe-f300-465d-8f64-4ac16a30fe5e",
   "metadata": {},
   "outputs": [],
   "source": [
    "#only keep relevant columns\n",
    "processed_21_data = processed_21_data[['detailed_type', 'public_description']]"
   ]
  },
  {
   "cell_type": "code",
   "execution_count": 407,
   "id": "af633270-a3d5-48aa-91c4-58b1860085ad",
   "metadata": {},
   "outputs": [
    {
     "data": {
      "text/html": [
       "<div>\n",
       "<style scoped>\n",
       "    .dataframe tbody tr th:only-of-type {\n",
       "        vertical-align: middle;\n",
       "    }\n",
       "\n",
       "    .dataframe tbody tr th {\n",
       "        vertical-align: top;\n",
       "    }\n",
       "\n",
       "    .dataframe thead th {\n",
       "        text-align: right;\n",
       "    }\n",
       "</style>\n",
       "<table border=\"1\" class=\"dataframe\">\n",
       "  <thead>\n",
       "    <tr style=\"text-align: right;\">\n",
       "      <th></th>\n",
       "      <th>detailed_type</th>\n",
       "      <th>public_description</th>\n",
       "    </tr>\n",
       "  </thead>\n",
       "  <tbody>\n",
       "    <tr>\n",
       "      <th>133467</th>\n",
       "      <td>Encampment</td>\n",
       "      <td>Encampment out front of Kristys.</td>\n",
       "    </tr>\n",
       "  </tbody>\n",
       "</table>\n",
       "</div>"
      ],
      "text/plain": [
       "       detailed_type                public_description\n",
       "133467    Encampment  Encampment out front of Kristys."
      ]
     },
     "execution_count": 407,
     "metadata": {},
     "output_type": "execute_result"
    }
   ],
   "source": [
    "processed_21_data[processed_21_data['public_description'] == 'Encampment out front of Kristys.']"
   ]
  },
  {
   "cell_type": "code",
   "execution_count": 408,
   "id": "674e3c4b-bd84-4424-a791-fd8a949bcd77",
   "metadata": {},
   "outputs": [],
   "source": [
    "# #split train and test data\n",
    "# (requests_train, requests_test) = train_test_split(processed_21_data, test_size = 0.2, random_state = 42)"
   ]
  },
  {
   "cell_type": "markdown",
   "id": "32e5b78c-28de-468a-a437-977e100c9c83",
   "metadata": {},
   "source": [
    "## Tensorflow Model"
   ]
  },
  {
   "cell_type": "markdown",
   "id": "9c867814-2307-439c-9b18-9b8696172405",
   "metadata": {},
   "source": [
    "### Imports"
   ]
  },
  {
   "cell_type": "code",
   "execution_count": 409,
   "id": "035c470b-7fc3-42dd-a477-58c9fdc8b338",
   "metadata": {},
   "outputs": [],
   "source": [
    "from __future__ import absolute_import, division, print_function, unicode_literals\n",
    "\n",
    "import tensorflow as tf\n",
    "\n",
    "import os\n",
    "import datetime\n",
    "import tensorflow_hub as hub"
   ]
  },
  {
   "cell_type": "code",
   "execution_count": 410,
   "id": "e9016c86-4fcc-40b5-befb-f3d2b0612263",
   "metadata": {},
   "outputs": [],
   "source": [
    "pd.set_option('display.max_colwidth', None)"
   ]
  },
  {
   "cell_type": "code",
   "execution_count": 411,
   "id": "a668b477-604e-47bb-ba27-99c443d17bcd",
   "metadata": {},
   "outputs": [
    {
     "data": {
      "text/html": [
       "<div>\n",
       "<style scoped>\n",
       "    .dataframe tbody tr th:only-of-type {\n",
       "        vertical-align: middle;\n",
       "    }\n",
       "\n",
       "    .dataframe tbody tr th {\n",
       "        vertical-align: top;\n",
       "    }\n",
       "\n",
       "    .dataframe thead th {\n",
       "        text-align: right;\n",
       "    }\n",
       "</style>\n",
       "<table border=\"1\" class=\"dataframe\">\n",
       "  <thead>\n",
       "    <tr style=\"text-align: right;\">\n",
       "      <th></th>\n",
       "      <th>detailed_type</th>\n",
       "      <th>public_description</th>\n",
       "    </tr>\n",
       "  </thead>\n",
       "  <tbody>\n",
       "    <tr>\n",
       "      <th>259788</th>\n",
       "      <td>Quality of Life Issues</td>\n",
       "      <td>Still no one has came and investigate illegal mechanic work  done in the alley and streets oil spills every where this guy just washes everything off in the streets please send a different city worker who not on this case because nothing is getting done I got phone call few days back and he hung up on me and still doesn't get nothing done  I see different cars going and coming and yet oil spills just gets.washed into the street please review or  if I have to i will call news and get lawyer tou have many complaints amd I will let my lawyer know please dont call me asking questions come review or you will get later from my attorney and sue the city for not doing there job</td>\n",
       "    </tr>\n",
       "    <tr>\n",
       "      <th>260548</th>\n",
       "      <td>72 Hour Violation</td>\n",
       "      <td>The car appears to be abandoned.. ( ( interior and exterior damage), has not been moved in at least 2 weeks...and .has 2020 license plates).</td>\n",
       "    </tr>\n",
       "    <tr>\n",
       "      <th>97777</th>\n",
       "      <td>Other</td>\n",
       "      <td>Illegal dumping of rocks on bird nests</td>\n",
       "    </tr>\n",
       "    <tr>\n",
       "      <th>318752</th>\n",
       "      <td>Dead Animal</td>\n",
       "      <td>A dead possum in the middle of the rad</td>\n",
       "    </tr>\n",
       "    <tr>\n",
       "      <th>112045</th>\n",
       "      <td>Encampment</td>\n",
       "      <td>Fed ex box being used as a shelter under MTS trolley bridge.</td>\n",
       "    </tr>\n",
       "    <tr>\n",
       "      <th>125692</th>\n",
       "      <td>Shared Mobility Device</td>\n",
       "      <td>Link</td>\n",
       "    </tr>\n",
       "    <tr>\n",
       "      <th>228856</th>\n",
       "      <td>72 Hour Violation</td>\n",
       "      <td>Inoperable and abandoned</td>\n",
       "    </tr>\n",
       "    <tr>\n",
       "      <th>65459</th>\n",
       "      <td>Missed Collection</td>\n",
       "      <td>Missed greens collection</td>\n",
       "    </tr>\n",
       "    <tr>\n",
       "      <th>205859</th>\n",
       "      <td>Traffic Signal Out of Service</td>\n",
       "      <td>Broken traffic light</td>\n",
       "    </tr>\n",
       "    <tr>\n",
       "      <th>51767</th>\n",
       "      <td>Damaged/Knocked Over Pole</td>\n",
       "      <td>VANDALIZED STREET LIGHT</td>\n",
       "    </tr>\n",
       "  </tbody>\n",
       "</table>\n",
       "</div>"
      ],
      "text/plain": [
       "                        detailed_type  \\\n",
       "259788         Quality of Life Issues   \n",
       "260548              72 Hour Violation   \n",
       "97777                           Other   \n",
       "318752                    Dead Animal   \n",
       "112045                     Encampment   \n",
       "125692         Shared Mobility Device   \n",
       "228856              72 Hour Violation   \n",
       "65459               Missed Collection   \n",
       "205859  Traffic Signal Out of Service   \n",
       "51767       Damaged/Knocked Over Pole   \n",
       "\n",
       "                                                                                                                                                                                                                                                                                                                                                                                                                                                                                                                                                                                                                                                                                            public_description  \n",
       "259788  Still no one has came and investigate illegal mechanic work  done in the alley and streets oil spills every where this guy just washes everything off in the streets please send a different city worker who not on this case because nothing is getting done I got phone call few days back and he hung up on me and still doesn't get nothing done  I see different cars going and coming and yet oil spills just gets.washed into the street please review or  if I have to i will call news and get lawyer tou have many complaints amd I will let my lawyer know please dont call me asking questions come review or you will get later from my attorney and sue the city for not doing there job  \n",
       "260548                                                                                                                                                                                                                                                                                                                                                                                                                                                                                                                                                            The car appears to be abandoned.. ( ( interior and exterior damage), has not been moved in at least 2 weeks...and .has 2020 license plates).  \n",
       "97777                                                                                                                                                                                                                                                                                                                                                                                                                                                                                                                                                                                                                                                                   Illegal dumping of rocks on bird nests  \n",
       "318752                                                                                                                                                                                                                                                                                                                                                                                                                                                                                                                                                                                                                                                                  A dead possum in the middle of the rad  \n",
       "112045                                                                                                                                                                                                                                                                                                                                                                                                                                                                                                                                                                                                                                            Fed ex box being used as a shelter under MTS trolley bridge.  \n",
       "125692                                                                                                                                                                                                                                                                                                                                                                                                                                                                                                                                                                                                                                                                                                    Link  \n",
       "228856                                                                                                                                                                                                                                                                                                                                                                                                                                                                                                                                                                                                                                                                                Inoperable and abandoned  \n",
       "65459                                                                                                                                                                                                                                                                                                                                                                                                                                                                                                                                                                                                                                                                                 Missed greens collection  \n",
       "205859                                                                                                                                                                                                                                                                                                                                                                                                                                                                                                                                                                                                                                                                                    Broken traffic light  \n",
       "51767                                                                                                                                                                                                                                                                                                                                                                                                                                                                                                                                                                                                                                                                                  VANDALIZED STREET LIGHT  "
      ]
     },
     "execution_count": 411,
     "metadata": {},
     "output_type": "execute_result"
    }
   ],
   "source": [
    "processed_21_data.sample(10)"
   ]
  },
  {
   "cell_type": "code",
   "execution_count": 412,
   "id": "f85de6bf-3294-41f3-8c48-4ec983e38e16",
   "metadata": {},
   "outputs": [],
   "source": [
    "X_train, X_test = train_test_split(processed_21_data, test_size=0.2, random_state=42)"
   ]
  },
  {
   "cell_type": "code",
   "execution_count": 413,
   "id": "ed890d26-12fb-411b-8fcb-1d50996f04f1",
   "metadata": {},
   "outputs": [],
   "source": [
    "from sklearn.utils import class_weight"
   ]
  },
  {
   "cell_type": "code",
   "execution_count": 414,
   "id": "bea7fa13-4009-4250-b20f-759a5a3e2e9b",
   "metadata": {},
   "outputs": [],
   "source": [
    "class_weights = list(class_weight.compute_class_weight(class_weight = 'balanced',\n",
    "                                                       classes= np.unique(processed_21_data['detailed_type']),\n",
    "                                                      y=processed_21_data['detailed_type']\n",
    "                                                      ))"
   ]
  },
  {
   "cell_type": "code",
   "execution_count": 415,
   "id": "9fe647b9-bb29-4744-abf4-53d7f90df17c",
   "metadata": {},
   "outputs": [
    {
     "data": {
      "text/plain": [
       "51"
      ]
     },
     "execution_count": 415,
     "metadata": {},
     "output_type": "execute_result"
    }
   ],
   "source": [
    "len(X_train['detailed_type'].value_counts())"
   ]
  },
  {
   "cell_type": "code",
   "execution_count": 416,
   "id": "6132bd7a-9584-4e25-8766-e127636bbb3b",
   "metadata": {
    "tags": []
   },
   "outputs": [
    {
     "data": {
      "text/plain": [
       "[0.1823593766156387,\n",
       " 8.660313862848117,\n",
       " 3.020793656497419,\n",
       " 5.369206531689766,\n",
       " 2.7260414639946386,\n",
       " 1.385553156538603,\n",
       " 176.60854341736695,\n",
       " 3.915312126434105,\n",
       " 0.18867714203847055,\n",
       " 3.2320517749583493,\n",
       " 6.26747682596486,\n",
       " 2.9157070847206805,\n",
       " 2.677335796256781,\n",
       " 0.1989795274298356,\n",
       " 1.1417776993041502,\n",
       " 0.3181317045603625,\n",
       " 4.495490196078431,\n",
       " 0.1319768132505878,\n",
       " 0.5327557870810467,\n",
       " 25.890257673750128,\n",
       " 6.945279797312184,\n",
       " 0.32755111715481716,\n",
       " 2.7230392156862746,\n",
       " 1.7351014791881665,\n",
       " 0.540028307926862,\n",
       " 4.940099116569705,\n",
       " 1.660523578135082,\n",
       " 4.759421766781785,\n",
       " 494.50392156862745,\n",
       " 0.25155352608028664,\n",
       " 1.4686781157369393,\n",
       " 10.611672136665826,\n",
       " 34.580693815987935,\n",
       " 2.5450536364829,\n",
       " 4.131193998067063,\n",
       " 11.77390289449113,\n",
       " 1.476571876884525,\n",
       " 2.597184462020102,\n",
       " 2.319436780340654,\n",
       " 1.435008478144595,\n",
       " 11.187871528701978,\n",
       " 1.883107088989442,\n",
       " 1.624520110278014,\n",
       " 4.368409201136285,\n",
       " 2.2559485473021326,\n",
       " 2.6904457103842625,\n",
       " 4.974888546968083,\n",
       " 4.532574899804101,\n",
       " 3.192407498829099,\n",
       " 2.420479302832244,\n",
       " 6.173582042055274]"
      ]
     },
     "execution_count": 416,
     "metadata": {},
     "output_type": "execute_result"
    }
   ],
   "source": [
    "class_weights"
   ]
  },
  {
   "cell_type": "code",
   "execution_count": 417,
   "id": "28fd6cd9-3d66-43c1-9cbe-7e689e2a7ce8",
   "metadata": {},
   "outputs": [
    {
     "data": {
      "text/plain": [
       "51"
      ]
     },
     "execution_count": 417,
     "metadata": {},
     "output_type": "execute_result"
    }
   ],
   "source": [
    "num_options = len(class_weights)\n",
    "num_options"
   ]
  },
  {
   "cell_type": "code",
   "execution_count": 418,
   "id": "6c4fb032-7c8c-4ef5-a0fc-4f719a72158b",
   "metadata": {},
   "outputs": [],
   "source": [
    "weights = {}"
   ]
  },
  {
   "cell_type": "code",
   "execution_count": 419,
   "id": "6b5a6740-e31b-4c09-8c8e-e7d19a85cf82",
   "metadata": {},
   "outputs": [],
   "source": [
    "for index, weight in enumerate(class_weights) :\n",
    "    weights[index]=weight"
   ]
  },
  {
   "cell_type": "code",
   "execution_count": 420,
   "id": "a72fe509-02a3-4dc0-9503-97568039c06f",
   "metadata": {
    "tags": []
   },
   "outputs": [
    {
     "data": {
      "text/plain": [
       "{0: 0.1823593766156387,\n",
       " 1: 8.660313862848117,\n",
       " 2: 3.020793656497419,\n",
       " 3: 5.369206531689766,\n",
       " 4: 2.7260414639946386,\n",
       " 5: 1.385553156538603,\n",
       " 6: 176.60854341736695,\n",
       " 7: 3.915312126434105,\n",
       " 8: 0.18867714203847055,\n",
       " 9: 3.2320517749583493,\n",
       " 10: 6.26747682596486,\n",
       " 11: 2.9157070847206805,\n",
       " 12: 2.677335796256781,\n",
       " 13: 0.1989795274298356,\n",
       " 14: 1.1417776993041502,\n",
       " 15: 0.3181317045603625,\n",
       " 16: 4.495490196078431,\n",
       " 17: 0.1319768132505878,\n",
       " 18: 0.5327557870810467,\n",
       " 19: 25.890257673750128,\n",
       " 20: 6.945279797312184,\n",
       " 21: 0.32755111715481716,\n",
       " 22: 2.7230392156862746,\n",
       " 23: 1.7351014791881665,\n",
       " 24: 0.540028307926862,\n",
       " 25: 4.940099116569705,\n",
       " 26: 1.660523578135082,\n",
       " 27: 4.759421766781785,\n",
       " 28: 494.50392156862745,\n",
       " 29: 0.25155352608028664,\n",
       " 30: 1.4686781157369393,\n",
       " 31: 10.611672136665826,\n",
       " 32: 34.580693815987935,\n",
       " 33: 2.5450536364829,\n",
       " 34: 4.131193998067063,\n",
       " 35: 11.77390289449113,\n",
       " 36: 1.476571876884525,\n",
       " 37: 2.597184462020102,\n",
       " 38: 2.319436780340654,\n",
       " 39: 1.435008478144595,\n",
       " 40: 11.187871528701978,\n",
       " 41: 1.883107088989442,\n",
       " 42: 1.624520110278014,\n",
       " 43: 4.368409201136285,\n",
       " 44: 2.2559485473021326,\n",
       " 45: 2.6904457103842625,\n",
       " 46: 4.974888546968083,\n",
       " 47: 4.532574899804101,\n",
       " 48: 3.192407498829099,\n",
       " 49: 2.420479302832244,\n",
       " 50: 6.173582042055274}"
      ]
     },
     "execution_count": 420,
     "metadata": {},
     "output_type": "execute_result"
    }
   ],
   "source": [
    "weights"
   ]
  },
  {
   "cell_type": "code",
   "execution_count": 421,
   "id": "5cab28d1-2c40-4ffe-b512-b42efa0d91d9",
   "metadata": {},
   "outputs": [],
   "source": [
    "list1 = [3,1]"
   ]
  },
  {
   "cell_type": "code",
   "execution_count": 422,
   "id": "f7c6f072-f071-4fc2-a139-d11be3565042",
   "metadata": {},
   "outputs": [
    {
     "data": {
      "text/plain": [
       "(2,)"
      ]
     },
     "execution_count": 422,
     "metadata": {},
     "output_type": "execute_result"
    }
   ],
   "source": [
    "np.array(list1).shape"
   ]
  },
  {
   "cell_type": "code",
   "execution_count": 497,
   "id": "5413842e-c654-42b6-bb9d-25957b344b58",
   "metadata": {},
   "outputs": [],
   "source": [
    "array1 = np.array([1])\n",
    "array2 = np.array([5])"
   ]
  },
  {
   "cell_type": "code",
   "execution_count": 526,
   "id": "f138f2f6-8804-4747-9009-2cad8cd1d675",
   "metadata": {},
   "outputs": [
    {
     "name": "stdout",
     "output_type": "stream",
     "text": [
      "shape (1,)\n",
      "type <class 'numpy.ndarray'>\n"
     ]
    }
   ],
   "source": [
    "string1 = 'string1'\n",
    "string2 = 'string2'\n",
    "string3 = 'string3'\n",
    "\n",
    "string_array = np.array([string1])\n",
    "print('shape', string_array.shape)\n",
    "print('type', type(string_array))"
   ]
  },
  {
   "cell_type": "code",
   "execution_count": 527,
   "id": "a78a6d5d-12cd-42a5-a8d7-ae92a906d990",
   "metadata": {},
   "outputs": [
    {
     "name": "stdout",
     "output_type": "stream",
     "text": [
      "shape (1,)\n",
      "type <class 'numpy.ndarray'>\n"
     ]
    }
   ],
   "source": [
    "test_array = X_train['public_description'].values[0:1]\n",
    "print('shape', test_array.shape)\n",
    "print('type', type(test_array))"
   ]
  },
  {
   "cell_type": "code",
   "execution_count": 528,
   "id": "ee75b7cb-ab51-4f37-8485-831f10b96c9a",
   "metadata": {},
   "outputs": [
    {
     "data": {
      "text/plain": [
       "str"
      ]
     },
     "execution_count": 528,
     "metadata": {},
     "output_type": "execute_result"
    }
   ],
   "source": [
    "type(X_train['public_description'].values[0])"
   ]
  },
  {
   "cell_type": "code",
   "execution_count": 529,
   "id": "504f894e-4e44-428c-9f26-2ccca7e7b510",
   "metadata": {},
   "outputs": [],
   "source": [
    "dataset_train = tf.data.Dataset.from_tensor_slices((string_array, test_array))"
   ]
  },
  {
   "cell_type": "code",
   "execution_count": 512,
   "id": "2e3ca4ad-8186-4f09-a7e0-32420e8bded2",
   "metadata": {},
   "outputs": [],
   "source": [
    "#Instantiate\n",
    "dataset_train = tf.data.Dataset.from_tensor_slices((X_train['public_description'].values, X_train['detailed_type'].values))\n",
    "dataset_test = tf.data.Dataset.from_tensor_slices((X_test['public_description'].values, X_test['detailed_type'].values))"
   ]
  },
  {
   "cell_type": "code",
   "execution_count": 513,
   "id": "dade2369-3051-47f1-81f7-5ccd552578e7",
   "metadata": {},
   "outputs": [],
   "source": [
    "dataset_train = tf.data.Dataset.from_tensor_slices((testing, X_train['detailed_type'].values))"
   ]
  },
  {
   "cell_type": "code",
   "execution_count": 426,
   "id": "e14e1564-252d-4fdd-8133-e72b4aa65966",
   "metadata": {},
   "outputs": [
    {
     "name": "stdout",
     "output_type": "stream",
     "text": [
      "description: b'all lights out', Target: b'Street Light Out of Service'\n",
      "description: b'Graffiti tag on streetlight post southwest corner of nutmeg and 4th Avenue', Target: b'Graffiti Removal'\n",
      "description: b'Graffiti -Jacky', Target: b'Graffiti Removal'\n",
      "description: b'There are many campers, motorhomes, trailers parked for weeks and putting trash all over. the have broke the lock on the hose bib on the lawnmower shop and created a $900 dollar water bill.  they have pooped on the sidewalk as well as urinating causing possible disease.  one man died on the street.  this is not a safe environment. please do something about it', Target: b'Encampment'\n",
      "description: b'Homeless Encampment', Target: b'Encampment'\n"
     ]
    }
   ],
   "source": [
    "for text, target in dataset_train.take(5):\n",
    "    print('description: {}, Target: {}'.format(text, target))"
   ]
  },
  {
   "cell_type": "code",
   "execution_count": 427,
   "id": "6a1e4d18-6525-4e46-94af-e3775bf6fe11",
   "metadata": {},
   "outputs": [
    {
     "name": "stdout",
     "output_type": "stream",
     "text": [
      "description: b\"Once again our stop sign has been knocked over and this time I got the license plate number of the truck that knocked it down.....34093A1                                      This has been an ongoing issue for too long with constructions trucks that are driving down our easement.  This tiny street/easement is meant for the people who live on it, it is not a parking lot for lots of construction trucks.  They have been blocking driveways for the residents that live down there with no regard.  I have tried talking with them about it isn't parking for them and some of the trucks are way too large and that is why the sign is continually knocked down.       Please have someone put the stop sign back up and could we please also get a sign saying no construction trucks, they have the alley to park it but they want to do what is easiest despite the constant inconvenience and noise that is disrupting the residents who pay a fortune to live here.    Truck blocking driveway\", Target: b'Traffic Sign Maintenance'\n",
      "description: b'MISSION BAY DR & GRAND AV\\nSIGNALS ON RED FLASH', Target: b'Flashing Traffic Signal Lights'\n",
      "description: b'Desk dumped on south side of F St between 22nd Street and 23rd St', Target: b'Illegal Dumping'\n",
      "description: b'Bay inn motel, I am trying to call the cops right now because I think the motel owner is hiding something, something like letting guys rape girls, please send someone to ask if he is hiding something and if he takes money from guys to let them rape a girl.', Target: b'Other'\n",
      "description: b'Traffic signal out at Jackson and Navajo.  The turn signal light did not show green last night for the cars going east on Jackson.  Also would be good if that dedicated turn signal was an arrow instead of a solid', Target: b'Traffic Signal Out of Service'\n"
     ]
    }
   ],
   "source": [
    "for text, target in dataset_test.take(5):\n",
    "    print('description: {}, Target: {}'.format(text, target))"
   ]
  },
  {
   "cell_type": "code",
   "execution_count": 428,
   "id": "56412722-e259-40fa-8ace-c0ce77a77ac3",
   "metadata": {},
   "outputs": [
    {
     "data": {
      "text/plain": [
       "['72 Hour Violation',\n",
       " 'COVID-19',\n",
       " 'Container Left Out',\n",
       " 'Container Out Late',\n",
       " 'Damaged/Knocked Over Pole',\n",
       " 'Dead Animal',\n",
       " 'Development Services - Code Enforcement',\n",
       " 'Drain Inlet',\n",
       " 'Encampment',\n",
       " 'Encroachment',\n",
       " 'Environmental Services Code Compliance',\n",
       " 'Fallen/Hanging Tree Limb',\n",
       " 'Flashing Traffic Signal Lights',\n",
       " 'Graffiti Removal',\n",
       " 'Graffiti Removal - Commercial',\n",
       " 'Illegal Dumping',\n",
       " 'Litter',\n",
       " 'Missed Collection',\n",
       " 'Other',\n",
       " 'Oversized Vehicle',\n",
       " 'Parking',\n",
       " 'Parking Zone Violation',\n",
       " 'Pavement Maintenance',\n",
       " 'Potential Missed Collection',\n",
       " 'Pothole',\n",
       " 'Quality of Life Issues',\n",
       " 'ROW Maintenance',\n",
       " 'Resurfacing Evaluation',\n",
       " 'Right-of-Way Code Enforcement',\n",
       " 'Shared Mobility Device',\n",
       " 'Sidewalk Repair Issue',\n",
       " 'Stormwater',\n",
       " 'Stormwater Code Enforcement',\n",
       " 'Stormwater Pollution Prevention',\n",
       " 'Street Flooded',\n",
       " 'Street Light Maintenance',\n",
       " 'Street Light Out of Service',\n",
       " 'Street Sweeping',\n",
       " 'Traffic Engineering',\n",
       " 'Traffic Sign Maintenance',\n",
       " 'Traffic Signal Issue',\n",
       " 'Traffic Signal Out of Service',\n",
       " 'Traffic Signal Timing',\n",
       " 'Trash/Recycling Collection',\n",
       " 'Tree Maintenance',\n",
       " 'Tree Removal',\n",
       " 'Tree Trimming for Pedestrian/Vehicle Clearance',\n",
       " 'Trimming Request',\n",
       " 'Vegetation Encroachment',\n",
       " 'Waste on Private Property',\n",
       " 'Weed Cleanup']"
      ]
     },
     "execution_count": 428,
     "metadata": {},
     "output_type": "execute_result"
    }
   ],
   "source": [
    "detailed_types = list(np.unique(X_train['detailed_type']))\n",
    "detailed_types"
   ]
  },
  {
   "cell_type": "code",
   "execution_count": 429,
   "id": "5604d556-ae3d-4bdf-be00-746f9967da67",
   "metadata": {},
   "outputs": [],
   "source": [
    "vals = list(range(num_options))"
   ]
  },
  {
   "cell_type": "code",
   "execution_count": 430,
   "id": "f245a5b0-1079-4085-b991-8944a863570c",
   "metadata": {},
   "outputs": [
    {
     "data": {
      "text/plain": [
       "True"
      ]
     },
     "execution_count": 430,
     "metadata": {},
     "output_type": "execute_result"
    }
   ],
   "source": [
    "num_options == len(vals)"
   ]
  },
  {
   "cell_type": "code",
   "execution_count": 431,
   "id": "51fa5d6e-f487-4f55-b2b3-73080bded449",
   "metadata": {},
   "outputs": [],
   "source": [
    "table = tf.lookup.StaticHashTable(\n",
    "    initializer=tf.lookup.KeyValueTensorInitializer(\n",
    "        keys=tf.constant(detailed_types),\n",
    "        values=tf.constant(vals),\n",
    "    ),\n",
    "        default_value=tf.constant(-1),\n",
    "        name=\"target_encoding\"\n",
    ")\n"
   ]
  },
  {
   "cell_type": "code",
   "execution_count": 535,
   "id": "9e1a36be-8949-42f6-9f5d-9b160da55fcd",
   "metadata": {},
   "outputs": [],
   "source": [
    "pickle.dump(detailed_types, open('../data/detailed_types.pkl', 'wb'))\n",
    "pickle.dump(vals, open('../data/vals.pkl', 'wb'))"
   ]
  },
  {
   "cell_type": "code",
   "execution_count": 432,
   "id": "08c9011a-ea77-46c5-8ec5-e65ff68a6eb2",
   "metadata": {},
   "outputs": [],
   "source": [
    "@tf.function\n",
    "def target(x):\n",
    "    return table.lookup(x)"
   ]
  },
  {
   "cell_type": "code",
   "execution_count": 433,
   "id": "d265f243-769e-4337-8883-6c7d9efb2307",
   "metadata": {},
   "outputs": [],
   "source": [
    "def show_batch(dataset, size=5):\n",
    "    for batch, label in dataset.take(size):\n",
    "        print(batch.numpy())\n",
    "        print(target(label).numpy())"
   ]
  },
  {
   "cell_type": "code",
   "execution_count": 434,
   "id": "29b19d16-0ea6-494b-8cab-41e9c285d81c",
   "metadata": {
    "tags": []
   },
   "outputs": [
    {
     "name": "stdout",
     "output_type": "stream",
     "text": [
      "b\"Once again our stop sign has been knocked over and this time I got the license plate number of the truck that knocked it down.....34093A1                                      This has been an ongoing issue for too long with constructions trucks that are driving down our easement.  This tiny street/easement is meant for the people who live on it, it is not a parking lot for lots of construction trucks.  They have been blocking driveways for the residents that live down there with no regard.  I have tried talking with them about it isn't parking for them and some of the trucks are way too large and that is why the sign is continually knocked down.       Please have someone put the stop sign back up and could we please also get a sign saying no construction trucks, they have the alley to park it but they want to do what is easiest despite the constant inconvenience and noise that is disrupting the residents who pay a fortune to live here.    Truck blocking driveway\"\n",
      "39\n",
      "b'MISSION BAY DR & GRAND AV\\nSIGNALS ON RED FLASH'\n",
      "12\n",
      "b'Desk dumped on south side of F St between 22nd Street and 23rd St'\n",
      "15\n",
      "b'Bay inn motel, I am trying to call the cops right now because I think the motel owner is hiding something, something like letting guys rape girls, please send someone to ask if he is hiding something and if he takes money from guys to let them rape a girl.'\n",
      "18\n",
      "b'Traffic signal out at Jackson and Navajo.  The turn signal light did not show green last night for the cars going east on Jackson.  Also would be good if that dedicated turn signal was an arrow instead of a solid'\n",
      "41\n",
      "b'Electrical access and base of lamp covered with dirt/erosion from city park'\n",
      "4\n"
     ]
    }
   ],
   "source": [
    "show_batch(dataset_test, 6)"
   ]
  },
  {
   "cell_type": "code",
   "execution_count": 435,
   "id": "b23676d7-8efc-4eab-97b4-dc521d71f087",
   "metadata": {},
   "outputs": [],
   "source": [
    "def fetch(text, labels):\n",
    "        return text, tf.one_hot(target(labels),num_options)"
   ]
  },
  {
   "cell_type": "code",
   "execution_count": 436,
   "id": "f9d34044-413f-4f51-95e4-104f5f6808f6",
   "metadata": {},
   "outputs": [],
   "source": [
    "train_data_f = dataset_train.map(fetch)\n",
    "test_data_f=dataset_test.map(fetch)"
   ]
  },
  {
   "cell_type": "code",
   "execution_count": 437,
   "id": "f4afb2af-4922-4fdc-bac4-85fbb5ebd3fc",
   "metadata": {},
   "outputs": [
    {
     "data": {
      "text/plain": [
       "(<tf.Tensor: shape=(), dtype=string, numpy=b'all lights out'>,\n",
       " <tf.Tensor: shape=(51,), dtype=float32, numpy=\n",
       " array([0., 0., 0., 0., 0., 0., 0., 0., 0., 0., 0., 0., 0., 0., 0., 0., 0.,\n",
       "        0., 0., 0., 0., 0., 0., 0., 0., 0., 0., 0., 0., 0., 0., 0., 0., 0.,\n",
       "        0., 0., 1., 0., 0., 0., 0., 0., 0., 0., 0., 0., 0., 0., 0., 0., 0.],\n",
       "       dtype=float32)>)"
      ]
     },
     "execution_count": 437,
     "metadata": {},
     "output_type": "execute_result"
    }
   ],
   "source": [
    "next(iter(train_data_f))"
   ]
  },
  {
   "cell_type": "code",
   "execution_count": 438,
   "id": "f585d628-70b8-4cef-8e51-7ac4502778e7",
   "metadata": {
    "tags": []
   },
   "outputs": [
    {
     "data": {
      "text/plain": [
       "(<tf.Tensor: shape=(2,), dtype=string, numpy=\n",
       " array([b'all lights out',\n",
       "        b'Graffiti tag on streetlight post southwest corner of nutmeg and 4th Avenue'],\n",
       "       dtype=object)>,\n",
       " <tf.Tensor: shape=(2, 51), dtype=float32, numpy=\n",
       " array([[0., 0., 0., 0., 0., 0., 0., 0., 0., 0., 0., 0., 0., 0., 0., 0.,\n",
       "         0., 0., 0., 0., 0., 0., 0., 0., 0., 0., 0., 0., 0., 0., 0., 0.,\n",
       "         0., 0., 0., 0., 1., 0., 0., 0., 0., 0., 0., 0., 0., 0., 0., 0.,\n",
       "         0., 0., 0.],\n",
       "        [0., 0., 0., 0., 0., 0., 0., 0., 0., 0., 0., 0., 0., 1., 0., 0.,\n",
       "         0., 0., 0., 0., 0., 0., 0., 0., 0., 0., 0., 0., 0., 0., 0., 0.,\n",
       "         0., 0., 0., 0., 0., 0., 0., 0., 0., 0., 0., 0., 0., 0., 0., 0.,\n",
       "         0., 0., 0.]], dtype=float32)>)"
      ]
     },
     "execution_count": 438,
     "metadata": {},
     "output_type": "execute_result"
    }
   ],
   "source": [
    "train_data, train_labels = next(iter(train_data_f.batch(2)))\n",
    "train_data, train_labels"
   ]
  },
  {
   "cell_type": "code",
   "execution_count": 439,
   "id": "44c20810-b6a2-4fa5-915f-1471a9b00a29",
   "metadata": {
    "tags": []
   },
   "outputs": [
    {
     "data": {
      "text/plain": [
       "<tf.Tensor: shape=(1, 128), dtype=float32, numpy=\n",
       "array([[ 1.47995263e-01, -7.63717247e-03,  1.62601136e-02,\n",
       "         1.52963430e-01,  7.51934499e-02,  8.86549726e-02,\n",
       "        -6.71813870e-03, -1.12587452e-01, -1.01478808e-01,\n",
       "         1.24230325e-01, -1.80843234e-01,  5.74152917e-02,\n",
       "        -4.22778800e-02,  4.33041453e-02, -2.48068776e-02,\n",
       "        -3.67566049e-02, -8.53721052e-02, -1.49181023e-01,\n",
       "        -1.95396766e-02,  6.50828108e-02,  1.18911266e-01,\n",
       "        -2.22919315e-01,  1.31057156e-02, -5.93604147e-02,\n",
       "         8.29051733e-02, -1.95304886e-01,  1.01555437e-01,\n",
       "         5.32250106e-02,  1.15061872e-01, -7.33501092e-02,\n",
       "         4.23228256e-02,  3.95037904e-02, -3.54817114e-03,\n",
       "        -4.91514914e-02,  1.39009073e-01,  9.05774087e-02,\n",
       "         4.52620238e-02, -2.33229801e-01,  2.15860397e-01,\n",
       "        -6.49156719e-02, -4.01241407e-02, -1.58689711e-02,\n",
       "         1.07540227e-01, -7.06280991e-02,  2.09827513e-01,\n",
       "         1.61402494e-01, -5.13916537e-02,  1.61632493e-01,\n",
       "         2.09935792e-02, -8.36215019e-02, -9.49045196e-02,\n",
       "         1.02050632e-01, -3.53829609e-03,  6.98952377e-02,\n",
       "        -2.34763399e-02, -1.35839731e-02, -4.72295471e-02,\n",
       "         5.43340258e-02,  6.33239970e-02,  1.47804305e-01,\n",
       "        -6.06865324e-02,  1.49379760e-01,  1.96360294e-02,\n",
       "         5.14171571e-02, -9.65381414e-03,  3.19579542e-02,\n",
       "        -7.51279145e-02, -1.14682183e-01, -2.40500012e-04,\n",
       "        -1.14619069e-01, -4.23453897e-02,  4.29280140e-02,\n",
       "         4.16361354e-03, -9.60547775e-02, -1.32764593e-01,\n",
       "         1.56184465e-01, -1.75323889e-01,  1.72322616e-02,\n",
       "         3.43944319e-03,  3.10350079e-02, -5.71420528e-02,\n",
       "        -5.31336963e-02,  1.43951401e-02,  3.57429124e-02,\n",
       "        -6.44346792e-03,  1.99301038e-02, -8.02345201e-02,\n",
       "        -5.02622500e-02,  2.40701988e-01, -7.83976633e-03,\n",
       "         3.59568149e-02,  5.35596013e-02, -1.16233036e-01,\n",
       "        -1.70270726e-01, -1.27632543e-01,  2.34068390e-02,\n",
       "         3.36121581e-02, -1.13210879e-01,  6.00738674e-02,\n",
       "        -1.48251623e-01,  1.02409743e-01, -1.44778281e-01,\n",
       "        -8.01889524e-02, -6.53424636e-02, -9.84855369e-02,\n",
       "         3.08727250e-02,  5.21717183e-02,  4.35162298e-02,\n",
       "        -4.43285704e-03, -6.32524565e-02, -1.84145927e-01,\n",
       "         2.38191858e-02, -1.16049945e-02, -6.53014183e-02,\n",
       "        -1.98960640e-02,  6.72993362e-02, -6.57343045e-02,\n",
       "        -3.99207175e-02,  1.39807984e-02,  1.03062699e-02,\n",
       "         4.20871973e-02, -2.30531961e-01, -1.20814882e-01,\n",
       "         1.18865669e-01, -2.15895679e-02, -1.85355902e-01,\n",
       "         1.08817540e-01, -9.51971635e-02]], dtype=float32)>"
      ]
     },
     "execution_count": 439,
     "metadata": {},
     "output_type": "execute_result"
    }
   ],
   "source": [
    "embedding = \"https://tfhub.dev/google/tf2-preview/nnlm-en-dim128/1\"\n",
    "hub_layer = hub.KerasLayer(embedding, output_shape=[128], input_shape=[],\n",
    "                           dtype=tf.string, trainable=True)\n",
    "hub_layer(train_data[:1])"
   ]
  },
  {
   "cell_type": "code",
   "execution_count": 440,
   "id": "cfa02fe7-1be6-4c93-b2b6-02806237a458",
   "metadata": {},
   "outputs": [
    {
     "name": "stdout",
     "output_type": "stream",
     "text": [
      "Model: \"sequential_5\"\n",
      "_________________________________________________________________\n",
      " Layer (type)                Output Shape              Param #   \n",
      "=================================================================\n",
      " keras_layer_4 (KerasLayer)  (None, 128)               124642688 \n",
      "                                                                 \n",
      " dense_25 (Dense)            (None, 128)               16512     \n",
      "                                                                 \n",
      " dropout_20 (Dropout)        (None, 128)               0         \n",
      "                                                                 \n",
      " dense_26 (Dense)            (None, 128)               16512     \n",
      "                                                                 \n",
      " dropout_21 (Dropout)        (None, 128)               0         \n",
      "                                                                 \n",
      " dense_27 (Dense)            (None, 64)                8256      \n",
      "                                                                 \n",
      " dropout_22 (Dropout)        (None, 64)                0         \n",
      "                                                                 \n",
      " dense_28 (Dense)            (None, 32)                2080      \n",
      "                                                                 \n",
      " dropout_23 (Dropout)        (None, 32)                0         \n",
      "                                                                 \n",
      " dense_29 (Dense)            (None, 51)                1683      \n",
      "                                                                 \n",
      "=================================================================\n",
      "Total params: 124,687,731\n",
      "Trainable params: 124,687,731\n",
      "Non-trainable params: 0\n",
      "_________________________________________________________________\n"
     ]
    }
   ],
   "source": [
    "model = tf.keras.Sequential()\n",
    "model.add(hub_layer)\n",
    "for units in [128, 128, 64, 32]:\n",
    "    model.add(tf.keras.layers.Dense(units, activation='relu'))\n",
    "    model.add(tf.keras.layers.Dropout(0.3))\n",
    "model.add(tf.keras.layers.Dense(num_options, activation='softmax'))\n",
    "\n",
    "model.summary()"
   ]
  },
  {
   "cell_type": "code",
   "execution_count": 441,
   "id": "82b91ee0-04c1-474e-9897-10c2cdfcac89",
   "metadata": {},
   "outputs": [],
   "source": [
    "model.compile(optimizer='adam',\n",
    "             loss=tf.keras.losses.CategoricalCrossentropy(from_logits=True),\n",
    "             metrics=['accuracy'])"
   ]
  },
  {
   "cell_type": "code",
   "execution_count": 442,
   "id": "ddbd119f-8a5e-491f-8295-0634db9443b7",
   "metadata": {},
   "outputs": [],
   "source": [
    "train_data_f=train_data_f.shuffle(70000).batch(512)\n",
    "test_data_f=test_data_f.batch(512)"
   ]
  },
  {
   "cell_type": "code",
   "execution_count": 443,
   "id": "6827a02c-04ee-4d25-ad5f-2488e8dc0fa0",
   "metadata": {
    "tags": []
   },
   "outputs": [
    {
     "name": "stdout",
     "output_type": "stream",
     "text": [
      "Epoch 1/20\n"
     ]
    },
    {
     "name": "stderr",
     "output_type": "stream",
     "text": [
      "C:\\Users\\mnicn\\anaconda3\\lib\\site-packages\\keras\\backend.py:5534: UserWarning: \"`categorical_crossentropy` received `from_logits=True`, but the `output` argument was produced by a Softmax activation and thus does not represent logits. Was this intended?\n",
      "  output, from_logits = _get_logits(\n"
     ]
    },
    {
     "name": "stdout",
     "output_type": "stream",
     "text": [
      "395/395 [==============================] - 598s 1s/step - loss: 3.3310 - accuracy: 0.2075 - val_loss: 1.8372 - val_accuracy: 0.4977\n",
      "Epoch 2/20\n",
      "395/395 [==============================] - 573s 1s/step - loss: 2.3545 - accuracy: 0.3474 - val_loss: 1.6680 - val_accuracy: 0.4763\n",
      "Epoch 3/20\n",
      "395/395 [==============================] - 572s 1s/step - loss: 2.0014 - accuracy: 0.3942 - val_loss: 1.5584 - val_accuracy: 0.5360\n",
      "Epoch 4/20\n",
      "395/395 [==============================] - 576s 1s/step - loss: 1.8128 - accuracy: 0.4193 - val_loss: 1.4841 - val_accuracy: 0.6056\n",
      "Epoch 5/20\n",
      "395/395 [==============================] - 554s 1s/step - loss: 1.6283 - accuracy: 0.4402 - val_loss: 1.4909 - val_accuracy: 0.5587\n",
      "Epoch 6/20\n",
      "395/395 [==============================] - 558s 1s/step - loss: 1.5277 - accuracy: 0.4609 - val_loss: 1.5167 - val_accuracy: 0.5031\n",
      "Epoch 7/20\n",
      "395/395 [==============================] - 558s 1s/step - loss: 1.4194 - accuracy: 0.4709 - val_loss: 1.5186 - val_accuracy: 0.4998\n",
      "Epoch 8/20\n",
      "395/395 [==============================] - 557s 1s/step - loss: 1.3384 - accuracy: 0.4838 - val_loss: 1.5405 - val_accuracy: 0.4964\n",
      "Epoch 9/20\n",
      "395/395 [==============================] - 560s 1s/step - loss: 1.2763 - accuracy: 0.4958 - val_loss: 1.5026 - val_accuracy: 0.5425\n",
      "Epoch 10/20\n",
      "395/395 [==============================] - 559s 1s/step - loss: 1.2231 - accuracy: 0.5122 - val_loss: 1.5405 - val_accuracy: 0.5306\n",
      "Epoch 11/20\n",
      "395/395 [==============================] - 558s 1s/step - loss: 1.1501 - accuracy: 0.5268 - val_loss: 1.4968 - val_accuracy: 0.5528\n",
      "Epoch 12/20\n",
      "395/395 [==============================] - 554s 1s/step - loss: 1.1113 - accuracy: 0.5369 - val_loss: 1.4920 - val_accuracy: 0.5619\n",
      "Epoch 13/20\n",
      "395/395 [==============================] - 560s 1s/step - loss: 1.0740 - accuracy: 0.5467 - val_loss: 1.5024 - val_accuracy: 0.5528\n",
      "Epoch 14/20\n",
      "395/395 [==============================] - 558s 1s/step - loss: 1.0420 - accuracy: 0.5566 - val_loss: 1.5221 - val_accuracy: 0.5509\n",
      "Epoch 15/20\n",
      "395/395 [==============================] - 558s 1s/step - loss: 0.9899 - accuracy: 0.5691 - val_loss: 1.5233 - val_accuracy: 0.5601\n",
      "Epoch 16/20\n",
      "395/395 [==============================] - 568s 1s/step - loss: 0.9614 - accuracy: 0.5828 - val_loss: 1.5551 - val_accuracy: 0.5505\n",
      "Epoch 17/20\n",
      "395/395 [==============================] - 559s 1s/step - loss: 0.9401 - accuracy: 0.5899 - val_loss: 1.5455 - val_accuracy: 0.5640\n",
      "Epoch 18/20\n",
      "395/395 [==============================] - 558s 1s/step - loss: 0.9064 - accuracy: 0.6003 - val_loss: 1.5746 - val_accuracy: 0.5617\n",
      "Epoch 19/20\n",
      "395/395 [==============================] - 557s 1s/step - loss: 0.8900 - accuracy: 0.6107 - val_loss: 1.5450 - val_accuracy: 0.5921\n",
      "Epoch 20/20\n",
      "395/395 [==============================] - 560s 1s/step - loss: 0.8600 - accuracy: 0.6197 - val_loss: 1.5803 - val_accuracy: 0.5962\n"
     ]
    }
   ],
   "source": [
    "history = model.fit(train_data_f,\n",
    "                   epochs=20,\n",
    "                   validation_data=test_data_f,\n",
    "                   verbose=1,\n",
    "                   class_weight=weights)"
   ]
  },
  {
   "cell_type": "code",
   "execution_count": 536,
   "id": "2fbaba2b-f371-4498-8de1-e2b894b72d52",
   "metadata": {},
   "outputs": [
    {
     "name": "stderr",
     "output_type": "stream",
     "text": [
      "WARNING:absl:Found untraced functions such as _update_step_xla while saving (showing 1 of 1). These functions will not be directly callable after loading.\n"
     ]
    },
    {
     "name": "stdout",
     "output_type": "stream",
     "text": [
      "INFO:tensorflow:Assets written to: ../data/tf_model.pkl\\assets\n"
     ]
    },
    {
     "name": "stderr",
     "output_type": "stream",
     "text": [
      "INFO:tensorflow:Assets written to: ../data/tf_model.pkl\\assets\n"
     ]
    }
   ],
   "source": [
    "model.save('../data/tf_model.pkl')"
   ]
  },
  {
   "cell_type": "code",
   "execution_count": 444,
   "id": "e8d56388-24ad-49b5-862e-bb5753d8feef",
   "metadata": {
    "tags": []
   },
   "outputs": [
    {
     "name": "stdout",
     "output_type": "stream",
     "text": [
      "Keras weights file (<HDF5 file \"variables.h5\" (mode r+)>) saving:\n",
      "...layers\\dense\n",
      "......vars\n",
      ".........0\n",
      ".........1\n",
      "...layers\\dense_1\n",
      "......vars\n",
      ".........0\n",
      ".........1\n",
      "...layers\\dense_2\n",
      "......vars\n",
      ".........0\n",
      ".........1\n",
      "...layers\\dense_3\n",
      "......vars\n",
      ".........0\n",
      ".........1\n",
      "...layers\\dense_4\n",
      "......vars\n",
      ".........0\n",
      ".........1\n",
      "...layers\\dropout\n",
      "......vars\n",
      "...layers\\dropout_1\n",
      "......vars\n",
      "...layers\\dropout_2\n",
      "......vars\n",
      "...layers\\dropout_3\n",
      "......vars\n",
      "...layers\\keras_layer\n",
      "......vars\n",
      ".........0\n",
      "...metrics\\mean\n",
      "......vars\n",
      ".........0\n",
      ".........1\n",
      "...metrics\\mean_metric_wrapper\n",
      "......vars\n",
      ".........0\n",
      ".........1\n",
      "...optimizer\n",
      "......vars\n",
      ".........0\n",
      ".........1\n",
      ".........10\n",
      ".........11\n",
      ".........12\n",
      ".........13\n",
      ".........14\n",
      ".........15\n",
      ".........16\n",
      ".........17\n",
      ".........18\n",
      ".........19\n",
      ".........2\n",
      ".........20\n",
      ".........21\n",
      ".........22\n",
      ".........3\n",
      ".........4\n",
      ".........5\n",
      ".........6\n",
      ".........7\n",
      ".........8\n",
      ".........9\n",
      "...vars\n",
      "Keras model archive saving:\n",
      "File Name                                             Modified             Size\n",
      "config.json                                    2023-01-17 02:53:32         3697\n",
      "metadata.json                                  2023-01-17 02:53:32           64\n",
      "variables.h5                                   2023-01-17 02:53:37   1496293608\n"
     ]
    }
   ],
   "source": [
    "pickle.dump(model, open('../data/tf_model.pkl', 'wb'))"
   ]
  },
  {
   "cell_type": "code",
   "execution_count": 445,
   "id": "9e7815b0-251b-485e-9413-973526b237c3",
   "metadata": {},
   "outputs": [],
   "source": [
    "for_results = len(list(dataset_test))"
   ]
  },
  {
   "cell_type": "code",
   "execution_count": 446,
   "id": "64d0ae5e-7687-4c9c-89d1-0da786dfa56b",
   "metadata": {},
   "outputs": [
    {
     "name": "stdout",
     "output_type": "stream",
     "text": [
      "1/1 - 8s - loss: 1.5803 - accuracy: 0.5962 - 8s/epoch - 8s/step\n"
     ]
    }
   ],
   "source": [
    "results = model.evaluate(dataset_test.map(fetch).batch(for_results), verbose=2)"
   ]
  },
  {
   "cell_type": "code",
   "execution_count": 447,
   "id": "f286643a-3298-4555-add6-001d23dee538",
   "metadata": {},
   "outputs": [
    {
     "name": "stdout",
     "output_type": "stream",
     "text": [
      "[1.5802637338638306, 0.5961736440658569]\n"
     ]
    }
   ],
   "source": [
    "print(results)"
   ]
  },
  {
   "cell_type": "code",
   "execution_count": 448,
   "id": "b5a995df-70d7-427c-95f7-31f06f93d685",
   "metadata": {},
   "outputs": [
    {
     "data": {
      "text/plain": [
       "(<tf.Tensor: shape=(1,), dtype=string, numpy=\n",
       " array([b\"Once again our stop sign has been knocked over and this time I got the license plate number of the truck that knocked it down.....34093A1                                      This has been an ongoing issue for too long with constructions trucks that are driving down our easement.  This tiny street/easement is meant for the people who live on it, it is not a parking lot for lots of construction trucks.  They have been blocking driveways for the residents that live down there with no regard.  I have tried talking with them about it isn't parking for them and some of the trucks are way too large and that is why the sign is continually knocked down.       Please have someone put the stop sign back up and could we please also get a sign saying no construction trucks, they have the alley to park it but they want to do what is easiest despite the constant inconvenience and noise that is disrupting the residents who pay a fortune to live here.    Truck blocking driveway\"],\n",
       "       dtype=object)>,\n",
       " <tf.Tensor: shape=(1, 51), dtype=float32, numpy=\n",
       " array([[0., 0., 0., 0., 0., 0., 0., 0., 0., 0., 0., 0., 0., 0., 0., 0.,\n",
       "         0., 0., 0., 0., 0., 0., 0., 0., 0., 0., 0., 0., 0., 0., 0., 0.,\n",
       "         0., 0., 0., 0., 0., 0., 0., 1., 0., 0., 0., 0., 0., 0., 0., 0.,\n",
       "         0., 0., 0.]], dtype=float32)>)"
      ]
     },
     "execution_count": 448,
     "metadata": {},
     "output_type": "execute_result"
    }
   ],
   "source": [
    "next(iter(dataset_test.map(fetch).batch(1)))"
   ]
  },
  {
   "cell_type": "code",
   "execution_count": 532,
   "id": "30098480-f686-4feb-8793-913171bda5b3",
   "metadata": {},
   "outputs": [
    {
     "data": {
      "text/plain": [
       "tensorflow.python.data.ops.from_tensor_slices_op.TensorSliceDataset"
      ]
     },
     "execution_count": 532,
     "metadata": {},
     "output_type": "execute_result"
    }
   ],
   "source": [
    "type(dataset_test)"
   ]
  },
  {
   "cell_type": "code",
   "execution_count": 449,
   "id": "38cbc0b6-ae68-4eda-bbf2-a37a80a869ca",
   "metadata": {},
   "outputs": [],
   "source": [
    "test_data, test_labels = next(iter(dataset_test.map(fetch).batch(for_results)))"
   ]
  },
  {
   "cell_type": "code",
   "execution_count": 450,
   "id": "167e1ac3-6d26-4147-9529-c896e3219408",
   "metadata": {},
   "outputs": [
    {
     "name": "stdout",
     "output_type": "stream",
     "text": [
      "1577/1577 [==============================] - 282s 179ms/step\n"
     ]
    }
   ],
   "source": [
    "y_pred=model.predict(test_data)"
   ]
  },
  {
   "cell_type": "code",
   "execution_count": 451,
   "id": "99e9e1c1-fc82-473a-ae0a-dca32a7534e0",
   "metadata": {},
   "outputs": [
    {
     "data": {
      "text/plain": [
       "tensorflow.python.framework.ops.EagerTensor"
      ]
     },
     "execution_count": 451,
     "metadata": {},
     "output_type": "execute_result"
    }
   ],
   "source": [
    "type(test_data)"
   ]
  },
  {
   "cell_type": "code",
   "execution_count": 452,
   "id": "e3b0b1d7-72f9-4fff-9d2a-c102607f194f",
   "metadata": {},
   "outputs": [
    {
     "data": {
      "text/plain": [
       "array([[1.4004092e-02, 3.2213966e-06, 4.3309168e-08, ..., 2.2522328e-04,\n",
       "        3.3487740e-06, 4.0274586e-05],\n",
       "       [7.9529974e-26, 1.9211725e-35, 6.4007550e-34, ..., 5.0238171e-27,\n",
       "        2.7139044e-25, 3.7542751e-21],\n",
       "       [1.0603684e-07, 4.1008612e-08, 3.5727218e-05, ..., 1.5112375e-08,\n",
       "        4.7966960e-01, 1.2445651e-07],\n",
       "       ...,\n",
       "       [7.6039565e-01, 8.9000185e-09, 2.6873358e-11, ..., 1.5777474e-17,\n",
       "        1.9883760e-12, 9.8323743e-23],\n",
       "       [3.2549128e-09, 1.3021414e-06, 4.4240257e-13, ..., 6.3599640e-05,\n",
       "        1.2652109e-08, 1.1497455e-06],\n",
       "       [1.7459781e-04, 1.8472587e-04, 8.8852532e-02, ..., 9.1049282e-13,\n",
       "        1.2046679e-04, 6.2506367e-12]], dtype=float32)"
      ]
     },
     "execution_count": 452,
     "metadata": {},
     "output_type": "execute_result"
    }
   ],
   "source": [
    "y_pred"
   ]
  },
  {
   "cell_type": "code",
   "execution_count": 453,
   "id": "7bf56281-5371-4466-a592-49f4ba2632a6",
   "metadata": {
    "tags": []
   },
   "outputs": [
    {
     "data": {
      "text/html": [
       "<div>\n",
       "<style scoped>\n",
       "    .dataframe tbody tr th:only-of-type {\n",
       "        vertical-align: middle;\n",
       "    }\n",
       "\n",
       "    .dataframe tbody tr th {\n",
       "        vertical-align: top;\n",
       "    }\n",
       "\n",
       "    .dataframe thead th {\n",
       "        text-align: right;\n",
       "    }\n",
       "</style>\n",
       "<table border=\"1\" class=\"dataframe\">\n",
       "  <thead>\n",
       "    <tr style=\"text-align: right;\">\n",
       "      <th></th>\n",
       "      <th>72 Hour Violation</th>\n",
       "      <th>COVID-19</th>\n",
       "      <th>Container Left Out</th>\n",
       "      <th>Container Out Late</th>\n",
       "      <th>Damaged/Knocked Over Pole</th>\n",
       "      <th>Dead Animal</th>\n",
       "      <th>Development Services - Code Enforcement</th>\n",
       "      <th>Drain Inlet</th>\n",
       "      <th>Encampment</th>\n",
       "      <th>Encroachment</th>\n",
       "      <th>...</th>\n",
       "      <th>Traffic Signal Out of Service</th>\n",
       "      <th>Traffic Signal Timing</th>\n",
       "      <th>Trash/Recycling Collection</th>\n",
       "      <th>Tree Maintenance</th>\n",
       "      <th>Tree Removal</th>\n",
       "      <th>Tree Trimming for Pedestrian/Vehicle Clearance</th>\n",
       "      <th>Trimming Request</th>\n",
       "      <th>Vegetation Encroachment</th>\n",
       "      <th>Waste on Private Property</th>\n",
       "      <th>Weed Cleanup</th>\n",
       "    </tr>\n",
       "  </thead>\n",
       "  <tbody>\n",
       "    <tr>\n",
       "      <th>0</th>\n",
       "      <td>1.400409e-02</td>\n",
       "      <td>3.221397e-06</td>\n",
       "      <td>4.330917e-08</td>\n",
       "      <td>6.282779e-06</td>\n",
       "      <td>3.867684e-05</td>\n",
       "      <td>1.438066e-03</td>\n",
       "      <td>1.303489e-04</td>\n",
       "      <td>3.368154e-06</td>\n",
       "      <td>3.484664e-03</td>\n",
       "      <td>1.353177e-04</td>\n",
       "      <td>...</td>\n",
       "      <td>2.566203e-03</td>\n",
       "      <td>4.697328e-03</td>\n",
       "      <td>3.485864e-07</td>\n",
       "      <td>9.288951e-04</td>\n",
       "      <td>1.275201e-05</td>\n",
       "      <td>2.196812e-04</td>\n",
       "      <td>1.236679e-05</td>\n",
       "      <td>2.252233e-04</td>\n",
       "      <td>3.348774e-06</td>\n",
       "      <td>4.027459e-05</td>\n",
       "    </tr>\n",
       "    <tr>\n",
       "      <th>1</th>\n",
       "      <td>7.952997e-26</td>\n",
       "      <td>1.921172e-35</td>\n",
       "      <td>6.400755e-34</td>\n",
       "      <td>2.068107e-16</td>\n",
       "      <td>1.341530e-08</td>\n",
       "      <td>2.048549e-15</td>\n",
       "      <td>0.000000e+00</td>\n",
       "      <td>3.419371e-16</td>\n",
       "      <td>1.080467e-19</td>\n",
       "      <td>9.889387e-21</td>\n",
       "      <td>...</td>\n",
       "      <td>4.227916e-05</td>\n",
       "      <td>6.974168e-10</td>\n",
       "      <td>1.952794e-23</td>\n",
       "      <td>2.430370e-19</td>\n",
       "      <td>8.868974e-23</td>\n",
       "      <td>4.153758e-32</td>\n",
       "      <td>6.027741e-27</td>\n",
       "      <td>5.023817e-27</td>\n",
       "      <td>2.713904e-25</td>\n",
       "      <td>3.754275e-21</td>\n",
       "    </tr>\n",
       "    <tr>\n",
       "      <th>2</th>\n",
       "      <td>1.060368e-07</td>\n",
       "      <td>4.100861e-08</td>\n",
       "      <td>3.572722e-05</td>\n",
       "      <td>1.717829e-11</td>\n",
       "      <td>1.291417e-09</td>\n",
       "      <td>2.862426e-08</td>\n",
       "      <td>2.923027e-08</td>\n",
       "      <td>1.206629e-05</td>\n",
       "      <td>1.835862e-03</td>\n",
       "      <td>1.932395e-02</td>\n",
       "      <td>...</td>\n",
       "      <td>1.462917e-13</td>\n",
       "      <td>4.733621e-16</td>\n",
       "      <td>2.532649e-03</td>\n",
       "      <td>6.677794e-12</td>\n",
       "      <td>3.369088e-13</td>\n",
       "      <td>6.672093e-11</td>\n",
       "      <td>2.552749e-16</td>\n",
       "      <td>1.511238e-08</td>\n",
       "      <td>4.796696e-01</td>\n",
       "      <td>1.244565e-07</td>\n",
       "    </tr>\n",
       "    <tr>\n",
       "      <th>3</th>\n",
       "      <td>1.019432e-03</td>\n",
       "      <td>1.595867e-05</td>\n",
       "      <td>1.035575e-08</td>\n",
       "      <td>6.502469e-11</td>\n",
       "      <td>6.937907e-06</td>\n",
       "      <td>8.153989e-03</td>\n",
       "      <td>1.655700e-04</td>\n",
       "      <td>5.380665e-05</td>\n",
       "      <td>1.198037e-02</td>\n",
       "      <td>1.496114e-04</td>\n",
       "      <td>...</td>\n",
       "      <td>2.206408e-05</td>\n",
       "      <td>2.596452e-08</td>\n",
       "      <td>6.854315e-07</td>\n",
       "      <td>2.283301e-06</td>\n",
       "      <td>1.428559e-06</td>\n",
       "      <td>3.241310e-06</td>\n",
       "      <td>1.644668e-08</td>\n",
       "      <td>2.024184e-04</td>\n",
       "      <td>1.701057e-04</td>\n",
       "      <td>6.113483e-05</td>\n",
       "    </tr>\n",
       "    <tr>\n",
       "      <th>4</th>\n",
       "      <td>3.403670e-18</td>\n",
       "      <td>3.331161e-24</td>\n",
       "      <td>3.346037e-31</td>\n",
       "      <td>2.307904e-12</td>\n",
       "      <td>5.328438e-05</td>\n",
       "      <td>4.748878e-13</td>\n",
       "      <td>3.296403e-29</td>\n",
       "      <td>2.777487e-13</td>\n",
       "      <td>2.280970e-18</td>\n",
       "      <td>1.924043e-23</td>\n",
       "      <td>...</td>\n",
       "      <td>9.166949e-01</td>\n",
       "      <td>3.303359e-02</td>\n",
       "      <td>2.621090e-24</td>\n",
       "      <td>6.016587e-14</td>\n",
       "      <td>7.728987e-14</td>\n",
       "      <td>1.322142e-23</td>\n",
       "      <td>2.452885e-15</td>\n",
       "      <td>2.012452e-23</td>\n",
       "      <td>1.665746e-26</td>\n",
       "      <td>1.474113e-22</td>\n",
       "    </tr>\n",
       "    <tr>\n",
       "      <th>...</th>\n",
       "      <td>...</td>\n",
       "      <td>...</td>\n",
       "      <td>...</td>\n",
       "      <td>...</td>\n",
       "      <td>...</td>\n",
       "      <td>...</td>\n",
       "      <td>...</td>\n",
       "      <td>...</td>\n",
       "      <td>...</td>\n",
       "      <td>...</td>\n",
       "      <td>...</td>\n",
       "      <td>...</td>\n",
       "      <td>...</td>\n",
       "      <td>...</td>\n",
       "      <td>...</td>\n",
       "      <td>...</td>\n",
       "      <td>...</td>\n",
       "      <td>...</td>\n",
       "      <td>...</td>\n",
       "      <td>...</td>\n",
       "      <td>...</td>\n",
       "    </tr>\n",
       "    <tr>\n",
       "      <th>50435</th>\n",
       "      <td>3.999212e-06</td>\n",
       "      <td>1.737688e-12</td>\n",
       "      <td>5.024334e-11</td>\n",
       "      <td>8.712839e-11</td>\n",
       "      <td>1.406222e-15</td>\n",
       "      <td>2.702042e-11</td>\n",
       "      <td>4.280966e-11</td>\n",
       "      <td>9.768862e-12</td>\n",
       "      <td>2.679289e-06</td>\n",
       "      <td>6.875886e-05</td>\n",
       "      <td>...</td>\n",
       "      <td>1.761600e-14</td>\n",
       "      <td>6.540602e-12</td>\n",
       "      <td>9.473541e-09</td>\n",
       "      <td>1.615753e-13</td>\n",
       "      <td>1.274155e-19</td>\n",
       "      <td>1.204441e-13</td>\n",
       "      <td>6.033810e-20</td>\n",
       "      <td>5.696827e-14</td>\n",
       "      <td>4.034709e-08</td>\n",
       "      <td>5.217684e-13</td>\n",
       "    </tr>\n",
       "    <tr>\n",
       "      <th>50436</th>\n",
       "      <td>4.174303e-01</td>\n",
       "      <td>1.838978e-05</td>\n",
       "      <td>1.642062e-06</td>\n",
       "      <td>5.097051e-08</td>\n",
       "      <td>3.432065e-15</td>\n",
       "      <td>2.128779e-08</td>\n",
       "      <td>2.614768e-04</td>\n",
       "      <td>4.738856e-12</td>\n",
       "      <td>3.778809e-02</td>\n",
       "      <td>2.583959e-06</td>\n",
       "      <td>...</td>\n",
       "      <td>9.020051e-11</td>\n",
       "      <td>2.505037e-10</td>\n",
       "      <td>1.761776e-08</td>\n",
       "      <td>7.535187e-14</td>\n",
       "      <td>2.758951e-16</td>\n",
       "      <td>9.931037e-10</td>\n",
       "      <td>4.978675e-15</td>\n",
       "      <td>4.491558e-11</td>\n",
       "      <td>9.784725e-07</td>\n",
       "      <td>5.391362e-14</td>\n",
       "    </tr>\n",
       "    <tr>\n",
       "      <th>50437</th>\n",
       "      <td>7.603956e-01</td>\n",
       "      <td>8.900018e-09</td>\n",
       "      <td>2.687336e-11</td>\n",
       "      <td>7.246794e-13</td>\n",
       "      <td>7.261433e-28</td>\n",
       "      <td>6.634876e-14</td>\n",
       "      <td>1.177669e-05</td>\n",
       "      <td>1.948144e-20</td>\n",
       "      <td>4.752715e-03</td>\n",
       "      <td>4.518063e-11</td>\n",
       "      <td>...</td>\n",
       "      <td>1.092053e-17</td>\n",
       "      <td>2.017346e-14</td>\n",
       "      <td>8.617533e-15</td>\n",
       "      <td>1.284107e-21</td>\n",
       "      <td>6.749636e-26</td>\n",
       "      <td>3.743257e-14</td>\n",
       "      <td>2.161552e-22</td>\n",
       "      <td>1.577747e-17</td>\n",
       "      <td>1.988376e-12</td>\n",
       "      <td>9.832374e-23</td>\n",
       "    </tr>\n",
       "    <tr>\n",
       "      <th>50438</th>\n",
       "      <td>3.254913e-09</td>\n",
       "      <td>1.302141e-06</td>\n",
       "      <td>4.424026e-13</td>\n",
       "      <td>2.513169e-12</td>\n",
       "      <td>2.049538e-02</td>\n",
       "      <td>2.776089e-07</td>\n",
       "      <td>1.735650e-08</td>\n",
       "      <td>4.735282e-04</td>\n",
       "      <td>4.156228e-06</td>\n",
       "      <td>2.138645e-10</td>\n",
       "      <td>...</td>\n",
       "      <td>1.021523e-05</td>\n",
       "      <td>2.920063e-05</td>\n",
       "      <td>9.274232e-11</td>\n",
       "      <td>2.622942e-01</td>\n",
       "      <td>2.209396e-01</td>\n",
       "      <td>3.228817e-03</td>\n",
       "      <td>1.014484e-01</td>\n",
       "      <td>6.359964e-05</td>\n",
       "      <td>1.265211e-08</td>\n",
       "      <td>1.149745e-06</td>\n",
       "    </tr>\n",
       "    <tr>\n",
       "      <th>50439</th>\n",
       "      <td>1.745978e-04</td>\n",
       "      <td>1.847259e-04</td>\n",
       "      <td>8.885253e-02</td>\n",
       "      <td>7.270034e-02</td>\n",
       "      <td>5.486002e-08</td>\n",
       "      <td>6.812561e-11</td>\n",
       "      <td>1.184934e-08</td>\n",
       "      <td>8.388954e-06</td>\n",
       "      <td>1.673931e-04</td>\n",
       "      <td>2.215388e-04</td>\n",
       "      <td>...</td>\n",
       "      <td>3.088158e-08</td>\n",
       "      <td>1.355252e-06</td>\n",
       "      <td>7.846112e-02</td>\n",
       "      <td>1.106289e-09</td>\n",
       "      <td>3.620309e-13</td>\n",
       "      <td>1.619679e-10</td>\n",
       "      <td>1.667408e-12</td>\n",
       "      <td>9.104928e-13</td>\n",
       "      <td>1.204668e-04</td>\n",
       "      <td>6.250637e-12</td>\n",
       "    </tr>\n",
       "  </tbody>\n",
       "</table>\n",
       "<p>50440 rows × 51 columns</p>\n",
       "</div>"
      ],
      "text/plain": [
       "       72 Hour Violation      COVID-19  Container Left Out  \\\n",
       "0           1.400409e-02  3.221397e-06        4.330917e-08   \n",
       "1           7.952997e-26  1.921172e-35        6.400755e-34   \n",
       "2           1.060368e-07  4.100861e-08        3.572722e-05   \n",
       "3           1.019432e-03  1.595867e-05        1.035575e-08   \n",
       "4           3.403670e-18  3.331161e-24        3.346037e-31   \n",
       "...                  ...           ...                 ...   \n",
       "50435       3.999212e-06  1.737688e-12        5.024334e-11   \n",
       "50436       4.174303e-01  1.838978e-05        1.642062e-06   \n",
       "50437       7.603956e-01  8.900018e-09        2.687336e-11   \n",
       "50438       3.254913e-09  1.302141e-06        4.424026e-13   \n",
       "50439       1.745978e-04  1.847259e-04        8.885253e-02   \n",
       "\n",
       "       Container Out Late  Damaged/Knocked Over Pole   Dead Animal  \\\n",
       "0            6.282779e-06               3.867684e-05  1.438066e-03   \n",
       "1            2.068107e-16               1.341530e-08  2.048549e-15   \n",
       "2            1.717829e-11               1.291417e-09  2.862426e-08   \n",
       "3            6.502469e-11               6.937907e-06  8.153989e-03   \n",
       "4            2.307904e-12               5.328438e-05  4.748878e-13   \n",
       "...                   ...                        ...           ...   \n",
       "50435        8.712839e-11               1.406222e-15  2.702042e-11   \n",
       "50436        5.097051e-08               3.432065e-15  2.128779e-08   \n",
       "50437        7.246794e-13               7.261433e-28  6.634876e-14   \n",
       "50438        2.513169e-12               2.049538e-02  2.776089e-07   \n",
       "50439        7.270034e-02               5.486002e-08  6.812561e-11   \n",
       "\n",
       "       Development Services - Code Enforcement   Drain Inlet    Encampment  \\\n",
       "0                                 1.303489e-04  3.368154e-06  3.484664e-03   \n",
       "1                                 0.000000e+00  3.419371e-16  1.080467e-19   \n",
       "2                                 2.923027e-08  1.206629e-05  1.835862e-03   \n",
       "3                                 1.655700e-04  5.380665e-05  1.198037e-02   \n",
       "4                                 3.296403e-29  2.777487e-13  2.280970e-18   \n",
       "...                                        ...           ...           ...   \n",
       "50435                             4.280966e-11  9.768862e-12  2.679289e-06   \n",
       "50436                             2.614768e-04  4.738856e-12  3.778809e-02   \n",
       "50437                             1.177669e-05  1.948144e-20  4.752715e-03   \n",
       "50438                             1.735650e-08  4.735282e-04  4.156228e-06   \n",
       "50439                             1.184934e-08  8.388954e-06  1.673931e-04   \n",
       "\n",
       "       Encroachment  ...  Traffic Signal Out of Service  \\\n",
       "0      1.353177e-04  ...                   2.566203e-03   \n",
       "1      9.889387e-21  ...                   4.227916e-05   \n",
       "2      1.932395e-02  ...                   1.462917e-13   \n",
       "3      1.496114e-04  ...                   2.206408e-05   \n",
       "4      1.924043e-23  ...                   9.166949e-01   \n",
       "...             ...  ...                            ...   \n",
       "50435  6.875886e-05  ...                   1.761600e-14   \n",
       "50436  2.583959e-06  ...                   9.020051e-11   \n",
       "50437  4.518063e-11  ...                   1.092053e-17   \n",
       "50438  2.138645e-10  ...                   1.021523e-05   \n",
       "50439  2.215388e-04  ...                   3.088158e-08   \n",
       "\n",
       "       Traffic Signal Timing  Trash/Recycling Collection  Tree Maintenance  \\\n",
       "0               4.697328e-03                3.485864e-07      9.288951e-04   \n",
       "1               6.974168e-10                1.952794e-23      2.430370e-19   \n",
       "2               4.733621e-16                2.532649e-03      6.677794e-12   \n",
       "3               2.596452e-08                6.854315e-07      2.283301e-06   \n",
       "4               3.303359e-02                2.621090e-24      6.016587e-14   \n",
       "...                      ...                         ...               ...   \n",
       "50435           6.540602e-12                9.473541e-09      1.615753e-13   \n",
       "50436           2.505037e-10                1.761776e-08      7.535187e-14   \n",
       "50437           2.017346e-14                8.617533e-15      1.284107e-21   \n",
       "50438           2.920063e-05                9.274232e-11      2.622942e-01   \n",
       "50439           1.355252e-06                7.846112e-02      1.106289e-09   \n",
       "\n",
       "       Tree Removal  Tree Trimming for Pedestrian/Vehicle Clearance  \\\n",
       "0      1.275201e-05                                    2.196812e-04   \n",
       "1      8.868974e-23                                    4.153758e-32   \n",
       "2      3.369088e-13                                    6.672093e-11   \n",
       "3      1.428559e-06                                    3.241310e-06   \n",
       "4      7.728987e-14                                    1.322142e-23   \n",
       "...             ...                                             ...   \n",
       "50435  1.274155e-19                                    1.204441e-13   \n",
       "50436  2.758951e-16                                    9.931037e-10   \n",
       "50437  6.749636e-26                                    3.743257e-14   \n",
       "50438  2.209396e-01                                    3.228817e-03   \n",
       "50439  3.620309e-13                                    1.619679e-10   \n",
       "\n",
       "       Trimming Request  Vegetation Encroachment  Waste on Private Property  \\\n",
       "0          1.236679e-05             2.252233e-04               3.348774e-06   \n",
       "1          6.027741e-27             5.023817e-27               2.713904e-25   \n",
       "2          2.552749e-16             1.511238e-08               4.796696e-01   \n",
       "3          1.644668e-08             2.024184e-04               1.701057e-04   \n",
       "4          2.452885e-15             2.012452e-23               1.665746e-26   \n",
       "...                 ...                      ...                        ...   \n",
       "50435      6.033810e-20             5.696827e-14               4.034709e-08   \n",
       "50436      4.978675e-15             4.491558e-11               9.784725e-07   \n",
       "50437      2.161552e-22             1.577747e-17               1.988376e-12   \n",
       "50438      1.014484e-01             6.359964e-05               1.265211e-08   \n",
       "50439      1.667408e-12             9.104928e-13               1.204668e-04   \n",
       "\n",
       "       Weed Cleanup  \n",
       "0      4.027459e-05  \n",
       "1      3.754275e-21  \n",
       "2      1.244565e-07  \n",
       "3      6.113483e-05  \n",
       "4      1.474113e-22  \n",
       "...             ...  \n",
       "50435  5.217684e-13  \n",
       "50436  5.391362e-14  \n",
       "50437  9.832374e-23  \n",
       "50438  1.149745e-06  \n",
       "50439  6.250637e-12  \n",
       "\n",
       "[50440 rows x 51 columns]"
      ]
     },
     "execution_count": 453,
     "metadata": {},
     "output_type": "execute_result"
    }
   ],
   "source": [
    "results_df = pd.DataFrame(y_pred)\n",
    "results_df.columns = ['72 Hour Violation',\n",
    " 'COVID-19',\n",
    " 'Container Left Out',\n",
    " 'Container Out Late',\n",
    " 'Damaged/Knocked Over Pole',\n",
    " 'Dead Animal',\n",
    " 'Development Services - Code Enforcement',\n",
    " 'Drain Inlet',\n",
    " 'Encampment',\n",
    " 'Encroachment',\n",
    " 'Environmental Services Code Compliance',\n",
    " 'Fallen/Hanging Tree Limb',\n",
    " 'Flashing Traffic Signal Lights',\n",
    " 'Graffiti Removal',\n",
    " 'Graffiti Removal - Commercial',\n",
    " 'Illegal Dumping',\n",
    " 'Litter',\n",
    " 'Missed Collection',\n",
    " 'Other',\n",
    " 'Oversized Vehicle',\n",
    " 'Parking',\n",
    " 'Parking Zone Violation',\n",
    " 'Pavement Maintenance',\n",
    " 'Potential Missed Collection',\n",
    " 'Pothole',\n",
    " 'Quality of Life Issues',\n",
    " 'ROW Maintenance',\n",
    " 'Resurfacing Evaluation',\n",
    " 'Right-of-Way Code Enforcement',\n",
    " 'Shared Mobility Device',\n",
    " 'Sidewalk Repair Issue',\n",
    " 'Stormwater',\n",
    " 'Stormwater Code Enforcement',\n",
    " 'Stormwater Pollution Prevention',\n",
    " 'Street Flooded',\n",
    " 'Street Light Maintenance',\n",
    " 'Street Light Out of Service',\n",
    " 'Street Sweeping',\n",
    " 'Traffic Engineering',\n",
    " 'Traffic Sign Maintenance',\n",
    " 'Traffic Signal Issue',\n",
    " 'Traffic Signal Out of Service',\n",
    " 'Traffic Signal Timing',\n",
    " 'Trash/Recycling Collection',\n",
    " 'Tree Maintenance',\n",
    " 'Tree Removal',\n",
    " 'Tree Trimming for Pedestrian/Vehicle Clearance',\n",
    " 'Trimming Request',\n",
    " 'Vegetation Encroachment',\n",
    " 'Waste on Private Property',\n",
    " 'Weed Cleanup']\n",
    "results_df"
   ]
  },
  {
   "cell_type": "code",
   "execution_count": 454,
   "id": "92195abd-977d-481e-a66e-821802e32361",
   "metadata": {
    "tags": []
   },
   "outputs": [],
   "source": [
    "#return column where value is that above\n",
    "j = 0\n",
    "max_col = []\n",
    "\n",
    "for j in range(100):\n",
    "\n",
    "    i=0\n",
    "\n",
    "\n",
    "    while i < results_df.shape[1]:\n",
    "        if results_df.iloc[j,i] == results_df.iloc[j,:].max():\n",
    "            max_col.append(list(results_df.columns)[i])\n",
    "        i += 1"
   ]
  },
  {
   "cell_type": "code",
   "execution_count": 455,
   "id": "8950cfdf-bfc4-424a-8598-0b6110d9abc4",
   "metadata": {
    "tags": []
   },
   "outputs": [
    {
     "data": {
      "text/plain": [
       "['Traffic Engineering',\n",
       " 'Flashing Traffic Signal Lights',\n",
       " 'Waste on Private Property',\n",
       " 'Quality of Life Issues',\n",
       " 'Traffic Signal Out of Service',\n",
       " 'Damaged/Knocked Over Pole',\n",
       " 'Traffic Signal Out of Service',\n",
       " 'Quality of Life Issues',\n",
       " 'Missed Collection',\n",
       " 'Pothole',\n",
       " 'Encampment',\n",
       " 'Missed Collection',\n",
       " 'Shared Mobility Device',\n",
       " 'Graffiti Removal',\n",
       " '72 Hour Violation',\n",
       " 'Pothole',\n",
       " 'Waste on Private Property',\n",
       " 'Encampment',\n",
       " 'Other',\n",
       " 'Traffic Signal Timing',\n",
       " 'Illegal Dumping',\n",
       " 'Missed Collection',\n",
       " '72 Hour Violation',\n",
       " '72 Hour Violation',\n",
       " 'Parking Zone Violation',\n",
       " 'Encampment',\n",
       " 'Trash/Recycling Collection',\n",
       " 'Graffiti Removal',\n",
       " 'Vegetation Encroachment',\n",
       " 'Graffiti Removal - Commercial',\n",
       " 'Quality of Life Issues',\n",
       " 'Parking Zone Violation',\n",
       " 'Parking',\n",
       " '72 Hour Violation',\n",
       " 'Graffiti Removal - Commercial',\n",
       " 'Sidewalk Repair Issue',\n",
       " 'Traffic Signal Timing',\n",
       " 'Traffic Sign Maintenance',\n",
       " 'Street Light Out of Service',\n",
       " 'Graffiti Removal - Commercial',\n",
       " 'Graffiti Removal',\n",
       " 'Shared Mobility Device',\n",
       " 'Encampment',\n",
       " 'Missed Collection',\n",
       " 'Missed Collection',\n",
       " 'Street Flooded',\n",
       " 'Street Flooded',\n",
       " 'Stormwater',\n",
       " 'Missed Collection',\n",
       " '72 Hour Violation',\n",
       " 'Encampment',\n",
       " 'Other',\n",
       " 'Container Left Out',\n",
       " 'Graffiti Removal - Commercial',\n",
       " 'Missed Collection',\n",
       " 'Graffiti Removal - Commercial',\n",
       " 'Encampment',\n",
       " 'Encampment',\n",
       " 'Encroachment',\n",
       " 'Missed Collection',\n",
       " 'Other',\n",
       " 'Traffic Engineering',\n",
       " 'Graffiti Removal',\n",
       " 'Oversized Vehicle',\n",
       " 'Missed Collection',\n",
       " 'Container Out Late',\n",
       " 'Encampment',\n",
       " 'Shared Mobility Device',\n",
       " '72 Hour Violation',\n",
       " 'Missed Collection',\n",
       " '72 Hour Violation',\n",
       " '72 Hour Violation',\n",
       " 'Missed Collection',\n",
       " 'Quality of Life Issues',\n",
       " 'Missed Collection',\n",
       " 'Parking Zone Violation',\n",
       " 'Encampment',\n",
       " 'Traffic Signal Out of Service',\n",
       " 'Graffiti Removal - Commercial',\n",
       " 'ROW Maintenance',\n",
       " 'Waste on Private Property',\n",
       " 'Missed Collection',\n",
       " 'Damaged/Knocked Over Pole',\n",
       " 'Missed Collection',\n",
       " 'Encampment',\n",
       " 'Missed Collection',\n",
       " 'Shared Mobility Device',\n",
       " 'Dead Animal',\n",
       " 'Traffic Signal Out of Service',\n",
       " 'Quality of Life Issues',\n",
       " '72 Hour Violation',\n",
       " 'Missed Collection',\n",
       " 'Traffic Engineering',\n",
       " 'Missed Collection',\n",
       " 'Quality of Life Issues',\n",
       " 'Encampment',\n",
       " 'Fallen/Hanging Tree Limb',\n",
       " 'Parking Zone Violation',\n",
       " '72 Hour Violation',\n",
       " '72 Hour Violation']"
      ]
     },
     "execution_count": 455,
     "metadata": {},
     "output_type": "execute_result"
    }
   ],
   "source": [
    "max_col"
   ]
  },
  {
   "cell_type": "code",
   "execution_count": 456,
   "id": "b7196a11-e016-4234-bcea-6f0adb99f430",
   "metadata": {},
   "outputs": [],
   "source": [
    "test_df = pd.DataFrame(test_data).head(100)"
   ]
  },
  {
   "cell_type": "code",
   "execution_count": 457,
   "id": "98225a09-6110-4140-93d9-a6375b70356b",
   "metadata": {},
   "outputs": [],
   "source": [
    "test_df['prediction'] = max_col"
   ]
  },
  {
   "cell_type": "code",
   "execution_count": 475,
   "id": "672dc0b4-de59-415d-850f-2fa494e0bfc9",
   "metadata": {},
   "outputs": [
    {
     "data": {
      "text/html": [
       "<div>\n",
       "<style scoped>\n",
       "    .dataframe tbody tr th:only-of-type {\n",
       "        vertical-align: middle;\n",
       "    }\n",
       "\n",
       "    .dataframe tbody tr th {\n",
       "        vertical-align: top;\n",
       "    }\n",
       "\n",
       "    .dataframe thead th {\n",
       "        text-align: right;\n",
       "    }\n",
       "</style>\n",
       "<table border=\"1\" class=\"dataframe\">\n",
       "  <thead>\n",
       "    <tr style=\"text-align: right;\">\n",
       "      <th></th>\n",
       "      <th>0</th>\n",
       "      <th>prediction</th>\n",
       "    </tr>\n",
       "  </thead>\n",
       "  <tbody>\n",
       "    <tr>\n",
       "      <th>77</th>\n",
       "      <td>b'Signal out'</td>\n",
       "      <td>Traffic Signal Out of Service</td>\n",
       "    </tr>\n",
       "    <tr>\n",
       "      <th>32</th>\n",
       "      <td>b'Please ticket vehicles on 3 minute curb asked to leave'</td>\n",
       "      <td>Parking</td>\n",
       "    </tr>\n",
       "    <tr>\n",
       "      <th>9</th>\n",
       "      <td>b'Requested repair of pothole in front of our driveway/garage about 1 month ago. A different pothole was repaired down the street. This one continues to get larger. Can you please repair it. Thank you'</td>\n",
       "      <td>Pothole</td>\n",
       "    </tr>\n",
       "    <tr>\n",
       "      <th>40</th>\n",
       "      <td>b'Graffiti on fire hydrant'</td>\n",
       "      <td>Graffiti Removal</td>\n",
       "    </tr>\n",
       "    <tr>\n",
       "      <th>5</th>\n",
       "      <td>b'Electrical access and base of lamp covered with dirt/erosion from city park'</td>\n",
       "      <td>Damaged/Knocked Over Pole</td>\n",
       "    </tr>\n",
       "    <tr>\n",
       "      <th>7</th>\n",
       "      <td>b'Drugs and poop homeless'</td>\n",
       "      <td>Quality of Life Issues</td>\n",
       "    </tr>\n",
       "    <tr>\n",
       "      <th>50</th>\n",
       "      <td>b'Encampment around and under the El Cajon BLVD and 805 freeway overpass. Trash being left in cul de sac on Bancroft Street and several tents present by the 805 Northbound Freeway entrance.'</td>\n",
       "      <td>Encampment</td>\n",
       "    </tr>\n",
       "    <tr>\n",
       "      <th>35</th>\n",
       "      <td>b\"The Sprinkler is busted off in the tree box between my sidewalk and curb.\\nIt has been that way for a few weeks. The City Landscape crew does my street every Monday morning. I'm at a loss why no one has noticed the missing Sprinkler and washed out dirt.\\nIf it could be fixed I would appreciate it. \\nThru the 20 years I have owned this property I have fixed it myself on several occasions but turning it over to you this time.\\nRegards\\nKevin Rupert\\n562-552-6441\"</td>\n",
       "      <td>Sidewalk Repair Issue</td>\n",
       "    </tr>\n",
       "    <tr>\n",
       "      <th>85</th>\n",
       "      <td>b'Trash is missed'</td>\n",
       "      <td>Missed Collection</td>\n",
       "    </tr>\n",
       "    <tr>\n",
       "      <th>52</th>\n",
       "      <td>b'Recycle truck was a day late operating at an unsafe speed and drive right past our bins AGAIN! Truck number 815 323'</td>\n",
       "      <td>Container Left Out</td>\n",
       "    </tr>\n",
       "  </tbody>\n",
       "</table>\n",
       "</div>"
      ],
      "text/plain": [
       "                                                                                                                                                                                                                                                                                                                                                                                                                                                                                      0  \\\n",
       "77                                                                                                                                                                                                                                                                                                                                                                                                                                                                        b'Signal out'   \n",
       "32                                                                                                                                                                                                                                                                                                                                                                                                                            b'Please ticket vehicles on 3 minute curb asked to leave'   \n",
       "9                                                                                                                                                                                                                                                                             b'Requested repair of pothole in front of our driveway/garage about 1 month ago. A different pothole was repaired down the street. This one continues to get larger. Can you please repair it. Thank you'   \n",
       "40                                                                                                                                                                                                                                                                                                                                                                                                                                                          b'Graffiti on fire hydrant'   \n",
       "5                                                                                                                                                                                                                                                                                                                                                                                                        b'Electrical access and base of lamp covered with dirt/erosion from city park'   \n",
       "7                                                                                                                                                                                                                                                                                                                                                                                                                                                            b'Drugs and poop homeless'   \n",
       "50                                                                                                                                                                                                                                                                                       b'Encampment around and under the El Cajon BLVD and 805 freeway overpass. Trash being left in cul de sac on Bancroft Street and several tents present by the 805 Northbound Freeway entrance.'   \n",
       "35  b\"The Sprinkler is busted off in the tree box between my sidewalk and curb.\\nIt has been that way for a few weeks. The City Landscape crew does my street every Monday morning. I'm at a loss why no one has noticed the missing Sprinkler and washed out dirt.\\nIf it could be fixed I would appreciate it. \\nThru the 20 years I have owned this property I have fixed it myself on several occasions but turning it over to you this time.\\nRegards\\nKevin Rupert\\n562-552-6441\"   \n",
       "85                                                                                                                                                                                                                                                                                                                                                                                                                                                                   b'Trash is missed'   \n",
       "52                                                                                                                                                                                                                                                                                                                                                               b'Recycle truck was a day late operating at an unsafe speed and drive right past our bins AGAIN! Truck number 815 323'   \n",
       "\n",
       "                       prediction  \n",
       "77  Traffic Signal Out of Service  \n",
       "32                        Parking  \n",
       "9                         Pothole  \n",
       "40               Graffiti Removal  \n",
       "5       Damaged/Knocked Over Pole  \n",
       "7          Quality of Life Issues  \n",
       "50                     Encampment  \n",
       "35          Sidewalk Repair Issue  \n",
       "85              Missed Collection  \n",
       "52             Container Left Out  "
      ]
     },
     "execution_count": 475,
     "metadata": {},
     "output_type": "execute_result"
    }
   ],
   "source": [
    "test_df.sample(10)"
   ]
  },
  {
   "cell_type": "code",
   "execution_count": 467,
   "id": "ac776260-ca7e-4061-a158-332eaa1ae67e",
   "metadata": {},
   "outputs": [],
   "source": [
    "from sklearn.metrics import classification_report"
   ]
  },
  {
   "cell_type": "code",
   "execution_count": 460,
   "id": "78dabbfd-bfc1-47ee-82b8-6f8b9758fd90",
   "metadata": {},
   "outputs": [
    {
     "name": "stdout",
     "output_type": "stream",
     "text": [
      "              precision    recall  f1-score   support\n",
      "\n",
      "           0       0.85      0.71      0.77      5315\n",
      "           1       0.37      0.70      0.48       109\n",
      "           2       0.35      0.67      0.46       353\n",
      "           3       0.30      0.86      0.44       174\n",
      "           4       0.46      0.65      0.54       339\n",
      "           5       0.91      0.91      0.91       685\n",
      "           6       0.00      0.00      0.00         7\n",
      "           7       0.44      0.57      0.50       235\n",
      "           8       0.91      0.65      0.76      5255\n",
      "           9       0.31      0.58      0.40       310\n",
      "          10       0.11      0.36      0.16       146\n",
      "          11       0.32      0.44      0.37       347\n",
      "          12       0.84      0.81      0.82       365\n",
      "          13       0.82      0.46      0.59      5084\n",
      "          14       0.19      0.63      0.29       830\n",
      "          15       0.51      0.02      0.04      3112\n",
      "          16       0.09      0.32      0.14       218\n",
      "          17       0.96      0.76      0.85      7566\n",
      "          18       0.41      0.14      0.21      1894\n",
      "          19       0.02      0.36      0.03        33\n",
      "          20       0.03      0.28      0.06       137\n",
      "          21       0.73      0.66      0.70      3066\n",
      "          22       0.15      0.32      0.21       337\n",
      "          23       0.28      0.66      0.40       585\n",
      "          24       0.89      0.61      0.72      1906\n",
      "          25       0.06      0.24      0.09       225\n",
      "          26       0.38      0.50      0.43       583\n",
      "          27       0.39      0.55      0.46       206\n",
      "          28       0.00      0.00      0.00         3\n",
      "          29       0.94      0.91      0.92      3886\n",
      "          30       0.41      0.50      0.45       621\n",
      "          31       0.11      0.23      0.14        87\n",
      "          32       0.35      0.49      0.40        37\n",
      "          33       0.42      0.49      0.45       384\n",
      "          34       0.30      0.63      0.40       227\n",
      "          35       0.38      0.49      0.43        88\n",
      "          36       0.77      0.64      0.70       662\n",
      "          37       0.46      0.56      0.51       354\n",
      "          38       0.41      0.53      0.46       454\n",
      "          39       0.66      0.73      0.69       712\n",
      "          40       0.42      0.68      0.52        79\n",
      "          41       0.63      0.84      0.72       509\n",
      "          42       0.79      0.75      0.77       603\n",
      "          43       0.23      0.48      0.31       208\n",
      "          44       0.51      0.42      0.46       426\n",
      "          45       0.41      0.57      0.48       329\n",
      "          46       0.36      0.42      0.39       219\n",
      "          47       0.42      0.24      0.31       225\n",
      "          48       0.48      0.51      0.49       338\n",
      "          49       0.08      0.53      0.15       412\n",
      "          50       0.29      0.38      0.33       155\n",
      "\n",
      "    accuracy                           0.60     50440\n",
      "   macro avg       0.43      0.52      0.44     50440\n",
      "weighted avg       0.73      0.60      0.63     50440\n",
      "\n"
     ]
    }
   ],
   "source": [
    "print(classification_report(test_labels.numpy().argmax(axis=1), y_pred.argmax(axis=1), zero_division = 1))"
   ]
  },
  {
   "cell_type": "code",
   "execution_count": 461,
   "id": "9382b4d1-abb7-46ec-92e7-3e246e84e40f",
   "metadata": {},
   "outputs": [
    {
     "data": {
      "text/plain": [
       "array([[3760,    4,   27, ...,    0,   21,    4],\n",
       "       [   1,   76,    0, ...,    0,    0,    2],\n",
       "       [   2,    1,  235, ...,    0,   11,    0],\n",
       "       ...,\n",
       "       [   2,    0,    0, ...,  173,    1,   56],\n",
       "       [   1,    2,   11, ...,    3,  218,    2],\n",
       "       [   1,    2,    0, ...,   43,    1,   59]], dtype=int64)"
      ]
     },
     "execution_count": 461,
     "metadata": {},
     "output_type": "execute_result"
    }
   ],
   "source": [
    "from sklearn.metrics import confusion_matrix\n",
    "confusion_matrix(test_labels.numpy().argmax(axis=1), y_pred.argmax(axis=1))"
   ]
  },
  {
   "cell_type": "code",
   "execution_count": null,
   "id": "184c02fd-8980-443b-a35d-9d9c8a7dc2ab",
   "metadata": {},
   "outputs": [],
   "source": []
  }
 ],
 "metadata": {
  "kernelspec": {
   "display_name": "Python 3 (ipykernel)",
   "language": "python",
   "name": "python3"
  },
  "language_info": {
   "codemirror_mode": {
    "name": "ipython",
    "version": 3
   },
   "file_extension": ".py",
   "mimetype": "text/x-python",
   "name": "python",
   "nbconvert_exporter": "python",
   "pygments_lexer": "ipython3",
   "version": "3.9.12"
  }
 },
 "nbformat": 4,
 "nbformat_minor": 5
}
