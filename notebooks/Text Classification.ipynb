{
 "cells": [
  {
   "cell_type": "markdown",
   "id": "39f4264d-ab15-4503-b90d-d78d85271dca",
   "metadata": {
    "tags": []
   },
   "source": [
    "# Tensoflow NLP Model for Text Classification"
   ]
  },
  {
   "cell_type": "markdown",
   "id": "603d644c-7783-4f5f-b392-0865a6de92bb",
   "metadata": {},
   "source": [
    "## Imports"
   ]
  },
  {
   "cell_type": "code",
   "execution_count": 153,
   "id": "eda95c3b-eded-4950-addb-02536ef18f13",
   "metadata": {},
   "outputs": [],
   "source": [
    "import pandas as pd\n",
    "import numpy as np\n",
    "from matplotlib import pyplot as plt\n",
    "import seaborn as sns\n",
    "from datetime import datetime\n",
    "from sklearn.model_selection import train_test_split\n",
    "import pickle\n",
    "from sklearn.metrics import classification_report\n",
    "from tensorflow import keras"
   ]
  },
  {
   "cell_type": "code",
   "execution_count": 154,
   "id": "e9016c86-4fcc-40b5-befb-f3d2b0612263",
   "metadata": {},
   "outputs": [],
   "source": [
    "pd.set_option('display.max_colwidth', None)"
   ]
  },
  {
   "cell_type": "markdown",
   "id": "9c867814-2307-439c-9b18-9b8696172405",
   "metadata": {},
   "source": [
    "## Tensorflow Imports"
   ]
  },
  {
   "cell_type": "code",
   "execution_count": 155,
   "id": "035c470b-7fc3-42dd-a477-58c9fdc8b338",
   "metadata": {
    "tags": []
   },
   "outputs": [],
   "source": [
    "from __future__ import absolute_import, division, print_function, unicode_literals\n",
    "\n",
    "import tensorflow as tf\n",
    "\n",
    "import os\n",
    "import datetime\n",
    "import tensorflow_hub as hub"
   ]
  },
  {
   "cell_type": "markdown",
   "id": "f93e5afd-acf6-4314-8f65-5d530bdb60e1",
   "metadata": {},
   "source": [
    "## Processing Text Data"
   ]
  },
  {
   "cell_type": "code",
   "execution_count": 156,
   "id": "586917ea-a092-408e-9315-d78c308958e5",
   "metadata": {},
   "outputs": [],
   "source": [
    "with open('../data/processed_21_data.pkl', 'rb') as file:\n",
    "    processed_21_data = pickle.load(file)"
   ]
  },
  {
   "cell_type": "code",
   "execution_count": 157,
   "id": "09c5aebe-f300-465d-8f64-4ac16a30fe5e",
   "metadata": {},
   "outputs": [],
   "source": [
    "#only keep relevant columns\n",
    "processed_21_data = processed_21_data[['detailed_type', 'public_description']]"
   ]
  },
  {
   "cell_type": "code",
   "execution_count": 158,
   "id": "a668b477-604e-47bb-ba27-99c443d17bcd",
   "metadata": {},
   "outputs": [
    {
     "data": {
      "text/html": [
       "<div>\n",
       "<style scoped>\n",
       "    .dataframe tbody tr th:only-of-type {\n",
       "        vertical-align: middle;\n",
       "    }\n",
       "\n",
       "    .dataframe tbody tr th {\n",
       "        vertical-align: top;\n",
       "    }\n",
       "\n",
       "    .dataframe thead th {\n",
       "        text-align: right;\n",
       "    }\n",
       "</style>\n",
       "<table border=\"1\" class=\"dataframe\">\n",
       "  <thead>\n",
       "    <tr style=\"text-align: right;\">\n",
       "      <th></th>\n",
       "      <th>detailed_type</th>\n",
       "      <th>public_description</th>\n",
       "    </tr>\n",
       "  </thead>\n",
       "  <tbody>\n",
       "    <tr>\n",
       "      <th>9177</th>\n",
       "      <td>Damaged/Knocked Over Pole</td>\n",
       "      <td>Street light was knocked down 5 to 6 months ago. The street light needs to be replaced and the barricades need to be picked up. Contact is Alvaro at 858-222-9892.</td>\n",
       "    </tr>\n",
       "    <tr>\n",
       "      <th>2820</th>\n",
       "      <td>Traffic Sign Maintenance</td>\n",
       "      <td>Street sign fading</td>\n",
       "    </tr>\n",
       "    <tr>\n",
       "      <th>163694</th>\n",
       "      <td>72 Hour Violation</td>\n",
       "      <td>Parking violation</td>\n",
       "    </tr>\n",
       "  </tbody>\n",
       "</table>\n",
       "</div>"
      ],
      "text/plain": [
       "                    detailed_type  \\\n",
       "9177    Damaged/Knocked Over Pole   \n",
       "2820     Traffic Sign Maintenance   \n",
       "163694          72 Hour Violation   \n",
       "\n",
       "                                                                                                                                                        public_description  \n",
       "9177    Street light was knocked down 5 to 6 months ago. The street light needs to be replaced and the barricades need to be picked up. Contact is Alvaro at 858-222-9892.  \n",
       "2820                                                                                                                                                    Street sign fading  \n",
       "163694                                                                                                                                                   Parking violation  "
      ]
     },
     "execution_count": 158,
     "metadata": {},
     "output_type": "execute_result"
    }
   ],
   "source": [
    "processed_21_data.sample(3)"
   ]
  },
  {
   "cell_type": "code",
   "execution_count": 159,
   "id": "f85de6bf-3294-41f3-8c48-4ec983e38e16",
   "metadata": {},
   "outputs": [],
   "source": [
    "X_train, X_test = train_test_split(processed_21_data, test_size=0.2, random_state=42)"
   ]
  },
  {
   "cell_type": "code",
   "execution_count": 160,
   "id": "ed890d26-12fb-411b-8fcb-1d50996f04f1",
   "metadata": {},
   "outputs": [],
   "source": [
    "from sklearn.utils import class_weight"
   ]
  },
  {
   "cell_type": "code",
   "execution_count": 161,
   "id": "bea7fa13-4009-4250-b20f-759a5a3e2e9b",
   "metadata": {},
   "outputs": [],
   "source": [
    "class_weights = list(class_weight.compute_class_weight(class_weight = 'balanced',\n",
    "                                                       classes= np.unique(processed_21_data['detailed_type']),\n",
    "                                                      y=processed_21_data['detailed_type']\n",
    "                                                      ))"
   ]
  },
  {
   "cell_type": "code",
   "execution_count": 162,
   "id": "6132bd7a-9584-4e25-8766-e127636bbb3b",
   "metadata": {
    "tags": []
   },
   "outputs": [
    {
     "data": {
      "text/plain": [
       "[0.1823593766156387,\n",
       " 8.660313862848117,\n",
       " 3.020793656497419,\n",
       " 5.369206531689766,\n",
       " 2.7260414639946386]"
      ]
     },
     "execution_count": 162,
     "metadata": {},
     "output_type": "execute_result"
    }
   ],
   "source": [
    "class_weights[0:5]"
   ]
  },
  {
   "cell_type": "code",
   "execution_count": 163,
   "id": "28fd6cd9-3d66-43c1-9cbe-7e689e2a7ce8",
   "metadata": {},
   "outputs": [
    {
     "data": {
      "text/plain": [
       "51"
      ]
     },
     "execution_count": 163,
     "metadata": {},
     "output_type": "execute_result"
    }
   ],
   "source": [
    "num_options = len(class_weights)\n",
    "num_options"
   ]
  },
  {
   "cell_type": "code",
   "execution_count": 164,
   "id": "6c4fb032-7c8c-4ef5-a0fc-4f719a72158b",
   "metadata": {},
   "outputs": [],
   "source": [
    "weights = {}"
   ]
  },
  {
   "cell_type": "code",
   "execution_count": 165,
   "id": "6b5a6740-e31b-4c09-8c8e-e7d19a85cf82",
   "metadata": {},
   "outputs": [],
   "source": [
    "for index, weight in enumerate(class_weights) :\n",
    "    weights[index]=weight"
   ]
  },
  {
   "cell_type": "code",
   "execution_count": 166,
   "id": "a72fe509-02a3-4dc0-9503-97568039c06f",
   "metadata": {
    "tags": []
   },
   "outputs": [
    {
     "data": {
      "text/plain": [
       "{0: 0.1823593766156387,\n",
       " 1: 8.660313862848117,\n",
       " 2: 3.020793656497419,\n",
       " 3: 5.369206531689766,\n",
       " 4: 2.7260414639946386,\n",
       " 5: 1.385553156538603,\n",
       " 6: 176.60854341736695,\n",
       " 7: 3.915312126434105,\n",
       " 8: 0.18867714203847055,\n",
       " 9: 3.2320517749583493,\n",
       " 10: 6.26747682596486,\n",
       " 11: 2.9157070847206805,\n",
       " 12: 2.677335796256781,\n",
       " 13: 0.1989795274298356,\n",
       " 14: 1.1417776993041502,\n",
       " 15: 0.3181317045603625,\n",
       " 16: 4.495490196078431,\n",
       " 17: 0.1319768132505878,\n",
       " 18: 0.5327557870810467,\n",
       " 19: 25.890257673750128,\n",
       " 20: 6.945279797312184,\n",
       " 21: 0.32755111715481716,\n",
       " 22: 2.7230392156862746,\n",
       " 23: 1.7351014791881665,\n",
       " 24: 0.540028307926862,\n",
       " 25: 4.940099116569705,\n",
       " 26: 1.660523578135082,\n",
       " 27: 4.759421766781785,\n",
       " 28: 494.50392156862745,\n",
       " 29: 0.25155352608028664,\n",
       " 30: 1.4686781157369393,\n",
       " 31: 10.611672136665826,\n",
       " 32: 34.580693815987935,\n",
       " 33: 2.5450536364829,\n",
       " 34: 4.131193998067063,\n",
       " 35: 11.77390289449113,\n",
       " 36: 1.476571876884525,\n",
       " 37: 2.597184462020102,\n",
       " 38: 2.319436780340654,\n",
       " 39: 1.435008478144595,\n",
       " 40: 11.187871528701978,\n",
       " 41: 1.883107088989442,\n",
       " 42: 1.624520110278014,\n",
       " 43: 4.368409201136285,\n",
       " 44: 2.2559485473021326,\n",
       " 45: 2.6904457103842625,\n",
       " 46: 4.974888546968083,\n",
       " 47: 4.532574899804101,\n",
       " 48: 3.192407498829099,\n",
       " 49: 2.420479302832244,\n",
       " 50: 6.173582042055274}"
      ]
     },
     "execution_count": 166,
     "metadata": {},
     "output_type": "execute_result"
    }
   ],
   "source": [
    "weights"
   ]
  },
  {
   "cell_type": "code",
   "execution_count": 167,
   "id": "2e3ca4ad-8186-4f09-a7e0-32420e8bded2",
   "metadata": {},
   "outputs": [],
   "source": [
    "#Instantiate\n",
    "dataset_train = tf.data.Dataset.from_tensor_slices((X_train['public_description'].values, X_train['detailed_type'].values))\n",
    "# dataset_train = dataset_train\n",
    "dataset_test = tf.data.Dataset.from_tensor_slices((X_test['public_description'].values, X_test['detailed_type'].values))\n",
    "# dataset_test = dataset_test"
   ]
  },
  {
   "cell_type": "code",
   "execution_count": 168,
   "id": "e14e1564-252d-4fdd-8133-e72b4aa65966",
   "metadata": {},
   "outputs": [
    {
     "name": "stdout",
     "output_type": "stream",
     "text": [
      "description: b'all lights out', Target: b'Street Light Out of Service'\n",
      "description: b'Graffiti tag on streetlight post southwest corner of nutmeg and 4th Avenue', Target: b'Graffiti Removal'\n",
      "description: b'Graffiti -Jacky', Target: b'Graffiti Removal'\n",
      "description: b'There are many campers, motorhomes, trailers parked for weeks and putting trash all over. the have broke the lock on the hose bib on the lawnmower shop and created a $900 dollar water bill.  they have pooped on the sidewalk as well as urinating causing possible disease.  one man died on the street.  this is not a safe environment. please do something about it', Target: b'Encampment'\n",
      "description: b'Homeless Encampment', Target: b'Encampment'\n"
     ]
    }
   ],
   "source": [
    "for text, target in dataset_train.take(5):\n",
    "    print('description: {}, Target: {}'.format(text, target))"
   ]
  },
  {
   "cell_type": "code",
   "execution_count": 169,
   "id": "6a1e4d18-6525-4e46-94af-e3775bf6fe11",
   "metadata": {},
   "outputs": [
    {
     "name": "stdout",
     "output_type": "stream",
     "text": [
      "description: b\"Once again our stop sign has been knocked over and this time I got the license plate number of the truck that knocked it down.....34093A1                                      This has been an ongoing issue for too long with constructions trucks that are driving down our easement.  This tiny street/easement is meant for the people who live on it, it is not a parking lot for lots of construction trucks.  They have been blocking driveways for the residents that live down there with no regard.  I have tried talking with them about it isn't parking for them and some of the trucks are way too large and that is why the sign is continually knocked down.       Please have someone put the stop sign back up and could we please also get a sign saying no construction trucks, they have the alley to park it but they want to do what is easiest despite the constant inconvenience and noise that is disrupting the residents who pay a fortune to live here.    Truck blocking driveway\", Target: b'Traffic Sign Maintenance'\n",
      "description: b'MISSION BAY DR & GRAND AV\\nSIGNALS ON RED FLASH', Target: b'Flashing Traffic Signal Lights'\n",
      "description: b'Desk dumped on south side of F St between 22nd Street and 23rd St', Target: b'Illegal Dumping'\n",
      "description: b'Bay inn motel, I am trying to call the cops right now because I think the motel owner is hiding something, something like letting guys rape girls, please send someone to ask if he is hiding something and if he takes money from guys to let them rape a girl.', Target: b'Other'\n",
      "description: b'Traffic signal out at Jackson and Navajo.  The turn signal light did not show green last night for the cars going east on Jackson.  Also would be good if that dedicated turn signal was an arrow instead of a solid', Target: b'Traffic Signal Out of Service'\n"
     ]
    }
   ],
   "source": [
    "for text, target in dataset_test.take(5):\n",
    "    print('description: {}, Target: {}'.format(text, target))"
   ]
  },
  {
   "cell_type": "code",
   "execution_count": 170,
   "id": "56412722-e259-40fa-8ace-c0ce77a77ac3",
   "metadata": {},
   "outputs": [
    {
     "data": {
      "text/plain": [
       "['72 Hour Violation',\n",
       " 'COVID-19',\n",
       " 'Container Left Out',\n",
       " 'Container Out Late',\n",
       " 'Damaged/Knocked Over Pole',\n",
       " 'Dead Animal',\n",
       " 'Development Services - Code Enforcement',\n",
       " 'Drain Inlet',\n",
       " 'Encampment',\n",
       " 'Encroachment',\n",
       " 'Environmental Services Code Compliance',\n",
       " 'Fallen/Hanging Tree Limb',\n",
       " 'Flashing Traffic Signal Lights',\n",
       " 'Graffiti Removal',\n",
       " 'Graffiti Removal - Commercial',\n",
       " 'Illegal Dumping',\n",
       " 'Litter',\n",
       " 'Missed Collection',\n",
       " 'Other',\n",
       " 'Oversized Vehicle',\n",
       " 'Parking',\n",
       " 'Parking Zone Violation',\n",
       " 'Pavement Maintenance',\n",
       " 'Potential Missed Collection',\n",
       " 'Pothole',\n",
       " 'Quality of Life Issues',\n",
       " 'ROW Maintenance',\n",
       " 'Resurfacing Evaluation',\n",
       " 'Right-of-Way Code Enforcement',\n",
       " 'Shared Mobility Device',\n",
       " 'Sidewalk Repair Issue',\n",
       " 'Stormwater',\n",
       " 'Stormwater Code Enforcement',\n",
       " 'Stormwater Pollution Prevention',\n",
       " 'Street Flooded',\n",
       " 'Street Light Maintenance',\n",
       " 'Street Light Out of Service',\n",
       " 'Street Sweeping',\n",
       " 'Traffic Engineering',\n",
       " 'Traffic Sign Maintenance',\n",
       " 'Traffic Signal Issue',\n",
       " 'Traffic Signal Out of Service',\n",
       " 'Traffic Signal Timing',\n",
       " 'Trash/Recycling Collection',\n",
       " 'Tree Maintenance',\n",
       " 'Tree Removal',\n",
       " 'Tree Trimming for Pedestrian/Vehicle Clearance',\n",
       " 'Trimming Request',\n",
       " 'Vegetation Encroachment',\n",
       " 'Waste on Private Property',\n",
       " 'Weed Cleanup']"
      ]
     },
     "execution_count": 170,
     "metadata": {},
     "output_type": "execute_result"
    }
   ],
   "source": [
    "detailed_types = list(np.unique(X_train['detailed_type']))\n",
    "detailed_types"
   ]
  },
  {
   "cell_type": "code",
   "execution_count": 171,
   "id": "5604d556-ae3d-4bdf-be00-746f9967da67",
   "metadata": {},
   "outputs": [],
   "source": [
    "vals = list(range(num_options))"
   ]
  },
  {
   "cell_type": "code",
   "execution_count": 172,
   "id": "f245a5b0-1079-4085-b991-8944a863570c",
   "metadata": {},
   "outputs": [
    {
     "data": {
      "text/plain": [
       "True"
      ]
     },
     "execution_count": 172,
     "metadata": {},
     "output_type": "execute_result"
    }
   ],
   "source": [
    "num_options == len(vals)"
   ]
  },
  {
   "cell_type": "code",
   "execution_count": 173,
   "id": "51fa5d6e-f487-4f55-b2b3-73080bded449",
   "metadata": {},
   "outputs": [],
   "source": [
    "table = tf.lookup.StaticHashTable(\n",
    "    initializer=tf.lookup.KeyValueTensorInitializer(\n",
    "        keys=tf.constant(detailed_types),\n",
    "        values=tf.constant(vals),\n",
    "    ),\n",
    "        default_value=tf.constant(-1),\n",
    "        name=\"target_encoding\"\n",
    ")\n"
   ]
  },
  {
   "cell_type": "code",
   "execution_count": 174,
   "id": "9e1a36be-8949-42f6-9f5d-9b160da55fcd",
   "metadata": {},
   "outputs": [],
   "source": [
    "pickle.dump(detailed_types, open('../data/detailed_types.pkl', 'wb'))\n",
    "pickle.dump(vals, open('../data/vals.pkl', 'wb'))"
   ]
  },
  {
   "cell_type": "code",
   "execution_count": 175,
   "id": "08c9011a-ea77-46c5-8ec5-e65ff68a6eb2",
   "metadata": {},
   "outputs": [],
   "source": [
    "@tf.function\n",
    "def target(x):\n",
    "    return table.lookup(x)"
   ]
  },
  {
   "cell_type": "code",
   "execution_count": 176,
   "id": "d265f243-769e-4337-8883-6c7d9efb2307",
   "metadata": {},
   "outputs": [],
   "source": [
    "def show_batch(dataset, size=5):\n",
    "    for batch, label in dataset.take(size):\n",
    "        print(batch.numpy())\n",
    "        print(target(label).numpy())"
   ]
  },
  {
   "cell_type": "code",
   "execution_count": 177,
   "id": "29b19d16-0ea6-494b-8cab-41e9c285d81c",
   "metadata": {
    "tags": []
   },
   "outputs": [
    {
     "name": "stdout",
     "output_type": "stream",
     "text": [
      "b\"Once again our stop sign has been knocked over and this time I got the license plate number of the truck that knocked it down.....34093A1                                      This has been an ongoing issue for too long with constructions trucks that are driving down our easement.  This tiny street/easement is meant for the people who live on it, it is not a parking lot for lots of construction trucks.  They have been blocking driveways for the residents that live down there with no regard.  I have tried talking with them about it isn't parking for them and some of the trucks are way too large and that is why the sign is continually knocked down.       Please have someone put the stop sign back up and could we please also get a sign saying no construction trucks, they have the alley to park it but they want to do what is easiest despite the constant inconvenience and noise that is disrupting the residents who pay a fortune to live here.    Truck blocking driveway\"\n",
      "39\n",
      "b'MISSION BAY DR & GRAND AV\\nSIGNALS ON RED FLASH'\n",
      "12\n",
      "b'Desk dumped on south side of F St between 22nd Street and 23rd St'\n",
      "15\n",
      "b'Bay inn motel, I am trying to call the cops right now because I think the motel owner is hiding something, something like letting guys rape girls, please send someone to ask if he is hiding something and if he takes money from guys to let them rape a girl.'\n",
      "18\n",
      "b'Traffic signal out at Jackson and Navajo.  The turn signal light did not show green last night for the cars going east on Jackson.  Also would be good if that dedicated turn signal was an arrow instead of a solid'\n",
      "41\n",
      "b'Electrical access and base of lamp covered with dirt/erosion from city park'\n",
      "4\n"
     ]
    }
   ],
   "source": [
    "show_batch(dataset_test, 6)"
   ]
  },
  {
   "cell_type": "code",
   "execution_count": 178,
   "id": "b23676d7-8efc-4eab-97b4-dc521d71f087",
   "metadata": {},
   "outputs": [],
   "source": [
    "def fetch(text, labels):\n",
    "        return text, tf.one_hot(target(labels),num_options)"
   ]
  },
  {
   "cell_type": "code",
   "execution_count": 179,
   "id": "f9d34044-413f-4f51-95e4-104f5f6808f6",
   "metadata": {},
   "outputs": [],
   "source": [
    "train_data_f = dataset_train.map(fetch)\n",
    "# train_data_f_x = train_data_f\n",
    "test_data_f=dataset_test.map(fetch)\n",
    "# test_data_f_x = test_data_x"
   ]
  },
  {
   "cell_type": "code",
   "execution_count": 180,
   "id": "f4afb2af-4922-4fdc-bac4-85fbb5ebd3fc",
   "metadata": {},
   "outputs": [
    {
     "data": {
      "text/plain": [
       "(<tf.Tensor: shape=(), dtype=string, numpy=b'all lights out'>,\n",
       " <tf.Tensor: shape=(51,), dtype=float32, numpy=\n",
       " array([0., 0., 0., 0., 0., 0., 0., 0., 0., 0., 0., 0., 0., 0., 0., 0., 0.,\n",
       "        0., 0., 0., 0., 0., 0., 0., 0., 0., 0., 0., 0., 0., 0., 0., 0., 0.,\n",
       "        0., 0., 1., 0., 0., 0., 0., 0., 0., 0., 0., 0., 0., 0., 0., 0., 0.],\n",
       "       dtype=float32)>)"
      ]
     },
     "execution_count": 180,
     "metadata": {},
     "output_type": "execute_result"
    }
   ],
   "source": [
    "next(iter(train_data_f))"
   ]
  },
  {
   "cell_type": "code",
   "execution_count": 181,
   "id": "f585d628-70b8-4cef-8e51-7ac4502778e7",
   "metadata": {
    "tags": []
   },
   "outputs": [],
   "source": [
    "train_data, train_labels = next(iter(train_data_f.batch(2)))\n",
    "# train_data_x = train_data\n",
    "# train_labels_x = train_labels"
   ]
  },
  {
   "cell_type": "code",
   "execution_count": 182,
   "id": "44c20810-b6a2-4fa5-915f-1471a9b00a29",
   "metadata": {
    "tags": []
   },
   "outputs": [],
   "source": [
    "# embedding = \"https://tfhub.dev/google/tf2-preview/nnlm-en-dim128/1\"\n",
    "# hub_layer = hub.KerasLayer(embedding, output_shape=[128], input_shape=[],\n",
    "#                            dtype=tf.string, trainable=True)\n",
    "# hub_layer(train_data[:1])"
   ]
  },
  {
   "cell_type": "code",
   "execution_count": 183,
   "id": "cfa02fe7-1be6-4c93-b2b6-02806237a458",
   "metadata": {},
   "outputs": [
    {
     "name": "stdout",
     "output_type": "stream",
     "text": [
      "Model: \"sequential_2\"\n",
      "_________________________________________________________________\n",
      " Layer (type)                Output Shape              Param #   \n",
      "=================================================================\n",
      " keras_layer (KerasLayer)    (None, 128)               124642688 \n",
      "                                                                 \n",
      " dense_10 (Dense)            (None, 128)               16512     \n",
      "                                                                 \n",
      " dropout_8 (Dropout)         (None, 128)               0         \n",
      "                                                                 \n",
      " dense_11 (Dense)            (None, 128)               16512     \n",
      "                                                                 \n",
      " dropout_9 (Dropout)         (None, 128)               0         \n",
      "                                                                 \n",
      " dense_12 (Dense)            (None, 64)                8256      \n",
      "                                                                 \n",
      " dropout_10 (Dropout)        (None, 64)                0         \n",
      "                                                                 \n",
      " dense_13 (Dense)            (None, 32)                2080      \n",
      "                                                                 \n",
      " dropout_11 (Dropout)        (None, 32)                0         \n",
      "                                                                 \n",
      " dense_14 (Dense)            (None, 51)                1683      \n",
      "                                                                 \n",
      "=================================================================\n",
      "Total params: 124,687,731\n",
      "Trainable params: 124,687,731\n",
      "Non-trainable params: 0\n",
      "_________________________________________________________________\n"
     ]
    }
   ],
   "source": [
    "model = tf.keras.Sequential()\n",
    "model.add(hub_layer)\n",
    "for units in [128, 128, 64, 32]:\n",
    "    model.add(tf.keras.layers.Dense(units, activation='relu'))\n",
    "    model.add(tf.keras.layers.Dropout(0.3))\n",
    "model.add(tf.keras.layers.Dense(num_options, activation='softmax'))\n",
    "\n",
    "model.summary()"
   ]
  },
  {
   "cell_type": "code",
   "execution_count": 184,
   "id": "ddbd119f-8a5e-491f-8295-0634db9443b7",
   "metadata": {},
   "outputs": [],
   "source": [
    "train_data_f=train_data_f.shuffle(70000).batch(512)\n",
    "# train_data_f_x = train_data_f\n",
    "test_data_f=test_data_f.batch(512)\n",
    "# test_data_f_x = test_data_f"
   ]
  },
  {
   "cell_type": "markdown",
   "id": "01fc3bde-1400-4206-a48f-88e622ea9e90",
   "metadata": {},
   "source": [
    "## Model Fitting"
   ]
  },
  {
   "cell_type": "code",
   "execution_count": 185,
   "id": "82b91ee0-04c1-474e-9897-10c2cdfcac89",
   "metadata": {},
   "outputs": [],
   "source": [
    "# model.compile(optimizer='adam',\n",
    "#              loss=tf.keras.losses.CategoricalCrossentropy(from_logits=True),\n",
    "#              metrics=['accuracy'])"
   ]
  },
  {
   "cell_type": "code",
   "execution_count": 186,
   "id": "0bb8149f-0661-41fe-96f9-d08bbf12b7e4",
   "metadata": {},
   "outputs": [],
   "source": [
    "model = keras.models.load_model('../data/tf_model.pkl')"
   ]
  },
  {
   "cell_type": "code",
   "execution_count": null,
   "id": "6827a02c-04ee-4d25-ad5f-2488e8dc0fa0",
   "metadata": {
    "tags": []
   },
   "outputs": [
    {
     "name": "stdout",
     "output_type": "stream",
     "text": [
      "Epoch 1/3\n",
      "124/395 [========>.....................] - ETA: 7:14 - loss: 0.7654 - accuracy: 0.6511"
     ]
    }
   ],
   "source": [
    "history = model.fit(train_data_f,\n",
    "                   epochs=3,\n",
    "                   validation_data=test_data_f,\n",
    "                   verbose=1,\n",
    "                   class_weight=weights)"
   ]
  },
  {
   "cell_type": "code",
   "execution_count": 188,
   "id": "2fbaba2b-f371-4498-8de1-e2b894b72d52",
   "metadata": {
    "tags": []
   },
   "outputs": [],
   "source": [
    "# model.save('../data/tf_model_X.pkl')"
   ]
  },
  {
   "cell_type": "code",
   "execution_count": 189,
   "id": "e8d56388-24ad-49b5-862e-bb5753d8feef",
   "metadata": {
    "tags": []
   },
   "outputs": [],
   "source": [
    "# pickle.dump(model, open('../data/tf_model.pkl', 'wb'))"
   ]
  },
  {
   "cell_type": "markdown",
   "id": "7edd16d3-20c3-4213-b8b5-ccbf2207fad1",
   "metadata": {},
   "source": [
    "## Model Results"
   ]
  },
  {
   "cell_type": "code",
   "execution_count": 190,
   "id": "9e7815b0-251b-485e-9413-973526b237c3",
   "metadata": {},
   "outputs": [],
   "source": [
    "for_results = len(list(dataset_test))\n",
    "for_results_x = for_results"
   ]
  },
  {
   "cell_type": "code",
   "execution_count": 191,
   "id": "64d0ae5e-7687-4c9c-89d1-0da786dfa56b",
   "metadata": {},
   "outputs": [
    {
     "name": "stdout",
     "output_type": "stream",
     "text": [
      "1/1 - 8s - loss: 1.5874 - accuracy: 0.6179 - 8s/epoch - 8s/step\n"
     ]
    }
   ],
   "source": [
    "results = model.evaluate(dataset_test.map(fetch).batch(for_results), verbose=2)"
   ]
  },
  {
   "cell_type": "code",
   "execution_count": 192,
   "id": "f286643a-3298-4555-add6-001d23dee538",
   "metadata": {},
   "outputs": [
    {
     "name": "stdout",
     "output_type": "stream",
     "text": [
      "[1.5873810052871704, 0.6179420948028564]\n"
     ]
    }
   ],
   "source": [
    "print(results)"
   ]
  },
  {
   "cell_type": "code",
   "execution_count": 193,
   "id": "b5a995df-70d7-427c-95f7-31f06f93d685",
   "metadata": {},
   "outputs": [
    {
     "data": {
      "text/plain": [
       "(<tf.Tensor: shape=(1,), dtype=string, numpy=\n",
       " array([b\"Once again our stop sign has been knocked over and this time I got the license plate number of the truck that knocked it down.....34093A1                                      This has been an ongoing issue for too long with constructions trucks that are driving down our easement.  This tiny street/easement is meant for the people who live on it, it is not a parking lot for lots of construction trucks.  They have been blocking driveways for the residents that live down there with no regard.  I have tried talking with them about it isn't parking for them and some of the trucks are way too large and that is why the sign is continually knocked down.       Please have someone put the stop sign back up and could we please also get a sign saying no construction trucks, they have the alley to park it but they want to do what is easiest despite the constant inconvenience and noise that is disrupting the residents who pay a fortune to live here.    Truck blocking driveway\"],\n",
       "       dtype=object)>,\n",
       " <tf.Tensor: shape=(1, 51), dtype=float32, numpy=\n",
       " array([[0., 0., 0., 0., 0., 0., 0., 0., 0., 0., 0., 0., 0., 0., 0., 0.,\n",
       "         0., 0., 0., 0., 0., 0., 0., 0., 0., 0., 0., 0., 0., 0., 0., 0.,\n",
       "         0., 0., 0., 0., 0., 0., 0., 1., 0., 0., 0., 0., 0., 0., 0., 0.,\n",
       "         0., 0., 0.]], dtype=float32)>)"
      ]
     },
     "execution_count": 193,
     "metadata": {},
     "output_type": "execute_result"
    }
   ],
   "source": [
    "next(iter(dataset_test.map(fetch).batch(1)))"
   ]
  },
  {
   "cell_type": "code",
   "execution_count": 194,
   "id": "30098480-f686-4feb-8793-913171bda5b3",
   "metadata": {},
   "outputs": [
    {
     "data": {
      "text/plain": [
       "tensorflow.python.data.ops.from_tensor_slices_op.TensorSliceDataset"
      ]
     },
     "execution_count": 194,
     "metadata": {},
     "output_type": "execute_result"
    }
   ],
   "source": [
    "type(dataset_test)"
   ]
  },
  {
   "cell_type": "code",
   "execution_count": 195,
   "id": "38cbc0b6-ae68-4eda-bbf2-a37a80a869ca",
   "metadata": {},
   "outputs": [],
   "source": [
    "test_data, test_labels = next(iter(dataset_test.map(fetch).batch(for_results)))\n",
    "test_data_x = test_data\n",
    "test_labels_x = test_labels"
   ]
  },
  {
   "cell_type": "code",
   "execution_count": 196,
   "id": "167e1ac3-6d26-4147-9529-c896e3219408",
   "metadata": {},
   "outputs": [
    {
     "name": "stdout",
     "output_type": "stream",
     "text": [
      "1577/1577 [==============================] - 299s 189ms/step\n"
     ]
    }
   ],
   "source": [
    "y_pred=model.predict(test_data)"
   ]
  },
  {
   "cell_type": "code",
   "execution_count": 197,
   "id": "99e9e1c1-fc82-473a-ae0a-dca32a7534e0",
   "metadata": {},
   "outputs": [
    {
     "data": {
      "text/plain": [
       "tensorflow.python.framework.ops.EagerTensor"
      ]
     },
     "execution_count": 197,
     "metadata": {},
     "output_type": "execute_result"
    }
   ],
   "source": [
    "type(test_data)"
   ]
  },
  {
   "cell_type": "code",
   "execution_count": 198,
   "id": "e3b0b1d7-72f9-4fff-9d2a-c102607f194f",
   "metadata": {},
   "outputs": [
    {
     "data": {
      "text/plain": [
       "array([[1.0767374e-02, 1.8732173e-05, 1.4638258e-07, ..., 1.8017289e-03,\n",
       "        2.1123686e-05, 3.4416781e-04],\n",
       "       [5.7529771e-28, 0.0000000e+00, 6.7365081e-38, ..., 3.5909276e-30,\n",
       "        8.7956607e-29, 8.4588869e-24],\n",
       "       [2.0094419e-09, 1.0781780e-11, 1.2984411e-06, ..., 1.7754719e-09,\n",
       "        3.9535040e-01, 6.1823286e-08],\n",
       "       ...,\n",
       "       [8.8851970e-01, 1.4122645e-10, 1.4437809e-12, ..., 3.1019761e-20,\n",
       "        1.9984509e-13, 2.8626611e-27],\n",
       "       [1.6730356e-08, 1.3871118e-06, 1.5023913e-11, ..., 1.7816414e-05,\n",
       "        1.7741436e-07, 3.0663768e-06],\n",
       "       [6.5508844e-05, 5.1820029e-05, 4.6227101e-02, ..., 1.5358141e-14,\n",
       "        3.3081014e-05, 3.7872236e-14]], dtype=float32)"
      ]
     },
     "execution_count": 198,
     "metadata": {},
     "output_type": "execute_result"
    }
   ],
   "source": [
    "y_pred"
   ]
  },
  {
   "cell_type": "code",
   "execution_count": 199,
   "id": "7bf56281-5371-4466-a592-49f4ba2632a6",
   "metadata": {
    "tags": []
   },
   "outputs": [
    {
     "data": {
      "text/html": [
       "<div>\n",
       "<style scoped>\n",
       "    .dataframe tbody tr th:only-of-type {\n",
       "        vertical-align: middle;\n",
       "    }\n",
       "\n",
       "    .dataframe tbody tr th {\n",
       "        vertical-align: top;\n",
       "    }\n",
       "\n",
       "    .dataframe thead th {\n",
       "        text-align: right;\n",
       "    }\n",
       "</style>\n",
       "<table border=\"1\" class=\"dataframe\">\n",
       "  <thead>\n",
       "    <tr style=\"text-align: right;\">\n",
       "      <th></th>\n",
       "      <th>72 Hour Violation</th>\n",
       "      <th>COVID-19</th>\n",
       "      <th>Container Left Out</th>\n",
       "      <th>Container Out Late</th>\n",
       "      <th>Damaged/Knocked Over Pole</th>\n",
       "      <th>Dead Animal</th>\n",
       "      <th>Development Services - Code Enforcement</th>\n",
       "      <th>Drain Inlet</th>\n",
       "      <th>Encampment</th>\n",
       "      <th>Encroachment</th>\n",
       "      <th>...</th>\n",
       "      <th>Traffic Signal Out of Service</th>\n",
       "      <th>Traffic Signal Timing</th>\n",
       "      <th>Trash/Recycling Collection</th>\n",
       "      <th>Tree Maintenance</th>\n",
       "      <th>Tree Removal</th>\n",
       "      <th>Tree Trimming for Pedestrian/Vehicle Clearance</th>\n",
       "      <th>Trimming Request</th>\n",
       "      <th>Vegetation Encroachment</th>\n",
       "      <th>Waste on Private Property</th>\n",
       "      <th>Weed Cleanup</th>\n",
       "    </tr>\n",
       "  </thead>\n",
       "  <tbody>\n",
       "    <tr>\n",
       "      <th>0</th>\n",
       "      <td>1.076737e-02</td>\n",
       "      <td>1.873217e-05</td>\n",
       "      <td>1.463826e-07</td>\n",
       "      <td>4.031726e-06</td>\n",
       "      <td>1.191184e-04</td>\n",
       "      <td>1.989930e-03</td>\n",
       "      <td>2.315349e-04</td>\n",
       "      <td>2.757364e-05</td>\n",
       "      <td>6.075676e-03</td>\n",
       "      <td>3.775804e-04</td>\n",
       "      <td>...</td>\n",
       "      <td>3.291605e-03</td>\n",
       "      <td>7.100753e-03</td>\n",
       "      <td>2.258399e-06</td>\n",
       "      <td>7.035618e-03</td>\n",
       "      <td>1.550452e-04</td>\n",
       "      <td>2.136120e-03</td>\n",
       "      <td>1.118503e-04</td>\n",
       "      <td>1.801729e-03</td>\n",
       "      <td>2.112369e-05</td>\n",
       "      <td>3.441678e-04</td>\n",
       "    </tr>\n",
       "    <tr>\n",
       "      <th>1</th>\n",
       "      <td>5.752977e-28</td>\n",
       "      <td>0.000000e+00</td>\n",
       "      <td>6.736508e-38</td>\n",
       "      <td>3.757159e-18</td>\n",
       "      <td>2.066923e-09</td>\n",
       "      <td>2.319255e-16</td>\n",
       "      <td>0.000000e+00</td>\n",
       "      <td>8.263026e-18</td>\n",
       "      <td>1.143858e-21</td>\n",
       "      <td>2.340354e-23</td>\n",
       "      <td>...</td>\n",
       "      <td>3.892734e-05</td>\n",
       "      <td>2.102886e-09</td>\n",
       "      <td>6.664391e-27</td>\n",
       "      <td>3.536095e-21</td>\n",
       "      <td>1.648852e-22</td>\n",
       "      <td>2.367728e-35</td>\n",
       "      <td>3.706641e-30</td>\n",
       "      <td>3.590928e-30</td>\n",
       "      <td>8.795661e-29</td>\n",
       "      <td>8.458887e-24</td>\n",
       "    </tr>\n",
       "    <tr>\n",
       "      <th>2</th>\n",
       "      <td>2.009442e-09</td>\n",
       "      <td>1.078178e-11</td>\n",
       "      <td>1.298441e-06</td>\n",
       "      <td>6.746213e-13</td>\n",
       "      <td>4.875332e-10</td>\n",
       "      <td>5.818962e-09</td>\n",
       "      <td>5.874600e-12</td>\n",
       "      <td>2.266695e-06</td>\n",
       "      <td>2.479990e-04</td>\n",
       "      <td>4.835981e-02</td>\n",
       "      <td>...</td>\n",
       "      <td>2.629686e-15</td>\n",
       "      <td>1.435686e-17</td>\n",
       "      <td>1.529576e-04</td>\n",
       "      <td>1.710128e-12</td>\n",
       "      <td>4.324635e-15</td>\n",
       "      <td>8.982122e-13</td>\n",
       "      <td>8.195557e-20</td>\n",
       "      <td>1.775472e-09</td>\n",
       "      <td>3.953504e-01</td>\n",
       "      <td>6.182329e-08</td>\n",
       "    </tr>\n",
       "    <tr>\n",
       "      <th>3</th>\n",
       "      <td>1.195709e-03</td>\n",
       "      <td>2.651525e-06</td>\n",
       "      <td>7.058992e-11</td>\n",
       "      <td>1.338177e-10</td>\n",
       "      <td>8.643900e-06</td>\n",
       "      <td>7.137408e-03</td>\n",
       "      <td>1.808413e-05</td>\n",
       "      <td>1.364962e-05</td>\n",
       "      <td>3.179254e-03</td>\n",
       "      <td>2.193728e-05</td>\n",
       "      <td>...</td>\n",
       "      <td>2.555840e-04</td>\n",
       "      <td>8.088582e-06</td>\n",
       "      <td>3.552545e-08</td>\n",
       "      <td>1.621454e-04</td>\n",
       "      <td>9.353169e-06</td>\n",
       "      <td>1.904492e-05</td>\n",
       "      <td>3.242889e-07</td>\n",
       "      <td>2.917681e-04</td>\n",
       "      <td>2.951177e-06</td>\n",
       "      <td>1.092388e-04</td>\n",
       "    </tr>\n",
       "    <tr>\n",
       "      <th>4</th>\n",
       "      <td>2.948388e-20</td>\n",
       "      <td>7.930307e-28</td>\n",
       "      <td>3.422967e-37</td>\n",
       "      <td>7.279107e-16</td>\n",
       "      <td>2.695871e-06</td>\n",
       "      <td>8.093353e-13</td>\n",
       "      <td>0.000000e+00</td>\n",
       "      <td>3.748853e-15</td>\n",
       "      <td>1.515109e-20</td>\n",
       "      <td>1.522497e-26</td>\n",
       "      <td>...</td>\n",
       "      <td>9.536613e-01</td>\n",
       "      <td>9.074862e-03</td>\n",
       "      <td>9.214313e-28</td>\n",
       "      <td>1.615531e-16</td>\n",
       "      <td>4.788878e-15</td>\n",
       "      <td>2.529453e-28</td>\n",
       "      <td>5.970606e-19</td>\n",
       "      <td>4.054131e-27</td>\n",
       "      <td>1.258499e-30</td>\n",
       "      <td>2.734306e-25</td>\n",
       "    </tr>\n",
       "    <tr>\n",
       "      <th>...</th>\n",
       "      <td>...</td>\n",
       "      <td>...</td>\n",
       "      <td>...</td>\n",
       "      <td>...</td>\n",
       "      <td>...</td>\n",
       "      <td>...</td>\n",
       "      <td>...</td>\n",
       "      <td>...</td>\n",
       "      <td>...</td>\n",
       "      <td>...</td>\n",
       "      <td>...</td>\n",
       "      <td>...</td>\n",
       "      <td>...</td>\n",
       "      <td>...</td>\n",
       "      <td>...</td>\n",
       "      <td>...</td>\n",
       "      <td>...</td>\n",
       "      <td>...</td>\n",
       "      <td>...</td>\n",
       "      <td>...</td>\n",
       "      <td>...</td>\n",
       "    </tr>\n",
       "    <tr>\n",
       "      <th>50435</th>\n",
       "      <td>4.289572e-05</td>\n",
       "      <td>8.213203e-13</td>\n",
       "      <td>2.168576e-12</td>\n",
       "      <td>4.507166e-12</td>\n",
       "      <td>3.740212e-18</td>\n",
       "      <td>6.639628e-10</td>\n",
       "      <td>4.282862e-10</td>\n",
       "      <td>1.323381e-12</td>\n",
       "      <td>2.370025e-05</td>\n",
       "      <td>1.121448e-05</td>\n",
       "      <td>...</td>\n",
       "      <td>7.442284e-15</td>\n",
       "      <td>2.062154e-12</td>\n",
       "      <td>6.660862e-10</td>\n",
       "      <td>4.182941e-13</td>\n",
       "      <td>6.144514e-19</td>\n",
       "      <td>2.475241e-12</td>\n",
       "      <td>8.322772e-20</td>\n",
       "      <td>1.941624e-12</td>\n",
       "      <td>1.336526e-08</td>\n",
       "      <td>6.656686e-13</td>\n",
       "    </tr>\n",
       "    <tr>\n",
       "      <th>50436</th>\n",
       "      <td>4.778258e-01</td>\n",
       "      <td>1.843475e-06</td>\n",
       "      <td>1.071107e-07</td>\n",
       "      <td>3.142330e-09</td>\n",
       "      <td>1.490388e-17</td>\n",
       "      <td>3.996383e-09</td>\n",
       "      <td>2.388219e-05</td>\n",
       "      <td>5.980951e-14</td>\n",
       "      <td>2.247255e-02</td>\n",
       "      <td>7.920344e-07</td>\n",
       "      <td>...</td>\n",
       "      <td>5.435305e-12</td>\n",
       "      <td>2.262491e-11</td>\n",
       "      <td>4.887905e-09</td>\n",
       "      <td>9.245323e-16</td>\n",
       "      <td>1.570737e-19</td>\n",
       "      <td>8.178684e-11</td>\n",
       "      <td>3.082084e-18</td>\n",
       "      <td>5.775598e-12</td>\n",
       "      <td>1.784995e-07</td>\n",
       "      <td>3.871855e-16</td>\n",
       "    </tr>\n",
       "    <tr>\n",
       "      <th>50437</th>\n",
       "      <td>8.885197e-01</td>\n",
       "      <td>1.412264e-10</td>\n",
       "      <td>1.443781e-12</td>\n",
       "      <td>3.199661e-13</td>\n",
       "      <td>1.078489e-31</td>\n",
       "      <td>1.968314e-15</td>\n",
       "      <td>3.562927e-07</td>\n",
       "      <td>1.208362e-23</td>\n",
       "      <td>2.040220e-03</td>\n",
       "      <td>2.682286e-11</td>\n",
       "      <td>...</td>\n",
       "      <td>1.762054e-19</td>\n",
       "      <td>1.471199e-15</td>\n",
       "      <td>4.474377e-15</td>\n",
       "      <td>3.841277e-25</td>\n",
       "      <td>7.817531e-32</td>\n",
       "      <td>1.615888e-16</td>\n",
       "      <td>3.929110e-28</td>\n",
       "      <td>3.101976e-20</td>\n",
       "      <td>1.998451e-13</td>\n",
       "      <td>2.862661e-27</td>\n",
       "    </tr>\n",
       "    <tr>\n",
       "      <th>50438</th>\n",
       "      <td>1.673036e-08</td>\n",
       "      <td>1.387112e-06</td>\n",
       "      <td>1.502391e-11</td>\n",
       "      <td>4.009413e-10</td>\n",
       "      <td>2.667859e-01</td>\n",
       "      <td>1.346809e-06</td>\n",
       "      <td>6.020863e-10</td>\n",
       "      <td>4.965522e-03</td>\n",
       "      <td>2.386889e-05</td>\n",
       "      <td>2.304506e-08</td>\n",
       "      <td>...</td>\n",
       "      <td>1.407953e-04</td>\n",
       "      <td>1.542969e-04</td>\n",
       "      <td>4.965913e-08</td>\n",
       "      <td>3.097315e-01</td>\n",
       "      <td>1.012659e-01</td>\n",
       "      <td>4.654663e-04</td>\n",
       "      <td>1.690370e-02</td>\n",
       "      <td>1.781641e-05</td>\n",
       "      <td>1.774144e-07</td>\n",
       "      <td>3.066377e-06</td>\n",
       "    </tr>\n",
       "    <tr>\n",
       "      <th>50439</th>\n",
       "      <td>6.550884e-05</td>\n",
       "      <td>5.182003e-05</td>\n",
       "      <td>4.622710e-02</td>\n",
       "      <td>6.537884e-02</td>\n",
       "      <td>9.985419e-09</td>\n",
       "      <td>7.849645e-12</td>\n",
       "      <td>7.843498e-11</td>\n",
       "      <td>2.742616e-06</td>\n",
       "      <td>7.141650e-05</td>\n",
       "      <td>5.365442e-05</td>\n",
       "      <td>...</td>\n",
       "      <td>6.266559e-09</td>\n",
       "      <td>5.252019e-07</td>\n",
       "      <td>5.078366e-02</td>\n",
       "      <td>7.451487e-11</td>\n",
       "      <td>1.343222e-14</td>\n",
       "      <td>9.174506e-12</td>\n",
       "      <td>1.584799e-14</td>\n",
       "      <td>1.535814e-14</td>\n",
       "      <td>3.308101e-05</td>\n",
       "      <td>3.787224e-14</td>\n",
       "    </tr>\n",
       "  </tbody>\n",
       "</table>\n",
       "<p>50440 rows × 51 columns</p>\n",
       "</div>"
      ],
      "text/plain": [
       "       72 Hour Violation      COVID-19  Container Left Out  \\\n",
       "0           1.076737e-02  1.873217e-05        1.463826e-07   \n",
       "1           5.752977e-28  0.000000e+00        6.736508e-38   \n",
       "2           2.009442e-09  1.078178e-11        1.298441e-06   \n",
       "3           1.195709e-03  2.651525e-06        7.058992e-11   \n",
       "4           2.948388e-20  7.930307e-28        3.422967e-37   \n",
       "...                  ...           ...                 ...   \n",
       "50435       4.289572e-05  8.213203e-13        2.168576e-12   \n",
       "50436       4.778258e-01  1.843475e-06        1.071107e-07   \n",
       "50437       8.885197e-01  1.412264e-10        1.443781e-12   \n",
       "50438       1.673036e-08  1.387112e-06        1.502391e-11   \n",
       "50439       6.550884e-05  5.182003e-05        4.622710e-02   \n",
       "\n",
       "       Container Out Late  Damaged/Knocked Over Pole   Dead Animal  \\\n",
       "0            4.031726e-06               1.191184e-04  1.989930e-03   \n",
       "1            3.757159e-18               2.066923e-09  2.319255e-16   \n",
       "2            6.746213e-13               4.875332e-10  5.818962e-09   \n",
       "3            1.338177e-10               8.643900e-06  7.137408e-03   \n",
       "4            7.279107e-16               2.695871e-06  8.093353e-13   \n",
       "...                   ...                        ...           ...   \n",
       "50435        4.507166e-12               3.740212e-18  6.639628e-10   \n",
       "50436        3.142330e-09               1.490388e-17  3.996383e-09   \n",
       "50437        3.199661e-13               1.078489e-31  1.968314e-15   \n",
       "50438        4.009413e-10               2.667859e-01  1.346809e-06   \n",
       "50439        6.537884e-02               9.985419e-09  7.849645e-12   \n",
       "\n",
       "       Development Services - Code Enforcement   Drain Inlet    Encampment  \\\n",
       "0                                 2.315349e-04  2.757364e-05  6.075676e-03   \n",
       "1                                 0.000000e+00  8.263026e-18  1.143858e-21   \n",
       "2                                 5.874600e-12  2.266695e-06  2.479990e-04   \n",
       "3                                 1.808413e-05  1.364962e-05  3.179254e-03   \n",
       "4                                 0.000000e+00  3.748853e-15  1.515109e-20   \n",
       "...                                        ...           ...           ...   \n",
       "50435                             4.282862e-10  1.323381e-12  2.370025e-05   \n",
       "50436                             2.388219e-05  5.980951e-14  2.247255e-02   \n",
       "50437                             3.562927e-07  1.208362e-23  2.040220e-03   \n",
       "50438                             6.020863e-10  4.965522e-03  2.386889e-05   \n",
       "50439                             7.843498e-11  2.742616e-06  7.141650e-05   \n",
       "\n",
       "       Encroachment  ...  Traffic Signal Out of Service  \\\n",
       "0      3.775804e-04  ...                   3.291605e-03   \n",
       "1      2.340354e-23  ...                   3.892734e-05   \n",
       "2      4.835981e-02  ...                   2.629686e-15   \n",
       "3      2.193728e-05  ...                   2.555840e-04   \n",
       "4      1.522497e-26  ...                   9.536613e-01   \n",
       "...             ...  ...                            ...   \n",
       "50435  1.121448e-05  ...                   7.442284e-15   \n",
       "50436  7.920344e-07  ...                   5.435305e-12   \n",
       "50437  2.682286e-11  ...                   1.762054e-19   \n",
       "50438  2.304506e-08  ...                   1.407953e-04   \n",
       "50439  5.365442e-05  ...                   6.266559e-09   \n",
       "\n",
       "       Traffic Signal Timing  Trash/Recycling Collection  Tree Maintenance  \\\n",
       "0               7.100753e-03                2.258399e-06      7.035618e-03   \n",
       "1               2.102886e-09                6.664391e-27      3.536095e-21   \n",
       "2               1.435686e-17                1.529576e-04      1.710128e-12   \n",
       "3               8.088582e-06                3.552545e-08      1.621454e-04   \n",
       "4               9.074862e-03                9.214313e-28      1.615531e-16   \n",
       "...                      ...                         ...               ...   \n",
       "50435           2.062154e-12                6.660862e-10      4.182941e-13   \n",
       "50436           2.262491e-11                4.887905e-09      9.245323e-16   \n",
       "50437           1.471199e-15                4.474377e-15      3.841277e-25   \n",
       "50438           1.542969e-04                4.965913e-08      3.097315e-01   \n",
       "50439           5.252019e-07                5.078366e-02      7.451487e-11   \n",
       "\n",
       "       Tree Removal  Tree Trimming for Pedestrian/Vehicle Clearance  \\\n",
       "0      1.550452e-04                                    2.136120e-03   \n",
       "1      1.648852e-22                                    2.367728e-35   \n",
       "2      4.324635e-15                                    8.982122e-13   \n",
       "3      9.353169e-06                                    1.904492e-05   \n",
       "4      4.788878e-15                                    2.529453e-28   \n",
       "...             ...                                             ...   \n",
       "50435  6.144514e-19                                    2.475241e-12   \n",
       "50436  1.570737e-19                                    8.178684e-11   \n",
       "50437  7.817531e-32                                    1.615888e-16   \n",
       "50438  1.012659e-01                                    4.654663e-04   \n",
       "50439  1.343222e-14                                    9.174506e-12   \n",
       "\n",
       "       Trimming Request  Vegetation Encroachment  Waste on Private Property  \\\n",
       "0          1.118503e-04             1.801729e-03               2.112369e-05   \n",
       "1          3.706641e-30             3.590928e-30               8.795661e-29   \n",
       "2          8.195557e-20             1.775472e-09               3.953504e-01   \n",
       "3          3.242889e-07             2.917681e-04               2.951177e-06   \n",
       "4          5.970606e-19             4.054131e-27               1.258499e-30   \n",
       "...                 ...                      ...                        ...   \n",
       "50435      8.322772e-20             1.941624e-12               1.336526e-08   \n",
       "50436      3.082084e-18             5.775598e-12               1.784995e-07   \n",
       "50437      3.929110e-28             3.101976e-20               1.998451e-13   \n",
       "50438      1.690370e-02             1.781641e-05               1.774144e-07   \n",
       "50439      1.584799e-14             1.535814e-14               3.308101e-05   \n",
       "\n",
       "       Weed Cleanup  \n",
       "0      3.441678e-04  \n",
       "1      8.458887e-24  \n",
       "2      6.182329e-08  \n",
       "3      1.092388e-04  \n",
       "4      2.734306e-25  \n",
       "...             ...  \n",
       "50435  6.656686e-13  \n",
       "50436  3.871855e-16  \n",
       "50437  2.862661e-27  \n",
       "50438  3.066377e-06  \n",
       "50439  3.787224e-14  \n",
       "\n",
       "[50440 rows x 51 columns]"
      ]
     },
     "execution_count": 199,
     "metadata": {},
     "output_type": "execute_result"
    }
   ],
   "source": [
    "results_df = pd.DataFrame(y_pred)\n",
    "results_df.columns = ['72 Hour Violation',\n",
    " 'COVID-19',\n",
    " 'Container Left Out',\n",
    " 'Container Out Late',\n",
    " 'Damaged/Knocked Over Pole',\n",
    " 'Dead Animal',\n",
    " 'Development Services - Code Enforcement',\n",
    " 'Drain Inlet',\n",
    " 'Encampment',\n",
    " 'Encroachment',\n",
    " 'Environmental Services Code Compliance',\n",
    " 'Fallen/Hanging Tree Limb',\n",
    " 'Flashing Traffic Signal Lights',\n",
    " 'Graffiti Removal',\n",
    " 'Graffiti Removal - Commercial',\n",
    " 'Illegal Dumping',\n",
    " 'Litter',\n",
    " 'Missed Collection',\n",
    " 'Other',\n",
    " 'Oversized Vehicle',\n",
    " 'Parking',\n",
    " 'Parking Zone Violation',\n",
    " 'Pavement Maintenance',\n",
    " 'Potential Missed Collection',\n",
    " 'Pothole',\n",
    " 'Quality of Life Issues',\n",
    " 'ROW Maintenance',\n",
    " 'Resurfacing Evaluation',\n",
    " 'Right-of-Way Code Enforcement',\n",
    " 'Shared Mobility Device',\n",
    " 'Sidewalk Repair Issue',\n",
    " 'Stormwater',\n",
    " 'Stormwater Code Enforcement',\n",
    " 'Stormwater Pollution Prevention',\n",
    " 'Street Flooded',\n",
    " 'Street Light Maintenance',\n",
    " 'Street Light Out of Service',\n",
    " 'Street Sweeping',\n",
    " 'Traffic Engineering',\n",
    " 'Traffic Sign Maintenance',\n",
    " 'Traffic Signal Issue',\n",
    " 'Traffic Signal Out of Service',\n",
    " 'Traffic Signal Timing',\n",
    " 'Trash/Recycling Collection',\n",
    " 'Tree Maintenance',\n",
    " 'Tree Removal',\n",
    " 'Tree Trimming for Pedestrian/Vehicle Clearance',\n",
    " 'Trimming Request',\n",
    " 'Vegetation Encroachment',\n",
    " 'Waste on Private Property',\n",
    " 'Weed Cleanup']\n",
    "results_df"
   ]
  },
  {
   "cell_type": "code",
   "execution_count": 200,
   "id": "92195abd-977d-481e-a66e-821802e32361",
   "metadata": {
    "tags": []
   },
   "outputs": [],
   "source": [
    "#return column where value is that above\n",
    "j = 0\n",
    "max_col = []\n",
    "\n",
    "for j in range(100):\n",
    "\n",
    "    i=0\n",
    "\n",
    "\n",
    "    while i < results_df.shape[1]:\n",
    "        if results_df.iloc[j,i] == results_df.iloc[j,:].max():\n",
    "            max_col.append(list(results_df.columns)[i])\n",
    "        i += 1"
   ]
  },
  {
   "cell_type": "code",
   "execution_count": 201,
   "id": "8950cfdf-bfc4-424a-8598-0b6110d9abc4",
   "metadata": {
    "tags": []
   },
   "outputs": [
    {
     "data": {
      "text/plain": [
       "['Traffic Engineering',\n",
       " 'Flashing Traffic Signal Lights',\n",
       " 'Illegal Dumping',\n",
       " 'ROW Maintenance',\n",
       " 'Traffic Signal Out of Service',\n",
       " 'Damaged/Knocked Over Pole',\n",
       " 'Traffic Signal Out of Service',\n",
       " 'Quality of Life Issues',\n",
       " 'Missed Collection',\n",
       " 'Pothole',\n",
       " 'Oversized Vehicle',\n",
       " 'Missed Collection',\n",
       " 'Shared Mobility Device',\n",
       " 'Graffiti Removal',\n",
       " '72 Hour Violation',\n",
       " 'Pothole',\n",
       " 'Waste on Private Property',\n",
       " 'Encampment',\n",
       " 'ROW Maintenance',\n",
       " 'Traffic Signal Timing',\n",
       " 'Illegal Dumping',\n",
       " 'Missed Collection',\n",
       " '72 Hour Violation',\n",
       " '72 Hour Violation',\n",
       " 'Parking Zone Violation',\n",
       " 'Encampment',\n",
       " 'Missed Collection',\n",
       " 'Graffiti Removal',\n",
       " 'Vegetation Encroachment',\n",
       " 'Graffiti Removal - Commercial',\n",
       " 'Quality of Life Issues',\n",
       " 'Parking Zone Violation',\n",
       " 'Parking',\n",
       " '72 Hour Violation',\n",
       " 'Graffiti Removal - Commercial',\n",
       " 'Street Flooded',\n",
       " 'Traffic Signal Timing',\n",
       " 'Traffic Sign Maintenance',\n",
       " 'Street Light Out of Service',\n",
       " 'Graffiti Removal - Commercial',\n",
       " 'Graffiti Removal',\n",
       " 'Shared Mobility Device',\n",
       " 'Encampment',\n",
       " 'Missed Collection',\n",
       " 'Missed Collection',\n",
       " 'Street Flooded',\n",
       " 'Street Flooded',\n",
       " 'Stormwater',\n",
       " 'Missed Collection',\n",
       " '72 Hour Violation',\n",
       " 'Encampment',\n",
       " 'Other',\n",
       " 'Missed Collection',\n",
       " 'Graffiti Removal',\n",
       " 'Missed Collection',\n",
       " 'Graffiti Removal - Commercial',\n",
       " 'Encampment',\n",
       " 'Encampment',\n",
       " 'ROW Maintenance',\n",
       " 'Missed Collection',\n",
       " 'Other',\n",
       " 'Traffic Sign Maintenance',\n",
       " 'Graffiti Removal',\n",
       " '72 Hour Violation',\n",
       " 'Missed Collection',\n",
       " 'Container Out Late',\n",
       " 'Encampment',\n",
       " 'Shared Mobility Device',\n",
       " '72 Hour Violation',\n",
       " 'Missed Collection',\n",
       " '72 Hour Violation',\n",
       " '72 Hour Violation',\n",
       " 'Missed Collection',\n",
       " 'Quality of Life Issues',\n",
       " 'Missed Collection',\n",
       " '72 Hour Violation',\n",
       " 'Encampment',\n",
       " 'Traffic Signal Out of Service',\n",
       " 'Graffiti Removal',\n",
       " 'ROW Maintenance',\n",
       " 'Waste on Private Property',\n",
       " 'Missed Collection',\n",
       " 'Damaged/Knocked Over Pole',\n",
       " 'Missed Collection',\n",
       " 'Parking',\n",
       " 'Missed Collection',\n",
       " 'Shared Mobility Device',\n",
       " 'Dead Animal',\n",
       " 'Traffic Signal Out of Service',\n",
       " 'Quality of Life Issues',\n",
       " '72 Hour Violation',\n",
       " 'Missed Collection',\n",
       " 'Traffic Engineering',\n",
       " 'Missed Collection',\n",
       " 'Quality of Life Issues',\n",
       " 'Encampment',\n",
       " 'Fallen/Hanging Tree Limb',\n",
       " 'Parking Zone Violation',\n",
       " '72 Hour Violation',\n",
       " '72 Hour Violation']"
      ]
     },
     "execution_count": 201,
     "metadata": {},
     "output_type": "execute_result"
    }
   ],
   "source": [
    "max_col"
   ]
  },
  {
   "cell_type": "code",
   "execution_count": 202,
   "id": "b7196a11-e016-4234-bcea-6f0adb99f430",
   "metadata": {},
   "outputs": [],
   "source": [
    "test_df = pd.DataFrame(test_data).head(100)"
   ]
  },
  {
   "cell_type": "code",
   "execution_count": 203,
   "id": "98225a09-6110-4140-93d9-a6375b70356b",
   "metadata": {},
   "outputs": [],
   "source": [
    "test_df['prediction'] = max_col"
   ]
  },
  {
   "cell_type": "code",
   "execution_count": 204,
   "id": "672dc0b4-de59-415d-850f-2fa494e0bfc9",
   "metadata": {},
   "outputs": [
    {
     "data": {
      "text/html": [
       "<div>\n",
       "<style scoped>\n",
       "    .dataframe tbody tr th:only-of-type {\n",
       "        vertical-align: middle;\n",
       "    }\n",
       "\n",
       "    .dataframe tbody tr th {\n",
       "        vertical-align: top;\n",
       "    }\n",
       "\n",
       "    .dataframe thead th {\n",
       "        text-align: right;\n",
       "    }\n",
       "</style>\n",
       "<table border=\"1\" class=\"dataframe\">\n",
       "  <thead>\n",
       "    <tr style=\"text-align: right;\">\n",
       "      <th></th>\n",
       "      <th>0</th>\n",
       "      <th>prediction</th>\n",
       "    </tr>\n",
       "  </thead>\n",
       "  <tbody>\n",
       "    <tr>\n",
       "      <th>63</th>\n",
       "      <td>b'Unknown vehicle parked on residential street for more than 72 hours.'</td>\n",
       "      <td>72 Hour Violation</td>\n",
       "    </tr>\n",
       "    <tr>\n",
       "      <th>4</th>\n",
       "      <td>b'Traffic signal out at Jackson and Navajo.  The turn signal light did not show green last night for the cars going east on Jackson.  Also would be good if that dedicated turn signal was an arrow instead of a solid'</td>\n",
       "      <td>Traffic Signal Out of Service</td>\n",
       "    </tr>\n",
       "    <tr>\n",
       "      <th>22</th>\n",
       "      <td>b'Abandoned vehicle parked on street'</td>\n",
       "      <td>72 Hour Violation</td>\n",
       "    </tr>\n",
       "    <tr>\n",
       "      <th>41</th>\n",
       "      <td>b'Out of corral since Monday??'</td>\n",
       "      <td>Shared Mobility Device</td>\n",
       "    </tr>\n",
       "    <tr>\n",
       "      <th>93</th>\n",
       "      <td>b'Saw recycling truck drive by our blue bin and did not pick up due to a car parking close to it. Resident then moved trash can away from vehicle.'</td>\n",
       "      <td>Missed Collection</td>\n",
       "    </tr>\n",
       "    <tr>\n",
       "      <th>32</th>\n",
       "      <td>b'Please ticket vehicles on 3 minute curb asked to leave'</td>\n",
       "      <td>Parking</td>\n",
       "    </tr>\n",
       "    <tr>\n",
       "      <th>91</th>\n",
       "      <td>b'Recycling has not been picked up'</td>\n",
       "      <td>Missed Collection</td>\n",
       "    </tr>\n",
       "    <tr>\n",
       "      <th>6</th>\n",
       "      <td>b'PER SDPD, LIGHTS OUT IN ALL DIRECTIONS'</td>\n",
       "      <td>Traffic Signal Out of Service</td>\n",
       "    </tr>\n",
       "    <tr>\n",
       "      <th>19</th>\n",
       "      <td>b'Traffic light sensor is not being triggered for the middle turn lane. Conference way and Carmel Mountain Rd.'</td>\n",
       "      <td>Traffic Signal Timing</td>\n",
       "    </tr>\n",
       "    <tr>\n",
       "      <th>57</th>\n",
       "      <td>b'Homeless sleeping in Balboa Park'</td>\n",
       "      <td>Encampment</td>\n",
       "    </tr>\n",
       "  </tbody>\n",
       "</table>\n",
       "</div>"
      ],
      "text/plain": [
       "                                                                                                                                                                                                                          0  \\\n",
       "63                                                                                                                                                  b'Unknown vehicle parked on residential street for more than 72 hours.'   \n",
       "4   b'Traffic signal out at Jackson and Navajo.  The turn signal light did not show green last night for the cars going east on Jackson.  Also would be good if that dedicated turn signal was an arrow instead of a solid'   \n",
       "22                                                                                                                                                                                    b'Abandoned vehicle parked on street'   \n",
       "41                                                                                                                                                                                          b'Out of corral since Monday??'   \n",
       "93                                                                      b'Saw recycling truck drive by our blue bin and did not pick up due to a car parking close to it. Resident then moved trash can away from vehicle.'   \n",
       "32                                                                                                                                                                b'Please ticket vehicles on 3 minute curb asked to leave'   \n",
       "91                                                                                                                                                                                      b'Recycling has not been picked up'   \n",
       "6                                                                                                                                                                                 b'PER SDPD, LIGHTS OUT IN ALL DIRECTIONS'   \n",
       "19                                                                                                          b'Traffic light sensor is not being triggered for the middle turn lane. Conference way and Carmel Mountain Rd.'   \n",
       "57                                                                                                                                                                                      b'Homeless sleeping in Balboa Park'   \n",
       "\n",
       "                       prediction  \n",
       "63              72 Hour Violation  \n",
       "4   Traffic Signal Out of Service  \n",
       "22              72 Hour Violation  \n",
       "41         Shared Mobility Device  \n",
       "93              Missed Collection  \n",
       "32                        Parking  \n",
       "91              Missed Collection  \n",
       "6   Traffic Signal Out of Service  \n",
       "19          Traffic Signal Timing  \n",
       "57                     Encampment  "
      ]
     },
     "execution_count": 204,
     "metadata": {},
     "output_type": "execute_result"
    }
   ],
   "source": [
    "test_df.sample(10)"
   ]
  },
  {
   "cell_type": "code",
   "execution_count": 205,
   "id": "78dabbfd-bfc1-47ee-82b8-6f8b9758fd90",
   "metadata": {
    "tags": []
   },
   "outputs": [
    {
     "name": "stdout",
     "output_type": "stream",
     "text": [
      "              precision    recall  f1-score   support\n",
      "\n",
      "           0       0.84      0.76      0.80      5315\n",
      "           1       0.41      0.68      0.51       109\n",
      "           2       0.43      0.64      0.51       353\n",
      "           3       0.38      0.83      0.52       174\n",
      "           4       0.47      0.64      0.54       339\n",
      "           5       0.89      0.91      0.90       685\n",
      "           6       0.00      0.00      0.00         7\n",
      "           7       0.47      0.49      0.47       235\n",
      "           8       0.92      0.65      0.76      5255\n",
      "           9       0.29      0.58      0.39       310\n",
      "          10       0.15      0.34      0.21       146\n",
      "          11       0.33      0.46      0.39       347\n",
      "          12       0.85      0.81      0.83       365\n",
      "          13       0.83      0.57      0.68      5084\n",
      "          14       0.22      0.57      0.31       830\n",
      "          15       0.57      0.06      0.10      3112\n",
      "          16       0.09      0.35      0.14       218\n",
      "          17       0.96      0.79      0.86      7566\n",
      "          18       0.48      0.15      0.23      1894\n",
      "          19       0.02      0.27      0.04        33\n",
      "          20       0.03      0.24      0.05       137\n",
      "          21       0.74      0.66      0.70      3066\n",
      "          22       0.13      0.25      0.17       337\n",
      "          23       0.29      0.64      0.40       585\n",
      "          24       0.87      0.66      0.75      1906\n",
      "          25       0.06      0.26      0.10       225\n",
      "          26       0.36      0.51      0.42       583\n",
      "          27       0.34      0.55      0.42       206\n",
      "          28       0.00      0.00      0.00         3\n",
      "          29       0.95      0.91      0.93      3886\n",
      "          30       0.49      0.48      0.48       621\n",
      "          31       0.12      0.29      0.17        87\n",
      "          32       0.22      0.51      0.30        37\n",
      "          33       0.44      0.48      0.46       384\n",
      "          34       0.29      0.60      0.39       227\n",
      "          35       0.31      0.51      0.38        88\n",
      "          36       0.80      0.59      0.68       662\n",
      "          37       0.42      0.57      0.49       354\n",
      "          38       0.39      0.49      0.44       454\n",
      "          39       0.64      0.72      0.68       712\n",
      "          40       0.35      0.66      0.46        79\n",
      "          41       0.62      0.83      0.71       509\n",
      "          42       0.80      0.72      0.76       603\n",
      "          43       0.23      0.48      0.31       208\n",
      "          44       0.49      0.40      0.44       426\n",
      "          45       0.44      0.36      0.40       329\n",
      "          46       0.31      0.43      0.36       219\n",
      "          47       0.38      0.41      0.39       225\n",
      "          48       0.45      0.53      0.48       338\n",
      "          49       0.09      0.52      0.15       412\n",
      "          50       0.29      0.39      0.33       155\n",
      "\n",
      "    accuracy                           0.62     50440\n",
      "   macro avg       0.43      0.51      0.44     50440\n",
      "weighted avg       0.73      0.62      0.64     50440\n",
      "\n"
     ]
    }
   ],
   "source": [
    "print(classification_report(test_labels.numpy().argmax(axis=1), y_pred.argmax(axis=1), zero_division = 1))"
   ]
  },
  {
   "cell_type": "markdown",
   "id": "c95ea9cc-ad31-452a-b721-27ce77061daa",
   "metadata": {
    "tags": []
   },
   "source": [
    "## Text Processing Pipeline"
   ]
  },
  {
   "cell_type": "code",
   "execution_count": 114,
   "id": "1a7df100-2fd4-4f69-a4fe-8cecaaa38496",
   "metadata": {},
   "outputs": [],
   "source": [
    "def process_text(df):\n",
    "    \n",
    "    #only keep relevant columns\n",
    "    df_text_target = df[['detailed_type', 'public_description']]\n",
    "    \n",
    "    #split into train and test\n",
    "    X_train, X_test = train_test_split(df, test_size=0.2, random_state=42)\n",
    "    \n",
    "    #Instantiate\n",
    "    dataset_train = tf.data.Dataset.from_tensor_slices((X_train['public_description'].values, X_train['detailed_type'].values))\n",
    "    dataset_test = tf.data.Dataset.from_tensor_slices((X_test['public_description'].values, X_test['detailed_type'].values))\n",
    "    \n",
    "    train_data_f = dataset_train.map(fetch)\n",
    "    test_data_f=dataset_test.map(fetch)\n",
    "    \n",
    "    next(iter(train_data_f))\n",
    "    \n",
    "    train_data, train_labels = next(iter(train_data_f.batch(2)))\n",
    "    \n",
    "    for_results = len(list(dataset_test))\n",
    "    test_data, test_labels = next(iter(dataset_test.map(fetch).batch(len(list(dataset_test)))))\n",
    "        \n",
    "    return train_data_f, test_data_f, dataset_train, dataset_test, for_results, train_data, train_labels, test_data, test_labels "
   ]
  },
  {
   "cell_type": "markdown",
   "id": "83c3b531-3eee-46c3-af7d-5f7420f5ce46",
   "metadata": {},
   "source": [
    "# 2020 Data"
   ]
  },
  {
   "cell_type": "code",
   "execution_count": 115,
   "id": "4d2d6778-2b0a-4bb7-b704-4607e3b5e0e4",
   "metadata": {},
   "outputs": [],
   "source": [
    "with open('../data/processed_20_data.pkl', 'rb') as file:\n",
    "    df_20 = pickle.load(file)"
   ]
  },
  {
   "cell_type": "code",
   "execution_count": 116,
   "id": "137356cd-8af8-45bd-9d52-132aa60e3c99",
   "metadata": {},
   "outputs": [],
   "source": [
    "train_data_f, test_data_f, dataset_train, dataset_test, for_results, train_data, train_labels, test_data, test_labels  = process_text(df_20)"
   ]
  },
  {
   "cell_type": "markdown",
   "id": "3fbfa7af-c9bb-4e22-965e-b8bfb1109ed2",
   "metadata": {},
   "source": [
    "## Model Loading"
   ]
  },
  {
   "cell_type": "code",
   "execution_count": 117,
   "id": "522e491b-13a3-489f-98b1-240448ca98e2",
   "metadata": {},
   "outputs": [],
   "source": [
    "# model = keras.models.load_model('../data/tf_model.pkl')"
   ]
  },
  {
   "cell_type": "markdown",
   "id": "7c57af78-82b5-4d62-8418-d3c521f4e6f0",
   "metadata": {
    "tags": []
   },
   "source": [
    "## Model Training Pipeline"
   ]
  },
  {
   "cell_type": "code",
   "execution_count": 118,
   "id": "b58e16db-4110-4f2f-afae-03363a2d131a",
   "metadata": {
    "tags": []
   },
   "outputs": [
    {
     "name": "stdout",
     "output_type": "stream",
     "text": [
      "Epoch 1/10\n"
     ]
    },
    {
     "ename": "InvalidArgumentError",
     "evalue": "Graph execution error:\n\nDetected at node 'tokenize/StringSplit/StringSplit' defined at (most recent call last):\nNode: 'tokenize/StringSplit/StringSplit'\ninput must be a vector, got shape: []\n\t [[{{node tokenize/StringSplit/StringSplit}}]] [Op:__inference_train_function_937988]",
     "output_type": "error",
     "traceback": [
      "\u001b[1;31m---------------------------------------------------------------------------\u001b[0m",
      "\u001b[1;31mInvalidArgumentError\u001b[0m                      Traceback (most recent call last)",
      "Input \u001b[1;32mIn [118]\u001b[0m, in \u001b[0;36m<cell line: 1>\u001b[1;34m()\u001b[0m\n\u001b[1;32m----> 1\u001b[0m history \u001b[38;5;241m=\u001b[39m \u001b[43mmodel\u001b[49m\u001b[38;5;241;43m.\u001b[39;49m\u001b[43mfit\u001b[49m\u001b[43m(\u001b[49m\u001b[43mtrain_data_f\u001b[49m\u001b[43m,\u001b[49m\n\u001b[0;32m      2\u001b[0m \u001b[43m                   \u001b[49m\u001b[43mepochs\u001b[49m\u001b[38;5;241;43m=\u001b[39;49m\u001b[38;5;241;43m10\u001b[39;49m\u001b[43m,\u001b[49m\n\u001b[0;32m      3\u001b[0m \u001b[43m                   \u001b[49m\u001b[43mvalidation_data\u001b[49m\u001b[38;5;241;43m=\u001b[39;49m\u001b[43mtest_data_f\u001b[49m\u001b[43m,\u001b[49m\n\u001b[0;32m      4\u001b[0m \u001b[43m                   \u001b[49m\u001b[43mverbose\u001b[49m\u001b[38;5;241;43m=\u001b[39;49m\u001b[38;5;241;43m1\u001b[39;49m\u001b[43m,\u001b[49m\n\u001b[0;32m      5\u001b[0m \u001b[43m                   \u001b[49m\u001b[43mclass_weight\u001b[49m\u001b[38;5;241;43m=\u001b[39;49m\u001b[43mweights\u001b[49m\u001b[43m)\u001b[49m\n",
      "File \u001b[1;32m~\\anaconda3\\lib\\site-packages\\keras\\utils\\traceback_utils.py:70\u001b[0m, in \u001b[0;36mfilter_traceback.<locals>.error_handler\u001b[1;34m(*args, **kwargs)\u001b[0m\n\u001b[0;32m     67\u001b[0m     filtered_tb \u001b[38;5;241m=\u001b[39m _process_traceback_frames(e\u001b[38;5;241m.\u001b[39m__traceback__)\n\u001b[0;32m     68\u001b[0m     \u001b[38;5;66;03m# To get the full stack trace, call:\u001b[39;00m\n\u001b[0;32m     69\u001b[0m     \u001b[38;5;66;03m# `tf.debugging.disable_traceback_filtering()`\u001b[39;00m\n\u001b[1;32m---> 70\u001b[0m     \u001b[38;5;28;01mraise\u001b[39;00m e\u001b[38;5;241m.\u001b[39mwith_traceback(filtered_tb) \u001b[38;5;28;01mfrom\u001b[39;00m \u001b[38;5;28mNone\u001b[39m\n\u001b[0;32m     71\u001b[0m \u001b[38;5;28;01mfinally\u001b[39;00m:\n\u001b[0;32m     72\u001b[0m     \u001b[38;5;28;01mdel\u001b[39;00m filtered_tb\n",
      "File \u001b[1;32m~\\anaconda3\\lib\\site-packages\\tensorflow\\python\\eager\\execute.py:52\u001b[0m, in \u001b[0;36mquick_execute\u001b[1;34m(op_name, num_outputs, inputs, attrs, ctx, name)\u001b[0m\n\u001b[0;32m     50\u001b[0m \u001b[38;5;28;01mtry\u001b[39;00m:\n\u001b[0;32m     51\u001b[0m   ctx\u001b[38;5;241m.\u001b[39mensure_initialized()\n\u001b[1;32m---> 52\u001b[0m   tensors \u001b[38;5;241m=\u001b[39m pywrap_tfe\u001b[38;5;241m.\u001b[39mTFE_Py_Execute(ctx\u001b[38;5;241m.\u001b[39m_handle, device_name, op_name,\n\u001b[0;32m     53\u001b[0m                                       inputs, attrs, num_outputs)\n\u001b[0;32m     54\u001b[0m \u001b[38;5;28;01mexcept\u001b[39;00m core\u001b[38;5;241m.\u001b[39m_NotOkStatusException \u001b[38;5;28;01mas\u001b[39;00m e:\n\u001b[0;32m     55\u001b[0m   \u001b[38;5;28;01mif\u001b[39;00m name \u001b[38;5;129;01mis\u001b[39;00m \u001b[38;5;129;01mnot\u001b[39;00m \u001b[38;5;28;01mNone\u001b[39;00m:\n",
      "\u001b[1;31mInvalidArgumentError\u001b[0m: Graph execution error:\n\nDetected at node 'tokenize/StringSplit/StringSplit' defined at (most recent call last):\nNode: 'tokenize/StringSplit/StringSplit'\ninput must be a vector, got shape: []\n\t [[{{node tokenize/StringSplit/StringSplit}}]] [Op:__inference_train_function_937988]"
     ]
    }
   ],
   "source": [
    "history = model.fit(train_data_f,\n",
    "                   epochs=3,\n",
    "                   validation_data=test_data_f,\n",
    "                   verbose=1,\n",
    "                   class_weight=weights)"
   ]
  },
  {
   "cell_type": "code",
   "execution_count": null,
   "id": "c2bf2a61-d19b-4e81-a8c3-2666528eb60a",
   "metadata": {},
   "outputs": [],
   "source": [
    "results = model.evaluate(dataset_test.map(fetch).batch(len(list(dataset_test))), verbose=2)"
   ]
  },
  {
   "cell_type": "code",
   "execution_count": null,
   "id": "6a3f05b5-941a-4723-bc63-dec9bd48b151",
   "metadata": {},
   "outputs": [],
   "source": [
    "print(results)"
   ]
  },
  {
   "cell_type": "code",
   "execution_count": null,
   "id": "9a46118a-41e1-4694-a077-4d5657684594",
   "metadata": {},
   "outputs": [],
   "source": [
    "next(iter(dataset_test.map(fetch).batch(1)))"
   ]
  },
  {
   "cell_type": "code",
   "execution_count": null,
   "id": "1728e395-793a-4771-a98d-264d26baaaf0",
   "metadata": {},
   "outputs": [],
   "source": [
    "type(dataset_test)"
   ]
  },
  {
   "cell_type": "code",
   "execution_count": null,
   "id": "6c00240f-8c6f-446d-a364-d8ec6d33caf5",
   "metadata": {},
   "outputs": [],
   "source": [
    "y_pred=model.predict(test_data)"
   ]
  },
  {
   "cell_type": "code",
   "execution_count": null,
   "id": "de1299a6-e708-4327-b5d3-5697a11724ec",
   "metadata": {},
   "outputs": [],
   "source": [
    "type(test_data)"
   ]
  },
  {
   "cell_type": "code",
   "execution_count": null,
   "id": "ec903680-255f-4083-b8f3-9391ee5ef272",
   "metadata": {},
   "outputs": [],
   "source": [
    "y_pred"
   ]
  },
  {
   "cell_type": "code",
   "execution_count": null,
   "id": "b3bc00b2-5156-4b40-9718-3a49526ec12f",
   "metadata": {
    "tags": []
   },
   "outputs": [],
   "source": [
    "results_df = pd.DataFrame(y_pred)\n",
    "results_df.columns = ['72 Hour Violation',\n",
    " 'COVID-19',\n",
    " 'Container Left Out',\n",
    " 'Container Out Late',\n",
    " 'Damaged/Knocked Over Pole',\n",
    " 'Dead Animal',\n",
    " 'Development Services - Code Enforcement',\n",
    " 'Drain Inlet',\n",
    " 'Encampment',\n",
    " 'Encroachment',\n",
    " 'Environmental Services Code Compliance',\n",
    " 'Fallen/Hanging Tree Limb',\n",
    " 'Flashing Traffic Signal Lights',\n",
    " 'Graffiti Removal',\n",
    " 'Graffiti Removal - Commercial',\n",
    " 'Illegal Dumping',\n",
    " 'Litter',\n",
    " 'Missed Collection',\n",
    " 'Other',\n",
    " 'Oversized Vehicle',\n",
    " 'Parking',\n",
    " 'Parking Zone Violation',\n",
    " 'Pavement Maintenance',\n",
    " 'Potential Missed Collection',\n",
    " 'Pothole',\n",
    " 'Quality of Life Issues',\n",
    " 'ROW Maintenance',\n",
    " 'Resurfacing Evaluation',\n",
    " 'Right-of-Way Code Enforcement',\n",
    " 'Shared Mobility Device',\n",
    " 'Sidewalk Repair Issue',\n",
    " 'Stormwater',\n",
    " 'Stormwater Code Enforcement',\n",
    " 'Stormwater Pollution Prevention',\n",
    " 'Street Flooded',\n",
    " 'Street Light Maintenance',\n",
    " 'Street Light Out of Service',\n",
    " 'Street Sweeping',\n",
    " 'Traffic Engineering',\n",
    " 'Traffic Sign Maintenance',\n",
    " 'Traffic Signal Issue',\n",
    " 'Traffic Signal Out of Service',\n",
    " 'Traffic Signal Timing',\n",
    " 'Trash/Recycling Collection',\n",
    " 'Tree Maintenance',\n",
    " 'Tree Removal',\n",
    " 'Tree Trimming for Pedestrian/Vehicle Clearance',\n",
    " 'Trimming Request',\n",
    " 'Vegetation Encroachment',\n",
    " 'Waste on Private Property',\n",
    " 'Weed Cleanup']\n",
    "results_df"
   ]
  },
  {
   "cell_type": "code",
   "execution_count": null,
   "id": "90506e6c-e2c3-4445-994f-8b7d4984a198",
   "metadata": {
    "tags": []
   },
   "outputs": [],
   "source": [
    "#return column where value is that above\n",
    "j = 0\n",
    "max_col = []\n",
    "\n",
    "for j in range(100):\n",
    "\n",
    "    i=0\n",
    "\n",
    "\n",
    "    while i < results_df.shape[1]:\n",
    "        if results_df.iloc[j,i] == results_df.iloc[j,:].max():\n",
    "            max_col.append(list(results_df.columns)[i])\n",
    "        i += 1"
   ]
  },
  {
   "cell_type": "code",
   "execution_count": null,
   "id": "a074b1e1-929f-4b6c-8579-9729849ef443",
   "metadata": {
    "tags": []
   },
   "outputs": [],
   "source": [
    "max_col"
   ]
  },
  {
   "cell_type": "code",
   "execution_count": null,
   "id": "dfe471be-fe40-459c-a2c3-7198a9f33038",
   "metadata": {},
   "outputs": [],
   "source": [
    "test_df = pd.DataFrame(test_data).head(100)"
   ]
  },
  {
   "cell_type": "code",
   "execution_count": null,
   "id": "9a16590b-747f-4d55-b22d-6354d4d23511",
   "metadata": {},
   "outputs": [],
   "source": [
    "test_df['prediction'] = max_col"
   ]
  },
  {
   "cell_type": "code",
   "execution_count": null,
   "id": "5b6f2813-2f66-49c3-a667-974a414134d2",
   "metadata": {},
   "outputs": [],
   "source": [
    "test_df.sample(10)"
   ]
  },
  {
   "cell_type": "code",
   "execution_count": null,
   "id": "41a8837a-bac4-43bd-8c89-0556c9d6ed46",
   "metadata": {
    "tags": []
   },
   "outputs": [],
   "source": [
    "print(classification_report(test_labels.numpy().argmax(axis=1), y_pred.argmax(axis=1), zero_division = 1))"
   ]
  },
  {
   "cell_type": "markdown",
   "id": "7c9ff73e-5ffc-4395-9692-f67eeb77fd3d",
   "metadata": {},
   "source": [
    "# 2022 Data"
   ]
  },
  {
   "cell_type": "markdown",
   "id": "58fa20a4-3778-45dd-bd1a-fec30981207f",
   "metadata": {},
   "source": [
    "## Text Processing Pipeline"
   ]
  },
  {
   "cell_type": "code",
   "execution_count": null,
   "id": "f44fb932-cf14-4d2e-b56f-65a79d91734b",
   "metadata": {},
   "outputs": [],
   "source": [
    "with open('../data/processed_22_data.pkl', 'rb') as file:\n",
    "    df_22 = pickle.load(file)"
   ]
  },
  {
   "cell_type": "code",
   "execution_count": null,
   "id": "46c31982-2f8d-4904-8afe-34d137714263",
   "metadata": {},
   "outputs": [],
   "source": [
    "train_data_f, test_data_f, dataset_train, dataset_test, for_results, train_data, train_labels, test_data, test_labels = process_text(df_22)"
   ]
  },
  {
   "cell_type": "markdown",
   "id": "959d98a5-ed11-4ac1-b258-8619f37fa1d2",
   "metadata": {},
   "source": [
    "## Model Loading"
   ]
  },
  {
   "cell_type": "code",
   "execution_count": null,
   "id": "c558a9fe-425f-4f57-8b90-0d076dda0f3f",
   "metadata": {},
   "outputs": [],
   "source": [
    "# model = keras.models.load_model('../data/tf_model.pkl')"
   ]
  },
  {
   "cell_type": "markdown",
   "id": "6cbc74c1-a087-435e-8635-1f784705b53b",
   "metadata": {
    "tags": []
   },
   "source": [
    "## Model Training Pipeline"
   ]
  },
  {
   "cell_type": "code",
   "execution_count": null,
   "id": "a9d5302e-dac0-49ca-aa4f-0ab7b4c52798",
   "metadata": {
    "tags": []
   },
   "outputs": [],
   "source": [
    "history = model.fit(train_data_f,\n",
    "                   epochs=10,\n",
    "                   validation_data=test_data_f,\n",
    "                   verbose=1,\n",
    "                   class_weight=weights)"
   ]
  },
  {
   "cell_type": "code",
   "execution_count": null,
   "id": "1ed6c54c-a73d-42ab-91f3-65484a0a352f",
   "metadata": {},
   "outputs": [],
   "source": [
    "results = model.evaluate(dataset_test.map(fetch).batch(for_results), verbose=2)"
   ]
  },
  {
   "cell_type": "code",
   "execution_count": null,
   "id": "20eaa35d-a4bf-4151-89b9-5a9a91800499",
   "metadata": {},
   "outputs": [],
   "source": [
    "print(results)"
   ]
  },
  {
   "cell_type": "code",
   "execution_count": null,
   "id": "9e1ce626-91b5-467f-bdfe-541d6b31c8fe",
   "metadata": {},
   "outputs": [],
   "source": [
    "next(iter(dataset_test.map(fetch).batch(1)))"
   ]
  },
  {
   "cell_type": "code",
   "execution_count": null,
   "id": "6f143337-a23c-42c8-b21f-924cf70b2ec1",
   "metadata": {},
   "outputs": [],
   "source": [
    "type(dataset_test)"
   ]
  },
  {
   "cell_type": "code",
   "execution_count": null,
   "id": "1879fb26-868e-43cb-be20-3c26c0abf1d0",
   "metadata": {},
   "outputs": [],
   "source": [
    "y_pred=model.predict(test_data)"
   ]
  },
  {
   "cell_type": "code",
   "execution_count": null,
   "id": "b3ca79d9-aaf4-49f5-a7e9-963f4c635b15",
   "metadata": {},
   "outputs": [],
   "source": [
    "type(test_data)"
   ]
  },
  {
   "cell_type": "code",
   "execution_count": null,
   "id": "aad2f41b-183b-4e42-94c4-baa1e2b732be",
   "metadata": {},
   "outputs": [],
   "source": [
    "y_pred"
   ]
  },
  {
   "cell_type": "code",
   "execution_count": null,
   "id": "05d007f0-4962-4094-aa31-c6706f28e0a7",
   "metadata": {
    "tags": []
   },
   "outputs": [],
   "source": [
    "results_df = pd.DataFrame(y_pred)\n",
    "results_df.columns = ['72 Hour Violation',\n",
    " 'COVID-19',\n",
    " 'Container Left Out',\n",
    " 'Container Out Late',\n",
    " 'Damaged/Knocked Over Pole',\n",
    " 'Dead Animal',\n",
    " 'Development Services - Code Enforcement',\n",
    " 'Drain Inlet',\n",
    " 'Encampment',\n",
    " 'Encroachment',\n",
    " 'Environmental Services Code Compliance',\n",
    " 'Fallen/Hanging Tree Limb',\n",
    " 'Flashing Traffic Signal Lights',\n",
    " 'Graffiti Removal',\n",
    " 'Graffiti Removal - Commercial',\n",
    " 'Illegal Dumping',\n",
    " 'Litter',\n",
    " 'Missed Collection',\n",
    " 'Other',\n",
    " 'Oversized Vehicle',\n",
    " 'Parking',\n",
    " 'Parking Zone Violation',\n",
    " 'Pavement Maintenance',\n",
    " 'Potential Missed Collection',\n",
    " 'Pothole',\n",
    " 'Quality of Life Issues',\n",
    " 'ROW Maintenance',\n",
    " 'Resurfacing Evaluation',\n",
    " 'Right-of-Way Code Enforcement',\n",
    " 'Shared Mobility Device',\n",
    " 'Sidewalk Repair Issue',\n",
    " 'Stormwater',\n",
    " 'Stormwater Code Enforcement',\n",
    " 'Stormwater Pollution Prevention',\n",
    " 'Street Flooded',\n",
    " 'Street Light Maintenance',\n",
    " 'Street Light Out of Service',\n",
    " 'Street Sweeping',\n",
    " 'Traffic Engineering',\n",
    " 'Traffic Sign Maintenance',\n",
    " 'Traffic Signal Issue',\n",
    " 'Traffic Signal Out of Service',\n",
    " 'Traffic Signal Timing',\n",
    " 'Trash/Recycling Collection',\n",
    " 'Tree Maintenance',\n",
    " 'Tree Removal',\n",
    " 'Tree Trimming for Pedestrian/Vehicle Clearance',\n",
    " 'Trimming Request',\n",
    " 'Vegetation Encroachment',\n",
    " 'Waste on Private Property',\n",
    " 'Weed Cleanup']\n",
    "results_df"
   ]
  },
  {
   "cell_type": "code",
   "execution_count": null,
   "id": "6f792acb-68b9-4cc4-80b7-a5645121254c",
   "metadata": {
    "tags": []
   },
   "outputs": [],
   "source": [
    "#return column where value is that above\n",
    "j = 0\n",
    "max_col = []\n",
    "\n",
    "for j in range(100):\n",
    "\n",
    "    i=0\n",
    "\n",
    "\n",
    "    while i < results_df.shape[1]:\n",
    "        if results_df.iloc[j,i] == results_df.iloc[j,:].max():\n",
    "            max_col.append(list(results_df.columns)[i])\n",
    "        i += 1"
   ]
  },
  {
   "cell_type": "code",
   "execution_count": null,
   "id": "025ce90d-92a7-4d1e-8433-1c06236af38c",
   "metadata": {
    "tags": []
   },
   "outputs": [],
   "source": [
    "max_col"
   ]
  },
  {
   "cell_type": "code",
   "execution_count": null,
   "id": "d772122e-85dc-4743-9bdd-33941687a8b2",
   "metadata": {},
   "outputs": [],
   "source": [
    "test_df = pd.DataFrame(test_data).head(100)"
   ]
  },
  {
   "cell_type": "code",
   "execution_count": null,
   "id": "36154d78-39ba-49b9-9236-5a87c5e680fc",
   "metadata": {},
   "outputs": [],
   "source": [
    "test_df['prediction'] = max_col"
   ]
  },
  {
   "cell_type": "code",
   "execution_count": null,
   "id": "a4982214-0aa9-4595-bb88-3e5c7b76f771",
   "metadata": {},
   "outputs": [],
   "source": [
    "test_df.sample(10)"
   ]
  },
  {
   "cell_type": "code",
   "execution_count": null,
   "id": "3e39f15e-9baf-4a4b-9bd1-ba1dd659a7b5",
   "metadata": {
    "tags": []
   },
   "outputs": [],
   "source": [
    "print(classification_report(test_labels.numpy().argmax(axis=1), y_pred.argmax(axis=1), zero_division = 1))"
   ]
  },
  {
   "cell_type": "markdown",
   "id": "a04d44da-8592-449a-be81-bab36514e10c",
   "metadata": {},
   "source": [
    "# More 2021 Data"
   ]
  },
  {
   "cell_type": "markdown",
   "id": "65887fde-475f-451d-9a91-29ff0ec70fad",
   "metadata": {
    "tags": []
   },
   "source": [
    "## Model Training Pipeline"
   ]
  },
  {
   "cell_type": "code",
   "execution_count": null,
   "id": "23cc3584-8a1c-43da-a03d-aaf4821f441d",
   "metadata": {
    "tags": []
   },
   "outputs": [],
   "source": [
    "history = model.fit(train_data_f_x,\n",
    "                   epochs=1,\n",
    "                   validation_data=test_data_f_x,\n",
    "                   verbose=1,\n",
    "                   class_weight=weights)"
   ]
  },
  {
   "cell_type": "code",
   "execution_count": null,
   "id": "eaacd531-e546-4862-a3ed-4ecdfc08bfc3",
   "metadata": {},
   "outputs": [],
   "source": [
    "results = model.evaluate(dataset_test_x.map(fetch).batch(for_results_x), verbose=2)"
   ]
  },
  {
   "cell_type": "code",
   "execution_count": null,
   "id": "b8985c74-4d36-4d00-825f-a8489da107ee",
   "metadata": {},
   "outputs": [],
   "source": [
    "print(results)"
   ]
  },
  {
   "cell_type": "code",
   "execution_count": null,
   "id": "506ffcf8-3b69-42bf-89b9-7f80a14c9385",
   "metadata": {},
   "outputs": [],
   "source": [
    "next(iter(dataset_test_x.map(fetch).batch(1)))"
   ]
  },
  {
   "cell_type": "code",
   "execution_count": null,
   "id": "47e90393-a5e8-4927-bb88-0a12df2202f0",
   "metadata": {},
   "outputs": [],
   "source": [
    "type(dataset_test_x)"
   ]
  },
  {
   "cell_type": "code",
   "execution_count": null,
   "id": "696e59a2-66a7-4559-b4e6-5046ff42e069",
   "metadata": {},
   "outputs": [],
   "source": [
    "y_pred=model.predict(test_data_x)"
   ]
  },
  {
   "cell_type": "code",
   "execution_count": null,
   "id": "9ce8884c-e5e8-421f-bfda-de8b299b1cba",
   "metadata": {},
   "outputs": [],
   "source": [
    "type(test_data_x)"
   ]
  },
  {
   "cell_type": "code",
   "execution_count": null,
   "id": "a511c0a7-8455-4a12-a40c-f52f97fbcfc0",
   "metadata": {},
   "outputs": [],
   "source": [
    "y_pred"
   ]
  },
  {
   "cell_type": "code",
   "execution_count": null,
   "id": "65441a59-3e96-4dee-ba55-33345f8f96c5",
   "metadata": {
    "tags": []
   },
   "outputs": [],
   "source": [
    "results_df = pd.DataFrame(y_pred)\n",
    "results_df.columns = ['72 Hour Violation',\n",
    " 'COVID-19',\n",
    " 'Container Left Out',\n",
    " 'Container Out Late',\n",
    " 'Damaged/Knocked Over Pole',\n",
    " 'Dead Animal',\n",
    " 'Development Services - Code Enforcement',\n",
    " 'Drain Inlet',\n",
    " 'Encampment',\n",
    " 'Encroachment',\n",
    " 'Environmental Services Code Compliance',\n",
    " 'Fallen/Hanging Tree Limb',\n",
    " 'Flashing Traffic Signal Lights',\n",
    " 'Graffiti Removal',\n",
    " 'Graffiti Removal - Commercial',\n",
    " 'Illegal Dumping',\n",
    " 'Litter',\n",
    " 'Missed Collection',\n",
    " 'Other',\n",
    " 'Oversized Vehicle',\n",
    " 'Parking',\n",
    " 'Parking Zone Violation',\n",
    " 'Pavement Maintenance',\n",
    " 'Potential Missed Collection',\n",
    " 'Pothole',\n",
    " 'Quality of Life Issues',\n",
    " 'ROW Maintenance',\n",
    " 'Resurfacing Evaluation',\n",
    " 'Right-of-Way Code Enforcement',\n",
    " 'Shared Mobility Device',\n",
    " 'Sidewalk Repair Issue',\n",
    " 'Stormwater',\n",
    " 'Stormwater Code Enforcement',\n",
    " 'Stormwater Pollution Prevention',\n",
    " 'Street Flooded',\n",
    " 'Street Light Maintenance',\n",
    " 'Street Light Out of Service',\n",
    " 'Street Sweeping',\n",
    " 'Traffic Engineering',\n",
    " 'Traffic Sign Maintenance',\n",
    " 'Traffic Signal Issue',\n",
    " 'Traffic Signal Out of Service',\n",
    " 'Traffic Signal Timing',\n",
    " 'Trash/Recycling Collection',\n",
    " 'Tree Maintenance',\n",
    " 'Tree Removal',\n",
    " 'Tree Trimming for Pedestrian/Vehicle Clearance',\n",
    " 'Trimming Request',\n",
    " 'Vegetation Encroachment',\n",
    " 'Waste on Private Property',\n",
    " 'Weed Cleanup']\n",
    "results_df"
   ]
  },
  {
   "cell_type": "code",
   "execution_count": null,
   "id": "3a47f61f-9b31-4c35-9a1d-582b8638c98b",
   "metadata": {
    "tags": []
   },
   "outputs": [],
   "source": [
    "#return column where value is that above\n",
    "j = 0\n",
    "max_col = []\n",
    "\n",
    "for j in range(100):\n",
    "\n",
    "    i=0\n",
    "\n",
    "\n",
    "    while i < results_df.shape[1]:\n",
    "        if results_df.iloc[j,i] == results_df.iloc[j,:].max():\n",
    "            max_col.append(list(results_df.columns)[i])\n",
    "        i += 1"
   ]
  },
  {
   "cell_type": "code",
   "execution_count": null,
   "id": "36f6b67d-6456-44f6-a6e1-659fc505e92a",
   "metadata": {
    "tags": []
   },
   "outputs": [],
   "source": [
    "max_col"
   ]
  },
  {
   "cell_type": "code",
   "execution_count": null,
   "id": "f87d8c86-5809-4b84-8fca-9a75f96babec",
   "metadata": {},
   "outputs": [],
   "source": [
    "test_df = pd.DataFrame(test_data).head(100)"
   ]
  },
  {
   "cell_type": "code",
   "execution_count": null,
   "id": "b2448736-9e1e-423b-9a86-78423240089d",
   "metadata": {},
   "outputs": [],
   "source": [
    "test_df['prediction'] = max_col"
   ]
  },
  {
   "cell_type": "code",
   "execution_count": null,
   "id": "eeb796ce-1c4f-4926-8bb2-f639a619653d",
   "metadata": {},
   "outputs": [],
   "source": [
    "test_df.sample(10)"
   ]
  },
  {
   "cell_type": "code",
   "execution_count": null,
   "id": "07b24d5e-6c31-4c7b-86df-1ad77ecee6b5",
   "metadata": {
    "tags": []
   },
   "outputs": [],
   "source": [
    "print(classification_report(test_labels.numpy().argmax(axis=1), y_pred.argmax(axis=1), zero_division = 1))"
   ]
  },
  {
   "cell_type": "code",
   "execution_count": null,
   "id": "ee774df1-efca-42c6-aa56-6f9fd4cf1908",
   "metadata": {},
   "outputs": [],
   "source": []
  }
 ],
 "metadata": {
  "kernelspec": {
   "display_name": "Python 3 (ipykernel)",
   "language": "python",
   "name": "python3"
  },
  "language_info": {
   "codemirror_mode": {
    "name": "ipython",
    "version": 3
   },
   "file_extension": ".py",
   "mimetype": "text/x-python",
   "name": "python",
   "nbconvert_exporter": "python",
   "pygments_lexer": "ipython3",
   "version": "3.9.12"
  }
 },
 "nbformat": 4,
 "nbformat_minor": 5
}
