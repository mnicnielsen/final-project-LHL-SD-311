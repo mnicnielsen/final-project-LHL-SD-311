{
 "cells": [
  {
   "cell_type": "code",
   "execution_count": 1,
   "id": "f8acdf8b-a8ac-4243-ad1e-4b85da4c6066",
   "metadata": {},
   "outputs": [],
   "source": [
    "import pandas as pd\n",
    "import numpy as np\n",
    "from matplotlib import pyplot as plt\n",
    "import seaborn as sns\n",
    "from datetime import datetime\n",
    "from sklearn.model_selection import train_test_split\n",
    "import pickle"
   ]
  },
  {
   "cell_type": "code",
   "execution_count": 56,
   "id": "87d3fc51-f5e1-41a7-9c19-dd0396011b63",
   "metadata": {},
   "outputs": [],
   "source": [
    "from __future__ import absolute_import, division, print_function, unicode_literals\n",
    "\n",
    "import tensorflow as tf\n",
    "\n",
    "import os\n",
    "import datetime\n",
    "import tensorflow_hub as hub\n",
    "from tensorflow import keras"
   ]
  },
  {
   "cell_type": "code",
   "execution_count": 62,
   "id": "367d33b2-b14c-4f02-a7eb-a27decdcaa28",
   "metadata": {},
   "outputs": [],
   "source": [
    "input_data = 'Encampment around and under the El Cajon BLVD and 805 freeway overpass. Trash being left in cul de sac on Bancroft Street and several tents present by the 805 Northbound Freeway entrance.'\n",
    "classification = 'class'"
   ]
  },
  {
   "cell_type": "code",
   "execution_count": 63,
   "id": "003756d3-500b-4775-8b3a-a513e461669b",
   "metadata": {},
   "outputs": [
    {
     "name": "stdout",
     "output_type": "stream",
     "text": [
      "shape (1,)\n",
      "type <class 'numpy.ndarray'>\n"
     ]
    }
   ],
   "source": [
    "string_array = np.array([input_data])\n",
    "print('shape', string_array.shape)\n",
    "print('type', type(string_array))"
   ]
  },
  {
   "cell_type": "code",
   "execution_count": 64,
   "id": "265aa87e-61db-49f6-880e-8a8cbe772f3b",
   "metadata": {},
   "outputs": [
    {
     "name": "stdout",
     "output_type": "stream",
     "text": [
      "shape (1,)\n",
      "type <class 'numpy.ndarray'>\n"
     ]
    }
   ],
   "source": [
    "test_array = np.array([classification])\n",
    "print('shape', test_array.shape)\n",
    "print('type', type(test_array))"
   ]
  },
  {
   "cell_type": "code",
   "execution_count": 65,
   "id": "83b59694-6737-4baa-8394-41154bcbf0a1",
   "metadata": {},
   "outputs": [],
   "source": [
    "input_dataset = tf.data.Dataset.from_tensor_slices((string_array, test_array))"
   ]
  },
  {
   "cell_type": "code",
   "execution_count": 66,
   "id": "16f7fe6f-676c-45e4-a239-df3e684e6342",
   "metadata": {},
   "outputs": [
    {
     "name": "stdout",
     "output_type": "stream",
     "text": [
      "description: b'Encampment around and under the El Cajon BLVD and 805 freeway overpass. Trash being left in cul de sac on Bancroft Street and several tents present by the 805 Northbound Freeway entrance.', Target: b'class'\n"
     ]
    }
   ],
   "source": [
    "for text, target in input_dataset.take(1):\n",
    "    print('description: {}, Target: {}'.format(text, target))"
   ]
  },
  {
   "cell_type": "code",
   "execution_count": 67,
   "id": "2e0e151c-e939-47ee-bec7-860947c6e922",
   "metadata": {},
   "outputs": [],
   "source": [
    "with open('../data/detailed_types.pkl', 'rb') as file:\n",
    "    detailed_types = pickle.load(file)\n",
    "    \n",
    "with open('../data/vals.pkl', 'rb') as file:\n",
    "    vals = pickle.load(file)"
   ]
  },
  {
   "cell_type": "code",
   "execution_count": 68,
   "id": "b57b0536-f2d2-43b8-b259-037f2c03e261",
   "metadata": {},
   "outputs": [],
   "source": [
    "def fetch(text, labels):\n",
    "        return text, tf.one_hot(target(labels),len(detailed_types))"
   ]
  },
  {
   "cell_type": "code",
   "execution_count": 69,
   "id": "53b98183-4fae-4086-8ace-877253486d1b",
   "metadata": {},
   "outputs": [],
   "source": [
    "table = tf.lookup.StaticHashTable(\n",
    "    initializer=tf.lookup.KeyValueTensorInitializer(\n",
    "        keys=tf.constant(detailed_types),\n",
    "        values=tf.constant(vals),\n",
    "    ),\n",
    "        default_value=tf.constant(-1),\n",
    "        name=\"target_encoding\"\n",
    ")"
   ]
  },
  {
   "cell_type": "code",
   "execution_count": 70,
   "id": "43f3ba61-6c50-4957-9558-24e89d6d62ea",
   "metadata": {},
   "outputs": [],
   "source": [
    "@tf.function\n",
    "def target(x):\n",
    "    return table.lookup(x)"
   ]
  },
  {
   "cell_type": "code",
   "execution_count": 71,
   "id": "a9ce08b9-2572-4e71-bfa0-4eafd392f30a",
   "metadata": {},
   "outputs": [],
   "source": [
    "test_data, test_labels = next(iter(input_dataset.map(fetch).batch(1)))"
   ]
  },
  {
   "cell_type": "code",
   "execution_count": 72,
   "id": "f313b972-3b3f-4efc-94de-64e6f9827969",
   "metadata": {},
   "outputs": [
    {
     "data": {
      "text/plain": [
       "<tf.Tensor: shape=(1,), dtype=string, numpy=\n",
       "array([b'Encampment around and under the El Cajon BLVD and 805 freeway overpass. Trash being left in cul de sac on Bancroft Street and several tents present by the 805 Northbound Freeway entrance.'],\n",
       "      dtype=object)>"
      ]
     },
     "execution_count": 72,
     "metadata": {},
     "output_type": "execute_result"
    }
   ],
   "source": [
    "test_data"
   ]
  },
  {
   "cell_type": "code",
   "execution_count": 73,
   "id": "ef02baef-319d-4b54-9020-469f410bc36e",
   "metadata": {},
   "outputs": [],
   "source": [
    "model = keras.models.load_model('../data/tf_model.pkl')"
   ]
  },
  {
   "cell_type": "code",
   "execution_count": 74,
   "id": "42659d3a-f2ad-4ab4-927b-9b6feff04157",
   "metadata": {},
   "outputs": [
    {
     "name": "stdout",
     "output_type": "stream",
     "text": [
      "1/1 [==============================] - 0s 127ms/step\n"
     ]
    }
   ],
   "source": [
    "y_pred = model.predict(test_data)"
   ]
  },
  {
   "cell_type": "code",
   "execution_count": 75,
   "id": "81dad762-28ae-4603-887f-11718375e15f",
   "metadata": {
    "tags": []
   },
   "outputs": [
    {
     "data": {
      "text/html": [
       "<div>\n",
       "<style scoped>\n",
       "    .dataframe tbody tr th:only-of-type {\n",
       "        vertical-align: middle;\n",
       "    }\n",
       "\n",
       "    .dataframe tbody tr th {\n",
       "        vertical-align: top;\n",
       "    }\n",
       "\n",
       "    .dataframe thead th {\n",
       "        text-align: right;\n",
       "    }\n",
       "</style>\n",
       "<table border=\"1\" class=\"dataframe\">\n",
       "  <thead>\n",
       "    <tr style=\"text-align: right;\">\n",
       "      <th></th>\n",
       "      <th>72 Hour Violation</th>\n",
       "      <th>COVID-19</th>\n",
       "      <th>Container Left Out</th>\n",
       "      <th>Container Out Late</th>\n",
       "      <th>Damaged/Knocked Over Pole</th>\n",
       "      <th>Dead Animal</th>\n",
       "      <th>Development Services - Code Enforcement</th>\n",
       "      <th>Drain Inlet</th>\n",
       "      <th>Encampment</th>\n",
       "      <th>Encroachment</th>\n",
       "      <th>...</th>\n",
       "      <th>Traffic Signal Out of Service</th>\n",
       "      <th>Traffic Signal Timing</th>\n",
       "      <th>Trash/Recycling Collection</th>\n",
       "      <th>Tree Maintenance</th>\n",
       "      <th>Tree Removal</th>\n",
       "      <th>Tree Trimming for Pedestrian/Vehicle Clearance</th>\n",
       "      <th>Trimming Request</th>\n",
       "      <th>Vegetation Encroachment</th>\n",
       "      <th>Waste on Private Property</th>\n",
       "      <th>Weed Cleanup</th>\n",
       "    </tr>\n",
       "  </thead>\n",
       "  <tbody>\n",
       "    <tr>\n",
       "      <th>0</th>\n",
       "      <td>3.467675e-08</td>\n",
       "      <td>2.619601e-08</td>\n",
       "      <td>1.839487e-09</td>\n",
       "      <td>2.328662e-21</td>\n",
       "      <td>1.209192e-20</td>\n",
       "      <td>3.033050e-09</td>\n",
       "      <td>7.539589e-07</td>\n",
       "      <td>9.253165e-12</td>\n",
       "      <td>0.99705</td>\n",
       "      <td>0.000004</td>\n",
       "      <td>...</td>\n",
       "      <td>6.557356e-21</td>\n",
       "      <td>1.577459e-25</td>\n",
       "      <td>1.523771e-08</td>\n",
       "      <td>1.837790e-16</td>\n",
       "      <td>1.380510e-18</td>\n",
       "      <td>2.938927e-12</td>\n",
       "      <td>2.340972e-20</td>\n",
       "      <td>2.205864e-10</td>\n",
       "      <td>0.001162</td>\n",
       "      <td>5.257022e-12</td>\n",
       "    </tr>\n",
       "  </tbody>\n",
       "</table>\n",
       "<p>1 rows × 51 columns</p>\n",
       "</div>"
      ],
      "text/plain": [
       "   72 Hour Violation      COVID-19  Container Left Out  Container Out Late  \\\n",
       "0       3.467675e-08  2.619601e-08        1.839487e-09        2.328662e-21   \n",
       "\n",
       "   Damaged/Knocked Over Pole   Dead Animal  \\\n",
       "0               1.209192e-20  3.033050e-09   \n",
       "\n",
       "   Development Services - Code Enforcement   Drain Inlet  Encampment  \\\n",
       "0                             7.539589e-07  9.253165e-12     0.99705   \n",
       "\n",
       "   Encroachment  ...  Traffic Signal Out of Service  Traffic Signal Timing  \\\n",
       "0      0.000004  ...                   6.557356e-21           1.577459e-25   \n",
       "\n",
       "   Trash/Recycling Collection  Tree Maintenance  Tree Removal  \\\n",
       "0                1.523771e-08      1.837790e-16  1.380510e-18   \n",
       "\n",
       "   Tree Trimming for Pedestrian/Vehicle Clearance  Trimming Request  \\\n",
       "0                                    2.938927e-12      2.340972e-20   \n",
       "\n",
       "   Vegetation Encroachment  Waste on Private Property  Weed Cleanup  \n",
       "0             2.205864e-10                   0.001162  5.257022e-12  \n",
       "\n",
       "[1 rows x 51 columns]"
      ]
     },
     "execution_count": 75,
     "metadata": {},
     "output_type": "execute_result"
    }
   ],
   "source": [
    "results_df = pd.DataFrame(y_pred)\n",
    "results_df.columns = ['72 Hour Violation',\n",
    " 'COVID-19',\n",
    " 'Container Left Out',\n",
    " 'Container Out Late',\n",
    " 'Damaged/Knocked Over Pole',\n",
    " 'Dead Animal',\n",
    " 'Development Services - Code Enforcement',\n",
    " 'Drain Inlet',\n",
    " 'Encampment',\n",
    " 'Encroachment',\n",
    " 'Environmental Services Code Compliance',\n",
    " 'Fallen/Hanging Tree Limb',\n",
    " 'Flashing Traffic Signal Lights',\n",
    " 'Graffiti Removal',\n",
    " 'Graffiti Removal - Commercial',\n",
    " 'Illegal Dumping',\n",
    " 'Litter',\n",
    " 'Missed Collection',\n",
    " 'Other',\n",
    " 'Oversized Vehicle',\n",
    " 'Parking',\n",
    " 'Parking Zone Violation',\n",
    " 'Pavement Maintenance',\n",
    " 'Potential Missed Collection',\n",
    " 'Pothole',\n",
    " 'Quality of Life Issues',\n",
    " 'ROW Maintenance',\n",
    " 'Resurfacing Evaluation',\n",
    " 'Right-of-Way Code Enforcement',\n",
    " 'Shared Mobility Device',\n",
    " 'Sidewalk Repair Issue',\n",
    " 'Stormwater',\n",
    " 'Stormwater Code Enforcement',\n",
    " 'Stormwater Pollution Prevention',\n",
    " 'Street Flooded',\n",
    " 'Street Light Maintenance',\n",
    " 'Street Light Out of Service',\n",
    " 'Street Sweeping',\n",
    " 'Traffic Engineering',\n",
    " 'Traffic Sign Maintenance',\n",
    " 'Traffic Signal Issue',\n",
    " 'Traffic Signal Out of Service',\n",
    " 'Traffic Signal Timing',\n",
    " 'Trash/Recycling Collection',\n",
    " 'Tree Maintenance',\n",
    " 'Tree Removal',\n",
    " 'Tree Trimming for Pedestrian/Vehicle Clearance',\n",
    " 'Trimming Request',\n",
    " 'Vegetation Encroachment',\n",
    " 'Waste on Private Property',\n",
    " 'Weed Cleanup']\n",
    "results_df"
   ]
  },
  {
   "cell_type": "code",
   "execution_count": 80,
   "id": "6d95c85f-337c-4582-936d-b9c178210af1",
   "metadata": {},
   "outputs": [],
   "source": [
    "#return column where value is that above\n",
    "# j = 0\n",
    "max_col = []\n",
    "\n",
    "# for j in range(1):\n",
    "\n",
    "i=0\n",
    "\n",
    "\n",
    "while i < results_df.shape[1]:\n",
    "    if results_df.iloc[j,i] == results_df.iloc[j,:].max():\n",
    "        max_col.append(list(results_df.columns)[i])\n",
    "    i += 1"
   ]
  },
  {
   "cell_type": "code",
   "execution_count": 81,
   "id": "542c8101-669b-413d-818f-4dfa13eb6ac7",
   "metadata": {},
   "outputs": [
    {
     "data": {
      "text/plain": [
       "['Encampment']"
      ]
     },
     "execution_count": 81,
     "metadata": {},
     "output_type": "execute_result"
    }
   ],
   "source": [
    "max_col"
   ]
  },
  {
   "cell_type": "code",
   "execution_count": null,
   "id": "e55a8540-6a13-4f03-9120-7a6f76e034be",
   "metadata": {},
   "outputs": [],
   "source": []
  },
  {
   "cell_type": "code",
   "execution_count": null,
   "id": "e36cfb13-9a61-4d88-8045-4ca540968544",
   "metadata": {},
   "outputs": [],
   "source": []
  }
 ],
 "metadata": {
  "kernelspec": {
   "display_name": "Python 3 (ipykernel)",
   "language": "python",
   "name": "python3"
  },
  "language_info": {
   "codemirror_mode": {
    "name": "ipython",
    "version": 3
   },
   "file_extension": ".py",
   "mimetype": "text/x-python",
   "name": "python",
   "nbconvert_exporter": "python",
   "pygments_lexer": "ipython3",
   "version": "3.9.12"
  }
 },
 "nbformat": 4,
 "nbformat_minor": 5
}
