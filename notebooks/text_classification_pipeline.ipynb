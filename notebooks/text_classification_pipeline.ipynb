{
 "cells": [
  {
   "cell_type": "code",
   "execution_count": 1,
   "id": "f8acdf8b-a8ac-4243-ad1e-4b85da4c6066",
   "metadata": {},
   "outputs": [],
   "source": [
    "import pandas as pd\n",
    "import numpy as np\n",
    "from matplotlib import pyplot as plt\n",
    "import seaborn as sns\n",
    "from datetime import datetime\n",
    "from sklearn.model_selection import train_test_split\n",
    "import pickle"
   ]
  },
  {
   "cell_type": "code",
   "execution_count": 2,
   "id": "87d3fc51-f5e1-41a7-9c19-dd0396011b63",
   "metadata": {},
   "outputs": [],
   "source": [
    "from __future__ import absolute_import, division, print_function, unicode_literals\n",
    "\n",
    "import tensorflow as tf\n",
    "\n",
    "import os\n",
    "import datetime\n",
    "# import tensorflow_hub as hub\n",
    "from tensorflow import keras"
   ]
  },
  {
   "cell_type": "code",
   "execution_count": 35,
   "id": "367d33b2-b14c-4f02-a7eb-a27decdcaa28",
   "metadata": {},
   "outputs": [],
   "source": [
    "input_data = 'Mattress dumped on the lawn.'\n",
    "classification = 'class'"
   ]
  },
  {
   "cell_type": "code",
   "execution_count": 36,
   "id": "003756d3-500b-4775-8b3a-a513e461669b",
   "metadata": {},
   "outputs": [
    {
     "name": "stdout",
     "output_type": "stream",
     "text": [
      "shape (1,)\n",
      "type <class 'numpy.ndarray'>\n"
     ]
    }
   ],
   "source": [
    "input_array = np.array([input_data])\n",
    "print('shape', input_array.shape)\n",
    "print('type', type(input_array))"
   ]
  },
  {
   "cell_type": "code",
   "execution_count": 37,
   "id": "265aa87e-61db-49f6-880e-8a8cbe772f3b",
   "metadata": {},
   "outputs": [
    {
     "name": "stdout",
     "output_type": "stream",
     "text": [
      "shape (1,)\n",
      "type <class 'numpy.ndarray'>\n"
     ]
    }
   ],
   "source": [
    "class_array = np.array([classification])\n",
    "print('shape', class_array.shape)\n",
    "print('type', type(class_array))"
   ]
  },
  {
   "cell_type": "code",
   "execution_count": 38,
   "id": "83b59694-6737-4baa-8394-41154bcbf0a1",
   "metadata": {},
   "outputs": [],
   "source": [
    "input_dataset = tf.data.Dataset.from_tensor_slices((input_array, class_array))"
   ]
  },
  {
   "cell_type": "code",
   "execution_count": 39,
   "id": "16f7fe6f-676c-45e4-a239-df3e684e6342",
   "metadata": {},
   "outputs": [
    {
     "name": "stdout",
     "output_type": "stream",
     "text": [
      "description: b'Mattress dumped on the lawn.', Target: b'class'\n"
     ]
    }
   ],
   "source": [
    "for text, target in input_dataset.take(1):\n",
    "    print_test = 'description: {}, Target: {}'.format(text, target)\n",
    "print(print_test)"
   ]
  },
  {
   "cell_type": "code",
   "execution_count": 40,
   "id": "2e0e151c-e939-47ee-bec7-860947c6e922",
   "metadata": {},
   "outputs": [],
   "source": [
    "with open('../data/detailed_types.pkl', 'rb') as file:\n",
    "    detailed_types = pickle.load(file)\n",
    "    \n",
    "with open('../data/vals.pkl', 'rb') as file:\n",
    "    vals = pickle.load(file)"
   ]
  },
  {
   "cell_type": "code",
   "execution_count": 41,
   "id": "b57b0536-f2d2-43b8-b259-037f2c03e261",
   "metadata": {},
   "outputs": [],
   "source": [
    "def fetch(text, labels):\n",
    "        return text, tf.one_hot(target(labels),len(detailed_types))"
   ]
  },
  {
   "cell_type": "code",
   "execution_count": 42,
   "id": "53b98183-4fae-4086-8ace-877253486d1b",
   "metadata": {},
   "outputs": [],
   "source": [
    "table = tf.lookup.StaticHashTable(\n",
    "    initializer=tf.lookup.KeyValueTensorInitializer(\n",
    "        keys=tf.constant(detailed_types),\n",
    "        values=tf.constant(vals),\n",
    "    ),\n",
    "        default_value=tf.constant(-1),\n",
    "        name=\"target_encoding\"\n",
    ")"
   ]
  },
  {
   "cell_type": "code",
   "execution_count": 43,
   "id": "43f3ba61-6c50-4957-9558-24e89d6d62ea",
   "metadata": {},
   "outputs": [],
   "source": [
    "@tf.function\n",
    "def target(x):\n",
    "    return table.lookup(x)"
   ]
  },
  {
   "cell_type": "code",
   "execution_count": 44,
   "id": "a9ce08b9-2572-4e71-bfa0-4eafd392f30a",
   "metadata": {},
   "outputs": [],
   "source": [
    "test_data, test_labels = next(iter(input_dataset.map(fetch).batch(1)))"
   ]
  },
  {
   "cell_type": "code",
   "execution_count": 45,
   "id": "f313b972-3b3f-4efc-94de-64e6f9827969",
   "metadata": {},
   "outputs": [
    {
     "data": {
      "text/plain": [
       "<tf.Tensor: shape=(1,), dtype=string, numpy=array([b'Mattress dumped on the lawn.'], dtype=object)>"
      ]
     },
     "execution_count": 45,
     "metadata": {},
     "output_type": "execute_result"
    }
   ],
   "source": [
    "test_data"
   ]
  },
  {
   "cell_type": "code",
   "execution_count": 46,
   "id": "ef02baef-319d-4b54-9020-469f410bc36e",
   "metadata": {},
   "outputs": [],
   "source": [
    "model = keras.models.load_model('../data/tf_model.pkl')"
   ]
  },
  {
   "cell_type": "code",
   "execution_count": 47,
   "id": "42659d3a-f2ad-4ab4-927b-9b6feff04157",
   "metadata": {},
   "outputs": [
    {
     "name": "stdout",
     "output_type": "stream",
     "text": [
      "1/1 [==============================] - 0s 275ms/step\n"
     ]
    }
   ],
   "source": [
    "y_pred = model.predict(test_data)"
   ]
  },
  {
   "cell_type": "code",
   "execution_count": 48,
   "id": "81dad762-28ae-4603-887f-11718375e15f",
   "metadata": {
    "tags": []
   },
   "outputs": [],
   "source": [
    "results_df = pd.DataFrame(y_pred)\n",
    "results_df.columns = ['72 Hour Violation',\n",
    " 'COVID-19',\n",
    " 'Container Left Out',\n",
    " 'Container Out Late',\n",
    " 'Damaged/Knocked Over Pole',\n",
    " 'Dead Animal',\n",
    " 'Development Services - Code Enforcement',\n",
    " 'Drain Inlet',\n",
    " 'Encampment',\n",
    " 'Encroachment',\n",
    " 'Environmental Services Code Compliance',\n",
    " 'Fallen/Hanging Tree Limb',\n",
    " 'Flashing Traffic Signal Lights',\n",
    " 'Graffiti Removal',\n",
    " 'Graffiti Removal - Commercial',\n",
    " 'Illegal Dumping',\n",
    " 'Litter',\n",
    " 'Missed Collection',\n",
    " 'Other',\n",
    " 'Oversized Vehicle',\n",
    " 'Parking',\n",
    " 'Parking Zone Violation',\n",
    " 'Pavement Maintenance',\n",
    " 'Potential Missed Collection',\n",
    " 'Pothole',\n",
    " 'Quality of Life Issues',\n",
    " 'ROW Maintenance',\n",
    " 'Resurfacing Evaluation',\n",
    " 'Right-of-Way Code Enforcement',\n",
    " 'Shared Mobility Device',\n",
    " 'Sidewalk Repair Issue',\n",
    " 'Stormwater',\n",
    " 'Stormwater Code Enforcement',\n",
    " 'Stormwater Pollution Prevention',\n",
    " 'Street Flooded',\n",
    " 'Street Light Maintenance',\n",
    " 'Street Light Out of Service',\n",
    " 'Street Sweeping',\n",
    " 'Traffic Engineering',\n",
    " 'Traffic Sign Maintenance',\n",
    " 'Traffic Signal Issue',\n",
    " 'Traffic Signal Out of Service',\n",
    " 'Traffic Signal Timing',\n",
    " 'Trash/Recycling Collection',\n",
    " 'Tree Maintenance',\n",
    " 'Tree Removal',\n",
    " 'Tree Trimming for Pedestrian/Vehicle Clearance',\n",
    " 'Trimming Request',\n",
    " 'Vegetation Encroachment',\n",
    " 'Waste on Private Property',\n",
    " 'Weed Cleanup']"
   ]
  },
  {
   "cell_type": "code",
   "execution_count": 49,
   "id": "6d95c85f-337c-4582-936d-b9c178210af1",
   "metadata": {},
   "outputs": [],
   "source": [
    "#return column where value is that above\n",
    "# j = 0\n",
    "max_col = []\n",
    "\n",
    "# for j in range(1):\n",
    "\n",
    "i=0\n",
    "\n",
    "\n",
    "while i < results_df.shape[1]:\n",
    "    if results_df.iloc[0,i] == results_df.iloc[0,:].max():\n",
    "        max_col.append(list(results_df.columns)[i])\n",
    "    i += 1"
   ]
  },
  {
   "cell_type": "code",
   "execution_count": 50,
   "id": "542c8101-669b-413d-818f-4dfa13eb6ac7",
   "metadata": {},
   "outputs": [
    {
     "data": {
      "text/plain": [
       "['Waste on Private Property']"
      ]
     },
     "execution_count": 50,
     "metadata": {},
     "output_type": "execute_result"
    }
   ],
   "source": [
    "max_col"
   ]
  },
  {
   "cell_type": "code",
   "execution_count": null,
   "id": "e55a8540-6a13-4f03-9120-7a6f76e034be",
   "metadata": {},
   "outputs": [],
   "source": []
  },
  {
   "cell_type": "code",
   "execution_count": null,
   "id": "e36cfb13-9a61-4d88-8045-4ca540968544",
   "metadata": {},
   "outputs": [],
   "source": []
  }
 ],
 "metadata": {
  "kernelspec": {
   "display_name": "Python 3 (ipykernel)",
   "language": "python",
   "name": "python3"
  },
  "language_info": {
   "codemirror_mode": {
    "name": "ipython",
    "version": 3
   },
   "file_extension": ".py",
   "mimetype": "text/x-python",
   "name": "python",
   "nbconvert_exporter": "python",
   "pygments_lexer": "ipython3",
   "version": "3.9.12"
  }
 },
 "nbformat": 4,
 "nbformat_minor": 5
}
