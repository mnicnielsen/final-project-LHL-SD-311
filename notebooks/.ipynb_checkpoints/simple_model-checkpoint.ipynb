{
 "cells": [
  {
   "cell_type": "markdown",
   "id": "cfb18db7-614a-4e1c-89f3-07c044e1538a",
   "metadata": {},
   "source": [
    "# Creating ML Model for 311 Analysis"
   ]
  },
  {
   "cell_type": "markdown",
   "id": "0a77a107-4005-4b14-b1c8-f6844e30d846",
   "metadata": {},
   "source": [
    "## 0. Import Packages and Data"
   ]
  },
  {
   "cell_type": "code",
   "execution_count": 1235,
   "id": "067c7d04-548c-4660-b962-13a99408afe6",
   "metadata": {},
   "outputs": [],
   "source": [
    "import pandas as pd\n",
    "import numpy as np\n",
    "from matplotlib import pyplot as plt\n",
    "import seaborn as sns\n",
    "from datetime import datetime\n",
    "from sklearn.model_selection import train_test_split"
   ]
  },
  {
   "cell_type": "code",
   "execution_count": 1236,
   "id": "2490e952-4b92-4999-b43f-f52667d03c4d",
   "metadata": {},
   "outputs": [],
   "source": [
    "requests_21 = pd.read_csv('../data/2021_closed_requests.csv', low_memory=False)\n",
    "requests_22 = pd.read_csv('../data/2022_closed_requests.csv', low_memory=False)"
   ]
  },
  {
   "cell_type": "code",
   "execution_count": 1237,
   "id": "7647ad94-a9dc-462b-8645-a6e7f68242b8",
   "metadata": {},
   "outputs": [
    {
     "data": {
      "text/html": [
       "<div>\n",
       "<style scoped>\n",
       "    .dataframe tbody tr th:only-of-type {\n",
       "        vertical-align: middle;\n",
       "    }\n",
       "\n",
       "    .dataframe tbody tr th {\n",
       "        vertical-align: top;\n",
       "    }\n",
       "\n",
       "    .dataframe thead th {\n",
       "        text-align: right;\n",
       "    }\n",
       "</style>\n",
       "<table border=\"1\" class=\"dataframe\">\n",
       "  <thead>\n",
       "    <tr style=\"text-align: right;\">\n",
       "      <th></th>\n",
       "      <th>service_request_id</th>\n",
       "      <th>service_request_parent_id</th>\n",
       "      <th>sap_notification_number</th>\n",
       "      <th>date_requested</th>\n",
       "      <th>case_age_days</th>\n",
       "      <th>case_record_type</th>\n",
       "      <th>service_name</th>\n",
       "      <th>service_name_detail</th>\n",
       "      <th>date_closed</th>\n",
       "      <th>status</th>\n",
       "      <th>...</th>\n",
       "      <th>zipcode</th>\n",
       "      <th>council_district</th>\n",
       "      <th>comm_plan_code</th>\n",
       "      <th>comm_plan_name</th>\n",
       "      <th>park_name</th>\n",
       "      <th>case_origin</th>\n",
       "      <th>referred</th>\n",
       "      <th>iamfloc</th>\n",
       "      <th>floc</th>\n",
       "      <th>public_description</th>\n",
       "    </tr>\n",
       "  </thead>\n",
       "  <tbody>\n",
       "    <tr>\n",
       "      <th>0</th>\n",
       "      <td>100123</td>\n",
       "      <td>NaN</td>\n",
       "      <td>4.030000e+10</td>\n",
       "      <td>2016-08-17T16:40:00</td>\n",
       "      <td>1654.0</td>\n",
       "      <td>TSW</td>\n",
       "      <td>Pavement Maintenance</td>\n",
       "      <td>CONCRETE PAVEMENT REPAIR ISSUE</td>\n",
       "      <td>2021-02-26</td>\n",
       "      <td>Closed</td>\n",
       "      <td>...</td>\n",
       "      <td>NaN</td>\n",
       "      <td>5.0</td>\n",
       "      <td>31.0</td>\n",
       "      <td>Rancho Bernardo</td>\n",
       "      <td>NaN</td>\n",
       "      <td>Web</td>\n",
       "      <td>NaN</td>\n",
       "      <td>SS-020515-PV1</td>\n",
       "      <td>SS-020515</td>\n",
       "      <td>We have a cement street it is buckling and one...</td>\n",
       "    </tr>\n",
       "    <tr>\n",
       "      <th>1</th>\n",
       "      <td>100191</td>\n",
       "      <td>87204.0</td>\n",
       "      <td>NaN</td>\n",
       "      <td>2016-08-17T23:48:00</td>\n",
       "      <td>1842.0</td>\n",
       "      <td>TSW</td>\n",
       "      <td>Pavement Maintenance</td>\n",
       "      <td>Evaluate for Resurfacing/Slurry</td>\n",
       "      <td>2021-09-02</td>\n",
       "      <td>Closed</td>\n",
       "      <td>...</td>\n",
       "      <td>NaN</td>\n",
       "      <td>5.0</td>\n",
       "      <td>3.0</td>\n",
       "      <td>Carmel Mountain Ranch</td>\n",
       "      <td>NaN</td>\n",
       "      <td>Web</td>\n",
       "      <td>NaN</td>\n",
       "      <td>NaN</td>\n",
       "      <td>SS-022700</td>\n",
       "      <td>Potholes and uneven pavement throughout Rancho...</td>\n",
       "    </tr>\n",
       "  </tbody>\n",
       "</table>\n",
       "<p>2 rows × 23 columns</p>\n",
       "</div>"
      ],
      "text/plain": [
       "   service_request_id  service_request_parent_id  sap_notification_number  \\\n",
       "0              100123                        NaN             4.030000e+10   \n",
       "1              100191                    87204.0                      NaN   \n",
       "\n",
       "        date_requested  case_age_days case_record_type          service_name  \\\n",
       "0  2016-08-17T16:40:00         1654.0              TSW  Pavement Maintenance   \n",
       "1  2016-08-17T23:48:00         1842.0              TSW  Pavement Maintenance   \n",
       "\n",
       "               service_name_detail date_closed  status  ...  zipcode  \\\n",
       "0   CONCRETE PAVEMENT REPAIR ISSUE  2021-02-26  Closed  ...      NaN   \n",
       "1  Evaluate for Resurfacing/Slurry  2021-09-02  Closed  ...      NaN   \n",
       "\n",
       "   council_district comm_plan_code         comm_plan_name  park_name  \\\n",
       "0               5.0           31.0        Rancho Bernardo        NaN   \n",
       "1               5.0            3.0  Carmel Mountain Ranch        NaN   \n",
       "\n",
       "   case_origin referred        iamfloc       floc  \\\n",
       "0          Web      NaN  SS-020515-PV1  SS-020515   \n",
       "1          Web      NaN            NaN  SS-022700   \n",
       "\n",
       "                                  public_description  \n",
       "0  We have a cement street it is buckling and one...  \n",
       "1  Potholes and uneven pavement throughout Rancho...  \n",
       "\n",
       "[2 rows x 23 columns]"
      ]
     },
     "execution_count": 1237,
     "metadata": {},
     "output_type": "execute_result"
    }
   ],
   "source": [
    "requests_21.head(2)"
   ]
  },
  {
   "cell_type": "code",
   "execution_count": 1238,
   "id": "a550115b-f290-4144-b79b-19970cca8ad1",
   "metadata": {},
   "outputs": [
    {
     "data": {
      "text/html": [
       "<div>\n",
       "<style scoped>\n",
       "    .dataframe tbody tr th:only-of-type {\n",
       "        vertical-align: middle;\n",
       "    }\n",
       "\n",
       "    .dataframe tbody tr th {\n",
       "        vertical-align: top;\n",
       "    }\n",
       "\n",
       "    .dataframe thead th {\n",
       "        text-align: right;\n",
       "    }\n",
       "</style>\n",
       "<table border=\"1\" class=\"dataframe\">\n",
       "  <thead>\n",
       "    <tr style=\"text-align: right;\">\n",
       "      <th></th>\n",
       "      <th>service_request_id</th>\n",
       "      <th>service_request_parent_id</th>\n",
       "      <th>sap_notification_number</th>\n",
       "      <th>date_requested</th>\n",
       "      <th>case_age_days</th>\n",
       "      <th>case_record_type</th>\n",
       "      <th>service_name</th>\n",
       "      <th>service_name_detail</th>\n",
       "      <th>date_closed</th>\n",
       "      <th>status</th>\n",
       "      <th>...</th>\n",
       "      <th>zipcode</th>\n",
       "      <th>council_district</th>\n",
       "      <th>comm_plan_code</th>\n",
       "      <th>comm_plan_name</th>\n",
       "      <th>park_name</th>\n",
       "      <th>case_origin</th>\n",
       "      <th>referred</th>\n",
       "      <th>iamfloc</th>\n",
       "      <th>floc</th>\n",
       "      <th>public_description</th>\n",
       "    </tr>\n",
       "  </thead>\n",
       "  <tbody>\n",
       "    <tr>\n",
       "      <th>0</th>\n",
       "      <td>100258</td>\n",
       "      <td>NaN</td>\n",
       "      <td>4.030001e+10</td>\n",
       "      <td>2016-08-18T10:02:00</td>\n",
       "      <td>2056</td>\n",
       "      <td>TSW</td>\n",
       "      <td>Pavement Maintenance</td>\n",
       "      <td>DAMAGED CURB</td>\n",
       "      <td>2022-04-05</td>\n",
       "      <td>Closed</td>\n",
       "      <td>...</td>\n",
       "      <td>NaN</td>\n",
       "      <td>9.0</td>\n",
       "      <td>59.0</td>\n",
       "      <td>Mid-City:Normal Heights</td>\n",
       "      <td>NaN</td>\n",
       "      <td>Web</td>\n",
       "      <td>NaN</td>\n",
       "      <td>SS-017917-PV1</td>\n",
       "      <td>SS-017917</td>\n",
       "      <td>Missing piece of the curb near corner on Meade</td>\n",
       "    </tr>\n",
       "    <tr>\n",
       "      <th>1</th>\n",
       "      <td>101166</td>\n",
       "      <td>NaN</td>\n",
       "      <td>4.030000e+10</td>\n",
       "      <td>2016-08-23T08:19:00</td>\n",
       "      <td>2267</td>\n",
       "      <td>TSW</td>\n",
       "      <td>Sidewalk Repair Issue</td>\n",
       "      <td>CONCRETE SIDEWALK REPAIR ISSUE</td>\n",
       "      <td>2022-11-07</td>\n",
       "      <td>Closed</td>\n",
       "      <td>...</td>\n",
       "      <td>NaN</td>\n",
       "      <td>2.0</td>\n",
       "      <td>18.0</td>\n",
       "      <td>Mission Beach</td>\n",
       "      <td>NaN</td>\n",
       "      <td>Mobile</td>\n",
       "      <td>NaN</td>\n",
       "      <td>SS-014490-SE1</td>\n",
       "      <td>SS-014490</td>\n",
       "      <td>This part of side walk has dropped several inc...</td>\n",
       "    </tr>\n",
       "  </tbody>\n",
       "</table>\n",
       "<p>2 rows × 23 columns</p>\n",
       "</div>"
      ],
      "text/plain": [
       "   service_request_id  service_request_parent_id  sap_notification_number  \\\n",
       "0              100258                        NaN             4.030001e+10   \n",
       "1              101166                        NaN             4.030000e+10   \n",
       "\n",
       "        date_requested  case_age_days case_record_type           service_name  \\\n",
       "0  2016-08-18T10:02:00           2056              TSW   Pavement Maintenance   \n",
       "1  2016-08-23T08:19:00           2267              TSW  Sidewalk Repair Issue   \n",
       "\n",
       "              service_name_detail date_closed  status  ...  zipcode  \\\n",
       "0                    DAMAGED CURB  2022-04-05  Closed  ...      NaN   \n",
       "1  CONCRETE SIDEWALK REPAIR ISSUE  2022-11-07  Closed  ...      NaN   \n",
       "\n",
       "   council_district comm_plan_code           comm_plan_name  park_name  \\\n",
       "0               9.0           59.0  Mid-City:Normal Heights        NaN   \n",
       "1               2.0           18.0            Mission Beach        NaN   \n",
       "\n",
       "   case_origin referred        iamfloc       floc  \\\n",
       "0          Web      NaN  SS-017917-PV1  SS-017917   \n",
       "1       Mobile      NaN  SS-014490-SE1  SS-014490   \n",
       "\n",
       "                                  public_description  \n",
       "0     Missing piece of the curb near corner on Meade  \n",
       "1  This part of side walk has dropped several inc...  \n",
       "\n",
       "[2 rows x 23 columns]"
      ]
     },
     "execution_count": 1238,
     "metadata": {},
     "output_type": "execute_result"
    }
   ],
   "source": [
    "requests_22.head(2)"
   ]
  },
  {
   "cell_type": "markdown",
   "id": "3048d73c-812c-4ea6-85fa-094daaa07701",
   "metadata": {
    "tags": []
   },
   "source": [
    "## 1. Data Exploration and Cleaning"
   ]
  },
  {
   "cell_type": "markdown",
   "id": "ea9e829e-800b-416e-85d2-b1e56e48e599",
   "metadata": {},
   "source": [
    "### Investigate number of data points"
   ]
  },
  {
   "cell_type": "code",
   "execution_count": 1239,
   "id": "b49d7b53-c017-4dd2-af50-c38c2564dad8",
   "metadata": {},
   "outputs": [
    {
     "name": "stdout",
     "output_type": "stream",
     "text": [
      "Shape of 2021 data: (359090, 23)\n",
      "Shape of 2022 data: (348924, 23)\n"
     ]
    }
   ],
   "source": [
    "print(\"Shape of 2021 data:\", requests_21.shape)\n",
    "print(\"Shape of 2022 data:\", requests_22.shape)"
   ]
  },
  {
   "cell_type": "markdown",
   "id": "9bb58127-1a07-4a1a-ad4b-42e861df1f68",
   "metadata": {
    "tags": []
   },
   "source": [
    "### Check for null values in all columns\n",
    "- 2021"
   ]
  },
  {
   "cell_type": "code",
   "execution_count": 1240,
   "id": "3a211edf-9f7a-466f-b15a-e0ff3c151254",
   "metadata": {
    "tags": []
   },
   "outputs": [
    {
     "data": {
      "text/plain": [
       "service_request_id                0\n",
       "service_request_parent_id    320300\n",
       "sap_notification_number      312452\n",
       "date_requested                    0\n",
       "case_age_days                     8\n",
       "case_record_type                  0\n",
       "service_name                      0\n",
       "service_name_detail          110504\n",
       "date_closed                       8\n",
       "status                            0\n",
       "lat                            2609\n",
       "lng                            2609\n",
       "street_address                  534\n",
       "zipcode                      125914\n",
       "council_district               2925\n",
       "comm_plan_code                 2984\n",
       "comm_plan_name                 2984\n",
       "park_name                    340158\n",
       "case_origin                      34\n",
       "referred                     297104\n",
       "iamfloc                      166284\n",
       "floc                         166145\n",
       "public_description            25982\n",
       "dtype: int64"
      ]
     },
     "execution_count": 1240,
     "metadata": {},
     "output_type": "execute_result"
    }
   ],
   "source": [
    "requests_21.isna().sum()"
   ]
  },
  {
   "cell_type": "markdown",
   "id": "69625940-d696-4faf-b74a-36edd44eb88a",
   "metadata": {
    "jp-MarkdownHeadingCollapsed": true,
    "tags": []
   },
   "source": [
    "- 2022"
   ]
  },
  {
   "cell_type": "code",
   "execution_count": 1241,
   "id": "0556d0b2-afbf-4e12-be85-cadf0d6c1785",
   "metadata": {
    "tags": []
   },
   "outputs": [
    {
     "data": {
      "text/plain": [
       "service_request_id                0\n",
       "service_request_parent_id    294996\n",
       "sap_notification_number      304084\n",
       "date_requested                    0\n",
       "case_age_days                     0\n",
       "case_record_type                  0\n",
       "service_name                      3\n",
       "service_name_detail          122420\n",
       "date_closed                       0\n",
       "status                            0\n",
       "lat                            2546\n",
       "lng                            2546\n",
       "street_address                  518\n",
       "zipcode                       93211\n",
       "council_district               3443\n",
       "comm_plan_code                 3498\n",
       "comm_plan_name                 3498\n",
       "park_name                    330590\n",
       "case_origin                      27\n",
       "referred                     315794\n",
       "iamfloc                      137390\n",
       "floc                         137828\n",
       "public_description            30075\n",
       "dtype: int64"
      ]
     },
     "execution_count": 1241,
     "metadata": {},
     "output_type": "execute_result"
    }
   ],
   "source": [
    "requests_22.isna().sum()"
   ]
  },
  {
   "cell_type": "markdown",
   "id": "22fe278c-5b06-4612-b9dc-0a40bfd087c7",
   "metadata": {},
   "source": [
    "### Explore each Column"
   ]
  },
  {
   "cell_type": "code",
   "execution_count": 1242,
   "id": "f2cba179-594d-411d-bcc3-0ba99e197542",
   "metadata": {
    "tags": []
   },
   "outputs": [
    {
     "name": "stdout",
     "output_type": "stream",
     "text": [
      "<class 'pandas.core.frame.DataFrame'>\n",
      "RangeIndex: 359090 entries, 0 to 359089\n",
      "Data columns (total 23 columns):\n",
      " #   Column                     Non-Null Count   Dtype  \n",
      "---  ------                     --------------   -----  \n",
      " 0   service_request_id         359090 non-null  int64  \n",
      " 1   service_request_parent_id  38790 non-null   float64\n",
      " 2   sap_notification_number    46638 non-null   float64\n",
      " 3   date_requested             359090 non-null  object \n",
      " 4   case_age_days              359082 non-null  float64\n",
      " 5   case_record_type           359090 non-null  object \n",
      " 6   service_name               359090 non-null  object \n",
      " 7   service_name_detail        248586 non-null  object \n",
      " 8   date_closed                359082 non-null  object \n",
      " 9   status                     359090 non-null  object \n",
      " 10  lat                        356481 non-null  float64\n",
      " 11  lng                        356481 non-null  float64\n",
      " 12  street_address             358556 non-null  object \n",
      " 13  zipcode                    233176 non-null  object \n",
      " 14  council_district           356165 non-null  float64\n",
      " 15  comm_plan_code             356106 non-null  float64\n",
      " 16  comm_plan_name             356106 non-null  object \n",
      " 17  park_name                  18932 non-null   object \n",
      " 18  case_origin                359056 non-null  object \n",
      " 19  referred                   61986 non-null   object \n",
      " 20  iamfloc                    192806 non-null  object \n",
      " 21  floc                       192945 non-null  object \n",
      " 22  public_description         333108 non-null  object \n",
      "dtypes: float64(7), int64(1), object(15)\n",
      "memory usage: 63.0+ MB\n"
     ]
    }
   ],
   "source": [
    "requests_21.info()"
   ]
  },
  {
   "cell_type": "code",
   "execution_count": 1243,
   "id": "1f642c48-8231-4c79-b958-865fa6d2cbdb",
   "metadata": {
    "tags": []
   },
   "outputs": [
    {
     "data": {
      "text/html": [
       "<div>\n",
       "<style scoped>\n",
       "    .dataframe tbody tr th:only-of-type {\n",
       "        vertical-align: middle;\n",
       "    }\n",
       "\n",
       "    .dataframe tbody tr th {\n",
       "        vertical-align: top;\n",
       "    }\n",
       "\n",
       "    .dataframe thead th {\n",
       "        text-align: right;\n",
       "    }\n",
       "</style>\n",
       "<table border=\"1\" class=\"dataframe\">\n",
       "  <thead>\n",
       "    <tr style=\"text-align: right;\">\n",
       "      <th></th>\n",
       "      <th>service_request_id</th>\n",
       "      <th>service_request_parent_id</th>\n",
       "      <th>sap_notification_number</th>\n",
       "      <th>date_requested</th>\n",
       "      <th>case_age_days</th>\n",
       "      <th>case_record_type</th>\n",
       "      <th>service_name</th>\n",
       "      <th>service_name_detail</th>\n",
       "      <th>date_closed</th>\n",
       "      <th>status</th>\n",
       "      <th>...</th>\n",
       "      <th>zipcode</th>\n",
       "      <th>council_district</th>\n",
       "      <th>comm_plan_code</th>\n",
       "      <th>comm_plan_name</th>\n",
       "      <th>park_name</th>\n",
       "      <th>case_origin</th>\n",
       "      <th>referred</th>\n",
       "      <th>iamfloc</th>\n",
       "      <th>floc</th>\n",
       "      <th>public_description</th>\n",
       "    </tr>\n",
       "  </thead>\n",
       "  <tbody>\n",
       "    <tr>\n",
       "      <th>0</th>\n",
       "      <td>100123</td>\n",
       "      <td>NaN</td>\n",
       "      <td>4.030000e+10</td>\n",
       "      <td>2016-08-17T16:40:00</td>\n",
       "      <td>1654.0</td>\n",
       "      <td>TSW</td>\n",
       "      <td>Pavement Maintenance</td>\n",
       "      <td>CONCRETE PAVEMENT REPAIR ISSUE</td>\n",
       "      <td>2021-02-26</td>\n",
       "      <td>Closed</td>\n",
       "      <td>...</td>\n",
       "      <td>NaN</td>\n",
       "      <td>5.0</td>\n",
       "      <td>31.0</td>\n",
       "      <td>Rancho Bernardo</td>\n",
       "      <td>NaN</td>\n",
       "      <td>Web</td>\n",
       "      <td>NaN</td>\n",
       "      <td>SS-020515-PV1</td>\n",
       "      <td>SS-020515</td>\n",
       "      <td>We have a cement street it is buckling and one...</td>\n",
       "    </tr>\n",
       "    <tr>\n",
       "      <th>1</th>\n",
       "      <td>100191</td>\n",
       "      <td>87204.0</td>\n",
       "      <td>NaN</td>\n",
       "      <td>2016-08-17T23:48:00</td>\n",
       "      <td>1842.0</td>\n",
       "      <td>TSW</td>\n",
       "      <td>Pavement Maintenance</td>\n",
       "      <td>Evaluate for Resurfacing/Slurry</td>\n",
       "      <td>2021-09-02</td>\n",
       "      <td>Closed</td>\n",
       "      <td>...</td>\n",
       "      <td>NaN</td>\n",
       "      <td>5.0</td>\n",
       "      <td>3.0</td>\n",
       "      <td>Carmel Mountain Ranch</td>\n",
       "      <td>NaN</td>\n",
       "      <td>Web</td>\n",
       "      <td>NaN</td>\n",
       "      <td>NaN</td>\n",
       "      <td>SS-022700</td>\n",
       "      <td>Potholes and uneven pavement throughout Rancho...</td>\n",
       "    </tr>\n",
       "    <tr>\n",
       "      <th>2</th>\n",
       "      <td>100194</td>\n",
       "      <td>NaN</td>\n",
       "      <td>4.030001e+10</td>\n",
       "      <td>2016-08-18T04:17:00</td>\n",
       "      <td>1652.0</td>\n",
       "      <td>TSW</td>\n",
       "      <td>Pavement Maintenance</td>\n",
       "      <td>DAMAGED CURB</td>\n",
       "      <td>2021-02-25</td>\n",
       "      <td>Closed</td>\n",
       "      <td>...</td>\n",
       "      <td>NaN</td>\n",
       "      <td>2.0</td>\n",
       "      <td>6.0</td>\n",
       "      <td>Clairemont Mesa</td>\n",
       "      <td>NaN</td>\n",
       "      <td>Web</td>\n",
       "      <td>NaN</td>\n",
       "      <td>SS-014744-PV1</td>\n",
       "      <td>SS-014744</td>\n",
       "      <td>curb cracked, please fill\\ngutter joint depres...</td>\n",
       "    </tr>\n",
       "  </tbody>\n",
       "</table>\n",
       "<p>3 rows × 23 columns</p>\n",
       "</div>"
      ],
      "text/plain": [
       "   service_request_id  service_request_parent_id  sap_notification_number  \\\n",
       "0              100123                        NaN             4.030000e+10   \n",
       "1              100191                    87204.0                      NaN   \n",
       "2              100194                        NaN             4.030001e+10   \n",
       "\n",
       "        date_requested  case_age_days case_record_type          service_name  \\\n",
       "0  2016-08-17T16:40:00         1654.0              TSW  Pavement Maintenance   \n",
       "1  2016-08-17T23:48:00         1842.0              TSW  Pavement Maintenance   \n",
       "2  2016-08-18T04:17:00         1652.0              TSW  Pavement Maintenance   \n",
       "\n",
       "               service_name_detail date_closed  status  ...  zipcode  \\\n",
       "0   CONCRETE PAVEMENT REPAIR ISSUE  2021-02-26  Closed  ...      NaN   \n",
       "1  Evaluate for Resurfacing/Slurry  2021-09-02  Closed  ...      NaN   \n",
       "2                     DAMAGED CURB  2021-02-25  Closed  ...      NaN   \n",
       "\n",
       "   council_district comm_plan_code         comm_plan_name  park_name  \\\n",
       "0               5.0           31.0        Rancho Bernardo        NaN   \n",
       "1               5.0            3.0  Carmel Mountain Ranch        NaN   \n",
       "2               2.0            6.0        Clairemont Mesa        NaN   \n",
       "\n",
       "   case_origin referred        iamfloc       floc  \\\n",
       "0          Web      NaN  SS-020515-PV1  SS-020515   \n",
       "1          Web      NaN            NaN  SS-022700   \n",
       "2          Web      NaN  SS-014744-PV1  SS-014744   \n",
       "\n",
       "                                  public_description  \n",
       "0  We have a cement street it is buckling and one...  \n",
       "1  Potholes and uneven pavement throughout Rancho...  \n",
       "2  curb cracked, please fill\\ngutter joint depres...  \n",
       "\n",
       "[3 rows x 23 columns]"
      ]
     },
     "execution_count": 1243,
     "metadata": {},
     "output_type": "execute_result"
    }
   ],
   "source": [
    "requests_21.head(3)"
   ]
  },
  {
   "cell_type": "code",
   "execution_count": 1244,
   "id": "4f868ee2-76df-4afc-816b-1f00dc61b7c6",
   "metadata": {
    "tags": []
   },
   "outputs": [
    {
     "data": {
      "text/plain": [
       "Illegal Dumping                            58198\n",
       "Parking                                    52496\n",
       "Missed Collection                          43319\n",
       "Graffiti                                   36752\n",
       "Encampment                                 36583\n",
       "Shared Mobility Device                     28052\n",
       "Pothole                                    13352\n",
       "Other                                      11027\n",
       "Street Light Maintenance                    9247\n",
       "Tree Maintenance                            8910\n",
       "Traffic Signal Issue                        6038\n",
       "Environmental Services Code Compliance      5342\n",
       "Graffiti - Code Enforcement                 5181\n",
       "Traffic Sign Maintenance                    4638\n",
       "Sidewalk Repair Issue                       4319\n",
       "Dead Animal                                 4120\n",
       "Pavement Maintenance                        3690\n",
       "ROW Maintenance                             3554\n",
       "Stormwater Code Enforcement                 3445\n",
       "Traffic Signal Timing                       3278\n",
       "Trash/Recycling Collection                  2487\n",
       "Waste on Private Property                   2274\n",
       "Street Sweeping                             2199\n",
       "Traffic Engineering                         2192\n",
       "Right-of-Way Code Enforcement               2145\n",
       "Stormwater                                  1974\n",
       "Street Flooded                              1308\n",
       "Development Services - Code Enforcement     1266\n",
       "Weed Cleanup                                 895\n",
       "COVID-19                                     615\n",
       "Oversized Vehicle                            191\n",
       "Homeless Outreach                              3\n",
       "Name: service_name, dtype: int64"
      ]
     },
     "execution_count": 1244,
     "metadata": {},
     "output_type": "execute_result"
    }
   ],
   "source": [
    "requests_21['service_name'].value_counts()"
   ]
  },
  {
   "cell_type": "code",
   "execution_count": 1245,
   "id": "f9abb573-7fdf-43fc-8946-0e212be2d0fd",
   "metadata": {
    "tags": []
   },
   "outputs": [],
   "source": [
    "service_name_details_21 = requests_21['service_name_detail'].value_counts()"
   ]
  },
  {
   "cell_type": "code",
   "execution_count": 1246,
   "id": "6925ab4a-0389-4655-9f45-56877f8ba26c",
   "metadata": {},
   "outputs": [],
   "source": [
    "common_service_name_details_21 = service_name_details_21.loc[lambda x : x != 1]"
   ]
  },
  {
   "cell_type": "code",
   "execution_count": 1247,
   "id": "51541c57-5657-45dd-b67b-fae995431812",
   "metadata": {},
   "outputs": [
    {
     "data": {
      "text/plain": [
       " TRAFFIC SIGNAL COORDINATION                3\n",
       " TRAFFIC SAFETY GUARD RAIL REVIEW           3\n",
       "BUS PAD INSTALLATION/MAINTENANCE CONTRAC    3\n",
       " TEO WO PAINT CURB - NEW                    3\n",
       "Light Out                                   3\n",
       "DEFINE SCOPE PCC MJR REHAB CONTRACT         3\n",
       "Major Contamination in Recycle Container    3\n",
       "CROSS GUTTER INSTALLATION/MAINTENANCE       3\n",
       "Uncovered Container                         3\n",
       " TRAFFIC SAFETY RADAR SPEED SURVEY          3\n",
       "Major Contamination in Refuse Container     3\n",
       "Name: service_name_detail, dtype: int64"
      ]
     },
     "execution_count": 1247,
     "metadata": {},
     "output_type": "execute_result"
    }
   ],
   "source": [
    "common_service_name_details_21.loc[lambda x : x == 3]"
   ]
  },
  {
   "cell_type": "code",
   "execution_count": 1248,
   "id": "184ee850-156c-49ad-881a-cc7648902590",
   "metadata": {
    "tags": []
   },
   "outputs": [
    {
     "data": {
      "text/plain": [
       "ESD Complaint/Report            148485\n",
       "TSW                             115657\n",
       "Parking                          52814\n",
       "Neighborhood Policing            31800\n",
       "Storm Water Code Enforcement      3552\n",
       "Traffic Engineering               2755\n",
       "TSW ROW                           2146\n",
       "DSD                               1266\n",
       "Special Situation                  615\n",
       "Name: case_record_type, dtype: int64"
      ]
     },
     "execution_count": 1248,
     "metadata": {},
     "output_type": "execute_result"
    }
   ],
   "source": [
    "requests_21['case_record_type'].value_counts()"
   ]
  },
  {
   "cell_type": "markdown",
   "id": "0da1dab3-c139-4439-88e7-6d0191c70053",
   "metadata": {},
   "source": [
    "#### 0: service_request_id column\n",
    "- no nulls\n",
    "- int64\n",
    "- all unique"
   ]
  },
  {
   "cell_type": "code",
   "execution_count": 1249,
   "id": "5f609072-8be3-40e2-9d57-7d406eccc11c",
   "metadata": {},
   "outputs": [
    {
     "data": {
      "text/plain": [
       "True"
      ]
     },
     "execution_count": 1249,
     "metadata": {},
     "output_type": "execute_result"
    }
   ],
   "source": [
    "# check if 'service_request_id' column contains unique values\n",
    "len(requests_21['service_request_id'].unique()) == len(requests_21)"
   ]
  },
  {
   "cell_type": "markdown",
   "id": "165072d2-9e56-4adf-9b6f-56d3edbcb44b",
   "metadata": {},
   "source": [
    "#### 1: service_request_parent_id\n",
    "- indicates duplicate requests\n",
    "- ONLY kept null values"
   ]
  },
  {
   "cell_type": "code",
   "execution_count": 1250,
   "id": "e30abba1-8c19-4df4-a397-dd6c2780e9f5",
   "metadata": {},
   "outputs": [
    {
     "name": "stdout",
     "output_type": "stream",
     "text": [
      "number unique values: 23827\n",
      "number all values: 38790\n"
     ]
    }
   ],
   "source": [
    "print(\"number unique values:\", len(requests_21[requests_21[['service_request_parent_id']].notnull().all(1)]['service_request_parent_id'].unique()))\n",
    "print(\"number all values:\", len(requests_21[requests_21[['service_request_parent_id']].notnull().all(1)]['service_request_parent_id']))"
   ]
  },
  {
   "cell_type": "code",
   "execution_count": 1251,
   "id": "5b40817f-a482-40a0-b43b-3493e629a61e",
   "metadata": {},
   "outputs": [
    {
     "data": {
      "text/plain": [
       "3490150.0    54\n",
       "3307021.0    47\n",
       "3563597.0    37\n",
       "3254256.0    30\n",
       "3405317.0    28\n",
       "             ..\n",
       "3358784.0     2\n",
       "3302213.0     2\n",
       "3165462.0     2\n",
       "3341282.0     2\n",
       "3017238.0     2\n",
       "Name: service_request_parent_id, Length: 7136, dtype: int64"
      ]
     },
     "execution_count": 1251,
     "metadata": {},
     "output_type": "execute_result"
    }
   ],
   "source": [
    "requests_21[requests_21[['service_request_parent_id']].notnull().all(1)]['service_request_parent_id'].value_counts().loc[lambda x : x != 1]"
   ]
  },
  {
   "cell_type": "code",
   "execution_count": 1252,
   "id": "64c2d229-0d7a-4c4b-9f4a-64c591ef6c9e",
   "metadata": {
    "tags": []
   },
   "outputs": [],
   "source": [
    "requests_21['service_request_parent_id'].fillna(0, inplace = True)"
   ]
  },
  {
   "cell_type": "code",
   "execution_count": 1253,
   "id": "75b36958-d700-47c0-a50a-a4d62c45ced1",
   "metadata": {},
   "outputs": [],
   "source": [
    "requests_21 = requests_21[requests_21['service_request_parent_id'] == 0]"
   ]
  },
  {
   "cell_type": "code",
   "execution_count": 1254,
   "id": "b658f12f-718b-4db4-8765-6212bf5b38ff",
   "metadata": {},
   "outputs": [],
   "source": [
    "#drop service_request_parent_id, no longer contains valuable info"
   ]
  },
  {
   "cell_type": "code",
   "execution_count": 1255,
   "id": "7058715d-b090-49ae-b1a4-e3f1651ed07c",
   "metadata": {},
   "outputs": [],
   "source": [
    "requests_21.drop(labels='service_request_parent_id', axis=1, inplace=True)"
   ]
  },
  {
   "cell_type": "markdown",
   "id": "d04b7025-f2e5-4984-9350-694b2fdec0c1",
   "metadata": {},
   "source": [
    "#### 2: sap_notification_number\n",
    "- mostly null values\n",
    "- mostly unique"
   ]
  },
  {
   "cell_type": "code",
   "execution_count": 1256,
   "id": "b0843c02-614f-49a4-84a7-0e58a2d13fe3",
   "metadata": {},
   "outputs": [
    {
     "data": {
      "text/plain": [
       "4.030046e+10    2\n",
       "4.030038e+10    2\n",
       "4.030000e+10    1\n",
       "4.030046e+10    1\n",
       "4.030046e+10    1\n",
       "               ..\n",
       "4.030039e+10    1\n",
       "4.030039e+10    1\n",
       "4.030039e+10    1\n",
       "4.030039e+10    1\n",
       "4.030000e+10    1\n",
       "Name: sap_notification_number, Length: 46556, dtype: int64"
      ]
     },
     "execution_count": 1256,
     "metadata": {},
     "output_type": "execute_result"
    }
   ],
   "source": [
    "requests_21['sap_notification_number'].value_counts()"
   ]
  },
  {
   "cell_type": "code",
   "execution_count": 1257,
   "id": "27c604b3-0621-47fc-b4ae-1e8069ae7df0",
   "metadata": {},
   "outputs": [],
   "source": [
    "#drop this column\n",
    "requests_21.drop(labels = 'sap_notification_number', axis=1, inplace=True)"
   ]
  },
  {
   "cell_type": "markdown",
   "id": "2fd7d7a7-ddf5-4aa0-add1-e231aa69f66e",
   "metadata": {},
   "source": [
    "#### 3: date_requested\n",
    "- no null values\n",
    "- possibly keep month only?"
   ]
  },
  {
   "cell_type": "code",
   "execution_count": 1258,
   "id": "5b9ccfcc-7541-4b42-8b2a-3290c44b441a",
   "metadata": {},
   "outputs": [],
   "source": [
    "# create vectorized strptime function to use in pandas\n",
    "vectorized_strptime = np.vectorize(datetime.strptime)"
   ]
  },
  {
   "cell_type": "code",
   "execution_count": 1259,
   "id": "cb37ca1f-76ba-4209-a623-9f7d615583bd",
   "metadata": {},
   "outputs": [],
   "source": [
    "# apply vectorized strptime function to df\n",
    "requests_21['clean_date_requested'] = vectorized_strptime(requests_21['date_requested'], '%Y-%m-%dT%H:%M:00')"
   ]
  },
  {
   "cell_type": "code",
   "execution_count": 1260,
   "id": "2476e2f5-69fe-4d09-bb02-83fe50097ca5",
   "metadata": {},
   "outputs": [
    {
     "data": {
      "text/plain": [
       "0        2016-08-17 16:40:00\n",
       "2        2016-08-18 04:17:00\n",
       "3        2016-08-18 09:23:00\n",
       "4        2016-08-21 12:19:00\n",
       "5        2016-08-22 10:10:00\n",
       "                 ...        \n",
       "359085   2016-08-10 16:41:00\n",
       "359086   2016-08-11 14:10:00\n",
       "359087   2016-08-15 02:50:00\n",
       "359088   2016-08-15 17:18:00\n",
       "359089   2016-08-16 17:15:00\n",
       "Name: clean_date_requested, Length: 320300, dtype: datetime64[ns]"
      ]
     },
     "execution_count": 1260,
     "metadata": {},
     "output_type": "execute_result"
    }
   ],
   "source": [
    "requests_21['clean_date_requested']"
   ]
  },
  {
   "cell_type": "code",
   "execution_count": 1261,
   "id": "b00a4d5d-b2e3-48e5-98ce-d958a045eabd",
   "metadata": {},
   "outputs": [],
   "source": [
    "#drop original date_requested column\n",
    "requests_21.drop(labels='date_requested', axis=1, inplace=True)"
   ]
  },
  {
   "cell_type": "code",
   "execution_count": 1262,
   "id": "b5c0b8ad-6320-4435-a587-674aa9b19ec7",
   "metadata": {},
   "outputs": [
    {
     "data": {
      "text/plain": [
       "Index(['service_request_id', 'case_age_days', 'case_record_type',\n",
       "       'service_name', 'service_name_detail', 'date_closed', 'status', 'lat',\n",
       "       'lng', 'street_address', 'zipcode', 'council_district',\n",
       "       'comm_plan_code', 'comm_plan_name', 'park_name', 'case_origin',\n",
       "       'referred', 'iamfloc', 'floc', 'public_description',\n",
       "       'clean_date_requested'],\n",
       "      dtype='object')"
      ]
     },
     "execution_count": 1262,
     "metadata": {},
     "output_type": "execute_result"
    }
   ],
   "source": [
    "requests_21.columns"
   ]
  },
  {
   "cell_type": "code",
   "execution_count": 1263,
   "id": "f05da425-1af0-4e46-b16d-7e8d0030e187",
   "metadata": {},
   "outputs": [],
   "source": [
    "requests_21.columns = ['service_request_id', 'case_age_days',\n",
    "       'case_record_type', 'service_name', 'service_name_detail',\n",
    "       'date_closed', 'status', 'lat', 'lng', 'street_address', 'zipcode',\n",
    "       'council_district', 'comm_plan_code', 'comm_plan_name', 'park_name',\n",
    "       'case_origin', 'referred', 'iamfloc', 'floc', 'public_description',\n",
    "       'date_requested']"
   ]
  },
  {
   "cell_type": "code",
   "execution_count": 1264,
   "id": "72e29666-5f29-4137-af8a-b1c81f0c3699",
   "metadata": {},
   "outputs": [],
   "source": [
    "requests_21 = requests_21[['service_request_id', 'date_requested', 'case_age_days',\n",
    "       'case_record_type', 'service_name', 'service_name_detail',\n",
    "       'date_closed', 'status', 'lat', 'lng', 'street_address', 'zipcode',\n",
    "       'council_district', 'comm_plan_code', 'comm_plan_name', 'park_name',\n",
    "       'case_origin', 'referred', 'iamfloc', 'floc', 'public_description',\n",
    "       ]]"
   ]
  },
  {
   "cell_type": "code",
   "execution_count": 1265,
   "id": "ee3d080f-2f76-4841-943e-f84d061edf6e",
   "metadata": {},
   "outputs": [
    {
     "data": {
      "text/html": [
       "<div>\n",
       "<style scoped>\n",
       "    .dataframe tbody tr th:only-of-type {\n",
       "        vertical-align: middle;\n",
       "    }\n",
       "\n",
       "    .dataframe tbody tr th {\n",
       "        vertical-align: top;\n",
       "    }\n",
       "\n",
       "    .dataframe thead th {\n",
       "        text-align: right;\n",
       "    }\n",
       "</style>\n",
       "<table border=\"1\" class=\"dataframe\">\n",
       "  <thead>\n",
       "    <tr style=\"text-align: right;\">\n",
       "      <th></th>\n",
       "      <th>service_request_id</th>\n",
       "      <th>date_requested</th>\n",
       "      <th>case_age_days</th>\n",
       "      <th>case_record_type</th>\n",
       "      <th>service_name</th>\n",
       "      <th>service_name_detail</th>\n",
       "      <th>date_closed</th>\n",
       "      <th>status</th>\n",
       "      <th>lat</th>\n",
       "      <th>lng</th>\n",
       "      <th>...</th>\n",
       "      <th>zipcode</th>\n",
       "      <th>council_district</th>\n",
       "      <th>comm_plan_code</th>\n",
       "      <th>comm_plan_name</th>\n",
       "      <th>park_name</th>\n",
       "      <th>case_origin</th>\n",
       "      <th>referred</th>\n",
       "      <th>iamfloc</th>\n",
       "      <th>floc</th>\n",
       "      <th>public_description</th>\n",
       "    </tr>\n",
       "  </thead>\n",
       "  <tbody>\n",
       "    <tr>\n",
       "      <th>0</th>\n",
       "      <td>100123</td>\n",
       "      <td>2016-08-17 16:40:00</td>\n",
       "      <td>1654.0</td>\n",
       "      <td>TSW</td>\n",
       "      <td>Pavement Maintenance</td>\n",
       "      <td>CONCRETE PAVEMENT REPAIR ISSUE</td>\n",
       "      <td>2021-02-26</td>\n",
       "      <td>Closed</td>\n",
       "      <td>33.046348</td>\n",
       "      <td>-117.050223</td>\n",
       "      <td>...</td>\n",
       "      <td>NaN</td>\n",
       "      <td>5.0</td>\n",
       "      <td>31.0</td>\n",
       "      <td>Rancho Bernardo</td>\n",
       "      <td>NaN</td>\n",
       "      <td>Web</td>\n",
       "      <td>NaN</td>\n",
       "      <td>SS-020515-PV1</td>\n",
       "      <td>SS-020515</td>\n",
       "      <td>We have a cement street it is buckling and one...</td>\n",
       "    </tr>\n",
       "    <tr>\n",
       "      <th>2</th>\n",
       "      <td>100194</td>\n",
       "      <td>2016-08-18 04:17:00</td>\n",
       "      <td>1652.0</td>\n",
       "      <td>TSW</td>\n",
       "      <td>Pavement Maintenance</td>\n",
       "      <td>DAMAGED CURB</td>\n",
       "      <td>2021-02-25</td>\n",
       "      <td>Closed</td>\n",
       "      <td>32.796554</td>\n",
       "      <td>-117.197062</td>\n",
       "      <td>...</td>\n",
       "      <td>NaN</td>\n",
       "      <td>2.0</td>\n",
       "      <td>6.0</td>\n",
       "      <td>Clairemont Mesa</td>\n",
       "      <td>NaN</td>\n",
       "      <td>Web</td>\n",
       "      <td>NaN</td>\n",
       "      <td>SS-014744-PV1</td>\n",
       "      <td>SS-014744</td>\n",
       "      <td>curb cracked, please fill\\ngutter joint depres...</td>\n",
       "    </tr>\n",
       "  </tbody>\n",
       "</table>\n",
       "<p>2 rows × 21 columns</p>\n",
       "</div>"
      ],
      "text/plain": [
       "   service_request_id      date_requested  case_age_days case_record_type  \\\n",
       "0              100123 2016-08-17 16:40:00         1654.0              TSW   \n",
       "2              100194 2016-08-18 04:17:00         1652.0              TSW   \n",
       "\n",
       "           service_name             service_name_detail date_closed  status  \\\n",
       "0  Pavement Maintenance  CONCRETE PAVEMENT REPAIR ISSUE  2021-02-26  Closed   \n",
       "2  Pavement Maintenance                    DAMAGED CURB  2021-02-25  Closed   \n",
       "\n",
       "         lat         lng  ... zipcode council_district  comm_plan_code  \\\n",
       "0  33.046348 -117.050223  ...     NaN              5.0            31.0   \n",
       "2  32.796554 -117.197062  ...     NaN              2.0             6.0   \n",
       "\n",
       "    comm_plan_name park_name case_origin referred        iamfloc       floc  \\\n",
       "0  Rancho Bernardo       NaN         Web      NaN  SS-020515-PV1  SS-020515   \n",
       "2  Clairemont Mesa       NaN         Web      NaN  SS-014744-PV1  SS-014744   \n",
       "\n",
       "                                  public_description  \n",
       "0  We have a cement street it is buckling and one...  \n",
       "2  curb cracked, please fill\\ngutter joint depres...  \n",
       "\n",
       "[2 rows x 21 columns]"
      ]
     },
     "execution_count": 1265,
     "metadata": {},
     "output_type": "execute_result"
    }
   ],
   "source": [
    "requests_21.head(2)"
   ]
  },
  {
   "cell_type": "markdown",
   "id": "1cc00a43-04ee-44c7-88c3-ef5959c59200",
   "metadata": {},
   "source": [
    "#### 4: case_age_days\n",
    "- this column is key and will be the 'y' column in the ML algorithm\n",
    "- float64\n",
    "- drop all with null values (there are only 7)"
   ]
  },
  {
   "cell_type": "code",
   "execution_count": 1266,
   "id": "e3b59198-9992-4fa8-b3fd-1f17e782bd01",
   "metadata": {},
   "outputs": [],
   "source": [
    "#drop null values\n",
    "requests_21 = requests_21.dropna(subset=['case_age_days'])"
   ]
  },
  {
   "cell_type": "code",
   "execution_count": 1267,
   "id": "495606fb-48b3-45ab-b1f4-33cac1612fa7",
   "metadata": {},
   "outputs": [
    {
     "data": {
      "text/plain": [
       "False"
      ]
     },
     "execution_count": 1267,
     "metadata": {},
     "output_type": "execute_result"
    }
   ],
   "source": [
    "requests_21['case_age_days'].isna().any()"
   ]
  },
  {
   "cell_type": "code",
   "execution_count": 1268,
   "id": "936a3991-3834-4660-9b10-c165bb0f68ce",
   "metadata": {},
   "outputs": [
    {
     "data": {
      "text/plain": [
       "0.0       108974\n",
       "1.0        30152\n",
       "2.0        14714\n",
       "3.0        11552\n",
       "4.0         8622\n",
       "           ...  \n",
       "1571.0         1\n",
       "1570.0         1\n",
       "1666.0         1\n",
       "1662.0         1\n",
       "1844.0         1\n",
       "Name: case_age_days, Length: 1634, dtype: int64"
      ]
     },
     "execution_count": 1268,
     "metadata": {},
     "output_type": "execute_result"
    }
   ],
   "source": [
    "requests_21['case_age_days'].value_counts()"
   ]
  },
  {
   "cell_type": "markdown",
   "id": "c75fec1f-1965-4e7b-a74e-dd41b0196cd2",
   "metadata": {},
   "source": [
    "#### 5: case_record_type"
   ]
  },
  {
   "cell_type": "code",
   "execution_count": 1269,
   "id": "c416c651-1bfe-441d-ad75-63c44e2d6c7e",
   "metadata": {},
   "outputs": [
    {
     "data": {
      "text/plain": [
       "ESD Complaint/Report            142767\n",
       "TSW                              97803\n",
       "Parking                          45031\n",
       "Neighborhood Policing            25491\n",
       "Storm Water Code Enforcement      3191\n",
       "Traffic Engineering               2673\n",
       "TSW ROW                           1682\n",
       "DSD                               1040\n",
       "Special Situation                  615\n",
       "Name: case_record_type, dtype: int64"
      ]
     },
     "execution_count": 1269,
     "metadata": {},
     "output_type": "execute_result"
    }
   ],
   "source": [
    "requests_21['case_record_type'].value_counts()"
   ]
  },
  {
   "cell_type": "code",
   "execution_count": 1270,
   "id": "e8048c8b-9def-4f6e-8feb-7c23329b3997",
   "metadata": {},
   "outputs": [],
   "source": [
    "requests_21['case_record_type'] = np.where(requests_21['case_record_type'] == 'TSW', \"Transportation\", requests_21['case_record_type'])\n",
    "requests_21['case_record_type'] = np.where(requests_21['case_record_type'] == 'TSW ROW', \"Transportation - Right-of-Way\", requests_21['case_record_type'])\n",
    "requests_21['case_record_type'] = np.where(requests_21['case_record_type'] == 'ESD Complaint/Report', \"Environmental Services Department\", requests_21['case_record_type'])\n",
    "requests_21['case_record_type'] = np.where(requests_21['case_record_type'] == 'DSD', \"Development Services\", requests_21['case_record_type'])"
   ]
  },
  {
   "cell_type": "code",
   "execution_count": 1271,
   "id": "1e5b7bd8-2b1d-412d-b18d-10cf47276997",
   "metadata": {},
   "outputs": [
    {
     "data": {
      "text/plain": [
       "Environmental Services Department    142767\n",
       "Transportation                        97803\n",
       "Parking                               45031\n",
       "Neighborhood Policing                 25491\n",
       "Storm Water Code Enforcement           3191\n",
       "Traffic Engineering                    2673\n",
       "Transportation - Right-of-Way          1682\n",
       "Development Services                   1040\n",
       "Special Situation                       615\n",
       "Name: case_record_type, dtype: int64"
      ]
     },
     "execution_count": 1271,
     "metadata": {},
     "output_type": "execute_result"
    }
   ],
   "source": [
    "requests_21['case_record_type'].value_counts()"
   ]
  },
  {
   "cell_type": "code",
   "execution_count": 1272,
   "id": "5f099ad3-dc5d-468f-8561-0487afccc65a",
   "metadata": {},
   "outputs": [
    {
     "data": {
      "text/plain": [
       "Encampment           25297\n",
       "Oversized Vehicle      191\n",
       "Other                    3\n",
       "Name: service_name, dtype: int64"
      ]
     },
     "execution_count": 1272,
     "metadata": {},
     "output_type": "execute_result"
    }
   ],
   "source": [
    "requests_21[requests_21.case_record_type == 'Neighborhood Policing']['service_name'].value_counts()"
   ]
  },
  {
   "cell_type": "markdown",
   "id": "e2ecbcc5-6478-48f9-be3b-7ec4e95b774a",
   "metadata": {},
   "source": [
    "#### 6: service_name"
   ]
  },
  {
   "cell_type": "code",
   "execution_count": 1273,
   "id": "8b340260-2eaa-4f46-895b-df79f388797a",
   "metadata": {},
   "outputs": [
    {
     "data": {
      "text/plain": [
       "Illegal Dumping                            54943\n",
       "Parking                                    44730\n",
       "Missed Collection                          43231\n",
       "Graffiti                                   33639\n",
       "Encampment                                 29106\n",
       "Shared Mobility Device                     28051\n",
       "Other                                       9500\n",
       "Pothole                                     9464\n",
       "Tree Maintenance                            7918\n",
       "Traffic Signal Issue                        5450\n",
       "Street Light Maintenance                    5376\n",
       "Graffiti - Code Enforcement                 5073\n",
       "Environmental Services Code Compliance      4713\n",
       "Dead Animal                                 3843\n",
       "Traffic Sign Maintenance                    3637\n",
       "Sidewalk Repair Issue                       3520\n",
       "Stormwater Code Enforcement                 3095\n",
       "ROW Maintenance                             3077\n",
       "Traffic Signal Timing                       3052\n",
       "Pavement Maintenance                        2964\n",
       "Trash/Recycling Collection                  2319\n",
       "Traffic Engineering                         2152\n",
       "Waste on Private Property                   2129\n",
       "Street Sweeping                             1960\n",
       "Stormwater                                  1789\n",
       "Right-of-Way Code Enforcement               1681\n",
       "Street Flooded                              1227\n",
       "Development Services - Code Enforcement     1040\n",
       "Weed Cleanup                                 807\n",
       "COVID-19                                     615\n",
       "Oversized Vehicle                            191\n",
       "Homeless Outreach                              1\n",
       "Name: service_name, dtype: int64"
      ]
     },
     "execution_count": 1273,
     "metadata": {},
     "output_type": "execute_result"
    }
   ],
   "source": [
    "requests_21['service_name'].value_counts()"
   ]
  },
  {
   "cell_type": "code",
   "execution_count": 1274,
   "id": "12c3b360-d559-4060-95d5-358f513523a2",
   "metadata": {},
   "outputs": [
    {
     "data": {
      "text/plain": [
       "0"
      ]
     },
     "execution_count": 1274,
     "metadata": {},
     "output_type": "execute_result"
    }
   ],
   "source": [
    "requests_21['service_name'].isna().sum()"
   ]
  },
  {
   "cell_type": "code",
   "execution_count": 1275,
   "id": "56723063-ee11-4e94-b2e0-0b76d928ad08",
   "metadata": {},
   "outputs": [],
   "source": [
    "#reclassify the one 'homeless outreach' to 'Encampment' category"
   ]
  },
  {
   "cell_type": "code",
   "execution_count": 1276,
   "id": "5ec857e1-2d88-4bc8-b7e1-593c1a07dc4e",
   "metadata": {},
   "outputs": [],
   "source": [
    "requests_21['service_name'] = np.where(requests_21['service_name'] == 'Homeless Outreach', 'Encampment', requests_21['service_name'])"
   ]
  },
  {
   "cell_type": "code",
   "execution_count": 1277,
   "id": "f9583185-233d-47c8-91ca-4f6bf44dc6d0",
   "metadata": {},
   "outputs": [
    {
     "data": {
      "text/plain": [
       "Illegal Dumping                            54943\n",
       "Parking                                    44730\n",
       "Missed Collection                          43231\n",
       "Graffiti                                   33639\n",
       "Encampment                                 29107\n",
       "Shared Mobility Device                     28051\n",
       "Other                                       9500\n",
       "Pothole                                     9464\n",
       "Tree Maintenance                            7918\n",
       "Traffic Signal Issue                        5450\n",
       "Street Light Maintenance                    5376\n",
       "Graffiti - Code Enforcement                 5073\n",
       "Environmental Services Code Compliance      4713\n",
       "Dead Animal                                 3843\n",
       "Traffic Sign Maintenance                    3637\n",
       "Sidewalk Repair Issue                       3520\n",
       "Stormwater Code Enforcement                 3095\n",
       "ROW Maintenance                             3077\n",
       "Traffic Signal Timing                       3052\n",
       "Pavement Maintenance                        2964\n",
       "Trash/Recycling Collection                  2319\n",
       "Traffic Engineering                         2152\n",
       "Waste on Private Property                   2129\n",
       "Street Sweeping                             1960\n",
       "Stormwater                                  1789\n",
       "Right-of-Way Code Enforcement               1681\n",
       "Street Flooded                              1227\n",
       "Development Services - Code Enforcement     1040\n",
       "Weed Cleanup                                 807\n",
       "COVID-19                                     615\n",
       "Oversized Vehicle                            191\n",
       "Name: service_name, dtype: int64"
      ]
     },
     "execution_count": 1277,
     "metadata": {},
     "output_type": "execute_result"
    }
   ],
   "source": [
    "requests_21['service_name'].value_counts()"
   ]
  },
  {
   "cell_type": "markdown",
   "id": "9e892c9d-1dea-409f-957e-4839e4e024cc",
   "metadata": {},
   "source": [
    "#### 7: service_name_detail\n",
    "- will one-hot encode all those with >500"
   ]
  },
  {
   "cell_type": "code",
   "execution_count": 1278,
   "id": "4043da42-bc2a-4d59-8980-4113d229628c",
   "metadata": {},
   "outputs": [],
   "source": [
    "requests_21['service_name_detail'] = requests_21['service_name_detail'].astype(str)"
   ]
  },
  {
   "cell_type": "code",
   "execution_count": 1279,
   "id": "2b86023d-da86-48ec-8366-68c09abe83b9",
   "metadata": {},
   "outputs": [
    {
     "data": {
      "text/plain": [
       "150"
      ]
     },
     "execution_count": 1279,
     "metadata": {},
     "output_type": "execute_result"
    }
   ],
   "source": [
    "#Find number of unique values\n",
    "len(np.unique(requests_21['service_name_detail']))"
   ]
  },
  {
   "cell_type": "code",
   "execution_count": 1280,
   "id": "976eee70-384a-4565-978e-aff28a662950",
   "metadata": {},
   "outputs": [
    {
     "data": {
      "text/plain": [
       "nan                                                95436\n",
       "Illegal Dumping                                    53423\n",
       "Missed Collection                                  39686\n",
       "Graffiti Removal                                   33637\n",
       "72 Hour Violation                                  28582\n",
       "                                                   ...  \n",
       " TEO WO GUARDRAILS/BARRIER METAL/WOODEN                1\n",
       "SIDEWALK/CURB&GUTTER/CONTRACT                          1\n",
       "TRAFFIC SIGNAL BIKE MAINT-SIGNAL LOOP DETECTION        1\n",
       " CIP FINANCE PLAN UPDATE                               1\n",
       "MILL & PAVE TRENCH REPAIRS                             1\n",
       "Name: service_name_detail, Length: 150, dtype: int64"
      ]
     },
     "execution_count": 1280,
     "metadata": {},
     "output_type": "execute_result"
    }
   ],
   "source": [
    "requests_21['service_name_detail'].value_counts()"
   ]
  },
  {
   "cell_type": "code",
   "execution_count": 1281,
   "id": "0250a29b-3c0f-400b-b1b1-83fdcc56c92f",
   "metadata": {},
   "outputs": [],
   "source": [
    "# Change the strings that say 'nan' to null values\n",
    "requests_21['service_name_detail'] = np.where(requests_21['service_name_detail'] == 'nan', None, requests_21['service_name_detail'])"
   ]
  },
  {
   "cell_type": "code",
   "execution_count": 1282,
   "id": "c6f64fc5-e95e-42b2-99fd-912a0a6dcf51",
   "metadata": {},
   "outputs": [
    {
     "data": {
      "text/plain": [
       "Illegal Dumping                           53423\n",
       "Missed Collection                         39686\n",
       "Graffiti Removal                          33637\n",
       "72 Hour Violation                         28582\n",
       "Parking Zone Violation                    15411\n",
       "Graffiti Removal - Commercial              5073\n",
       "STREET LIGHT OUT                           3560\n",
       "Potential Missed Collection                3545\n",
       "CONCRETE SIDEWALK REPAIR ISSUE             2871\n",
       "LIGHTS OUT                                 2644\n",
       "SWPP - Storm Water Polution Prevention     1970\n",
       "EVALUATE TREE FOR REMOVAL                  1859\n",
       "LIGHTS ON FLASH                            1855\n",
       "POLE KNOCK OVER/DAMAGE                     1846\n",
       "LIMB FALLEN OR HANGING                     1715\n",
       "Container Left Out                         1706\n",
       "Vegetation Encroachment                    1639\n",
       "Encroachment                               1591\n",
       "Litter                                     1529\n",
       "DRAIN INLET                                1301\n",
       "Name: service_name_detail, dtype: int64"
      ]
     },
     "execution_count": 1282,
     "metadata": {},
     "output_type": "execute_result"
    }
   ],
   "source": [
    "#confirm that strings 'nan' no longer exist\n",
    "requests_21['service_name_detail'].value_counts().head(20)"
   ]
  },
  {
   "cell_type": "code",
   "execution_count": 1283,
   "id": "ab716294-00dc-4629-a82f-7130603a215a",
   "metadata": {},
   "outputs": [
    {
     "data": {
      "text/plain": [
       "Stormwater Code Enforcement    1970\n",
       "Name: service_name, dtype: int64"
      ]
     },
     "execution_count": 1283,
     "metadata": {},
     "output_type": "execute_result"
    }
   ],
   "source": [
    "requests_21[requests_21['service_name_detail'] == 'SWPP - Storm Water Polution Prevention']['service_name'].value_counts()"
   ]
  },
  {
   "cell_type": "markdown",
   "id": "c8b4e042-e7f2-451b-b662-6917a9c6e302",
   "metadata": {},
   "source": [
    "#### 8: date closed"
   ]
  },
  {
   "cell_type": "code",
   "execution_count": 1284,
   "id": "0cc9706d-585a-402b-8e95-ab8e15131d0f",
   "metadata": {},
   "outputs": [
    {
     "data": {
      "text/plain": [
       "2021-06-17    5831\n",
       "2021-08-12    2964\n",
       "2021-07-28    2714\n",
       "2021-08-04    2225\n",
       "2021-02-24    2024\n",
       "              ... \n",
       "2021-12-05      80\n",
       "2021-12-26      74\n",
       "2021-11-14      65\n",
       "2021-11-07      65\n",
       "2021-12-25      27\n",
       "Name: date_closed, Length: 365, dtype: int64"
      ]
     },
     "execution_count": 1284,
     "metadata": {},
     "output_type": "execute_result"
    }
   ],
   "source": [
    "requests_21['date_closed'].value_counts()"
   ]
  },
  {
   "cell_type": "code",
   "execution_count": 1285,
   "id": "996f1e48-d6c2-49b2-80e0-e4787682ebdf",
   "metadata": {},
   "outputs": [],
   "source": [
    "# apply vectorized strptime function to df\n",
    "requests_21['clean_date_closed'] = vectorized_strptime(requests_21['date_closed'], '%Y-%m-%d')"
   ]
  },
  {
   "cell_type": "code",
   "execution_count": 1286,
   "id": "ce1bd899-5c2a-401e-afdc-a230527ea5bd",
   "metadata": {},
   "outputs": [
    {
     "data": {
      "text/plain": [
       "0        2021-02-26\n",
       "2        2021-02-25\n",
       "3        2021-06-04\n",
       "4        2021-09-02\n",
       "5        2021-09-21\n",
       "            ...    \n",
       "359085   2021-10-21\n",
       "359086   2021-09-20\n",
       "359087   2021-09-17\n",
       "359088   2021-10-22\n",
       "359089   2021-09-03\n",
       "Name: clean_date_closed, Length: 320293, dtype: datetime64[ns]"
      ]
     },
     "execution_count": 1286,
     "metadata": {},
     "output_type": "execute_result"
    }
   ],
   "source": [
    "requests_21['clean_date_closed']"
   ]
  },
  {
   "cell_type": "code",
   "execution_count": 1287,
   "id": "67f0e87d-7ff4-40d9-bd1e-ced1f7a6a674",
   "metadata": {},
   "outputs": [],
   "source": [
    "#drop original date_requested column\n",
    "requests_21.drop(labels='date_closed', axis=1, inplace=True)"
   ]
  },
  {
   "cell_type": "code",
   "execution_count": 1288,
   "id": "b0a96832-1379-46a0-b4d8-f7cd29c0a46f",
   "metadata": {},
   "outputs": [
    {
     "data": {
      "text/plain": [
       "Index(['service_request_id', 'date_requested', 'case_age_days',\n",
       "       'case_record_type', 'service_name', 'service_name_detail', 'status',\n",
       "       'lat', 'lng', 'street_address', 'zipcode', 'council_district',\n",
       "       'comm_plan_code', 'comm_plan_name', 'park_name', 'case_origin',\n",
       "       'referred', 'iamfloc', 'floc', 'public_description',\n",
       "       'clean_date_closed'],\n",
       "      dtype='object')"
      ]
     },
     "execution_count": 1288,
     "metadata": {},
     "output_type": "execute_result"
    }
   ],
   "source": [
    "requests_21.columns"
   ]
  },
  {
   "cell_type": "code",
   "execution_count": 1289,
   "id": "0a8bbd81-acd0-421f-ba82-b3985c7c3c86",
   "metadata": {},
   "outputs": [],
   "source": [
    "requests_21.columns = ['service_request_id', 'date_requested', 'case_age_days',\n",
    "       'case_record_type', 'service_name', 'service_name_detail', 'status',\n",
    "       'lat', 'lng', 'street_address', 'zipcode', 'council_district',\n",
    "       'comm_plan_code', 'comm_plan_name', 'park_name', 'case_origin',\n",
    "       'referred', 'iamfloc', 'floc', 'public_description',\n",
    "       'date_closed']"
   ]
  },
  {
   "cell_type": "code",
   "execution_count": 1290,
   "id": "01adc3c6-c4e6-4761-b825-2cc1e827d8c5",
   "metadata": {},
   "outputs": [],
   "source": [
    "requests_21 = requests_21[['service_request_id', 'date_requested', 'case_age_days',\n",
    "       'case_record_type', 'service_name', 'service_name_detail', 'date_closed', 'status',\n",
    "       'lat', 'lng', 'street_address', 'zipcode', 'council_district',\n",
    "       'comm_plan_code', 'comm_plan_name', 'park_name', 'case_origin',\n",
    "       'referred', 'iamfloc', 'floc', 'public_description']]"
   ]
  },
  {
   "cell_type": "code",
   "execution_count": 1291,
   "id": "e0499306-a082-4b68-b0e3-966822d669d0",
   "metadata": {},
   "outputs": [
    {
     "data": {
      "text/html": [
       "<div>\n",
       "<style scoped>\n",
       "    .dataframe tbody tr th:only-of-type {\n",
       "        vertical-align: middle;\n",
       "    }\n",
       "\n",
       "    .dataframe tbody tr th {\n",
       "        vertical-align: top;\n",
       "    }\n",
       "\n",
       "    .dataframe thead th {\n",
       "        text-align: right;\n",
       "    }\n",
       "</style>\n",
       "<table border=\"1\" class=\"dataframe\">\n",
       "  <thead>\n",
       "    <tr style=\"text-align: right;\">\n",
       "      <th></th>\n",
       "      <th>service_request_id</th>\n",
       "      <th>date_requested</th>\n",
       "      <th>case_age_days</th>\n",
       "      <th>case_record_type</th>\n",
       "      <th>service_name</th>\n",
       "      <th>service_name_detail</th>\n",
       "      <th>date_closed</th>\n",
       "      <th>status</th>\n",
       "      <th>lat</th>\n",
       "      <th>lng</th>\n",
       "      <th>...</th>\n",
       "      <th>zipcode</th>\n",
       "      <th>council_district</th>\n",
       "      <th>comm_plan_code</th>\n",
       "      <th>comm_plan_name</th>\n",
       "      <th>park_name</th>\n",
       "      <th>case_origin</th>\n",
       "      <th>referred</th>\n",
       "      <th>iamfloc</th>\n",
       "      <th>floc</th>\n",
       "      <th>public_description</th>\n",
       "    </tr>\n",
       "  </thead>\n",
       "  <tbody>\n",
       "    <tr>\n",
       "      <th>0</th>\n",
       "      <td>100123</td>\n",
       "      <td>2016-08-17 16:40:00</td>\n",
       "      <td>1654.0</td>\n",
       "      <td>Transportation</td>\n",
       "      <td>Pavement Maintenance</td>\n",
       "      <td>CONCRETE PAVEMENT REPAIR ISSUE</td>\n",
       "      <td>2021-02-26</td>\n",
       "      <td>Closed</td>\n",
       "      <td>33.046348</td>\n",
       "      <td>-117.050223</td>\n",
       "      <td>...</td>\n",
       "      <td>NaN</td>\n",
       "      <td>5.0</td>\n",
       "      <td>31.0</td>\n",
       "      <td>Rancho Bernardo</td>\n",
       "      <td>NaN</td>\n",
       "      <td>Web</td>\n",
       "      <td>NaN</td>\n",
       "      <td>SS-020515-PV1</td>\n",
       "      <td>SS-020515</td>\n",
       "      <td>We have a cement street it is buckling and one...</td>\n",
       "    </tr>\n",
       "    <tr>\n",
       "      <th>2</th>\n",
       "      <td>100194</td>\n",
       "      <td>2016-08-18 04:17:00</td>\n",
       "      <td>1652.0</td>\n",
       "      <td>Transportation</td>\n",
       "      <td>Pavement Maintenance</td>\n",
       "      <td>DAMAGED CURB</td>\n",
       "      <td>2021-02-25</td>\n",
       "      <td>Closed</td>\n",
       "      <td>32.796554</td>\n",
       "      <td>-117.197062</td>\n",
       "      <td>...</td>\n",
       "      <td>NaN</td>\n",
       "      <td>2.0</td>\n",
       "      <td>6.0</td>\n",
       "      <td>Clairemont Mesa</td>\n",
       "      <td>NaN</td>\n",
       "      <td>Web</td>\n",
       "      <td>NaN</td>\n",
       "      <td>SS-014744-PV1</td>\n",
       "      <td>SS-014744</td>\n",
       "      <td>curb cracked, please fill\\ngutter joint depres...</td>\n",
       "    </tr>\n",
       "  </tbody>\n",
       "</table>\n",
       "<p>2 rows × 21 columns</p>\n",
       "</div>"
      ],
      "text/plain": [
       "   service_request_id      date_requested  case_age_days case_record_type  \\\n",
       "0              100123 2016-08-17 16:40:00         1654.0   Transportation   \n",
       "2              100194 2016-08-18 04:17:00         1652.0   Transportation   \n",
       "\n",
       "           service_name             service_name_detail date_closed  status  \\\n",
       "0  Pavement Maintenance  CONCRETE PAVEMENT REPAIR ISSUE  2021-02-26  Closed   \n",
       "2  Pavement Maintenance                    DAMAGED CURB  2021-02-25  Closed   \n",
       "\n",
       "         lat         lng  ... zipcode council_district  comm_plan_code  \\\n",
       "0  33.046348 -117.050223  ...     NaN              5.0            31.0   \n",
       "2  32.796554 -117.197062  ...     NaN              2.0             6.0   \n",
       "\n",
       "    comm_plan_name park_name case_origin referred        iamfloc       floc  \\\n",
       "0  Rancho Bernardo       NaN         Web      NaN  SS-020515-PV1  SS-020515   \n",
       "2  Clairemont Mesa       NaN         Web      NaN  SS-014744-PV1  SS-014744   \n",
       "\n",
       "                                  public_description  \n",
       "0  We have a cement street it is buckling and one...  \n",
       "2  curb cracked, please fill\\ngutter joint depres...  \n",
       "\n",
       "[2 rows x 21 columns]"
      ]
     },
     "execution_count": 1291,
     "metadata": {},
     "output_type": "execute_result"
    }
   ],
   "source": [
    "requests_21.head(2)"
   ]
  },
  {
   "cell_type": "code",
   "execution_count": 1292,
   "id": "7fb4ab56-9536-4b6b-9a0f-caa429ceee3b",
   "metadata": {},
   "outputs": [
    {
     "data": {
      "text/plain": [
       "False"
      ]
     },
     "execution_count": 1292,
     "metadata": {},
     "output_type": "execute_result"
    }
   ],
   "source": [
    "requests_21['date_closed'].isna().any()"
   ]
  },
  {
   "cell_type": "code",
   "execution_count": 1293,
   "id": "5d7eaeb1-f0a4-408e-b05b-a3a84d5340be",
   "metadata": {},
   "outputs": [],
   "source": [
    "#drop date closed column for modelling\n",
    "requests_21.drop(labels='date_closed', axis=1, inplace=True)"
   ]
  },
  {
   "cell_type": "markdown",
   "id": "25ab9b2e-8e4d-451c-ae46-b6031ed2a527",
   "metadata": {},
   "source": [
    "#### 9: status"
   ]
  },
  {
   "cell_type": "code",
   "execution_count": 1294,
   "id": "e78686d1-abe2-4256-b9d3-53676e0dcd7b",
   "metadata": {},
   "outputs": [
    {
     "data": {
      "text/plain": [
       "Closed      261722\n",
       "Referred     58571\n",
       "Name: status, dtype: int64"
      ]
     },
     "execution_count": 1294,
     "metadata": {},
     "output_type": "execute_result"
    }
   ],
   "source": [
    "requests_21['status'].value_counts()"
   ]
  },
  {
   "cell_type": "code",
   "execution_count": 1295,
   "id": "a829026c-018d-40e4-bcfe-f78479b4afb4",
   "metadata": {},
   "outputs": [
    {
     "data": {
      "text/plain": [
       "This report has been referred to Sweep at sd@sweepcrew.com                                                  28047\n",
       "This report has been referred to Park and Recreation at askparks@sandiego.gov                                8356\n",
       "This report has been referred to Caltrans San Diego at ct.public.information.d11@dot.ca.gov                  3877\n",
       "This report has been referred to Graffiti ? SDGE Poles and Boxes at aesgraffitihotline4sdge@yahoo.com        2521\n",
       "This report has been referred to Graffiti ? ATT Telephone Booths / Cable Box at graffiti@att.com             2462\n",
       "                                                                                                            ...  \n",
       "This report has been referred to appropriate department or agency at JPQUINN@SANDIEGO.GOV                       1\n",
       "This report has been referred to appropriate department or agency at ssolomon@sandiego.gov                      1\n",
       "This report has been referred to appropriate department or agency at parkingeneforcement@pd.sandiego.gov        1\n",
       "This report has been referred to appropriate department or agency at RElias@sandiego.gov                        1\n",
       "This report has been referred to appropriate department or agency at VRazon@sandiego.gov                        1\n",
       "Name: referred, Length: 373, dtype: int64"
      ]
     },
     "execution_count": 1295,
     "metadata": {},
     "output_type": "execute_result"
    }
   ],
   "source": [
    "requests_21['referred'].value_counts()"
   ]
  },
  {
   "cell_type": "code",
   "execution_count": 1296,
   "id": "729c49d0-9fe7-4da2-af26-5bb973664535",
   "metadata": {},
   "outputs": [],
   "source": [
    "requests_21['referred'] = requests_21['referred'].astype(str)"
   ]
  },
  {
   "cell_type": "code",
   "execution_count": 1297,
   "id": "9a8c6136-7fda-44c2-8407-8188a436b698",
   "metadata": {},
   "outputs": [
    {
     "data": {
      "text/plain": [
       "374"
      ]
     },
     "execution_count": 1297,
     "metadata": {},
     "output_type": "execute_result"
    }
   ],
   "source": [
    "#Find number of unique values\n",
    "len(np.unique(requests_21['referred']))"
   ]
  },
  {
   "cell_type": "code",
   "execution_count": 1298,
   "id": "6ec968cd-d6e4-4f8f-ba27-9edd4a7aec1b",
   "metadata": {},
   "outputs": [],
   "source": [
    "referred_to_sweepers = requests_21[requests_21['referred'] == 'This report has been referred to Sweep at sd@sweepcrew.com']"
   ]
  },
  {
   "cell_type": "code",
   "execution_count": 1299,
   "id": "02d572a8-bc00-43f7-a92f-985bd47c3e82",
   "metadata": {},
   "outputs": [
    {
     "data": {
      "text/plain": [
       "Shared Mobility Device    28047\n",
       "Name: service_name, dtype: int64"
      ]
     },
     "execution_count": 1299,
     "metadata": {},
     "output_type": "execute_result"
    }
   ],
   "source": [
    "referred_to_sweepers['service_name'].value_counts()"
   ]
  },
  {
   "cell_type": "code",
   "execution_count": 1300,
   "id": "492087d1-690c-4e0f-b23e-2ec8ac332389",
   "metadata": {},
   "outputs": [],
   "source": [
    "shared_mobility_device = requests_21[requests_21['service_name'] == 'Shared Mobility Device']"
   ]
  },
  {
   "cell_type": "code",
   "execution_count": 1301,
   "id": "419db74d-2100-4149-8ce1-d8fb4a2805a2",
   "metadata": {},
   "outputs": [
    {
     "data": {
      "text/plain": [
       "25635     0.0\n",
       "25639     0.0\n",
       "25820     0.0\n",
       "26150     0.0\n",
       "26234     0.0\n",
       "         ... \n",
       "358859    0.0\n",
       "358875    0.0\n",
       "358883    0.0\n",
       "358885    0.0\n",
       "358886    0.0\n",
       "Name: case_age_days, Length: 28046, dtype: float64"
      ]
     },
     "execution_count": 1301,
     "metadata": {},
     "output_type": "execute_result"
    }
   ],
   "source": [
    "shared_mobility_device[shared_mobility_device['status']=='Referred']['case_age_days']"
   ]
  },
  {
   "cell_type": "code",
   "execution_count": 1302,
   "id": "6281d7b7-be34-427d-a14e-0d5690dcbb81",
   "metadata": {},
   "outputs": [],
   "source": [
    "requests_21.drop(labels='status', axis=1, inplace=True)"
   ]
  },
  {
   "cell_type": "markdown",
   "id": "f6647d35-ed03-4cb6-9431-e13de6e91a99",
   "metadata": {},
   "source": [
    "#### 10: location Features\n",
    "- include lat/long, street address, zipcode, council district\n",
    "- will only use council district for model"
   ]
  },
  {
   "cell_type": "code",
   "execution_count": 1303,
   "id": "13cf84be-6fd5-44a1-8ab3-8f4ef95a7cb5",
   "metadata": {},
   "outputs": [],
   "source": [
    "requests_21.drop(labels=['lat', 'lng', 'street_address', 'zipcode'], axis=1, inplace=True)"
   ]
  },
  {
   "cell_type": "code",
   "execution_count": 1304,
   "id": "3efd3b6a-32b4-4530-ac0e-b1a19c57f45f",
   "metadata": {},
   "outputs": [
    {
     "data": {
      "text/plain": [
       "3.0    79184\n",
       "9.0    55371\n",
       "2.0    55265\n",
       "1.0    34141\n",
       "8.0    26940\n",
       "4.0    24931\n",
       "7.0    18773\n",
       "6.0    12291\n",
       "5.0    10494\n",
       "Name: council_district, dtype: int64"
      ]
     },
     "execution_count": 1304,
     "metadata": {},
     "output_type": "execute_result"
    }
   ],
   "source": [
    "requests_21['council_district'].value_counts()"
   ]
  },
  {
   "cell_type": "markdown",
   "id": "6856261d-12bf-4a1f-ac7e-11fbe60d43d1",
   "metadata": {},
   "source": [
    "#### 11: comm_plan_code and comm_plan_name"
   ]
  },
  {
   "cell_type": "code",
   "execution_count": 1305,
   "id": "199f8aa3-de48-4635-aa04-0c5181b433ae",
   "metadata": {
    "tags": []
   },
   "outputs": [
    {
     "data": {
      "text/plain": [
       "4.0     30903\n",
       "56.0    28145\n",
       "37.0    20538\n",
       "27.0    19962\n",
       "42.0    17443\n",
       "28.0    16370\n",
       "6.0     15889\n",
       "57.0    11050\n",
       "30.0    10446\n",
       "11.0    10150\n",
       "23.0     9290\n",
       "18.0     8474\n",
       "44.0     7733\n",
       "10.0     7544\n",
       "15.0     6700\n",
       "20.0     6657\n",
       "25.0     6164\n",
       "17.0     6138\n",
       "8.0      6110\n",
       "1.0      5968\n",
       "38.0     5549\n",
       "12.0     5533\n",
       "59.0     4747\n",
       "58.0     4471\n",
       "19.0     4234\n",
       "14.0     4048\n",
       "99.0     3558\n",
       "29.0     3103\n",
       "35.0     3051\n",
       "33.0     3025\n",
       "21.0     2864\n",
       "31.0     2725\n",
       "50.0     2695\n",
       "2.0      2299\n",
       "26.0     2297\n",
       "47.0     1856\n",
       "34.0     1757\n",
       "24.0     1216\n",
       "40.0     1046\n",
       "3.0       946\n",
       "9.0       734\n",
       "62.0      638\n",
       "13.0      575\n",
       "5.0       554\n",
       "52.0      444\n",
       "98.0      405\n",
       "48.0      319\n",
       "16.0      285\n",
       "97.0      211\n",
       "32.0      115\n",
       "51.0       91\n",
       "39.0       86\n",
       "61.0       56\n",
       "7.0        41\n",
       "55.0       33\n",
       "96.0       28\n",
       "49.0       24\n",
       "Name: comm_plan_code, dtype: int64"
      ]
     },
     "execution_count": 1305,
     "metadata": {},
     "output_type": "execute_result"
    }
   ],
   "source": [
    "requests_21['comm_plan_code'].value_counts()"
   ]
  },
  {
   "cell_type": "code",
   "execution_count": 1306,
   "id": "d04cce7c-4c53-4a8c-8441-57414f9b1c16",
   "metadata": {},
   "outputs": [
    {
     "data": {
      "text/plain": [
       "Mid-City:City Heights           27670\n",
       "Mid-City:Eastern Area            7347\n",
       "College Area                     5548\n",
       "Southeastern San Diego           5011\n",
       "Mid-City:Normal Heights          4745\n",
       "Mid-City:Kensington-Talmadge     4471\n",
       "Mission Valley                    557\n",
       "North Park                         18\n",
       "Navajo                              4\n",
       "Name: comm_plan_name, dtype: int64"
      ]
     },
     "execution_count": 1306,
     "metadata": {},
     "output_type": "execute_result"
    }
   ],
   "source": [
    "cd1 = requests_21[requests_21['council_district'] == 9]\n",
    "cd1['comm_plan_name'].value_counts()"
   ]
  },
  {
   "cell_type": "code",
   "execution_count": 1307,
   "id": "6e3b3d67-1b46-40f0-9698-e67ffced8bee",
   "metadata": {},
   "outputs": [
    {
     "data": {
      "text/plain": [
       "Downtown                        30903\n",
       "Mid-City:City Heights           28145\n",
       "Southeastern San Diego          20538\n",
       "Pacific Beach                   19962\n",
       "Uptown                          17443\n",
       "North Park                      16370\n",
       "Clairemont Mesa                 15889\n",
       "Mid-City:Eastern Area           11050\n",
       "Peninsula                       10446\n",
       "Encanto Neighborhoods           10150\n",
       "Ocean Beach                      9290\n",
       "Mission Beach                    8474\n",
       "Skyline-Paradise Hills           7733\n",
       "La Jolla                         7544\n",
       "Mira Mesa                        6700\n",
       "Navajo                           6657\n",
       "Otay Mesa-Nestor                 6164\n",
       "Mission Bay Park                 6138\n",
       "Greater Golden Hill              6110\n",
       "Balboa Park                      5968\n",
       "College Area                     5549\n",
       "Linda Vista                      5533\n",
       "Mid-City:Normal Heights          4747\n",
       "Mid-City:Kensington-Talmadge     4471\n",
       "Mission Valley                   4234\n",
       "Midway-Pacific Highway           4048\n",
       "University                       3558\n",
       "Rancho Penasquitos               3103\n",
       "Serra Mesa                       3051\n",
       "San Ysidro                       3025\n",
       "Carmel Valley                    2864\n",
       "Rancho Bernardo                  2725\n",
       "Kearny Mesa                      2695\n",
       "Barrio Logan                     2299\n",
       "Otay Mesa                        2297\n",
       "Tierrasanta                      1856\n",
       "Scripps Miramar Ranch            1757\n",
       "Old Town San Diego               1216\n",
       "Torrey Pines                     1046\n",
       "Carmel Mountain Ranch             946\n",
       "Miramar Ranch North               734\n",
       "Pacific Highlands Ranch           638\n",
       "Black Mountain Ranch              575\n",
       "Sabre Springs                     554\n",
       "Torrey Highlands                  444\n",
       "Reserve                           405\n",
       "Torrey Hills                      319\n",
       "Rancho Encantada                  285\n",
       "Military Facilities               211\n",
       "San Pasqual                       115\n",
       "Del Mar Mesa                       91\n",
       "Tijuana River Valley               86\n",
       "Ncfua Subarea Ii                   56\n",
       "East Elliott                       41\n",
       "Via De La Valle                    33\n",
       "Los Penasquitos Canyon             28\n",
       "Fairbanks Ranch Country Club       24\n",
       "Name: comm_plan_name, dtype: int64"
      ]
     },
     "execution_count": 1307,
     "metadata": {},
     "output_type": "execute_result"
    }
   ],
   "source": [
    "requests_21['comm_plan_name'].value_counts()"
   ]
  },
  {
   "cell_type": "code",
   "execution_count": 1308,
   "id": "71dc0b52-bc48-485a-8840-7c915f6728f1",
   "metadata": {},
   "outputs": [
    {
     "data": {
      "text/plain": [
       "2903"
      ]
     },
     "execution_count": 1308,
     "metadata": {},
     "output_type": "execute_result"
    }
   ],
   "source": [
    "requests_21.council_district.isna().sum()"
   ]
  },
  {
   "cell_type": "code",
   "execution_count": 1309,
   "id": "6a20e608-6613-430d-9d7b-2cab21ecca0f",
   "metadata": {},
   "outputs": [],
   "source": [
    "#drop those with no council district listed\n",
    "requests_21 = requests_21.dropna(subset=['council_district'])"
   ]
  },
  {
   "cell_type": "code",
   "execution_count": 1310,
   "id": "2e37c8ed-2ce5-4499-b95a-350a665e77b9",
   "metadata": {},
   "outputs": [],
   "source": [
    "# delete both of these columns\n",
    "requests_21.drop(labels=['comm_plan_code', 'comm_plan_name'], axis=1, inplace=True)"
   ]
  },
  {
   "cell_type": "markdown",
   "id": "09bc475d-aefe-4295-b9bd-61221befc827",
   "metadata": {},
   "source": [
    "#### 12: park_name\n",
    "- convert to binary feature - 1 if in park, 0 if not in park"
   ]
  },
  {
   "cell_type": "code",
   "execution_count": 1311,
   "id": "7efd9b5d-d295-461a-8848-8e7cc4dba46c",
   "metadata": {},
   "outputs": [
    {
     "data": {
      "text/plain": [
       "326"
      ]
     },
     "execution_count": 1311,
     "metadata": {},
     "output_type": "execute_result"
    }
   ],
   "source": [
    "len(requests_21['park_name'].unique())"
   ]
  },
  {
   "cell_type": "code",
   "execution_count": 1312,
   "id": "62ba3e70-52f0-4f79-8172-4d1dca5a3c1b",
   "metadata": {},
   "outputs": [],
   "source": [
    "in_park = requests_21['park_name']"
   ]
  },
  {
   "cell_type": "code",
   "execution_count": 1313,
   "id": "96dcddbe-97be-4ec5-82c1-5b38952ee5ca",
   "metadata": {},
   "outputs": [
    {
     "data": {
      "text/plain": [
       "0         True\n",
       "2         True\n",
       "3         True\n",
       "4         True\n",
       "5         True\n",
       "          ... \n",
       "359085    True\n",
       "359086    True\n",
       "359087    True\n",
       "359088    True\n",
       "359089    True\n",
       "Name: park_name, Length: 317390, dtype: bool"
      ]
     },
     "execution_count": 1313,
     "metadata": {},
     "output_type": "execute_result"
    }
   ],
   "source": [
    "in_park.isna()"
   ]
  },
  {
   "cell_type": "code",
   "execution_count": 1314,
   "id": "52ad9966-9a6e-4bb5-a476-f7e096883086",
   "metadata": {},
   "outputs": [],
   "source": [
    "requests_21['in_park'] = np.where(in_park.isna() == True, 0, 1)"
   ]
  },
  {
   "cell_type": "code",
   "execution_count": 1315,
   "id": "f6d343be-5043-4809-9123-5ebf62da555e",
   "metadata": {},
   "outputs": [
    {
     "data": {
      "text/plain": [
       "0    300547\n",
       "1     16843\n",
       "Name: in_park, dtype: int64"
      ]
     },
     "execution_count": 1315,
     "metadata": {},
     "output_type": "execute_result"
    }
   ],
   "source": [
    "requests_21['in_park'].value_counts()"
   ]
  },
  {
   "cell_type": "code",
   "execution_count": 1316,
   "id": "61a2f507-1f3c-4521-8c9f-808c636b9d3a",
   "metadata": {},
   "outputs": [],
   "source": [
    "#drop original park columns\n",
    "requests_21.drop(labels=['park_name'], axis=1, inplace=True)"
   ]
  },
  {
   "cell_type": "code",
   "execution_count": 1317,
   "id": "f3383d91-0d2a-4309-9149-32e2faa6a082",
   "metadata": {},
   "outputs": [],
   "source": [
    "requests_21 = requests_21[['service_request_id', 'date_requested', 'case_age_days',\n",
    "       'case_record_type', 'service_name', 'service_name_detail','council_district', 'in_park', 'case_origin', 'referred', 'iamfloc',\n",
    "       'floc', 'public_description']]"
   ]
  },
  {
   "cell_type": "markdown",
   "id": "84def778-76d7-461f-aef1-34dcb7b1e493",
   "metadata": {},
   "source": [
    "#### 13: case_origin"
   ]
  },
  {
   "cell_type": "code",
   "execution_count": 1318,
   "id": "bf9242cf-16d4-42fe-937c-03eaed3b1c58",
   "metadata": {},
   "outputs": [
    {
     "data": {
      "text/plain": [
       "Mobile                                187976\n",
       "Web                                    61020\n",
       "Worker App                             37498\n",
       "Phone                                  25309\n",
       "Crew/Self Generated                     4183\n",
       "Email                                    788\n",
       "FO Self Generate                         201\n",
       "Hauler List                              175\n",
       "CC Self Generate                         135\n",
       "Internal                                  28\n",
       "Vegetation Encroachment Work Order        26\n",
       "Self-Generated                            25\n",
       "Council                                    8\n",
       "Management                                 6\n",
       "Referral Notice                            3\n",
       "Construction Patrol                        2\n",
       "Irrigation Patrol                          1\n",
       "Letter                                     1\n",
       "Name: case_origin, dtype: int64"
      ]
     },
     "execution_count": 1318,
     "metadata": {},
     "output_type": "execute_result"
    }
   ],
   "source": [
    "requests_21['case_origin'].value_counts()"
   ]
  },
  {
   "cell_type": "code",
   "execution_count": 1319,
   "id": "82236283-66af-44de-a6a2-087ad94da445",
   "metadata": {},
   "outputs": [],
   "source": [
    "# only keep the rows with the following origins: Mobile, Web, Phone"
   ]
  },
  {
   "cell_type": "code",
   "execution_count": 1320,
   "id": "7f7c180c-0569-4f97-9553-7468c9632387",
   "metadata": {},
   "outputs": [],
   "source": [
    "requests_21 = requests_21[(requests_21['case_origin'] == 'Mobile') | (requests_21['case_origin'] == 'Web') | (requests_21['case_origin'] == 'Phone')]"
   ]
  },
  {
   "cell_type": "markdown",
   "id": "d1c590f9-6812-43d4-ba67-2370e49c4c3c",
   "metadata": {},
   "source": [
    "#### 14: referred"
   ]
  },
  {
   "cell_type": "code",
   "execution_count": 1321,
   "id": "48c07b1f-4539-46b4-be07-b1c4c3f9671e",
   "metadata": {},
   "outputs": [],
   "source": [
    "# Change the strings that say 'nan' to null values\n",
    "requests_21['referred'] = np.where(requests_21['referred'] == 'nan', None, requests_21['referred'])"
   ]
  },
  {
   "cell_type": "code",
   "execution_count": 1322,
   "id": "3ee5c321-b590-4e4e-80af-959d7e88208e",
   "metadata": {},
   "outputs": [],
   "source": [
    "referrals = requests_21['referred'].value_counts()"
   ]
  },
  {
   "cell_type": "code",
   "execution_count": 1323,
   "id": "88e7d241-6dda-45fc-96b0-628e218a5fef",
   "metadata": {},
   "outputs": [
    {
     "data": {
      "text/plain": [
       "This report has been referred to Sweep at sd@sweepcrew.com                                                   28047\n",
       "This report has been referred to Park and Recreation at askparks@sandiego.gov                                 8333\n",
       "This report has been referred to Caltrans San Diego at ct.public.information.d11@dot.ca.gov                   3769\n",
       "This report has been referred to Graffiti ? SDGE Poles and Boxes at aesgraffitihotline4sdge@yahoo.com         2519\n",
       "This report has been referred to Graffiti ? ATT Telephone Booths / Cable Box at graffiti@att.com              2461\n",
       "This report has been referred to Water Repair (PUD) at wcm_gid@sandiego.gov                                   2203\n",
       "This report has been referred to Police ? Northern Division at sdpdnorthern@pd.sandiego.gov                    962\n",
       "This report has been referred to TSW Sanitation (Human Excrement) at cityofsandiegoer@cleanharbors.com         788\n",
       "This report has been referred to COVID19 at covid19@sandiego.gov                                               655\n",
       "This report has been referred to Police ? Western Division at sdpdwestern@pd.sandiego.gov                      653\n",
       "This report has been referred to Police ? Central Division at sdpdcentral@pd.sandiego.gov                      648\n",
       "This report has been referred to Field Engineering at engineering@sandiego.gov                                 573\n",
       "Your report has been referred to SDG&E. To contact SDG&E,  call 800-411-7343.For emergencies, dial 9-1-1.      544\n",
       "This report has been referred to AT&T Fix It at attfixit@amcustomercare.att-mail.com                           456\n",
       "This report has been referred to San Diego Unified School District at workrequest@sandi.net                    437\n",
       "This report has been referred to Police ? Mid-City Division at sdpdmidcity@pd.sandiego.gov                     422\n",
       "This report has been referred to SDG&E at info@sdge.com                                                        344\n",
       "This report has been referred to Fire Department at sdfd@sandiego.gov                                          270\n",
       "This report has been referred to Graffiti ? Cox Communications at ccisan-southconstruction@cox.com             267\n",
       "This report has been referred to Police CRO ? Central at sdpdcentral@pd.sandiego.gov                           243\n",
       "Name: referred, dtype: int64"
      ]
     },
     "execution_count": 1323,
     "metadata": {},
     "output_type": "execute_result"
    }
   ],
   "source": [
    "referrals.head(20)"
   ]
  },
  {
   "cell_type": "markdown",
   "id": "6b6d779a-8e8b-41a2-bf7c-74d9210e8512",
   "metadata": {},
   "source": [
    "##### issue 1: sd@sweepcrew"
   ]
  },
  {
   "cell_type": "code",
   "execution_count": 1324,
   "id": "faf8c899-6543-48c9-9c72-92c743779860",
   "metadata": {},
   "outputs": [],
   "source": [
    "referred_to_sweeper = requests_21[requests_21['referred']=='This report has been referred to Sweep at sd@sweepcrew.com']\n"
   ]
  },
  {
   "cell_type": "code",
   "execution_count": 1325,
   "id": "3bb8b000-14b7-42fb-b713-2d5364855c46",
   "metadata": {},
   "outputs": [
    {
     "data": {
      "text/plain": [
       "Shared Mobility Device    28047\n",
       "Name: service_name, dtype: int64"
      ]
     },
     "execution_count": 1325,
     "metadata": {},
     "output_type": "execute_result"
    }
   ],
   "source": [
    "referred_to_sweeper['service_name'].value_counts()"
   ]
  },
  {
   "cell_type": "code",
   "execution_count": 1326,
   "id": "3c8664ae-b031-4aad-b44c-e8f92f79eabc",
   "metadata": {},
   "outputs": [
    {
     "data": {
      "text/plain": [
       "25635     None\n",
       "25639     None\n",
       "25820     None\n",
       "26150     None\n",
       "26234     None\n",
       "          ... \n",
       "358859    None\n",
       "358875    None\n",
       "358883    None\n",
       "358885    None\n",
       "358886    None\n",
       "Name: service_name_detail, Length: 28047, dtype: object"
      ]
     },
     "execution_count": 1326,
     "metadata": {},
     "output_type": "execute_result"
    }
   ],
   "source": [
    "referred_to_sweeper['service_name_detail']"
   ]
  },
  {
   "cell_type": "code",
   "execution_count": 1327,
   "id": "316a98c8-63b3-4f5f-b762-093e6afd0a41",
   "metadata": {},
   "outputs": [
    {
     "data": {
      "text/plain": [
       "112697                                      Illegal staging\n",
       "306328    Corner of Soledad Mountain Road & Loring -  Sc...\n",
       "162396                                                  NaN\n",
       "171687                                                  NaN\n",
       "226105                         Overflowing too many permits\n",
       "236940                 Adult with child driving on sidewalk\n",
       "122261                                                  NaN\n",
       "228786                                                  NaN\n",
       "154014                                                  NaN\n",
       "163074                       Ada laying down all night BIRD\n",
       "Name: public_description, dtype: object"
      ]
     },
     "execution_count": 1327,
     "metadata": {},
     "output_type": "execute_result"
    }
   ],
   "source": [
    "referred_to_sweeper['public_description'].sample(10)"
   ]
  },
  {
   "cell_type": "markdown",
   "id": "4b54d2ea-8d93-4d29-b4b1-fc31c89f4ffe",
   "metadata": {},
   "source": [
    "#### 15: iamfloc and floc"
   ]
  },
  {
   "cell_type": "code",
   "execution_count": 1328,
   "id": "e87c1efd-ab02-427b-ac29-46be327da097",
   "metadata": {},
   "outputs": [
    {
     "data": {
      "text/plain": [
       "TR-RW            1045\n",
       "TR                790\n",
       "SS-001857         356\n",
       "SS-009756         275\n",
       "SS-016818         220\n",
       "                 ... \n",
       "TR-RW-0025366       1\n",
       "TR-RW-0164064       1\n",
       "SS-033201           1\n",
       "SS-030747           1\n",
       "SS-003558-PV1       1\n",
       "Name: iamfloc, Length: 40662, dtype: int64"
      ]
     },
     "execution_count": 1328,
     "metadata": {},
     "output_type": "execute_result"
    }
   ],
   "source": [
    "requests_21['iamfloc'].value_counts()"
   ]
  },
  {
   "cell_type": "code",
   "execution_count": 1329,
   "id": "12f9fb5f-9fff-4161-9405-851b06aa259d",
   "metadata": {},
   "outputs": [
    {
     "data": {
      "text/plain": [
       "SS-001857        354\n",
       "SS-009756        278\n",
       "Null             261\n",
       "SS-016818        221\n",
       "SS-021192        215\n",
       "                ... \n",
       "SS-023870          1\n",
       "SS-031105-001      1\n",
       "SS-011127-PV1      1\n",
       "SS-023277-PV1      1\n",
       "SS-020443          1\n",
       "Name: floc, Length: 31970, dtype: int64"
      ]
     },
     "execution_count": 1329,
     "metadata": {},
     "output_type": "execute_result"
    }
   ],
   "source": [
    "requests_21['floc'].value_counts()"
   ]
  },
  {
   "cell_type": "code",
   "execution_count": 1330,
   "id": "7f35d07b-6472-4667-8b94-dc72a42b7d88",
   "metadata": {},
   "outputs": [],
   "source": [
    "# seem to be some kind of internal code - delete both\n",
    "requests_21.drop(labels=['iamfloc', 'floc'], axis=1, inplace=True)"
   ]
  },
  {
   "cell_type": "markdown",
   "id": "4a3d80bb-ecf0-4bad-9da6-56a4777fdde9",
   "metadata": {
    "tags": []
   },
   "source": [
    "#### 16: public description"
   ]
  },
  {
   "cell_type": "code",
   "execution_count": 1331,
   "id": "bdd0f3d5-d903-4f82-bd67-9448eade0dd2",
   "metadata": {},
   "outputs": [
    {
     "data": {
      "text/plain": [
       "Graffiti                                                                                                                                                                                                                                                                                                                                                                                      5938\n",
       "Encampment                                                                                                                                                                                                                                                                                                                                                                                    1511\n",
       "Illegal dumping                                                                                                                                                                                                                                                                                                                                                                               1183\n",
       "Q                                                                                                                                                                                                                                                                                                                                                                                             1045\n",
       "Scooter                                                                                                                                                                                                                                                                                                                                                                                        802\n",
       "                                                                                                                                                                                                                                                                                                                                                                                              ... \n",
       "Poop all over the floor                                                                                                                                                                                                                                                                                                                                                                          1\n",
       "The car is covered with a gray rain cover so it's difficult flight provide all the details. It has been covered and unmoved for 5 days                                                                                                                                                                                                                                                           1\n",
       "The driver -- once again! -- did not pick up our black can trash. He picked up the other side of the street going south hours ago. he never came back heading north today. He's done this several times before. I'm getting tired of not having a full can picked up. Please do something about it! Thank you.                                                                                   1\n",
       "Skipped our pick up of trash   I will leave it on the street for pick up all week taking up a precious parking space  this is garbage bin not recycle bin. ( no option in you pull down. )                                                                                                                                                                                                       1\n",
       "In front of my house at 6022 La Jolla Mesa drive the road is terribly bumpy, not level .  The neighbors very large tree roots have ruined the road and I'm concerned they will cause an accident. The noise is excruciating day and night.  Someone came out last year when I reported it and only poured asphalt over part of the damaged area. Please help! Celeste Le Sage 415-218-8127       1\n",
       "Name: public_description, Length: 188637, dtype: int64"
      ]
     },
     "execution_count": 1331,
     "metadata": {},
     "output_type": "execute_result"
    }
   ],
   "source": [
    "requests_21['public_description'].value_counts()"
   ]
  },
  {
   "cell_type": "code",
   "execution_count": 1332,
   "id": "75e6763b-5a81-4eb6-96a2-458606a994db",
   "metadata": {},
   "outputs": [
    {
     "data": {
      "text/plain": [
       "153954                                                 None\n",
       "191155    This report has been referred to Sweep at sd@s...\n",
       "191157    This report has been referred to Sweep at sd@s...\n",
       "191159    This report has been referred to Sweep at sd@s...\n",
       "191161    This report has been referred to Sweep at sd@s...\n",
       "                                ...                        \n",
       "349902    This report has been referred to Sweep at sd@s...\n",
       "350175    This report has been referred to Sweep at sd@s...\n",
       "350189    This report has been referred to Sweep at sd@s...\n",
       "350235    This report has been referred to Sweep at sd@s...\n",
       "353827    This report has been referred to Sweep at sd@s...\n",
       "Name: referred, Length: 1045, dtype: object"
      ]
     },
     "execution_count": 1332,
     "metadata": {},
     "output_type": "execute_result"
    }
   ],
   "source": [
    "requests_21[requests_21.public_description == 'Q']['referred']"
   ]
  },
  {
   "cell_type": "code",
   "execution_count": 1333,
   "id": "1a793ee5-eeb1-45db-9447-da06e333deb1",
   "metadata": {},
   "outputs": [
    {
     "data": {
      "text/plain": [
       "21936"
      ]
     },
     "execution_count": 1333,
     "metadata": {},
     "output_type": "execute_result"
    }
   ],
   "source": [
    "requests_21.public_description.isna().sum()"
   ]
  },
  {
   "cell_type": "code",
   "execution_count": 1334,
   "id": "3c62dd7c-719f-424f-8053-9513f6338087",
   "metadata": {},
   "outputs": [],
   "source": [
    "requests_21['has_description'] = np.where(requests_21.public_description.isna() == True, 0, 1)"
   ]
  },
  {
   "cell_type": "code",
   "execution_count": 1335,
   "id": "f8b91e3d-68f0-4a78-bbc0-b3cd5bf834a2",
   "metadata": {},
   "outputs": [
    {
     "data": {
      "text/plain": [
       "Index(['service_request_id', 'date_requested', 'case_age_days',\n",
       "       'case_record_type', 'service_name', 'service_name_detail',\n",
       "       'council_district', 'in_park', 'case_origin', 'referred',\n",
       "       'public_description', 'has_description'],\n",
       "      dtype='object')"
      ]
     },
     "execution_count": 1335,
     "metadata": {},
     "output_type": "execute_result"
    }
   ],
   "source": [
    "requests_21.columns"
   ]
  },
  {
   "cell_type": "code",
   "execution_count": 1336,
   "id": "a586e31e-2c93-4766-861e-96070301a9c9",
   "metadata": {},
   "outputs": [],
   "source": [
    "#drop any columns that will not be used in modeling"
   ]
  },
  {
   "cell_type": "code",
   "execution_count": 1337,
   "id": "3580e632-4fd4-4d9a-9bd0-eacd4fd0b55e",
   "metadata": {},
   "outputs": [],
   "source": [
    "requests_21.drop(labels=['service_request_id'], axis=1, inplace=True)"
   ]
  },
  {
   "cell_type": "code",
   "execution_count": 1338,
   "id": "a72ac7f4-6ddb-4ea7-b890-8d2db2617e0c",
   "metadata": {},
   "outputs": [
    {
     "data": {
      "text/plain": [
       "date_requested         False\n",
       "case_age_days          False\n",
       "case_record_type       False\n",
       "service_name           False\n",
       "service_name_detail     True\n",
       "council_district       False\n",
       "in_park                False\n",
       "case_origin            False\n",
       "referred                True\n",
       "public_description      True\n",
       "has_description        False\n",
       "dtype: bool"
      ]
     },
     "execution_count": 1338,
     "metadata": {},
     "output_type": "execute_result"
    }
   ],
   "source": [
    "#check for null values\n",
    "requests_21.isna().any()"
   ]
  },
  {
   "cell_type": "markdown",
   "id": "24412821-2e9a-4511-b7eb-2628b34bcf29",
   "metadata": {},
   "source": [
    "## 3. Feature Engineering and Pre-Processing"
   ]
  },
  {
   "cell_type": "code",
   "execution_count": 1339,
   "id": "61e0c9e4-e31d-4fc5-9479-701d9d1f2d9d",
   "metadata": {},
   "outputs": [
    {
     "data": {
      "text/plain": [
       "Index(['date_requested', 'case_age_days', 'case_record_type', 'service_name',\n",
       "       'service_name_detail', 'council_district', 'in_park', 'case_origin',\n",
       "       'referred', 'public_description', 'has_description'],\n",
       "      dtype='object')"
      ]
     },
     "execution_count": 1339,
     "metadata": {},
     "output_type": "execute_result"
    }
   ],
   "source": [
    "requests_21.columns"
   ]
  },
  {
   "cell_type": "code",
   "execution_count": 1340,
   "id": "9ba1e6bc-4bd0-4663-b081-5360a6a77608",
   "metadata": {},
   "outputs": [
    {
     "data": {
      "text/plain": [
       "(274305, 11)"
      ]
     },
     "execution_count": 1340,
     "metadata": {},
     "output_type": "execute_result"
    }
   ],
   "source": [
    "requests_21.shape"
   ]
  },
  {
   "cell_type": "markdown",
   "id": "18659b36-a0da-4581-953f-209b931c2b28",
   "metadata": {
    "tags": []
   },
   "source": [
    "### 0: date_requested\n",
    "\n",
    "Include following features:\n",
    "- day_of_week\n",
    "- is_weekend\n",
    "- month"
   ]
  },
  {
   "cell_type": "code",
   "execution_count": 1341,
   "id": "6893905f-e7b0-4082-ba54-06919c61c06a",
   "metadata": {},
   "outputs": [],
   "source": [
    "requests_21['day_of_week'] = requests_21['date_requested'].dt.day_name()"
   ]
  },
  {
   "cell_type": "code",
   "execution_count": 1342,
   "id": "70fee721-68fb-450c-8800-2a501ce18fd1",
   "metadata": {},
   "outputs": [
    {
     "data": {
      "text/plain": [
       "Monday       44800\n",
       "Thursday     43288\n",
       "Wednesday    43130\n",
       "Friday       42739\n",
       "Tuesday      42559\n",
       "Saturday     30542\n",
       "Sunday       27247\n",
       "Name: day_of_week, dtype: int64"
      ]
     },
     "execution_count": 1342,
     "metadata": {},
     "output_type": "execute_result"
    }
   ],
   "source": [
    "requests_21['day_of_week'].value_counts()"
   ]
  },
  {
   "cell_type": "code",
   "execution_count": 1343,
   "id": "9c7b3e9a-8ae5-40b8-b0f1-7d0345af348d",
   "metadata": {},
   "outputs": [],
   "source": [
    "requests_21['day_of_week_num'] = requests_21['date_requested'].dt.dayofweek"
   ]
  },
  {
   "cell_type": "code",
   "execution_count": 1344,
   "id": "fbf74d94-d37d-46fa-9b09-0a0b0d30f408",
   "metadata": {},
   "outputs": [
    {
     "data": {
      "text/plain": [
       "0    44800\n",
       "3    43288\n",
       "2    43130\n",
       "4    42739\n",
       "1    42559\n",
       "5    30542\n",
       "6    27247\n",
       "Name: day_of_week_num, dtype: int64"
      ]
     },
     "execution_count": 1344,
     "metadata": {},
     "output_type": "execute_result"
    }
   ],
   "source": [
    "requests_21['day_of_week_num'].value_counts()"
   ]
  },
  {
   "cell_type": "code",
   "execution_count": 1345,
   "id": "0dff3ffd-cb1a-4eef-ae62-b68073fedf66",
   "metadata": {},
   "outputs": [],
   "source": [
    "requests_21['is_weekend'] = np.where(requests_21['day_of_week_num'] < 5, 0, 1)"
   ]
  },
  {
   "cell_type": "code",
   "execution_count": 1346,
   "id": "771d5c22-c49b-4f35-b9f9-fd9fd670f5db",
   "metadata": {},
   "outputs": [
    {
     "data": {
      "text/plain": [
       "0    216516\n",
       "1     57789\n",
       "Name: is_weekend, dtype: int64"
      ]
     },
     "execution_count": 1346,
     "metadata": {},
     "output_type": "execute_result"
    }
   ],
   "source": [
    "requests_21['is_weekend'].value_counts()"
   ]
  },
  {
   "cell_type": "code",
   "execution_count": 1347,
   "id": "5edf3407-a0ef-4c73-9961-011817a6af05",
   "metadata": {},
   "outputs": [],
   "source": [
    "requests_21['month'] = requests_21['date_requested'].dt.month_name()"
   ]
  },
  {
   "cell_type": "code",
   "execution_count": 1348,
   "id": "dd3f1d5d-70ab-41ee-b80a-d249be2475ee",
   "metadata": {},
   "outputs": [
    {
     "data": {
      "text/plain": [
       "March        25703\n",
       "June         25298\n",
       "May          25033\n",
       "July         24574\n",
       "April        24209\n",
       "January      23965\n",
       "August       23691\n",
       "September    21204\n",
       "February     20854\n",
       "October      20757\n",
       "December     20184\n",
       "November     18833\n",
       "Name: month, dtype: int64"
      ]
     },
     "execution_count": 1348,
     "metadata": {},
     "output_type": "execute_result"
    }
   ],
   "source": [
    "requests_21['month'].value_counts()"
   ]
  },
  {
   "cell_type": "code",
   "execution_count": 1349,
   "id": "aec61b95-a4e4-4eee-8147-2f9bba0ea7f2",
   "metadata": {},
   "outputs": [],
   "source": [
    "#drop date columns no longer needed\n",
    "requests_21.drop(labels=['date_requested','day_of_week_num'], axis=1, inplace=True)"
   ]
  },
  {
   "cell_type": "code",
   "execution_count": 1350,
   "id": "974d76bb-aa32-4458-a44f-aaaf2c3048f2",
   "metadata": {},
   "outputs": [
    {
     "data": {
      "text/plain": [
       "Index(['case_age_days', 'case_record_type', 'service_name',\n",
       "       'service_name_detail', 'council_district', 'in_park', 'case_origin',\n",
       "       'referred', 'public_description', 'has_description', 'day_of_week',\n",
       "       'is_weekend', 'month'],\n",
       "      dtype='object')"
      ]
     },
     "execution_count": 1350,
     "metadata": {},
     "output_type": "execute_result"
    }
   ],
   "source": [
    "requests_21.columns"
   ]
  },
  {
   "cell_type": "markdown",
   "id": "aca1bedb-a202-4c60-92f7-8794ecdba143",
   "metadata": {},
   "source": [
    "Note: will one-hot encode these."
   ]
  },
  {
   "cell_type": "markdown",
   "id": "d1355f28-4f43-41ad-8473-2f241ae8b1da",
   "metadata": {},
   "source": [
    "#### feature: day"
   ]
  },
  {
   "cell_type": "code",
   "execution_count": 1351,
   "id": "85d49a45-5715-4dbb-a488-64d95c04b5ee",
   "metadata": {},
   "outputs": [],
   "source": [
    "requests_21 = pd.get_dummies(requests_21, columns=['day_of_week'], prefix='day', prefix_sep='_', drop_first=True)"
   ]
  },
  {
   "cell_type": "code",
   "execution_count": 1352,
   "id": "89dfd7bb-f0fb-48a5-a549-ade0ee36018e",
   "metadata": {},
   "outputs": [],
   "source": [
    "#reorder for clarity\n",
    "requests_21 = requests_21[['case_age_days', 'case_record_type', 'service_name',\n",
    "       'service_name_detail', 'council_district', 'in_park', 'case_origin',\n",
    "       'referred', 'public_description', 'has_description', 'is_weekend',\n",
    "       'month', 'day_Saturday', 'day_Sunday', 'day_Monday','day_Tuesday','day_Wednesday','day_Thursday',\n",
    "        ]]"
   ]
  },
  {
   "cell_type": "code",
   "execution_count": 1353,
   "id": "824fa6f7-dff6-4e29-822f-8ab77fa00405",
   "metadata": {},
   "outputs": [
    {
     "data": {
      "text/html": [
       "<div>\n",
       "<style scoped>\n",
       "    .dataframe tbody tr th:only-of-type {\n",
       "        vertical-align: middle;\n",
       "    }\n",
       "\n",
       "    .dataframe tbody tr th {\n",
       "        vertical-align: top;\n",
       "    }\n",
       "\n",
       "    .dataframe thead th {\n",
       "        text-align: right;\n",
       "    }\n",
       "</style>\n",
       "<table border=\"1\" class=\"dataframe\">\n",
       "  <thead>\n",
       "    <tr style=\"text-align: right;\">\n",
       "      <th></th>\n",
       "      <th>case_age_days</th>\n",
       "      <th>case_record_type</th>\n",
       "      <th>service_name</th>\n",
       "      <th>service_name_detail</th>\n",
       "      <th>council_district</th>\n",
       "      <th>in_park</th>\n",
       "      <th>case_origin</th>\n",
       "      <th>referred</th>\n",
       "      <th>public_description</th>\n",
       "      <th>has_description</th>\n",
       "      <th>is_weekend</th>\n",
       "      <th>month</th>\n",
       "      <th>day_Saturday</th>\n",
       "      <th>day_Sunday</th>\n",
       "      <th>day_Monday</th>\n",
       "      <th>day_Tuesday</th>\n",
       "      <th>day_Wednesday</th>\n",
       "      <th>day_Thursday</th>\n",
       "    </tr>\n",
       "  </thead>\n",
       "  <tbody>\n",
       "    <tr>\n",
       "      <th>0</th>\n",
       "      <td>1654.0</td>\n",
       "      <td>Transportation</td>\n",
       "      <td>Pavement Maintenance</td>\n",
       "      <td>CONCRETE PAVEMENT REPAIR ISSUE</td>\n",
       "      <td>5.0</td>\n",
       "      <td>0</td>\n",
       "      <td>Web</td>\n",
       "      <td>None</td>\n",
       "      <td>We have a cement street it is buckling and one...</td>\n",
       "      <td>1</td>\n",
       "      <td>0</td>\n",
       "      <td>August</td>\n",
       "      <td>0</td>\n",
       "      <td>0</td>\n",
       "      <td>0</td>\n",
       "      <td>0</td>\n",
       "      <td>1</td>\n",
       "      <td>0</td>\n",
       "    </tr>\n",
       "    <tr>\n",
       "      <th>2</th>\n",
       "      <td>1652.0</td>\n",
       "      <td>Transportation</td>\n",
       "      <td>Pavement Maintenance</td>\n",
       "      <td>DAMAGED CURB</td>\n",
       "      <td>2.0</td>\n",
       "      <td>0</td>\n",
       "      <td>Web</td>\n",
       "      <td>None</td>\n",
       "      <td>curb cracked, please fill\\ngutter joint depres...</td>\n",
       "      <td>1</td>\n",
       "      <td>0</td>\n",
       "      <td>August</td>\n",
       "      <td>0</td>\n",
       "      <td>0</td>\n",
       "      <td>0</td>\n",
       "      <td>0</td>\n",
       "      <td>0</td>\n",
       "      <td>1</td>\n",
       "    </tr>\n",
       "    <tr>\n",
       "      <th>4</th>\n",
       "      <td>1838.0</td>\n",
       "      <td>Transportation</td>\n",
       "      <td>Pavement Maintenance</td>\n",
       "      <td>EVALUATE FOR RESURFACING/SLURRY</td>\n",
       "      <td>9.0</td>\n",
       "      <td>0</td>\n",
       "      <td>Mobile</td>\n",
       "      <td>None</td>\n",
       "      <td>This road needs To be repaired immediately</td>\n",
       "      <td>1</td>\n",
       "      <td>1</td>\n",
       "      <td>August</td>\n",
       "      <td>0</td>\n",
       "      <td>1</td>\n",
       "      <td>0</td>\n",
       "      <td>0</td>\n",
       "      <td>0</td>\n",
       "      <td>0</td>\n",
       "    </tr>\n",
       "    <tr>\n",
       "      <th>6</th>\n",
       "      <td>1834.0</td>\n",
       "      <td>Transportation</td>\n",
       "      <td>Pavement Maintenance</td>\n",
       "      <td>EVALUATE FOR RESURFACING/SLURRY</td>\n",
       "      <td>9.0</td>\n",
       "      <td>0</td>\n",
       "      <td>Phone</td>\n",
       "      <td>None</td>\n",
       "      <td>STRETCH OF FAIRMOUNT</td>\n",
       "      <td>1</td>\n",
       "      <td>0</td>\n",
       "      <td>August</td>\n",
       "      <td>0</td>\n",
       "      <td>0</td>\n",
       "      <td>0</td>\n",
       "      <td>0</td>\n",
       "      <td>1</td>\n",
       "      <td>0</td>\n",
       "    </tr>\n",
       "    <tr>\n",
       "      <th>7</th>\n",
       "      <td>1882.0</td>\n",
       "      <td>Transportation</td>\n",
       "      <td>Pavement Maintenance</td>\n",
       "      <td>EVALUATE FOR RESURFACING/SLURRY</td>\n",
       "      <td>1.0</td>\n",
       "      <td>0</td>\n",
       "      <td>Web</td>\n",
       "      <td>None</td>\n",
       "      <td>This area on Del Mar Heights Rd in front of th...</td>\n",
       "      <td>1</td>\n",
       "      <td>0</td>\n",
       "      <td>August</td>\n",
       "      <td>0</td>\n",
       "      <td>0</td>\n",
       "      <td>0</td>\n",
       "      <td>0</td>\n",
       "      <td>1</td>\n",
       "      <td>0</td>\n",
       "    </tr>\n",
       "  </tbody>\n",
       "</table>\n",
       "</div>"
      ],
      "text/plain": [
       "   case_age_days case_record_type          service_name  \\\n",
       "0         1654.0   Transportation  Pavement Maintenance   \n",
       "2         1652.0   Transportation  Pavement Maintenance   \n",
       "4         1838.0   Transportation  Pavement Maintenance   \n",
       "6         1834.0   Transportation  Pavement Maintenance   \n",
       "7         1882.0   Transportation  Pavement Maintenance   \n",
       "\n",
       "               service_name_detail  council_district  in_park case_origin  \\\n",
       "0   CONCRETE PAVEMENT REPAIR ISSUE               5.0        0         Web   \n",
       "2                     DAMAGED CURB               2.0        0         Web   \n",
       "4  EVALUATE FOR RESURFACING/SLURRY               9.0        0      Mobile   \n",
       "6  EVALUATE FOR RESURFACING/SLURRY               9.0        0       Phone   \n",
       "7  EVALUATE FOR RESURFACING/SLURRY               1.0        0         Web   \n",
       "\n",
       "  referred                                 public_description  \\\n",
       "0     None  We have a cement street it is buckling and one...   \n",
       "2     None  curb cracked, please fill\\ngutter joint depres...   \n",
       "4     None         This road needs To be repaired immediately   \n",
       "6     None                               STRETCH OF FAIRMOUNT   \n",
       "7     None  This area on Del Mar Heights Rd in front of th...   \n",
       "\n",
       "   has_description  is_weekend   month  day_Saturday  day_Sunday  day_Monday  \\\n",
       "0                1           0  August             0           0           0   \n",
       "2                1           0  August             0           0           0   \n",
       "4                1           1  August             0           1           0   \n",
       "6                1           0  August             0           0           0   \n",
       "7                1           0  August             0           0           0   \n",
       "\n",
       "   day_Tuesday  day_Wednesday  day_Thursday  \n",
       "0            0              1             0  \n",
       "2            0              0             1  \n",
       "4            0              0             0  \n",
       "6            0              1             0  \n",
       "7            0              1             0  "
      ]
     },
     "execution_count": 1353,
     "metadata": {},
     "output_type": "execute_result"
    }
   ],
   "source": [
    "requests_21.head()"
   ]
  },
  {
   "cell_type": "markdown",
   "id": "db8e5bbf-2393-45c2-8607-992bc06681c2",
   "metadata": {},
   "source": [
    "#### feature: month"
   ]
  },
  {
   "cell_type": "code",
   "execution_count": 1354,
   "id": "c57424b2-9a36-4b86-95fc-681413185164",
   "metadata": {},
   "outputs": [],
   "source": [
    "requests_21 = pd.get_dummies(requests_21, columns=['month'], prefix='month', prefix_sep='_', drop_first=True)"
   ]
  },
  {
   "cell_type": "code",
   "execution_count": 1355,
   "id": "038d6265-1a99-402c-a67b-a14ccd1421a3",
   "metadata": {},
   "outputs": [],
   "source": [
    "#reorder for clarity\n",
    "requests_21 = requests_21[['case_age_days', 'case_record_type', 'service_name',\n",
    "       'service_name_detail', 'council_district', 'in_park', 'case_origin',\n",
    "       'referred', 'public_description', 'has_description', 'is_weekend',\n",
    "       'day_Saturday', 'day_Sunday', 'day_Monday', 'day_Tuesday',\n",
    "       'day_Wednesday', 'day_Thursday', 'month_December',\n",
    "       'month_May', 'month_June', 'month_July', 'month_August', 'month_September', 'month_October','month_November',\n",
    "                           'month_January', 'month_February', 'month_March', \n",
    "       ]]"
   ]
  },
  {
   "cell_type": "code",
   "execution_count": 1356,
   "id": "2387f399-4182-475c-99f8-c94a43a133d7",
   "metadata": {},
   "outputs": [
    {
     "data": {
      "text/html": [
       "<div>\n",
       "<style scoped>\n",
       "    .dataframe tbody tr th:only-of-type {\n",
       "        vertical-align: middle;\n",
       "    }\n",
       "\n",
       "    .dataframe tbody tr th {\n",
       "        vertical-align: top;\n",
       "    }\n",
       "\n",
       "    .dataframe thead th {\n",
       "        text-align: right;\n",
       "    }\n",
       "</style>\n",
       "<table border=\"1\" class=\"dataframe\">\n",
       "  <thead>\n",
       "    <tr style=\"text-align: right;\">\n",
       "      <th></th>\n",
       "      <th>case_age_days</th>\n",
       "      <th>case_record_type</th>\n",
       "      <th>service_name</th>\n",
       "      <th>service_name_detail</th>\n",
       "      <th>council_district</th>\n",
       "      <th>in_park</th>\n",
       "      <th>case_origin</th>\n",
       "      <th>referred</th>\n",
       "      <th>public_description</th>\n",
       "      <th>has_description</th>\n",
       "      <th>...</th>\n",
       "      <th>month_May</th>\n",
       "      <th>month_June</th>\n",
       "      <th>month_July</th>\n",
       "      <th>month_August</th>\n",
       "      <th>month_September</th>\n",
       "      <th>month_October</th>\n",
       "      <th>month_November</th>\n",
       "      <th>month_January</th>\n",
       "      <th>month_February</th>\n",
       "      <th>month_March</th>\n",
       "    </tr>\n",
       "  </thead>\n",
       "  <tbody>\n",
       "    <tr>\n",
       "      <th>0</th>\n",
       "      <td>1654.0</td>\n",
       "      <td>Transportation</td>\n",
       "      <td>Pavement Maintenance</td>\n",
       "      <td>CONCRETE PAVEMENT REPAIR ISSUE</td>\n",
       "      <td>5.0</td>\n",
       "      <td>0</td>\n",
       "      <td>Web</td>\n",
       "      <td>None</td>\n",
       "      <td>We have a cement street it is buckling and one...</td>\n",
       "      <td>1</td>\n",
       "      <td>...</td>\n",
       "      <td>0</td>\n",
       "      <td>0</td>\n",
       "      <td>0</td>\n",
       "      <td>1</td>\n",
       "      <td>0</td>\n",
       "      <td>0</td>\n",
       "      <td>0</td>\n",
       "      <td>0</td>\n",
       "      <td>0</td>\n",
       "      <td>0</td>\n",
       "    </tr>\n",
       "  </tbody>\n",
       "</table>\n",
       "<p>1 rows × 28 columns</p>\n",
       "</div>"
      ],
      "text/plain": [
       "   case_age_days case_record_type          service_name  \\\n",
       "0         1654.0   Transportation  Pavement Maintenance   \n",
       "\n",
       "              service_name_detail  council_district  in_park case_origin  \\\n",
       "0  CONCRETE PAVEMENT REPAIR ISSUE               5.0        0         Web   \n",
       "\n",
       "  referred                                 public_description  \\\n",
       "0     None  We have a cement street it is buckling and one...   \n",
       "\n",
       "   has_description  ...  month_May  month_June  month_July  month_August  \\\n",
       "0                1  ...          0           0           0             1   \n",
       "\n",
       "   month_September  month_October  month_November  month_January  \\\n",
       "0                0              0               0              0   \n",
       "\n",
       "   month_February  month_March  \n",
       "0               0            0  \n",
       "\n",
       "[1 rows x 28 columns]"
      ]
     },
     "execution_count": 1356,
     "metadata": {},
     "output_type": "execute_result"
    }
   ],
   "source": [
    "requests_21.head(1)"
   ]
  },
  {
   "cell_type": "markdown",
   "id": "30a5c3ed-3e35-489b-8677-e0a4f6ff8a1b",
   "metadata": {},
   "source": [
    "#### feature: is_weekend\n",
    "- this feature already exists in the data"
   ]
  },
  {
   "cell_type": "markdown",
   "id": "54838751-c289-4875-aada-7f96449959da",
   "metadata": {
    "tags": []
   },
   "source": [
    "### 1: case_age_days\n",
    "Note: this is the target variable"
   ]
  },
  {
   "cell_type": "markdown",
   "id": "f7afa4e4-22af-4ad9-ae0b-af8a9007c51e",
   "metadata": {
    "tags": []
   },
   "source": [
    "### 2: case_record_type\n",
    "Drop this column - will not be useful for modelling"
   ]
  },
  {
   "cell_type": "code",
   "execution_count": 1357,
   "id": "0653fd14-da90-4e96-9a4a-07c9c028c5da",
   "metadata": {},
   "outputs": [],
   "source": [
    "requests_21 = requests_21.drop('case_record_type', axis=1)"
   ]
  },
  {
   "cell_type": "markdown",
   "id": "8678a4a7-ac44-4553-8b78-e06e306f34b6",
   "metadata": {
    "tags": []
   },
   "source": [
    "### 3: service_name"
   ]
  },
  {
   "cell_type": "code",
   "execution_count": 1358,
   "id": "cafd162b-3f73-43e8-8f93-f0d15645d291",
   "metadata": {
    "tags": []
   },
   "outputs": [
    {
     "data": {
      "text/plain": [
       "0"
      ]
     },
     "execution_count": 1358,
     "metadata": {},
     "output_type": "execute_result"
    }
   ],
   "source": [
    "requests_21.service_name.isna().sum()"
   ]
  },
  {
   "cell_type": "code",
   "execution_count": 1359,
   "id": "f54fe579-2e9d-49f2-b454-62f2a6bfdacc",
   "metadata": {},
   "outputs": [
    {
     "data": {
      "text/plain": [
       "Parking                                    44327\n",
       "Missed Collection                          43161\n",
       "Graffiti                                   29448\n",
       "Shared Mobility Device                     28051\n",
       "Encampment                                 27637\n",
       "Illegal Dumping                            17217\n",
       "Other                                       9489\n",
       "Pothole                                     9461\n",
       "Tree Maintenance                            7913\n",
       "Traffic Signal Issue                        5445\n",
       "Street Light Maintenance                    5367\n",
       "Graffiti - Code Enforcement                 5072\n",
       "Environmental Services Code Compliance      4080\n",
       "Traffic Sign Maintenance                    3629\n",
       "Dead Animal                                 3616\n",
       "Sidewalk Repair Issue                       3507\n",
       "ROW Maintenance                             3072\n",
       "Traffic Signal Timing                       3048\n",
       "Pavement Maintenance                        2925\n",
       "Trash/Recycling Collection                  2293\n",
       "Traffic Engineering                         2147\n",
       "Stormwater Code Enforcement                 2111\n",
       "Waste on Private Property                   2097\n",
       "Street Sweeping                             1938\n",
       "Stormwater                                  1761\n",
       "Right-of-Way Code Enforcement               1615\n",
       "Street Flooded                              1226\n",
       "Development Services - Code Enforcement     1039\n",
       "Weed Cleanup                                 807\n",
       "COVID-19                                     615\n",
       "Oversized Vehicle                            191\n",
       "Name: service_name, dtype: int64"
      ]
     },
     "execution_count": 1359,
     "metadata": {},
     "output_type": "execute_result"
    }
   ],
   "source": [
    "requests_21['service_name'].value_counts()"
   ]
  },
  {
   "cell_type": "markdown",
   "id": "4227bda5-0493-4696-bb2d-8028d93c10f3",
   "metadata": {},
   "source": [
    "#### feature: type"
   ]
  },
  {
   "cell_type": "code",
   "execution_count": 1360,
   "id": "3bdc4bb2-6624-4595-ab69-87b2e145dedc",
   "metadata": {},
   "outputs": [],
   "source": [
    "# requests_21 = pd.get_dummies(requests_21, columns=['service_name'], prefix='type', prefix_sep='_', drop_first=True)"
   ]
  },
  {
   "cell_type": "markdown",
   "id": "c0cc9cf8-f779-4b55-bdc8-076eb9b5b663",
   "metadata": {
    "tags": []
   },
   "source": [
    "### 4: service_name_details"
   ]
  },
  {
   "cell_type": "code",
   "execution_count": 1361,
   "id": "16c8f49d-cc50-427d-b0ea-df2fdf22f58f",
   "metadata": {},
   "outputs": [],
   "source": [
    "# requests_21 = requests_21.drop('service_name_detail', axis=1)"
   ]
  },
  {
   "cell_type": "code",
   "execution_count": 1362,
   "id": "7cd59f9b-e200-4bed-b0d7-c8b0705fb287",
   "metadata": {},
   "outputs": [],
   "source": [
    "#enhance service type column by using service_name_details, where available"
   ]
  },
  {
   "cell_type": "code",
   "execution_count": 1363,
   "id": "3378ce74-bd35-416e-aa9c-2c6eb5fd1ef0",
   "metadata": {},
   "outputs": [],
   "source": [
    "types_service_name_details = requests_21['service_name_detail'].value_counts()"
   ]
  },
  {
   "cell_type": "code",
   "execution_count": 1364,
   "id": "859c5772-ff6e-42ec-b5c7-d974eadc6dac",
   "metadata": {},
   "outputs": [
    {
     "data": {
      "text/plain": [
       "PONDING WATER IN GUTTER/STREET                       8\n",
       "Illegal Construction                                 8\n",
       "Stolen City Container                                8\n",
       "EVALUATE FOR SHIELD                                  7\n",
       "DEFINE SCOPE PCC RECONSTRUCT CONTRACT                6\n",
       "DRAIN OUTFALL                                        6\n",
       "Inadequate Recycling                                 6\n",
       "DEBRIS FENCE                                         6\n",
       "DRAIN CLEANOUT                                       6\n",
       "CONVEYANCES                                          6\n",
       "Parking                                              6\n",
       "Private Dumpster                                     5\n",
       " BICYCLE FACILITIES EVALUATE FOR RACKS (OR OTHER)    5\n",
       "EVALUATE FOR SIDEWALK CONTRACT                       5\n",
       "BIKE MAINT-TREE/SHRUB ENCROACHMENT                   4\n",
       " TRAFFIC SAFETY PARKING REVIEW                       4\n",
       "DRAIN HEADWALL                                       4\n",
       "CROSS GUTTER INSTALLATION/MAINTENANCE                3\n",
       "BUS PAD INSTALLATION/MAINTENANCE CONTRAC             3\n",
       " TEO WO PAINT CURB - NEW                             3\n",
       "Major Contamination in Refuse Container              3\n",
       " TRAFFIC SAFETY RADAR SPEED SURVEY                   3\n",
       "DEFINE SCOPE PCC MJR REHAB CONTRACT                  3\n",
       " TRAFFIC SAFETY GUARD RAIL REVIEW                    3\n",
       " TRAFFIC SIGNAL COORDINATION                         3\n",
       " BICYCLE FACILITIES PLAN CHECK                       2\n",
       "--Select Answer--                                    2\n",
       "STORM WATER                                          2\n",
       "Recycling Contamination                              2\n",
       "RESTORE WATER TRENCH ASPHALT                         2\n",
       "Uncovered Container                                  2\n",
       "RESTORE SEWER TRENCH ASPHALT                         2\n",
       " TRAFFIC SAFETY REQUEST FOR INFORMATION              2\n",
       "RESTORE CONCRETE UTILITY TRENCH                      1\n",
       "Major Contamination in Greens Container              1\n",
       "BIKE MAINT-STRIPING/MARKINGS                         1\n",
       " BICYCLE FACILITIES GRANTS                           1\n",
       "EQUIPMENT STATUS                                     1\n",
       " TEO WO GUARDRAILS/BARRIER METAL/WOODEN              1\n",
       "TRAFFIC SIGNAL BIKE MAINT-SIGNAL LOOP DETECTION      1\n",
       " TEO WO PAINT STRIPING - NEW                         1\n",
       "DEFINE SCOPE FOR SW MJR REHAB CONTRACT               1\n",
       " TEO WO TRAFFIC SIGN - NEW                           1\n",
       " BICYCLE FACILITIES DESIGN                           1\n",
       "Major Contamination in Recycle Container             1\n",
       " CIP EVALUATE FOR STREET WIDENING                    1\n",
       " TRAFFIC SIGNAL PLAN CHECK                           1\n",
       "SIDEWALK/CURB&GUTTER/CONTRACT                        1\n",
       " CIP FINANCE PLAN UPDATE                             1\n",
       "MILL & PAVE TRENCH REPAIRS                           1\n",
       "Name: service_name_detail, dtype: int64"
      ]
     },
     "execution_count": 1364,
     "metadata": {},
     "output_type": "execute_result"
    }
   ],
   "source": [
    "types_service_name_details.tail(50)"
   ]
  },
  {
   "cell_type": "code",
   "execution_count": 1365,
   "id": "08d2c23a-6d15-4774-abda-07a212abb5ef",
   "metadata": {},
   "outputs": [
    {
     "data": {
      "text/plain": [
       "124"
      ]
     },
     "execution_count": 1365,
     "metadata": {},
     "output_type": "execute_result"
    }
   ],
   "source": [
    "len(types_service_name_details[types_service_name_details<1000])"
   ]
  },
  {
   "cell_type": "code",
   "execution_count": 1366,
   "id": "fefef566-e36f-4942-8a8d-1b0a658c44f6",
   "metadata": {
    "tags": []
   },
   "outputs": [],
   "source": [
    "service_name_details_to_keep = ['Missed Collection', 'Graffiti Removal', '72 Hour Violation', \n",
    "                                'Illegal Dumping', 'Parking Zone Violation', \n",
    "                                'Graffiti Removal - Commercial', 'STREET LIGHT OUT', \n",
    "                                'Potential Missed Collection', 'CONCRETE SIDEWALK REPAIR ISSUE', \n",
    "                                'LIGHTS OUT', 'SWPP - Storm Water Polution Prevention', \n",
    "                                'EVALUATE TREE FOR REMOVAL', 'LIGHTS ON FLASH', \n",
    "                                'POLE KNOCK OVER/DAMAGE', 'LIMB FALLEN OR HANGING', \n",
    "                                'Container Left Out', 'Vegetation Encroachment', 'Encroachment', \n",
    "                                'DRAIN INLET', 'Litter', 'Out Late', 'CONTRACTUAL TRIMMING', \n",
    "                                'EVALUATE FOR RESURFACING/SLURRY', 'Quality of Life Issues', \n",
    "                                'TRIM TREE FOR PEDS/VEHICLE CLEARANCE', 'TRAFFIC MAINTENANCE - OTHER', \n",
    "                                'PAINT CURB - MAINTENANCE', 'DAMAGED CURB', 'MINOR ASPHALT REPAIR',  \n",
    "                                'TRAFFIC OPERATIONS CURB DESIGNATION EVALUATIONS', 'TREE FALLEN', \n",
    "                                'GUARDRAILS/BARRIER METAL/WOODEN', \n",
    "                                'Street Litter Container', 'PALM FRONDS DOWN', \n",
    "                                'PAINT STRIPING - MAINTENANCE',  \n",
    "                                'TRAFFIC OPERATIONS TRAFFIC CALMING/SAFETY FEATURES', \n",
    "                                'SIGNAL FACING WRONG DIRECTION', 'SIDEWALK MINOR REHAB CONTRACT', \n",
    "                                'INVESTIGATE', 'TRIM TREE - BLOCKING TRAFFIC DEVICE', \n",
    "                                'ASPHALT PAVEMENT REPAIR ISSUE',  \n",
    "                                'TRAFFIC OPERATIONS SIGNAGE EVALUATIONS', 'LIGHT ON DURING THE DAY', \n",
    "                                'Citizen Contact', 'CHAIN LINK FENCE REPAIR', 'DRAINAGE DITCH', \n",
    "                                'FREE TREE PLANTING REQUEST', 'Container Overflow',  \n",
    "                                'TRAFFIC SIGNAL STRIPING/SIGNAGE REVIEW', 'SIDEWALK LIFTED']"
   ]
  },
  {
   "cell_type": "code",
   "execution_count": 1367,
   "id": "08dbdef7-5d09-458c-97c4-88de05788120",
   "metadata": {},
   "outputs": [],
   "source": [
    "all_details = list(requests_21['service_name_detail'].values)"
   ]
  },
  {
   "cell_type": "code",
   "execution_count": 1368,
   "id": "cf4fe254-2241-47ec-9bd0-0b409cde4e34",
   "metadata": {},
   "outputs": [],
   "source": [
    "# requests_21['detailed_type'] = np.where(requests_21['service_name_detail'].isin(service_name_details_to_keep) == True, \n",
    "#                                         requests_21['service_name_detail'], \n",
    "#                                         requests_21['service_name'])"
   ]
  },
  {
   "cell_type": "code",
   "execution_count": 1369,
   "id": "b36c4a58-f48d-477a-8684-b7df8189492b",
   "metadata": {
    "tags": []
   },
   "outputs": [],
   "source": [
    "requests_21['detailed_type'] = np.where(requests_21['service_name_detail'].isin(all_details) == True, \n",
    "                                        requests_21['service_name_detail'], \n",
    "                                        requests_21['service_name'])"
   ]
  },
  {
   "cell_type": "code",
   "execution_count": 1370,
   "id": "7541e976-edfa-45fc-9d10-accabad54a57",
   "metadata": {},
   "outputs": [
    {
     "data": {
      "text/plain": [
       "Missed Collection                    39626\n",
       "Graffiti Removal                     29446\n",
       "72 Hour Violation                    28206\n",
       "Illegal Dumping                      16078\n",
       "Parking Zone Violation               15404\n",
       "                                     ...  \n",
       " CIP EVALUATE FOR STREET WIDENING        1\n",
       " TRAFFIC SIGNAL PLAN CHECK               1\n",
       "SIDEWALK/CURB&GUTTER/CONTRACT            1\n",
       " CIP FINANCE PLAN UPDATE                 1\n",
       "MILL & PAVE TRENCH REPAIRS               1\n",
       "Name: detailed_type, Length: 149, dtype: int64"
      ]
     },
     "execution_count": 1370,
     "metadata": {},
     "output_type": "execute_result"
    }
   ],
   "source": [
    "requests_21['detailed_type'].value_counts()"
   ]
  },
  {
   "cell_type": "code",
   "execution_count": 1371,
   "id": "390a8224-91aa-4fe2-80ff-cd74c8ea1ae9",
   "metadata": {},
   "outputs": [],
   "source": [
    "requests_21 = pd.get_dummies(requests_21, columns=['detailed_type'], prefix='type', prefix_sep='_', drop_first=True)"
   ]
  },
  {
   "cell_type": "code",
   "execution_count": 1372,
   "id": "0b64a37b-f9cc-41dc-94f3-41da7b4661a5",
   "metadata": {},
   "outputs": [],
   "source": [
    "#drop original service_name and service_name_detail columns\n",
    "requests_21 = requests_21.drop(['service_name', 'service_name_detail'], axis=1)"
   ]
  },
  {
   "cell_type": "markdown",
   "id": "0d03c47f-229f-41ec-b907-404debe36e54",
   "metadata": {
    "tags": []
   },
   "source": [
    "### 5: council_district"
   ]
  },
  {
   "cell_type": "markdown",
   "id": "9f154e59-d56a-463a-8cde-22210851445a",
   "metadata": {},
   "source": [
    "#### feature: cd"
   ]
  },
  {
   "cell_type": "code",
   "execution_count": 1373,
   "id": "bf40ead7-f326-4082-a56b-ec6a5dfef7fc",
   "metadata": {},
   "outputs": [],
   "source": [
    "requests_21 = pd.get_dummies(requests_21, columns=['council_district'], prefix='cd', prefix_sep='_', drop_first=True)"
   ]
  },
  {
   "cell_type": "code",
   "execution_count": 1374,
   "id": "1bb96ef9-bf8c-407a-ac90-7d73fccd7756",
   "metadata": {},
   "outputs": [
    {
     "data": {
      "text/plain": [
       "Index(['case_age_days', 'in_park', 'case_origin', 'referred',\n",
       "       'public_description', 'has_description', 'is_weekend', 'day_Saturday',\n",
       "       'day_Sunday', 'day_Monday',\n",
       "       ...\n",
       "       'type_Uncovered Container', 'type_Vegetation Encroachment', 'cd_2.0',\n",
       "       'cd_3.0', 'cd_4.0', 'cd_5.0', 'cd_6.0', 'cd_7.0', 'cd_8.0', 'cd_9.0'],\n",
       "      dtype='object', length=180)"
      ]
     },
     "execution_count": 1374,
     "metadata": {},
     "output_type": "execute_result"
    }
   ],
   "source": [
    "requests_21.columns"
   ]
  },
  {
   "cell_type": "markdown",
   "id": "6e231169-2e26-4697-a3ad-ed2ff0e14c34",
   "metadata": {},
   "source": [
    "### 6: in_park\n",
    "- this feature already exists as a binary feature"
   ]
  },
  {
   "cell_type": "markdown",
   "id": "9f9b5ad0-3984-4591-b842-507d74461166",
   "metadata": {},
   "source": [
    "#### feature: in_park"
   ]
  },
  {
   "cell_type": "markdown",
   "id": "56737496-1f80-4571-a202-d18f44acd20e",
   "metadata": {},
   "source": [
    "### 7: case_origin"
   ]
  },
  {
   "cell_type": "markdown",
   "id": "68f66d0b-e654-4ea0-85a1-8a6ea4b589cd",
   "metadata": {},
   "source": [
    "#### feature: origin\n",
    "- describes whether person called in or requested via web or mobile app"
   ]
  },
  {
   "cell_type": "code",
   "execution_count": 1375,
   "id": "b9919e7f-bd01-4a4a-bfad-9245fca6cb1f",
   "metadata": {},
   "outputs": [],
   "source": [
    "requests_21['is_phone'] = np.where((requests_21['case_origin'] == 'Mobile') | (requests_21['case_origin'] == 'Web'), 0, 1)"
   ]
  },
  {
   "cell_type": "code",
   "execution_count": 1376,
   "id": "25b299ae-c052-43c4-8bda-bb8478cac2ea",
   "metadata": {},
   "outputs": [
    {
     "data": {
      "text/plain": [
       "0    248996\n",
       "1     25309\n",
       "Name: is_phone, dtype: int64"
      ]
     },
     "execution_count": 1376,
     "metadata": {},
     "output_type": "execute_result"
    }
   ],
   "source": [
    "requests_21['is_phone'].value_counts()"
   ]
  },
  {
   "cell_type": "code",
   "execution_count": 1377,
   "id": "9154286c-020c-41f1-bb99-e40cbba6c781",
   "metadata": {},
   "outputs": [],
   "source": [
    "#drop case_origin columns\n",
    "requests_21 = requests_21.drop('case_origin', axis=1)"
   ]
  },
  {
   "cell_type": "code",
   "execution_count": 1378,
   "id": "68686cc3-6fa5-4f55-8eef-434b717a01b4",
   "metadata": {},
   "outputs": [
    {
     "data": {
      "text/plain": [
       "Index(['case_age_days', 'in_park', 'referred', 'public_description',\n",
       "       'has_description', 'is_weekend', 'day_Saturday', 'day_Sunday',\n",
       "       'day_Monday', 'day_Tuesday',\n",
       "       ...\n",
       "       'type_Vegetation Encroachment', 'cd_2.0', 'cd_3.0', 'cd_4.0', 'cd_5.0',\n",
       "       'cd_6.0', 'cd_7.0', 'cd_8.0', 'cd_9.0', 'is_phone'],\n",
       "      dtype='object', length=180)"
      ]
     },
     "execution_count": 1378,
     "metadata": {},
     "output_type": "execute_result"
    }
   ],
   "source": [
    "requests_21.columns"
   ]
  },
  {
   "cell_type": "code",
   "execution_count": 1379,
   "id": "f6424dd2-b1e3-4018-b9ba-8a41c2343533",
   "metadata": {},
   "outputs": [],
   "source": [
    "# drop referred column\n",
    "requests_21 = requests_21.drop('referred', axis=1)"
   ]
  },
  {
   "cell_type": "markdown",
   "id": "405d8f8b-4f46-43a3-9529-1255ee500a7f",
   "metadata": {},
   "source": [
    "### 8: public_description (NLP features)"
   ]
  },
  {
   "cell_type": "markdown",
   "id": "af0e809d-b2eb-4e28-944f-c756110525ea",
   "metadata": {},
   "source": [
    "#### Imports"
   ]
  },
  {
   "cell_type": "code",
   "execution_count": 1380,
   "id": "3c6af19a-8816-43d2-86a1-e1d3cc15545c",
   "metadata": {},
   "outputs": [
    {
     "name": "stderr",
     "output_type": "stream",
     "text": [
      "[nltk_data] Downloading package stopwords to\n",
      "[nltk_data]     C:\\Users\\mnicn\\AppData\\Roaming\\nltk_data...\n",
      "[nltk_data]   Package stopwords is already up-to-date!\n",
      "[nltk_data] Downloading package omw-1.4 to\n",
      "[nltk_data]     C:\\Users\\mnicn\\AppData\\Roaming\\nltk_data...\n",
      "[nltk_data]   Package omw-1.4 is already up-to-date!\n",
      "[nltk_data] Downloading package wordnet to\n",
      "[nltk_data]     C:\\Users\\mnicn\\AppData\\Roaming\\nltk_data...\n",
      "[nltk_data]   Package wordnet is already up-to-date!\n",
      "[nltk_data] Downloading package punkt to\n",
      "[nltk_data]     C:\\Users\\mnicn\\AppData\\Roaming\\nltk_data...\n",
      "[nltk_data]   Package punkt is already up-to-date!\n"
     ]
    }
   ],
   "source": [
    "#import required packages for cleaning\n",
    "import nltk\n",
    "from nltk.corpus import stopwords\n",
    "nltk.download('stopwords')\n",
    "nltk.download('omw-1.4')\n",
    "from nltk.corpus import stopwords\n",
    "nltk.download('wordnet')\n",
    "from nltk.stem import WordNetLemmatizer\n",
    "nltk.download('punkt')\n",
    "from nltk.stem import PorterStemmer\n",
    "\n",
    "import string\n",
    "import re"
   ]
  },
  {
   "cell_type": "code",
   "execution_count": 1381,
   "id": "e40d454e-eeb3-47e1-859a-9b2dfbe56751",
   "metadata": {},
   "outputs": [],
   "source": [
    "from sklearn.preprocessing import MinMaxScaler\n",
    "# Import StandardScaler\n",
    "from sklearn.preprocessing import StandardScaler"
   ]
  },
  {
   "cell_type": "markdown",
   "id": "740250b0-69dd-4553-aef9-9c9ee10ae0f9",
   "metadata": {},
   "source": [
    "#### Cleaning"
   ]
  },
  {
   "cell_type": "code",
   "execution_count": 1382,
   "id": "fd3158f0-1e34-47a3-b01f-46f96f95b3a2",
   "metadata": {},
   "outputs": [],
   "source": [
    "ENGstopwords = stopwords.words('english')"
   ]
  },
  {
   "cell_type": "code",
   "execution_count": 1383,
   "id": "472a35e7-411e-442b-88f8-8baa02e61c3d",
   "metadata": {},
   "outputs": [],
   "source": [
    "#remove all rows with no description\n",
    "requests_21 = requests_21.dropna(subset=['public_description'])"
   ]
  },
  {
   "cell_type": "code",
   "execution_count": 1384,
   "id": "015d718b-03a9-4f79-82b2-c97c79b18f10",
   "metadata": {},
   "outputs": [],
   "source": [
    "#define cleaning function\n",
    "\n",
    "def clean(text):\n",
    "    \n",
    "    # remove punctuation    \n",
    "    text = \"\".join([char for char in text if char not in string.punctuation])\n",
    "\n",
    "    # tokenize words\n",
    "    tokens = text.split()\n",
    "\n",
    "    # remove all stopwords\n",
    "    tokens_no_stopwords = [word for word in tokens if word not in ENGstopwords]\n",
    "\n",
    "    # lemmatize\n",
    "    lemmatizer = WordNetLemmatizer()\n",
    "    lemmatized_tokens_n = [lemmatizer.lemmatize(token) for token in tokens_no_stopwords]\n",
    "    lemmatized_tokens_v = [lemmatizer.lemmatize(token, pos =\"v\") for token in lemmatized_tokens_n]\n",
    "    lemmatized_tokens_a = [lemmatizer.lemmatize(token, pos =\"a\") for token in lemmatized_tokens_v]\n",
    "    lemmatized_tokens_r = [lemmatizer.lemmatize(token, pos =\"r\") for token in lemmatized_tokens_a]\n",
    "    lemmatized_tokens_s = [lemmatizer.lemmatize(token, pos =\"s\") for token in lemmatized_tokens_r]\n",
    "        \n",
    "    return lemmatized_tokens_s"
   ]
  },
  {
   "cell_type": "code",
   "execution_count": 1385,
   "id": "bf6003ac-0c15-4613-b4f5-df173f458b99",
   "metadata": {},
   "outputs": [],
   "source": [
    "requests_21['tokens'] = requests_21['public_description'].apply(lambda x: clean(x.lower()))"
   ]
  },
  {
   "cell_type": "markdown",
   "id": "ee9f1b7c-2498-4a84-af14-7bc4945c2491",
   "metadata": {},
   "source": [
    "#### feature: word_count"
   ]
  },
  {
   "cell_type": "code",
   "execution_count": 1386,
   "id": "9f75202b-879e-4a20-963d-2a49149b0c77",
   "metadata": {},
   "outputs": [],
   "source": [
    "# define function to create tokens WITH stopwords\n",
    "def count_all_words(text):\n",
    "    \n",
    "    # remove punctuation    \n",
    "    text = \"\".join([char for char in text if char not in string.punctuation])\n",
    "\n",
    "    # tokenize words\n",
    "    tokens = text.split()\n",
    "        \n",
    "    return len(tokens)\n",
    "\n",
    "\n",
    "requests_21['word_count'] = requests_21['public_description'].apply(lambda x: count_all_words(x.lower()))"
   ]
  },
  {
   "cell_type": "code",
   "execution_count": 1387,
   "id": "8cfbc86d-b0ad-46a8-a2ea-e49a609f60f6",
   "metadata": {},
   "outputs": [
    {
     "data": {
      "text/html": [
       "<div>\n",
       "<style scoped>\n",
       "    .dataframe tbody tr th:only-of-type {\n",
       "        vertical-align: middle;\n",
       "    }\n",
       "\n",
       "    .dataframe tbody tr th {\n",
       "        vertical-align: top;\n",
       "    }\n",
       "\n",
       "    .dataframe thead th {\n",
       "        text-align: right;\n",
       "    }\n",
       "</style>\n",
       "<table border=\"1\" class=\"dataframe\">\n",
       "  <thead>\n",
       "    <tr style=\"text-align: right;\">\n",
       "      <th></th>\n",
       "      <th>case_age_days</th>\n",
       "      <th>in_park</th>\n",
       "      <th>public_description</th>\n",
       "      <th>has_description</th>\n",
       "      <th>is_weekend</th>\n",
       "      <th>day_Saturday</th>\n",
       "      <th>day_Sunday</th>\n",
       "      <th>day_Monday</th>\n",
       "      <th>day_Tuesday</th>\n",
       "      <th>day_Wednesday</th>\n",
       "      <th>...</th>\n",
       "      <th>cd_3.0</th>\n",
       "      <th>cd_4.0</th>\n",
       "      <th>cd_5.0</th>\n",
       "      <th>cd_6.0</th>\n",
       "      <th>cd_7.0</th>\n",
       "      <th>cd_8.0</th>\n",
       "      <th>cd_9.0</th>\n",
       "      <th>is_phone</th>\n",
       "      <th>tokens</th>\n",
       "      <th>word_count</th>\n",
       "    </tr>\n",
       "  </thead>\n",
       "  <tbody>\n",
       "    <tr>\n",
       "      <th>0</th>\n",
       "      <td>1654.0</td>\n",
       "      <td>0</td>\n",
       "      <td>We have a cement street it is buckling and one...</td>\n",
       "      <td>1</td>\n",
       "      <td>0</td>\n",
       "      <td>0</td>\n",
       "      <td>0</td>\n",
       "      <td>0</td>\n",
       "      <td>0</td>\n",
       "      <td>1</td>\n",
       "      <td>...</td>\n",
       "      <td>0</td>\n",
       "      <td>0</td>\n",
       "      <td>1</td>\n",
       "      <td>0</td>\n",
       "      <td>0</td>\n",
       "      <td>0</td>\n",
       "      <td>0</td>\n",
       "      <td>0</td>\n",
       "      <td>[cement, street, buckle, one, neighbor, trip, ...</td>\n",
       "      <td>34</td>\n",
       "    </tr>\n",
       "    <tr>\n",
       "      <th>2</th>\n",
       "      <td>1652.0</td>\n",
       "      <td>0</td>\n",
       "      <td>curb cracked, please fill\\ngutter joint depres...</td>\n",
       "      <td>1</td>\n",
       "      <td>0</td>\n",
       "      <td>0</td>\n",
       "      <td>0</td>\n",
       "      <td>0</td>\n",
       "      <td>0</td>\n",
       "      <td>0</td>\n",
       "      <td>...</td>\n",
       "      <td>0</td>\n",
       "      <td>0</td>\n",
       "      <td>0</td>\n",
       "      <td>0</td>\n",
       "      <td>0</td>\n",
       "      <td>0</td>\n",
       "      <td>0</td>\n",
       "      <td>0</td>\n",
       "      <td>[curb, crack, please, fill, gutter, joint, dep...</td>\n",
       "      <td>10</td>\n",
       "    </tr>\n",
       "  </tbody>\n",
       "</table>\n",
       "<p>2 rows × 181 columns</p>\n",
       "</div>"
      ],
      "text/plain": [
       "   case_age_days  in_park                                 public_description  \\\n",
       "0         1654.0        0  We have a cement street it is buckling and one...   \n",
       "2         1652.0        0  curb cracked, please fill\\ngutter joint depres...   \n",
       "\n",
       "   has_description  is_weekend  day_Saturday  day_Sunday  day_Monday  \\\n",
       "0                1           0             0           0           0   \n",
       "2                1           0             0           0           0   \n",
       "\n",
       "   day_Tuesday  day_Wednesday  ...  cd_3.0  cd_4.0  cd_5.0  cd_6.0  cd_7.0  \\\n",
       "0            0              1  ...       0       0       1       0       0   \n",
       "2            0              0  ...       0       0       0       0       0   \n",
       "\n",
       "   cd_8.0  cd_9.0  is_phone  \\\n",
       "0       0       0         0   \n",
       "2       0       0         0   \n",
       "\n",
       "                                              tokens  word_count  \n",
       "0  [cement, street, buckle, one, neighbor, trip, ...          34  \n",
       "2  [curb, crack, please, fill, gutter, joint, dep...          10  \n",
       "\n",
       "[2 rows x 181 columns]"
      ]
     },
     "execution_count": 1387,
     "metadata": {},
     "output_type": "execute_result"
    }
   ],
   "source": [
    "requests_21.head(2)"
   ]
  },
  {
   "cell_type": "code",
   "execution_count": 1388,
   "id": "24bab273-6ab0-4228-954a-b96a495286ab",
   "metadata": {},
   "outputs": [],
   "source": [
    "#standardize word count column\n",
    "\n",
    "# Instantiate StandardScaler\n",
    "SS_scaler = StandardScaler()\n",
    "\n",
    "# Fit SS_scaler to the data\n",
    "SS_scaler.fit(requests_21[['word_count']])\n",
    "\n",
    "# Transform the data using the fitted scaler\n",
    "requests_21['word_count_SS'] = SS_scaler.transform(requests_21[['word_count']])\n",
    "\n",
    "# # Compare the origional and transformed column\n",
    "# print(requests_21[['Age_SS', 'Age']].head())"
   ]
  },
  {
   "cell_type": "code",
   "execution_count": 1389,
   "id": "603b92df-d059-458e-9235-7bb1276fcffd",
   "metadata": {},
   "outputs": [
    {
     "data": {
      "text/html": [
       "<div>\n",
       "<style scoped>\n",
       "    .dataframe tbody tr th:only-of-type {\n",
       "        vertical-align: middle;\n",
       "    }\n",
       "\n",
       "    .dataframe tbody tr th {\n",
       "        vertical-align: top;\n",
       "    }\n",
       "\n",
       "    .dataframe thead th {\n",
       "        text-align: right;\n",
       "    }\n",
       "</style>\n",
       "<table border=\"1\" class=\"dataframe\">\n",
       "  <thead>\n",
       "    <tr style=\"text-align: right;\">\n",
       "      <th></th>\n",
       "      <th>case_age_days</th>\n",
       "      <th>in_park</th>\n",
       "      <th>public_description</th>\n",
       "      <th>has_description</th>\n",
       "      <th>is_weekend</th>\n",
       "      <th>day_Saturday</th>\n",
       "      <th>day_Sunday</th>\n",
       "      <th>day_Monday</th>\n",
       "      <th>day_Tuesday</th>\n",
       "      <th>day_Wednesday</th>\n",
       "      <th>...</th>\n",
       "      <th>cd_4.0</th>\n",
       "      <th>cd_5.0</th>\n",
       "      <th>cd_6.0</th>\n",
       "      <th>cd_7.0</th>\n",
       "      <th>cd_8.0</th>\n",
       "      <th>cd_9.0</th>\n",
       "      <th>is_phone</th>\n",
       "      <th>tokens</th>\n",
       "      <th>word_count</th>\n",
       "      <th>word_count_SS</th>\n",
       "    </tr>\n",
       "  </thead>\n",
       "  <tbody>\n",
       "    <tr>\n",
       "      <th>0</th>\n",
       "      <td>1654.0</td>\n",
       "      <td>0</td>\n",
       "      <td>We have a cement street it is buckling and one...</td>\n",
       "      <td>1</td>\n",
       "      <td>0</td>\n",
       "      <td>0</td>\n",
       "      <td>0</td>\n",
       "      <td>0</td>\n",
       "      <td>0</td>\n",
       "      <td>1</td>\n",
       "      <td>...</td>\n",
       "      <td>0</td>\n",
       "      <td>1</td>\n",
       "      <td>0</td>\n",
       "      <td>0</td>\n",
       "      <td>0</td>\n",
       "      <td>0</td>\n",
       "      <td>0</td>\n",
       "      <td>[cement, street, buckle, one, neighbor, trip, ...</td>\n",
       "      <td>34</td>\n",
       "      <td>0.931554</td>\n",
       "    </tr>\n",
       "    <tr>\n",
       "      <th>2</th>\n",
       "      <td>1652.0</td>\n",
       "      <td>0</td>\n",
       "      <td>curb cracked, please fill\\ngutter joint depres...</td>\n",
       "      <td>1</td>\n",
       "      <td>0</td>\n",
       "      <td>0</td>\n",
       "      <td>0</td>\n",
       "      <td>0</td>\n",
       "      <td>0</td>\n",
       "      <td>0</td>\n",
       "      <td>...</td>\n",
       "      <td>0</td>\n",
       "      <td>0</td>\n",
       "      <td>0</td>\n",
       "      <td>0</td>\n",
       "      <td>0</td>\n",
       "      <td>0</td>\n",
       "      <td>0</td>\n",
       "      <td>[curb, crack, please, fill, gutter, joint, dep...</td>\n",
       "      <td>10</td>\n",
       "      <td>-0.231976</td>\n",
       "    </tr>\n",
       "  </tbody>\n",
       "</table>\n",
       "<p>2 rows × 182 columns</p>\n",
       "</div>"
      ],
      "text/plain": [
       "   case_age_days  in_park                                 public_description  \\\n",
       "0         1654.0        0  We have a cement street it is buckling and one...   \n",
       "2         1652.0        0  curb cracked, please fill\\ngutter joint depres...   \n",
       "\n",
       "   has_description  is_weekend  day_Saturday  day_Sunday  day_Monday  \\\n",
       "0                1           0             0           0           0   \n",
       "2                1           0             0           0           0   \n",
       "\n",
       "   day_Tuesday  day_Wednesday  ...  cd_4.0  cd_5.0  cd_6.0  cd_7.0  cd_8.0  \\\n",
       "0            0              1  ...       0       1       0       0       0   \n",
       "2            0              0  ...       0       0       0       0       0   \n",
       "\n",
       "   cd_9.0  is_phone                                             tokens  \\\n",
       "0       0         0  [cement, street, buckle, one, neighbor, trip, ...   \n",
       "2       0         0  [curb, crack, please, fill, gutter, joint, dep...   \n",
       "\n",
       "   word_count  word_count_SS  \n",
       "0          34       0.931554  \n",
       "2          10      -0.231976  \n",
       "\n",
       "[2 rows x 182 columns]"
      ]
     },
     "execution_count": 1389,
     "metadata": {},
     "output_type": "execute_result"
    }
   ],
   "source": [
    "requests_21.head(2)"
   ]
  },
  {
   "cell_type": "code",
   "execution_count": 1390,
   "id": "c7b4e6ce-1923-49a5-83d4-c9b6a3e5b3dd",
   "metadata": {},
   "outputs": [
    {
     "data": {
      "image/png": "[encoded data removed]",
      "text/plain": [
       "<Figure size 432x288 with 1 Axes>"
      ]
     },
     "metadata": {
      "needs_background": "light"
     },
     "output_type": "display_data"
    }
   ],
   "source": [
    "#check histogram of word count\n",
    "fig, ax = plt.subplots()\n",
    "ax.hist(requests_21['word_count_SS'], bins=100)\n",
    "plt.show()"
   ]
  },
  {
   "cell_type": "markdown",
   "id": "302e913a-c0af-43fc-a121-e71709ab6707",
   "metadata": {},
   "source": [
    "#### feature: word2vec"
   ]
  },
  {
   "cell_type": "code",
   "execution_count": 1391,
   "id": "091e0bab-2ddf-4657-8430-7b1d775fa37b",
   "metadata": {},
   "outputs": [
    {
     "data": {
      "text/plain": [
       "252369"
      ]
     },
     "execution_count": 1391,
     "metadata": {},
     "output_type": "execute_result"
    }
   ],
   "source": [
    "requests_21 = requests_21[requests_21['tokens'] != 0]\n",
    "\n",
    "requests_21.shape[0]"
   ]
  },
  {
   "cell_type": "code",
   "execution_count": 1392,
   "id": "de824162-dd0b-4e4f-97b2-ef6f81c3985a",
   "metadata": {},
   "outputs": [],
   "source": [
    "# create list of unique tokens\n",
    "\n",
    "unique_tokens = []\n",
    "\n",
    "i = 0\n",
    "\n",
    "while i < requests_21.shape[0]:\n",
    "    unique_tokens.append(list(set(requests_21.iloc[i,-3])))\n",
    "    i += 1"
   ]
  },
  {
   "cell_type": "code",
   "execution_count": 1393,
   "id": "072d3222-2cc7-46fe-beb6-70244d0b8b9b",
   "metadata": {},
   "outputs": [],
   "source": [
    "requests_21['unique_tokens'] = unique_tokens"
   ]
  },
  {
   "cell_type": "code",
   "execution_count": 1394,
   "id": "e63a96d6-4eae-4dae-bd02-1c27a2d030b2",
   "metadata": {},
   "outputs": [],
   "source": [
    "import gensim\n",
    "\n",
    "# Create CBoW model\n",
    "#size: output vector size\n",
    "#window: size of window for surrounding words\n",
    "#min_count: ignores all words that appear less than min_count times\n",
    "\n",
    "corpus_unique = requests_21['unique_tokens']\n",
    "Model_CBoW = gensim.models.Word2Vec(corpus_unique, vector_size=30, window = 3, min_count = 1)"
   ]
  },
  {
   "cell_type": "code",
   "execution_count": 1395,
   "id": "35d5b332-1ec9-4a29-88fd-fed2b8a7520f",
   "metadata": {},
   "outputs": [],
   "source": [
    "#create w2v\n",
    "x = 0\n",
    "w2v = []\n",
    "\n",
    "while x < requests_21.shape[0]:\n",
    "    f_tokens = requests_21.iloc[x,-1]\n",
    "    if(len(f_tokens) != 0):\n",
    "        w2v.append(Model_CBoW.wv[f_tokens[0]])\n",
    "    else:\n",
    "        w2v.append(0)\n",
    "    \n",
    "    z = 1\n",
    "    \n",
    "    while z < len(f_tokens):\n",
    "        w2v[x] = w2v[x] + Model_CBoW.wv[f_tokens[z]]\n",
    "        \n",
    "        z += 1\n",
    "    \n",
    "    x += 1"
   ]
  },
  {
   "cell_type": "code",
   "execution_count": 1396,
   "id": "d3eca9d0-c4aa-4789-8d42-15fd2be3ed1b",
   "metadata": {},
   "outputs": [],
   "source": [
    "requests_21['w2v'] = w2v"
   ]
  },
  {
   "cell_type": "code",
   "execution_count": 1397,
   "id": "e056e1d9-53f9-4462-b1bf-9ddb2a57325d",
   "metadata": {},
   "outputs": [
    {
     "data": {
      "text/html": [
       "<div>\n",
       "<style scoped>\n",
       "    .dataframe tbody tr th:only-of-type {\n",
       "        vertical-align: middle;\n",
       "    }\n",
       "\n",
       "    .dataframe tbody tr th {\n",
       "        vertical-align: top;\n",
       "    }\n",
       "\n",
       "    .dataframe thead th {\n",
       "        text-align: right;\n",
       "    }\n",
       "</style>\n",
       "<table border=\"1\" class=\"dataframe\">\n",
       "  <thead>\n",
       "    <tr style=\"text-align: right;\">\n",
       "      <th></th>\n",
       "      <th>case_age_days</th>\n",
       "      <th>in_park</th>\n",
       "      <th>public_description</th>\n",
       "      <th>has_description</th>\n",
       "      <th>is_weekend</th>\n",
       "      <th>day_Saturday</th>\n",
       "      <th>day_Sunday</th>\n",
       "      <th>day_Monday</th>\n",
       "      <th>day_Tuesday</th>\n",
       "      <th>day_Wednesday</th>\n",
       "      <th>...</th>\n",
       "      <th>cd_6.0</th>\n",
       "      <th>cd_7.0</th>\n",
       "      <th>cd_8.0</th>\n",
       "      <th>cd_9.0</th>\n",
       "      <th>is_phone</th>\n",
       "      <th>tokens</th>\n",
       "      <th>word_count</th>\n",
       "      <th>word_count_SS</th>\n",
       "      <th>unique_tokens</th>\n",
       "      <th>w2v</th>\n",
       "    </tr>\n",
       "  </thead>\n",
       "  <tbody>\n",
       "    <tr>\n",
       "      <th>0</th>\n",
       "      <td>1654.0</td>\n",
       "      <td>0</td>\n",
       "      <td>We have a cement street it is buckling and one...</td>\n",
       "      <td>1</td>\n",
       "      <td>0</td>\n",
       "      <td>0</td>\n",
       "      <td>0</td>\n",
       "      <td>0</td>\n",
       "      <td>0</td>\n",
       "      <td>1</td>\n",
       "      <td>...</td>\n",
       "      <td>0</td>\n",
       "      <td>0</td>\n",
       "      <td>0</td>\n",
       "      <td>0</td>\n",
       "      <td>0</td>\n",
       "      <td>[cement, street, buckle, one, neighbor, trip, ...</td>\n",
       "      <td>34</td>\n",
       "      <td>0.931554</td>\n",
       "      <td>[nothin, neighbor, get, one, cement, trip, rep...</td>\n",
       "      <td>[-10.944566, 16.476662, -15.4348345, -7.565827...</td>\n",
       "    </tr>\n",
       "    <tr>\n",
       "      <th>2</th>\n",
       "      <td>1652.0</td>\n",
       "      <td>0</td>\n",
       "      <td>curb cracked, please fill\\ngutter joint depres...</td>\n",
       "      <td>1</td>\n",
       "      <td>0</td>\n",
       "      <td>0</td>\n",
       "      <td>0</td>\n",
       "      <td>0</td>\n",
       "      <td>0</td>\n",
       "      <td>0</td>\n",
       "      <td>...</td>\n",
       "      <td>0</td>\n",
       "      <td>0</td>\n",
       "      <td>0</td>\n",
       "      <td>0</td>\n",
       "      <td>0</td>\n",
       "      <td>[curb, crack, please, fill, gutter, joint, dep...</td>\n",
       "      <td>10</td>\n",
       "      <td>-0.231976</td>\n",
       "      <td>[gutter, level, fill, depress, thank, joint, c...</td>\n",
       "      <td>[-5.61314, 1.0515611, -12.180729, -7.0782375, ...</td>\n",
       "    </tr>\n",
       "    <tr>\n",
       "      <th>4</th>\n",
       "      <td>1838.0</td>\n",
       "      <td>0</td>\n",
       "      <td>This road needs To be repaired immediately</td>\n",
       "      <td>1</td>\n",
       "      <td>1</td>\n",
       "      <td>0</td>\n",
       "      <td>1</td>\n",
       "      <td>0</td>\n",
       "      <td>0</td>\n",
       "      <td>0</td>\n",
       "      <td>...</td>\n",
       "      <td>0</td>\n",
       "      <td>0</td>\n",
       "      <td>0</td>\n",
       "      <td>1</td>\n",
       "      <td>0</td>\n",
       "      <td>[road, need, repair, immediately]</td>\n",
       "      <td>7</td>\n",
       "      <td>-0.377418</td>\n",
       "      <td>[immediately, road, need, repair]</td>\n",
       "      <td>[-4.0262136, 2.8911657, -14.37211, -1.1135497,...</td>\n",
       "    </tr>\n",
       "    <tr>\n",
       "      <th>6</th>\n",
       "      <td>1834.0</td>\n",
       "      <td>0</td>\n",
       "      <td>STRETCH OF FAIRMOUNT</td>\n",
       "      <td>1</td>\n",
       "      <td>0</td>\n",
       "      <td>0</td>\n",
       "      <td>0</td>\n",
       "      <td>0</td>\n",
       "      <td>0</td>\n",
       "      <td>1</td>\n",
       "      <td>...</td>\n",
       "      <td>0</td>\n",
       "      <td>0</td>\n",
       "      <td>0</td>\n",
       "      <td>1</td>\n",
       "      <td>1</td>\n",
       "      <td>[stretch, fairmount]</td>\n",
       "      <td>3</td>\n",
       "      <td>-0.571339</td>\n",
       "      <td>[stretch, fairmount]</td>\n",
       "      <td>[-0.022577643, -0.94352746, -1.5673112, 2.3387...</td>\n",
       "    </tr>\n",
       "    <tr>\n",
       "      <th>7</th>\n",
       "      <td>1882.0</td>\n",
       "      <td>0</td>\n",
       "      <td>This area on Del Mar Heights Rd in front of th...</td>\n",
       "      <td>1</td>\n",
       "      <td>0</td>\n",
       "      <td>0</td>\n",
       "      <td>0</td>\n",
       "      <td>0</td>\n",
       "      <td>0</td>\n",
       "      <td>1</td>\n",
       "      <td>...</td>\n",
       "      <td>0</td>\n",
       "      <td>0</td>\n",
       "      <td>0</td>\n",
       "      <td>0</td>\n",
       "      <td>0</td>\n",
       "      <td>[area, del, mar, height, rd, front, torrey, pi...</td>\n",
       "      <td>43</td>\n",
       "      <td>1.367878</td>\n",
       "      <td>[mar, height, already, pave, rd, bad, thank, w...</td>\n",
       "      <td>[-12.199254, 7.4251266, -28.39754, 15.573087, ...</td>\n",
       "    </tr>\n",
       "  </tbody>\n",
       "</table>\n",
       "<p>5 rows × 184 columns</p>\n",
       "</div>"
      ],
      "text/plain": [
       "   case_age_days  in_park                                 public_description  \\\n",
       "0         1654.0        0  We have a cement street it is buckling and one...   \n",
       "2         1652.0        0  curb cracked, please fill\\ngutter joint depres...   \n",
       "4         1838.0        0         This road needs To be repaired immediately   \n",
       "6         1834.0        0                               STRETCH OF FAIRMOUNT   \n",
       "7         1882.0        0  This area on Del Mar Heights Rd in front of th...   \n",
       "\n",
       "   has_description  is_weekend  day_Saturday  day_Sunday  day_Monday  \\\n",
       "0                1           0             0           0           0   \n",
       "2                1           0             0           0           0   \n",
       "4                1           1             0           1           0   \n",
       "6                1           0             0           0           0   \n",
       "7                1           0             0           0           0   \n",
       "\n",
       "   day_Tuesday  day_Wednesday  ...  cd_6.0  cd_7.0  cd_8.0  cd_9.0  is_phone  \\\n",
       "0            0              1  ...       0       0       0       0         0   \n",
       "2            0              0  ...       0       0       0       0         0   \n",
       "4            0              0  ...       0       0       0       1         0   \n",
       "6            0              1  ...       0       0       0       1         1   \n",
       "7            0              1  ...       0       0       0       0         0   \n",
       "\n",
       "                                              tokens  word_count  \\\n",
       "0  [cement, street, buckle, one, neighbor, trip, ...          34   \n",
       "2  [curb, crack, please, fill, gutter, joint, dep...          10   \n",
       "4                  [road, need, repair, immediately]           7   \n",
       "6                               [stretch, fairmount]           3   \n",
       "7  [area, del, mar, height, rd, front, torrey, pi...          43   \n",
       "\n",
       "   word_count_SS                                      unique_tokens  \\\n",
       "0       0.931554  [nothin, neighbor, get, one, cement, trip, rep...   \n",
       "2      -0.231976  [gutter, level, fill, depress, thank, joint, c...   \n",
       "4      -0.377418                  [immediately, road, need, repair]   \n",
       "6      -0.571339                               [stretch, fairmount]   \n",
       "7       1.367878  [mar, height, already, pave, rd, bad, thank, w...   \n",
       "\n",
       "                                                 w2v  \n",
       "0  [-10.944566, 16.476662, -15.4348345, -7.565827...  \n",
       "2  [-5.61314, 1.0515611, -12.180729, -7.0782375, ...  \n",
       "4  [-4.0262136, 2.8911657, -14.37211, -1.1135497,...  \n",
       "6  [-0.022577643, -0.94352746, -1.5673112, 2.3387...  \n",
       "7  [-12.199254, 7.4251266, -28.39754, 15.573087, ...  \n",
       "\n",
       "[5 rows x 184 columns]"
      ]
     },
     "execution_count": 1397,
     "metadata": {},
     "output_type": "execute_result"
    }
   ],
   "source": [
    "requests_21.head()"
   ]
  },
  {
   "cell_type": "code",
   "execution_count": 1424,
   "id": "c8a12e12-ca0b-4641-a89e-e65b6792e149",
   "metadata": {},
   "outputs": [
    {
     "name": "stdout",
     "output_type": "stream",
     "text": [
      "[\"<class 'numpy.ndarray'>\", \"<class 'numpy.ndarray'>\", \"<class 'numpy.ndarray'>\", \"<class 'numpy.ndarray'>\", \"<class 'numpy.ndarray'>\", \"<class 'numpy.ndarray'>\", \"<class 'numpy.ndarray'>\", \"<class 'numpy.ndarray'>\", \"<class 'numpy.ndarray'>\", \"<class 'numpy.ndarray'>\"]\n"
     ]
    }
   ],
   "source": [
    "real_type = []\n",
    "i=0\n",
    "\n",
    "while i < requests_21.shape[0]:\n",
    "    real_type.append(str(type(requests_21.iloc[i,-1])))\n",
    "    i+=1\n",
    "\n",
    "print(real_type[0:10])"
   ]
  },
  {
   "cell_type": "code",
   "execution_count": 1427,
   "id": "6be4983c-55ba-4239-8df2-0b930f27271b",
   "metadata": {},
   "outputs": [],
   "source": [
    "requests_21['real_type'] = real_type"
   ]
  },
  {
   "cell_type": "code",
   "execution_count": 1428,
   "id": "9940f032-270a-40ae-8dda-8cc21ef0b390",
   "metadata": {},
   "outputs": [
    {
     "data": {
      "text/plain": [
       "252197"
      ]
     },
     "execution_count": 1428,
     "metadata": {},
     "output_type": "execute_result"
    }
   ],
   "source": [
    "requests_21 = requests_21[requests_21['real_type'] == \"<class 'numpy.ndarray'>\"]\n",
    "requests_21.shape[0]"
   ]
  },
  {
   "cell_type": "code",
   "execution_count": 1200,
   "id": "90b21cf1-9502-48ec-8b80-82d17bf25f68",
   "metadata": {},
   "outputs": [],
   "source": [
    "w2v_0 = []"
   ]
  },
  {
   "cell_type": "code",
   "execution_count": 1204,
   "id": "03e699f8-052c-4867-bf5d-a9ba8e7674b8",
   "metadata": {},
   "outputs": [
    {
     "data": {
      "text/plain": [
       "[-3.1176453, -4.0667257, -0.44399187]"
      ]
     },
     "execution_count": 1204,
     "metadata": {},
     "output_type": "execute_result"
    }
   ],
   "source": [
    "i=3\n",
    "w2v_0.append(test['w2v'].iloc[i][0])\n",
    "w2v_0"
   ]
  },
  {
   "cell_type": "code",
   "execution_count": 1435,
   "id": "77b63346-f24f-47f3-9843-9e5ac3c82df8",
   "metadata": {},
   "outputs": [
    {
     "data": {
      "text/html": [
       "<div>\n",
       "<style scoped>\n",
       "    .dataframe tbody tr th:only-of-type {\n",
       "        vertical-align: middle;\n",
       "    }\n",
       "\n",
       "    .dataframe tbody tr th {\n",
       "        vertical-align: top;\n",
       "    }\n",
       "\n",
       "    .dataframe thead th {\n",
       "        text-align: right;\n",
       "    }\n",
       "</style>\n",
       "<table border=\"1\" class=\"dataframe\">\n",
       "  <thead>\n",
       "    <tr style=\"text-align: right;\">\n",
       "      <th></th>\n",
       "      <th>case_age_days</th>\n",
       "      <th>in_park</th>\n",
       "      <th>public_description</th>\n",
       "      <th>has_description</th>\n",
       "      <th>is_weekend</th>\n",
       "      <th>day_Saturday</th>\n",
       "      <th>day_Sunday</th>\n",
       "      <th>day_Monday</th>\n",
       "      <th>day_Tuesday</th>\n",
       "      <th>day_Wednesday</th>\n",
       "      <th>...</th>\n",
       "      <th>cd_7.0</th>\n",
       "      <th>cd_8.0</th>\n",
       "      <th>cd_9.0</th>\n",
       "      <th>is_phone</th>\n",
       "      <th>tokens</th>\n",
       "      <th>word_count</th>\n",
       "      <th>word_count_SS</th>\n",
       "      <th>unique_tokens</th>\n",
       "      <th>w2v</th>\n",
       "      <th>real_type</th>\n",
       "    </tr>\n",
       "  </thead>\n",
       "  <tbody>\n",
       "    <tr>\n",
       "      <th>0</th>\n",
       "      <td>1654.0</td>\n",
       "      <td>0</td>\n",
       "      <td>We have a cement street it is buckling and one...</td>\n",
       "      <td>1</td>\n",
       "      <td>0</td>\n",
       "      <td>0</td>\n",
       "      <td>0</td>\n",
       "      <td>0</td>\n",
       "      <td>0</td>\n",
       "      <td>1</td>\n",
       "      <td>...</td>\n",
       "      <td>0</td>\n",
       "      <td>0</td>\n",
       "      <td>0</td>\n",
       "      <td>0</td>\n",
       "      <td>[cement, street, buckle, one, neighbor, trip, ...</td>\n",
       "      <td>34</td>\n",
       "      <td>0.931554</td>\n",
       "      <td>[nothin, neighbor, get, one, cement, trip, rep...</td>\n",
       "      <td>[-10.944566, 16.476662, -15.4348345, -7.565827...</td>\n",
       "      <td>&lt;class 'numpy.ndarray'&gt;</td>\n",
       "    </tr>\n",
       "    <tr>\n",
       "      <th>2</th>\n",
       "      <td>1652.0</td>\n",
       "      <td>0</td>\n",
       "      <td>curb cracked, please fill\\ngutter joint depres...</td>\n",
       "      <td>1</td>\n",
       "      <td>0</td>\n",
       "      <td>0</td>\n",
       "      <td>0</td>\n",
       "      <td>0</td>\n",
       "      <td>0</td>\n",
       "      <td>0</td>\n",
       "      <td>...</td>\n",
       "      <td>0</td>\n",
       "      <td>0</td>\n",
       "      <td>0</td>\n",
       "      <td>0</td>\n",
       "      <td>[curb, crack, please, fill, gutter, joint, dep...</td>\n",
       "      <td>10</td>\n",
       "      <td>-0.231976</td>\n",
       "      <td>[gutter, level, fill, depress, thank, joint, c...</td>\n",
       "      <td>[-5.61314, 1.0515611, -12.180729, -7.0782375, ...</td>\n",
       "      <td>&lt;class 'numpy.ndarray'&gt;</td>\n",
       "    </tr>\n",
       "    <tr>\n",
       "      <th>4</th>\n",
       "      <td>1838.0</td>\n",
       "      <td>0</td>\n",
       "      <td>This road needs To be repaired immediately</td>\n",
       "      <td>1</td>\n",
       "      <td>1</td>\n",
       "      <td>0</td>\n",
       "      <td>1</td>\n",
       "      <td>0</td>\n",
       "      <td>0</td>\n",
       "      <td>0</td>\n",
       "      <td>...</td>\n",
       "      <td>0</td>\n",
       "      <td>0</td>\n",
       "      <td>1</td>\n",
       "      <td>0</td>\n",
       "      <td>[road, need, repair, immediately]</td>\n",
       "      <td>7</td>\n",
       "      <td>-0.377418</td>\n",
       "      <td>[immediately, road, need, repair]</td>\n",
       "      <td>[-4.0262136, 2.8911657, -14.37211, -1.1135497,...</td>\n",
       "      <td>&lt;class 'numpy.ndarray'&gt;</td>\n",
       "    </tr>\n",
       "    <tr>\n",
       "      <th>6</th>\n",
       "      <td>1834.0</td>\n",
       "      <td>0</td>\n",
       "      <td>STRETCH OF FAIRMOUNT</td>\n",
       "      <td>1</td>\n",
       "      <td>0</td>\n",
       "      <td>0</td>\n",
       "      <td>0</td>\n",
       "      <td>0</td>\n",
       "      <td>0</td>\n",
       "      <td>1</td>\n",
       "      <td>...</td>\n",
       "      <td>0</td>\n",
       "      <td>0</td>\n",
       "      <td>1</td>\n",
       "      <td>1</td>\n",
       "      <td>[stretch, fairmount]</td>\n",
       "      <td>3</td>\n",
       "      <td>-0.571339</td>\n",
       "      <td>[stretch, fairmount]</td>\n",
       "      <td>[-0.022577643, -0.94352746, -1.5673112, 2.3387...</td>\n",
       "      <td>&lt;class 'numpy.ndarray'&gt;</td>\n",
       "    </tr>\n",
       "    <tr>\n",
       "      <th>7</th>\n",
       "      <td>1882.0</td>\n",
       "      <td>0</td>\n",
       "      <td>This area on Del Mar Heights Rd in front of th...</td>\n",
       "      <td>1</td>\n",
       "      <td>0</td>\n",
       "      <td>0</td>\n",
       "      <td>0</td>\n",
       "      <td>0</td>\n",
       "      <td>0</td>\n",
       "      <td>1</td>\n",
       "      <td>...</td>\n",
       "      <td>0</td>\n",
       "      <td>0</td>\n",
       "      <td>0</td>\n",
       "      <td>0</td>\n",
       "      <td>[area, del, mar, height, rd, front, torrey, pi...</td>\n",
       "      <td>43</td>\n",
       "      <td>1.367878</td>\n",
       "      <td>[mar, height, already, pave, rd, bad, thank, w...</td>\n",
       "      <td>[-12.199254, 7.4251266, -28.39754, 15.573087, ...</td>\n",
       "      <td>&lt;class 'numpy.ndarray'&gt;</td>\n",
       "    </tr>\n",
       "  </tbody>\n",
       "</table>\n",
       "<p>5 rows × 185 columns</p>\n",
       "</div>"
      ],
      "text/plain": [
       "   case_age_days  in_park                                 public_description  \\\n",
       "0         1654.0        0  We have a cement street it is buckling and one...   \n",
       "2         1652.0        0  curb cracked, please fill\\ngutter joint depres...   \n",
       "4         1838.0        0         This road needs To be repaired immediately   \n",
       "6         1834.0        0                               STRETCH OF FAIRMOUNT   \n",
       "7         1882.0        0  This area on Del Mar Heights Rd in front of th...   \n",
       "\n",
       "   has_description  is_weekend  day_Saturday  day_Sunday  day_Monday  \\\n",
       "0                1           0             0           0           0   \n",
       "2                1           0             0           0           0   \n",
       "4                1           1             0           1           0   \n",
       "6                1           0             0           0           0   \n",
       "7                1           0             0           0           0   \n",
       "\n",
       "   day_Tuesday  day_Wednesday  ...  cd_7.0  cd_8.0  cd_9.0  is_phone  \\\n",
       "0            0              1  ...       0       0       0         0   \n",
       "2            0              0  ...       0       0       0         0   \n",
       "4            0              0  ...       0       0       1         0   \n",
       "6            0              1  ...       0       0       1         1   \n",
       "7            0              1  ...       0       0       0         0   \n",
       "\n",
       "                                              tokens  word_count  \\\n",
       "0  [cement, street, buckle, one, neighbor, trip, ...          34   \n",
       "2  [curb, crack, please, fill, gutter, joint, dep...          10   \n",
       "4                  [road, need, repair, immediately]           7   \n",
       "6                               [stretch, fairmount]           3   \n",
       "7  [area, del, mar, height, rd, front, torrey, pi...          43   \n",
       "\n",
       "   word_count_SS                                      unique_tokens  \\\n",
       "0       0.931554  [nothin, neighbor, get, one, cement, trip, rep...   \n",
       "2      -0.231976  [gutter, level, fill, depress, thank, joint, c...   \n",
       "4      -0.377418                  [immediately, road, need, repair]   \n",
       "6      -0.571339                               [stretch, fairmount]   \n",
       "7       1.367878  [mar, height, already, pave, rd, bad, thank, w...   \n",
       "\n",
       "                                                 w2v                real_type  \n",
       "0  [-10.944566, 16.476662, -15.4348345, -7.565827...  <class 'numpy.ndarray'>  \n",
       "2  [-5.61314, 1.0515611, -12.180729, -7.0782375, ...  <class 'numpy.ndarray'>  \n",
       "4  [-4.0262136, 2.8911657, -14.37211, -1.1135497,...  <class 'numpy.ndarray'>  \n",
       "6  [-0.022577643, -0.94352746, -1.5673112, 2.3387...  <class 'numpy.ndarray'>  \n",
       "7  [-12.199254, 7.4251266, -28.39754, 15.573087, ...  <class 'numpy.ndarray'>  \n",
       "\n",
       "[5 rows x 185 columns]"
      ]
     },
     "execution_count": 1435,
     "metadata": {},
     "output_type": "execute_result"
    }
   ],
   "source": [
    "requests_21.head()"
   ]
  },
  {
   "cell_type": "code",
   "execution_count": 1437,
   "id": "1412687f-16cf-459a-b67c-826dbde6b5f9",
   "metadata": {},
   "outputs": [
    {
     "name": "stderr",
     "output_type": "stream",
     "text": [
      "C:\\Users\\mnicn\\AppData\\Local\\Temp\\ipykernel_26952\\1226226709.py:1: SettingWithCopyWarning: \n",
      "A value is trying to be set on a copy of a slice from a DataFrame\n",
      "\n",
      "See the caveats in the documentation: https://pandas.pydata.org/pandas-docs/stable/user_guide/indexing.html#returning-a-view-versus-a-copy\n",
      "  requests_21.drop('real_type', axis=1, inplace=True)\n"
     ]
    }
   ],
   "source": [
    "requests_21.drop('real_type', axis=1, inplace=True)"
   ]
  },
  {
   "cell_type": "code",
   "execution_count": 1445,
   "id": "84bd58ed-dbc7-40ff-afd1-22e40c350066",
   "metadata": {},
   "outputs": [
    {
     "data": {
      "text/plain": [
       "252197"
      ]
     },
     "execution_count": 1445,
     "metadata": {},
     "output_type": "execute_result"
    }
   ],
   "source": [
    "len(requests_21['w2v'])"
   ]
  },
  {
   "cell_type": "code",
   "execution_count": 1456,
   "id": "a619e816-f02a-4650-9494-e5bee8a55f88",
   "metadata": {
    "tags": []
   },
   "outputs": [],
   "source": [
    "w2v_0 = []\n",
    "i=0\n",
    "#(test['w2v']):\n",
    "while i < requests_21.shape[0]: \n",
    "    w2v_0.append(requests_21['w2v'].iloc[i][0])\n",
    "    i+=1\n",
    "requests_21['w2v_0'] = w2v_0\n",
    "SS_scaler.fit(requests_21[['w2v_0']])\n",
    "requests_21['w2v_0'] = SS_scaler.transform(requests_21[['w2v_0']])\n",
    "\n",
    "w2v_1 = []\n",
    "i=0\n",
    "#(test['w2v']):\n",
    "while i < requests_21.shape[0]: \n",
    "    w2v_1.append(requests_21['w2v'].iloc[i][1])\n",
    "    i+=1\n",
    "requests_21['w2v_1'] = w2v_1\n",
    "SS_scaler.fit(requests_21[['w2v_1']])\n",
    "requests_21['w2v_1'] = SS_scaler.transform(requests_21[['w2v_1']])\n",
    "\n",
    "w2v_2 = []\n",
    "i=0\n",
    "#(test['w2v']):\n",
    "while i < requests_21.shape[0]: \n",
    "    w2v_2.append(requests_21['w2v'].iloc[i][2])\n",
    "    i+=1\n",
    "requests_21['w2v_2'] = w2v_2\n",
    "SS_scaler.fit(requests_21[['w2v_2']])\n",
    "requests_21['w2v_2'] = SS_scaler.transform(requests_21[['w2v_2']])\n",
    "\n",
    "w2v_3 = []\n",
    "i=0\n",
    "#(test['w2v']):\n",
    "while i < requests_21.shape[0]: \n",
    "    w2v_3.append(requests_21['w2v'].iloc[i][3])\n",
    "    i+=1\n",
    "requests_21['w2v_3'] = w2v_3\n",
    "SS_scaler.fit(requests_21[['w2v_3']])\n",
    "requests_21['w2v_3'] = SS_scaler.transform(requests_21[['w2v_3']])\n",
    "\n",
    "w2v_4 = []\n",
    "i=0\n",
    "#(test['w2v']):\n",
    "while i < requests_21.shape[0]: \n",
    "    w2v_4.append(requests_21['w2v'].iloc[i][4])\n",
    "    i+=1\n",
    "requests_21['w2v_4'] = w2v_4\n",
    "SS_scaler.fit(requests_21[['w2v_4']])\n",
    "requests_21['w2v_4'] = SS_scaler.transform(requests_21[['w2v_4']])\n",
    "\n",
    "w2v_5 = []\n",
    "i=0\n",
    "#(test['w2v']):\n",
    "while i < requests_21.shape[0]: \n",
    "    w2v_5.append(requests_21['w2v'].iloc[i][5])\n",
    "    i+=1\n",
    "requests_21['w2v_5'] = w2v_5\n",
    "SS_scaler.fit(requests_21[['w2v_5']])\n",
    "requests_21['w2v_5'] = SS_scaler.transform(requests_21[['w2v_5']])\n",
    "\n",
    "w2v_6 = []\n",
    "i=0\n",
    "#(test['w2v']):\n",
    "while i < requests_21.shape[0]: \n",
    "    w2v_6.append(requests_21['w2v'].iloc[i][6])\n",
    "    i+=1\n",
    "requests_21['w2v_6'] = w2v_6\n",
    "SS_scaler.fit(requests_21[['w2v_6']])\n",
    "requests_21['w2v_6'] = SS_scaler.transform(requests_21[['w2v_6']])\n",
    "\n",
    "w2v_7 = []\n",
    "i=0\n",
    "#(test['w2v']):\n",
    "while i < requests_21.shape[0]: \n",
    "    w2v_7.append(requests_21['w2v'].iloc[i][7])\n",
    "    i+=1\n",
    "requests_21['w2v_7'] = w2v_7\n",
    "SS_scaler.fit(requests_21[['w2v_7']])\n",
    "requests_21['w2v_7'] = SS_scaler.transform(requests_21[['w2v_7']])\n",
    "\n",
    "w2v_8 = []\n",
    "i=0\n",
    "#(test['w2v']):\n",
    "while i < requests_21.shape[0]: \n",
    "    w2v_8.append(requests_21['w2v'].iloc[i][8])\n",
    "    i+=1\n",
    "requests_21['w2v_8'] = w2v_8\n",
    "SS_scaler.fit(requests_21[['w2v_8']])\n",
    "requests_21['w2v_8'] = SS_scaler.transform(requests_21[['w2v_8']])\n",
    "\n",
    "w2v_9 = []\n",
    "i=0\n",
    "#(test['w2v']):\n",
    "while i < requests_21.shape[0]: \n",
    "    w2v_9.append(requests_21['w2v'].iloc[i][9])\n",
    "    i+=1\n",
    "requests_21['w2v_9'] = w2v_9\n",
    "SS_scaler.fit(requests_21[['w2v_9']])\n",
    "requests_21['w2v_9'] = SS_scaler.transform(requests_21[['w2v_9']])\n",
    "\n",
    "w2v_10 = []\n",
    "i=0\n",
    "#(test['w2v']):\n",
    "while i < requests_21.shape[0]: \n",
    "    w2v_10.append(requests_21['w2v'].iloc[i][10])\n",
    "    i+=1\n",
    "requests_21['w2v_10'] = w2v_10\n",
    "SS_scaler.fit(requests_21[['w2v_10']])\n",
    "requests_21['w2v_10'] = SS_scaler.transform(requests_21[['w2v_10']])\n",
    "\n",
    "w2v_11 = []\n",
    "i=0\n",
    "#(test['w2v']):\n",
    "while i < requests_21.shape[0]: \n",
    "    w2v_11.append(requests_21['w2v'].iloc[i][11])\n",
    "    i+=1\n",
    "requests_21['w2v_11'] = w2v_11\n",
    "SS_scaler.fit(requests_21[['w2v_11']])\n",
    "requests_21['w2v_11'] = SS_scaler.transform(requests_21[['w2v_11']])\n",
    "\n",
    "w2v_12 = []\n",
    "i=0\n",
    "#(test['w2v']):\n",
    "while i < requests_21.shape[0]: \n",
    "    w2v_12.append(requests_21['w2v'].iloc[i][12])\n",
    "    i+=1\n",
    "requests_21['w2v_12'] = w2v_12\n",
    "SS_scaler.fit(requests_21[['w2v_12']])\n",
    "requests_21['w2v_12'] = SS_scaler.transform(requests_21[['w2v_12']])\n",
    "\n",
    "w2v_13 = []\n",
    "i=0\n",
    "#(test['w2v']):\n",
    "while i < requests_21.shape[0]: \n",
    "    w2v_13.append(requests_21['w2v'].iloc[i][13])\n",
    "    i+=1\n",
    "requests_21['w2v_13'] = w2v_13\n",
    "SS_scaler.fit(requests_21[['w2v_13']])\n",
    "requests_21['w2v_13'] = SS_scaler.transform(requests_21[['w2v_13']])\n",
    "\n",
    "w2v_14 = []\n",
    "i=0\n",
    "#(test['w2v']):\n",
    "while i < requests_21.shape[0]: \n",
    "    w2v_14.append(requests_21['w2v'].iloc[i][14])\n",
    "    i+=1\n",
    "requests_21['w2v_14'] = w2v_14\n",
    "SS_scaler.fit(requests_21[['w2v_14']])\n",
    "requests_21['w2v_14'] = SS_scaler.transform(requests_21[['w2v_14']])\n",
    "\n",
    "w2v_15 = []\n",
    "i=0\n",
    "#(test['w2v']):\n",
    "while i < requests_21.shape[0]: \n",
    "    w2v_15.append(requests_21['w2v'].iloc[i][15])\n",
    "    i+=1\n",
    "requests_21['w2v_15'] = w2v_15\n",
    "SS_scaler.fit(requests_21[['w2v_15']])\n",
    "requests_21['w2v_15'] = SS_scaler.transform(requests_21[['w2v_15']])\n",
    "\n",
    "w2v_16 = []\n",
    "i=0\n",
    "#(test['w2v']):\n",
    "while i < requests_21.shape[0]: \n",
    "    w2v_16.append(requests_21['w2v'].iloc[i][16])\n",
    "    i+=1\n",
    "requests_21['w2v_16'] = w2v_16\n",
    "SS_scaler.fit(requests_21[['w2v_16']])\n",
    "requests_21['w2v_16'] = SS_scaler.transform(requests_21[['w2v_16']])\n",
    "\n",
    "w2v_17 = []\n",
    "i=0\n",
    "#(test['w2v']):\n",
    "while i < requests_21.shape[0]: \n",
    "    w2v_17.append(requests_21['w2v'].iloc[i][17])\n",
    "    i+=1\n",
    "requests_21['w2v_17'] = w2v_17\n",
    "SS_scaler.fit(requests_21[['w2v_17']])\n",
    "requests_21['w2v_17'] = SS_scaler.transform(requests_21[['w2v_17']])\n",
    "\n",
    "w2v_18 = []\n",
    "i=0\n",
    "#(test['w2v']):\n",
    "while i < requests_21.shape[0]: \n",
    "    w2v_18.append(requests_21['w2v'].iloc[i][18])\n",
    "    i+=1\n",
    "requests_21['w2v_18'] = w2v_18\n",
    "SS_scaler.fit(requests_21[['w2v_18']])\n",
    "requests_21['w2v_18'] = SS_scaler.transform(requests_21[['w2v_18']])\n",
    "\n",
    "w2v_19 = []\n",
    "i=0\n",
    "#(test['w2v']):\n",
    "while i < requests_21.shape[0]: \n",
    "    w2v_19.append(requests_21['w2v'].iloc[i][19])\n",
    "    i+=1\n",
    "requests_21['w2v_19'] = w2v_19\n",
    "SS_scaler.fit(requests_21[['w2v_19']])\n",
    "requests_21['w2v_19'] = SS_scaler.transform(requests_21[['w2v_19']])\n",
    "\n",
    "w2v_20 = []\n",
    "i=0\n",
    "#(test['w2v']):\n",
    "while i < requests_21.shape[0]: \n",
    "    w2v_20.append(requests_21['w2v'].iloc[i][20])\n",
    "    i+=1\n",
    "requests_21['w2v_20'] = w2v_20\n",
    "SS_scaler.fit(requests_21[['w2v_20']])\n",
    "requests_21['w2v_20'] = SS_scaler.transform(requests_21[['w2v_20']])\n",
    "\n",
    "w2v_21 = []\n",
    "i=0\n",
    "#(test['w2v']):\n",
    "while i < requests_21.shape[0]: \n",
    "    w2v_21.append(requests_21['w2v'].iloc[i][21])\n",
    "    i+=1\n",
    "requests_21['w2v_21'] = w2v_21\n",
    "SS_scaler.fit(requests_21[['w2v_21']])\n",
    "requests_21['w2v_21'] = SS_scaler.transform(requests_21[['w2v_21']])\n",
    "\n",
    "w2v_22 = []\n",
    "i=0\n",
    "#(test['w2v']):\n",
    "while i < requests_21.shape[0]: \n",
    "    w2v_22.append(requests_21['w2v'].iloc[i][22])\n",
    "    i+=1\n",
    "requests_21['w2v_22'] = w2v_22\n",
    "SS_scaler.fit(requests_21[['w2v_22']])\n",
    "requests_21['w2v_22'] = SS_scaler.transform(requests_21[['w2v_22']])\n",
    "\n",
    "w2v_23 = []\n",
    "i=0\n",
    "#(test['w2v']):\n",
    "while i < requests_21.shape[0]: \n",
    "    w2v_23.append(requests_21['w2v'].iloc[i][23])\n",
    "    i+=1\n",
    "requests_21['w2v_23'] = w2v_23\n",
    "SS_scaler.fit(requests_21[['w2v_23']])\n",
    "requests_21['w2v_23'] = SS_scaler.transform(requests_21[['w2v_23']])\n",
    "\n",
    "w2v_24 = []\n",
    "i=0\n",
    "#(test['w2v']):\n",
    "while i < requests_21.shape[0]: \n",
    "    w2v_24.append(requests_21['w2v'].iloc[i][24])\n",
    "    i+=1\n",
    "requests_21['w2v_24'] = w2v_24\n",
    "SS_scaler.fit(requests_21[['w2v_24']])\n",
    "requests_21['w2v_24'] = SS_scaler.transform(requests_21[['w2v_24']])\n",
    "\n",
    "w2v_25 = []\n",
    "i=0\n",
    "#(test['w2v']):\n",
    "while i < requests_21.shape[0]: \n",
    "    w2v_25.append(requests_21['w2v'].iloc[i][25])\n",
    "    i+=1\n",
    "requests_21['w2v_25'] = w2v_25\n",
    "SS_scaler.fit(requests_21[['w2v_25']])\n",
    "requests_21['w2v_25'] = SS_scaler.transform(requests_21[['w2v_25']])\n",
    "\n",
    "w2v_26 = []\n",
    "i=0\n",
    "#(test['w2v']):\n",
    "while i < requests_21.shape[0]: \n",
    "    w2v_26.append(requests_21['w2v'].iloc[i][26])\n",
    "    i+=1\n",
    "requests_21['w2v_26'] = w2v_26\n",
    "SS_scaler.fit(requests_21[['w2v_26']])\n",
    "requests_21['w2v_26'] = SS_scaler.transform(requests_21[['w2v_26']])\n",
    "\n",
    "w2v_27 = []\n",
    "i=0\n",
    "#(test['w2v']):\n",
    "while i < requests_21.shape[0]: \n",
    "    w2v_27.append(requests_21['w2v'].iloc[i][27])\n",
    "    i+=1\n",
    "requests_21['w2v_27'] = w2v_27\n",
    "SS_scaler.fit(requests_21[['w2v_27']])\n",
    "requests_21['w2v_27'] = SS_scaler.transform(requests_21[['w2v_27']])\n",
    "\n",
    "w2v_28 = []\n",
    "i=0\n",
    "#(test['w2v']):\n",
    "while i < requests_21.shape[0]: \n",
    "    w2v_28.append(requests_21['w2v'].iloc[i][28])\n",
    "    i+=1\n",
    "requests_21['w2v_28'] = w2v_28\n",
    "SS_scaler.fit(requests_21[['w2v_28']])\n",
    "requests_21['w2v_28'] = SS_scaler.transform(requests_21[['w2v_28']])\n",
    "\n",
    "w2v_29 = []\n",
    "i=0\n",
    "#(test['w2v']):\n",
    "while i < requests_21.shape[0]: \n",
    "    w2v_29.append(requests_21['w2v'].iloc[i][29])\n",
    "    i+=1\n",
    "requests_21['w2v_29'] = w2v_29\n",
    "SS_scaler.fit(requests_21[['w2v_29']])\n",
    "requests_21['w2v_29'] = SS_scaler.transform(requests_21[['w2v_29']])\n",
    "\n"
   ]
  },
  {
   "cell_type": "code",
   "execution_count": 1457,
   "id": "cff1cab5-2bc5-420a-8ddc-333d3c4e3b71",
   "metadata": {},
   "outputs": [
    {
     "data": {
      "text/html": [
       "<div>\n",
       "<style scoped>\n",
       "    .dataframe tbody tr th:only-of-type {\n",
       "        vertical-align: middle;\n",
       "    }\n",
       "\n",
       "    .dataframe tbody tr th {\n",
       "        vertical-align: top;\n",
       "    }\n",
       "\n",
       "    .dataframe thead th {\n",
       "        text-align: right;\n",
       "    }\n",
       "</style>\n",
       "<table border=\"1\" class=\"dataframe\">\n",
       "  <thead>\n",
       "    <tr style=\"text-align: right;\">\n",
       "      <th></th>\n",
       "      <th>case_age_days</th>\n",
       "      <th>in_park</th>\n",
       "      <th>public_description</th>\n",
       "      <th>has_description</th>\n",
       "      <th>is_weekend</th>\n",
       "      <th>day_Saturday</th>\n",
       "      <th>day_Sunday</th>\n",
       "      <th>day_Monday</th>\n",
       "      <th>day_Tuesday</th>\n",
       "      <th>day_Wednesday</th>\n",
       "      <th>...</th>\n",
       "      <th>w2v_20</th>\n",
       "      <th>w2v_21</th>\n",
       "      <th>w2v_22</th>\n",
       "      <th>w2v_23</th>\n",
       "      <th>w2v_24</th>\n",
       "      <th>w2v_25</th>\n",
       "      <th>w2v_26</th>\n",
       "      <th>w2v_27</th>\n",
       "      <th>w2v_28</th>\n",
       "      <th>w2v_29</th>\n",
       "    </tr>\n",
       "  </thead>\n",
       "  <tbody>\n",
       "    <tr>\n",
       "      <th>0</th>\n",
       "      <td>1654.0</td>\n",
       "      <td>0</td>\n",
       "      <td>We have a cement street it is buckling and one...</td>\n",
       "      <td>1</td>\n",
       "      <td>0</td>\n",
       "      <td>0</td>\n",
       "      <td>0</td>\n",
       "      <td>0</td>\n",
       "      <td>0</td>\n",
       "      <td>1</td>\n",
       "      <td>...</td>\n",
       "      <td>-0.259102</td>\n",
       "      <td>0.464204</td>\n",
       "      <td>-0.811593</td>\n",
       "      <td>-2.335536</td>\n",
       "      <td>0.651271</td>\n",
       "      <td>0.468045</td>\n",
       "      <td>-1.320834</td>\n",
       "      <td>-0.517826</td>\n",
       "      <td>0.666569</td>\n",
       "      <td>-0.563749</td>\n",
       "    </tr>\n",
       "    <tr>\n",
       "      <th>2</th>\n",
       "      <td>1652.0</td>\n",
       "      <td>0</td>\n",
       "      <td>curb cracked, please fill\\ngutter joint depres...</td>\n",
       "      <td>1</td>\n",
       "      <td>0</td>\n",
       "      <td>0</td>\n",
       "      <td>0</td>\n",
       "      <td>0</td>\n",
       "      <td>0</td>\n",
       "      <td>0</td>\n",
       "      <td>...</td>\n",
       "      <td>-0.106854</td>\n",
       "      <td>0.605090</td>\n",
       "      <td>-0.102831</td>\n",
       "      <td>-0.576397</td>\n",
       "      <td>0.192468</td>\n",
       "      <td>0.838973</td>\n",
       "      <td>-0.347184</td>\n",
       "      <td>0.502657</td>\n",
       "      <td>0.658372</td>\n",
       "      <td>0.163119</td>\n",
       "    </tr>\n",
       "    <tr>\n",
       "      <th>4</th>\n",
       "      <td>1838.0</td>\n",
       "      <td>0</td>\n",
       "      <td>This road needs To be repaired immediately</td>\n",
       "      <td>1</td>\n",
       "      <td>1</td>\n",
       "      <td>0</td>\n",
       "      <td>1</td>\n",
       "      <td>0</td>\n",
       "      <td>0</td>\n",
       "      <td>0</td>\n",
       "      <td>...</td>\n",
       "      <td>-0.564866</td>\n",
       "      <td>0.877746</td>\n",
       "      <td>-0.585040</td>\n",
       "      <td>-0.778312</td>\n",
       "      <td>-0.438549</td>\n",
       "      <td>0.085563</td>\n",
       "      <td>-0.038578</td>\n",
       "      <td>-0.639573</td>\n",
       "      <td>0.196807</td>\n",
       "      <td>0.798720</td>\n",
       "    </tr>\n",
       "    <tr>\n",
       "      <th>6</th>\n",
       "      <td>1834.0</td>\n",
       "      <td>0</td>\n",
       "      <td>STRETCH OF FAIRMOUNT</td>\n",
       "      <td>1</td>\n",
       "      <td>0</td>\n",
       "      <td>0</td>\n",
       "      <td>0</td>\n",
       "      <td>0</td>\n",
       "      <td>0</td>\n",
       "      <td>1</td>\n",
       "      <td>...</td>\n",
       "      <td>-0.472403</td>\n",
       "      <td>0.739753</td>\n",
       "      <td>-0.329899</td>\n",
       "      <td>-0.479887</td>\n",
       "      <td>-0.533488</td>\n",
       "      <td>-0.591516</td>\n",
       "      <td>0.544917</td>\n",
       "      <td>-0.056679</td>\n",
       "      <td>-0.506973</td>\n",
       "      <td>0.634430</td>\n",
       "    </tr>\n",
       "    <tr>\n",
       "      <th>7</th>\n",
       "      <td>1882.0</td>\n",
       "      <td>0</td>\n",
       "      <td>This area on Del Mar Heights Rd in front of th...</td>\n",
       "      <td>1</td>\n",
       "      <td>0</td>\n",
       "      <td>0</td>\n",
       "      <td>0</td>\n",
       "      <td>0</td>\n",
       "      <td>0</td>\n",
       "      <td>1</td>\n",
       "      <td>...</td>\n",
       "      <td>-3.957619</td>\n",
       "      <td>1.147993</td>\n",
       "      <td>1.123783</td>\n",
       "      <td>-0.649877</td>\n",
       "      <td>1.707528</td>\n",
       "      <td>0.953837</td>\n",
       "      <td>-1.698758</td>\n",
       "      <td>-2.605811</td>\n",
       "      <td>3.532735</td>\n",
       "      <td>2.644232</td>\n",
       "    </tr>\n",
       "  </tbody>\n",
       "</table>\n",
       "<p>5 rows × 214 columns</p>\n",
       "</div>"
      ],
      "text/plain": [
       "   case_age_days  in_park                                 public_description  \\\n",
       "0         1654.0        0  We have a cement street it is buckling and one...   \n",
       "2         1652.0        0  curb cracked, please fill\\ngutter joint depres...   \n",
       "4         1838.0        0         This road needs To be repaired immediately   \n",
       "6         1834.0        0                               STRETCH OF FAIRMOUNT   \n",
       "7         1882.0        0  This area on Del Mar Heights Rd in front of th...   \n",
       "\n",
       "   has_description  is_weekend  day_Saturday  day_Sunday  day_Monday  \\\n",
       "0                1           0             0           0           0   \n",
       "2                1           0             0           0           0   \n",
       "4                1           1             0           1           0   \n",
       "6                1           0             0           0           0   \n",
       "7                1           0             0           0           0   \n",
       "\n",
       "   day_Tuesday  day_Wednesday  ...    w2v_20    w2v_21    w2v_22    w2v_23  \\\n",
       "0            0              1  ... -0.259102  0.464204 -0.811593 -2.335536   \n",
       "2            0              0  ... -0.106854  0.605090 -0.102831 -0.576397   \n",
       "4            0              0  ... -0.564866  0.877746 -0.585040 -0.778312   \n",
       "6            0              1  ... -0.472403  0.739753 -0.329899 -0.479887   \n",
       "7            0              1  ... -3.957619  1.147993  1.123783 -0.649877   \n",
       "\n",
       "     w2v_24    w2v_25    w2v_26    w2v_27    w2v_28    w2v_29  \n",
       "0  0.651271  0.468045 -1.320834 -0.517826  0.666569 -0.563749  \n",
       "2  0.192468  0.838973 -0.347184  0.502657  0.658372  0.163119  \n",
       "4 -0.438549  0.085563 -0.038578 -0.639573  0.196807  0.798720  \n",
       "6 -0.533488 -0.591516  0.544917 -0.056679 -0.506973  0.634430  \n",
       "7  1.707528  0.953837 -1.698758 -2.605811  3.532735  2.644232  \n",
       "\n",
       "[5 rows x 214 columns]"
      ]
     },
     "execution_count": 1457,
     "metadata": {},
     "output_type": "execute_result"
    }
   ],
   "source": [
    "requests_21.head()"
   ]
  },
  {
   "cell_type": "code",
   "execution_count": 1458,
   "id": "f6cc96aa-ecb2-426e-87f4-3fee6a4a22ba",
   "metadata": {},
   "outputs": [],
   "source": [
    "# w2v_0 = []\n",
    "# i=0\n",
    "# #(test['w2v']):\n",
    "# while i < requests_21.shape[0]: \n",
    "#     w2v_0.append(requests_21['w2v'].iloc[i][0])\n",
    "#     i+=1\n",
    "\n",
    "# print(w2v_0[0:10])\n"
   ]
  },
  {
   "cell_type": "markdown",
   "id": "f577ff2e-9a0d-437c-a226-310646c3623a",
   "metadata": {
    "tags": []
   },
   "source": [
    "## 4. Building a Predictive Model"
   ]
  },
  {
   "cell_type": "markdown",
   "id": "f57a7813-bb9e-4ed4-92a8-714657cb4952",
   "metadata": {},
   "source": [
    "### Imports"
   ]
  },
  {
   "cell_type": "code",
   "execution_count": 817,
   "id": "7774584c-6469-405d-ac36-af8e5de444ee",
   "metadata": {},
   "outputs": [],
   "source": [
    "import xgboost as xgb\n",
    "from sklearn.metrics import mean_squared_error\n",
    "from sklearn.metrics import r2_score"
   ]
  },
  {
   "cell_type": "markdown",
   "id": "546fa0b8-faa6-48bd-9022-0115b5038128",
   "metadata": {},
   "source": [
    "### a. Predictive Model with no NLP"
   ]
  },
  {
   "cell_type": "code",
   "execution_count": 1460,
   "id": "7dd25d48-89a2-4685-85ef-d9803760466f",
   "metadata": {
    "collapsed": true,
    "jupyter": {
     "outputs_hidden": true
    },
    "tags": []
   },
   "outputs": [
    {
     "data": {
      "text/plain": [
       "['case_age_days',\n",
       " 'in_park',\n",
       " 'public_description',\n",
       " 'has_description',\n",
       " 'is_weekend',\n",
       " 'day_Saturday',\n",
       " 'day_Sunday',\n",
       " 'day_Monday',\n",
       " 'day_Tuesday',\n",
       " 'day_Wednesday',\n",
       " 'day_Thursday',\n",
       " 'month_December',\n",
       " 'month_May',\n",
       " 'month_June',\n",
       " 'month_July',\n",
       " 'month_August',\n",
       " 'month_September',\n",
       " 'month_October',\n",
       " 'month_November',\n",
       " 'month_January',\n",
       " 'month_February',\n",
       " 'month_March',\n",
       " 'type_ BICYCLE FACILITIES EVALUATE FOR MARKINGS',\n",
       " 'type_ BICYCLE FACILITIES EVALUATE FOR RACKS (OR OTHER)',\n",
       " 'type_ BICYCLE FACILITIES EVALUATE FOR SIGNAGE',\n",
       " 'type_ BICYCLE FACILITIES EVALUATE FOR STRIPING',\n",
       " 'type_ BICYCLE FACILITIES GRANTS',\n",
       " 'type_ BICYCLE FACILITIES PLAN CHECK',\n",
       " 'type_ CIP EVALUATE FOR STREET WIDENING',\n",
       " 'type_ CIP FINANCE PLAN UPDATE',\n",
       " 'type_ STREET LIGHT EVALUATE FOR SHIELD',\n",
       " 'type_ TEO WO GUARDRAILS/BARRIER METAL/WOODEN',\n",
       " 'type_ TEO WO PAINT CURB - NEW',\n",
       " 'type_ TEO WO PAINT STRIPING - NEW',\n",
       " 'type_ TEO WO TRAFFIC SIGN - NEW',\n",
       " 'type_ TRAFFIC OPERATIONS CURB DESIGNATION EVALUATIONS',\n",
       " 'type_ TRAFFIC OPERATIONS MARKINGS EVALUATIONS',\n",
       " 'type_ TRAFFIC OPERATIONS PARKING EVALUATIONS',\n",
       " 'type_ TRAFFIC OPERATIONS SIGNAGE EVALUATIONS',\n",
       " 'type_ TRAFFIC OPERATIONS STRIPING EVALUATIONS',\n",
       " 'type_ TRAFFIC OPERATIONS TRAFFIC CALMING/SAFETY FEATURES',\n",
       " 'type_ TRAFFIC OPERATIONS VISIBILITY EVALUATIONS',\n",
       " 'type_ TRAFFIC SAFETY GUARD RAIL REVIEW',\n",
       " 'type_ TRAFFIC SAFETY LEGALITY CHECK',\n",
       " 'type_ TRAFFIC SAFETY PARKING REVIEW',\n",
       " 'type_ TRAFFIC SAFETY RADAR SPEED SURVEY',\n",
       " 'type_ TRAFFIC SAFETY REQUEST FOR INFORMATION',\n",
       " 'type_ TRAFFIC SIGNAL AUDIBLE SIGNAL REVIEW',\n",
       " 'type_ TRAFFIC SIGNAL COORDINATION',\n",
       " 'type_ TRAFFIC SIGNAL PHASING REVIEW',\n",
       " 'type_ TRAFFIC SIGNAL PLAN CHECK',\n",
       " 'type_ TRAFFIC SIGNAL STRIPING/SIGNAGE REVIEW',\n",
       " 'type_--Select Answer--',\n",
       " 'type_72 Hour Violation',\n",
       " 'type_ASPHALT PAVEMENT REPAIR ISSUE',\n",
       " 'type_ASPHALT SIDEWALK REPAIR ISSUE',\n",
       " 'type_AVA',\n",
       " 'type_BICYCLE FACILITIES MAINTENANCE',\n",
       " 'type_BIKE MAINT-PAVEMENT IRREGULARITY-ASPHALT',\n",
       " 'type_BIKE MAINT-STRIPING/MARKINGS',\n",
       " 'type_BIKE MAINT-TREE/SHRUB ENCROACHMENT',\n",
       " 'type_BRIDGE/RAILINGS/STAIRS REPAIR',\n",
       " 'type_BUS PAD INSTALLATION/MAINTENANCE CONTRAC',\n",
       " 'type_CHAIN LINK FENCE REPAIR',\n",
       " 'type_CHANNEL',\n",
       " 'type_CONCRETE CURB RAMPS REPAIR ISSUE',\n",
       " 'type_CONCRETE PAVEMENT REPAIR ISSUE',\n",
       " 'type_CONCRETE SIDEWALK REPAIR ISSUE',\n",
       " 'type_CONTRACTUAL TRIMMING',\n",
       " 'type_CONVEYANCES',\n",
       " 'type_CROSS GUTTER INSTALLATION/MAINTENANCE',\n",
       " 'type_CURB RAMP EVAL FOR NEW ADA',\n",
       " 'type_Citizen Contact',\n",
       " 'type_Collections Truck Leak',\n",
       " 'type_Collections Truck Spill',\n",
       " 'type_Commercial Dumpster Condition',\n",
       " 'type_Commercial Dumpster Encroachment',\n",
       " 'type_Community Clean Up',\n",
       " 'type_Container Left Out',\n",
       " 'type_Container Overflow',\n",
       " 'type_DAMAGED CURB',\n",
       " 'type_DEBRIS FENCE',\n",
       " 'type_DEFINE SCOPE FOR SW MJR REHAB CONTRACT',\n",
       " 'type_DEFINE SCOPE PCC MJR REHAB CONTRACT',\n",
       " 'type_DEFINE SCOPE PCC RECONSTRUCT CONTRACT',\n",
       " 'type_DRAIN CLEANOUT',\n",
       " 'type_DRAIN HEADWALL',\n",
       " 'type_DRAIN INLET',\n",
       " 'type_DRAIN OUTFALL',\n",
       " 'type_DRAINAGE CULVERT',\n",
       " 'type_DRAINAGE DITCH',\n",
       " 'type_Damage to Private Property',\n",
       " 'type_Damaged Container',\n",
       " 'type_Dumpster Overflow',\n",
       " 'type_EQUIPMENT STATUS',\n",
       " 'type_EVALUATE FOR RESURFACING/SLURRY',\n",
       " 'type_EVALUATE FOR SHIELD',\n",
       " 'type_EVALUATE FOR SIDEWALK CONTRACT',\n",
       " 'type_EVALUATE TREE FOR REMOVAL',\n",
       " 'type_Encroachment',\n",
       " 'type_FREE TREE PLANTING REQUEST',\n",
       " 'type_Franchise Encroachment',\n",
       " 'type_Franchise Hauler Early Collection',\n",
       " 'type_GUARDRAILS/BARRIER METAL/WOODEN',\n",
       " 'type_GUARDRAILS/BARRIER METAL/WOODEN MAINT',\n",
       " 'type_Graffiti Removal',\n",
       " 'type_Graffiti Removal - Commercial',\n",
       " 'type_ILLEGAL TREE TRIM/REMOVAL',\n",
       " 'type_INVESTIGATE',\n",
       " 'type_Illegal Construction',\n",
       " 'type_Illegal Dumping',\n",
       " 'type_Illegal Use or Activity',\n",
       " 'type_Inadequate Recycling',\n",
       " 'type_LIGHT ON DURING THE DAY',\n",
       " 'type_LIGHT UPGRADE',\n",
       " 'type_LIGHTS ON FLASH',\n",
       " 'type_LIGHTS OUT',\n",
       " 'type_LIMB FALLEN OR HANGING',\n",
       " 'type_Litter',\n",
       " 'type_MARKERS/DELINIATORS - MAINTENANCE',\n",
       " 'type_MILL & PAVE TRENCH REPAIRS',\n",
       " 'type_MINOR ASPHALT REPAIR',\n",
       " 'type_Major Contamination in Greens Container',\n",
       " 'type_Major Contamination in Recycle Container',\n",
       " 'type_Major Contamination in Refuse Container',\n",
       " 'type_Missed Collection',\n",
       " 'type_NEW STREET LIGHT',\n",
       " 'type_NON STRUCTURAL BMP',\n",
       " 'type_No Recycling',\n",
       " 'type_Out Late',\n",
       " 'type_Oversized Vehicle Complaints',\n",
       " 'type_PAINT CURB - MAINTENANCE',\n",
       " 'type_PAINT LEGEND - MAINTENANCE',\n",
       " 'type_PAINT STRIPING - MAINTENANCE',\n",
       " 'type_PALM FRONDS DOWN',\n",
       " 'type_PIPE',\n",
       " 'type_POLE KNOCK OVER/DAMAGE',\n",
       " 'type_PONDING WATER IN GUTTER/STREET',\n",
       " 'type_Parking',\n",
       " 'type_Parking Zone Violation',\n",
       " 'type_Potential Missed Collection',\n",
       " 'type_Private Dumpster',\n",
       " 'type_Quality of Life Issues',\n",
       " 'type_RESTORE CONCRETE UTILITY TRENCH',\n",
       " 'type_RESTORE SEWER TRENCH ASPHALT',\n",
       " 'type_RESTORE WATER TRENCH ASPHALT',\n",
       " 'type_Recycling Contamination',\n",
       " 'type_SIDEWALK EVALUATION',\n",
       " 'type_SIDEWALK LIFTED',\n",
       " 'type_SIDEWALK MINOR REHAB CONTRACT',\n",
       " 'type_SIDEWALK/CURB&GUTTER/CONTRACT',\n",
       " 'type_SIGNAL FACING WRONG DIRECTION',\n",
       " 'type_STORM WATER',\n",
       " 'type_STREET',\n",
       " 'type_STREET LIGHT OUT',\n",
       " 'type_STUMP GRIND CONTRACT',\n",
       " 'type_SURFACE FLOW ISSUE',\n",
       " 'type_SWPP - Storm Water Polution Prevention',\n",
       " 'type_Stolen City Container',\n",
       " 'type_Street Litter Container',\n",
       " 'type_TEO-SIGNALS & LIGHTS',\n",
       " 'type_TRAFFIC MAINTENANCE - OTHER',\n",
       " 'type_TRAFFIC SIGNAL BIKE MAINT-SIGNAL LOOP DETECTION',\n",
       " 'type_TREE FALLEN',\n",
       " 'type_TREE INFESTATION - BEES/PESTS',\n",
       " 'type_TRIM TREE - BLOCKING TRAFFIC DEVICE',\n",
       " 'type_TRIM TREE FOR PEDS/VEHICLE CLEARANCE',\n",
       " 'type_Trenches',\n",
       " 'type_Uncovered Container',\n",
       " 'type_Vegetation Encroachment',\n",
       " 'cd_2.0',\n",
       " 'cd_3.0',\n",
       " 'cd_4.0',\n",
       " 'cd_5.0',\n",
       " 'cd_6.0',\n",
       " 'cd_7.0',\n",
       " 'cd_8.0',\n",
       " 'cd_9.0',\n",
       " 'is_phone',\n",
       " 'tokens',\n",
       " 'word_count',\n",
       " 'word_count_SS',\n",
       " 'unique_tokens',\n",
       " 'w2v',\n",
       " 'w2v_0',\n",
       " 'w2v_1',\n",
       " 'w2v_2',\n",
       " 'w2v_3',\n",
       " 'w2v_4',\n",
       " 'w2v_5',\n",
       " 'w2v_6',\n",
       " 'w2v_7',\n",
       " 'w2v_8',\n",
       " 'w2v_9',\n",
       " 'w2v_10',\n",
       " 'w2v_11',\n",
       " 'w2v_12',\n",
       " 'w2v_13',\n",
       " 'w2v_14',\n",
       " 'w2v_15',\n",
       " 'w2v_16',\n",
       " 'w2v_17',\n",
       " 'w2v_18',\n",
       " 'w2v_19',\n",
       " 'w2v_20',\n",
       " 'w2v_21',\n",
       " 'w2v_22',\n",
       " 'w2v_23',\n",
       " 'w2v_24',\n",
       " 'w2v_25',\n",
       " 'w2v_26',\n",
       " 'w2v_27',\n",
       " 'w2v_28',\n",
       " 'w2v_29']"
      ]
     },
     "execution_count": 1460,
     "metadata": {},
     "output_type": "execute_result"
    }
   ],
   "source": [
    "list(requests_21.columns)"
   ]
  },
  {
   "cell_type": "code",
   "execution_count": 1472,
   "id": "75e27b85-fcf5-461c-935a-494142a625d0",
   "metadata": {},
   "outputs": [],
   "source": [
    "#Prepare x and y\n",
    "requests_21_Y = requests_21['case_age_days']\n",
    "requests_21_x = requests_21.drop(labels=['case_age_days', \n",
    "                                         'public_description', \n",
    "                                         'has_description',\n",
    "                                         'word_count', \n",
    "                                         'tokens',\n",
    "                                         'unique_tokens',\n",
    "                                         'w2v','w2v_0', 'w2v_1', 'w2v_2', 'w2v_3', 'w2v_4', 'w2v_5', 'w2v_6', 'w2v_7', 'w2v_8', 'w2v_9', 'w2v_10', 'w2v_11', 'w2v_12', 'w2v_13', 'w2v_14', 'w2v_15', 'w2v_16', 'w2v_17', 'w2v_18', 'w2v_19', 'w2v_20', 'w2v_21', 'w2v_22', 'w2v_23', 'w2v_24', 'w2v_25', 'w2v_26', 'w2v_27', 'w2v_28', 'w2v_29' ], axis=1)"
   ]
  },
  {
   "cell_type": "code",
   "execution_count": 1473,
   "id": "a29803d6-1fb4-4660-9282-a9217525a4aa",
   "metadata": {
    "tags": []
   },
   "outputs": [
    {
     "data": {
      "text/plain": [
       "['in_park',\n",
       " 'is_weekend',\n",
       " 'day_Saturday',\n",
       " 'day_Sunday',\n",
       " 'day_Monday',\n",
       " 'day_Tuesday',\n",
       " 'day_Wednesday',\n",
       " 'day_Thursday',\n",
       " 'month_December',\n",
       " 'month_May',\n",
       " 'month_June',\n",
       " 'month_July',\n",
       " 'month_August',\n",
       " 'month_September',\n",
       " 'month_October',\n",
       " 'month_November',\n",
       " 'month_January',\n",
       " 'month_February',\n",
       " 'month_March',\n",
       " 'type_ BICYCLE FACILITIES EVALUATE FOR MARKINGS',\n",
       " 'type_ BICYCLE FACILITIES EVALUATE FOR RACKS (OR OTHER)',\n",
       " 'type_ BICYCLE FACILITIES EVALUATE FOR SIGNAGE',\n",
       " 'type_ BICYCLE FACILITIES EVALUATE FOR STRIPING',\n",
       " 'type_ BICYCLE FACILITIES GRANTS',\n",
       " 'type_ BICYCLE FACILITIES PLAN CHECK',\n",
       " 'type_ CIP EVALUATE FOR STREET WIDENING',\n",
       " 'type_ CIP FINANCE PLAN UPDATE',\n",
       " 'type_ STREET LIGHT EVALUATE FOR SHIELD',\n",
       " 'type_ TEO WO GUARDRAILS/BARRIER METAL/WOODEN',\n",
       " 'type_ TEO WO PAINT CURB - NEW',\n",
       " 'type_ TEO WO PAINT STRIPING - NEW',\n",
       " 'type_ TEO WO TRAFFIC SIGN - NEW',\n",
       " 'type_ TRAFFIC OPERATIONS CURB DESIGNATION EVALUATIONS',\n",
       " 'type_ TRAFFIC OPERATIONS MARKINGS EVALUATIONS',\n",
       " 'type_ TRAFFIC OPERATIONS PARKING EVALUATIONS',\n",
       " 'type_ TRAFFIC OPERATIONS SIGNAGE EVALUATIONS',\n",
       " 'type_ TRAFFIC OPERATIONS STRIPING EVALUATIONS',\n",
       " 'type_ TRAFFIC OPERATIONS TRAFFIC CALMING/SAFETY FEATURES',\n",
       " 'type_ TRAFFIC OPERATIONS VISIBILITY EVALUATIONS',\n",
       " 'type_ TRAFFIC SAFETY GUARD RAIL REVIEW',\n",
       " 'type_ TRAFFIC SAFETY LEGALITY CHECK',\n",
       " 'type_ TRAFFIC SAFETY PARKING REVIEW',\n",
       " 'type_ TRAFFIC SAFETY RADAR SPEED SURVEY',\n",
       " 'type_ TRAFFIC SAFETY REQUEST FOR INFORMATION',\n",
       " 'type_ TRAFFIC SIGNAL AUDIBLE SIGNAL REVIEW',\n",
       " 'type_ TRAFFIC SIGNAL COORDINATION',\n",
       " 'type_ TRAFFIC SIGNAL PHASING REVIEW',\n",
       " 'type_ TRAFFIC SIGNAL PLAN CHECK',\n",
       " 'type_ TRAFFIC SIGNAL STRIPING/SIGNAGE REVIEW',\n",
       " 'type_--Select Answer--',\n",
       " 'type_72 Hour Violation',\n",
       " 'type_ASPHALT PAVEMENT REPAIR ISSUE',\n",
       " 'type_ASPHALT SIDEWALK REPAIR ISSUE',\n",
       " 'type_AVA',\n",
       " 'type_BICYCLE FACILITIES MAINTENANCE',\n",
       " 'type_BIKE MAINT-PAVEMENT IRREGULARITY-ASPHALT',\n",
       " 'type_BIKE MAINT-STRIPING/MARKINGS',\n",
       " 'type_BIKE MAINT-TREE/SHRUB ENCROACHMENT',\n",
       " 'type_BRIDGE/RAILINGS/STAIRS REPAIR',\n",
       " 'type_BUS PAD INSTALLATION/MAINTENANCE CONTRAC',\n",
       " 'type_CHAIN LINK FENCE REPAIR',\n",
       " 'type_CHANNEL',\n",
       " 'type_CONCRETE CURB RAMPS REPAIR ISSUE',\n",
       " 'type_CONCRETE PAVEMENT REPAIR ISSUE',\n",
       " 'type_CONCRETE SIDEWALK REPAIR ISSUE',\n",
       " 'type_CONTRACTUAL TRIMMING',\n",
       " 'type_CONVEYANCES',\n",
       " 'type_CROSS GUTTER INSTALLATION/MAINTENANCE',\n",
       " 'type_CURB RAMP EVAL FOR NEW ADA',\n",
       " 'type_Citizen Contact',\n",
       " 'type_Collections Truck Leak',\n",
       " 'type_Collections Truck Spill',\n",
       " 'type_Commercial Dumpster Condition',\n",
       " 'type_Commercial Dumpster Encroachment',\n",
       " 'type_Community Clean Up',\n",
       " 'type_Container Left Out',\n",
       " 'type_Container Overflow',\n",
       " 'type_DAMAGED CURB',\n",
       " 'type_DEBRIS FENCE',\n",
       " 'type_DEFINE SCOPE FOR SW MJR REHAB CONTRACT',\n",
       " 'type_DEFINE SCOPE PCC MJR REHAB CONTRACT',\n",
       " 'type_DEFINE SCOPE PCC RECONSTRUCT CONTRACT',\n",
       " 'type_DRAIN CLEANOUT',\n",
       " 'type_DRAIN HEADWALL',\n",
       " 'type_DRAIN INLET',\n",
       " 'type_DRAIN OUTFALL',\n",
       " 'type_DRAINAGE CULVERT',\n",
       " 'type_DRAINAGE DITCH',\n",
       " 'type_Damage to Private Property',\n",
       " 'type_Damaged Container',\n",
       " 'type_Dumpster Overflow',\n",
       " 'type_EQUIPMENT STATUS',\n",
       " 'type_EVALUATE FOR RESURFACING/SLURRY',\n",
       " 'type_EVALUATE FOR SHIELD',\n",
       " 'type_EVALUATE FOR SIDEWALK CONTRACT',\n",
       " 'type_EVALUATE TREE FOR REMOVAL',\n",
       " 'type_Encroachment',\n",
       " 'type_FREE TREE PLANTING REQUEST',\n",
       " 'type_Franchise Encroachment',\n",
       " 'type_Franchise Hauler Early Collection',\n",
       " 'type_GUARDRAILS/BARRIER METAL/WOODEN',\n",
       " 'type_GUARDRAILS/BARRIER METAL/WOODEN MAINT',\n",
       " 'type_Graffiti Removal',\n",
       " 'type_Graffiti Removal - Commercial',\n",
       " 'type_ILLEGAL TREE TRIM/REMOVAL',\n",
       " 'type_INVESTIGATE',\n",
       " 'type_Illegal Construction',\n",
       " 'type_Illegal Dumping',\n",
       " 'type_Illegal Use or Activity',\n",
       " 'type_Inadequate Recycling',\n",
       " 'type_LIGHT ON DURING THE DAY',\n",
       " 'type_LIGHT UPGRADE',\n",
       " 'type_LIGHTS ON FLASH',\n",
       " 'type_LIGHTS OUT',\n",
       " 'type_LIMB FALLEN OR HANGING',\n",
       " 'type_Litter',\n",
       " 'type_MARKERS/DELINIATORS - MAINTENANCE',\n",
       " 'type_MILL & PAVE TRENCH REPAIRS',\n",
       " 'type_MINOR ASPHALT REPAIR',\n",
       " 'type_Major Contamination in Greens Container',\n",
       " 'type_Major Contamination in Recycle Container',\n",
       " 'type_Major Contamination in Refuse Container',\n",
       " 'type_Missed Collection',\n",
       " 'type_NEW STREET LIGHT',\n",
       " 'type_NON STRUCTURAL BMP',\n",
       " 'type_No Recycling',\n",
       " 'type_Out Late',\n",
       " 'type_Oversized Vehicle Complaints',\n",
       " 'type_PAINT CURB - MAINTENANCE',\n",
       " 'type_PAINT LEGEND - MAINTENANCE',\n",
       " 'type_PAINT STRIPING - MAINTENANCE',\n",
       " 'type_PALM FRONDS DOWN',\n",
       " 'type_PIPE',\n",
       " 'type_POLE KNOCK OVER/DAMAGE',\n",
       " 'type_PONDING WATER IN GUTTER/STREET',\n",
       " 'type_Parking',\n",
       " 'type_Parking Zone Violation',\n",
       " 'type_Potential Missed Collection',\n",
       " 'type_Private Dumpster',\n",
       " 'type_Quality of Life Issues',\n",
       " 'type_RESTORE CONCRETE UTILITY TRENCH',\n",
       " 'type_RESTORE SEWER TRENCH ASPHALT',\n",
       " 'type_RESTORE WATER TRENCH ASPHALT',\n",
       " 'type_Recycling Contamination',\n",
       " 'type_SIDEWALK EVALUATION',\n",
       " 'type_SIDEWALK LIFTED',\n",
       " 'type_SIDEWALK MINOR REHAB CONTRACT',\n",
       " 'type_SIDEWALK/CURB&GUTTER/CONTRACT',\n",
       " 'type_SIGNAL FACING WRONG DIRECTION',\n",
       " 'type_STORM WATER',\n",
       " 'type_STREET',\n",
       " 'type_STREET LIGHT OUT',\n",
       " 'type_STUMP GRIND CONTRACT',\n",
       " 'type_SURFACE FLOW ISSUE',\n",
       " 'type_SWPP - Storm Water Polution Prevention',\n",
       " 'type_Stolen City Container',\n",
       " 'type_Street Litter Container',\n",
       " 'type_TEO-SIGNALS & LIGHTS',\n",
       " 'type_TRAFFIC MAINTENANCE - OTHER',\n",
       " 'type_TRAFFIC SIGNAL BIKE MAINT-SIGNAL LOOP DETECTION',\n",
       " 'type_TREE FALLEN',\n",
       " 'type_TREE INFESTATION - BEES/PESTS',\n",
       " 'type_TRIM TREE - BLOCKING TRAFFIC DEVICE',\n",
       " 'type_TRIM TREE FOR PEDS/VEHICLE CLEARANCE',\n",
       " 'type_Trenches',\n",
       " 'type_Uncovered Container',\n",
       " 'type_Vegetation Encroachment',\n",
       " 'cd_2.0',\n",
       " 'cd_3.0',\n",
       " 'cd_4.0',\n",
       " 'cd_5.0',\n",
       " 'cd_6.0',\n",
       " 'cd_7.0',\n",
       " 'cd_8.0',\n",
       " 'cd_9.0',\n",
       " 'is_phone',\n",
       " 'word_count_SS']"
      ]
     },
     "execution_count": 1473,
     "metadata": {},
     "output_type": "execute_result"
    }
   ],
   "source": [
    "list(requests_21_x.columns)"
   ]
  },
  {
   "cell_type": "code",
   "execution_count": 1474,
   "id": "3aa62061-ab09-4bac-bb87-0b89109207a7",
   "metadata": {},
   "outputs": [],
   "source": [
    "(X_train, X_test, y_train, y_test) = train_test_split(requests_21_x, requests_21_Y, test_size = 0.2, random_state = 42)"
   ]
  },
  {
   "cell_type": "code",
   "execution_count": 1475,
   "id": "a3e0c4fc-d61e-4c7c-8e08-d9341e397cf5",
   "metadata": {},
   "outputs": [
    {
     "name": "stdout",
     "output_type": "stream",
     "text": [
      "(201757, 177)\n",
      "(50440, 177)\n",
      "(201757,)\n",
      "(50440,)\n"
     ]
    }
   ],
   "source": [
    "print(X_train.shape)\n",
    "print(X_test.shape)\n",
    "print(y_train.shape)\n",
    "print(y_test.shape)"
   ]
  },
  {
   "cell_type": "code",
   "execution_count": 1476,
   "id": "3f0b0ca3-8a3e-4277-85f3-b7a75bcd7b99",
   "metadata": {},
   "outputs": [],
   "source": [
    "#Instantiate model\n",
    "xg_reg = xgb.XGBRegressor()"
   ]
  },
  {
   "cell_type": "code",
   "execution_count": 1477,
   "id": "942a00db-7863-49c6-b2ea-c497e27ab63f",
   "metadata": {},
   "outputs": [
    {
     "data": {
      "text/html": [
       "<style>#sk-container-id-4 {color: black;background-color: white;}#sk-container-id-4 pre{padding: 0;}#sk-container-id-4 div.sk-toggleable {background-color: white;}#sk-container-id-4 label.sk-toggleable__label {cursor: pointer;display: block;width: 100%;margin-bottom: 0;padding: 0.3em;box-sizing: border-box;text-align: center;}#sk-container-id-4 label.sk-toggleable__label-arrow:before {content: \"▸\";float: left;margin-right: 0.25em;color: #696969;}#sk-container-id-4 label.sk-toggleable__label-arrow:hover:before {color: black;}#sk-container-id-4 div.sk-estimator:hover label.sk-toggleable__label-arrow:before {color: black;}#sk-container-id-4 div.sk-toggleable__content {max-height: 0;max-width: 0;overflow: hidden;text-align: left;background-color: #f0f8ff;}#sk-container-id-4 div.sk-toggleable__content pre {margin: 0.2em;color: black;border-radius: 0.25em;background-color: #f0f8ff;}#sk-container-id-4 input.sk-toggleable__control:checked~div.sk-toggleable__content {max-height: 200px;max-width: 100%;overflow: auto;}#sk-container-id-4 input.sk-toggleable__control:checked~label.sk-toggleable__label-arrow:before {content: \"▾\";}#sk-container-id-4 div.sk-estimator input.sk-toggleable__control:checked~label.sk-toggleable__label {background-color: #d4ebff;}#sk-container-id-4 div.sk-label input.sk-toggleable__control:checked~label.sk-toggleable__label {background-color: #d4ebff;}#sk-container-id-4 input.sk-hidden--visually {border: 0;clip: rect(1px 1px 1px 1px);clip: rect(1px, 1px, 1px, 1px);height: 1px;margin: -1px;overflow: hidden;padding: 0;position: absolute;width: 1px;}#sk-container-id-4 div.sk-estimator {font-family: monospace;background-color: #f0f8ff;border: 1px dotted black;border-radius: 0.25em;box-sizing: border-box;margin-bottom: 0.5em;}#sk-container-id-4 div.sk-estimator:hover {background-color: #d4ebff;}#sk-container-id-4 div.sk-parallel-item::after {content: \"\";width: 100%;border-bottom: 1px solid gray;flex-grow: 1;}#sk-container-id-4 div.sk-label:hover label.sk-toggleable__label {background-color: #d4ebff;}#sk-container-id-4 div.sk-serial::before {content: \"\";position: absolute;border-left: 1px solid gray;box-sizing: border-box;top: 0;bottom: 0;left: 50%;z-index: 0;}#sk-container-id-4 div.sk-serial {display: flex;flex-direction: column;align-items: center;background-color: white;padding-right: 0.2em;padding-left: 0.2em;position: relative;}#sk-container-id-4 div.sk-item {position: relative;z-index: 1;}#sk-container-id-4 div.sk-parallel {display: flex;align-items: stretch;justify-content: center;background-color: white;position: relative;}#sk-container-id-4 div.sk-item::before, #sk-container-id-4 div.sk-parallel-item::before {content: \"\";position: absolute;border-left: 1px solid gray;box-sizing: border-box;top: 0;bottom: 0;left: 50%;z-index: -1;}#sk-container-id-4 div.sk-parallel-item {display: flex;flex-direction: column;z-index: 1;position: relative;background-color: white;}#sk-container-id-4 div.sk-parallel-item:first-child::after {align-self: flex-end;width: 50%;}#sk-container-id-4 div.sk-parallel-item:last-child::after {align-self: flex-start;width: 50%;}#sk-container-id-4 div.sk-parallel-item:only-child::after {width: 0;}#sk-container-id-4 div.sk-dashed-wrapped {border: 1px dashed gray;margin: 0 0.4em 0.5em 0.4em;box-sizing: border-box;padding-bottom: 0.4em;background-color: white;}#sk-container-id-4 div.sk-label label {font-family: monospace;font-weight: bold;display: inline-block;line-height: 1.2em;}#sk-container-id-4 div.sk-label-container {text-align: center;}#sk-container-id-4 div.sk-container {/* jupyter's `normalize.less` sets `[hidden] { display: none; }` but bootstrap.min.css set `[hidden] { display: none !important; }` so we also need the `!important` here to be able to override the default hidden behavior on the sphinx rendered scikit-learn.org. See: https://github.com/scikit-learn/scikit-learn/issues/21755 */display: inline-block !important;position: relative;}#sk-container-id-4 div.sk-text-repr-fallback {display: none;}</style><div id=\"sk-container-id-4\" class=\"sk-top-container\"><div class=\"sk-text-repr-fallback\"><pre>XGBRegressor(base_score=0.5, booster=&#x27;gbtree&#x27;, callbacks=None,\n",
       "             colsample_bylevel=1, colsample_bynode=1, colsample_bytree=1,\n",
       "             early_stopping_rounds=None, enable_categorical=False,\n",
       "             eval_metric=None, feature_types=None, gamma=0, gpu_id=-1,\n",
       "             grow_policy=&#x27;depthwise&#x27;, importance_type=None,\n",
       "             interaction_constraints=&#x27;&#x27;, learning_rate=0.300000012, max_bin=256,\n",
       "             max_cat_threshold=64, max_cat_to_onehot=4, max_delta_step=0,\n",
       "             max_depth=6, max_leaves=0, min_child_weight=1, missing=nan,\n",
       "             monotone_constraints=&#x27;()&#x27;, n_estimators=100, n_jobs=0,\n",
       "             num_parallel_tree=1, predictor=&#x27;auto&#x27;, random_state=0, ...)</pre><b>In a Jupyter environment, please rerun this cell to show the HTML representation or trust the notebook. <br />On GitHub, the HTML representation is unable to render, please try loading this page with nbviewer.org.</b></div><div class=\"sk-container\" hidden><div class=\"sk-item\"><div class=\"sk-estimator sk-toggleable\"><input class=\"sk-toggleable__control sk-hidden--visually\" id=\"sk-estimator-id-4\" type=\"checkbox\" checked><label for=\"sk-estimator-id-4\" class=\"sk-toggleable__label sk-toggleable__label-arrow\">XGBRegressor</label><div class=\"sk-toggleable__content\"><pre>XGBRegressor(base_score=0.5, booster=&#x27;gbtree&#x27;, callbacks=None,\n",
       "             colsample_bylevel=1, colsample_bynode=1, colsample_bytree=1,\n",
       "             early_stopping_rounds=None, enable_categorical=False,\n",
       "             eval_metric=None, feature_types=None, gamma=0, gpu_id=-1,\n",
       "             grow_policy=&#x27;depthwise&#x27;, importance_type=None,\n",
       "             interaction_constraints=&#x27;&#x27;, learning_rate=0.300000012, max_bin=256,\n",
       "             max_cat_threshold=64, max_cat_to_onehot=4, max_delta_step=0,\n",
       "             max_depth=6, max_leaves=0, min_child_weight=1, missing=nan,\n",
       "             monotone_constraints=&#x27;()&#x27;, n_estimators=100, n_jobs=0,\n",
       "             num_parallel_tree=1, predictor=&#x27;auto&#x27;, random_state=0, ...)</pre></div></div></div></div></div>"
      ],
      "text/plain": [
       "XGBRegressor(base_score=0.5, booster='gbtree', callbacks=None,\n",
       "             colsample_bylevel=1, colsample_bynode=1, colsample_bytree=1,\n",
       "             early_stopping_rounds=None, enable_categorical=False,\n",
       "             eval_metric=None, feature_types=None, gamma=0, gpu_id=-1,\n",
       "             grow_policy='depthwise', importance_type=None,\n",
       "             interaction_constraints='', learning_rate=0.300000012, max_bin=256,\n",
       "             max_cat_threshold=64, max_cat_to_onehot=4, max_delta_step=0,\n",
       "             max_depth=6, max_leaves=0, min_child_weight=1, missing=nan,\n",
       "             monotone_constraints='()', n_estimators=100, n_jobs=0,\n",
       "             num_parallel_tree=1, predictor='auto', random_state=0, ...)"
      ]
     },
     "execution_count": 1477,
     "metadata": {},
     "output_type": "execute_result"
    }
   ],
   "source": [
    "xg_reg.fit(X_train, y_train)"
   ]
  },
  {
   "cell_type": "code",
   "execution_count": 1478,
   "id": "ed2569d7-4dcb-47d1-ab35-49808f8033ad",
   "metadata": {},
   "outputs": [],
   "source": [
    "preds = xg_reg.predict(X_test)"
   ]
  },
  {
   "cell_type": "code",
   "execution_count": 1479,
   "id": "bbc3bab7-ea17-41fc-87c0-cc018f2629ac",
   "metadata": {},
   "outputs": [
    {
     "name": "stdout",
     "output_type": "stream",
     "text": [
      "[35.0987    8.898938 16.394415 ... 51.44441  34.712093 27.397213]\n"
     ]
    }
   ],
   "source": [
    "print(preds)"
   ]
  },
  {
   "cell_type": "code",
   "execution_count": 1480,
   "id": "36034b20-7ac2-489d-90c1-8ac188e75a90",
   "metadata": {},
   "outputs": [
    {
     "name": "stdout",
     "output_type": "stream",
     "text": [
      "RMSE: 85.897115\n"
     ]
    }
   ],
   "source": [
    "rmse = np.sqrt(mean_squared_error(y_test,preds))\n",
    "\n",
    "print(\"RMSE: %f\" % (rmse))"
   ]
  },
  {
   "cell_type": "code",
   "execution_count": 1481,
   "id": "8a22f855-f085-457d-ae0c-3ae28bca03de",
   "metadata": {},
   "outputs": [
    {
     "name": "stdout",
     "output_type": "stream",
     "text": [
      "0.5566933787045347\n"
     ]
    }
   ],
   "source": [
    "r2 = r2_score(y_test, xg_reg.predict(X_test))\n",
    "print(r2)"
   ]
  },
  {
   "cell_type": "markdown",
   "id": "0bbc9518-a790-4ef2-acb9-1ab0413eef04",
   "metadata": {},
   "source": [
    "### Try Parameter Grid Search to Improve the Results with XGBoost"
   ]
  },
  {
   "cell_type": "code",
   "execution_count": 1482,
   "id": "61411b0b-8577-40c3-918b-5a91be8478d2",
   "metadata": {},
   "outputs": [],
   "source": [
    "from sklearn.model_selection import GridSearchCV\n",
    "from sklearn.model_selection import KFold"
   ]
  },
  {
   "cell_type": "code",
   "execution_count": null,
   "id": "dfc02ec8-e22c-4c22-af86-d4c46d55a188",
   "metadata": {},
   "outputs": [],
   "source": [
    "kf = KFold(n_splits=5, shuffle=True, random_state=33)\n",
    "params = {\n",
    "        'min_child_weight': [1, 5, 10],\n",
    "        'gamma': [0.5, 1, 1.5, 2, 5],\n",
    "        'subsample': [0.6, 0.8, 1.0],\n",
    "        'colsample_bytree': [0.6, 0.8, 1.0],\n",
    "        'max_depth': [3, 4, 5]\n",
    "        }\n",
    "xg_reg_gridsearch = GridSearchCV(xg_reg, params, cv=kf)\n",
    "xg_reg_gridsearch.fit(X_train, y_train)\n",
    "print(xg_reg_gridsearch.best_params_, xg_reg_gridsearch.best_score_)"
   ]
  },
  {
   "cell_type": "markdown",
   "id": "ea722efa-31bd-4d49-b8b0-dc27cf690f8a",
   "metadata": {
    "tags": []
   },
   "source": [
    "## 5. LDA Testing"
   ]
  },
  {
   "cell_type": "markdown",
   "id": "211d49ce-8f95-4370-94a7-08f7efff37ca",
   "metadata": {
    "tags": []
   },
   "source": [
    "### Imports"
   ]
  },
  {
   "cell_type": "code",
   "execution_count": 157,
   "id": "19b51f78-fd52-4633-ae4c-7eecde417215",
   "metadata": {},
   "outputs": [
    {
     "name": "stderr",
     "output_type": "stream",
     "text": [
      "[nltk_data] Downloading package stopwords to\n",
      "[nltk_data]     C:\\Users\\mnicn\\AppData\\Roaming\\nltk_data...\n",
      "[nltk_data]   Package stopwords is already up-to-date!\n"
     ]
    },
    {
     "data": {
      "text/plain": [
       "True"
      ]
     },
     "execution_count": 157,
     "metadata": {},
     "output_type": "execute_result"
    }
   ],
   "source": [
    "import nltk\n",
    "nltk.download('stopwords')"
   ]
  },
  {
   "cell_type": "code",
   "execution_count": 158,
   "id": "40ee4f88-8ed1-4328-af71-957601cfcf48",
   "metadata": {},
   "outputs": [],
   "source": [
    "import json\n",
    "import glob\n",
    "\n",
    "#gensim imports\n",
    "import gensim\n",
    "import gensim.corpora as corpora\n",
    "from gensim.utils import simple_preprocess\n",
    "from gensim.models import CoherenceModel\n",
    "from gensim.models import ldamodel\n",
    "\n",
    "# spacy imports\n",
    "import spacy\n",
    "from nltk.corpus import stopwords"
   ]
  },
  {
   "cell_type": "code",
   "execution_count": 159,
   "id": "5f407644-e604-4e3e-bb88-7a2d3b2b13e8",
   "metadata": {},
   "outputs": [],
   "source": [
    "#vis\n",
    "import pyLDAvis\n",
    "import pyLDAvis.gensim_models as gensimvis\n",
    "# from pyLDAvis import gensim\n"
   ]
  },
  {
   "cell_type": "markdown",
   "id": "380c7492-dc15-400f-ae51-8a1366c6858f",
   "metadata": {},
   "source": [
    "### Script to Hangle JSON Data"
   ]
  },
  {
   "cell_type": "code",
   "execution_count": 160,
   "id": "5de443d7-71c2-48c3-8a20-33602bc51883",
   "metadata": {},
   "outputs": [],
   "source": [
    "def load_data(file):\n",
    "    with open (file, \"r\", encoding=\"utf-8\") as f:\n",
    "        return (data)\n",
    "    \n",
    "def write_data(file, data):\n",
    "    with open (file, \"w\", encoding=\"utf-8\") as f:\n",
    "        json.dump(data, f, indent=4)"
   ]
  },
  {
   "cell_type": "markdown",
   "id": "3f8a88e9-70bd-400d-bd8d-0bb0e76e7fe4",
   "metadata": {},
   "source": [
    "### Create Stopwords"
   ]
  },
  {
   "cell_type": "code",
   "execution_count": 161,
   "id": "e7046792-787f-43fe-935f-69edaf4e59cc",
   "metadata": {},
   "outputs": [],
   "source": [
    "stopwords = stopwords.words(\"english\")"
   ]
  },
  {
   "cell_type": "code",
   "execution_count": 162,
   "id": "25832e9c-5eb7-47af-bc0e-db5650a72939",
   "metadata": {},
   "outputs": [
    {
     "name": "stdout",
     "output_type": "stream",
     "text": [
      "['i', 'me', 'my', 'myself', 'we', 'our', 'ours', 'ourselves', 'you', \"you're\", \"you've\", \"you'll\", \"you'd\", 'your', 'yours', 'yourself', 'yourselves', 'he', 'him', 'his', 'himself', 'she', \"she's\", 'her', 'hers', 'herself', 'it', \"it's\", 'its', 'itself', 'they', 'them', 'their', 'theirs', 'themselves', 'what', 'which', 'who', 'whom', 'this', 'that', \"that'll\", 'these', 'those', 'am', 'is', 'are', 'was', 'were', 'be', 'been', 'being', 'have', 'has', 'had', 'having', 'do', 'does', 'did', 'doing', 'a', 'an', 'the', 'and', 'but', 'if', 'or', 'because', 'as', 'until', 'while', 'of', 'at', 'by', 'for', 'with', 'about', 'against', 'between', 'into', 'through', 'during', 'before', 'after', 'above', 'below', 'to', 'from', 'up', 'down', 'in', 'out', 'on', 'off', 'over', 'under', 'again', 'further', 'then', 'once', 'here', 'there', 'when', 'where', 'why', 'how', 'all', 'any', 'both', 'each', 'few', 'more', 'most', 'other', 'some', 'such', 'no', 'nor', 'not', 'only', 'own', 'same', 'so', 'than', 'too', 'very', 's', 't', 'can', 'will', 'just', 'don', \"don't\", 'should', \"should've\", 'now', 'd', 'll', 'm', 'o', 're', 've', 'y', 'ain', 'aren', \"aren't\", 'couldn', \"couldn't\", 'didn', \"didn't\", 'doesn', \"doesn't\", 'hadn', \"hadn't\", 'hasn', \"hasn't\", 'haven', \"haven't\", 'isn', \"isn't\", 'ma', 'mightn', \"mightn't\", 'mustn', \"mustn't\", 'needn', \"needn't\", 'shan', \"shan't\", 'shouldn', \"shouldn't\", 'wasn', \"wasn't\", 'weren', \"weren't\", 'won', \"won't\", 'wouldn', \"wouldn't\"]\n"
     ]
    }
   ],
   "source": [
    "print(stopwords)"
   ]
  },
  {
   "cell_type": "code",
   "execution_count": 163,
   "id": "49e772e1-1de4-4772-9f60-ee5d4bd4a391",
   "metadata": {},
   "outputs": [],
   "source": [
    "# data = load_data(\"data/ushmm_dn.json\")[\"texts\"]\n",
    "\n",
    "# print(data)"
   ]
  },
  {
   "cell_type": "markdown",
   "id": "6abeb2d3-51cf-455c-ba82-485d7a487d0b",
   "metadata": {},
   "source": [
    "### Define Lemmatization\n",
    "This lemmatization function works on a list of tokens."
   ]
  },
  {
   "cell_type": "code",
   "execution_count": 164,
   "id": "f6e2e778-3389-4c09-b3b2-cd1cdcf0425e",
   "metadata": {},
   "outputs": [],
   "source": [
    "nlp = spacy.load(\"en_core_web_sm\", disable=[\"parser\", \"ner\"])"
   ]
  },
  {
   "cell_type": "code",
   "execution_count": 165,
   "id": "9b0904c2-e98f-4091-a574-d70d51bcab6f",
   "metadata": {},
   "outputs": [],
   "source": [
    "def lemmatization(texts, allowed_postags=[\"NOUN\", \"ADJ\", \"VERB\", \"ADV\"]):\n",
    "    # nlp = spacy.load(\"en_core_web_sm\", disable=[\"parser\", \"ner\"]) - this should be done within function but not working! in cell above. \n",
    "    texts_out = []\n",
    "    for text in texts:\n",
    "        #doc object (below) to contain essential metadata\n",
    "        doc = nlp(text)\n",
    "        new_text = []\n",
    "        for token in doc:\n",
    "            if token.pos_ in allowed_postags:\n",
    "                new_text.append(token.lemma_)\n",
    "        final = \" \".join(new_text)\n",
    "        texts_out.append(final)\n",
    "    return (texts_out)"
   ]
  },
  {
   "cell_type": "code",
   "execution_count": 166,
   "id": "a13e0eaa-aaa7-4bb7-85fd-186d9a36fb04",
   "metadata": {},
   "outputs": [
    {
     "name": "stdout",
     "output_type": "stream",
     "text": [
      "['name good sir banana']\n"
     ]
    }
   ],
   "source": [
    "test_text = ['My name is Melissa who are you good sir and do you have any bananas for me?']\n",
    "test_doc = nlp('My name is Melissa who are you good sir and do you have any bananas for me?')\n",
    "lemmatized_text = lemmatization(test_text)\n",
    "print(lemmatized_text)"
   ]
  },
  {
   "cell_type": "code",
   "execution_count": 167,
   "id": "4a8f83bc-8913-438d-b2e4-4ae706afb168",
   "metadata": {},
   "outputs": [],
   "source": [
    "def gen_words(texts):\n",
    "    final = []\n",
    "    for text in texts:\n",
    "        new = gensim.utils.simple_preprocess(text, deacc=True)\n",
    "        final.append(new)\n",
    "    return (final)"
   ]
  },
  {
   "cell_type": "code",
   "execution_count": 168,
   "id": "442fbeef-1958-476d-be63-d5a257e03879",
   "metadata": {},
   "outputs": [],
   "source": [
    "data_words = gen_words(lemmatized_text)"
   ]
  },
  {
   "cell_type": "code",
   "execution_count": 169,
   "id": "0e5848d5-0e69-444d-9778-68cc1745bec7",
   "metadata": {},
   "outputs": [
    {
     "name": "stdout",
     "output_type": "stream",
     "text": [
      "[(0, 1), (1, 1), (2, 1), (3, 1)]\n"
     ]
    }
   ],
   "source": [
    "id2word = corpora.Dictionary(data_words)\n",
    "\n",
    "corpus =[]\n",
    "for text in data_words:\n",
    "    new = id2word.doc2bow(text)\n",
    "    corpus.append(new)\n",
    "    \n",
    "print (corpus[0][0:20])"
   ]
  },
  {
   "cell_type": "code",
   "execution_count": 170,
   "id": "360b97d2-c98e-4c10-b106-fded10f4ad63",
   "metadata": {},
   "outputs": [
    {
     "name": "stdout",
     "output_type": "stream",
     "text": [
      "banana\n"
     ]
    }
   ],
   "source": [
    "word = id2word[[0][:1][0]]\n",
    "print(word)"
   ]
  },
  {
   "cell_type": "code",
   "execution_count": 171,
   "id": "565b194e-febe-410a-99a9-d4b1a4253482",
   "metadata": {},
   "outputs": [],
   "source": [
    "lda_model = gensim.models.ldamodel.LdaModel(corpus=corpus, \n",
    "                                            id2word=id2word, \n",
    "                                            num_topics=3, \n",
    "                                            random_state=100, \n",
    "                                            update_every=1, \n",
    "                                            chunksize=100,\n",
    "                                            passes=10,\n",
    "                                            alpha=\"auto\")"
   ]
  },
  {
   "cell_type": "code",
   "execution_count": 172,
   "id": "db3912e7-e9a5-4ae5-b3a4-3acffb0beca6",
   "metadata": {},
   "outputs": [
    {
     "name": "stderr",
     "output_type": "stream",
     "text": [
      "C:\\Users\\mnicn\\anaconda3\\lib\\site-packages\\pyLDAvis\\_prepare.py:246: FutureWarning: In a future version of pandas all arguments of DataFrame.drop except for the argument 'labels' will be keyword-only.\n",
      "  default_term_info = default_term_info.sort_values(\n",
      "C:\\Users\\mnicn\\anaconda3\\lib\\site-packages\\sklearn\\manifold\\_mds.py:299: FutureWarning: The default value of `normalized_stress` will change to `'auto'` in version 1.4. To suppress this warning, manually set the value of `normalized_stress`.\n",
      "  warnings.warn(\n"
     ]
    },
    {
     "data": {
      "text/html": [
       "\n",
       "<link rel=\"stylesheet\" type=\"text/css\" href=\"https://cdn.jsdelivr.net/gh/bmabey/pyLDAvis@3.3.1/pyLDAvis/js/ldavis.v1.0.0.css\">\n",
       "\n",
       "\n",
       "<div id=\"ldavis_el269522124986943520844791410\"></div>\n",
       "<script type=\"text/javascript\">\n",
       "\n",
       "var ldavis_el269522124986943520844791410_data = {\"mdsDat\": {\"x\": [-4.1111805017443295e-09, 3.1974251678764967e-09, 9.137553338678327e-10], \"y\": [4.028695033831866e-09, -3.0839130030010746e-09, -9.447820308307915e-10], \"topics\": [1, 2, 3], \"cluster\": [1, 1, 1], \"Freq\": [96.97526675281065, 1.5130284214149632, 1.511704825774385]}, \"tinfo\": {\"Term\": [\"banana\", \"good\", \"sir\", \"name\", \"name\", \"sir\", \"good\", \"banana\", \"banana\", \"good\", \"name\", \"sir\", \"banana\", \"good\", \"sir\", \"name\"], \"Freq\": [0.0, 1.0, 1.0, 1.0, 0.9698271180056395, 0.9697999511768529, 0.9697702410704778, 0.969613482688203, 0.015135917105101204, 0.015129539326442232, 0.015128070236872737, 0.015127609399076536, 0.015120092020279752, 0.015116704987263863, 0.015116772565735848, 0.01511462266928043], \"Total\": [0.0, 1.0, 1.0, 1.0, 1.0000698109117927, 1.0000443331416653, 1.000016485384184, 0.999869491813584, 0.999869491813584, 1.000016485384184, 1.0000698109117927, 1.0000443331416653, 0.999869491813584, 1.000016485384184, 1.0000443331416653, 1.0000698109117927], \"Category\": [\"Default\", \"Default\", \"Default\", \"Default\", \"Topic1\", \"Topic1\", \"Topic1\", \"Topic1\", \"Topic2\", \"Topic2\", \"Topic2\", \"Topic2\", \"Topic3\", \"Topic3\", \"Topic3\", \"Topic3\"], \"logprob\": [4.0, 3.0, 2.0, 1.0, -1.3862, -1.3862, -1.3863, -1.3864, -1.3859, -1.3863, -1.3864, -1.3865, -1.3861, -1.3863, -1.3863, -1.3865], \"loglift\": [4.0, 3.0, 2.0, 1.0, 0.0, 0.0, 0.0, -0.0, 0.0005, -0.0001, -0.0002, -0.0002, 0.0003, -0.0, -0.0001, -0.0002]}, \"token.table\": {\"Topic\": [1, 1, 1, 1], \"Freq\": [1.000130525221026, 0.9999835148875794, 0.9999301939614305, 0.999955668823675], \"Term\": [\"banana\", \"good\", \"name\", \"sir\"]}, \"R\": 4, \"lambda.step\": 0.01, \"plot.opts\": {\"xlab\": \"PC1\", \"ylab\": \"PC2\"}, \"topic.order\": [1, 3, 2]};\n",
       "\n",
       "function LDAvis_load_lib(url, callback){\n",
       "  var s = document.createElement('script');\n",
       "  s.src = url;\n",
       "  s.async = true;\n",
       "  s.onreadystatechange = s.onload = callback;\n",
       "  s.onerror = function(){console.warn(\"failed to load library \" + url);};\n",
       "  document.getElementsByTagName(\"head\")[0].appendChild(s);\n",
       "}\n",
       "\n",
       "if(typeof(LDAvis) !== \"undefined\"){\n",
       "   // already loaded: just create the visualization\n",
       "   !function(LDAvis){\n",
       "       new LDAvis(\"#\" + \"ldavis_el269522124986943520844791410\", ldavis_el269522124986943520844791410_data);\n",
       "   }(LDAvis);\n",
       "}else if(typeof define === \"function\" && define.amd){\n",
       "   // require.js is available: use it to load d3/LDAvis\n",
       "   require.config({paths: {d3: \"https://d3js.org/d3.v5\"}});\n",
       "   require([\"d3\"], function(d3){\n",
       "      window.d3 = d3;\n",
       "      LDAvis_load_lib(\"https://cdn.jsdelivr.net/gh/bmabey/pyLDAvis@3.3.1/pyLDAvis/js/ldavis.v3.0.0.js\", function(){\n",
       "        new LDAvis(\"#\" + \"ldavis_el269522124986943520844791410\", ldavis_el269522124986943520844791410_data);\n",
       "      });\n",
       "    });\n",
       "}else{\n",
       "    // require.js not available: dynamically load d3 & LDAvis\n",
       "    LDAvis_load_lib(\"https://d3js.org/d3.v5.js\", function(){\n",
       "         LDAvis_load_lib(\"https://cdn.jsdelivr.net/gh/bmabey/pyLDAvis@3.3.1/pyLDAvis/js/ldavis.v3.0.0.js\", function(){\n",
       "                 new LDAvis(\"#\" + \"ldavis_el269522124986943520844791410\", ldavis_el269522124986943520844791410_data);\n",
       "            })\n",
       "         });\n",
       "}\n",
       "</script>"
      ],
      "text/plain": [
       "PreparedData(topic_coordinates=                  x             y  topics  cluster       Freq\n",
       "topic                                                        \n",
       "0     -4.111181e-09  4.028695e-09       1        1  96.975267\n",
       "2      3.197425e-09 -3.083913e-09       2        1   1.513028\n",
       "1      9.137553e-10 -9.447820e-10       3        1   1.511705, topic_info=     Term      Freq     Total Category  logprob  loglift\n",
       "0  banana  0.000000  0.000000  Default   4.0000   4.0000\n",
       "1    good  1.000000  1.000000  Default   3.0000   3.0000\n",
       "3     sir  1.000000  1.000000  Default   2.0000   2.0000\n",
       "2    name  1.000000  1.000000  Default   1.0000   1.0000\n",
       "2    name  0.969827  1.000070   Topic1  -1.3862   0.0000\n",
       "3     sir  0.969800  1.000044   Topic1  -1.3862   0.0000\n",
       "1    good  0.969770  1.000016   Topic1  -1.3863   0.0000\n",
       "0  banana  0.969613  0.999869   Topic1  -1.3864  -0.0000\n",
       "0  banana  0.015136  0.999869   Topic2  -1.3859   0.0005\n",
       "1    good  0.015130  1.000016   Topic2  -1.3863  -0.0001\n",
       "2    name  0.015128  1.000070   Topic2  -1.3864  -0.0002\n",
       "3     sir  0.015128  1.000044   Topic2  -1.3865  -0.0002\n",
       "0  banana  0.015120  0.999869   Topic3  -1.3861   0.0003\n",
       "1    good  0.015117  1.000016   Topic3  -1.3863  -0.0000\n",
       "3     sir  0.015117  1.000044   Topic3  -1.3863  -0.0001\n",
       "2    name  0.015115  1.000070   Topic3  -1.3865  -0.0002, token_table=      Topic      Freq    Term\n",
       "term                         \n",
       "0         1  1.000131  banana\n",
       "1         1  0.999984    good\n",
       "2         1  0.999930    name\n",
       "3         1  0.999956     sir, R=4, lambda_step=0.01, plot_opts={'xlab': 'PC1', 'ylab': 'PC2'}, topic_order=[1, 3, 2])"
      ]
     },
     "execution_count": 172,
     "metadata": {},
     "output_type": "execute_result"
    }
   ],
   "source": [
    "pyLDAvis.enable_notebook()\n",
    "vis = gensimvis.prepare(lda_model, corpus, id2word, mds='mmds')\n",
    "vis\n",
    "\n"
   ]
  },
  {
   "cell_type": "code",
   "execution_count": null,
   "id": "0054a6b8-a637-469d-a57d-1b2e5eb5d8e0",
   "metadata": {},
   "outputs": [],
   "source": []
  },
  {
   "cell_type": "code",
   "execution_count": null,
   "id": "e94ff48c-c45c-4f85-888a-90f20d3f87ad",
   "metadata": {},
   "outputs": [],
   "source": []
  },
  {
   "cell_type": "code",
   "execution_count": null,
   "id": "fc7a56e6-4d6d-43b2-80d7-54b271870e9a",
   "metadata": {},
   "outputs": [],
   "source": []
  },
  {
   "cell_type": "markdown",
   "id": "e35ddaab-c641-441f-8838-d99983888f6e",
   "metadata": {
    "tags": []
   },
   "source": [
    "## 5. Tensorflow Testing"
   ]
  },
  {
   "cell_type": "code",
   "execution_count": 173,
   "id": "136f2973-bb1f-4b69-a0a1-cff261d99fde",
   "metadata": {},
   "outputs": [],
   "source": [
    "requests_21 = pd.read_csv('../data/2021_closed_requests.csv', low_memory=False)"
   ]
  },
  {
   "cell_type": "code",
   "execution_count": 174,
   "id": "cc012fa9-60fd-45c6-ad8e-7cfde79f64f2",
   "metadata": {},
   "outputs": [
    {
     "data": {
      "text/html": [
       "<div>\n",
       "<style scoped>\n",
       "    .dataframe tbody tr th:only-of-type {\n",
       "        vertical-align: middle;\n",
       "    }\n",
       "\n",
       "    .dataframe tbody tr th {\n",
       "        vertical-align: top;\n",
       "    }\n",
       "\n",
       "    .dataframe thead th {\n",
       "        text-align: right;\n",
       "    }\n",
       "</style>\n",
       "<table border=\"1\" class=\"dataframe\">\n",
       "  <thead>\n",
       "    <tr style=\"text-align: right;\">\n",
       "      <th></th>\n",
       "      <th>service_request_id</th>\n",
       "      <th>service_request_parent_id</th>\n",
       "      <th>sap_notification_number</th>\n",
       "      <th>date_requested</th>\n",
       "      <th>case_age_days</th>\n",
       "      <th>case_record_type</th>\n",
       "      <th>service_name</th>\n",
       "      <th>service_name_detail</th>\n",
       "      <th>date_closed</th>\n",
       "      <th>status</th>\n",
       "      <th>...</th>\n",
       "      <th>zipcode</th>\n",
       "      <th>council_district</th>\n",
       "      <th>comm_plan_code</th>\n",
       "      <th>comm_plan_name</th>\n",
       "      <th>park_name</th>\n",
       "      <th>case_origin</th>\n",
       "      <th>referred</th>\n",
       "      <th>iamfloc</th>\n",
       "      <th>floc</th>\n",
       "      <th>public_description</th>\n",
       "    </tr>\n",
       "  </thead>\n",
       "  <tbody>\n",
       "    <tr>\n",
       "      <th>0</th>\n",
       "      <td>100123</td>\n",
       "      <td>NaN</td>\n",
       "      <td>4.030000e+10</td>\n",
       "      <td>2016-08-17T16:40:00</td>\n",
       "      <td>1654.0</td>\n",
       "      <td>TSW</td>\n",
       "      <td>Pavement Maintenance</td>\n",
       "      <td>CONCRETE PAVEMENT REPAIR ISSUE</td>\n",
       "      <td>2021-02-26</td>\n",
       "      <td>Closed</td>\n",
       "      <td>...</td>\n",
       "      <td>NaN</td>\n",
       "      <td>5.0</td>\n",
       "      <td>31.0</td>\n",
       "      <td>Rancho Bernardo</td>\n",
       "      <td>NaN</td>\n",
       "      <td>Web</td>\n",
       "      <td>NaN</td>\n",
       "      <td>SS-020515-PV1</td>\n",
       "      <td>SS-020515</td>\n",
       "      <td>We have a cement street it is buckling and one...</td>\n",
       "    </tr>\n",
       "    <tr>\n",
       "      <th>1</th>\n",
       "      <td>100191</td>\n",
       "      <td>87204.0</td>\n",
       "      <td>NaN</td>\n",
       "      <td>2016-08-17T23:48:00</td>\n",
       "      <td>1842.0</td>\n",
       "      <td>TSW</td>\n",
       "      <td>Pavement Maintenance</td>\n",
       "      <td>Evaluate for Resurfacing/Slurry</td>\n",
       "      <td>2021-09-02</td>\n",
       "      <td>Closed</td>\n",
       "      <td>...</td>\n",
       "      <td>NaN</td>\n",
       "      <td>5.0</td>\n",
       "      <td>3.0</td>\n",
       "      <td>Carmel Mountain Ranch</td>\n",
       "      <td>NaN</td>\n",
       "      <td>Web</td>\n",
       "      <td>NaN</td>\n",
       "      <td>NaN</td>\n",
       "      <td>SS-022700</td>\n",
       "      <td>Potholes and uneven pavement throughout Rancho...</td>\n",
       "    </tr>\n",
       "    <tr>\n",
       "      <th>2</th>\n",
       "      <td>100194</td>\n",
       "      <td>NaN</td>\n",
       "      <td>4.030001e+10</td>\n",
       "      <td>2016-08-18T04:17:00</td>\n",
       "      <td>1652.0</td>\n",
       "      <td>TSW</td>\n",
       "      <td>Pavement Maintenance</td>\n",
       "      <td>DAMAGED CURB</td>\n",
       "      <td>2021-02-25</td>\n",
       "      <td>Closed</td>\n",
       "      <td>...</td>\n",
       "      <td>NaN</td>\n",
       "      <td>2.0</td>\n",
       "      <td>6.0</td>\n",
       "      <td>Clairemont Mesa</td>\n",
       "      <td>NaN</td>\n",
       "      <td>Web</td>\n",
       "      <td>NaN</td>\n",
       "      <td>SS-014744-PV1</td>\n",
       "      <td>SS-014744</td>\n",
       "      <td>curb cracked, please fill\\ngutter joint depres...</td>\n",
       "    </tr>\n",
       "    <tr>\n",
       "      <th>3</th>\n",
       "      <td>100241</td>\n",
       "      <td>NaN</td>\n",
       "      <td>4.030001e+10</td>\n",
       "      <td>2016-08-18T09:23:00</td>\n",
       "      <td>1751.0</td>\n",
       "      <td>TSW</td>\n",
       "      <td>Stormwater</td>\n",
       "      <td>DRAIN INLET</td>\n",
       "      <td>2021-06-04</td>\n",
       "      <td>Closed</td>\n",
       "      <td>...</td>\n",
       "      <td>NaN</td>\n",
       "      <td>3.0</td>\n",
       "      <td>19.0</td>\n",
       "      <td>Mission Valley</td>\n",
       "      <td>NaN</td>\n",
       "      <td>Email</td>\n",
       "      <td>NaN</td>\n",
       "      <td>IN22626</td>\n",
       "      <td>43802117</td>\n",
       "      <td>BRUSH AND OTHER DEBRIS IN DRAIN - REQUEST REMOVAL</td>\n",
       "    </tr>\n",
       "    <tr>\n",
       "      <th>4</th>\n",
       "      <td>100867</td>\n",
       "      <td>NaN</td>\n",
       "      <td>4.030000e+10</td>\n",
       "      <td>2016-08-21T12:19:00</td>\n",
       "      <td>1838.0</td>\n",
       "      <td>TSW</td>\n",
       "      <td>Pavement Maintenance</td>\n",
       "      <td>EVALUATE FOR RESURFACING/SLURRY</td>\n",
       "      <td>2021-09-02</td>\n",
       "      <td>Closed</td>\n",
       "      <td>...</td>\n",
       "      <td>NaN</td>\n",
       "      <td>9.0</td>\n",
       "      <td>57.0</td>\n",
       "      <td>Mid-City:Eastern Area</td>\n",
       "      <td>NaN</td>\n",
       "      <td>Mobile</td>\n",
       "      <td>NaN</td>\n",
       "      <td>SS-026868-PV1</td>\n",
       "      <td>SS-026868</td>\n",
       "      <td>This road needs To be repaired immediately</td>\n",
       "    </tr>\n",
       "  </tbody>\n",
       "</table>\n",
       "<p>5 rows × 23 columns</p>\n",
       "</div>"
      ],
      "text/plain": [
       "   service_request_id  service_request_parent_id  sap_notification_number  \\\n",
       "0              100123                        NaN             4.030000e+10   \n",
       "1              100191                    87204.0                      NaN   \n",
       "2              100194                        NaN             4.030001e+10   \n",
       "3              100241                        NaN             4.030001e+10   \n",
       "4              100867                        NaN             4.030000e+10   \n",
       "\n",
       "        date_requested  case_age_days case_record_type          service_name  \\\n",
       "0  2016-08-17T16:40:00         1654.0              TSW  Pavement Maintenance   \n",
       "1  2016-08-17T23:48:00         1842.0              TSW  Pavement Maintenance   \n",
       "2  2016-08-18T04:17:00         1652.0              TSW  Pavement Maintenance   \n",
       "3  2016-08-18T09:23:00         1751.0              TSW            Stormwater   \n",
       "4  2016-08-21T12:19:00         1838.0              TSW  Pavement Maintenance   \n",
       "\n",
       "               service_name_detail date_closed  status  ...  zipcode  \\\n",
       "0   CONCRETE PAVEMENT REPAIR ISSUE  2021-02-26  Closed  ...      NaN   \n",
       "1  Evaluate for Resurfacing/Slurry  2021-09-02  Closed  ...      NaN   \n",
       "2                     DAMAGED CURB  2021-02-25  Closed  ...      NaN   \n",
       "3                      DRAIN INLET  2021-06-04  Closed  ...      NaN   \n",
       "4  EVALUATE FOR RESURFACING/SLURRY  2021-09-02  Closed  ...      NaN   \n",
       "\n",
       "   council_district comm_plan_code         comm_plan_name  park_name  \\\n",
       "0               5.0           31.0        Rancho Bernardo        NaN   \n",
       "1               5.0            3.0  Carmel Mountain Ranch        NaN   \n",
       "2               2.0            6.0        Clairemont Mesa        NaN   \n",
       "3               3.0           19.0         Mission Valley        NaN   \n",
       "4               9.0           57.0  Mid-City:Eastern Area        NaN   \n",
       "\n",
       "   case_origin referred        iamfloc       floc  \\\n",
       "0          Web      NaN  SS-020515-PV1  SS-020515   \n",
       "1          Web      NaN            NaN  SS-022700   \n",
       "2          Web      NaN  SS-014744-PV1  SS-014744   \n",
       "3        Email      NaN        IN22626   43802117   \n",
       "4       Mobile      NaN  SS-026868-PV1  SS-026868   \n",
       "\n",
       "                                  public_description  \n",
       "0  We have a cement street it is buckling and one...  \n",
       "1  Potholes and uneven pavement throughout Rancho...  \n",
       "2  curb cracked, please fill\\ngutter joint depres...  \n",
       "3  BRUSH AND OTHER DEBRIS IN DRAIN - REQUEST REMOVAL  \n",
       "4         This road needs To be repaired immediately  \n",
       "\n",
       "[5 rows x 23 columns]"
      ]
     },
     "execution_count": 174,
     "metadata": {},
     "output_type": "execute_result"
    }
   ],
   "source": [
    "requests_21.head()"
   ]
  },
  {
   "cell_type": "code",
   "execution_count": null,
   "id": "9e627362-8a0d-49ec-9eff-dbd83e8c4633",
   "metadata": {},
   "outputs": [],
   "source": []
  },
  {
   "cell_type": "code",
   "execution_count": null,
   "id": "b0844e9b-96a6-49e8-8a8e-1108f6ae5227",
   "metadata": {},
   "outputs": [],
   "source": []
  },
  {
   "cell_type": "code",
   "execution_count": null,
   "id": "085b6efb-3a49-43d8-bbd6-99501cd56b29",
   "metadata": {},
   "outputs": [],
   "source": []
  },
  {
   "cell_type": "code",
   "execution_count": null,
   "id": "9dd1c0cb-01d8-4283-b1dc-4c263c1101bd",
   "metadata": {},
   "outputs": [],
   "source": []
  },
  {
   "cell_type": "code",
   "execution_count": null,
   "id": "c21c7891-0a0b-45aa-aa8b-4a0527e572bb",
   "metadata": {},
   "outputs": [],
   "source": []
  },
  {
   "cell_type": "code",
   "execution_count": null,
   "id": "38428476-b0e6-47e5-9b77-6b3a4a076364",
   "metadata": {},
   "outputs": [],
   "source": []
  },
  {
   "cell_type": "code",
   "execution_count": null,
   "id": "7e0ce315-d37a-43f1-8ba4-2cd899176073",
   "metadata": {},
   "outputs": [],
   "source": []
  },
  {
   "cell_type": "markdown",
   "id": "ea8a44c6-9a50-442c-ad93-5e576d7c387e",
   "metadata": {},
   "source": [
    "## 6. Building a Pipeline"
   ]
  },
  {
   "cell_type": "markdown",
   "id": "fc797a3c-0454-4fad-aa49-2fa0f26e4792",
   "metadata": {},
   "source": [
    "### a. Picking Pipeline"
   ]
  },
  {
   "cell_type": "code",
   "execution_count": null,
   "id": "4179403d-22cb-4d99-970a-2d6f47817dd1",
   "metadata": {},
   "outputs": [],
   "source": []
  }
 ],
 "metadata": {
  "kernelspec": {
   "display_name": "Python 3 (ipykernel)",
   "language": "python",
   "name": "python3"
  },
  "language_info": {
   "codemirror_mode": {
    "name": "ipython",
    "version": 3
   },
   "file_extension": ".py",
   "mimetype": "text/x-python",
   "name": "python",
   "nbconvert_exporter": "python",
   "pygments_lexer": "ipython3",
   "version": "3.9.12"
  }
 },
 "nbformat": 4,
 "nbformat_minor": 5
}
