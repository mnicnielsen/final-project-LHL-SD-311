{
 "cells": [
  {
   "cell_type": "markdown",
   "id": "cfb18db7-614a-4e1c-89f3-07c044e1538a",
   "metadata": {},
   "source": [
    "# Creating ML Model for 311 Analysis"
   ]
  },
  {
   "cell_type": "markdown",
   "id": "0a77a107-4005-4b14-b1c8-f6844e30d846",
   "metadata": {},
   "source": [
    "## Import Packages and Data"
   ]
  },
  {
   "cell_type": "code",
   "execution_count": 1,
   "id": "067c7d04-548c-4660-b962-13a99408afe6",
   "metadata": {},
   "outputs": [],
   "source": [
    "import pandas as pd\n",
    "import numpy as np\n",
    "from matplotlib import pyplot as plt\n",
    "import seaborn as sns\n",
    "from datetime import datetime\n",
    "from sklearn.model_selection import train_test_split\n",
    "import pickle"
   ]
  },
  {
   "cell_type": "code",
   "execution_count": 2,
   "id": "2490e952-4b92-4999-b43f-f52667d03c4d",
   "metadata": {},
   "outputs": [],
   "source": [
    "requests_21 = pd.read_csv('../data/2021_closed_requests.csv', low_memory=False)\n",
    "requests_22 = pd.read_csv('../data/2022_closed_requests.csv', low_memory=False)"
   ]
  },
  {
   "cell_type": "markdown",
   "id": "3048d73c-812c-4ea6-85fa-094daaa07701",
   "metadata": {
    "tags": []
   },
   "source": [
    "## Data Exploration"
   ]
  },
  {
   "cell_type": "markdown",
   "id": "ea9e829e-800b-416e-85d2-b1e56e48e599",
   "metadata": {},
   "source": [
    "### Investigate number of data points"
   ]
  },
  {
   "cell_type": "code",
   "execution_count": 3,
   "id": "b49d7b53-c017-4dd2-af50-c38c2564dad8",
   "metadata": {},
   "outputs": [
    {
     "name": "stdout",
     "output_type": "stream",
     "text": [
      "Shape of 2021 data: (359090, 23)\n",
      "Shape of 2022 data: (348924, 23)\n"
     ]
    }
   ],
   "source": [
    "print(\"Shape of 2021 data:\", requests_21.shape)\n",
    "print(\"Shape of 2022 data:\", requests_22.shape)"
   ]
  },
  {
   "cell_type": "markdown",
   "id": "9bb58127-1a07-4a1a-ad4b-42e861df1f68",
   "metadata": {
    "tags": []
   },
   "source": [
    "### Check for null values in all columns\n",
    "- 2021"
   ]
  },
  {
   "cell_type": "code",
   "execution_count": 4,
   "id": "3a211edf-9f7a-466f-b15a-e0ff3c151254",
   "metadata": {
    "tags": []
   },
   "outputs": [
    {
     "data": {
      "text/plain": [
       "service_request_id                0\n",
       "service_request_parent_id    320300\n",
       "sap_notification_number      312452\n",
       "date_requested                    0\n",
       "case_age_days                     8\n",
       "case_record_type                  0\n",
       "service_name                      0\n",
       "service_name_detail          110504\n",
       "date_closed                       8\n",
       "status                            0\n",
       "lat                            2609\n",
       "lng                            2609\n",
       "street_address                  534\n",
       "zipcode                      125914\n",
       "council_district               2925\n",
       "comm_plan_code                 2984\n",
       "comm_plan_name                 2984\n",
       "park_name                    340158\n",
       "case_origin                      34\n",
       "referred                     297104\n",
       "iamfloc                      166284\n",
       "floc                         166145\n",
       "public_description            25982\n",
       "dtype: int64"
      ]
     },
     "execution_count": 4,
     "metadata": {},
     "output_type": "execute_result"
    }
   ],
   "source": [
    "requests_21.isna().sum()"
   ]
  },
  {
   "cell_type": "markdown",
   "id": "22fe278c-5b06-4612-b9dc-0a40bfd087c7",
   "metadata": {},
   "source": [
    "### Explore each Column"
   ]
  },
  {
   "cell_type": "code",
   "execution_count": 5,
   "id": "f2cba179-594d-411d-bcc3-0ba99e197542",
   "metadata": {
    "tags": []
   },
   "outputs": [
    {
     "name": "stdout",
     "output_type": "stream",
     "text": [
      "<class 'pandas.core.frame.DataFrame'>\n",
      "RangeIndex: 359090 entries, 0 to 359089\n",
      "Data columns (total 23 columns):\n",
      " #   Column                     Non-Null Count   Dtype  \n",
      "---  ------                     --------------   -----  \n",
      " 0   service_request_id         359090 non-null  int64  \n",
      " 1   service_request_parent_id  38790 non-null   float64\n",
      " 2   sap_notification_number    46638 non-null   float64\n",
      " 3   date_requested             359090 non-null  object \n",
      " 4   case_age_days              359082 non-null  float64\n",
      " 5   case_record_type           359090 non-null  object \n",
      " 6   service_name               359090 non-null  object \n",
      " 7   service_name_detail        248586 non-null  object \n",
      " 8   date_closed                359082 non-null  object \n",
      " 9   status                     359090 non-null  object \n",
      " 10  lat                        356481 non-null  float64\n",
      " 11  lng                        356481 non-null  float64\n",
      " 12  street_address             358556 non-null  object \n",
      " 13  zipcode                    233176 non-null  object \n",
      " 14  council_district           356165 non-null  float64\n",
      " 15  comm_plan_code             356106 non-null  float64\n",
      " 16  comm_plan_name             356106 non-null  object \n",
      " 17  park_name                  18932 non-null   object \n",
      " 18  case_origin                359056 non-null  object \n",
      " 19  referred                   61986 non-null   object \n",
      " 20  iamfloc                    192806 non-null  object \n",
      " 21  floc                       192945 non-null  object \n",
      " 22  public_description         333108 non-null  object \n",
      "dtypes: float64(7), int64(1), object(15)\n",
      "memory usage: 63.0+ MB\n"
     ]
    }
   ],
   "source": [
    "requests_21.info()"
   ]
  },
  {
   "cell_type": "markdown",
   "id": "b21ba889-ce60-412b-8914-2f615d53bf63",
   "metadata": {},
   "source": [
    "## Data Cleaning"
   ]
  },
  {
   "cell_type": "markdown",
   "id": "2a03cdd3-5c61-43c4-b4a9-54e51cbd2c8c",
   "metadata": {},
   "source": [
    "### Drop columns that will not be used"
   ]
  },
  {
   "cell_type": "code",
   "execution_count": 6,
   "id": "443532aa-6022-4ce2-ac27-67a8f8dd933f",
   "metadata": {},
   "outputs": [],
   "source": [
    "requests_21 = requests_21.drop(['service_request_id','sap_notification_number','case_record_type','date_closed','status','lat','lng','street_address','zipcode','comm_plan_code','comm_plan_name','referred','iamfloc','floc'], axis=1)"
   ]
  },
  {
   "cell_type": "markdown",
   "id": "3241f031-c34c-4ef5-96b9-392f5114a837",
   "metadata": {},
   "source": [
    "### Conditional Removal of Rows Based on Remaining Columns"
   ]
  },
  {
   "cell_type": "markdown",
   "id": "165072d2-9e56-4adf-9b6f-56d3edbcb44b",
   "metadata": {},
   "source": [
    "#### service_request_parent_id\n",
    "- indicates duplicate requests\n",
    "- ONLY kept null values"
   ]
  },
  {
   "cell_type": "code",
   "execution_count": 7,
   "id": "fd4a9391-89e4-49ae-ad76-6c42418dedb6",
   "metadata": {},
   "outputs": [
    {
     "name": "stdout",
     "output_type": "stream",
     "text": [
      "number unique values: 23827\n",
      "number all values: 38790\n"
     ]
    }
   ],
   "source": [
    "print(\"number unique values:\", len(requests_21[requests_21[['service_request_parent_id']].notnull().all(1)]['service_request_parent_id'].unique()))\n",
    "print(\"number all values:\", len(requests_21[requests_21[['service_request_parent_id']].notnull().all(1)]['service_request_parent_id']))\n",
    "\n",
    "requests_21['service_request_parent_id'].fillna(0, inplace = True)\n",
    "requests_21 = requests_21[requests_21['service_request_parent_id'] == 0]"
   ]
  },
  {
   "cell_type": "markdown",
   "id": "1d5fa736-851e-47e9-aa39-3583fb26c46e",
   "metadata": {},
   "source": [
    "#### case_age_days\n",
    "- this column is key and will be the 'y' column in the ML algorithm\n",
    "- float64\n",
    "- drop all with null values (there are only 7)"
   ]
  },
  {
   "cell_type": "code",
   "execution_count": 8,
   "id": "039654cb-19a4-4ba2-acdc-cdb04c0887e8",
   "metadata": {},
   "outputs": [
    {
     "data": {
      "text/plain": [
       "False"
      ]
     },
     "execution_count": 8,
     "metadata": {},
     "output_type": "execute_result"
    }
   ],
   "source": [
    "#drop null values\n",
    "requests_21 = requests_21.dropna(subset=['case_age_days'])\n",
    "requests_21['case_age_days'].isna().any()"
   ]
  },
  {
   "cell_type": "markdown",
   "id": "57df7217-80cb-48dd-86b2-7f3d10fe4506",
   "metadata": {},
   "source": [
    "#### council_district\n",
    "- drop those with no listed council district"
   ]
  },
  {
   "cell_type": "code",
   "execution_count": 9,
   "id": "a16c3795-1b8e-464d-ad70-18d4d5c039f2",
   "metadata": {},
   "outputs": [
    {
     "data": {
      "text/plain": [
       "False"
      ]
     },
     "execution_count": 9,
     "metadata": {},
     "output_type": "execute_result"
    }
   ],
   "source": [
    "#drop null values\n",
    "requests_21 = requests_21.dropna(subset=['council_district'])\n",
    "requests_21['council_district'].isna().any()"
   ]
  },
  {
   "cell_type": "markdown",
   "id": "922d51bd-1d44-4355-87ec-b2dd56a301e7",
   "metadata": {},
   "source": [
    "#### case_origin"
   ]
  },
  {
   "cell_type": "code",
   "execution_count": 10,
   "id": "ebabe1f4-27a0-4686-9873-5db282af3289",
   "metadata": {},
   "outputs": [],
   "source": [
    "# only keep the rows with the following origins: Mobile, Web, Phone\n",
    "requests_21 = requests_21[(requests_21['case_origin'] == 'Mobile') | (requests_21['case_origin'] == 'Web') | (requests_21['case_origin'] == 'Phone')]"
   ]
  },
  {
   "cell_type": "markdown",
   "id": "499bf1ff-4caa-4fd9-acf4-5325662d095a",
   "metadata": {},
   "source": [
    "#### public_description\n",
    "- drop those with no public description"
   ]
  },
  {
   "cell_type": "code",
   "execution_count": 11,
   "id": "6c9cd1ec-5c30-403e-9af8-1a16ec1386b4",
   "metadata": {},
   "outputs": [
    {
     "data": {
      "text/plain": [
       "False"
      ]
     },
     "execution_count": 11,
     "metadata": {},
     "output_type": "execute_result"
    }
   ],
   "source": [
    "#drop null values\n",
    "requests_21 = requests_21.dropna(subset=['public_description'])\n",
    "requests_21['public_description'].isna().any()"
   ]
  },
  {
   "cell_type": "markdown",
   "id": "350ec7d2-eb45-4aac-9873-bd71bdc0be1b",
   "metadata": {},
   "source": [
    "### service_name"
   ]
  },
  {
   "cell_type": "code",
   "execution_count": 12,
   "id": "b081aa2c-5be1-4b7a-b240-84a6d5bdeba7",
   "metadata": {},
   "outputs": [
    {
     "data": {
      "text/plain": [
       "False"
      ]
     },
     "execution_count": 12,
     "metadata": {},
     "output_type": "execute_result"
    }
   ],
   "source": [
    "#drop null values\n",
    "requests_21 = requests_21.dropna(subset=['service_name'])\n",
    "requests_21['service_name'].isna().any()"
   ]
  },
  {
   "cell_type": "code",
   "execution_count": 13,
   "id": "c9281b96-57ee-40ff-96b1-063244c76923",
   "metadata": {},
   "outputs": [
    {
     "data": {
      "text/plain": [
       "Index(['service_request_parent_id', 'date_requested', 'case_age_days',\n",
       "       'service_name', 'service_name_detail', 'council_district', 'park_name',\n",
       "       'case_origin', 'public_description'],\n",
       "      dtype='object')"
      ]
     },
     "execution_count": 13,
     "metadata": {},
     "output_type": "execute_result"
    }
   ],
   "source": [
    "requests_21.columns"
   ]
  },
  {
   "cell_type": "markdown",
   "id": "1c13dbdd-eb80-43ea-a656-45b81d991d7b",
   "metadata": {},
   "source": [
    "## Feature Engineering"
   ]
  },
  {
   "cell_type": "markdown",
   "id": "2fd7d7a7-ddf5-4aa0-add1-e231aa69f66e",
   "metadata": {},
   "source": [
    "### date_requested\n",
    "Include following features:\n",
    "- day_of_week\n",
    "- is_weekend\n",
    "- month"
   ]
  },
  {
   "cell_type": "code",
   "execution_count": 14,
   "id": "cce3fa36-09a4-49e3-9c71-c1b6bc5826fb",
   "metadata": {},
   "outputs": [],
   "source": [
    "# create vectorized strptime function to use in pandas\n",
    "vectorized_strptime = np.vectorize(datetime.strptime)\n",
    "\n",
    "# apply vectorized strptime function to df\n",
    "requests_21['date_requested'] = vectorized_strptime(requests_21['date_requested'], '%Y-%m-%dT%H:%M:00')"
   ]
  },
  {
   "cell_type": "code",
   "execution_count": 15,
   "id": "14ef2378-adb4-466e-9d00-623f3c79903f",
   "metadata": {},
   "outputs": [],
   "source": [
    "requests_21['day_of_week'] = requests_21['date_requested'].dt.dayofweek"
   ]
  },
  {
   "cell_type": "code",
   "execution_count": 16,
   "id": "1763d845-7c56-4057-8e05-b2a626a113f1",
   "metadata": {},
   "outputs": [],
   "source": [
    "requests_21['is_weekend'] = np.where(requests_21['day_of_week'] < 5, 0, 1)"
   ]
  },
  {
   "cell_type": "code",
   "execution_count": 17,
   "id": "5af4b885-6fb2-4e3c-8fc2-630fc127379b",
   "metadata": {},
   "outputs": [],
   "source": [
    "requests_21['month'] = requests_21['date_requested'].dt.month"
   ]
  },
  {
   "cell_type": "markdown",
   "id": "2c1bdcf5-aafc-4ec6-99d3-46c371af2cfc",
   "metadata": {},
   "source": [
    "#### feature: day"
   ]
  },
  {
   "cell_type": "code",
   "execution_count": 18,
   "id": "32d7b8ee-307f-47ec-8fe7-b2cff8ff94a2",
   "metadata": {},
   "outputs": [],
   "source": [
    "requests_21pro = pd.get_dummies(requests_21, columns=['day_of_week'], prefix='day', prefix_sep='_', drop_first=False)"
   ]
  },
  {
   "cell_type": "markdown",
   "id": "57ca5f8c-bfaa-42e0-94ab-d1a8a9813aee",
   "metadata": {},
   "source": [
    "#### feature: month"
   ]
  },
  {
   "cell_type": "code",
   "execution_count": 19,
   "id": "9d9cd7a8-6a7c-48ab-80ee-181da5a0c6ed",
   "metadata": {},
   "outputs": [],
   "source": [
    "requests_21pro = pd.get_dummies(requests_21pro, columns=['month'], prefix='month', prefix_sep='_', drop_first=False)"
   ]
  },
  {
   "cell_type": "markdown",
   "id": "9e892c9d-1dea-409f-957e-4839e4e024cc",
   "metadata": {},
   "source": [
    "### service_name and service_name_detail"
   ]
  },
  {
   "cell_type": "code",
   "execution_count": 20,
   "id": "22065ed6-40aa-4875-b350-997215a4adf6",
   "metadata": {},
   "outputs": [
    {
     "data": {
      "text/plain": [
       "Parking                                    42930\n",
       "Missed Collection                          40322\n",
       "Encampment                                 26223\n",
       "Graffiti                                   24863\n",
       "Shared Mobility Device                     19781\n",
       "Illegal Dumping                            16636\n",
       "Other                                       9285\n",
       "Pothole                                     9157\n",
       "Tree Maintenance                            7811\n",
       "Traffic Signal Issue                        5416\n",
       "Street Light Maintenance                    5091\n",
       "Graffiti - Code Enforcement                 4332\n",
       "Environmental Services Code Compliance      3956\n",
       "Dead Animal                                 3569\n",
       "Traffic Sign Maintenance                    3447\n",
       "Sidewalk Repair Issue                       3367\n",
       "Traffic Signal Timing                       3044\n",
       "ROW Maintenance                             2987\n",
       "Pavement Maintenance                        2855\n",
       "Traffic Engineering                         2132\n",
       "Stormwater Code Enforcement                 2086\n",
       "Trash/Recycling Collection                  2053\n",
       "Waste on Private Property                   2043\n",
       "Street Sweeping                             1904\n",
       "Stormwater                                  1729\n",
       "Right-of-Way Code Enforcement               1559\n",
       "Street Flooded                              1197\n",
       "Development Services - Code Enforcement     1030\n",
       "Weed Cleanup                                 801\n",
       "COVID-19                                     571\n",
       "Oversized Vehicle                            191\n",
       "Homeless Outreach                              1\n",
       "Name: service_name, dtype: int64"
      ]
     },
     "execution_count": 20,
     "metadata": {},
     "output_type": "execute_result"
    }
   ],
   "source": [
    "requests_21['service_name'].value_counts()"
   ]
  },
  {
   "cell_type": "code",
   "execution_count": 21,
   "id": "7241ed95-b3bf-4a90-951b-8068a15b5827",
   "metadata": {},
   "outputs": [],
   "source": [
    "#reclassify the one 'homeless outreach' request as encampment\n",
    "requests_21['service_name'] = np.where(requests_21['service_name'] == 'Homeless Outreach', \n",
    "                                    'Encampment', \n",
    "                                    requests_21['service_name'])"
   ]
  },
  {
   "cell_type": "code",
   "execution_count": 22,
   "id": "67eac0e8-0e09-4407-819b-2d8b27a4e51f",
   "metadata": {},
   "outputs": [],
   "source": [
    "service_name_details_to_keep = list(requests_21['service_name_detail'].value_counts().head(25).reset_index().iloc[:,0].values)"
   ]
  },
  {
   "cell_type": "code",
   "execution_count": 23,
   "id": "cf4fe254-2241-47ec-9bd0-0b409cde4e34",
   "metadata": {},
   "outputs": [],
   "source": [
    "#enhance service type column by using service_name_details, where available\n",
    "requests_21['detailed_type'] = np.where(requests_21['service_name_detail'].isin(service_name_details_to_keep) == True, \n",
    "                                        requests_21['service_name_detail'], \n",
    "                                        requests_21['service_name'])"
   ]
  },
  {
   "cell_type": "code",
   "execution_count": 24,
   "id": "3f080981-93c5-4382-8763-3c169e128b1b",
   "metadata": {},
   "outputs": [],
   "source": [
    "# define replacement value function\n",
    "def replace_service(old_name, new_name):\n",
    "    requests_21['detailed_type'] = np.where(requests_21['service_name_detail'] == old_name, \n",
    "                                        new_name, \n",
    "                                        requests_21['detailed_type'])\n"
   ]
  },
  {
   "cell_type": "code",
   "execution_count": 25,
   "id": "21cf03b0-2da0-4c34-9558-c3739b6a773f",
   "metadata": {},
   "outputs": [],
   "source": [
    "replace_service('STREET LIGHT OUT', 'Street Light Out of Service')\n",
    "replace_service('CONCRETE SIDEWALK REPAIR ISSUE', 'Sidewalk Repair Issue')\n",
    "replace_service('LIGHTS OUT', 'Traffic Signal Out of Service')\n",
    "replace_service('SWPP - Storm Water Polution Prevention', 'Stormwater Pollution Prevention')\n",
    "replace_service('EVALUATE TREE FOR REMOVAL', 'Tree Removal')\n",
    "replace_service('LIGHTS ON FLASH', 'Flashing Traffic Signal Lights')\n",
    "replace_service('POLE KNOCK OVER/DAMAGE', 'Damaged/Knocked Over Pole')\n",
    "replace_service('LIMB FALLEN OR HANGING', 'Fallen/Hanging Tree Limb')\n",
    "replace_service('DRAIN INLET', 'Drain Inlet')\n",
    "replace_service('Out Late', 'Container Out Late')\n",
    "replace_service('CONTRACTUAL TRIMMING', 'Trimming Request')\n",
    "replace_service('EVALUATE FOR RESURFACING/SLURRY', 'Resurfacing Evaluation')\n",
    "replace_service('TRIM TREE FOR PEDS/VEHICLE CLEARANCE', 'Tree Trimming for Pedestrian/Vehicle Clearance')"
   ]
  },
  {
   "cell_type": "code",
   "execution_count": 26,
   "id": "2ae7a3e6-045f-4662-9b07-e70f7b6b509d",
   "metadata": {},
   "outputs": [],
   "source": [
    "#reclassify the 2 'Graffiti' request as 'Graffiti Removal'\n",
    "requests_21['detailed_type'] = np.where(requests_21['detailed_type'] == 'Graffiti', \n",
    "                                    'Graffiti Removal', \n",
    "                                    requests_21['detailed_type'])"
   ]
  },
  {
   "cell_type": "code",
   "execution_count": 27,
   "id": "ba71786b-e8e2-42bc-8317-a22cea4b31f8",
   "metadata": {},
   "outputs": [
    {
     "data": {
      "text/plain": [
       "False"
      ]
     },
     "execution_count": 27,
     "metadata": {},
     "output_type": "execute_result"
    }
   ],
   "source": [
    "requests_21['detailed_type'].isna().any()"
   ]
  },
  {
   "cell_type": "code",
   "execution_count": 28,
   "id": "da0ac46e-f907-42ea-bd09-e9816eec29ff",
   "metadata": {},
   "outputs": [],
   "source": [
    "categories_df = requests_21[['service_name','detailed_type']]"
   ]
  },
  {
   "cell_type": "code",
   "execution_count": 29,
   "id": "ecfed090-9958-4340-a746-316420aa8333",
   "metadata": {},
   "outputs": [],
   "source": [
    "categories_df = categories_df.drop_duplicates(keep='first')"
   ]
  },
  {
   "cell_type": "code",
   "execution_count": 30,
   "id": "618ee666-f985-4e9b-9413-4a7ffb45bee3",
   "metadata": {},
   "outputs": [
    {
     "data": {
      "text/plain": [
       "['COVID-19',\n",
       " 'Dead Animal',\n",
       " 'Development Services - Code Enforcement',\n",
       " 'Encampment',\n",
       " 'Environmental Services Code Compliance',\n",
       " 'Graffiti',\n",
       " 'Graffiti - Code Enforcement',\n",
       " 'Illegal Dumping',\n",
       " 'Missed Collection',\n",
       " 'Other',\n",
       " 'Oversized Vehicle',\n",
       " 'Parking',\n",
       " 'Pavement Maintenance',\n",
       " 'Pothole',\n",
       " 'ROW Maintenance',\n",
       " 'Right-of-Way Code Enforcement',\n",
       " 'Shared Mobility Device',\n",
       " 'Sidewalk Repair Issue',\n",
       " 'Stormwater',\n",
       " 'Stormwater Code Enforcement',\n",
       " 'Street Flooded',\n",
       " 'Street Light Maintenance',\n",
       " 'Street Sweeping',\n",
       " 'Traffic Engineering',\n",
       " 'Traffic Sign Maintenance',\n",
       " 'Traffic Signal Issue',\n",
       " 'Traffic Signal Timing',\n",
       " 'Trash/Recycling Collection',\n",
       " 'Tree Maintenance',\n",
       " 'Waste on Private Property',\n",
       " 'Weed Cleanup']"
      ]
     },
     "execution_count": 30,
     "metadata": {},
     "output_type": "execute_result"
    }
   ],
   "source": [
    "list(categories_df.head(53).sort_values('service_name')['service_name'].drop_duplicates(keep='first').values)"
   ]
  },
  {
   "cell_type": "code",
   "execution_count": 31,
   "id": "678364c2-f474-4649-9d6e-a1c3975b6c16",
   "metadata": {},
   "outputs": [
    {
     "data": {
      "text/html": [
       "<div>\n",
       "<style scoped>\n",
       "    .dataframe tbody tr th:only-of-type {\n",
       "        vertical-align: middle;\n",
       "    }\n",
       "\n",
       "    .dataframe tbody tr th {\n",
       "        vertical-align: top;\n",
       "    }\n",
       "\n",
       "    .dataframe thead th {\n",
       "        text-align: right;\n",
       "    }\n",
       "</style>\n",
       "<table border=\"1\" class=\"dataframe\">\n",
       "  <thead>\n",
       "    <tr style=\"text-align: right;\">\n",
       "      <th></th>\n",
       "      <th>service_name</th>\n",
       "      <th>detailed_type</th>\n",
       "    </tr>\n",
       "  </thead>\n",
       "  <tbody>\n",
       "    <tr>\n",
       "      <th>17884</th>\n",
       "      <td>COVID-19</td>\n",
       "      <td>COVID-19</td>\n",
       "    </tr>\n",
       "    <tr>\n",
       "      <th>25244</th>\n",
       "      <td>Dead Animal</td>\n",
       "      <td>Dead Animal</td>\n",
       "    </tr>\n",
       "    <tr>\n",
       "      <th>36996</th>\n",
       "      <td>Development Services - Code Enforcement</td>\n",
       "      <td>Development Services - Code Enforcement</td>\n",
       "    </tr>\n",
       "    <tr>\n",
       "      <th>4513</th>\n",
       "      <td>Development Services - Code Enforcement</td>\n",
       "      <td>Quality of Life Issues</td>\n",
       "    </tr>\n",
       "    <tr>\n",
       "      <th>4294</th>\n",
       "      <td>Encampment</td>\n",
       "      <td>Encampment</td>\n",
       "    </tr>\n",
       "    <tr>\n",
       "      <th>2833</th>\n",
       "      <td>Environmental Services Code Compliance</td>\n",
       "      <td>Environmental Services Code Compliance</td>\n",
       "    </tr>\n",
       "    <tr>\n",
       "      <th>3060</th>\n",
       "      <td>Environmental Services Code Compliance</td>\n",
       "      <td>Container Left Out</td>\n",
       "    </tr>\n",
       "    <tr>\n",
       "      <th>5953</th>\n",
       "      <td>Environmental Services Code Compliance</td>\n",
       "      <td>Encroachment</td>\n",
       "    </tr>\n",
       "    <tr>\n",
       "      <th>2226</th>\n",
       "      <td>Graffiti</td>\n",
       "      <td>Graffiti Removal</td>\n",
       "    </tr>\n",
       "    <tr>\n",
       "      <th>4987</th>\n",
       "      <td>Graffiti - Code Enforcement</td>\n",
       "      <td>Graffiti Removal - Commercial</td>\n",
       "    </tr>\n",
       "  </tbody>\n",
       "</table>\n",
       "</div>"
      ],
      "text/plain": [
       "                                  service_name  \\\n",
       "17884                                 COVID-19   \n",
       "25244                              Dead Animal   \n",
       "36996  Development Services - Code Enforcement   \n",
       "4513   Development Services - Code Enforcement   \n",
       "4294                                Encampment   \n",
       "2833    Environmental Services Code Compliance   \n",
       "3060    Environmental Services Code Compliance   \n",
       "5953    Environmental Services Code Compliance   \n",
       "2226                                  Graffiti   \n",
       "4987               Graffiti - Code Enforcement   \n",
       "\n",
       "                                 detailed_type  \n",
       "17884                                 COVID-19  \n",
       "25244                              Dead Animal  \n",
       "36996  Development Services - Code Enforcement  \n",
       "4513                    Quality of Life Issues  \n",
       "4294                                Encampment  \n",
       "2833    Environmental Services Code Compliance  \n",
       "3060                        Container Left Out  \n",
       "5953                              Encroachment  \n",
       "2226                          Graffiti Removal  \n",
       "4987             Graffiti Removal - Commercial  "
      ]
     },
     "execution_count": 31,
     "metadata": {},
     "output_type": "execute_result"
    }
   ],
   "source": [
    "categories_df.head(53).sort_values('service_name').head(10)"
   ]
  },
  {
   "cell_type": "code",
   "execution_count": 32,
   "id": "e5fd2a09-28de-4323-9070-df93ac144214",
   "metadata": {},
   "outputs": [],
   "source": [
    "#create function to access list of subcategories based on category input\n",
    "def subcategory(category):\n",
    "    sub_list = tuple(categories_df.head(53).sort_values('service_name')[categories_df.head(53).sort_values('service_name')['service_name'] == category]['detailed_type'].values)\n",
    "    return sub_list"
   ]
  },
  {
   "cell_type": "code",
   "execution_count": 33,
   "id": "20117094-2e3e-4b26-9b4b-742f2cc51f1e",
   "metadata": {},
   "outputs": [
    {
     "data": {
      "text/plain": [
       "('Environmental Services Code Compliance',\n",
       " 'Container Left Out',\n",
       " 'Encroachment')"
      ]
     },
     "execution_count": 33,
     "metadata": {},
     "output_type": "execute_result"
    }
   ],
   "source": [
    "subcategory('Environmental Services Code Compliance')"
   ]
  },
  {
   "cell_type": "code",
   "execution_count": 34,
   "id": "7167491e-de8e-4c81-b43d-3fd4ba3e9936",
   "metadata": {},
   "outputs": [],
   "source": [
    "with open('../data/categories_df.pkl', 'wb') as file:\n",
    "    pickle.dump(categories_df, file)"
   ]
  },
  {
   "cell_type": "code",
   "execution_count": 35,
   "id": "ad12e6e5-c20b-4348-aacd-0a51b9200cca",
   "metadata": {},
   "outputs": [],
   "source": [
    "requests_21pro['detailed_type'] = requests_21['detailed_type']\n",
    "requests_21pro['detailed_type_dummy'] = requests_21pro['detailed_type']\n",
    "\n",
    "requests_21pro = pd.get_dummies(requests_21pro, columns=['detailed_type_dummy'], prefix='', prefix_sep='', drop_first=False)"
   ]
  },
  {
   "cell_type": "markdown",
   "id": "8f9f32e4-bd1b-4244-9fca-5bd744478745",
   "metadata": {
    "tags": []
   },
   "source": [
    "### council_district"
   ]
  },
  {
   "cell_type": "markdown",
   "id": "90efeceb-f6e8-4d8f-8173-c9a4c68ce365",
   "metadata": {},
   "source": [
    "#### feature: cd"
   ]
  },
  {
   "cell_type": "code",
   "execution_count": 36,
   "id": "729ab120-9b9c-4c22-bcb8-9440b946136e",
   "metadata": {},
   "outputs": [],
   "source": [
    "requests_21pro = pd.get_dummies(requests_21pro, columns=['council_district'], prefix='cd', prefix_sep='_', drop_first=False)"
   ]
  },
  {
   "cell_type": "markdown",
   "id": "09bc475d-aefe-4295-b9bd-61221befc827",
   "metadata": {},
   "source": [
    "### in_park\n",
    "- convert to binary feature - 1 if in park, 0 if not in park"
   ]
  },
  {
   "cell_type": "code",
   "execution_count": 37,
   "id": "94876cc1-b2e8-4d53-817c-406d992317a2",
   "metadata": {},
   "outputs": [
    {
     "data": {
      "text/plain": [
       "0    237645\n",
       "1     14724\n",
       "Name: in_park, dtype: int64"
      ]
     },
     "execution_count": 37,
     "metadata": {},
     "output_type": "execute_result"
    }
   ],
   "source": [
    "requests_21['in_park'] = np.where(requests_21['park_name'].isna() == True, 0, 1)\n",
    "requests_21['in_park'].value_counts()"
   ]
  },
  {
   "cell_type": "code",
   "execution_count": 38,
   "id": "1ff947fb-79e9-4736-a67b-ecb6d5e30293",
   "metadata": {},
   "outputs": [],
   "source": [
    "requests_21pro['in_park'] = requests_21['in_park']"
   ]
  },
  {
   "cell_type": "markdown",
   "id": "27978604-0ddc-48d2-be60-558e4cec922f",
   "metadata": {},
   "source": [
    "### is_phone"
   ]
  },
  {
   "cell_type": "markdown",
   "id": "4148ce34-0d7a-4867-ad81-62e19cf3f7ac",
   "metadata": {},
   "source": [
    "#### is_phone\n",
    "- describes whether person called in or requested via web or mobile app"
   ]
  },
  {
   "cell_type": "code",
   "execution_count": 39,
   "id": "a6c2532e-7391-4980-bd46-ce4a21e518b4",
   "metadata": {},
   "outputs": [
    {
     "data": {
      "text/plain": [
       "0    229607\n",
       "1     22762\n",
       "Name: is_phone, dtype: int64"
      ]
     },
     "execution_count": 39,
     "metadata": {},
     "output_type": "execute_result"
    }
   ],
   "source": [
    "requests_21['is_phone'] = np.where((requests_21['case_origin'] == 'Mobile') | (requests_21['case_origin'] == 'Web'), 0, 1)\n",
    "requests_21['is_phone'].value_counts()"
   ]
  },
  {
   "cell_type": "code",
   "execution_count": 40,
   "id": "45360f52-be02-48ef-a972-d6a2f3b83bd1",
   "metadata": {},
   "outputs": [],
   "source": [
    "requests_21pro['is_phone'] = requests_21['is_phone']"
   ]
  },
  {
   "cell_type": "markdown",
   "id": "389e53b4-dc45-42a8-95a4-55357af6894f",
   "metadata": {},
   "source": [
    "## NLP Processing"
   ]
  },
  {
   "cell_type": "markdown",
   "id": "dfeccf37-0d20-4bd3-9505-ec3657919702",
   "metadata": {},
   "source": [
    "### Imports"
   ]
  },
  {
   "cell_type": "code",
   "execution_count": 41,
   "id": "3c6af19a-8816-43d2-86a1-e1d3cc15545c",
   "metadata": {},
   "outputs": [
    {
     "name": "stderr",
     "output_type": "stream",
     "text": [
      "[nltk_data] Downloading package stopwords to\n",
      "[nltk_data]     C:\\Users\\mnicn\\AppData\\Roaming\\nltk_data...\n",
      "[nltk_data]   Package stopwords is already up-to-date!\n",
      "[nltk_data] Downloading package omw-1.4 to\n",
      "[nltk_data]     C:\\Users\\mnicn\\AppData\\Roaming\\nltk_data...\n",
      "[nltk_data]   Package omw-1.4 is already up-to-date!\n",
      "[nltk_data] Downloading package wordnet to\n",
      "[nltk_data]     C:\\Users\\mnicn\\AppData\\Roaming\\nltk_data...\n",
      "[nltk_data]   Package wordnet is already up-to-date!\n",
      "[nltk_data] Downloading package punkt to\n",
      "[nltk_data]     C:\\Users\\mnicn\\AppData\\Roaming\\nltk_data...\n",
      "[nltk_data]   Package punkt is already up-to-date!\n"
     ]
    }
   ],
   "source": [
    "#import required packages NLP\n",
    "import nltk\n",
    "from nltk.corpus import stopwords\n",
    "nltk.download('stopwords')\n",
    "nltk.download('omw-1.4')\n",
    "from nltk.corpus import stopwords\n",
    "nltk.download('wordnet')\n",
    "from nltk.stem import WordNetLemmatizer\n",
    "nltk.download('punkt')\n",
    "from nltk.stem import PorterStemmer\n",
    "\n",
    "import string\n",
    "import re"
   ]
  },
  {
   "cell_type": "code",
   "execution_count": 42,
   "id": "e40d454e-eeb3-47e1-859a-9b2dfbe56751",
   "metadata": {},
   "outputs": [],
   "source": [
    "# Import StandardScaler\n",
    "from sklearn.preprocessing import StandardScaler"
   ]
  },
  {
   "cell_type": "markdown",
   "id": "478b6b93-54fe-46ff-8a99-5e5501f7a1bc",
   "metadata": {},
   "source": [
    "### Cleaning"
   ]
  },
  {
   "cell_type": "code",
   "execution_count": 43,
   "id": "fd3158f0-1e34-47a3-b01f-46f96f95b3a2",
   "metadata": {},
   "outputs": [],
   "source": [
    "ENGstopwords = stopwords.words('english')"
   ]
  },
  {
   "cell_type": "code",
   "execution_count": 44,
   "id": "015d718b-03a9-4f79-82b2-c97c79b18f10",
   "metadata": {},
   "outputs": [],
   "source": [
    "#define cleaning function\n",
    "\n",
    "def clean(text):\n",
    "    \n",
    "    # remove punctuation    \n",
    "    text = \"\".join([char for char in text if char not in string.punctuation])\n",
    "\n",
    "    # tokenize words\n",
    "    tokens = text.split()\n",
    "\n",
    "    # remove all stopwords\n",
    "    tokens_no_stopwords = [word for word in tokens if word not in ENGstopwords]\n",
    "\n",
    "    # lemmatize\n",
    "    lemmatizer = WordNetLemmatizer()\n",
    "    lemmatized_tokens_n = [lemmatizer.lemmatize(token) for token in tokens_no_stopwords]\n",
    "    lemmatized_tokens_v = [lemmatizer.lemmatize(token, pos =\"v\") for token in lemmatized_tokens_n]\n",
    "    lemmatized_tokens_a = [lemmatizer.lemmatize(token, pos =\"a\") for token in lemmatized_tokens_v]\n",
    "    lemmatized_tokens_r = [lemmatizer.lemmatize(token, pos =\"r\") for token in lemmatized_tokens_a]\n",
    "    lemmatized_tokens_s = [lemmatizer.lemmatize(token, pos =\"s\") for token in lemmatized_tokens_r]\n",
    "        \n",
    "    return lemmatized_tokens_s"
   ]
  },
  {
   "cell_type": "code",
   "execution_count": 45,
   "id": "bf6003ac-0c15-4613-b4f5-df173f458b99",
   "metadata": {},
   "outputs": [],
   "source": [
    "requests_21pro['tokens'] = requests_21pro['public_description'].apply(lambda x: clean(x.lower()))"
   ]
  },
  {
   "cell_type": "code",
   "execution_count": 46,
   "id": "e9a14edf-de9a-4b65-9ba3-ea68ce9df091",
   "metadata": {},
   "outputs": [],
   "source": [
    "tokens = requests_21pro['tokens']"
   ]
  },
  {
   "cell_type": "code",
   "execution_count": 47,
   "id": "8e3b04b9-4bae-45f1-a6d7-e68bf1162d58",
   "metadata": {},
   "outputs": [],
   "source": [
    "pickle.dump(tokens, open('../data/tokens.pkl', 'wb'))"
   ]
  },
  {
   "cell_type": "markdown",
   "id": "5634a304-0837-45cc-871c-5df7563f8991",
   "metadata": {},
   "source": [
    "#### feature: word_count"
   ]
  },
  {
   "cell_type": "code",
   "execution_count": 48,
   "id": "0475d23e-d2c0-467f-aac5-c52b8481df47",
   "metadata": {},
   "outputs": [],
   "source": [
    "# define function to create tokens WITH stopwords\n",
    "def count_all_words(text):\n",
    "    \n",
    "    # remove punctuation    \n",
    "    text = \"\".join([char for char in text if char not in string.punctuation])\n",
    "\n",
    "    # tokenize words\n",
    "    tokens = text.split()\n",
    "        \n",
    "    return len(tokens)"
   ]
  },
  {
   "cell_type": "code",
   "execution_count": 49,
   "id": "6ab6779c-4d71-4602-b040-fc78b6c47f8c",
   "metadata": {},
   "outputs": [],
   "source": [
    "requests_21pro['word_count'] = requests_21pro['public_description'].apply(lambda x: count_all_words(x.lower()))"
   ]
  },
  {
   "cell_type": "code",
   "execution_count": 50,
   "id": "a5856e56-494c-489c-bfab-236310c5e023",
   "metadata": {},
   "outputs": [],
   "source": [
    "#standardize word count column\n",
    "\n",
    "# Instantiate StandardScaler\n",
    "count_scaler = StandardScaler()\n",
    "\n",
    "# Fit SS_scaler to the data\n",
    "count_scaler.fit(requests_21pro[['word_count']])\n",
    "\n",
    "# Transform the data using the fitted scaler\n",
    "requests_21pro['word_count'] = count_scaler.transform(requests_21pro[['word_count']])"
   ]
  },
  {
   "cell_type": "code",
   "execution_count": 51,
   "id": "af63a977-77e1-4db9-8a26-3c0c0e149778",
   "metadata": {},
   "outputs": [],
   "source": [
    "pickle.dump(count_scaler, open('../data/count_scaler.pkl', 'wb'))"
   ]
  },
  {
   "cell_type": "markdown",
   "id": "d7ca309c-47e1-443b-9bae-73f01e3284e6",
   "metadata": {},
   "source": [
    "## Modeling"
   ]
  },
  {
   "cell_type": "code",
   "execution_count": 52,
   "id": "789b8d9f-0b71-474a-a42c-7d19c17db26f",
   "metadata": {},
   "outputs": [],
   "source": [
    "import xgboost as xgb\n",
    "from sklearn.metrics import mean_squared_error\n",
    "from sklearn.metrics import r2_score"
   ]
  },
  {
   "cell_type": "markdown",
   "id": "5f62c806-e0ca-4252-8a4d-495c6d842a90",
   "metadata": {
    "tags": []
   },
   "source": [
    "### a - SIMPLE model - binary in_park and numerical council_district only"
   ]
  },
  {
   "cell_type": "code",
   "execution_count": 53,
   "id": "17b4bf60-f623-4838-bdec-b8dd7e83c0d9",
   "metadata": {},
   "outputs": [],
   "source": [
    "# requests_21a = requests_21"
   ]
  },
  {
   "cell_type": "code",
   "execution_count": 54,
   "id": "9d761262-031e-4708-a48b-02adaa72855d",
   "metadata": {},
   "outputs": [],
   "source": [
    "# X = requests_21a[['in_park', 'council_district']]\n",
    "# y = requests_21a['case_age_days']"
   ]
  },
  {
   "cell_type": "code",
   "execution_count": 55,
   "id": "2d894127-57f5-4b2c-a331-e2b87e3e1a8e",
   "metadata": {},
   "outputs": [],
   "source": [
    "# X.head()"
   ]
  },
  {
   "cell_type": "code",
   "execution_count": 56,
   "id": "fa9ac19b-bc37-49c0-a9c5-552406ac1b84",
   "metadata": {},
   "outputs": [],
   "source": [
    "# y.head()"
   ]
  },
  {
   "cell_type": "code",
   "execution_count": 57,
   "id": "cc34d481-11b8-46b8-88a3-e835263d65b9",
   "metadata": {},
   "outputs": [],
   "source": [
    "# import xgboost as xgb\n",
    "# from sklearn.metrics import mean_squared_error\n",
    "# from sklearn.metrics import r2_score"
   ]
  },
  {
   "cell_type": "code",
   "execution_count": 58,
   "id": "12a47da9-b7a8-4179-97fa-a09d222f01a9",
   "metadata": {},
   "outputs": [],
   "source": [
    "# (X_train, X_test, y_train, y_test) = train_test_split(X, y, test_size = 0.2, random_state = 42)"
   ]
  },
  {
   "cell_type": "code",
   "execution_count": 59,
   "id": "0611af99-2cff-4a90-adcb-bf9f524a9cc0",
   "metadata": {},
   "outputs": [],
   "source": [
    "# print(X_train.shape)\n",
    "# print(X_test.shape)\n",
    "# print(y_train.shape)\n",
    "# print(y_test.shape)"
   ]
  },
  {
   "cell_type": "code",
   "execution_count": 60,
   "id": "e2ed3ffe-91a9-49ac-967a-7bab83ad30d7",
   "metadata": {},
   "outputs": [],
   "source": [
    "# #Instantiate model\n",
    "# xg_reg = xgb.XGBRegressor()"
   ]
  },
  {
   "cell_type": "code",
   "execution_count": 61,
   "id": "e23ac365-c658-4a14-b279-66759e554cea",
   "metadata": {},
   "outputs": [],
   "source": [
    "# xg_reg.fit(X_train, y_train)"
   ]
  },
  {
   "cell_type": "code",
   "execution_count": 62,
   "id": "c9d92870-ef57-4ea9-8d15-d6d02ecfde18",
   "metadata": {},
   "outputs": [],
   "source": [
    "# preds = xg_reg.predict(X_test)"
   ]
  },
  {
   "cell_type": "code",
   "execution_count": 63,
   "id": "d1871b75-d31b-4517-b515-8f845f1c7bb4",
   "metadata": {},
   "outputs": [],
   "source": [
    "# print(preds)"
   ]
  },
  {
   "cell_type": "code",
   "execution_count": 64,
   "id": "b6144c92-f967-4148-b463-d3a9c93a9bff",
   "metadata": {},
   "outputs": [],
   "source": [
    "# rmse = np.sqrt(mean_squared_error(y_test,preds))\n",
    "\n",
    "# print(\"RMSE: %f\" % (rmse))"
   ]
  },
  {
   "cell_type": "code",
   "execution_count": 65,
   "id": "39e2b19a-658c-4b6e-ae8d-973ed1c91ce9",
   "metadata": {},
   "outputs": [],
   "source": [
    "# r2 = r2_score(y_test, xg_reg.predict(X_test))\n",
    "# print(r2)"
   ]
  },
  {
   "cell_type": "code",
   "execution_count": 66,
   "id": "2dfbf3ba-4945-4f5a-8037-a9647c91a2a2",
   "metadata": {},
   "outputs": [],
   "source": [
    "# model_columns = list(X_test.columns)\n",
    "# with open('../data/model_columns.pkl', 'wb') as file:\n",
    "#     pickle.dump(model_columns, file)"
   ]
  },
  {
   "cell_type": "code",
   "execution_count": 67,
   "id": "4ea32782-3b97-4d46-bd10-3858fa0e13ee",
   "metadata": {},
   "outputs": [],
   "source": [
    "# import pickle\n",
    "\n",
    "    \n",
    "# pickle.dump(xg_reg, open('../data/simple_model.pkl', 'wb'))"
   ]
  },
  {
   "cell_type": "code",
   "execution_count": 68,
   "id": "805f6aaf-482b-4bcc-8382-e7156eb26406",
   "metadata": {},
   "outputs": [],
   "source": [
    "# with open('../data/simple_model.pkl', 'rb') as file:\n",
    "#     test_pickle = pickle.load(file)"
   ]
  },
  {
   "cell_type": "code",
   "execution_count": 69,
   "id": "a49e0b17-8a91-4462-b1c0-0e6b1e21d54a",
   "metadata": {},
   "outputs": [],
   "source": [
    "# test_pickle"
   ]
  },
  {
   "cell_type": "code",
   "execution_count": 70,
   "id": "1d93b0b8-0080-4fdb-998b-b73cb032d0ad",
   "metadata": {},
   "outputs": [],
   "source": [
    "# # in_park_binary = (0,1)\n",
    "\n",
    "# # council_districts = (1,2,3,4,5,6,7,8,9)\n",
    "\n",
    "# in_park = 1\n",
    "# council_district = 3\n",
    "\n",
    "# # st.write(in_park)\n",
    "# # st.write(council_district)\n",
    "\n",
    "# # ok = st.button(\"Predict Response Time\")\n",
    "\n",
    "# # if ok == True:\n",
    "# X_dict = {'in_park': [in_park], 'council_district': [council_district]}\n",
    "# X = pd.DataFrame(X_dict)"
   ]
  },
  {
   "cell_type": "code",
   "execution_count": 71,
   "id": "5f0c21e8-a20c-459b-8d2e-794d21bbcbb2",
   "metadata": {},
   "outputs": [],
   "source": [
    "# y_pred = test_pickle.predict(X)\n",
    "\n",
    "# # response_time = xg_reg.predict(X)\n",
    "# # response_time\n",
    "# # st.write(response_time[0])"
   ]
  },
  {
   "cell_type": "code",
   "execution_count": 72,
   "id": "b6e5efc8-a4c7-4391-aad2-322ada332969",
   "metadata": {},
   "outputs": [],
   "source": [
    "# y_pred"
   ]
  },
  {
   "cell_type": "markdown",
   "id": "8f1899e8-b362-4557-81e2-ab843aadc79d",
   "metadata": {
    "jp-MarkdownHeadingCollapsed": true,
    "tags": []
   },
   "source": [
    "### b - SIMPLE model - binary in_park and one-hot council district"
   ]
  },
  {
   "cell_type": "code",
   "execution_count": 73,
   "id": "6d9b1467-ac98-4d06-89e1-2d54ad1246a0",
   "metadata": {},
   "outputs": [],
   "source": [
    "# requests_21b = requests_21"
   ]
  },
  {
   "cell_type": "code",
   "execution_count": 74,
   "id": "e8d613cd-53b3-482e-b4e2-f607e566c862",
   "metadata": {},
   "outputs": [],
   "source": [
    "# requests_21b.columns"
   ]
  },
  {
   "cell_type": "code",
   "execution_count": 75,
   "id": "572241c4-20c6-4e82-886e-2c275c4194b2",
   "metadata": {},
   "outputs": [],
   "source": [
    "# X = requests_21[['in_park', 'cd_1.0', 'cd_2.0', 'cd_3.0', 'cd_4.0',\n",
    "#        'cd_5.0', 'cd_6.0', 'cd_7.0', 'cd_8.0', 'cd_9.0']]\n",
    "# y = requests_21['case_age_days']"
   ]
  },
  {
   "cell_type": "code",
   "execution_count": 76,
   "id": "1b1d97e8-521a-4478-b017-5511af81bb30",
   "metadata": {},
   "outputs": [],
   "source": [
    "# X.head()"
   ]
  },
  {
   "cell_type": "code",
   "execution_count": 77,
   "id": "33b70f97-d1a6-4aec-89cf-f441f096e2e8",
   "metadata": {},
   "outputs": [],
   "source": [
    "# y.head()"
   ]
  },
  {
   "cell_type": "code",
   "execution_count": 78,
   "id": "6cdf3ec8-fd87-433f-b576-2ad27fcf7d79",
   "metadata": {},
   "outputs": [],
   "source": [
    "# (X_train, X_test, y_train, y_test) = train_test_split(X, y, test_size = 0.2, random_state = 42)\n",
    "\n",
    "# print(X_train.shape)\n",
    "# print(X_test.shape)\n",
    "# print(y_train.shape)\n",
    "# print(y_test.shape)"
   ]
  },
  {
   "cell_type": "code",
   "execution_count": 79,
   "id": "77d8b733-a951-4b12-bab3-7a1389e7eb1c",
   "metadata": {},
   "outputs": [],
   "source": [
    "# #Instantiate model\n",
    "# xg_reg = xgb.XGBRegressor()\n",
    "\n",
    "# xg_reg.fit(X_train, y_train)\n",
    "\n",
    "# preds = xg_reg.predict(X_test)\n",
    "\n",
    "# print(preds)"
   ]
  },
  {
   "cell_type": "code",
   "execution_count": 80,
   "id": "fb938e8c-8e45-4a57-b6d4-5af6ce7a7a4f",
   "metadata": {},
   "outputs": [],
   "source": [
    "# rmse = np.sqrt(mean_squared_error(y_test,preds))\n",
    "\n",
    "# print(\"RMSE: %f\" % (rmse))\n",
    "\n",
    "# r2 = r2_score(y_test, xg_reg.predict(X_test))\n",
    "# print(r2)"
   ]
  },
  {
   "cell_type": "code",
   "execution_count": 81,
   "id": "fe16cc9d-e503-40ab-916e-dd5d7bc192f0",
   "metadata": {},
   "outputs": [],
   "source": [
    "# pickle.dump(xg_reg, open('../data/simple_model_b.pkl', 'wb'))"
   ]
  },
  {
   "cell_type": "code",
   "execution_count": 82,
   "id": "10625d7b-d2ea-44e9-8768-68548c355da1",
   "metadata": {},
   "outputs": [],
   "source": [
    "# with open('../data/simple_model_b.pkl', 'rb') as file:\n",
    "#     test_pickle = pickle.load(file)"
   ]
  },
  {
   "cell_type": "markdown",
   "id": "2b558cc6-e177-4a49-a926-2097be735c95",
   "metadata": {
    "jp-MarkdownHeadingCollapsed": true,
    "tags": []
   },
   "source": [
    "### c - SIMPLE model - binary in_park, one-hot council district, one-hot weekday, one-hot month, is_weekend"
   ]
  },
  {
   "cell_type": "code",
   "execution_count": 83,
   "id": "00658302-3ad5-427e-9134-889fb402b38f",
   "metadata": {
    "tags": []
   },
   "outputs": [],
   "source": [
    "# requests_21c = requests_21"
   ]
  },
  {
   "cell_type": "code",
   "execution_count": 84,
   "id": "52c0550b-2be8-4c33-8814-77849da5eb4f",
   "metadata": {},
   "outputs": [],
   "source": [
    "# X = requests_21c[['day_0', 'day_1', 'day_2', 'day_3', 'day_4', 'day_5', 'day_6',\n",
    "#                   'is_weekend',\n",
    "#                  'month_1', 'month_2', 'month_3', 'month_4', 'month_5', 'month_6',\n",
    "#                  'month_7', 'month_8', 'month_9', 'month_10', 'month_11', 'month_12',\n",
    "#                  'in_park',\n",
    "#                  'cd_1.0', 'cd_2.0', 'cd_3.0',\n",
    "#                  'cd_4.0', 'cd_5.0', 'cd_6.0',\n",
    "#                  'cd_7.0', 'cd_8.0', 'cd_9.0'\n",
    "#                 ]]\n",
    "# y = requests_21c['case_age_days']"
   ]
  },
  {
   "cell_type": "code",
   "execution_count": 85,
   "id": "4f10f934-45b0-493e-ba9b-2ee436142c45",
   "metadata": {},
   "outputs": [],
   "source": [
    "# print(X.columns)"
   ]
  },
  {
   "cell_type": "code",
   "execution_count": 86,
   "id": "a15e27a9-c13f-461a-83a6-e0e1068167fb",
   "metadata": {},
   "outputs": [],
   "source": [
    "# X.head(2)"
   ]
  },
  {
   "cell_type": "code",
   "execution_count": 87,
   "id": "ce29f1d0-afc3-481f-af51-4659290e5791",
   "metadata": {},
   "outputs": [],
   "source": [
    "# (X_train, X_test, y_train, y_test) = train_test_split(X, y, test_size = 0.2, random_state = 42)\n",
    "\n",
    "# print(X_train.shape)\n",
    "# print(X_test.shape)\n",
    "# print(y_train.shape)\n",
    "# print(y_test.shape)"
   ]
  },
  {
   "cell_type": "code",
   "execution_count": 88,
   "id": "4b7b6e68-04ee-4446-9027-51c76ff55401",
   "metadata": {},
   "outputs": [],
   "source": [
    "# #Instantiate model\n",
    "# xg_reg = xgb.XGBRegressor()\n",
    "\n",
    "# xg_reg.fit(X_train, y_train)\n",
    "\n",
    "# preds = xg_reg.predict(X_test)"
   ]
  },
  {
   "cell_type": "code",
   "execution_count": 89,
   "id": "f9f34748-3db4-47f5-b50c-918fc8ca3d31",
   "metadata": {},
   "outputs": [],
   "source": [
    "# print(preds)"
   ]
  },
  {
   "cell_type": "code",
   "execution_count": 90,
   "id": "1a853f2d-1d27-4228-9722-accf28bd7ba0",
   "metadata": {},
   "outputs": [],
   "source": [
    "# rmse = np.sqrt(mean_squared_error(y_test,preds))\n",
    "\n",
    "# print(\"RMSE: %f\" % (rmse))\n",
    "\n",
    "# r2 = r2_score(y_test, xg_reg.predict(X_test))\n",
    "# print(r2)"
   ]
  },
  {
   "cell_type": "code",
   "execution_count": 91,
   "id": "cfe03859-01b5-428f-a857-18b08d63ce48",
   "metadata": {},
   "outputs": [],
   "source": [
    "# pickle.dump(xg_reg, open('../data/simple_model_c.pkl', 'wb'))\n",
    "\n",
    "# with open('../data/simple_model_c.pkl', 'rb') as file:\n",
    "#     test_pickle = pickle.load(file)"
   ]
  },
  {
   "cell_type": "markdown",
   "id": "4960e888-5f39-4f15-b120-ad6e7a97ebbb",
   "metadata": {
    "jp-MarkdownHeadingCollapsed": true,
    "tags": []
   },
   "source": [
    "### d - SIMPLE model: add is_phone feature\n",
    "- binary in_park\n",
    "- one-hot council district\n",
    "- one-hot weekday\n",
    "- one-hot month\n",
    "- is_weekend\n",
    "- is_phone"
   ]
  },
  {
   "cell_type": "code",
   "execution_count": 92,
   "id": "f5dbce24-600d-4539-9a12-c215e6d3d4eb",
   "metadata": {
    "tags": []
   },
   "outputs": [],
   "source": [
    "# requests_21d = requests_21"
   ]
  },
  {
   "cell_type": "code",
   "execution_count": 93,
   "id": "5e9d5084-f498-4c49-b8d2-6395041534f5",
   "metadata": {},
   "outputs": [],
   "source": [
    "# X = requests_21d[['day_0', 'day_1', 'day_2', 'day_3', 'day_4', 'day_5', 'day_6',\n",
    "#                   'is_weekend',\n",
    "#                  'month_1', 'month_2', 'month_3', 'month_4', 'month_5', 'month_6',\n",
    "#                  'month_7', 'month_8', 'month_9', 'month_10', 'month_11', 'month_12',\n",
    "#                  'in_park',\n",
    "#                  'cd_1.0', 'cd_2.0', 'cd_3.0',\n",
    "#                  'cd_4.0', 'cd_5.0', 'cd_6.0',\n",
    "#                  'cd_7.0', 'cd_8.0', 'cd_9.0', \n",
    "#                   'is_phone'\n",
    "#                 ]]\n",
    "# y = requests_21d['case_age_days']"
   ]
  },
  {
   "cell_type": "code",
   "execution_count": 94,
   "id": "dd9d3de8-5d65-4dd6-8f42-c932b512da6a",
   "metadata": {},
   "outputs": [],
   "source": [
    "# print(X.columns)"
   ]
  },
  {
   "cell_type": "code",
   "execution_count": 95,
   "id": "618b3835-66f5-4f24-aa7e-fdb5a6a0e4e2",
   "metadata": {},
   "outputs": [],
   "source": [
    "# X.head(2)"
   ]
  },
  {
   "cell_type": "code",
   "execution_count": 96,
   "id": "6d710254-0b16-48c3-acbb-4a2d3ef067ee",
   "metadata": {},
   "outputs": [],
   "source": [
    "# (X_train, X_test, y_train, y_test) = train_test_split(X, y, test_size = 0.2, random_state = 42)\n",
    "\n",
    "# print(X_train.shape)\n",
    "# print(X_test.shape)\n",
    "# print(y_train.shape)\n",
    "# print(y_test.shape)"
   ]
  },
  {
   "cell_type": "code",
   "execution_count": 97,
   "id": "55a0dd41-9a22-426e-b268-1f1d5c6d29ba",
   "metadata": {},
   "outputs": [],
   "source": [
    "# #Instantiate model\n",
    "# xg_reg = xgb.XGBRegressor()\n",
    "\n",
    "# xg_reg.fit(X_train, y_train)\n",
    "\n",
    "# preds = xg_reg.predict(X_test)\n",
    "\n",
    "# print(preds)"
   ]
  },
  {
   "cell_type": "code",
   "execution_count": 98,
   "id": "a8279ed7-b8c6-4724-85aa-1d7d1c1e759f",
   "metadata": {},
   "outputs": [],
   "source": [
    "# rmse = np.sqrt(mean_squared_error(y_test,preds))\n",
    "\n",
    "# print(\"RMSE: %f\" % (rmse))"
   ]
  },
  {
   "cell_type": "code",
   "execution_count": 99,
   "id": "194a675e-bcb0-45db-86d6-f70cc0d87e34",
   "metadata": {},
   "outputs": [],
   "source": [
    "# r2 = r2_score(y_test, xg_reg.predict(X_test))\n",
    "# print(r2)"
   ]
  },
  {
   "cell_type": "code",
   "execution_count": 100,
   "id": "2cb36990-7d37-481b-baf8-63f8bbcee666",
   "metadata": {},
   "outputs": [],
   "source": [
    "# pickle.dump(xg_reg, open('../data/simple_model_d.pkl', 'wb'))\n",
    "\n",
    "# with open('../data/simple_model_d.pkl', 'rb') as file:\n",
    "#     test_pickle = pickle.load(file)"
   ]
  },
  {
   "cell_type": "markdown",
   "id": "7a61a96a-8579-4a16-8f3e-67765bf55d1b",
   "metadata": {
    "jp-MarkdownHeadingCollapsed": true,
    "tags": []
   },
   "source": [
    "### e - SIMPLE model: add text feature"
   ]
  },
  {
   "cell_type": "code",
   "execution_count": 101,
   "id": "1cadefb2-c510-48d5-94ba-5a038ba668f2",
   "metadata": {
    "tags": []
   },
   "outputs": [],
   "source": [
    "# requests_21e = requests_21"
   ]
  },
  {
   "cell_type": "code",
   "execution_count": 102,
   "id": "b190eabc-9ada-471c-adb5-060fb9cdb9d8",
   "metadata": {},
   "outputs": [],
   "source": [
    "# X = requests_21e[['day_0', 'day_1', 'day_2', 'day_3', 'day_4', 'day_5', 'day_6',\n",
    "#                   'is_weekend',\n",
    "#                  'month_1', 'month_2', 'month_3', 'month_4', 'month_5', 'month_6',\n",
    "#                  'month_7', 'month_8', 'month_9', 'month_10', 'month_11', 'month_12',\n",
    "#                  'in_park',\n",
    "#                  'cd_1.0', 'cd_2.0', 'cd_3.0',\n",
    "#                  'cd_4.0', 'cd_5.0', 'cd_6.0',\n",
    "#                  'cd_7.0', 'cd_8.0', 'cd_9.0', \n",
    "#                   'is_phone',\n",
    "#                   'word_count_SS'\n",
    "#                 ]]\n",
    "# y = requests_21e['case_age_days']"
   ]
  },
  {
   "cell_type": "code",
   "execution_count": 103,
   "id": "1de44525-c344-4fe0-985c-992fdfe7fb2b",
   "metadata": {},
   "outputs": [],
   "source": [
    "# print(X.columns)"
   ]
  },
  {
   "cell_type": "code",
   "execution_count": 104,
   "id": "94135044-c8e6-4a8f-af8c-c7fb372e443b",
   "metadata": {},
   "outputs": [],
   "source": [
    "# X.head(2)"
   ]
  },
  {
   "cell_type": "code",
   "execution_count": 105,
   "id": "396e2720-eef0-4fbf-a92a-bc2e5885cdb6",
   "metadata": {},
   "outputs": [],
   "source": [
    "# (X_train, X_test, y_train, y_test) = train_test_split(X, y, test_size = 0.2, random_state = 42)\n",
    "\n",
    "# print(X_train.shape)\n",
    "# print(X_test.shape)\n",
    "# print(y_train.shape)\n",
    "# print(y_test.shape)"
   ]
  },
  {
   "cell_type": "code",
   "execution_count": 106,
   "id": "8a9c3a1c-2fa6-4145-a153-8ea219572a75",
   "metadata": {},
   "outputs": [],
   "source": [
    "# #Instantiate model\n",
    "# xg_reg = xgb.XGBRegressor()\n",
    "\n",
    "# xg_reg.fit(X_train, y_train)\n",
    "\n",
    "# preds = xg_reg.predict(X_test)\n",
    "\n",
    "# print(preds)"
   ]
  },
  {
   "cell_type": "code",
   "execution_count": 107,
   "id": "e20ed339-c9e0-4ee0-99ce-ec14b5f5f143",
   "metadata": {},
   "outputs": [],
   "source": [
    "# rmse = np.sqrt(mean_squared_error(y_test,preds))\n",
    "\n",
    "# print(\"RMSE: %f\" % (rmse))\n",
    "\n",
    "# r2 = r2_score(y_test, xg_reg.predict(X_test))\n",
    "# print(r2)"
   ]
  },
  {
   "cell_type": "code",
   "execution_count": 108,
   "id": "a186ae1b-737f-46b0-b0de-ed9dae4bcacd",
   "metadata": {},
   "outputs": [],
   "source": [
    "# pickle.dump(xg_reg, open('../data/simple_model_e.pkl', 'wb'))\n",
    "\n",
    "# with open('../data/simple_model_e.pkl', 'rb') as file:\n",
    "#     test_pickle = pickle.load(file)"
   ]
  },
  {
   "cell_type": "markdown",
   "id": "64adb022-22a9-44ad-88f1-449bd16ac29b",
   "metadata": {
    "tags": []
   },
   "source": [
    "### f - Model with service_name"
   ]
  },
  {
   "cell_type": "code",
   "execution_count": 109,
   "id": "a0831ee4-92f6-4d69-bf56-de4114a41d72",
   "metadata": {},
   "outputs": [],
   "source": [
    "# requests_21f = requests_21"
   ]
  },
  {
   "cell_type": "code",
   "execution_count": 110,
   "id": "8c3638ff-3a87-4c4f-88a3-cf9458d988c5",
   "metadata": {
    "tags": []
   },
   "outputs": [],
   "source": [
    "# list(requests_21f.columns)"
   ]
  },
  {
   "cell_type": "code",
   "execution_count": 111,
   "id": "807ec6ea-3e5c-4d61-8a06-37fc73adbf02",
   "metadata": {},
   "outputs": [],
   "source": [
    "# requests_21['detailed_type']"
   ]
  },
  {
   "cell_type": "code",
   "execution_count": 112,
   "id": "1b58f0cb-904b-4ac7-b374-085f843ec945",
   "metadata": {},
   "outputs": [],
   "source": [
    "# X = requests_21f[['day_0', 'day_1', 'day_2', 'day_3', 'day_4', 'day_5', 'day_6',\n",
    "#                   'is_weekend',\n",
    "#                  'month_1', 'month_2', 'month_3', 'month_4', 'month_5', 'month_6',\n",
    "#                  'month_7', 'month_8', 'month_9', 'month_10', 'month_11', 'month_12',\n",
    "#                  'in_park',\n",
    "#                  'cd_1.0', 'cd_2.0', 'cd_3.0',\n",
    "#                  'cd_4.0', 'cd_5.0', 'cd_6.0',\n",
    "#                  'cd_7.0', 'cd_8.0', 'cd_9.0', \n",
    "#                   'is_phone',\n",
    "#                   'word_count_SS',\n",
    "#                   'COVID-19',\n",
    "# 'Dead Animal',\n",
    "# 'Development Services - Code Enforcement',\n",
    "# 'Encampment',\n",
    "# 'Environmental Services Code Compliance',\n",
    "# 'Graffiti',\n",
    "# 'Graffiti - Code Enforcement',\n",
    "# 'Illegal Dumping',\n",
    "# 'Missed Collection',\n",
    "# 'Other',\n",
    "# 'Oversized Vehicle',\n",
    "# 'Parking',\n",
    "# 'Pavement Maintenance',\n",
    "# 'Pothole',\n",
    "# 'ROW Maintenance',\n",
    "# 'Right-of-Way Code Enforcement',\n",
    "# 'Shared Mobility Device',\n",
    "# 'Sidewalk Repair Issue',\n",
    "# 'Stormwater',\n",
    "# 'Stormwater Code Enforcement',\n",
    "# 'Street Flooded',\n",
    "# 'Street Light Maintenance',\n",
    "# 'Street Sweeping',\n",
    "# 'Traffic Engineering',\n",
    "# 'Traffic Sign Maintenance',\n",
    "# 'Traffic Signal Issue',\n",
    "# 'Traffic Signal Timing',\n",
    "# 'Trash/Recycling Collection',\n",
    "# 'Tree Maintenance',\n",
    "# 'Waste on Private Property',\n",
    "# 'Weed Cleanup'\n",
    "#                 ]]\n",
    "# y = requests_21f['case_age_days']"
   ]
  },
  {
   "cell_type": "code",
   "execution_count": 113,
   "id": "91ca801f-e8d7-4412-86cf-d9ca9c9abe90",
   "metadata": {},
   "outputs": [],
   "source": [
    "# print(X.columns)"
   ]
  },
  {
   "cell_type": "code",
   "execution_count": 114,
   "id": "32b40aa3-b3a5-447d-914b-f363fa3ae975",
   "metadata": {},
   "outputs": [],
   "source": [
    "# (X_train, X_test, y_train, y_test) = train_test_split(X, y, test_size = 0.2, random_state = 42)\n",
    "\n",
    "# print(X_train.shape)\n",
    "# print(X_test.shape)\n",
    "# print(y_train.shape)\n",
    "# print(y_test.shape)"
   ]
  },
  {
   "cell_type": "code",
   "execution_count": 115,
   "id": "b5d6570d-4774-454d-a36f-58ed8dfbac05",
   "metadata": {},
   "outputs": [],
   "source": [
    "# #Instantiate model\n",
    "# xg_reg = xgb.XGBRegressor()\n",
    "\n",
    "# xg_reg.fit(X_train, y_train)\n",
    "\n",
    "# preds = xg_reg.predict(X_test)\n",
    "\n",
    "# print(preds)"
   ]
  },
  {
   "cell_type": "code",
   "execution_count": 116,
   "id": "a734afac-5046-4879-b4bc-a7fa3b495db1",
   "metadata": {},
   "outputs": [],
   "source": [
    "# rmse = np.sqrt(mean_squared_error(y_test,preds))\n",
    "\n",
    "# print(\"RMSE: %f\" % (rmse))\n",
    "\n",
    "# r2 = r2_score(y_test, xg_reg.predict(X_test))\n",
    "# print(r2)"
   ]
  },
  {
   "cell_type": "code",
   "execution_count": 117,
   "id": "201a3e19-3d78-4a4b-b439-8b6e3a5ad9d2",
   "metadata": {
    "tags": []
   },
   "outputs": [],
   "source": [
    "# pickle.dump(xg_reg, open('../data/simple_model_f.pkl', 'wb'))\n",
    "\n",
    "# with open('../data/simple_model_f.pkl', 'rb') as file:\n",
    "#     test_pickle = pickle.load(file)"
   ]
  },
  {
   "cell_type": "markdown",
   "id": "3b5a4b5c-a026-4b48-a6ee-a5e1fb2d6f63",
   "metadata": {},
   "source": [
    "### g - Model with service_name and w2v"
   ]
  },
  {
   "cell_type": "code",
   "execution_count": 118,
   "id": "68931c60-049a-4376-82f8-7a0e2cd79a2d",
   "metadata": {},
   "outputs": [],
   "source": [
    "requests_21pro_g = requests_21pro"
   ]
  },
  {
   "cell_type": "markdown",
   "id": "4a2d4605-7b14-4571-9026-055041b7318c",
   "metadata": {},
   "source": [
    "#### feature: word2vec"
   ]
  },
  {
   "cell_type": "code",
   "execution_count": 119,
   "id": "2eaa39cb-20c4-49ef-acbd-a1d27ee595dd",
   "metadata": {},
   "outputs": [
    {
     "data": {
      "text/plain": [
       "252369"
      ]
     },
     "execution_count": 119,
     "metadata": {},
     "output_type": "execute_result"
    }
   ],
   "source": [
    "#remove those with zero tokens\n",
    "requests_21pro_g = requests_21pro_g[requests_21pro_g['tokens'] != 0]\n",
    "requests_21pro_g.shape[0]"
   ]
  },
  {
   "cell_type": "code",
   "execution_count": 120,
   "id": "0ab0e1c0-c54e-4d8f-8c4e-cefb937ef972",
   "metadata": {},
   "outputs": [
    {
     "data": {
      "text/plain": [
       "array([list(['cement', 'street', 'buckle', 'one', 'neighbor', 'trip', 'buckle', 'fell', 'face', 'report', 'nothin', 'do', 'get', 'bad']),\n",
       "       list(['curb', 'crack', 'please', 'fill', 'gutter', 'joint', 'depress', 'please', 'level', 'thank']),\n",
       "       list(['road', 'need', 'repair', 'immediately']),\n",
       "       list(['stretch', 'fairmount'])], dtype=object)"
      ]
     },
     "execution_count": 120,
     "metadata": {},
     "output_type": "execute_result"
    }
   ],
   "source": [
    "requests_21pro_g['tokens'].values[0:4]"
   ]
  },
  {
   "cell_type": "code",
   "execution_count": 121,
   "id": "080cb71d-b35f-45cf-875e-adc579c4d58a",
   "metadata": {},
   "outputs": [],
   "source": [
    "# create list of unique tokens\n",
    "\n",
    "unique_tokens = []\n",
    "\n",
    "i = 0\n",
    "\n",
    "while i < len(requests_21pro_g['tokens']):\n",
    "    unique_tokens.append(list(set(requests_21pro_g['tokens'].values[i])))\n",
    "    i += 1"
   ]
  },
  {
   "cell_type": "code",
   "execution_count": 122,
   "id": "af656170-c74d-4d21-b604-23ed8bd6c760",
   "metadata": {},
   "outputs": [],
   "source": [
    "requests_21pro_g['unique_tokens'] = unique_tokens"
   ]
  },
  {
   "cell_type": "code",
   "execution_count": 123,
   "id": "280c4619-eabe-4b24-a542-df8419c9fc09",
   "metadata": {},
   "outputs": [],
   "source": [
    "import gensim\n",
    "\n",
    "corpus_unique = unique_tokens\n",
    "Model_CBoW = gensim.models.Word2Vec(corpus_unique, vector_size=30, window = 3, min_count = 1)"
   ]
  },
  {
   "cell_type": "code",
   "execution_count": 124,
   "id": "a0ea1c36-9cbd-4537-a261-d7fe00104e57",
   "metadata": {},
   "outputs": [],
   "source": [
    "pickle.dump(Model_CBoW, open('../data/Model_CBoW.pkl', 'wb'))"
   ]
  },
  {
   "cell_type": "code",
   "execution_count": 125,
   "id": "8418112f-044b-4e7d-b5d5-35246c83514b",
   "metadata": {
    "tags": []
   },
   "outputs": [
    {
     "data": {
      "text/plain": [
       "[2.705864,\n",
       " -2.2247963,\n",
       " -2.645819,\n",
       " -0.6464144,\n",
       " -1.2381333,\n",
       " -4.562104,\n",
       " 2.0463016,\n",
       " 2.3187397,\n",
       " -2.9351826,\n",
       " 1.7090573,\n",
       " 2.3273957,\n",
       " 1.8684449,\n",
       " 0.26114383,\n",
       " 2.1514077,\n",
       " 1.6426895,\n",
       " -1.3560812,\n",
       " -1.0541608,\n",
       " 0.6779823,\n",
       " 0.8826678,\n",
       " 2.1044507,\n",
       " 0.010275522,\n",
       " -0.90679735,\n",
       " -0.3410268,\n",
       " 1.09202,\n",
       " -0.0024825048,\n",
       " -0.5941935,\n",
       " -1.9051105,\n",
       " 1.5752752,\n",
       " -0.27943477,\n",
       " 6.1393924]"
      ]
     },
     "execution_count": 125,
     "metadata": {},
     "output_type": "execute_result"
    }
   ],
   "source": [
    "test = Model_CBoW.wv['encampment']\n",
    "list(test)"
   ]
  },
  {
   "cell_type": "code",
   "execution_count": 126,
   "id": "f3f5fbff-6b7f-464f-aa08-291867c68519",
   "metadata": {
    "tags": []
   },
   "outputs": [],
   "source": [
    "#creates w2v vector in each row\n",
    "x = 0\n",
    "w2v = []\n",
    "\n",
    "while x < requests_21pro_g.shape[0]:\n",
    "    f_tokens = requests_21pro_g.iloc[x,-1]\n",
    "    if(len(f_tokens) != 0):\n",
    "        w2v.append(Model_CBoW.wv[f_tokens[0]])\n",
    "    else:\n",
    "        w2v.append(0)\n",
    "    \n",
    "    z = 1\n",
    "    \n",
    "    while z < len(f_tokens):\n",
    "        w2v[x] = w2v[x] + Model_CBoW.wv[f_tokens[z]]\n",
    "        \n",
    "        z += 1\n",
    "    \n",
    "    x += 1"
   ]
  },
  {
   "cell_type": "code",
   "execution_count": 127,
   "id": "f6a2c8b4-2108-4c4b-8d19-bb6d67b08ca1",
   "metadata": {},
   "outputs": [],
   "source": [
    "requests_21pro_g['w2v'] = w2v"
   ]
  },
  {
   "cell_type": "code",
   "execution_count": 128,
   "id": "4ac721f3-88d5-4099-9cbe-8162d4408c49",
   "metadata": {},
   "outputs": [],
   "source": [
    "encampments = requests_21pro_g[requests_21pro_g['public_description'] == 'Encampment']"
   ]
  },
  {
   "cell_type": "code",
   "execution_count": 129,
   "id": "c605137b-9e8e-4a02-a79b-beb5c541a726",
   "metadata": {},
   "outputs": [
    {
     "data": {
      "text/plain": [
       "array([array([ 2.7058640e+00, -2.2247963e+00, -2.6458189e+00, -6.4641440e-01,\n",
       "              -1.2381333e+00, -4.5621042e+00,  2.0463016e+00,  2.3187397e+00,\n",
       "              -2.9351826e+00,  1.7090573e+00,  2.3273957e+00,  1.8684449e+00,\n",
       "               2.6114383e-01,  2.1514077e+00,  1.6426895e+00, -1.3560812e+00,\n",
       "              -1.0541608e+00,  6.7798227e-01,  8.8266778e-01,  2.1044507e+00,\n",
       "               1.0275522e-02, -9.0679735e-01, -3.4102681e-01,  1.0920200e+00,\n",
       "              -2.4825048e-03, -5.9419352e-01, -1.9051105e+00,  1.5752752e+00,\n",
       "              -2.7943477e-01,  6.1393924e+00], dtype=float32)                ],\n",
       "      dtype=object)"
      ]
     },
     "execution_count": 129,
     "metadata": {},
     "output_type": "execute_result"
    }
   ],
   "source": [
    "w2v_array_encampment = encampments['w2v'].head(1).values\n",
    "w2v_array_encampment"
   ]
  },
  {
   "cell_type": "code",
   "execution_count": 130,
   "id": "e52702df-4052-42b1-8e20-12355d1ec0d2",
   "metadata": {},
   "outputs": [
    {
     "name": "stdout",
     "output_type": "stream",
     "text": [
      "[\"<class 'numpy.ndarray'>\", \"<class 'numpy.ndarray'>\", \"<class 'numpy.ndarray'>\", \"<class 'numpy.ndarray'>\", \"<class 'numpy.ndarray'>\", \"<class 'numpy.ndarray'>\", \"<class 'numpy.ndarray'>\", \"<class 'numpy.ndarray'>\", \"<class 'numpy.ndarray'>\", \"<class 'numpy.ndarray'>\"]\n"
     ]
    }
   ],
   "source": [
    "real_type = []\n",
    "i=0\n",
    "\n",
    "while i < requests_21pro_g.shape[0]:\n",
    "    real_type.append(str(type(requests_21pro_g.iloc[i,-1])))\n",
    "    i+=1\n",
    "\n",
    "print(real_type[0:10])"
   ]
  },
  {
   "cell_type": "code",
   "execution_count": 131,
   "id": "bdb60ed8-4760-4d98-9546-e04a72e51b6c",
   "metadata": {},
   "outputs": [],
   "source": [
    "requests_21pro_g['real_type'] = real_type"
   ]
  },
  {
   "cell_type": "code",
   "execution_count": 132,
   "id": "1f38c7a1-82e6-452b-b9ff-a39d62ddf3c0",
   "metadata": {},
   "outputs": [
    {
     "data": {
      "text/plain": [
       "252197"
      ]
     },
     "execution_count": 132,
     "metadata": {},
     "output_type": "execute_result"
    }
   ],
   "source": [
    "requests_21pro_g = requests_21pro_g[requests_21pro_g['real_type'] == \"<class 'numpy.ndarray'>\"]\n",
    "requests_21pro_g.shape[0]"
   ]
  },
  {
   "cell_type": "code",
   "execution_count": 133,
   "id": "6b04b53a-fbd0-4755-a092-a5bf9b464cb2",
   "metadata": {},
   "outputs": [
    {
     "data": {
      "text/plain": [
       "['service_request_parent_id',\n",
       " 'date_requested',\n",
       " 'case_age_days',\n",
       " 'service_name',\n",
       " 'service_name_detail',\n",
       " 'park_name',\n",
       " 'case_origin',\n",
       " 'public_description',\n",
       " 'is_weekend',\n",
       " 'day_0',\n",
       " 'day_1',\n",
       " 'day_2',\n",
       " 'day_3',\n",
       " 'day_4',\n",
       " 'day_5',\n",
       " 'day_6',\n",
       " 'month_1',\n",
       " 'month_2',\n",
       " 'month_3',\n",
       " 'month_4',\n",
       " 'month_5',\n",
       " 'month_6',\n",
       " 'month_7',\n",
       " 'month_8',\n",
       " 'month_9',\n",
       " 'month_10',\n",
       " 'month_11',\n",
       " 'month_12',\n",
       " 'detailed_type',\n",
       " '72 Hour Violation',\n",
       " 'COVID-19',\n",
       " 'Container Left Out',\n",
       " 'Container Out Late',\n",
       " 'Damaged/Knocked Over Pole',\n",
       " 'Dead Animal',\n",
       " 'Development Services - Code Enforcement',\n",
       " 'Drain Inlet',\n",
       " 'Encampment',\n",
       " 'Encroachment',\n",
       " 'Environmental Services Code Compliance',\n",
       " 'Fallen/Hanging Tree Limb',\n",
       " 'Flashing Traffic Signal Lights',\n",
       " 'Graffiti Removal',\n",
       " 'Graffiti Removal - Commercial',\n",
       " 'Illegal Dumping',\n",
       " 'Litter',\n",
       " 'Missed Collection',\n",
       " 'Other',\n",
       " 'Oversized Vehicle',\n",
       " 'Parking',\n",
       " 'Parking Zone Violation',\n",
       " 'Pavement Maintenance',\n",
       " 'Potential Missed Collection',\n",
       " 'Pothole',\n",
       " 'Quality of Life Issues',\n",
       " 'ROW Maintenance',\n",
       " 'Resurfacing Evaluation',\n",
       " 'Right-of-Way Code Enforcement',\n",
       " 'Shared Mobility Device',\n",
       " 'Sidewalk Repair Issue',\n",
       " 'Stormwater',\n",
       " 'Stormwater Code Enforcement',\n",
       " 'Stormwater Pollution Prevention',\n",
       " 'Street Flooded',\n",
       " 'Street Light Maintenance',\n",
       " 'Street Light Out of Service',\n",
       " 'Street Sweeping',\n",
       " 'Traffic Engineering',\n",
       " 'Traffic Sign Maintenance',\n",
       " 'Traffic Signal Issue',\n",
       " 'Traffic Signal Out of Service',\n",
       " 'Traffic Signal Timing',\n",
       " 'Trash/Recycling Collection',\n",
       " 'Tree Maintenance',\n",
       " 'Tree Removal',\n",
       " 'Tree Trimming for Pedestrian/Vehicle Clearance',\n",
       " 'Trimming Request',\n",
       " 'Vegetation Encroachment',\n",
       " 'Waste on Private Property',\n",
       " 'Weed Cleanup',\n",
       " 'cd_1.0',\n",
       " 'cd_2.0',\n",
       " 'cd_3.0',\n",
       " 'cd_4.0',\n",
       " 'cd_5.0',\n",
       " 'cd_6.0',\n",
       " 'cd_7.0',\n",
       " 'cd_8.0',\n",
       " 'cd_9.0',\n",
       " 'in_park',\n",
       " 'is_phone',\n",
       " 'tokens',\n",
       " 'word_count',\n",
       " 'unique_tokens',\n",
       " 'w2v',\n",
       " 'real_type']"
      ]
     },
     "execution_count": 133,
     "metadata": {},
     "output_type": "execute_result"
    }
   ],
   "source": [
    "list(requests_21pro_g.columns)"
   ]
  },
  {
   "cell_type": "code",
   "execution_count": 134,
   "id": "2e63cde2-432e-4cfa-9dbb-218678a1d086",
   "metadata": {},
   "outputs": [],
   "source": [
    "# create function to create columns for each of the w2v elements\n",
    "def append_scale_pickle(elem_num):  \n",
    "    i = 0\n",
    "    w2v_list = []\n",
    "    while i < len(requests_21pro_g['w2v']):\n",
    "        w2v_list.append(requests_21pro_g['w2v'].iloc[i][elem_num])\n",
    "        i+=1\n",
    "    \n",
    "    #fit scaler, pickle scaler\n",
    "    SS_scaler = StandardScaler()\n",
    "    SS_scaler.fit(np.array(w2v_list).reshape(-1, 1))\n",
    "    pickle.dump(SS_scaler, open('../data/SS_scaler_w2v_' + str(elem_num) + '.pkl', 'wb'))\n",
    "    \n",
    "    requests_21pro_g['w2v_' + str(elem_num)] = w2v_list"
   ]
  },
  {
   "cell_type": "code",
   "execution_count": 135,
   "id": "83468d48-19a9-4f3e-a853-4b8815dc225b",
   "metadata": {
    "tags": []
   },
   "outputs": [],
   "source": [
    "for i in list(range(30)):\n",
    "    append_scale_pickle(i)"
   ]
  },
  {
   "cell_type": "code",
   "execution_count": 136,
   "id": "6dd13f0b-a780-4671-a6db-c65c84d55357",
   "metadata": {
    "tags": []
   },
   "outputs": [],
   "source": [
    "encampments = requests_21pro_g[requests_21pro_g['public_description'] == 'Encampment']"
   ]
  },
  {
   "cell_type": "code",
   "execution_count": 137,
   "id": "d8a06acb-ffde-4a85-8eb3-9e19928c25ad",
   "metadata": {
    "tags": []
   },
   "outputs": [],
   "source": [
    "# encampments[['w2v', 'w2v_0', 'w2v_1']].head()"
   ]
  },
  {
   "cell_type": "code",
   "execution_count": 138,
   "id": "cb856cba-525b-454c-9676-5d20d8e4e664",
   "metadata": {
    "tags": []
   },
   "outputs": [],
   "source": [
    "requests_21pro_g = requests_21pro_g.drop(['w2v_0',\n",
    " 'w2v_1',\n",
    " 'w2v_2',\n",
    " 'w2v_3',\n",
    " 'w2v_4',\n",
    " 'w2v_5',\n",
    " 'w2v_6',\n",
    " 'w2v_7',\n",
    " 'w2v_8',\n",
    " 'w2v_9',\n",
    " 'w2v_10',\n",
    " 'w2v_11',\n",
    " 'w2v_12',\n",
    " 'w2v_13',\n",
    " 'w2v_14',\n",
    " 'w2v_15',\n",
    " 'w2v_16',\n",
    " 'w2v_17',\n",
    " 'w2v_18',\n",
    " 'w2v_19',\n",
    " 'w2v_20',\n",
    " 'w2v_21',\n",
    " 'w2v_22',\n",
    " 'w2v_23',\n",
    " 'w2v_24',\n",
    " 'w2v_25',\n",
    " 'w2v_26',\n",
    " 'w2v_27',\n",
    " 'w2v_28',\n",
    " 'w2v_29'], axis=1)"
   ]
  },
  {
   "cell_type": "code",
   "execution_count": 139,
   "id": "84cc3380-6de6-4002-80fe-a48d6d991189",
   "metadata": {},
   "outputs": [],
   "source": [
    "def unpickle_scale_append(elem_num):  \n",
    "    i = 0\n",
    "    #create 2D arrary to fit scaler\n",
    "    w2v_list = []\n",
    "    while i < len(requests_21pro_g['w2v']):\n",
    "        w2v_list.append(requests_21pro_g['w2v'].iloc[i][elem_num])\n",
    "        i+=1\n",
    "    \n",
    "    #fit scaler, pickle scaler\n",
    "    with open('../data/SS_scaler_w2v_' + str(elem_num) + '.pkl', 'rb') as file:\n",
    "        scaler = pickle.load(file)\n",
    "\n",
    "    requests_21pro_g['w2v_' + str(elem_num)] = scaler.transform(np.array(w2v_list).reshape(-1, 1))\n"
   ]
  },
  {
   "cell_type": "code",
   "execution_count": 140,
   "id": "d60789e5-afec-454c-8542-7688bd6fdb83",
   "metadata": {},
   "outputs": [],
   "source": [
    "for i in list(range(30)):\n",
    "    unpickle_scale_append(i)"
   ]
  },
  {
   "cell_type": "code",
   "execution_count": 141,
   "id": "1a23797b-c79f-4558-91e0-ba35c6276fe1",
   "metadata": {
    "tags": []
   },
   "outputs": [],
   "source": [
    "encampments = requests_21pro_g[requests_21pro_g['public_description'] == 'Encampment']"
   ]
  },
  {
   "cell_type": "code",
   "execution_count": 142,
   "id": "21381ef7-e33d-49d0-accf-883739a8e01c",
   "metadata": {
    "tags": []
   },
   "outputs": [
    {
     "data": {
      "text/html": [
       "<div>\n",
       "<style scoped>\n",
       "    .dataframe tbody tr th:only-of-type {\n",
       "        vertical-align: middle;\n",
       "    }\n",
       "\n",
       "    .dataframe tbody tr th {\n",
       "        vertical-align: top;\n",
       "    }\n",
       "\n",
       "    .dataframe thead th {\n",
       "        text-align: right;\n",
       "    }\n",
       "</style>\n",
       "<table border=\"1\" class=\"dataframe\">\n",
       "  <thead>\n",
       "    <tr style=\"text-align: right;\">\n",
       "      <th></th>\n",
       "      <th>w2v</th>\n",
       "      <th>w2v_0</th>\n",
       "      <th>w2v_1</th>\n",
       "    </tr>\n",
       "  </thead>\n",
       "  <tbody>\n",
       "    <tr>\n",
       "      <th>22911</th>\n",
       "      <td>[2.705864, -2.2247963, -2.645819, -0.6464144, ...</td>\n",
       "      <td>-0.222721</td>\n",
       "      <td>-0.473282</td>\n",
       "    </tr>\n",
       "    <tr>\n",
       "      <th>26846</th>\n",
       "      <td>[2.705864, -2.2247963, -2.645819, -0.6464144, ...</td>\n",
       "      <td>-0.222721</td>\n",
       "      <td>-0.473282</td>\n",
       "    </tr>\n",
       "    <tr>\n",
       "      <th>28674</th>\n",
       "      <td>[2.705864, -2.2247963, -2.645819, -0.6464144, ...</td>\n",
       "      <td>-0.222721</td>\n",
       "      <td>-0.473282</td>\n",
       "    </tr>\n",
       "    <tr>\n",
       "      <th>36419</th>\n",
       "      <td>[2.705864, -2.2247963, -2.645819, -0.6464144, ...</td>\n",
       "      <td>-0.222721</td>\n",
       "      <td>-0.473282</td>\n",
       "    </tr>\n",
       "    <tr>\n",
       "      <th>40371</th>\n",
       "      <td>[2.705864, -2.2247963, -2.645819, -0.6464144, ...</td>\n",
       "      <td>-0.222721</td>\n",
       "      <td>-0.473282</td>\n",
       "    </tr>\n",
       "  </tbody>\n",
       "</table>\n",
       "</div>"
      ],
      "text/plain": [
       "                                                     w2v     w2v_0     w2v_1\n",
       "22911  [2.705864, -2.2247963, -2.645819, -0.6464144, ... -0.222721 -0.473282\n",
       "26846  [2.705864, -2.2247963, -2.645819, -0.6464144, ... -0.222721 -0.473282\n",
       "28674  [2.705864, -2.2247963, -2.645819, -0.6464144, ... -0.222721 -0.473282\n",
       "36419  [2.705864, -2.2247963, -2.645819, -0.6464144, ... -0.222721 -0.473282\n",
       "40371  [2.705864, -2.2247963, -2.645819, -0.6464144, ... -0.222721 -0.473282"
      ]
     },
     "execution_count": 142,
     "metadata": {},
     "output_type": "execute_result"
    }
   ],
   "source": [
    "encampments[['w2v', 'w2v_0', 'w2v_1']].head()"
   ]
  },
  {
   "cell_type": "code",
   "execution_count": 143,
   "id": "43f1cb06-54db-4be6-9d8b-1e08f7f32edb",
   "metadata": {
    "tags": []
   },
   "outputs": [
    {
     "data": {
      "image/png": "[encoded data removed]",
      "text/plain": [
       "<Figure size 432x288 with 1 Axes>"
      ]
     },
     "metadata": {
      "needs_background": "light"
     },
     "output_type": "display_data"
    }
   ],
   "source": [
    "fig, ax = plt.subplots()\n",
    "ax.hist(requests_21pro_g['w2v_0'], bins = 50)\n",
    "plt.show()"
   ]
  },
  {
   "cell_type": "code",
   "execution_count": 144,
   "id": "bc199406-7014-4013-99a1-f70f64f05f86",
   "metadata": {},
   "outputs": [
    {
     "data": {
      "text/plain": [
       "Index(['service_request_parent_id', 'date_requested', 'case_age_days',\n",
       "       'service_name', 'service_name_detail', 'park_name', 'case_origin',\n",
       "       'public_description', 'is_weekend', 'day_0',\n",
       "       ...\n",
       "       'w2v_20', 'w2v_21', 'w2v_22', 'w2v_23', 'w2v_24', 'w2v_25', 'w2v_26',\n",
       "       'w2v_27', 'w2v_28', 'w2v_29'],\n",
       "      dtype='object', length=126)"
      ]
     },
     "execution_count": 144,
     "metadata": {},
     "output_type": "execute_result"
    }
   ],
   "source": [
    "requests_21pro_g.columns"
   ]
  },
  {
   "cell_type": "code",
   "execution_count": 145,
   "id": "b29cadcc-6e5f-46c1-ae9d-80db3c359b87",
   "metadata": {
    "jupyter": {
     "source_hidden": true
    },
    "tags": []
   },
   "outputs": [],
   "source": [
    "X = requests_21pro_g[[\n",
    "'day_0', 'day_1', 'day_2', 'day_3', 'day_4', 'day_5', 'day_6',\n",
    "'is_weekend',\n",
    "'month_1', 'month_2', 'month_3', 'month_4', 'month_5', 'month_6',\n",
    "'month_7', 'month_8', 'month_9', 'month_10', 'month_11', 'month_12',\n",
    "'in_park',\n",
    "'cd_1.0', 'cd_2.0', 'cd_3.0',\n",
    "'cd_4.0', 'cd_5.0', 'cd_6.0',\n",
    "'cd_7.0', 'cd_8.0', 'cd_9.0', \n",
    "'is_phone',\n",
    "'word_count',\n",
    "'72 Hour Violation',\n",
    "'COVID-19',\n",
    "'Container Left Out',\n",
    "'Container Out Late',\n",
    "'Damaged/Knocked Over Pole',\n",
    "'Dead Animal',\n",
    "'Development Services - Code Enforcement',\n",
    "'Drain Inlet',\n",
    "'Encampment',\n",
    "'Encroachment',\n",
    "'Environmental Services Code Compliance',\n",
    "'Fallen/Hanging Tree Limb',\n",
    "'Flashing Traffic Signal Lights',\n",
    "'Graffiti Removal',\n",
    "'Graffiti Removal - Commercial',\n",
    "'Illegal Dumping',\n",
    "'Litter',\n",
    "'Missed Collection',\n",
    "'Other',\n",
    "'Oversized Vehicle',\n",
    "'Parking',\n",
    "'Parking Zone Violation',\n",
    "'Pavement Maintenance',\n",
    "'Potential Missed Collection',\n",
    "'Pothole',\n",
    "'Quality of Life Issues',\n",
    "'ROW Maintenance',\n",
    "'Resurfacing Evaluation',\n",
    "'Right-of-Way Code Enforcement',\n",
    "'Shared Mobility Device',\n",
    "'Sidewalk Repair Issue',\n",
    "'Stormwater',\n",
    "'Stormwater Code Enforcement',\n",
    "'Stormwater Pollution Prevention',\n",
    "'Street Flooded',\n",
    "'Street Light Maintenance',\n",
    "'Street Light Out of Service',\n",
    "'Street Sweeping',\n",
    "'Traffic Engineering',\n",
    "'Traffic Sign Maintenance',\n",
    "'Traffic Signal Issue',\n",
    "'Traffic Signal Out of Service',\n",
    "'Traffic Signal Timing',\n",
    "'Trash/Recycling Collection',\n",
    "'Tree Maintenance',\n",
    "'Tree Removal',\n",
    "'Tree Trimming for Pedestrian/Vehicle Clearance',\n",
    "'Trimming Request',\n",
    "'Vegetation Encroachment',\n",
    "'Waste on Private Property',\n",
    "'Weed Cleanup',\n",
    "'w2v_0',\n",
    "'w2v_1',\n",
    "'w2v_2',\n",
    "'w2v_3',\n",
    "'w2v_4',\n",
    "'w2v_5',\n",
    "'w2v_6',\n",
    "'w2v_7',\n",
    "'w2v_8',\n",
    "'w2v_9',\n",
    "'w2v_10',\n",
    "'w2v_11',\n",
    "'w2v_12',\n",
    "'w2v_13',\n",
    "'w2v_14',\n",
    "'w2v_15',\n",
    "'w2v_16',\n",
    "'w2v_17',\n",
    "'w2v_18',\n",
    "'w2v_19',\n",
    "'w2v_20',\n",
    "'w2v_21',\n",
    "'w2v_22',\n",
    "'w2v_23',\n",
    "'w2v_24',\n",
    "'w2v_25',\n",
    "'w2v_26',\n",
    "'w2v_27',\n",
    "'w2v_28',\n",
    "'w2v_29']]\n",
    "y = requests_21pro_g['case_age_days']"
   ]
  },
  {
   "cell_type": "code",
   "execution_count": 146,
   "id": "85d1767c-1cc2-4c54-85a9-1b8184c190c5",
   "metadata": {},
   "outputs": [
    {
     "name": "stdout",
     "output_type": "stream",
     "text": [
      "Index(['day_0', 'day_1', 'day_2', 'day_3', 'day_4', 'day_5', 'day_6',\n",
      "       'is_weekend', 'month_1', 'month_2',\n",
      "       ...\n",
      "       'w2v_20', 'w2v_21', 'w2v_22', 'w2v_23', 'w2v_24', 'w2v_25', 'w2v_26',\n",
      "       'w2v_27', 'w2v_28', 'w2v_29'],\n",
      "      dtype='object', length=113)\n"
     ]
    }
   ],
   "source": [
    "print(X.columns)"
   ]
  },
  {
   "cell_type": "code",
   "execution_count": 147,
   "id": "f6b3dc1e-6c36-41c9-99aa-6ba492cb8037",
   "metadata": {},
   "outputs": [],
   "source": [
    "(X_train, X_test, y_train, y_test) = train_test_split(X, y, test_size = 0.2, random_state = 42)"
   ]
  },
  {
   "cell_type": "code",
   "execution_count": 148,
   "id": "cb021671-ea5f-4d89-8da5-39bbc9a80e68",
   "metadata": {},
   "outputs": [
    {
     "name": "stdout",
     "output_type": "stream",
     "text": [
      "(201757, 113)\n",
      "(50440, 113)\n",
      "(201757,)\n",
      "(50440,)\n"
     ]
    }
   ],
   "source": [
    "print(X_train.shape)\n",
    "print(X_test.shape)\n",
    "print(y_train.shape)\n",
    "print(y_test.shape)"
   ]
  },
  {
   "cell_type": "code",
   "execution_count": 149,
   "id": "e15babd9-ddcd-42ff-85f8-e4705c2a7986",
   "metadata": {},
   "outputs": [],
   "source": [
    "#Instantiate model\n",
    "xg_reg = xgb.XGBRegressor()"
   ]
  },
  {
   "cell_type": "code",
   "execution_count": 150,
   "id": "23ab64ff-4c3e-4e26-9a18-d15fab6b7235",
   "metadata": {},
   "outputs": [
    {
     "data": {
      "text/html": [
       "<style>#sk-container-id-1 {color: black;background-color: white;}#sk-container-id-1 pre{padding: 0;}#sk-container-id-1 div.sk-toggleable {background-color: white;}#sk-container-id-1 label.sk-toggleable__label {cursor: pointer;display: block;width: 100%;margin-bottom: 0;padding: 0.3em;box-sizing: border-box;text-align: center;}#sk-container-id-1 label.sk-toggleable__label-arrow:before {content: \"▸\";float: left;margin-right: 0.25em;color: #696969;}#sk-container-id-1 label.sk-toggleable__label-arrow:hover:before {color: black;}#sk-container-id-1 div.sk-estimator:hover label.sk-toggleable__label-arrow:before {color: black;}#sk-container-id-1 div.sk-toggleable__content {max-height: 0;max-width: 0;overflow: hidden;text-align: left;background-color: #f0f8ff;}#sk-container-id-1 div.sk-toggleable__content pre {margin: 0.2em;color: black;border-radius: 0.25em;background-color: #f0f8ff;}#sk-container-id-1 input.sk-toggleable__control:checked~div.sk-toggleable__content {max-height: 200px;max-width: 100%;overflow: auto;}#sk-container-id-1 input.sk-toggleable__control:checked~label.sk-toggleable__label-arrow:before {content: \"▾\";}#sk-container-id-1 div.sk-estimator input.sk-toggleable__control:checked~label.sk-toggleable__label {background-color: #d4ebff;}#sk-container-id-1 div.sk-label input.sk-toggleable__control:checked~label.sk-toggleable__label {background-color: #d4ebff;}#sk-container-id-1 input.sk-hidden--visually {border: 0;clip: rect(1px 1px 1px 1px);clip: rect(1px, 1px, 1px, 1px);height: 1px;margin: -1px;overflow: hidden;padding: 0;position: absolute;width: 1px;}#sk-container-id-1 div.sk-estimator {font-family: monospace;background-color: #f0f8ff;border: 1px dotted black;border-radius: 0.25em;box-sizing: border-box;margin-bottom: 0.5em;}#sk-container-id-1 div.sk-estimator:hover {background-color: #d4ebff;}#sk-container-id-1 div.sk-parallel-item::after {content: \"\";width: 100%;border-bottom: 1px solid gray;flex-grow: 1;}#sk-container-id-1 div.sk-label:hover label.sk-toggleable__label {background-color: #d4ebff;}#sk-container-id-1 div.sk-serial::before {content: \"\";position: absolute;border-left: 1px solid gray;box-sizing: border-box;top: 0;bottom: 0;left: 50%;z-index: 0;}#sk-container-id-1 div.sk-serial {display: flex;flex-direction: column;align-items: center;background-color: white;padding-right: 0.2em;padding-left: 0.2em;position: relative;}#sk-container-id-1 div.sk-item {position: relative;z-index: 1;}#sk-container-id-1 div.sk-parallel {display: flex;align-items: stretch;justify-content: center;background-color: white;position: relative;}#sk-container-id-1 div.sk-item::before, #sk-container-id-1 div.sk-parallel-item::before {content: \"\";position: absolute;border-left: 1px solid gray;box-sizing: border-box;top: 0;bottom: 0;left: 50%;z-index: -1;}#sk-container-id-1 div.sk-parallel-item {display: flex;flex-direction: column;z-index: 1;position: relative;background-color: white;}#sk-container-id-1 div.sk-parallel-item:first-child::after {align-self: flex-end;width: 50%;}#sk-container-id-1 div.sk-parallel-item:last-child::after {align-self: flex-start;width: 50%;}#sk-container-id-1 div.sk-parallel-item:only-child::after {width: 0;}#sk-container-id-1 div.sk-dashed-wrapped {border: 1px dashed gray;margin: 0 0.4em 0.5em 0.4em;box-sizing: border-box;padding-bottom: 0.4em;background-color: white;}#sk-container-id-1 div.sk-label label {font-family: monospace;font-weight: bold;display: inline-block;line-height: 1.2em;}#sk-container-id-1 div.sk-label-container {text-align: center;}#sk-container-id-1 div.sk-container {/* jupyter's `normalize.less` sets `[hidden] { display: none; }` but bootstrap.min.css set `[hidden] { display: none !important; }` so we also need the `!important` here to be able to override the default hidden behavior on the sphinx rendered scikit-learn.org. See: https://github.com/scikit-learn/scikit-learn/issues/21755 */display: inline-block !important;position: relative;}#sk-container-id-1 div.sk-text-repr-fallback {display: none;}</style><div id=\"sk-container-id-1\" class=\"sk-top-container\"><div class=\"sk-text-repr-fallback\"><pre>XGBRegressor(base_score=0.5, booster=&#x27;gbtree&#x27;, callbacks=None,\n",
       "             colsample_bylevel=1, colsample_bynode=1, colsample_bytree=1,\n",
       "             early_stopping_rounds=None, enable_categorical=False,\n",
       "             eval_metric=None, feature_types=None, gamma=0, gpu_id=-1,\n",
       "             grow_policy=&#x27;depthwise&#x27;, importance_type=None,\n",
       "             interaction_constraints=&#x27;&#x27;, learning_rate=0.300000012, max_bin=256,\n",
       "             max_cat_threshold=64, max_cat_to_onehot=4, max_delta_step=0,\n",
       "             max_depth=6, max_leaves=0, min_child_weight=1, missing=nan,\n",
       "             monotone_constraints=&#x27;()&#x27;, n_estimators=100, n_jobs=0,\n",
       "             num_parallel_tree=1, predictor=&#x27;auto&#x27;, random_state=0, ...)</pre><b>In a Jupyter environment, please rerun this cell to show the HTML representation or trust the notebook. <br />On GitHub, the HTML representation is unable to render, please try loading this page with nbviewer.org.</b></div><div class=\"sk-container\" hidden><div class=\"sk-item\"><div class=\"sk-estimator sk-toggleable\"><input class=\"sk-toggleable__control sk-hidden--visually\" id=\"sk-estimator-id-1\" type=\"checkbox\" checked><label for=\"sk-estimator-id-1\" class=\"sk-toggleable__label sk-toggleable__label-arrow\">XGBRegressor</label><div class=\"sk-toggleable__content\"><pre>XGBRegressor(base_score=0.5, booster=&#x27;gbtree&#x27;, callbacks=None,\n",
       "             colsample_bylevel=1, colsample_bynode=1, colsample_bytree=1,\n",
       "             early_stopping_rounds=None, enable_categorical=False,\n",
       "             eval_metric=None, feature_types=None, gamma=0, gpu_id=-1,\n",
       "             grow_policy=&#x27;depthwise&#x27;, importance_type=None,\n",
       "             interaction_constraints=&#x27;&#x27;, learning_rate=0.300000012, max_bin=256,\n",
       "             max_cat_threshold=64, max_cat_to_onehot=4, max_delta_step=0,\n",
       "             max_depth=6, max_leaves=0, min_child_weight=1, missing=nan,\n",
       "             monotone_constraints=&#x27;()&#x27;, n_estimators=100, n_jobs=0,\n",
       "             num_parallel_tree=1, predictor=&#x27;auto&#x27;, random_state=0, ...)</pre></div></div></div></div></div>"
      ],
      "text/plain": [
       "XGBRegressor(base_score=0.5, booster='gbtree', callbacks=None,\n",
       "             colsample_bylevel=1, colsample_bynode=1, colsample_bytree=1,\n",
       "             early_stopping_rounds=None, enable_categorical=False,\n",
       "             eval_metric=None, feature_types=None, gamma=0, gpu_id=-1,\n",
       "             grow_policy='depthwise', importance_type=None,\n",
       "             interaction_constraints='', learning_rate=0.300000012, max_bin=256,\n",
       "             max_cat_threshold=64, max_cat_to_onehot=4, max_delta_step=0,\n",
       "             max_depth=6, max_leaves=0, min_child_weight=1, missing=nan,\n",
       "             monotone_constraints='()', n_estimators=100, n_jobs=0,\n",
       "             num_parallel_tree=1, predictor='auto', random_state=0, ...)"
      ]
     },
     "execution_count": 150,
     "metadata": {},
     "output_type": "execute_result"
    }
   ],
   "source": [
    "xg_reg.fit(X_train, y_train)"
   ]
  },
  {
   "cell_type": "code",
   "execution_count": 151,
   "id": "69e607b0-ea04-416f-8c26-8196d4be2611",
   "metadata": {},
   "outputs": [],
   "source": [
    "preds = xg_reg.predict(X_test)"
   ]
  },
  {
   "cell_type": "code",
   "execution_count": 152,
   "id": "87072fff-b065-41ac-8838-2c81a9bd90a6",
   "metadata": {},
   "outputs": [
    {
     "name": "stdout",
     "output_type": "stream",
     "text": [
      "[51.137447  8.504735 20.51506  ... 47.286057 22.77026  27.475264]\n"
     ]
    }
   ],
   "source": [
    "print(preds)"
   ]
  },
  {
   "cell_type": "code",
   "execution_count": 153,
   "id": "8924ba37-5d9e-4237-b814-7de140117f87",
   "metadata": {},
   "outputs": [
    {
     "name": "stdout",
     "output_type": "stream",
     "text": [
      "RMSE: 93.138948\n"
     ]
    }
   ],
   "source": [
    "rmse = np.sqrt(mean_squared_error(y_test,preds))\n",
    "\n",
    "print(\"RMSE: %f\" % (rmse))"
   ]
  },
  {
   "cell_type": "code",
   "execution_count": 154,
   "id": "142ce836-1e8d-42b6-be72-8c808cbe1034",
   "metadata": {},
   "outputs": [
    {
     "name": "stdout",
     "output_type": "stream",
     "text": [
      "0.4787936285363461\n"
     ]
    }
   ],
   "source": [
    "r2 = r2_score(y_test, xg_reg.predict(X_test))\n",
    "print(r2)"
   ]
  },
  {
   "cell_type": "code",
   "execution_count": 155,
   "id": "1f1f8dd9-08a8-4215-9adc-ae3018fe3d72",
   "metadata": {},
   "outputs": [],
   "source": [
    "pickle.dump(xg_reg, open('../data/simple_model_x.pkl', 'wb'))"
   ]
  },
  {
   "cell_type": "code",
   "execution_count": 156,
   "id": "fc193e83-bdd4-40c0-990b-aa4436fde992",
   "metadata": {},
   "outputs": [],
   "source": [
    "with open('../data/simple_model_x.pkl', 'rb') as file:\n",
    "    test_pickle = pickle.load(file)"
   ]
  },
  {
   "cell_type": "code",
   "execution_count": 157,
   "id": "665161b2-7f96-43bf-b0c4-8f8311484202",
   "metadata": {},
   "outputs": [],
   "source": [
    "pickle.dump(requests_21pro_g, open('../data/processed_21_data.pkl', 'wb'))"
   ]
  },
  {
   "cell_type": "markdown",
   "id": "0bbc9518-a790-4ef2-acb9-1ab0413eef04",
   "metadata": {},
   "source": [
    "#### Try Parameter Grid Search to Improve the Results with XGBoost"
   ]
  },
  {
   "cell_type": "code",
   "execution_count": 158,
   "id": "61411b0b-8577-40c3-918b-5a91be8478d2",
   "metadata": {},
   "outputs": [],
   "source": [
    "from sklearn.model_selection import GridSearchCV\n",
    "from sklearn.model_selection import KFold"
   ]
  },
  {
   "cell_type": "code",
   "execution_count": 159,
   "id": "dfc02ec8-e22c-4c22-af86-d4c46d55a188",
   "metadata": {},
   "outputs": [
    {
     "name": "stdout",
     "output_type": "stream",
     "text": [
      "{'colsample_bytree': 1.0, 'gamma': 0.5, 'max_depth': 5, 'min_child_weight': 10, 'subsample': 1.0} 0.4530872840786804\n"
     ]
    }
   ],
   "source": [
    "kf = KFold(n_splits=2, shuffle=True, random_state=33)\n",
    "params = {\n",
    "        'min_child_weight': [1, 10],\n",
    "        'gamma': [0.5, 1.5, 5],\n",
    "        'subsample': [0.6, 1.0],\n",
    "        'colsample_bytree': [0.6, 1.0],\n",
    "        'max_depth': [3,5]\n",
    "        }\n",
    "xg_reg_gridsearch = GridSearchCV(xg_reg, params, cv=kf)\n",
    "xg_reg_gridsearch.fit(X_train, y_train)\n",
    "print(xg_reg_gridsearch.best_params_, xg_reg_gridsearch.best_score_)"
   ]
  },
  {
   "cell_type": "markdown",
   "id": "ea722efa-31bd-4d49-b8b0-dc27cf690f8a",
   "metadata": {
    "tags": []
   },
   "source": [
    "## 5. LDA Testing"
   ]
  },
  {
   "cell_type": "markdown",
   "id": "211d49ce-8f95-4370-94a7-08f7efff37ca",
   "metadata": {
    "tags": []
   },
   "source": [
    "### Imports"
   ]
  },
  {
   "cell_type": "code",
   "execution_count": 160,
   "id": "19b51f78-fd52-4633-ae4c-7eecde417215",
   "metadata": {},
   "outputs": [
    {
     "name": "stderr",
     "output_type": "stream",
     "text": [
      "[nltk_data] Downloading package stopwords to\n",
      "[nltk_data]     C:\\Users\\mnicn\\AppData\\Roaming\\nltk_data...\n",
      "[nltk_data]   Package stopwords is already up-to-date!\n"
     ]
    },
    {
     "data": {
      "text/plain": [
       "True"
      ]
     },
     "execution_count": 160,
     "metadata": {},
     "output_type": "execute_result"
    }
   ],
   "source": [
    "import nltk\n",
    "nltk.download('stopwords')"
   ]
  },
  {
   "cell_type": "code",
   "execution_count": 161,
   "id": "40ee4f88-8ed1-4328-af71-957601cfcf48",
   "metadata": {},
   "outputs": [],
   "source": [
    "import json\n",
    "import glob\n",
    "\n",
    "#gensim imports\n",
    "import gensim\n",
    "import gensim.corpora as corpora\n",
    "from gensim.utils import simple_preprocess\n",
    "from gensim.models import CoherenceModel\n",
    "from gensim.models import ldamodel\n",
    "\n",
    "# spacy imports\n",
    "import spacy\n",
    "from nltk.corpus import stopwords"
   ]
  },
  {
   "cell_type": "code",
   "execution_count": 162,
   "id": "5f407644-e604-4e3e-bb88-7a2d3b2b13e8",
   "metadata": {},
   "outputs": [],
   "source": [
    "#vis\n",
    "import pyLDAvis\n",
    "import pyLDAvis.gensim_models as gensimvis\n",
    "# from pyLDAvis import gensim\n"
   ]
  },
  {
   "cell_type": "markdown",
   "id": "380c7492-dc15-400f-ae51-8a1366c6858f",
   "metadata": {},
   "source": [
    "### Script to Hangle JSON Data"
   ]
  },
  {
   "cell_type": "code",
   "execution_count": 163,
   "id": "5de443d7-71c2-48c3-8a20-33602bc51883",
   "metadata": {},
   "outputs": [],
   "source": [
    "def load_data(file):\n",
    "    with open (file, \"r\", encoding=\"utf-8\") as f:\n",
    "        return (data)\n",
    "    \n",
    "def write_data(file, data):\n",
    "    with open (file, \"w\", encoding=\"utf-8\") as f:\n",
    "        json.dump(data, f, indent=4)"
   ]
  },
  {
   "cell_type": "markdown",
   "id": "3f8a88e9-70bd-400d-bd8d-0bb0e76e7fe4",
   "metadata": {},
   "source": [
    "### Create Stopwords"
   ]
  },
  {
   "cell_type": "code",
   "execution_count": 164,
   "id": "e7046792-787f-43fe-935f-69edaf4e59cc",
   "metadata": {},
   "outputs": [],
   "source": [
    "stopwords = stopwords.words(\"english\")"
   ]
  },
  {
   "cell_type": "code",
   "execution_count": 165,
   "id": "25832e9c-5eb7-47af-bc0e-db5650a72939",
   "metadata": {},
   "outputs": [
    {
     "name": "stdout",
     "output_type": "stream",
     "text": [
      "['i', 'me', 'my', 'myself', 'we', 'our', 'ours', 'ourselves', 'you', \"you're\", \"you've\", \"you'll\", \"you'd\", 'your', 'yours', 'yourself', 'yourselves', 'he', 'him', 'his', 'himself', 'she', \"she's\", 'her', 'hers', 'herself', 'it', \"it's\", 'its', 'itself', 'they', 'them', 'their', 'theirs', 'themselves', 'what', 'which', 'who', 'whom', 'this', 'that', \"that'll\", 'these', 'those', 'am', 'is', 'are', 'was', 'were', 'be', 'been', 'being', 'have', 'has', 'had', 'having', 'do', 'does', 'did', 'doing', 'a', 'an', 'the', 'and', 'but', 'if', 'or', 'because', 'as', 'until', 'while', 'of', 'at', 'by', 'for', 'with', 'about', 'against', 'between', 'into', 'through', 'during', 'before', 'after', 'above', 'below', 'to', 'from', 'up', 'down', 'in', 'out', 'on', 'off', 'over', 'under', 'again', 'further', 'then', 'once', 'here', 'there', 'when', 'where', 'why', 'how', 'all', 'any', 'both', 'each', 'few', 'more', 'most', 'other', 'some', 'such', 'no', 'nor', 'not', 'only', 'own', 'same', 'so', 'than', 'too', 'very', 's', 't', 'can', 'will', 'just', 'don', \"don't\", 'should', \"should've\", 'now', 'd', 'll', 'm', 'o', 're', 've', 'y', 'ain', 'aren', \"aren't\", 'couldn', \"couldn't\", 'didn', \"didn't\", 'doesn', \"doesn't\", 'hadn', \"hadn't\", 'hasn', \"hasn't\", 'haven', \"haven't\", 'isn', \"isn't\", 'ma', 'mightn', \"mightn't\", 'mustn', \"mustn't\", 'needn', \"needn't\", 'shan', \"shan't\", 'shouldn', \"shouldn't\", 'wasn', \"wasn't\", 'weren', \"weren't\", 'won', \"won't\", 'wouldn', \"wouldn't\"]\n"
     ]
    }
   ],
   "source": [
    "print(stopwords)"
   ]
  },
  {
   "cell_type": "code",
   "execution_count": 166,
   "id": "49e772e1-1de4-4772-9f60-ee5d4bd4a391",
   "metadata": {},
   "outputs": [],
   "source": [
    "# data = load_data(\"data/ushmm_dn.json\")[\"texts\"]\n",
    "\n",
    "# print(data)"
   ]
  },
  {
   "cell_type": "markdown",
   "id": "6abeb2d3-51cf-455c-ba82-485d7a487d0b",
   "metadata": {},
   "source": [
    "### Define Lemmatization\n",
    "This lemmatization function works on a list of tokens."
   ]
  },
  {
   "cell_type": "code",
   "execution_count": 167,
   "id": "f6e2e778-3389-4c09-b3b2-cd1cdcf0425e",
   "metadata": {},
   "outputs": [],
   "source": [
    "nlp = spacy.load(\"en_core_web_sm\", disable=[\"parser\", \"ner\"])"
   ]
  },
  {
   "cell_type": "code",
   "execution_count": 168,
   "id": "9b0904c2-e98f-4091-a574-d70d51bcab6f",
   "metadata": {},
   "outputs": [],
   "source": [
    "def lemmatization(texts, allowed_postags=[\"NOUN\", \"ADJ\", \"VERB\", \"ADV\"]):\n",
    "    # nlp = spacy.load(\"en_core_web_sm\", disable=[\"parser\", \"ner\"]) - this should be done within function but not working! in cell above. \n",
    "    texts_out = []\n",
    "    for text in texts:\n",
    "        #doc object (below) to contain essential metadata\n",
    "        doc = nlp(text)\n",
    "        new_text = []\n",
    "        for token in doc:\n",
    "            if token.pos_ in allowed_postags:\n",
    "                new_text.append(token.lemma_)\n",
    "        final = \" \".join(new_text)\n",
    "        texts_out.append(final)\n",
    "    return (texts_out)"
   ]
  },
  {
   "cell_type": "code",
   "execution_count": 169,
   "id": "a13e0eaa-aaa7-4bb7-85fd-186d9a36fb04",
   "metadata": {},
   "outputs": [
    {
     "name": "stdout",
     "output_type": "stream",
     "text": [
      "['name good sir banana']\n"
     ]
    }
   ],
   "source": [
    "test_text = ['My name is Melissa who are you good sir and do you have any bananas for me?']\n",
    "test_doc = nlp('My name is Melissa who are you good sir and do you have any bananas for me?')\n",
    "lemmatized_text = lemmatization(test_text)\n",
    "print(lemmatized_text)"
   ]
  },
  {
   "cell_type": "code",
   "execution_count": 170,
   "id": "4a8f83bc-8913-438d-b2e4-4ae706afb168",
   "metadata": {},
   "outputs": [],
   "source": [
    "def gen_words(texts):\n",
    "    final = []\n",
    "    for text in texts:\n",
    "        new = gensim.utils.simple_preprocess(text, deacc=True)\n",
    "        final.append(new)\n",
    "    return (final)"
   ]
  },
  {
   "cell_type": "code",
   "execution_count": 171,
   "id": "442fbeef-1958-476d-be63-d5a257e03879",
   "metadata": {},
   "outputs": [],
   "source": [
    "data_words = gen_words(lemmatized_text)"
   ]
  },
  {
   "cell_type": "code",
   "execution_count": 172,
   "id": "0e5848d5-0e69-444d-9778-68cc1745bec7",
   "metadata": {},
   "outputs": [
    {
     "name": "stdout",
     "output_type": "stream",
     "text": [
      "[(0, 1), (1, 1), (2, 1), (3, 1)]\n"
     ]
    }
   ],
   "source": [
    "id2word = corpora.Dictionary(data_words)\n",
    "\n",
    "corpus =[]\n",
    "for text in data_words:\n",
    "    new = id2word.doc2bow(text)\n",
    "    corpus.append(new)\n",
    "    \n",
    "print (corpus[0][0:20])"
   ]
  },
  {
   "cell_type": "code",
   "execution_count": 173,
   "id": "360b97d2-c98e-4c10-b106-fded10f4ad63",
   "metadata": {},
   "outputs": [
    {
     "name": "stdout",
     "output_type": "stream",
     "text": [
      "banana\n"
     ]
    }
   ],
   "source": [
    "word = id2word[[0][:1][0]]\n",
    "print(word)"
   ]
  },
  {
   "cell_type": "code",
   "execution_count": 174,
   "id": "565b194e-febe-410a-99a9-d4b1a4253482",
   "metadata": {},
   "outputs": [],
   "source": [
    "lda_model = gensim.models.ldamodel.LdaModel(corpus=corpus, \n",
    "                                            id2word=id2word, \n",
    "                                            num_topics=3, \n",
    "                                            random_state=100, \n",
    "                                            update_every=1, \n",
    "                                            chunksize=100,\n",
    "                                            passes=10,\n",
    "                                            alpha=\"auto\")"
   ]
  },
  {
   "cell_type": "code",
   "execution_count": 175,
   "id": "db3912e7-e9a5-4ae5-b3a4-3acffb0beca6",
   "metadata": {},
   "outputs": [
    {
     "name": "stderr",
     "output_type": "stream",
     "text": [
      "C:\\Users\\mnicn\\anaconda3\\lib\\site-packages\\pyLDAvis\\_prepare.py:246: FutureWarning: In a future version of pandas all arguments of DataFrame.drop except for the argument 'labels' will be keyword-only.\n",
      "  default_term_info = default_term_info.sort_values(\n",
      "C:\\Users\\mnicn\\anaconda3\\lib\\site-packages\\sklearn\\manifold\\_mds.py:299: FutureWarning: The default value of `normalized_stress` will change to `'auto'` in version 1.4. To suppress this warning, manually set the value of `normalized_stress`.\n",
      "  warnings.warn(\n"
     ]
    },
    {
     "data": {
      "text/html": [
       "\n",
       "<link rel=\"stylesheet\" type=\"text/css\" href=\"https://cdn.jsdelivr.net/gh/bmabey/pyLDAvis@3.3.1/pyLDAvis/js/ldavis.v1.0.0.css\">\n",
       "\n",
       "\n",
       "<div id=\"ldavis_el696413282139744803900626551\"></div>\n",
       "<script type=\"text/javascript\">\n",
       "\n",
       "var ldavis_el696413282139744803900626551_data = {\"mdsDat\": {\"x\": [-4.1111805017443295e-09, 3.1974251678764967e-09, 9.137553338678327e-10], \"y\": [4.028695033831866e-09, -3.0839130030010746e-09, -9.447820308307915e-10], \"topics\": [1, 2, 3], \"cluster\": [1, 1, 1], \"Freq\": [96.97526675281065, 1.5130284214149632, 1.511704825774385]}, \"tinfo\": {\"Term\": [\"banana\", \"good\", \"sir\", \"name\", \"name\", \"sir\", \"good\", \"banana\", \"banana\", \"good\", \"name\", \"sir\", \"banana\", \"good\", \"sir\", \"name\"], \"Freq\": [0.0, 1.0, 1.0, 1.0, 0.9698271180056395, 0.9697999511768529, 0.9697702410704778, 0.969613482688203, 0.015135917105101204, 0.015129539326442232, 0.015128070236872737, 0.015127609399076536, 0.015120092020279752, 0.015116704987263863, 0.015116772565735848, 0.01511462266928043], \"Total\": [0.0, 1.0, 1.0, 1.0, 1.0000698109117927, 1.0000443331416653, 1.000016485384184, 0.999869491813584, 0.999869491813584, 1.000016485384184, 1.0000698109117927, 1.0000443331416653, 0.999869491813584, 1.000016485384184, 1.0000443331416653, 1.0000698109117927], \"Category\": [\"Default\", \"Default\", \"Default\", \"Default\", \"Topic1\", \"Topic1\", \"Topic1\", \"Topic1\", \"Topic2\", \"Topic2\", \"Topic2\", \"Topic2\", \"Topic3\", \"Topic3\", \"Topic3\", \"Topic3\"], \"logprob\": [4.0, 3.0, 2.0, 1.0, -1.3862, -1.3862, -1.3863, -1.3864, -1.3859, -1.3863, -1.3864, -1.3865, -1.3861, -1.3863, -1.3863, -1.3865], \"loglift\": [4.0, 3.0, 2.0, 1.0, 0.0, 0.0, 0.0, -0.0, 0.0005, -0.0001, -0.0002, -0.0002, 0.0003, -0.0, -0.0001, -0.0002]}, \"token.table\": {\"Topic\": [1, 1, 1, 1], \"Freq\": [1.000130525221026, 0.9999835148875794, 0.9999301939614305, 0.999955668823675], \"Term\": [\"banana\", \"good\", \"name\", \"sir\"]}, \"R\": 4, \"lambda.step\": 0.01, \"plot.opts\": {\"xlab\": \"PC1\", \"ylab\": \"PC2\"}, \"topic.order\": [1, 3, 2]};\n",
       "\n",
       "function LDAvis_load_lib(url, callback){\n",
       "  var s = document.createElement('script');\n",
       "  s.src = url;\n",
       "  s.async = true;\n",
       "  s.onreadystatechange = s.onload = callback;\n",
       "  s.onerror = function(){console.warn(\"failed to load library \" + url);};\n",
       "  document.getElementsByTagName(\"head\")[0].appendChild(s);\n",
       "}\n",
       "\n",
       "if(typeof(LDAvis) !== \"undefined\"){\n",
       "   // already loaded: just create the visualization\n",
       "   !function(LDAvis){\n",
       "       new LDAvis(\"#\" + \"ldavis_el696413282139744803900626551\", ldavis_el696413282139744803900626551_data);\n",
       "   }(LDAvis);\n",
       "}else if(typeof define === \"function\" && define.amd){\n",
       "   // require.js is available: use it to load d3/LDAvis\n",
       "   require.config({paths: {d3: \"https://d3js.org/d3.v5\"}});\n",
       "   require([\"d3\"], function(d3){\n",
       "      window.d3 = d3;\n",
       "      LDAvis_load_lib(\"https://cdn.jsdelivr.net/gh/bmabey/pyLDAvis@3.3.1/pyLDAvis/js/ldavis.v3.0.0.js\", function(){\n",
       "        new LDAvis(\"#\" + \"ldavis_el696413282139744803900626551\", ldavis_el696413282139744803900626551_data);\n",
       "      });\n",
       "    });\n",
       "}else{\n",
       "    // require.js not available: dynamically load d3 & LDAvis\n",
       "    LDAvis_load_lib(\"https://d3js.org/d3.v5.js\", function(){\n",
       "         LDAvis_load_lib(\"https://cdn.jsdelivr.net/gh/bmabey/pyLDAvis@3.3.1/pyLDAvis/js/ldavis.v3.0.0.js\", function(){\n",
       "                 new LDAvis(\"#\" + \"ldavis_el696413282139744803900626551\", ldavis_el696413282139744803900626551_data);\n",
       "            })\n",
       "         });\n",
       "}\n",
       "</script>"
      ],
      "text/plain": [
       "PreparedData(topic_coordinates=                  x             y  topics  cluster       Freq\n",
       "topic                                                        \n",
       "0     -4.111181e-09  4.028695e-09       1        1  96.975267\n",
       "2      3.197425e-09 -3.083913e-09       2        1   1.513028\n",
       "1      9.137553e-10 -9.447820e-10       3        1   1.511705, topic_info=     Term      Freq     Total Category  logprob  loglift\n",
       "0  banana  0.000000  0.000000  Default   4.0000   4.0000\n",
       "1    good  1.000000  1.000000  Default   3.0000   3.0000\n",
       "3     sir  1.000000  1.000000  Default   2.0000   2.0000\n",
       "2    name  1.000000  1.000000  Default   1.0000   1.0000\n",
       "2    name  0.969827  1.000070   Topic1  -1.3862   0.0000\n",
       "3     sir  0.969800  1.000044   Topic1  -1.3862   0.0000\n",
       "1    good  0.969770  1.000016   Topic1  -1.3863   0.0000\n",
       "0  banana  0.969613  0.999869   Topic1  -1.3864  -0.0000\n",
       "0  banana  0.015136  0.999869   Topic2  -1.3859   0.0005\n",
       "1    good  0.015130  1.000016   Topic2  -1.3863  -0.0001\n",
       "2    name  0.015128  1.000070   Topic2  -1.3864  -0.0002\n",
       "3     sir  0.015128  1.000044   Topic2  -1.3865  -0.0002\n",
       "0  banana  0.015120  0.999869   Topic3  -1.3861   0.0003\n",
       "1    good  0.015117  1.000016   Topic3  -1.3863  -0.0000\n",
       "3     sir  0.015117  1.000044   Topic3  -1.3863  -0.0001\n",
       "2    name  0.015115  1.000070   Topic3  -1.3865  -0.0002, token_table=      Topic      Freq    Term\n",
       "term                         \n",
       "0         1  1.000131  banana\n",
       "1         1  0.999984    good\n",
       "2         1  0.999930    name\n",
       "3         1  0.999956     sir, R=4, lambda_step=0.01, plot_opts={'xlab': 'PC1', 'ylab': 'PC2'}, topic_order=[1, 3, 2])"
      ]
     },
     "execution_count": 175,
     "metadata": {},
     "output_type": "execute_result"
    }
   ],
   "source": [
    "pyLDAvis.enable_notebook()\n",
    "vis = gensimvis.prepare(lda_model, corpus, id2word, mds='mmds')\n",
    "vis\n",
    "\n"
   ]
  },
  {
   "cell_type": "code",
   "execution_count": null,
   "id": "0054a6b8-a637-469d-a57d-1b2e5eb5d8e0",
   "metadata": {},
   "outputs": [],
   "source": []
  },
  {
   "cell_type": "code",
   "execution_count": null,
   "id": "e94ff48c-c45c-4f85-888a-90f20d3f87ad",
   "metadata": {},
   "outputs": [],
   "source": []
  },
  {
   "cell_type": "code",
   "execution_count": null,
   "id": "fc7a56e6-4d6d-43b2-80d7-54b271870e9a",
   "metadata": {},
   "outputs": [],
   "source": []
  },
  {
   "cell_type": "markdown",
   "id": "e35ddaab-c641-441f-8838-d99983888f6e",
   "metadata": {
    "tags": []
   },
   "source": [
    "## 5. Tensorflow Testing"
   ]
  },
  {
   "cell_type": "code",
   "execution_count": 176,
   "id": "136f2973-bb1f-4b69-a0a1-cff261d99fde",
   "metadata": {},
   "outputs": [],
   "source": [
    "requests_21 = pd.read_csv('../data/2021_closed_requests.csv', low_memory=False)"
   ]
  },
  {
   "cell_type": "code",
   "execution_count": 177,
   "id": "cc012fa9-60fd-45c6-ad8e-7cfde79f64f2",
   "metadata": {},
   "outputs": [
    {
     "data": {
      "text/html": [
       "<div>\n",
       "<style scoped>\n",
       "    .dataframe tbody tr th:only-of-type {\n",
       "        vertical-align: middle;\n",
       "    }\n",
       "\n",
       "    .dataframe tbody tr th {\n",
       "        vertical-align: top;\n",
       "    }\n",
       "\n",
       "    .dataframe thead th {\n",
       "        text-align: right;\n",
       "    }\n",
       "</style>\n",
       "<table border=\"1\" class=\"dataframe\">\n",
       "  <thead>\n",
       "    <tr style=\"text-align: right;\">\n",
       "      <th></th>\n",
       "      <th>service_request_id</th>\n",
       "      <th>service_request_parent_id</th>\n",
       "      <th>sap_notification_number</th>\n",
       "      <th>date_requested</th>\n",
       "      <th>case_age_days</th>\n",
       "      <th>case_record_type</th>\n",
       "      <th>service_name</th>\n",
       "      <th>service_name_detail</th>\n",
       "      <th>date_closed</th>\n",
       "      <th>status</th>\n",
       "      <th>...</th>\n",
       "      <th>zipcode</th>\n",
       "      <th>council_district</th>\n",
       "      <th>comm_plan_code</th>\n",
       "      <th>comm_plan_name</th>\n",
       "      <th>park_name</th>\n",
       "      <th>case_origin</th>\n",
       "      <th>referred</th>\n",
       "      <th>iamfloc</th>\n",
       "      <th>floc</th>\n",
       "      <th>public_description</th>\n",
       "    </tr>\n",
       "  </thead>\n",
       "  <tbody>\n",
       "    <tr>\n",
       "      <th>0</th>\n",
       "      <td>100123</td>\n",
       "      <td>NaN</td>\n",
       "      <td>4.030000e+10</td>\n",
       "      <td>2016-08-17T16:40:00</td>\n",
       "      <td>1654.0</td>\n",
       "      <td>TSW</td>\n",
       "      <td>Pavement Maintenance</td>\n",
       "      <td>CONCRETE PAVEMENT REPAIR ISSUE</td>\n",
       "      <td>2021-02-26</td>\n",
       "      <td>Closed</td>\n",
       "      <td>...</td>\n",
       "      <td>NaN</td>\n",
       "      <td>5.0</td>\n",
       "      <td>31.0</td>\n",
       "      <td>Rancho Bernardo</td>\n",
       "      <td>NaN</td>\n",
       "      <td>Web</td>\n",
       "      <td>NaN</td>\n",
       "      <td>SS-020515-PV1</td>\n",
       "      <td>SS-020515</td>\n",
       "      <td>We have a cement street it is buckling and one...</td>\n",
       "    </tr>\n",
       "    <tr>\n",
       "      <th>1</th>\n",
       "      <td>100191</td>\n",
       "      <td>87204.0</td>\n",
       "      <td>NaN</td>\n",
       "      <td>2016-08-17T23:48:00</td>\n",
       "      <td>1842.0</td>\n",
       "      <td>TSW</td>\n",
       "      <td>Pavement Maintenance</td>\n",
       "      <td>Evaluate for Resurfacing/Slurry</td>\n",
       "      <td>2021-09-02</td>\n",
       "      <td>Closed</td>\n",
       "      <td>...</td>\n",
       "      <td>NaN</td>\n",
       "      <td>5.0</td>\n",
       "      <td>3.0</td>\n",
       "      <td>Carmel Mountain Ranch</td>\n",
       "      <td>NaN</td>\n",
       "      <td>Web</td>\n",
       "      <td>NaN</td>\n",
       "      <td>NaN</td>\n",
       "      <td>SS-022700</td>\n",
       "      <td>Potholes and uneven pavement throughout Rancho...</td>\n",
       "    </tr>\n",
       "    <tr>\n",
       "      <th>2</th>\n",
       "      <td>100194</td>\n",
       "      <td>NaN</td>\n",
       "      <td>4.030001e+10</td>\n",
       "      <td>2016-08-18T04:17:00</td>\n",
       "      <td>1652.0</td>\n",
       "      <td>TSW</td>\n",
       "      <td>Pavement Maintenance</td>\n",
       "      <td>DAMAGED CURB</td>\n",
       "      <td>2021-02-25</td>\n",
       "      <td>Closed</td>\n",
       "      <td>...</td>\n",
       "      <td>NaN</td>\n",
       "      <td>2.0</td>\n",
       "      <td>6.0</td>\n",
       "      <td>Clairemont Mesa</td>\n",
       "      <td>NaN</td>\n",
       "      <td>Web</td>\n",
       "      <td>NaN</td>\n",
       "      <td>SS-014744-PV1</td>\n",
       "      <td>SS-014744</td>\n",
       "      <td>curb cracked, please fill\\ngutter joint depres...</td>\n",
       "    </tr>\n",
       "    <tr>\n",
       "      <th>3</th>\n",
       "      <td>100241</td>\n",
       "      <td>NaN</td>\n",
       "      <td>4.030001e+10</td>\n",
       "      <td>2016-08-18T09:23:00</td>\n",
       "      <td>1751.0</td>\n",
       "      <td>TSW</td>\n",
       "      <td>Stormwater</td>\n",
       "      <td>DRAIN INLET</td>\n",
       "      <td>2021-06-04</td>\n",
       "      <td>Closed</td>\n",
       "      <td>...</td>\n",
       "      <td>NaN</td>\n",
       "      <td>3.0</td>\n",
       "      <td>19.0</td>\n",
       "      <td>Mission Valley</td>\n",
       "      <td>NaN</td>\n",
       "      <td>Email</td>\n",
       "      <td>NaN</td>\n",
       "      <td>IN22626</td>\n",
       "      <td>43802117</td>\n",
       "      <td>BRUSH AND OTHER DEBRIS IN DRAIN - REQUEST REMOVAL</td>\n",
       "    </tr>\n",
       "    <tr>\n",
       "      <th>4</th>\n",
       "      <td>100867</td>\n",
       "      <td>NaN</td>\n",
       "      <td>4.030000e+10</td>\n",
       "      <td>2016-08-21T12:19:00</td>\n",
       "      <td>1838.0</td>\n",
       "      <td>TSW</td>\n",
       "      <td>Pavement Maintenance</td>\n",
       "      <td>EVALUATE FOR RESURFACING/SLURRY</td>\n",
       "      <td>2021-09-02</td>\n",
       "      <td>Closed</td>\n",
       "      <td>...</td>\n",
       "      <td>NaN</td>\n",
       "      <td>9.0</td>\n",
       "      <td>57.0</td>\n",
       "      <td>Mid-City:Eastern Area</td>\n",
       "      <td>NaN</td>\n",
       "      <td>Mobile</td>\n",
       "      <td>NaN</td>\n",
       "      <td>SS-026868-PV1</td>\n",
       "      <td>SS-026868</td>\n",
       "      <td>This road needs To be repaired immediately</td>\n",
       "    </tr>\n",
       "  </tbody>\n",
       "</table>\n",
       "<p>5 rows × 23 columns</p>\n",
       "</div>"
      ],
      "text/plain": [
       "   service_request_id  service_request_parent_id  sap_notification_number  \\\n",
       "0              100123                        NaN             4.030000e+10   \n",
       "1              100191                    87204.0                      NaN   \n",
       "2              100194                        NaN             4.030001e+10   \n",
       "3              100241                        NaN             4.030001e+10   \n",
       "4              100867                        NaN             4.030000e+10   \n",
       "\n",
       "        date_requested  case_age_days case_record_type          service_name  \\\n",
       "0  2016-08-17T16:40:00         1654.0              TSW  Pavement Maintenance   \n",
       "1  2016-08-17T23:48:00         1842.0              TSW  Pavement Maintenance   \n",
       "2  2016-08-18T04:17:00         1652.0              TSW  Pavement Maintenance   \n",
       "3  2016-08-18T09:23:00         1751.0              TSW            Stormwater   \n",
       "4  2016-08-21T12:19:00         1838.0              TSW  Pavement Maintenance   \n",
       "\n",
       "               service_name_detail date_closed  status  ...  zipcode  \\\n",
       "0   CONCRETE PAVEMENT REPAIR ISSUE  2021-02-26  Closed  ...      NaN   \n",
       "1  Evaluate for Resurfacing/Slurry  2021-09-02  Closed  ...      NaN   \n",
       "2                     DAMAGED CURB  2021-02-25  Closed  ...      NaN   \n",
       "3                      DRAIN INLET  2021-06-04  Closed  ...      NaN   \n",
       "4  EVALUATE FOR RESURFACING/SLURRY  2021-09-02  Closed  ...      NaN   \n",
       "\n",
       "   council_district comm_plan_code         comm_plan_name  park_name  \\\n",
       "0               5.0           31.0        Rancho Bernardo        NaN   \n",
       "1               5.0            3.0  Carmel Mountain Ranch        NaN   \n",
       "2               2.0            6.0        Clairemont Mesa        NaN   \n",
       "3               3.0           19.0         Mission Valley        NaN   \n",
       "4               9.0           57.0  Mid-City:Eastern Area        NaN   \n",
       "\n",
       "   case_origin referred        iamfloc       floc  \\\n",
       "0          Web      NaN  SS-020515-PV1  SS-020515   \n",
       "1          Web      NaN            NaN  SS-022700   \n",
       "2          Web      NaN  SS-014744-PV1  SS-014744   \n",
       "3        Email      NaN        IN22626   43802117   \n",
       "4       Mobile      NaN  SS-026868-PV1  SS-026868   \n",
       "\n",
       "                                  public_description  \n",
       "0  We have a cement street it is buckling and one...  \n",
       "1  Potholes and uneven pavement throughout Rancho...  \n",
       "2  curb cracked, please fill\\ngutter joint depres...  \n",
       "3  BRUSH AND OTHER DEBRIS IN DRAIN - REQUEST REMOVAL  \n",
       "4         This road needs To be repaired immediately  \n",
       "\n",
       "[5 rows x 23 columns]"
      ]
     },
     "execution_count": 177,
     "metadata": {},
     "output_type": "execute_result"
    }
   ],
   "source": [
    "requests_21.head()"
   ]
  },
  {
   "cell_type": "code",
   "execution_count": null,
   "id": "98ed498b-e857-45f9-a772-6e1c523fa161",
   "metadata": {},
   "outputs": [],
   "source": []
  },
  {
   "cell_type": "code",
   "execution_count": 178,
   "id": "9e627362-8a0d-49ec-9eff-dbd83e8c4633",
   "metadata": {},
   "outputs": [],
   "source": [
    "with open('../data/categories_df.pkl', 'rb') as file:\n",
    "        categories_df = pickle.load(file)"
   ]
  },
  {
   "cell_type": "code",
   "execution_count": 179,
   "id": "b0844e9b-96a6-49e8-8a8e-1108f6ae5227",
   "metadata": {},
   "outputs": [
    {
     "data": {
      "text/html": [
       "<div>\n",
       "<style scoped>\n",
       "    .dataframe tbody tr th:only-of-type {\n",
       "        vertical-align: middle;\n",
       "    }\n",
       "\n",
       "    .dataframe tbody tr th {\n",
       "        vertical-align: top;\n",
       "    }\n",
       "\n",
       "    .dataframe thead th {\n",
       "        text-align: right;\n",
       "    }\n",
       "</style>\n",
       "<table border=\"1\" class=\"dataframe\">\n",
       "  <thead>\n",
       "    <tr style=\"text-align: right;\">\n",
       "      <th></th>\n",
       "      <th>service_name</th>\n",
       "      <th>detailed_type</th>\n",
       "    </tr>\n",
       "  </thead>\n",
       "  <tbody>\n",
       "    <tr>\n",
       "      <th>0</th>\n",
       "      <td>Pavement Maintenance</td>\n",
       "      <td>Pavement Maintenance</td>\n",
       "    </tr>\n",
       "    <tr>\n",
       "      <th>4</th>\n",
       "      <td>Pavement Maintenance</td>\n",
       "      <td>Resurfacing Evaluation</td>\n",
       "    </tr>\n",
       "    <tr>\n",
       "      <th>22</th>\n",
       "      <td>Sidewalk Repair Issue</td>\n",
       "      <td>Sidewalk Repair Issue</td>\n",
       "    </tr>\n",
       "    <tr>\n",
       "      <th>50</th>\n",
       "      <td>Stormwater</td>\n",
       "      <td>Drain Inlet</td>\n",
       "    </tr>\n",
       "    <tr>\n",
       "      <th>79</th>\n",
       "      <td>Stormwater</td>\n",
       "      <td>Stormwater</td>\n",
       "    </tr>\n",
       "    <tr>\n",
       "      <th>130</th>\n",
       "      <td>Pothole</td>\n",
       "      <td>Pothole</td>\n",
       "    </tr>\n",
       "    <tr>\n",
       "      <th>175</th>\n",
       "      <td>Street Sweeping</td>\n",
       "      <td>Street Sweeping</td>\n",
       "    </tr>\n",
       "    <tr>\n",
       "      <th>298</th>\n",
       "      <td>Street Flooded</td>\n",
       "      <td>Street Flooded</td>\n",
       "    </tr>\n",
       "    <tr>\n",
       "      <th>384</th>\n",
       "      <td>Tree Maintenance</td>\n",
       "      <td>Tree Trimming for Pedestrian/Vehicle Clearance</td>\n",
       "    </tr>\n",
       "    <tr>\n",
       "      <th>468</th>\n",
       "      <td>Tree Maintenance</td>\n",
       "      <td>Tree Removal</td>\n",
       "    </tr>\n",
       "    <tr>\n",
       "      <th>537</th>\n",
       "      <td>Weed Cleanup</td>\n",
       "      <td>Weed Cleanup</td>\n",
       "    </tr>\n",
       "    <tr>\n",
       "      <th>651</th>\n",
       "      <td>Traffic Engineering</td>\n",
       "      <td>Traffic Engineering</td>\n",
       "    </tr>\n",
       "    <tr>\n",
       "      <th>652</th>\n",
       "      <td>Missed Collection</td>\n",
       "      <td>Missed Collection</td>\n",
       "    </tr>\n",
       "    <tr>\n",
       "      <th>659</th>\n",
       "      <td>Tree Maintenance</td>\n",
       "      <td>Trimming Request</td>\n",
       "    </tr>\n",
       "    <tr>\n",
       "      <th>663</th>\n",
       "      <td>Traffic Sign Maintenance</td>\n",
       "      <td>Traffic Sign Maintenance</td>\n",
       "    </tr>\n",
       "    <tr>\n",
       "      <th>684</th>\n",
       "      <td>Right-of-Way Code Enforcement</td>\n",
       "      <td>Vegetation Encroachment</td>\n",
       "    </tr>\n",
       "    <tr>\n",
       "      <th>768</th>\n",
       "      <td>ROW Maintenance</td>\n",
       "      <td>ROW Maintenance</td>\n",
       "    </tr>\n",
       "    <tr>\n",
       "      <th>769</th>\n",
       "      <td>Tree Maintenance</td>\n",
       "      <td>Fallen/Hanging Tree Limb</td>\n",
       "    </tr>\n",
       "    <tr>\n",
       "      <th>879</th>\n",
       "      <td>Trash/Recycling Collection</td>\n",
       "      <td>Trash/Recycling Collection</td>\n",
       "    </tr>\n",
       "    <tr>\n",
       "      <th>884</th>\n",
       "      <td>Street Light Maintenance</td>\n",
       "      <td>Street Light Out of Service</td>\n",
       "    </tr>\n",
       "    <tr>\n",
       "      <th>891</th>\n",
       "      <td>Street Light Maintenance</td>\n",
       "      <td>Damaged/Knocked Over Pole</td>\n",
       "    </tr>\n",
       "    <tr>\n",
       "      <th>908</th>\n",
       "      <td>Tree Maintenance</td>\n",
       "      <td>Tree Maintenance</td>\n",
       "    </tr>\n",
       "    <tr>\n",
       "      <th>1041</th>\n",
       "      <td>Traffic Signal Issue</td>\n",
       "      <td>Damaged/Knocked Over Pole</td>\n",
       "    </tr>\n",
       "    <tr>\n",
       "      <th>1149</th>\n",
       "      <td>Traffic Signal Timing</td>\n",
       "      <td>Traffic Signal Timing</td>\n",
       "    </tr>\n",
       "    <tr>\n",
       "      <th>1195</th>\n",
       "      <td>Traffic Signal Issue</td>\n",
       "      <td>Traffic Signal Out of Service</td>\n",
       "    </tr>\n",
       "    <tr>\n",
       "      <th>1303</th>\n",
       "      <td>Missed Collection</td>\n",
       "      <td>Potential Missed Collection</td>\n",
       "    </tr>\n",
       "    <tr>\n",
       "      <th>1707</th>\n",
       "      <td>Street Light Maintenance</td>\n",
       "      <td>Street Light Maintenance</td>\n",
       "    </tr>\n",
       "    <tr>\n",
       "      <th>2152</th>\n",
       "      <td>Illegal Dumping</td>\n",
       "      <td>Illegal Dumping</td>\n",
       "    </tr>\n",
       "    <tr>\n",
       "      <th>2226</th>\n",
       "      <td>Graffiti</td>\n",
       "      <td>Graffiti Removal</td>\n",
       "    </tr>\n",
       "    <tr>\n",
       "      <th>2291</th>\n",
       "      <td>Waste on Private Property</td>\n",
       "      <td>Waste on Private Property</td>\n",
       "    </tr>\n",
       "    <tr>\n",
       "      <th>2833</th>\n",
       "      <td>Environmental Services Code Compliance</td>\n",
       "      <td>Environmental Services Code Compliance</td>\n",
       "    </tr>\n",
       "    <tr>\n",
       "      <th>3060</th>\n",
       "      <td>Environmental Services Code Compliance</td>\n",
       "      <td>Container Left Out</td>\n",
       "    </tr>\n",
       "    <tr>\n",
       "      <th>3178</th>\n",
       "      <td>Parking</td>\n",
       "      <td>72 Hour Violation</td>\n",
       "    </tr>\n",
       "    <tr>\n",
       "      <th>3608</th>\n",
       "      <td>Traffic Signal Issue</td>\n",
       "      <td>Traffic Signal Issue</td>\n",
       "    </tr>\n",
       "    <tr>\n",
       "      <th>4294</th>\n",
       "      <td>Encampment</td>\n",
       "      <td>Encampment</td>\n",
       "    </tr>\n",
       "    <tr>\n",
       "      <th>4513</th>\n",
       "      <td>Development Services - Code Enforcement</td>\n",
       "      <td>Quality of Life Issues</td>\n",
       "    </tr>\n",
       "    <tr>\n",
       "      <th>4587</th>\n",
       "      <td>Illegal Dumping</td>\n",
       "      <td>Litter</td>\n",
       "    </tr>\n",
       "    <tr>\n",
       "      <th>4979</th>\n",
       "      <td>Other</td>\n",
       "      <td>Other</td>\n",
       "    </tr>\n",
       "    <tr>\n",
       "      <th>4987</th>\n",
       "      <td>Graffiti - Code Enforcement</td>\n",
       "      <td>Graffiti Removal - Commercial</td>\n",
       "    </tr>\n",
       "    <tr>\n",
       "      <th>5785</th>\n",
       "      <td>Stormwater Code Enforcement</td>\n",
       "      <td>Stormwater Pollution Prevention</td>\n",
       "    </tr>\n",
       "    <tr>\n",
       "      <th>5953</th>\n",
       "      <td>Environmental Services Code Compliance</td>\n",
       "      <td>Encroachment</td>\n",
       "    </tr>\n",
       "    <tr>\n",
       "      <th>7765</th>\n",
       "      <td>Traffic Signal Issue</td>\n",
       "      <td>Flashing Traffic Signal Lights</td>\n",
       "    </tr>\n",
       "    <tr>\n",
       "      <th>10262</th>\n",
       "      <td>Parking</td>\n",
       "      <td>Parking Zone Violation</td>\n",
       "    </tr>\n",
       "    <tr>\n",
       "      <th>10882</th>\n",
       "      <td>Parking</td>\n",
       "      <td>Parking</td>\n",
       "    </tr>\n",
       "    <tr>\n",
       "      <th>12095</th>\n",
       "      <td>Trash/Recycling Collection</td>\n",
       "      <td>Container Out Late</td>\n",
       "    </tr>\n",
       "    <tr>\n",
       "      <th>16411</th>\n",
       "      <td>Stormwater Code Enforcement</td>\n",
       "      <td>Stormwater Code Enforcement</td>\n",
       "    </tr>\n",
       "    <tr>\n",
       "      <th>17884</th>\n",
       "      <td>COVID-19</td>\n",
       "      <td>COVID-19</td>\n",
       "    </tr>\n",
       "    <tr>\n",
       "      <th>25244</th>\n",
       "      <td>Dead Animal</td>\n",
       "      <td>Dead Animal</td>\n",
       "    </tr>\n",
       "    <tr>\n",
       "      <th>25635</th>\n",
       "      <td>Shared Mobility Device</td>\n",
       "      <td>Shared Mobility Device</td>\n",
       "    </tr>\n",
       "    <tr>\n",
       "      <th>36996</th>\n",
       "      <td>Development Services - Code Enforcement</td>\n",
       "      <td>Development Services - Code Enforcement</td>\n",
       "    </tr>\n",
       "    <tr>\n",
       "      <th>107038</th>\n",
       "      <td>Right-of-Way Code Enforcement</td>\n",
       "      <td>Right-of-Way Code Enforcement</td>\n",
       "    </tr>\n",
       "    <tr>\n",
       "      <th>167818</th>\n",
       "      <td>Oversized Vehicle</td>\n",
       "      <td>Oversized Vehicle</td>\n",
       "    </tr>\n",
       "    <tr>\n",
       "      <th>246874</th>\n",
       "      <td>ROW Maintenance</td>\n",
       "      <td>Illegal Dumping</td>\n",
       "    </tr>\n",
       "  </tbody>\n",
       "</table>\n",
       "</div>"
      ],
      "text/plain": [
       "                                   service_name  \\\n",
       "0                          Pavement Maintenance   \n",
       "4                          Pavement Maintenance   \n",
       "22                        Sidewalk Repair Issue   \n",
       "50                                   Stormwater   \n",
       "79                                   Stormwater   \n",
       "130                                     Pothole   \n",
       "175                             Street Sweeping   \n",
       "298                              Street Flooded   \n",
       "384                            Tree Maintenance   \n",
       "468                            Tree Maintenance   \n",
       "537                                Weed Cleanup   \n",
       "651                         Traffic Engineering   \n",
       "652                           Missed Collection   \n",
       "659                            Tree Maintenance   \n",
       "663                    Traffic Sign Maintenance   \n",
       "684               Right-of-Way Code Enforcement   \n",
       "768                             ROW Maintenance   \n",
       "769                            Tree Maintenance   \n",
       "879                  Trash/Recycling Collection   \n",
       "884                    Street Light Maintenance   \n",
       "891                    Street Light Maintenance   \n",
       "908                            Tree Maintenance   \n",
       "1041                       Traffic Signal Issue   \n",
       "1149                      Traffic Signal Timing   \n",
       "1195                       Traffic Signal Issue   \n",
       "1303                          Missed Collection   \n",
       "1707                   Street Light Maintenance   \n",
       "2152                            Illegal Dumping   \n",
       "2226                                   Graffiti   \n",
       "2291                  Waste on Private Property   \n",
       "2833     Environmental Services Code Compliance   \n",
       "3060     Environmental Services Code Compliance   \n",
       "3178                                    Parking   \n",
       "3608                       Traffic Signal Issue   \n",
       "4294                                 Encampment   \n",
       "4513    Development Services - Code Enforcement   \n",
       "4587                            Illegal Dumping   \n",
       "4979                                      Other   \n",
       "4987                Graffiti - Code Enforcement   \n",
       "5785                Stormwater Code Enforcement   \n",
       "5953     Environmental Services Code Compliance   \n",
       "7765                       Traffic Signal Issue   \n",
       "10262                                   Parking   \n",
       "10882                                   Parking   \n",
       "12095                Trash/Recycling Collection   \n",
       "16411               Stormwater Code Enforcement   \n",
       "17884                                  COVID-19   \n",
       "25244                               Dead Animal   \n",
       "25635                    Shared Mobility Device   \n",
       "36996   Development Services - Code Enforcement   \n",
       "107038            Right-of-Way Code Enforcement   \n",
       "167818                        Oversized Vehicle   \n",
       "246874                          ROW Maintenance   \n",
       "\n",
       "                                         detailed_type  \n",
       "0                                 Pavement Maintenance  \n",
       "4                               Resurfacing Evaluation  \n",
       "22                               Sidewalk Repair Issue  \n",
       "50                                         Drain Inlet  \n",
       "79                                          Stormwater  \n",
       "130                                            Pothole  \n",
       "175                                    Street Sweeping  \n",
       "298                                     Street Flooded  \n",
       "384     Tree Trimming for Pedestrian/Vehicle Clearance  \n",
       "468                                       Tree Removal  \n",
       "537                                       Weed Cleanup  \n",
       "651                                Traffic Engineering  \n",
       "652                                  Missed Collection  \n",
       "659                                   Trimming Request  \n",
       "663                           Traffic Sign Maintenance  \n",
       "684                            Vegetation Encroachment  \n",
       "768                                    ROW Maintenance  \n",
       "769                           Fallen/Hanging Tree Limb  \n",
       "879                         Trash/Recycling Collection  \n",
       "884                        Street Light Out of Service  \n",
       "891                          Damaged/Knocked Over Pole  \n",
       "908                                   Tree Maintenance  \n",
       "1041                         Damaged/Knocked Over Pole  \n",
       "1149                             Traffic Signal Timing  \n",
       "1195                     Traffic Signal Out of Service  \n",
       "1303                       Potential Missed Collection  \n",
       "1707                          Street Light Maintenance  \n",
       "2152                                   Illegal Dumping  \n",
       "2226                                  Graffiti Removal  \n",
       "2291                         Waste on Private Property  \n",
       "2833            Environmental Services Code Compliance  \n",
       "3060                                Container Left Out  \n",
       "3178                                 72 Hour Violation  \n",
       "3608                              Traffic Signal Issue  \n",
       "4294                                        Encampment  \n",
       "4513                            Quality of Life Issues  \n",
       "4587                                            Litter  \n",
       "4979                                             Other  \n",
       "4987                     Graffiti Removal - Commercial  \n",
       "5785                   Stormwater Pollution Prevention  \n",
       "5953                                      Encroachment  \n",
       "7765                    Flashing Traffic Signal Lights  \n",
       "10262                           Parking Zone Violation  \n",
       "10882                                          Parking  \n",
       "12095                               Container Out Late  \n",
       "16411                      Stormwater Code Enforcement  \n",
       "17884                                         COVID-19  \n",
       "25244                                      Dead Animal  \n",
       "25635                           Shared Mobility Device  \n",
       "36996          Development Services - Code Enforcement  \n",
       "107038                   Right-of-Way Code Enforcement  \n",
       "167818                               Oversized Vehicle  \n",
       "246874                                 Illegal Dumping  "
      ]
     },
     "execution_count": 179,
     "metadata": {},
     "output_type": "execute_result"
    }
   ],
   "source": [
    "categories_df"
   ]
  },
  {
   "cell_type": "code",
   "execution_count": null,
   "id": "085b6efb-3a49-43d8-bbd6-99501cd56b29",
   "metadata": {},
   "outputs": [],
   "source": []
  },
  {
   "cell_type": "code",
   "execution_count": null,
   "id": "9dd1c0cb-01d8-4283-b1dc-4c263c1101bd",
   "metadata": {},
   "outputs": [],
   "source": []
  },
  {
   "cell_type": "code",
   "execution_count": null,
   "id": "c21c7891-0a0b-45aa-aa8b-4a0527e572bb",
   "metadata": {},
   "outputs": [],
   "source": []
  },
  {
   "cell_type": "code",
   "execution_count": null,
   "id": "38428476-b0e6-47e5-9b77-6b3a4a076364",
   "metadata": {},
   "outputs": [],
   "source": []
  },
  {
   "cell_type": "code",
   "execution_count": null,
   "id": "7e0ce315-d37a-43f1-8ba4-2cd899176073",
   "metadata": {},
   "outputs": [],
   "source": []
  },
  {
   "cell_type": "markdown",
   "id": "ea8a44c6-9a50-442c-ad93-5e576d7c387e",
   "metadata": {},
   "source": [
    "## 6. Building a Pipeline"
   ]
  },
  {
   "cell_type": "markdown",
   "id": "fc797a3c-0454-4fad-aa49-2fa0f26e4792",
   "metadata": {},
   "source": [
    "### a. Picking Pipeline"
   ]
  },
  {
   "cell_type": "code",
   "execution_count": null,
   "id": "4179403d-22cb-4d99-970a-2d6f47817dd1",
   "metadata": {},
   "outputs": [],
   "source": []
  }
 ],
 "metadata": {
  "kernelspec": {
   "display_name": "Python 3 (ipykernel)",
   "language": "python",
   "name": "python3"
  },
  "language_info": {
   "codemirror_mode": {
    "name": "ipython",
    "version": 3
   },
   "file_extension": ".py",
   "mimetype": "text/x-python",
   "name": "python",
   "nbconvert_exporter": "python",
   "pygments_lexer": "ipython3",
   "version": "3.9.12"
  }
 },
 "nbformat": 4,
 "nbformat_minor": 5
}
