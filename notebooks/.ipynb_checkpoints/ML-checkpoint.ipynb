{
 "cells": [
  {
   "cell_type": "markdown",
   "id": "cfb18db7-614a-4e1c-89f3-07c044e1538a",
   "metadata": {},
   "source": [
    "# Creating ML Model for 311 Analysis"
   ]
  },
  {
   "cell_type": "markdown",
   "id": "0a77a107-4005-4b14-b1c8-f6844e30d846",
   "metadata": {},
   "source": [
    "## 0. Import Packages and Data"
   ]
  },
  {
   "cell_type": "code",
   "execution_count": 556,
   "id": "067c7d04-548c-4660-b962-13a99408afe6",
   "metadata": {},
   "outputs": [],
   "source": [
    "import pandas as pd\n",
    "import numpy as np\n",
    "from matplotlib import pyplot as plt\n",
    "import seaborn as sns\n",
    "from datetime import datetime\n",
    "from sklearn.model_selection import train_test_split"
   ]
  },
  {
   "cell_type": "code",
   "execution_count": 557,
   "id": "2490e952-4b92-4999-b43f-f52667d03c4d",
   "metadata": {},
   "outputs": [],
   "source": [
    "requests_21 = pd.read_csv('../data/2021_closed_requests.csv', low_memory=False)\n",
    "requests_22 = pd.read_csv('../data/2022_closed_requests.csv', low_memory=False)"
   ]
  },
  {
   "cell_type": "markdown",
   "id": "3048d73c-812c-4ea6-85fa-094daaa07701",
   "metadata": {
    "tags": []
   },
   "source": [
    "## 1. Data Exploration and Cleaning"
   ]
  },
  {
   "cell_type": "markdown",
   "id": "ea9e829e-800b-416e-85d2-b1e56e48e599",
   "metadata": {},
   "source": [
    "### Investigate number of data points"
   ]
  },
  {
   "cell_type": "code",
   "execution_count": 558,
   "id": "b49d7b53-c017-4dd2-af50-c38c2564dad8",
   "metadata": {},
   "outputs": [
    {
     "name": "stdout",
     "output_type": "stream",
     "text": [
      "Shape of 2021 data: (359090, 23)\n",
      "Shape of 2022 data: (348924, 23)\n"
     ]
    }
   ],
   "source": [
    "print(\"Shape of 2021 data:\", requests_21.shape)\n",
    "print(\"Shape of 2022 data:\", requests_22.shape)"
   ]
  },
  {
   "cell_type": "markdown",
   "id": "9bb58127-1a07-4a1a-ad4b-42e861df1f68",
   "metadata": {
    "tags": []
   },
   "source": [
    "### Check for null values in all columns\n",
    "- 2021"
   ]
  },
  {
   "cell_type": "code",
   "execution_count": 559,
   "id": "3a211edf-9f7a-466f-b15a-e0ff3c151254",
   "metadata": {
    "tags": []
   },
   "outputs": [
    {
     "data": {
      "text/plain": [
       "service_request_id                0\n",
       "service_request_parent_id    320300\n",
       "sap_notification_number      312452\n",
       "date_requested                    0\n",
       "case_age_days                     8\n",
       "case_record_type                  0\n",
       "service_name                      0\n",
       "service_name_detail          110504\n",
       "date_closed                       8\n",
       "status                            0\n",
       "lat                            2609\n",
       "lng                            2609\n",
       "street_address                  534\n",
       "zipcode                      125914\n",
       "council_district               2925\n",
       "comm_plan_code                 2984\n",
       "comm_plan_name                 2984\n",
       "park_name                    340158\n",
       "case_origin                      34\n",
       "referred                     297104\n",
       "iamfloc                      166284\n",
       "floc                         166145\n",
       "public_description            25982\n",
       "dtype: int64"
      ]
     },
     "execution_count": 559,
     "metadata": {},
     "output_type": "execute_result"
    }
   ],
   "source": [
    "requests_21.isna().sum()"
   ]
  },
  {
   "cell_type": "markdown",
   "id": "22fe278c-5b06-4612-b9dc-0a40bfd087c7",
   "metadata": {},
   "source": [
    "### Explore each Column"
   ]
  },
  {
   "cell_type": "code",
   "execution_count": 560,
   "id": "f2cba179-594d-411d-bcc3-0ba99e197542",
   "metadata": {
    "tags": []
   },
   "outputs": [
    {
     "name": "stdout",
     "output_type": "stream",
     "text": [
      "<class 'pandas.core.frame.DataFrame'>\n",
      "RangeIndex: 359090 entries, 0 to 359089\n",
      "Data columns (total 23 columns):\n",
      " #   Column                     Non-Null Count   Dtype  \n",
      "---  ------                     --------------   -----  \n",
      " 0   service_request_id         359090 non-null  int64  \n",
      " 1   service_request_parent_id  38790 non-null   float64\n",
      " 2   sap_notification_number    46638 non-null   float64\n",
      " 3   date_requested             359090 non-null  object \n",
      " 4   case_age_days              359082 non-null  float64\n",
      " 5   case_record_type           359090 non-null  object \n",
      " 6   service_name               359090 non-null  object \n",
      " 7   service_name_detail        248586 non-null  object \n",
      " 8   date_closed                359082 non-null  object \n",
      " 9   status                     359090 non-null  object \n",
      " 10  lat                        356481 non-null  float64\n",
      " 11  lng                        356481 non-null  float64\n",
      " 12  street_address             358556 non-null  object \n",
      " 13  zipcode                    233176 non-null  object \n",
      " 14  council_district           356165 non-null  float64\n",
      " 15  comm_plan_code             356106 non-null  float64\n",
      " 16  comm_plan_name             356106 non-null  object \n",
      " 17  park_name                  18932 non-null   object \n",
      " 18  case_origin                359056 non-null  object \n",
      " 19  referred                   61986 non-null   object \n",
      " 20  iamfloc                    192806 non-null  object \n",
      " 21  floc                       192945 non-null  object \n",
      " 22  public_description         333108 non-null  object \n",
      "dtypes: float64(7), int64(1), object(15)\n",
      "memory usage: 63.0+ MB\n"
     ]
    }
   ],
   "source": [
    "requests_21.info()"
   ]
  },
  {
   "cell_type": "markdown",
   "id": "2a03cdd3-5c61-43c4-b4a9-54e51cbd2c8c",
   "metadata": {},
   "source": [
    "### Drop columns that will not be used"
   ]
  },
  {
   "cell_type": "code",
   "execution_count": 561,
   "id": "443532aa-6022-4ce2-ac27-67a8f8dd933f",
   "metadata": {},
   "outputs": [],
   "source": [
    "requests_21 = requests_21.drop(['service_request_id','sap_notification_number','case_record_type','date_closed','status','lat','lng','street_address','zipcode','comm_plan_code','comm_plan_name','referred','iamfloc','floc'], axis=1)"
   ]
  },
  {
   "cell_type": "markdown",
   "id": "165072d2-9e56-4adf-9b6f-56d3edbcb44b",
   "metadata": {},
   "source": [
    "#### 1: service_request_parent_id\n",
    "- indicates duplicate requests\n",
    "- ONLY kept null values"
   ]
  },
  {
   "cell_type": "code",
   "execution_count": 449,
   "id": "e30abba1-8c19-4df4-a397-dd6c2780e9f5",
   "metadata": {},
   "outputs": [
    {
     "name": "stdout",
     "output_type": "stream",
     "text": [
      "number unique values: 23827\n",
      "number all values: 38790\n"
     ]
    }
   ],
   "source": [
    "print(\"number unique values:\", len(requests_21[requests_21[['service_request_parent_id']].notnull().all(1)]['service_request_parent_id'].unique()))\n",
    "print(\"number all values:\", len(requests_21[requests_21[['service_request_parent_id']].notnull().all(1)]['service_request_parent_id']))"
   ]
  },
  {
   "cell_type": "code",
   "execution_count": 450,
   "id": "5b40817f-a482-40a0-b43b-3493e629a61e",
   "metadata": {},
   "outputs": [
    {
     "data": {
      "text/plain": [
       "3490150.0    54\n",
       "3307021.0    47\n",
       "3563597.0    37\n",
       "3254256.0    30\n",
       "3405317.0    28\n",
       "             ..\n",
       "3358784.0     2\n",
       "3302213.0     2\n",
       "3165462.0     2\n",
       "3341282.0     2\n",
       "3017238.0     2\n",
       "Name: service_request_parent_id, Length: 7136, dtype: int64"
      ]
     },
     "execution_count": 450,
     "metadata": {},
     "output_type": "execute_result"
    }
   ],
   "source": [
    "requests_21[requests_21[['service_request_parent_id']].notnull().all(1)]['service_request_parent_id'].value_counts().loc[lambda x : x != 1]"
   ]
  },
  {
   "cell_type": "code",
   "execution_count": 451,
   "id": "64c2d229-0d7a-4c4b-9f4a-64c591ef6c9e",
   "metadata": {
    "tags": []
   },
   "outputs": [],
   "source": [
    "requests_21['service_request_parent_id'].fillna(0, inplace = True)"
   ]
  },
  {
   "cell_type": "code",
   "execution_count": 452,
   "id": "75b36958-d700-47c0-a50a-a4d62c45ced1",
   "metadata": {},
   "outputs": [],
   "source": [
    "requests_21 = requests_21[requests_21['service_request_parent_id'] == 0]"
   ]
  },
  {
   "cell_type": "code",
   "execution_count": 453,
   "id": "b658f12f-718b-4db4-8765-6212bf5b38ff",
   "metadata": {},
   "outputs": [],
   "source": [
    "#drop service_request_parent_id, no longer contains valuable info"
   ]
  },
  {
   "cell_type": "code",
   "execution_count": 454,
   "id": "7058715d-b090-49ae-b1a4-e3f1651ed07c",
   "metadata": {},
   "outputs": [],
   "source": [
    "requests_21.drop(labels='service_request_parent_id', axis=1, inplace=True)"
   ]
  },
  {
   "cell_type": "markdown",
   "id": "d04b7025-f2e5-4984-9350-694b2fdec0c1",
   "metadata": {},
   "source": [
    "#### 2: sap_notification_number\n",
    "- mostly null values\n",
    "- mostly unique"
   ]
  },
  {
   "cell_type": "code",
   "execution_count": 455,
   "id": "b0843c02-614f-49a4-84a7-0e58a2d13fe3",
   "metadata": {},
   "outputs": [
    {
     "data": {
      "text/plain": [
       "4.030046e+10    2\n",
       "4.030038e+10    2\n",
       "4.030000e+10    1\n",
       "4.030046e+10    1\n",
       "4.030046e+10    1\n",
       "               ..\n",
       "4.030039e+10    1\n",
       "4.030039e+10    1\n",
       "4.030039e+10    1\n",
       "4.030039e+10    1\n",
       "4.030000e+10    1\n",
       "Name: sap_notification_number, Length: 46556, dtype: int64"
      ]
     },
     "execution_count": 455,
     "metadata": {},
     "output_type": "execute_result"
    }
   ],
   "source": [
    "requests_21['sap_notification_number'].value_counts()"
   ]
  },
  {
   "cell_type": "code",
   "execution_count": 456,
   "id": "27c604b3-0621-47fc-b4ae-1e8069ae7df0",
   "metadata": {},
   "outputs": [],
   "source": [
    "#drop this column\n",
    "requests_21.drop(labels = 'sap_notification_number', axis=1, inplace=True)"
   ]
  },
  {
   "cell_type": "markdown",
   "id": "2fd7d7a7-ddf5-4aa0-add1-e231aa69f66e",
   "metadata": {},
   "source": [
    "#### 3: date_requested\n",
    "- no null values\n",
    "- possibly keep month only?"
   ]
  },
  {
   "cell_type": "code",
   "execution_count": 457,
   "id": "5b9ccfcc-7541-4b42-8b2a-3290c44b441a",
   "metadata": {},
   "outputs": [],
   "source": [
    "# create vectorized strptime function to use in pandas\n",
    "vectorized_strptime = np.vectorize(datetime.strptime)"
   ]
  },
  {
   "cell_type": "code",
   "execution_count": 458,
   "id": "cb37ca1f-76ba-4209-a623-9f7d615583bd",
   "metadata": {},
   "outputs": [],
   "source": [
    "# apply vectorized strptime function to df\n",
    "requests_21['clean_date_requested'] = vectorized_strptime(requests_21['date_requested'], '%Y-%m-%dT%H:%M:00')"
   ]
  },
  {
   "cell_type": "code",
   "execution_count": 459,
   "id": "2476e2f5-69fe-4d09-bb02-83fe50097ca5",
   "metadata": {},
   "outputs": [
    {
     "data": {
      "text/plain": [
       "0        2016-08-17 16:40:00\n",
       "2        2016-08-18 04:17:00\n",
       "3        2016-08-18 09:23:00\n",
       "4        2016-08-21 12:19:00\n",
       "5        2016-08-22 10:10:00\n",
       "                 ...        \n",
       "359085   2016-08-10 16:41:00\n",
       "359086   2016-08-11 14:10:00\n",
       "359087   2016-08-15 02:50:00\n",
       "359088   2016-08-15 17:18:00\n",
       "359089   2016-08-16 17:15:00\n",
       "Name: clean_date_requested, Length: 320300, dtype: datetime64[ns]"
      ]
     },
     "execution_count": 459,
     "metadata": {},
     "output_type": "execute_result"
    }
   ],
   "source": [
    "requests_21['clean_date_requested']"
   ]
  },
  {
   "cell_type": "code",
   "execution_count": 460,
   "id": "b00a4d5d-b2e3-48e5-98ce-d958a045eabd",
   "metadata": {},
   "outputs": [],
   "source": [
    "#drop original date_requested column\n",
    "requests_21.drop(labels='date_requested', axis=1, inplace=True)"
   ]
  },
  {
   "cell_type": "code",
   "execution_count": 461,
   "id": "b5c0b8ad-6320-4435-a587-674aa9b19ec7",
   "metadata": {},
   "outputs": [
    {
     "data": {
      "text/plain": [
       "Index(['service_request_id', 'case_age_days', 'case_record_type',\n",
       "       'service_name', 'service_name_detail', 'date_closed', 'status', 'lat',\n",
       "       'lng', 'street_address', 'zipcode', 'council_district',\n",
       "       'comm_plan_code', 'comm_plan_name', 'park_name', 'case_origin',\n",
       "       'referred', 'iamfloc', 'floc', 'public_description',\n",
       "       'clean_date_requested'],\n",
       "      dtype='object')"
      ]
     },
     "execution_count": 461,
     "metadata": {},
     "output_type": "execute_result"
    }
   ],
   "source": [
    "requests_21.columns"
   ]
  },
  {
   "cell_type": "code",
   "execution_count": 462,
   "id": "f05da425-1af0-4e46-b16d-7e8d0030e187",
   "metadata": {},
   "outputs": [],
   "source": [
    "# requests_21.columns = ['service_request_id', 'case_age_days',\n",
    "#        'case_record_type', 'service_name', 'service_name_detail',\n",
    "#        'date_closed', 'status', 'lat', 'lng', 'street_address', 'zipcode',\n",
    "#        'council_district', 'comm_plan_code', 'comm_plan_name', 'park_name',\n",
    "#        'case_origin', 'referred', 'iamfloc', 'floc', 'public_description',\n",
    "#        'date_requested']"
   ]
  },
  {
   "cell_type": "code",
   "execution_count": 463,
   "id": "72e29666-5f29-4137-af8a-b1c81f0c3699",
   "metadata": {},
   "outputs": [],
   "source": [
    "# requests_21 = requests_21[['service_request_id', 'date_requested', 'case_age_days',\n",
    "#        'case_record_type', 'service_name', 'service_name_detail',\n",
    "#        'date_closed', 'status', 'lat', 'lng', 'street_address', 'zipcode',\n",
    "#        'council_district', 'comm_plan_code', 'comm_plan_name', 'park_name',\n",
    "#        'case_origin', 'referred', 'iamfloc', 'floc', 'public_description',\n",
    "#        ]]"
   ]
  },
  {
   "cell_type": "code",
   "execution_count": 464,
   "id": "ee3d080f-2f76-4841-943e-f84d061edf6e",
   "metadata": {},
   "outputs": [
    {
     "data": {
      "text/html": [
       "<div>\n",
       "<style scoped>\n",
       "    .dataframe tbody tr th:only-of-type {\n",
       "        vertical-align: middle;\n",
       "    }\n",
       "\n",
       "    .dataframe tbody tr th {\n",
       "        vertical-align: top;\n",
       "    }\n",
       "\n",
       "    .dataframe thead th {\n",
       "        text-align: right;\n",
       "    }\n",
       "</style>\n",
       "<table border=\"1\" class=\"dataframe\">\n",
       "  <thead>\n",
       "    <tr style=\"text-align: right;\">\n",
       "      <th></th>\n",
       "      <th>service_request_id</th>\n",
       "      <th>case_age_days</th>\n",
       "      <th>case_record_type</th>\n",
       "      <th>service_name</th>\n",
       "      <th>service_name_detail</th>\n",
       "      <th>date_closed</th>\n",
       "      <th>status</th>\n",
       "      <th>lat</th>\n",
       "      <th>lng</th>\n",
       "      <th>street_address</th>\n",
       "      <th>...</th>\n",
       "      <th>council_district</th>\n",
       "      <th>comm_plan_code</th>\n",
       "      <th>comm_plan_name</th>\n",
       "      <th>park_name</th>\n",
       "      <th>case_origin</th>\n",
       "      <th>referred</th>\n",
       "      <th>iamfloc</th>\n",
       "      <th>floc</th>\n",
       "      <th>public_description</th>\n",
       "      <th>clean_date_requested</th>\n",
       "    </tr>\n",
       "  </thead>\n",
       "  <tbody>\n",
       "    <tr>\n",
       "      <th>0</th>\n",
       "      <td>100123</td>\n",
       "      <td>1654.0</td>\n",
       "      <td>TSW</td>\n",
       "      <td>Pavement Maintenance</td>\n",
       "      <td>CONCRETE PAVEMENT REPAIR ISSUE</td>\n",
       "      <td>2021-02-26</td>\n",
       "      <td>Closed</td>\n",
       "      <td>33.046348</td>\n",
       "      <td>-117.050223</td>\n",
       "      <td>18728 Olmeda Place, San Diego, CA, United States</td>\n",
       "      <td>...</td>\n",
       "      <td>5.0</td>\n",
       "      <td>31.0</td>\n",
       "      <td>Rancho Bernardo</td>\n",
       "      <td>NaN</td>\n",
       "      <td>Web</td>\n",
       "      <td>NaN</td>\n",
       "      <td>SS-020515-PV1</td>\n",
       "      <td>SS-020515</td>\n",
       "      <td>We have a cement street it is buckling and one...</td>\n",
       "      <td>2016-08-17 16:40:00</td>\n",
       "    </tr>\n",
       "    <tr>\n",
       "      <th>2</th>\n",
       "      <td>100194</td>\n",
       "      <td>1652.0</td>\n",
       "      <td>TSW</td>\n",
       "      <td>Pavement Maintenance</td>\n",
       "      <td>DAMAGED CURB</td>\n",
       "      <td>2021-02-25</td>\n",
       "      <td>Closed</td>\n",
       "      <td>32.796554</td>\n",
       "      <td>-117.197062</td>\n",
       "      <td>4812 Jumano Ave, San Diego, CA, United States</td>\n",
       "      <td>...</td>\n",
       "      <td>2.0</td>\n",
       "      <td>6.0</td>\n",
       "      <td>Clairemont Mesa</td>\n",
       "      <td>NaN</td>\n",
       "      <td>Web</td>\n",
       "      <td>NaN</td>\n",
       "      <td>SS-014744-PV1</td>\n",
       "      <td>SS-014744</td>\n",
       "      <td>curb cracked, please fill\\ngutter joint depres...</td>\n",
       "      <td>2016-08-18 04:17:00</td>\n",
       "    </tr>\n",
       "  </tbody>\n",
       "</table>\n",
       "<p>2 rows × 21 columns</p>\n",
       "</div>"
      ],
      "text/plain": [
       "   service_request_id  case_age_days case_record_type          service_name  \\\n",
       "0              100123         1654.0              TSW  Pavement Maintenance   \n",
       "2              100194         1652.0              TSW  Pavement Maintenance   \n",
       "\n",
       "              service_name_detail date_closed  status        lat         lng  \\\n",
       "0  CONCRETE PAVEMENT REPAIR ISSUE  2021-02-26  Closed  33.046348 -117.050223   \n",
       "2                    DAMAGED CURB  2021-02-25  Closed  32.796554 -117.197062   \n",
       "\n",
       "                                     street_address  ... council_district  \\\n",
       "0  18728 Olmeda Place, San Diego, CA, United States  ...              5.0   \n",
       "2     4812 Jumano Ave, San Diego, CA, United States  ...              2.0   \n",
       "\n",
       "   comm_plan_code   comm_plan_name park_name case_origin referred  \\\n",
       "0            31.0  Rancho Bernardo       NaN         Web      NaN   \n",
       "2             6.0  Clairemont Mesa       NaN         Web      NaN   \n",
       "\n",
       "         iamfloc       floc  \\\n",
       "0  SS-020515-PV1  SS-020515   \n",
       "2  SS-014744-PV1  SS-014744   \n",
       "\n",
       "                                  public_description clean_date_requested  \n",
       "0  We have a cement street it is buckling and one...  2016-08-17 16:40:00  \n",
       "2  curb cracked, please fill\\ngutter joint depres...  2016-08-18 04:17:00  \n",
       "\n",
       "[2 rows x 21 columns]"
      ]
     },
     "execution_count": 464,
     "metadata": {},
     "output_type": "execute_result"
    }
   ],
   "source": [
    "requests_21.head(2)"
   ]
  },
  {
   "cell_type": "markdown",
   "id": "1cc00a43-04ee-44c7-88c3-ef5959c59200",
   "metadata": {},
   "source": [
    "#### 4: case_age_days\n",
    "- this column is key and will be the 'y' column in the ML algorithm\n",
    "- float64\n",
    "- drop all with null values (there are only 7)"
   ]
  },
  {
   "cell_type": "code",
   "execution_count": 465,
   "id": "e3b59198-9992-4fa8-b3fd-1f17e782bd01",
   "metadata": {},
   "outputs": [],
   "source": [
    "#drop null values\n",
    "requests_21 = requests_21.dropna(subset=['case_age_days'])"
   ]
  },
  {
   "cell_type": "code",
   "execution_count": 466,
   "id": "495606fb-48b3-45ab-b1f4-33cac1612fa7",
   "metadata": {},
   "outputs": [
    {
     "data": {
      "text/plain": [
       "False"
      ]
     },
     "execution_count": 466,
     "metadata": {},
     "output_type": "execute_result"
    }
   ],
   "source": [
    "requests_21['case_age_days'].isna().any()"
   ]
  },
  {
   "cell_type": "code",
   "execution_count": 467,
   "id": "936a3991-3834-4660-9b10-c165bb0f68ce",
   "metadata": {},
   "outputs": [
    {
     "data": {
      "text/plain": [
       "0.0       108974\n",
       "1.0        30152\n",
       "2.0        14714\n",
       "3.0        11552\n",
       "4.0         8622\n",
       "           ...  \n",
       "1571.0         1\n",
       "1570.0         1\n",
       "1666.0         1\n",
       "1662.0         1\n",
       "1844.0         1\n",
       "Name: case_age_days, Length: 1634, dtype: int64"
      ]
     },
     "execution_count": 467,
     "metadata": {},
     "output_type": "execute_result"
    }
   ],
   "source": [
    "requests_21['case_age_days'].value_counts()"
   ]
  },
  {
   "cell_type": "markdown",
   "id": "c75fec1f-1965-4e7b-a74e-dd41b0196cd2",
   "metadata": {},
   "source": [
    "#### 5: case_record_type"
   ]
  },
  {
   "cell_type": "code",
   "execution_count": 468,
   "id": "c416c651-1bfe-441d-ad75-63c44e2d6c7e",
   "metadata": {},
   "outputs": [
    {
     "data": {
      "text/plain": [
       "ESD Complaint/Report            142767\n",
       "TSW                              97803\n",
       "Parking                          45031\n",
       "Neighborhood Policing            25491\n",
       "Storm Water Code Enforcement      3191\n",
       "Traffic Engineering               2673\n",
       "TSW ROW                           1682\n",
       "DSD                               1040\n",
       "Special Situation                  615\n",
       "Name: case_record_type, dtype: int64"
      ]
     },
     "execution_count": 468,
     "metadata": {},
     "output_type": "execute_result"
    }
   ],
   "source": [
    "requests_21['case_record_type'].value_counts()"
   ]
  },
  {
   "cell_type": "code",
   "execution_count": 469,
   "id": "e8048c8b-9def-4f6e-8feb-7c23329b3997",
   "metadata": {},
   "outputs": [],
   "source": [
    "requests_21['case_record_type'] = np.where(requests_21['case_record_type'] == 'TSW', \"Transportation\", requests_21['case_record_type'])\n",
    "requests_21['case_record_type'] = np.where(requests_21['case_record_type'] == 'TSW ROW', \"Transportation - Right-of-Way\", requests_21['case_record_type'])\n",
    "requests_21['case_record_type'] = np.where(requests_21['case_record_type'] == 'ESD Complaint/Report', \"Environmental Services Department\", requests_21['case_record_type'])\n",
    "requests_21['case_record_type'] = np.where(requests_21['case_record_type'] == 'DSD', \"Development Services\", requests_21['case_record_type'])"
   ]
  },
  {
   "cell_type": "code",
   "execution_count": 470,
   "id": "1e5b7bd8-2b1d-412d-b18d-10cf47276997",
   "metadata": {},
   "outputs": [
    {
     "data": {
      "text/plain": [
       "Environmental Services Department    142767\n",
       "Transportation                        97803\n",
       "Parking                               45031\n",
       "Neighborhood Policing                 25491\n",
       "Storm Water Code Enforcement           3191\n",
       "Traffic Engineering                    2673\n",
       "Transportation - Right-of-Way          1682\n",
       "Development Services                   1040\n",
       "Special Situation                       615\n",
       "Name: case_record_type, dtype: int64"
      ]
     },
     "execution_count": 470,
     "metadata": {},
     "output_type": "execute_result"
    }
   ],
   "source": [
    "requests_21['case_record_type'].value_counts()"
   ]
  },
  {
   "cell_type": "code",
   "execution_count": 471,
   "id": "5f099ad3-dc5d-468f-8561-0487afccc65a",
   "metadata": {},
   "outputs": [
    {
     "data": {
      "text/plain": [
       "Encampment           25297\n",
       "Oversized Vehicle      191\n",
       "Other                    3\n",
       "Name: service_name, dtype: int64"
      ]
     },
     "execution_count": 471,
     "metadata": {},
     "output_type": "execute_result"
    }
   ],
   "source": [
    "requests_21[requests_21.case_record_type == 'Neighborhood Policing']['service_name'].value_counts()"
   ]
  },
  {
   "cell_type": "markdown",
   "id": "e2ecbcc5-6478-48f9-be3b-7ec4e95b774a",
   "metadata": {},
   "source": [
    "#### 6: service_name"
   ]
  },
  {
   "cell_type": "code",
   "execution_count": 472,
   "id": "8b340260-2eaa-4f46-895b-df79f388797a",
   "metadata": {},
   "outputs": [
    {
     "data": {
      "text/plain": [
       "Illegal Dumping                            54943\n",
       "Parking                                    44730\n",
       "Missed Collection                          43231\n",
       "Graffiti                                   33639\n",
       "Encampment                                 29106\n",
       "Shared Mobility Device                     28051\n",
       "Other                                       9500\n",
       "Pothole                                     9464\n",
       "Tree Maintenance                            7918\n",
       "Traffic Signal Issue                        5450\n",
       "Street Light Maintenance                    5376\n",
       "Graffiti - Code Enforcement                 5073\n",
       "Environmental Services Code Compliance      4713\n",
       "Dead Animal                                 3843\n",
       "Traffic Sign Maintenance                    3637\n",
       "Sidewalk Repair Issue                       3520\n",
       "Stormwater Code Enforcement                 3095\n",
       "ROW Maintenance                             3077\n",
       "Traffic Signal Timing                       3052\n",
       "Pavement Maintenance                        2964\n",
       "Trash/Recycling Collection                  2319\n",
       "Traffic Engineering                         2152\n",
       "Waste on Private Property                   2129\n",
       "Street Sweeping                             1960\n",
       "Stormwater                                  1789\n",
       "Right-of-Way Code Enforcement               1681\n",
       "Street Flooded                              1227\n",
       "Development Services - Code Enforcement     1040\n",
       "Weed Cleanup                                 807\n",
       "COVID-19                                     615\n",
       "Oversized Vehicle                            191\n",
       "Homeless Outreach                              1\n",
       "Name: service_name, dtype: int64"
      ]
     },
     "execution_count": 472,
     "metadata": {},
     "output_type": "execute_result"
    }
   ],
   "source": [
    "requests_21['service_name'].value_counts()"
   ]
  },
  {
   "cell_type": "code",
   "execution_count": 473,
   "id": "12c3b360-d559-4060-95d5-358f513523a2",
   "metadata": {},
   "outputs": [
    {
     "data": {
      "text/plain": [
       "0"
      ]
     },
     "execution_count": 473,
     "metadata": {},
     "output_type": "execute_result"
    }
   ],
   "source": [
    "requests_21['service_name'].isna().sum()"
   ]
  },
  {
   "cell_type": "code",
   "execution_count": 474,
   "id": "56723063-ee11-4e94-b2e0-0b76d928ad08",
   "metadata": {},
   "outputs": [],
   "source": [
    "#reclassify the one 'homeless outreach' to 'Encampment' category"
   ]
  },
  {
   "cell_type": "code",
   "execution_count": 475,
   "id": "5ec857e1-2d88-4bc8-b7e1-593c1a07dc4e",
   "metadata": {},
   "outputs": [],
   "source": [
    "requests_21['service_name'] = np.where(requests_21['service_name'] == 'Homeless Outreach', 'Encampment', requests_21['service_name'])"
   ]
  },
  {
   "cell_type": "code",
   "execution_count": 476,
   "id": "f9583185-233d-47c8-91ca-4f6bf44dc6d0",
   "metadata": {},
   "outputs": [
    {
     "data": {
      "text/plain": [
       "Illegal Dumping                            54943\n",
       "Parking                                    44730\n",
       "Missed Collection                          43231\n",
       "Graffiti                                   33639\n",
       "Encampment                                 29107\n",
       "Shared Mobility Device                     28051\n",
       "Other                                       9500\n",
       "Pothole                                     9464\n",
       "Tree Maintenance                            7918\n",
       "Traffic Signal Issue                        5450\n",
       "Street Light Maintenance                    5376\n",
       "Graffiti - Code Enforcement                 5073\n",
       "Environmental Services Code Compliance      4713\n",
       "Dead Animal                                 3843\n",
       "Traffic Sign Maintenance                    3637\n",
       "Sidewalk Repair Issue                       3520\n",
       "Stormwater Code Enforcement                 3095\n",
       "ROW Maintenance                             3077\n",
       "Traffic Signal Timing                       3052\n",
       "Pavement Maintenance                        2964\n",
       "Trash/Recycling Collection                  2319\n",
       "Traffic Engineering                         2152\n",
       "Waste on Private Property                   2129\n",
       "Street Sweeping                             1960\n",
       "Stormwater                                  1789\n",
       "Right-of-Way Code Enforcement               1681\n",
       "Street Flooded                              1227\n",
       "Development Services - Code Enforcement     1040\n",
       "Weed Cleanup                                 807\n",
       "COVID-19                                     615\n",
       "Oversized Vehicle                            191\n",
       "Name: service_name, dtype: int64"
      ]
     },
     "execution_count": 476,
     "metadata": {},
     "output_type": "execute_result"
    }
   ],
   "source": [
    "requests_21['service_name'].value_counts()"
   ]
  },
  {
   "cell_type": "markdown",
   "id": "9e892c9d-1dea-409f-957e-4839e4e024cc",
   "metadata": {},
   "source": [
    "#### 7: service_name_detail\n",
    "- will one-hot encode all those with >500"
   ]
  },
  {
   "cell_type": "code",
   "execution_count": 477,
   "id": "4043da42-bc2a-4d59-8980-4113d229628c",
   "metadata": {},
   "outputs": [],
   "source": [
    "requests_21['service_name_detail'] = requests_21['service_name_detail'].astype(str)"
   ]
  },
  {
   "cell_type": "code",
   "execution_count": 478,
   "id": "2b86023d-da86-48ec-8366-68c09abe83b9",
   "metadata": {},
   "outputs": [
    {
     "data": {
      "text/plain": [
       "150"
      ]
     },
     "execution_count": 478,
     "metadata": {},
     "output_type": "execute_result"
    }
   ],
   "source": [
    "#Find number of unique values\n",
    "len(np.unique(requests_21['service_name_detail']))"
   ]
  },
  {
   "cell_type": "code",
   "execution_count": 479,
   "id": "976eee70-384a-4565-978e-aff28a662950",
   "metadata": {},
   "outputs": [
    {
     "data": {
      "text/plain": [
       "nan                                                95436\n",
       "Illegal Dumping                                    53423\n",
       "Missed Collection                                  39686\n",
       "Graffiti Removal                                   33637\n",
       "72 Hour Violation                                  28582\n",
       "                                                   ...  \n",
       " TEO WO GUARDRAILS/BARRIER METAL/WOODEN                1\n",
       "SIDEWALK/CURB&GUTTER/CONTRACT                          1\n",
       "TRAFFIC SIGNAL BIKE MAINT-SIGNAL LOOP DETECTION        1\n",
       " CIP FINANCE PLAN UPDATE                               1\n",
       "MILL & PAVE TRENCH REPAIRS                             1\n",
       "Name: service_name_detail, Length: 150, dtype: int64"
      ]
     },
     "execution_count": 479,
     "metadata": {},
     "output_type": "execute_result"
    }
   ],
   "source": [
    "requests_21['service_name_detail'].value_counts()"
   ]
  },
  {
   "cell_type": "code",
   "execution_count": 480,
   "id": "0250a29b-3c0f-400b-b1b1-83fdcc56c92f",
   "metadata": {},
   "outputs": [],
   "source": [
    "# Change the strings that say 'nan' to null values\n",
    "requests_21['service_name_detail'] = np.where(requests_21['service_name_detail'] == 'nan', None, requests_21['service_name_detail'])"
   ]
  },
  {
   "cell_type": "code",
   "execution_count": 481,
   "id": "c6f64fc5-e95e-42b2-99fd-912a0a6dcf51",
   "metadata": {},
   "outputs": [
    {
     "data": {
      "text/plain": [
       "Illegal Dumping                           53423\n",
       "Missed Collection                         39686\n",
       "Graffiti Removal                          33637\n",
       "72 Hour Violation                         28582\n",
       "Parking Zone Violation                    15411\n",
       "Graffiti Removal - Commercial              5073\n",
       "STREET LIGHT OUT                           3560\n",
       "Potential Missed Collection                3545\n",
       "CONCRETE SIDEWALK REPAIR ISSUE             2871\n",
       "LIGHTS OUT                                 2644\n",
       "SWPP - Storm Water Polution Prevention     1970\n",
       "EVALUATE TREE FOR REMOVAL                  1859\n",
       "LIGHTS ON FLASH                            1855\n",
       "POLE KNOCK OVER/DAMAGE                     1846\n",
       "LIMB FALLEN OR HANGING                     1715\n",
       "Container Left Out                         1706\n",
       "Vegetation Encroachment                    1639\n",
       "Encroachment                               1591\n",
       "Litter                                     1529\n",
       "DRAIN INLET                                1301\n",
       "Name: service_name_detail, dtype: int64"
      ]
     },
     "execution_count": 481,
     "metadata": {},
     "output_type": "execute_result"
    }
   ],
   "source": [
    "#confirm that strings 'nan' no longer exist\n",
    "requests_21['service_name_detail'].value_counts().head(20)"
   ]
  },
  {
   "cell_type": "code",
   "execution_count": 482,
   "id": "ab716294-00dc-4629-a82f-7130603a215a",
   "metadata": {},
   "outputs": [
    {
     "data": {
      "text/plain": [
       "Stormwater Code Enforcement    1970\n",
       "Name: service_name, dtype: int64"
      ]
     },
     "execution_count": 482,
     "metadata": {},
     "output_type": "execute_result"
    }
   ],
   "source": [
    "requests_21[requests_21['service_name_detail'] == 'SWPP - Storm Water Polution Prevention']['service_name'].value_counts()"
   ]
  },
  {
   "cell_type": "markdown",
   "id": "c8b4e042-e7f2-451b-b662-6917a9c6e302",
   "metadata": {},
   "source": [
    "#### 8: date closed"
   ]
  },
  {
   "cell_type": "code",
   "execution_count": 483,
   "id": "0cc9706d-585a-402b-8e95-ab8e15131d0f",
   "metadata": {},
   "outputs": [
    {
     "data": {
      "text/plain": [
       "2021-06-17    5831\n",
       "2021-08-12    2964\n",
       "2021-07-28    2714\n",
       "2021-08-04    2225\n",
       "2021-02-24    2024\n",
       "              ... \n",
       "2021-12-05      80\n",
       "2021-12-26      74\n",
       "2021-11-14      65\n",
       "2021-11-07      65\n",
       "2021-12-25      27\n",
       "Name: date_closed, Length: 365, dtype: int64"
      ]
     },
     "execution_count": 483,
     "metadata": {},
     "output_type": "execute_result"
    }
   ],
   "source": [
    "requests_21['date_closed'].value_counts()"
   ]
  },
  {
   "cell_type": "code",
   "execution_count": 484,
   "id": "996f1e48-d6c2-49b2-80e0-e4787682ebdf",
   "metadata": {},
   "outputs": [],
   "source": [
    "# apply vectorized strptime function to df\n",
    "requests_21['clean_date_closed'] = vectorized_strptime(requests_21['date_closed'], '%Y-%m-%d')"
   ]
  },
  {
   "cell_type": "code",
   "execution_count": 485,
   "id": "ce1bd899-5c2a-401e-afdc-a230527ea5bd",
   "metadata": {},
   "outputs": [
    {
     "data": {
      "text/plain": [
       "0        2021-02-26\n",
       "2        2021-02-25\n",
       "3        2021-06-04\n",
       "4        2021-09-02\n",
       "5        2021-09-21\n",
       "            ...    \n",
       "359085   2021-10-21\n",
       "359086   2021-09-20\n",
       "359087   2021-09-17\n",
       "359088   2021-10-22\n",
       "359089   2021-09-03\n",
       "Name: clean_date_closed, Length: 320293, dtype: datetime64[ns]"
      ]
     },
     "execution_count": 485,
     "metadata": {},
     "output_type": "execute_result"
    }
   ],
   "source": [
    "requests_21['clean_date_closed']"
   ]
  },
  {
   "cell_type": "code",
   "execution_count": 486,
   "id": "67f0e87d-7ff4-40d9-bd1e-ced1f7a6a674",
   "metadata": {},
   "outputs": [],
   "source": [
    "#drop original date_requested column\n",
    "requests_21.drop(labels='date_closed', axis=1, inplace=True)"
   ]
  },
  {
   "cell_type": "code",
   "execution_count": 487,
   "id": "b0a96832-1379-46a0-b4d8-f7cd29c0a46f",
   "metadata": {},
   "outputs": [
    {
     "data": {
      "text/plain": [
       "Index(['service_request_id', 'case_age_days', 'case_record_type',\n",
       "       'service_name', 'service_name_detail', 'status', 'lat', 'lng',\n",
       "       'street_address', 'zipcode', 'council_district', 'comm_plan_code',\n",
       "       'comm_plan_name', 'park_name', 'case_origin', 'referred', 'iamfloc',\n",
       "       'floc', 'public_description', 'clean_date_requested',\n",
       "       'clean_date_closed'],\n",
       "      dtype='object')"
      ]
     },
     "execution_count": 487,
     "metadata": {},
     "output_type": "execute_result"
    }
   ],
   "source": [
    "requests_21.columns"
   ]
  },
  {
   "cell_type": "code",
   "execution_count": 492,
   "id": "0a8bbd81-acd0-421f-ba82-b3985c7c3c86",
   "metadata": {},
   "outputs": [],
   "source": [
    "requests_21.columns = ['service_request_id', 'date_requested', 'case_age_days',\n",
    "       'case_record_type', 'service_name', 'service_name_detail', 'status',\n",
    "       'lat', 'lng', 'street_address', 'zipcode', 'council_district',\n",
    "       'comm_plan_code', 'comm_plan_name', 'park_name', 'case_origin',\n",
    "       'referred', 'iamfloc', 'floc', 'public_description',\n",
    "       'date_closed']"
   ]
  },
  {
   "cell_type": "code",
   "execution_count": 493,
   "id": "01adc3c6-c4e6-4761-b825-2cc1e827d8c5",
   "metadata": {},
   "outputs": [],
   "source": [
    "# requests_21 = requests_21[['service_request_id', 'date_requested', 'case_age_days',\n",
    "#        'case_record_type', 'service_name', 'service_name_detail', 'date_closed', 'status',\n",
    "#        'lat', 'lng', 'street_address', 'zipcode', 'council_district',\n",
    "#        'comm_plan_code', 'comm_plan_name', 'park_name', 'case_origin',\n",
    "#        'referred', 'iamfloc', 'floc', 'public_description']]"
   ]
  },
  {
   "cell_type": "code",
   "execution_count": 494,
   "id": "e0499306-a082-4b68-b0e3-966822d669d0",
   "metadata": {},
   "outputs": [
    {
     "data": {
      "text/html": [
       "<div>\n",
       "<style scoped>\n",
       "    .dataframe tbody tr th:only-of-type {\n",
       "        vertical-align: middle;\n",
       "    }\n",
       "\n",
       "    .dataframe tbody tr th {\n",
       "        vertical-align: top;\n",
       "    }\n",
       "\n",
       "    .dataframe thead th {\n",
       "        text-align: right;\n",
       "    }\n",
       "</style>\n",
       "<table border=\"1\" class=\"dataframe\">\n",
       "  <thead>\n",
       "    <tr style=\"text-align: right;\">\n",
       "      <th></th>\n",
       "      <th>service_request_id</th>\n",
       "      <th>date_requested</th>\n",
       "      <th>case_age_days</th>\n",
       "      <th>case_record_type</th>\n",
       "      <th>service_name</th>\n",
       "      <th>service_name_detail</th>\n",
       "      <th>status</th>\n",
       "      <th>lat</th>\n",
       "      <th>lng</th>\n",
       "      <th>street_address</th>\n",
       "      <th>...</th>\n",
       "      <th>council_district</th>\n",
       "      <th>comm_plan_code</th>\n",
       "      <th>comm_plan_name</th>\n",
       "      <th>park_name</th>\n",
       "      <th>case_origin</th>\n",
       "      <th>referred</th>\n",
       "      <th>iamfloc</th>\n",
       "      <th>floc</th>\n",
       "      <th>public_description</th>\n",
       "      <th>date_closed</th>\n",
       "    </tr>\n",
       "  </thead>\n",
       "  <tbody>\n",
       "    <tr>\n",
       "      <th>0</th>\n",
       "      <td>100123</td>\n",
       "      <td>1654.0</td>\n",
       "      <td>Transportation</td>\n",
       "      <td>Pavement Maintenance</td>\n",
       "      <td>CONCRETE PAVEMENT REPAIR ISSUE</td>\n",
       "      <td>Closed</td>\n",
       "      <td>33.046348</td>\n",
       "      <td>-117.050223</td>\n",
       "      <td>18728 Olmeda Place, San Diego, CA, United States</td>\n",
       "      <td>NaN</td>\n",
       "      <td>...</td>\n",
       "      <td>31.0</td>\n",
       "      <td>Rancho Bernardo</td>\n",
       "      <td>NaN</td>\n",
       "      <td>Web</td>\n",
       "      <td>NaN</td>\n",
       "      <td>SS-020515-PV1</td>\n",
       "      <td>SS-020515</td>\n",
       "      <td>We have a cement street it is buckling and one...</td>\n",
       "      <td>2016-08-17 16:40:00</td>\n",
       "      <td>2021-02-26</td>\n",
       "    </tr>\n",
       "    <tr>\n",
       "      <th>2</th>\n",
       "      <td>100194</td>\n",
       "      <td>1652.0</td>\n",
       "      <td>Transportation</td>\n",
       "      <td>Pavement Maintenance</td>\n",
       "      <td>DAMAGED CURB</td>\n",
       "      <td>Closed</td>\n",
       "      <td>32.796554</td>\n",
       "      <td>-117.197062</td>\n",
       "      <td>4812 Jumano Ave, San Diego, CA, United States</td>\n",
       "      <td>NaN</td>\n",
       "      <td>...</td>\n",
       "      <td>6.0</td>\n",
       "      <td>Clairemont Mesa</td>\n",
       "      <td>NaN</td>\n",
       "      <td>Web</td>\n",
       "      <td>NaN</td>\n",
       "      <td>SS-014744-PV1</td>\n",
       "      <td>SS-014744</td>\n",
       "      <td>curb cracked, please fill\\ngutter joint depres...</td>\n",
       "      <td>2016-08-18 04:17:00</td>\n",
       "      <td>2021-02-25</td>\n",
       "    </tr>\n",
       "  </tbody>\n",
       "</table>\n",
       "<p>2 rows × 21 columns</p>\n",
       "</div>"
      ],
      "text/plain": [
       "   service_request_id  date_requested   case_age_days      case_record_type  \\\n",
       "0              100123          1654.0  Transportation  Pavement Maintenance   \n",
       "2              100194          1652.0  Transportation  Pavement Maintenance   \n",
       "\n",
       "                     service_name service_name_detail     status         lat  \\\n",
       "0  CONCRETE PAVEMENT REPAIR ISSUE              Closed  33.046348 -117.050223   \n",
       "2                    DAMAGED CURB              Closed  32.796554 -117.197062   \n",
       "\n",
       "                                                lng street_address  ...  \\\n",
       "0  18728 Olmeda Place, San Diego, CA, United States            NaN  ...   \n",
       "2     4812 Jumano Ave, San Diego, CA, United States            NaN  ...   \n",
       "\n",
       "   council_district   comm_plan_code comm_plan_name park_name case_origin  \\\n",
       "0              31.0  Rancho Bernardo            NaN       Web         NaN   \n",
       "2               6.0  Clairemont Mesa            NaN       Web         NaN   \n",
       "\n",
       "        referred    iamfloc  \\\n",
       "0  SS-020515-PV1  SS-020515   \n",
       "2  SS-014744-PV1  SS-014744   \n",
       "\n",
       "                                                floc  public_description  \\\n",
       "0  We have a cement street it is buckling and one... 2016-08-17 16:40:00   \n",
       "2  curb cracked, please fill\\ngutter joint depres... 2016-08-18 04:17:00   \n",
       "\n",
       "  date_closed  \n",
       "0  2021-02-26  \n",
       "2  2021-02-25  \n",
       "\n",
       "[2 rows x 21 columns]"
      ]
     },
     "execution_count": 494,
     "metadata": {},
     "output_type": "execute_result"
    }
   ],
   "source": [
    "requests_21.head(2)"
   ]
  },
  {
   "cell_type": "code",
   "execution_count": 495,
   "id": "7fb4ab56-9536-4b6b-9a0f-caa429ceee3b",
   "metadata": {},
   "outputs": [
    {
     "data": {
      "text/plain": [
       "False"
      ]
     },
     "execution_count": 495,
     "metadata": {},
     "output_type": "execute_result"
    }
   ],
   "source": [
    "requests_21['date_closed'].isna().any()"
   ]
  },
  {
   "cell_type": "code",
   "execution_count": 496,
   "id": "5d7eaeb1-f0a4-408e-b05b-a3a84d5340be",
   "metadata": {},
   "outputs": [],
   "source": [
    "#drop date closed column for modelling\n",
    "requests_21.drop(labels='date_closed', axis=1, inplace=True)"
   ]
  },
  {
   "cell_type": "markdown",
   "id": "25ab9b2e-8e4d-451c-ae46-b6031ed2a527",
   "metadata": {},
   "source": [
    "#### 9: status"
   ]
  },
  {
   "cell_type": "code",
   "execution_count": 497,
   "id": "e78686d1-abe2-4256-b9d3-53676e0dcd7b",
   "metadata": {},
   "outputs": [
    {
     "data": {
      "text/plain": [
       "32.743430    292\n",
       "32.795810    258\n",
       "32.820370    201\n",
       "32.697290    191\n",
       "32.573110    183\n",
       "            ... \n",
       "32.576539      1\n",
       "32.798946      1\n",
       "32.763859      1\n",
       "32.743395      1\n",
       "32.824390      1\n",
       "Name: status, Length: 269438, dtype: int64"
      ]
     },
     "execution_count": 497,
     "metadata": {},
     "output_type": "execute_result"
    }
   ],
   "source": [
    "requests_21['status'].value_counts()"
   ]
  },
  {
   "cell_type": "code",
   "execution_count": 498,
   "id": "a829026c-018d-40e4-bcfe-f78479b4afb4",
   "metadata": {},
   "outputs": [
    {
     "data": {
      "text/plain": [
       "TR-RW            1045\n",
       "TR                791\n",
       "SS-001857         360\n",
       "SS-009756         281\n",
       "SS-016818         220\n",
       "                 ... \n",
       "SS-021934-PV1       1\n",
       "SS-001578           1\n",
       "PL-309219           1\n",
       "PL-321094           1\n",
       "SS-018703-PV1       1\n",
       "Name: referred, Length: 40978, dtype: int64"
      ]
     },
     "execution_count": 498,
     "metadata": {},
     "output_type": "execute_result"
    }
   ],
   "source": [
    "requests_21['referred'].value_counts()"
   ]
  },
  {
   "cell_type": "code",
   "execution_count": 499,
   "id": "729c49d0-9fe7-4da2-af26-5bb973664535",
   "metadata": {},
   "outputs": [],
   "source": [
    "requests_21['referred'] = requests_21['referred'].astype(str)"
   ]
  },
  {
   "cell_type": "code",
   "execution_count": 500,
   "id": "9a8c6136-7fda-44c2-8407-8188a436b698",
   "metadata": {},
   "outputs": [
    {
     "data": {
      "text/plain": [
       "40979"
      ]
     },
     "execution_count": 500,
     "metadata": {},
     "output_type": "execute_result"
    }
   ],
   "source": [
    "#Find number of unique values\n",
    "len(np.unique(requests_21['referred']))"
   ]
  },
  {
   "cell_type": "code",
   "execution_count": 501,
   "id": "6ec968cd-d6e4-4f8f-ba27-9edd4a7aec1b",
   "metadata": {},
   "outputs": [],
   "source": [
    "referred_to_sweepers = requests_21[requests_21['referred'] == 'This report has been referred to Sweep at sd@sweepcrew.com']"
   ]
  },
  {
   "cell_type": "code",
   "execution_count": 502,
   "id": "02d572a8-bc00-43f7-a92f-985bd47c3e82",
   "metadata": {},
   "outputs": [
    {
     "data": {
      "text/plain": [
       "Series([], Name: service_name, dtype: int64)"
      ]
     },
     "execution_count": 502,
     "metadata": {},
     "output_type": "execute_result"
    }
   ],
   "source": [
    "referred_to_sweepers['service_name'].value_counts()"
   ]
  },
  {
   "cell_type": "code",
   "execution_count": 503,
   "id": "492087d1-690c-4e0f-b23e-2ec8ac332389",
   "metadata": {},
   "outputs": [],
   "source": [
    "shared_mobility_device = requests_21[requests_21['service_name'] == 'Shared Mobility Device']"
   ]
  },
  {
   "cell_type": "code",
   "execution_count": 504,
   "id": "419db74d-2100-4149-8ce1-d8fb4a2805a2",
   "metadata": {},
   "outputs": [
    {
     "data": {
      "text/plain": [
       "Series([], Name: case_age_days, dtype: object)"
      ]
     },
     "execution_count": 504,
     "metadata": {},
     "output_type": "execute_result"
    }
   ],
   "source": [
    "shared_mobility_device[shared_mobility_device['status']=='Referred']['case_age_days']"
   ]
  },
  {
   "cell_type": "code",
   "execution_count": 505,
   "id": "6281d7b7-be34-427d-a14e-0d5690dcbb81",
   "metadata": {},
   "outputs": [],
   "source": [
    "requests_21.drop(labels='status', axis=1, inplace=True)"
   ]
  },
  {
   "cell_type": "markdown",
   "id": "f6647d35-ed03-4cb6-9431-e13de6e91a99",
   "metadata": {},
   "source": [
    "#### 10: location Features\n",
    "- include lat/long, street address, zipcode, council district\n",
    "- will only use council district for model"
   ]
  },
  {
   "cell_type": "code",
   "execution_count": 506,
   "id": "13cf84be-6fd5-44a1-8ab3-8f4ef95a7cb5",
   "metadata": {},
   "outputs": [],
   "source": [
    "requests_21.drop(labels=['lat', 'lng', 'street_address', 'zipcode'], axis=1, inplace=True)"
   ]
  },
  {
   "cell_type": "code",
   "execution_count": 507,
   "id": "3efd3b6a-32b4-4530-ac0e-b1a19c57f45f",
   "metadata": {},
   "outputs": [
    {
     "data": {
      "text/plain": [
       "4.0     30903\n",
       "56.0    28145\n",
       "37.0    20538\n",
       "27.0    19962\n",
       "42.0    17443\n",
       "28.0    16370\n",
       "6.0     15889\n",
       "57.0    11050\n",
       "30.0    10446\n",
       "11.0    10150\n",
       "23.0     9290\n",
       "18.0     8474\n",
       "44.0     7733\n",
       "10.0     7544\n",
       "15.0     6700\n",
       "20.0     6657\n",
       "25.0     6164\n",
       "17.0     6138\n",
       "8.0      6110\n",
       "1.0      5968\n",
       "38.0     5549\n",
       "12.0     5533\n",
       "59.0     4747\n",
       "58.0     4471\n",
       "19.0     4234\n",
       "14.0     4048\n",
       "99.0     3558\n",
       "29.0     3103\n",
       "35.0     3051\n",
       "33.0     3025\n",
       "21.0     2864\n",
       "31.0     2725\n",
       "50.0     2695\n",
       "2.0      2299\n",
       "26.0     2297\n",
       "47.0     1856\n",
       "34.0     1757\n",
       "24.0     1216\n",
       "40.0     1046\n",
       "3.0       946\n",
       "9.0       734\n",
       "62.0      638\n",
       "13.0      575\n",
       "5.0       554\n",
       "52.0      444\n",
       "98.0      405\n",
       "48.0      319\n",
       "16.0      285\n",
       "97.0      211\n",
       "32.0      115\n",
       "51.0       91\n",
       "39.0       86\n",
       "61.0       56\n",
       "7.0        41\n",
       "55.0       33\n",
       "96.0       28\n",
       "49.0       24\n",
       "Name: council_district, dtype: int64"
      ]
     },
     "execution_count": 507,
     "metadata": {},
     "output_type": "execute_result"
    }
   ],
   "source": [
    "requests_21['council_district'].value_counts()"
   ]
  },
  {
   "cell_type": "markdown",
   "id": "6856261d-12bf-4a1f-ac7e-11fbe60d43d1",
   "metadata": {},
   "source": [
    "#### 11: comm_plan_code and comm_plan_name"
   ]
  },
  {
   "cell_type": "code",
   "execution_count": 508,
   "id": "199f8aa3-de48-4635-aa04-0c5181b433ae",
   "metadata": {
    "tags": []
   },
   "outputs": [
    {
     "data": {
      "text/plain": [
       "Downtown                        30903\n",
       "Mid-City:City Heights           28145\n",
       "Southeastern San Diego          20538\n",
       "Pacific Beach                   19962\n",
       "Uptown                          17443\n",
       "North Park                      16370\n",
       "Clairemont Mesa                 15889\n",
       "Mid-City:Eastern Area           11050\n",
       "Peninsula                       10446\n",
       "Encanto Neighborhoods           10150\n",
       "Ocean Beach                      9290\n",
       "Mission Beach                    8474\n",
       "Skyline-Paradise Hills           7733\n",
       "La Jolla                         7544\n",
       "Mira Mesa                        6700\n",
       "Navajo                           6657\n",
       "Otay Mesa-Nestor                 6164\n",
       "Mission Bay Park                 6138\n",
       "Greater Golden Hill              6110\n",
       "Balboa Park                      5968\n",
       "College Area                     5549\n",
       "Linda Vista                      5533\n",
       "Mid-City:Normal Heights          4747\n",
       "Mid-City:Kensington-Talmadge     4471\n",
       "Mission Valley                   4234\n",
       "Midway-Pacific Highway           4048\n",
       "University                       3558\n",
       "Rancho Penasquitos               3103\n",
       "Serra Mesa                       3051\n",
       "San Ysidro                       3025\n",
       "Carmel Valley                    2864\n",
       "Rancho Bernardo                  2725\n",
       "Kearny Mesa                      2695\n",
       "Barrio Logan                     2299\n",
       "Otay Mesa                        2297\n",
       "Tierrasanta                      1856\n",
       "Scripps Miramar Ranch            1757\n",
       "Old Town San Diego               1216\n",
       "Torrey Pines                     1046\n",
       "Carmel Mountain Ranch             946\n",
       "Miramar Ranch North               734\n",
       "Pacific Highlands Ranch           638\n",
       "Black Mountain Ranch              575\n",
       "Sabre Springs                     554\n",
       "Torrey Highlands                  444\n",
       "Reserve                           405\n",
       "Torrey Hills                      319\n",
       "Rancho Encantada                  285\n",
       "Military Facilities               211\n",
       "San Pasqual                       115\n",
       "Del Mar Mesa                       91\n",
       "Tijuana River Valley               86\n",
       "Ncfua Subarea Ii                   56\n",
       "East Elliott                       41\n",
       "Via De La Valle                    33\n",
       "Los Penasquitos Canyon             28\n",
       "Fairbanks Ranch Country Club       24\n",
       "Name: comm_plan_code, dtype: int64"
      ]
     },
     "execution_count": 508,
     "metadata": {},
     "output_type": "execute_result"
    }
   ],
   "source": [
    "requests_21['comm_plan_code'].value_counts()"
   ]
  },
  {
   "cell_type": "code",
   "execution_count": 509,
   "id": "d04cce7c-4c53-4a8c-8441-57414f9b1c16",
   "metadata": {},
   "outputs": [
    {
     "data": {
      "text/plain": [
       "SPRING CANYON NP         17\n",
       "MIRAMAR OVERLOOK NP      12\n",
       "SABRE SPRINGS OS          9\n",
       "SCRIPPS RCH CP            8\n",
       "SCRIPPS MIRAMAR OS        6\n",
       "CANYON VIEW POCKET MP     2\n",
       "CANYON VIEW PARK          1\n",
       "Name: comm_plan_name, dtype: int64"
      ]
     },
     "execution_count": 509,
     "metadata": {},
     "output_type": "execute_result"
    }
   ],
   "source": [
    "cd1 = requests_21[requests_21['council_district'] == 9]\n",
    "cd1['comm_plan_name'].value_counts()"
   ]
  },
  {
   "cell_type": "code",
   "execution_count": 510,
   "id": "6e3b3d67-1b46-40f0-9698-e67ffced8bee",
   "metadata": {},
   "outputs": [
    {
     "data": {
      "text/plain": [
       "MISSION BAY PARK                   4536\n",
       "BALBOA PARK                        4318\n",
       "MISSION BEACH PARK                 1454\n",
       "TECOLOTE CANYON NATURAL OS PARK     386\n",
       "PACIFIC BEACH NP                    222\n",
       "                                   ... \n",
       "TORREY HILLS OS                       1\n",
       "CANON STREET MP                       1\n",
       "UNION PL CR MP                        1\n",
       "CLEAR. SITE 536                       1\n",
       "DEL MAR MESA OS                       1\n",
       "Name: comm_plan_name, Length: 325, dtype: int64"
      ]
     },
     "execution_count": 510,
     "metadata": {},
     "output_type": "execute_result"
    }
   ],
   "source": [
    "requests_21['comm_plan_name'].value_counts()"
   ]
  },
  {
   "cell_type": "code",
   "execution_count": 511,
   "id": "71dc0b52-bc48-485a-8840-7c915f6728f1",
   "metadata": {},
   "outputs": [
    {
     "data": {
      "text/plain": [
       "2960"
      ]
     },
     "execution_count": 511,
     "metadata": {},
     "output_type": "execute_result"
    }
   ],
   "source": [
    "requests_21.council_district.isna().sum()"
   ]
  },
  {
   "cell_type": "code",
   "execution_count": 512,
   "id": "6a20e608-6613-430d-9d7b-2cab21ecca0f",
   "metadata": {},
   "outputs": [],
   "source": [
    "#drop those with no council district listed\n",
    "requests_21 = requests_21.dropna(subset=['council_district'])"
   ]
  },
  {
   "cell_type": "code",
   "execution_count": 513,
   "id": "2e37c8ed-2ce5-4499-b95a-350a665e77b9",
   "metadata": {},
   "outputs": [
    {
     "name": "stderr",
     "output_type": "stream",
     "text": [
      "C:\\Users\\mnicn\\AppData\\Local\\Temp\\ipykernel_32464\\2451805561.py:2: SettingWithCopyWarning: \n",
      "A value is trying to be set on a copy of a slice from a DataFrame\n",
      "\n",
      "See the caveats in the documentation: https://pandas.pydata.org/pandas-docs/stable/user_guide/indexing.html#returning-a-view-versus-a-copy\n",
      "  requests_21.drop(labels=['comm_plan_code', 'comm_plan_name'], axis=1, inplace=True)\n"
     ]
    }
   ],
   "source": [
    "# delete both of these columns\n",
    "requests_21.drop(labels=['comm_plan_code', 'comm_plan_name'], axis=1, inplace=True)"
   ]
  },
  {
   "cell_type": "markdown",
   "id": "09bc475d-aefe-4295-b9bd-61221befc827",
   "metadata": {},
   "source": [
    "#### 12: park_name\n",
    "- convert to binary feature - 1 if in park, 0 if not in park"
   ]
  },
  {
   "cell_type": "code",
   "execution_count": 514,
   "id": "7efd9b5d-d295-461a-8848-8e7cc4dba46c",
   "metadata": {},
   "outputs": [
    {
     "data": {
      "text/plain": [
       "19"
      ]
     },
     "execution_count": 514,
     "metadata": {},
     "output_type": "execute_result"
    }
   ],
   "source": [
    "len(requests_21['park_name'].unique())"
   ]
  },
  {
   "cell_type": "code",
   "execution_count": 515,
   "id": "62ba3e70-52f0-4f79-8172-4d1dca5a3c1b",
   "metadata": {},
   "outputs": [],
   "source": [
    "in_park = requests_21['park_name']"
   ]
  },
  {
   "cell_type": "code",
   "execution_count": 516,
   "id": "96dcddbe-97be-4ec5-82c1-5b38952ee5ca",
   "metadata": {},
   "outputs": [
    {
     "data": {
      "text/plain": [
       "0         False\n",
       "2         False\n",
       "3         False\n",
       "4         False\n",
       "5         False\n",
       "          ...  \n",
       "359085    False\n",
       "359086    False\n",
       "359087    False\n",
       "359088    False\n",
       "359089    False\n",
       "Name: park_name, Length: 317333, dtype: bool"
      ]
     },
     "execution_count": 516,
     "metadata": {},
     "output_type": "execute_result"
    }
   ],
   "source": [
    "in_park.isna()"
   ]
  },
  {
   "cell_type": "code",
   "execution_count": 517,
   "id": "52ad9966-9a6e-4bb5-a476-f7e096883086",
   "metadata": {},
   "outputs": [
    {
     "name": "stderr",
     "output_type": "stream",
     "text": [
      "C:\\Users\\mnicn\\AppData\\Local\\Temp\\ipykernel_32464\\3684575221.py:1: SettingWithCopyWarning: \n",
      "A value is trying to be set on a copy of a slice from a DataFrame.\n",
      "Try using .loc[row_indexer,col_indexer] = value instead\n",
      "\n",
      "See the caveats in the documentation: https://pandas.pydata.org/pandas-docs/stable/user_guide/indexing.html#returning-a-view-versus-a-copy\n",
      "  requests_21['in_park'] = np.where(in_park.isna() == True, 0, 1)\n"
     ]
    }
   ],
   "source": [
    "requests_21['in_park'] = np.where(in_park.isna() == True, 0, 1)"
   ]
  },
  {
   "cell_type": "code",
   "execution_count": 518,
   "id": "f6d343be-5043-4809-9123-5ebf62da555e",
   "metadata": {},
   "outputs": [
    {
     "data": {
      "text/plain": [
       "1    317328\n",
       "0         5\n",
       "Name: in_park, dtype: int64"
      ]
     },
     "execution_count": 518,
     "metadata": {},
     "output_type": "execute_result"
    }
   ],
   "source": [
    "requests_21['in_park'].value_counts()"
   ]
  },
  {
   "cell_type": "code",
   "execution_count": 519,
   "id": "61a2f507-1f3c-4521-8c9f-808c636b9d3a",
   "metadata": {},
   "outputs": [
    {
     "name": "stderr",
     "output_type": "stream",
     "text": [
      "C:\\Users\\mnicn\\AppData\\Local\\Temp\\ipykernel_32464\\3962021380.py:2: SettingWithCopyWarning: \n",
      "A value is trying to be set on a copy of a slice from a DataFrame\n",
      "\n",
      "See the caveats in the documentation: https://pandas.pydata.org/pandas-docs/stable/user_guide/indexing.html#returning-a-view-versus-a-copy\n",
      "  requests_21.drop(labels=['park_name'], axis=1, inplace=True)\n"
     ]
    }
   ],
   "source": [
    "#drop original park columns\n",
    "requests_21.drop(labels=['park_name'], axis=1, inplace=True)"
   ]
  },
  {
   "cell_type": "code",
   "execution_count": 520,
   "id": "f3383d91-0d2a-4309-9149-32e2faa6a082",
   "metadata": {},
   "outputs": [],
   "source": [
    "# requests_21 = requests_21[['service_request_id', 'date_requested', 'case_age_days',\n",
    "#        'case_record_type', 'service_name', 'service_name_detail','council_district', 'in_park', 'case_origin', 'referred', 'iamfloc',\n",
    "#        'floc', 'public_description']]"
   ]
  },
  {
   "cell_type": "markdown",
   "id": "84def778-76d7-461f-aef1-34dcb7b1e493",
   "metadata": {},
   "source": [
    "#### 13: case_origin"
   ]
  },
  {
   "cell_type": "code",
   "execution_count": 521,
   "id": "bf9242cf-16d4-42fe-937c-03eaed3b1c58",
   "metadata": {},
   "outputs": [
    {
     "data": {
      "text/plain": [
       "This report has been referred to Sweep at sd@sweepcrew.com                                                  28046\n",
       "This report has been referred to Park and Recreation at askparks@sandiego.gov                                8343\n",
       "This report has been referred to Caltrans San Diego at ct.public.information.d11@dot.ca.gov                  3867\n",
       "This report has been referred to Graffiti ? SDGE Poles and Boxes at aesgraffitihotline4sdge@yahoo.com        2520\n",
       "This report has been referred to Graffiti ? ATT Telephone Booths / Cable Box at graffiti@att.com             2462\n",
       "                                                                                                            ...  \n",
       "This report has been referred to appropriate department or agency at ssolomon@sandiego.gov                      1\n",
       "This report has been referred to appropriate department or agency at parkingeneforcement@pd.sandiego.gov        1\n",
       "This report has been referred to appropriate department or agency at RElias@sandiego.gov                        1\n",
       "This report has been referred to appropriate department or agency at info@tcincsd.com                           1\n",
       "This report has been referred to appropriate department or agency at VRazon@sandiego.gov                        1\n",
       "Name: case_origin, Length: 370, dtype: int64"
      ]
     },
     "execution_count": 521,
     "metadata": {},
     "output_type": "execute_result"
    }
   ],
   "source": [
    "requests_21['case_origin'].value_counts()"
   ]
  },
  {
   "cell_type": "code",
   "execution_count": 522,
   "id": "82236283-66af-44de-a6a2-087ad94da445",
   "metadata": {},
   "outputs": [],
   "source": [
    "# only keep the rows with the following origins: Mobile, Web, Phone"
   ]
  },
  {
   "cell_type": "code",
   "execution_count": 523,
   "id": "7f7c180c-0569-4f97-9553-7468c9632387",
   "metadata": {},
   "outputs": [],
   "source": [
    "requests_21 = requests_21[(requests_21['case_origin'] == 'Mobile') | (requests_21['case_origin'] == 'Web') | (requests_21['case_origin'] == 'Phone')]"
   ]
  },
  {
   "cell_type": "markdown",
   "id": "d1c590f9-6812-43d4-ba67-2370e49c4c3c",
   "metadata": {},
   "source": [
    "#### 14: referred"
   ]
  },
  {
   "cell_type": "code",
   "execution_count": 524,
   "id": "48c07b1f-4539-46b4-be07-b1c4c3f9671e",
   "metadata": {},
   "outputs": [],
   "source": [
    "# Change the strings that say 'nan' to null values\n",
    "requests_21['referred'] = np.where(requests_21['referred'] == 'nan', None, requests_21['referred'])"
   ]
  },
  {
   "cell_type": "code",
   "execution_count": 525,
   "id": "3ee5c321-b590-4e4e-80af-959d7e88208e",
   "metadata": {},
   "outputs": [],
   "source": [
    "referrals = requests_21['referred'].value_counts()"
   ]
  },
  {
   "cell_type": "code",
   "execution_count": 526,
   "id": "88e7d241-6dda-45fc-96b0-628e218a5fef",
   "metadata": {},
   "outputs": [
    {
     "data": {
      "text/plain": [
       "Series([], Name: referred, dtype: int64)"
      ]
     },
     "execution_count": 526,
     "metadata": {},
     "output_type": "execute_result"
    }
   ],
   "source": [
    "referrals.head(20)"
   ]
  },
  {
   "cell_type": "markdown",
   "id": "6b6d779a-8e8b-41a2-bf7c-74d9210e8512",
   "metadata": {},
   "source": [
    "##### issue 1: sd@sweepcrew"
   ]
  },
  {
   "cell_type": "code",
   "execution_count": 527,
   "id": "faf8c899-6543-48c9-9c72-92c743779860",
   "metadata": {},
   "outputs": [],
   "source": [
    "referred_to_sweeper = requests_21[requests_21['referred']=='This report has been referred to Sweep at sd@sweepcrew.com']\n"
   ]
  },
  {
   "cell_type": "code",
   "execution_count": 528,
   "id": "3bb8b000-14b7-42fb-b713-2d5364855c46",
   "metadata": {},
   "outputs": [
    {
     "data": {
      "text/plain": [
       "Series([], Name: service_name, dtype: int64)"
      ]
     },
     "execution_count": 528,
     "metadata": {},
     "output_type": "execute_result"
    }
   ],
   "source": [
    "referred_to_sweeper['service_name'].value_counts()"
   ]
  },
  {
   "cell_type": "code",
   "execution_count": 529,
   "id": "3c8664ae-b031-4aad-b44c-e8f92f79eabc",
   "metadata": {},
   "outputs": [
    {
     "data": {
      "text/plain": [
       "Series([], Name: service_name_detail, dtype: object)"
      ]
     },
     "execution_count": 529,
     "metadata": {},
     "output_type": "execute_result"
    }
   ],
   "source": [
    "referred_to_sweeper['service_name_detail']"
   ]
  },
  {
   "cell_type": "markdown",
   "id": "4b54d2ea-8d93-4d29-b4b1-fc31c89f4ffe",
   "metadata": {},
   "source": [
    "#### 15: iamfloc and floc"
   ]
  },
  {
   "cell_type": "code",
   "execution_count": 531,
   "id": "e87c1efd-ab02-427b-ac29-46be327da097",
   "metadata": {},
   "outputs": [
    {
     "data": {
      "text/plain": [
       "Series([], Name: iamfloc, dtype: int64)"
      ]
     },
     "execution_count": 531,
     "metadata": {},
     "output_type": "execute_result"
    }
   ],
   "source": [
    "requests_21['iamfloc'].value_counts()"
   ]
  },
  {
   "cell_type": "code",
   "execution_count": 532,
   "id": "12f9fb5f-9fff-4161-9405-851b06aa259d",
   "metadata": {},
   "outputs": [
    {
     "data": {
      "text/plain": [
       "Series([], Name: floc, dtype: int64)"
      ]
     },
     "execution_count": 532,
     "metadata": {},
     "output_type": "execute_result"
    }
   ],
   "source": [
    "requests_21['floc'].value_counts()"
   ]
  },
  {
   "cell_type": "code",
   "execution_count": 533,
   "id": "7f35d07b-6472-4667-8b94-dc72a42b7d88",
   "metadata": {},
   "outputs": [],
   "source": [
    "# seem to be some kind of internal code - delete both\n",
    "requests_21.drop(labels=['iamfloc', 'floc'], axis=1, inplace=True)"
   ]
  },
  {
   "cell_type": "markdown",
   "id": "4a3d80bb-ecf0-4bad-9da6-56a4777fdde9",
   "metadata": {
    "tags": []
   },
   "source": [
    "#### 16: public description"
   ]
  },
  {
   "cell_type": "code",
   "execution_count": 534,
   "id": "bdd0f3d5-d903-4f82-bd67-9448eade0dd2",
   "metadata": {},
   "outputs": [
    {
     "data": {
      "text/plain": [
       "Series([], Name: public_description, dtype: int64)"
      ]
     },
     "execution_count": 534,
     "metadata": {},
     "output_type": "execute_result"
    }
   ],
   "source": [
    "requests_21['public_description'].value_counts()"
   ]
  },
  {
   "cell_type": "code",
   "execution_count": 535,
   "id": "75e6763b-5a81-4eb6-96a2-458606a994db",
   "metadata": {},
   "outputs": [
    {
     "data": {
      "text/plain": [
       "Series([], Name: referred, dtype: object)"
      ]
     },
     "execution_count": 535,
     "metadata": {},
     "output_type": "execute_result"
    }
   ],
   "source": [
    "requests_21[requests_21.public_description == 'Q']['referred']"
   ]
  },
  {
   "cell_type": "code",
   "execution_count": 536,
   "id": "1a793ee5-eeb1-45db-9447-da06e333deb1",
   "metadata": {},
   "outputs": [
    {
     "data": {
      "text/plain": [
       "0"
      ]
     },
     "execution_count": 536,
     "metadata": {},
     "output_type": "execute_result"
    }
   ],
   "source": [
    "requests_21.public_description.isna().sum()"
   ]
  },
  {
   "cell_type": "code",
   "execution_count": 537,
   "id": "3c62dd7c-719f-424f-8053-9513f6338087",
   "metadata": {},
   "outputs": [],
   "source": [
    "requests_21['has_description'] = np.where(requests_21.public_description.isna() == True, 0, 1)"
   ]
  },
  {
   "cell_type": "code",
   "execution_count": 538,
   "id": "f8b91e3d-68f0-4a78-bbc0-b3cd5bf834a2",
   "metadata": {},
   "outputs": [
    {
     "data": {
      "text/plain": [
       "Index(['service_request_id', 'date_requested', 'case_age_days',\n",
       "       'case_record_type', 'service_name', 'service_name_detail',\n",
       "       'council_district', 'case_origin', 'referred', 'public_description',\n",
       "       'in_park', 'has_description'],\n",
       "      dtype='object')"
      ]
     },
     "execution_count": 538,
     "metadata": {},
     "output_type": "execute_result"
    }
   ],
   "source": [
    "requests_21.columns"
   ]
  },
  {
   "cell_type": "code",
   "execution_count": 539,
   "id": "a586e31e-2c93-4766-861e-96070301a9c9",
   "metadata": {},
   "outputs": [],
   "source": [
    "#drop any columns that will not be used in modeling"
   ]
  },
  {
   "cell_type": "code",
   "execution_count": 540,
   "id": "3580e632-4fd4-4d9a-9bd0-eacd4fd0b55e",
   "metadata": {},
   "outputs": [],
   "source": [
    "requests_21.drop(labels=['service_request_id'], axis=1, inplace=True)"
   ]
  },
  {
   "cell_type": "code",
   "execution_count": 541,
   "id": "a72ac7f4-6ddb-4ea7-b890-8d2db2617e0c",
   "metadata": {},
   "outputs": [
    {
     "data": {
      "text/plain": [
       "date_requested         False\n",
       "case_age_days          False\n",
       "case_record_type       False\n",
       "service_name           False\n",
       "service_name_detail    False\n",
       "council_district       False\n",
       "case_origin            False\n",
       "referred               False\n",
       "public_description     False\n",
       "in_park                False\n",
       "has_description        False\n",
       "dtype: bool"
      ]
     },
     "execution_count": 541,
     "metadata": {},
     "output_type": "execute_result"
    }
   ],
   "source": [
    "#check for null values\n",
    "requests_21.isna().any()"
   ]
  },
  {
   "cell_type": "markdown",
   "id": "24412821-2e9a-4511-b7eb-2628b34bcf29",
   "metadata": {},
   "source": [
    "## 3. Feature Engineering and Pre-Processing"
   ]
  },
  {
   "cell_type": "code",
   "execution_count": 542,
   "id": "61e0c9e4-e31d-4fc5-9479-701d9d1f2d9d",
   "metadata": {},
   "outputs": [
    {
     "data": {
      "text/plain": [
       "Index(['date_requested', 'case_age_days', 'case_record_type', 'service_name',\n",
       "       'service_name_detail', 'council_district', 'case_origin', 'referred',\n",
       "       'public_description', 'in_park', 'has_description'],\n",
       "      dtype='object')"
      ]
     },
     "execution_count": 542,
     "metadata": {},
     "output_type": "execute_result"
    }
   ],
   "source": [
    "requests_21.columns"
   ]
  },
  {
   "cell_type": "code",
   "execution_count": 543,
   "id": "9ba1e6bc-4bd0-4663-b081-5360a6a77608",
   "metadata": {},
   "outputs": [
    {
     "data": {
      "text/plain": [
       "(0, 11)"
      ]
     },
     "execution_count": 543,
     "metadata": {},
     "output_type": "execute_result"
    }
   ],
   "source": [
    "requests_21.shape"
   ]
  },
  {
   "cell_type": "markdown",
   "id": "18659b36-a0da-4581-953f-209b931c2b28",
   "metadata": {
    "tags": []
   },
   "source": [
    "### 0: date_requested\n",
    "\n",
    "Include following features:\n",
    "- day_of_week\n",
    "- is_weekend\n",
    "- month"
   ]
  },
  {
   "cell_type": "code",
   "execution_count": 547,
   "id": "01064b06-a076-4358-9eea-2c594036c04c",
   "metadata": {},
   "outputs": [
    {
     "data": {
      "text/html": [
       "<div>\n",
       "<style scoped>\n",
       "    .dataframe tbody tr th:only-of-type {\n",
       "        vertical-align: middle;\n",
       "    }\n",
       "\n",
       "    .dataframe tbody tr th {\n",
       "        vertical-align: top;\n",
       "    }\n",
       "\n",
       "    .dataframe thead th {\n",
       "        text-align: right;\n",
       "    }\n",
       "</style>\n",
       "<table border=\"1\" class=\"dataframe\">\n",
       "  <thead>\n",
       "    <tr style=\"text-align: right;\">\n",
       "      <th></th>\n",
       "      <th>date_requested</th>\n",
       "      <th>case_age_days</th>\n",
       "      <th>case_record_type</th>\n",
       "      <th>service_name</th>\n",
       "      <th>service_name_detail</th>\n",
       "      <th>council_district</th>\n",
       "      <th>case_origin</th>\n",
       "      <th>referred</th>\n",
       "      <th>public_description</th>\n",
       "      <th>in_park</th>\n",
       "      <th>has_description</th>\n",
       "    </tr>\n",
       "  </thead>\n",
       "  <tbody>\n",
       "  </tbody>\n",
       "</table>\n",
       "</div>"
      ],
      "text/plain": [
       "Empty DataFrame\n",
       "Columns: [date_requested, case_age_days, case_record_type, service_name, service_name_detail, council_district, case_origin, referred, public_description, in_park, has_description]\n",
       "Index: []"
      ]
     },
     "execution_count": 547,
     "metadata": {},
     "output_type": "execute_result"
    }
   ],
   "source": [
    "requests_21.head()"
   ]
  },
  {
   "cell_type": "code",
   "execution_count": 544,
   "id": "9c7b3e9a-8ae5-40b8-b0f1-7d0345af348d",
   "metadata": {},
   "outputs": [
    {
     "ename": "AttributeError",
     "evalue": "Can only use .dt accessor with datetimelike values",
     "output_type": "error",
     "traceback": [
      "\u001b[1;31m---------------------------------------------------------------------------\u001b[0m",
      "\u001b[1;31mAttributeError\u001b[0m                            Traceback (most recent call last)",
      "Input \u001b[1;32mIn [544]\u001b[0m, in \u001b[0;36m<cell line: 1>\u001b[1;34m()\u001b[0m\n\u001b[1;32m----> 1\u001b[0m requests_21[\u001b[38;5;124m'\u001b[39m\u001b[38;5;124mday_of_week\u001b[39m\u001b[38;5;124m'\u001b[39m] \u001b[38;5;241m=\u001b[39m \u001b[43mrequests_21\u001b[49m\u001b[43m[\u001b[49m\u001b[38;5;124;43m'\u001b[39;49m\u001b[38;5;124;43mdate_requested\u001b[39;49m\u001b[38;5;124;43m'\u001b[39;49m\u001b[43m]\u001b[49m\u001b[38;5;241;43m.\u001b[39;49m\u001b[43mdt\u001b[49m\u001b[38;5;241m.\u001b[39mdayofweek\n",
      "File \u001b[1;32m~\\anaconda3\\lib\\site-packages\\pandas\\core\\generic.py:5575\u001b[0m, in \u001b[0;36mNDFrame.__getattr__\u001b[1;34m(self, name)\u001b[0m\n\u001b[0;32m   5568\u001b[0m \u001b[38;5;28;01mif\u001b[39;00m (\n\u001b[0;32m   5569\u001b[0m     name \u001b[38;5;129;01mnot\u001b[39;00m \u001b[38;5;129;01min\u001b[39;00m \u001b[38;5;28mself\u001b[39m\u001b[38;5;241m.\u001b[39m_internal_names_set\n\u001b[0;32m   5570\u001b[0m     \u001b[38;5;129;01mand\u001b[39;00m name \u001b[38;5;129;01mnot\u001b[39;00m \u001b[38;5;129;01min\u001b[39;00m \u001b[38;5;28mself\u001b[39m\u001b[38;5;241m.\u001b[39m_metadata\n\u001b[0;32m   5571\u001b[0m     \u001b[38;5;129;01mand\u001b[39;00m name \u001b[38;5;129;01mnot\u001b[39;00m \u001b[38;5;129;01min\u001b[39;00m \u001b[38;5;28mself\u001b[39m\u001b[38;5;241m.\u001b[39m_accessors\n\u001b[0;32m   5572\u001b[0m     \u001b[38;5;129;01mand\u001b[39;00m \u001b[38;5;28mself\u001b[39m\u001b[38;5;241m.\u001b[39m_info_axis\u001b[38;5;241m.\u001b[39m_can_hold_identifiers_and_holds_name(name)\n\u001b[0;32m   5573\u001b[0m ):\n\u001b[0;32m   5574\u001b[0m     \u001b[38;5;28;01mreturn\u001b[39;00m \u001b[38;5;28mself\u001b[39m[name]\n\u001b[1;32m-> 5575\u001b[0m \u001b[38;5;28;01mreturn\u001b[39;00m \u001b[38;5;28;43mobject\u001b[39;49m\u001b[38;5;241;43m.\u001b[39;49m\u001b[38;5;21;43m__getattribute__\u001b[39;49m\u001b[43m(\u001b[49m\u001b[38;5;28;43mself\u001b[39;49m\u001b[43m,\u001b[49m\u001b[43m \u001b[49m\u001b[43mname\u001b[49m\u001b[43m)\u001b[49m\n",
      "File \u001b[1;32m~\\anaconda3\\lib\\site-packages\\pandas\\core\\accessor.py:182\u001b[0m, in \u001b[0;36mCachedAccessor.__get__\u001b[1;34m(self, obj, cls)\u001b[0m\n\u001b[0;32m    179\u001b[0m \u001b[38;5;28;01mif\u001b[39;00m obj \u001b[38;5;129;01mis\u001b[39;00m \u001b[38;5;28;01mNone\u001b[39;00m:\n\u001b[0;32m    180\u001b[0m     \u001b[38;5;66;03m# we're accessing the attribute of the class, i.e., Dataset.geo\u001b[39;00m\n\u001b[0;32m    181\u001b[0m     \u001b[38;5;28;01mreturn\u001b[39;00m \u001b[38;5;28mself\u001b[39m\u001b[38;5;241m.\u001b[39m_accessor\n\u001b[1;32m--> 182\u001b[0m accessor_obj \u001b[38;5;241m=\u001b[39m \u001b[38;5;28;43mself\u001b[39;49m\u001b[38;5;241;43m.\u001b[39;49m\u001b[43m_accessor\u001b[49m\u001b[43m(\u001b[49m\u001b[43mobj\u001b[49m\u001b[43m)\u001b[49m\n\u001b[0;32m    183\u001b[0m \u001b[38;5;66;03m# Replace the property with the accessor object. Inspired by:\u001b[39;00m\n\u001b[0;32m    184\u001b[0m \u001b[38;5;66;03m# https://www.pydanny.com/cached-property.html\u001b[39;00m\n\u001b[0;32m    185\u001b[0m \u001b[38;5;66;03m# We need to use object.__setattr__ because we overwrite __setattr__ on\u001b[39;00m\n\u001b[0;32m    186\u001b[0m \u001b[38;5;66;03m# NDFrame\u001b[39;00m\n\u001b[0;32m    187\u001b[0m \u001b[38;5;28mobject\u001b[39m\u001b[38;5;241m.\u001b[39m\u001b[38;5;21m__setattr__\u001b[39m(obj, \u001b[38;5;28mself\u001b[39m\u001b[38;5;241m.\u001b[39m_name, accessor_obj)\n",
      "File \u001b[1;32m~\\anaconda3\\lib\\site-packages\\pandas\\core\\indexes\\accessors.py:509\u001b[0m, in \u001b[0;36mCombinedDatetimelikeProperties.__new__\u001b[1;34m(cls, data)\u001b[0m\n\u001b[0;32m    506\u001b[0m \u001b[38;5;28;01melif\u001b[39;00m is_period_dtype(data\u001b[38;5;241m.\u001b[39mdtype):\n\u001b[0;32m    507\u001b[0m     \u001b[38;5;28;01mreturn\u001b[39;00m PeriodProperties(data, orig)\n\u001b[1;32m--> 509\u001b[0m \u001b[38;5;28;01mraise\u001b[39;00m \u001b[38;5;167;01mAttributeError\u001b[39;00m(\u001b[38;5;124m\"\u001b[39m\u001b[38;5;124mCan only use .dt accessor with datetimelike values\u001b[39m\u001b[38;5;124m\"\u001b[39m)\n",
      "\u001b[1;31mAttributeError\u001b[0m: Can only use .dt accessor with datetimelike values"
     ]
    }
   ],
   "source": [
    "requests_21['day_of_week'] = requests_21['date_requested'].dt.dayofweek"
   ]
  },
  {
   "cell_type": "code",
   "execution_count": null,
   "id": "fbf74d94-d37d-46fa-9b09-0a0b0d30f408",
   "metadata": {},
   "outputs": [],
   "source": [
    "requests_21['day_of_week'].value_counts()"
   ]
  },
  {
   "cell_type": "code",
   "execution_count": null,
   "id": "0dff3ffd-cb1a-4eef-ae62-b68073fedf66",
   "metadata": {},
   "outputs": [],
   "source": [
    "requests_21['is_weekend'] = np.where(requests_21['day_of_week'] < 5, 0, 1)"
   ]
  },
  {
   "cell_type": "code",
   "execution_count": null,
   "id": "771d5c22-c49b-4f35-b9f9-fd9fd670f5db",
   "metadata": {},
   "outputs": [],
   "source": [
    "requests_21['is_weekend'].value_counts()"
   ]
  },
  {
   "cell_type": "code",
   "execution_count": null,
   "id": "5edf3407-a0ef-4c73-9961-011817a6af05",
   "metadata": {},
   "outputs": [],
   "source": [
    "requests_21['month'] = requests_21['date_requested'].dt.month_name()"
   ]
  },
  {
   "cell_type": "code",
   "execution_count": null,
   "id": "dd3f1d5d-70ab-41ee-b80a-d249be2475ee",
   "metadata": {},
   "outputs": [],
   "source": [
    "requests_21['month'].value_counts()"
   ]
  },
  {
   "cell_type": "code",
   "execution_count": null,
   "id": "aec61b95-a4e4-4eee-8147-2f9bba0ea7f2",
   "metadata": {},
   "outputs": [],
   "source": [
    "#drop date columns no longer needed\n",
    "requests_21.drop(labels=['date_requested'], axis=1, inplace=True)"
   ]
  },
  {
   "cell_type": "code",
   "execution_count": null,
   "id": "974d76bb-aa32-4458-a44f-aaaf2c3048f2",
   "metadata": {},
   "outputs": [],
   "source": [
    "requests_21.columns"
   ]
  },
  {
   "cell_type": "markdown",
   "id": "d1355f28-4f43-41ad-8473-2f241ae8b1da",
   "metadata": {},
   "source": [
    "#### feature: day"
   ]
  },
  {
   "cell_type": "code",
   "execution_count": null,
   "id": "85d49a45-5715-4dbb-a488-64d95c04b5ee",
   "metadata": {},
   "outputs": [],
   "source": [
    "requests_21 = pd.get_dummies(requests_21, columns=['day_of_week'], prefix='day', prefix_sep='_', drop_first=False)"
   ]
  },
  {
   "cell_type": "code",
   "execution_count": null,
   "id": "75f73cd8-1f54-4bcd-bfe7-3496a433c222",
   "metadata": {},
   "outputs": [],
   "source": [
    "requests_21.columns"
   ]
  },
  {
   "cell_type": "markdown",
   "id": "db8e5bbf-2393-45c2-8607-992bc06681c2",
   "metadata": {},
   "source": [
    "#### feature: month"
   ]
  },
  {
   "cell_type": "code",
   "execution_count": null,
   "id": "c57424b2-9a36-4b86-95fc-681413185164",
   "metadata": {},
   "outputs": [],
   "source": [
    "requests_21 = pd.get_dummies(requests_21, columns=['month'], prefix='month', prefix_sep='_', drop_first=False)"
   ]
  },
  {
   "cell_type": "code",
   "execution_count": null,
   "id": "2387f399-4182-475c-99f8-c94a43a133d7",
   "metadata": {},
   "outputs": [],
   "source": [
    "list(requests_21.columns)"
   ]
  },
  {
   "cell_type": "code",
   "execution_count": null,
   "id": "689d6e09-4fb1-49db-bb43-ea56dd986871",
   "metadata": {},
   "outputs": [],
   "source": [
    "# requests_21.columns = ['case_age_days', 'case_record_type', 'service_name',\n",
    "#        'service_name_detail', 'council_district', 'in_park', 'case_origin',\n",
    "#        'referred', 'public_description', 'has_description', 'is_weekend',\n",
    "#        'day_0', 'day_1', 'day_2', 'day_3', 'day_4', 'day_5', 'day_6',\n",
    "#        'month_4','month_8','month_12','month_2','month_1','month_7',\n",
    "#                        'month_6','month_3','month_5','month_11','month_10','month_9']"
   ]
  },
  {
   "cell_type": "code",
   "execution_count": null,
   "id": "318ff605-15ce-4718-b054-2db415f27e65",
   "metadata": {},
   "outputs": [],
   "source": [
    "# requests_21 = requests_21[['case_age_days', 'case_record_type', 'service_name',\n",
    "#        'service_name_detail', 'council_district', 'in_park', 'case_origin',\n",
    "#        'referred', 'public_description', 'has_description', 'is_weekend',\n",
    "#        'day_0', 'day_1', 'day_2', 'day_3', 'day_4', 'day_5', 'day_6',\n",
    "#        'month_1','month_2','month_3','month_4','month_5','month_6',\n",
    "#              'month_7','month_8','month_9','month_10','month_11','month_12']]"
   ]
  },
  {
   "cell_type": "markdown",
   "id": "30a5c3ed-3e35-489b-8677-e0a4f6ff8a1b",
   "metadata": {},
   "source": [
    "#### feature: is_weekend\n",
    "- this feature already exists in the data"
   ]
  },
  {
   "cell_type": "markdown",
   "id": "54838751-c289-4875-aada-7f96449959da",
   "metadata": {
    "tags": []
   },
   "source": [
    "### 1: case_age_days\n",
    "Note: this is the target variable"
   ]
  },
  {
   "cell_type": "markdown",
   "id": "f7afa4e4-22af-4ad9-ae0b-af8a9007c51e",
   "metadata": {
    "tags": []
   },
   "source": [
    "### 2: case_record_type\n",
    "Drop this column - will not be useful for modelling"
   ]
  },
  {
   "cell_type": "code",
   "execution_count": null,
   "id": "0653fd14-da90-4e96-9a4a-07c9c028c5da",
   "metadata": {},
   "outputs": [],
   "source": [
    "requests_21 = requests_21.drop('case_record_type', axis=1)"
   ]
  },
  {
   "cell_type": "markdown",
   "id": "8678a4a7-ac44-4553-8b78-e06e306f34b6",
   "metadata": {
    "tags": []
   },
   "source": [
    "### 3: service_name"
   ]
  },
  {
   "cell_type": "code",
   "execution_count": null,
   "id": "cafd162b-3f73-43e8-8f93-f0d15645d291",
   "metadata": {
    "tags": []
   },
   "outputs": [],
   "source": [
    "requests_21.service_name.isna().sum()"
   ]
  },
  {
   "cell_type": "code",
   "execution_count": null,
   "id": "f54fe579-2e9d-49f2-b454-62f2a6bfdacc",
   "metadata": {},
   "outputs": [],
   "source": [
    "requests_21['service_name'].value_counts()"
   ]
  },
  {
   "cell_type": "markdown",
   "id": "4227bda5-0493-4696-bb2d-8028d93c10f3",
   "metadata": {},
   "source": [
    "#### feature: type"
   ]
  },
  {
   "cell_type": "code",
   "execution_count": null,
   "id": "3bdc4bb2-6624-4595-ab69-87b2e145dedc",
   "metadata": {},
   "outputs": [],
   "source": [
    "# requests_21 = pd.get_dummies(requests_21, columns=['service_name'], prefix='type', prefix_sep='_', drop_first=True)"
   ]
  },
  {
   "cell_type": "markdown",
   "id": "c0cc9cf8-f779-4b55-bdc8-076eb9b5b663",
   "metadata": {
    "tags": []
   },
   "source": [
    "### 4: service_name_details"
   ]
  },
  {
   "cell_type": "code",
   "execution_count": null,
   "id": "67eac0e8-0e09-4407-819b-2d8b27a4e51f",
   "metadata": {},
   "outputs": [],
   "source": [
    "service_name_details_to_keep = list(requests_21['service_name_detail'].value_counts().head(25).reset_index().iloc[:,0].values)"
   ]
  },
  {
   "cell_type": "code",
   "execution_count": null,
   "id": "3ccef570-8e87-4b72-8d1d-dd471a373d96",
   "metadata": {},
   "outputs": [],
   "source": [
    "#Check service_name for encroachment\n",
    "requests_21[requests_21['service_name_detail'] == 'Encroachment'][['service_name', 'service_name_detail']]['service_name'].value_counts()"
   ]
  },
  {
   "cell_type": "code",
   "execution_count": null,
   "id": "305a331c-977e-4494-800a-9443a30014dc",
   "metadata": {},
   "outputs": [],
   "source": [
    "#Check service_name for 'DRAIN INLET'\n",
    "requests_21[requests_21['service_name_detail'] == 'DRAIN INLET'][['service_name', 'service_name_detail']]['service_name'].value_counts()"
   ]
  },
  {
   "cell_type": "code",
   "execution_count": null,
   "id": "399d2902-5f0f-4627-bcb5-d11920a0df74",
   "metadata": {},
   "outputs": [],
   "source": [
    "#Check service_name for 'Out Late'\n",
    "requests_21[requests_21['service_name_detail'] == 'Out Late'][['service_name', 'service_name_detail']]['service_name'].value_counts()"
   ]
  },
  {
   "cell_type": "code",
   "execution_count": null,
   "id": "49c3a63a-2b82-4cef-ae7b-71369af7ecca",
   "metadata": {},
   "outputs": [],
   "source": [
    "#Check service_name for Quality of Life Issues\n",
    "requests_21[requests_21['service_name_detail'] == 'Quality of Life Issues'][['service_name', 'service_name_detail']]['service_name'].value_counts()"
   ]
  },
  {
   "cell_type": "code",
   "execution_count": null,
   "id": "bc04975b-f536-4a07-8e59-a71d07023ec9",
   "metadata": {},
   "outputs": [],
   "source": [
    "#Check service_name for Quality of LIGHTS ON FLASH\n",
    "requests_21[requests_21['service_name_detail'] == 'LIGHTS ON FLASH'][['service_name', 'service_name_detail']]['service_name'].value_counts()"
   ]
  },
  {
   "cell_type": "code",
   "execution_count": null,
   "id": "ac9b40cd-32d8-48c7-aab7-648ed3b36c16",
   "metadata": {},
   "outputs": [],
   "source": [
    "#Check service_name for Quality of STREET LIGHT OUT\n",
    "requests_21[requests_21['service_name_detail'] == 'STREET LIGHT OUT'][['service_name', 'service_name_detail']]['service_name'].value_counts()"
   ]
  },
  {
   "cell_type": "code",
   "execution_count": null,
   "id": "b8e9a460-c851-4b65-a370-09458653f71b",
   "metadata": {},
   "outputs": [],
   "source": [
    "#Check service_name for Quality of LIGHTS OUT\n",
    "requests_21[requests_21['service_name_detail'] == 'LIGHTS OUT'][['service_name', 'service_name_detail']]['service_name'].value_counts()"
   ]
  },
  {
   "cell_type": "code",
   "execution_count": null,
   "id": "42632ffa-ac08-4422-a4f3-3814cd345884",
   "metadata": {},
   "outputs": [],
   "source": [
    "#Check service_name for Quality of SWPP - Storm Water Polution Prevention\n",
    "requests_21[requests_21['service_name_detail'] == 'SWPP - Storm Water Polution Prevention'][['service_name', 'service_name_detail']]['service_name'].value_counts()"
   ]
  },
  {
   "cell_type": "code",
   "execution_count": null,
   "id": "5972e3f5-070a-4c27-99ec-ed9d51f94670",
   "metadata": {},
   "outputs": [],
   "source": [
    "#Check service_name for Quality of LIGHTS ON FLASH\n",
    "requests_21[requests_21['service_name_detail'] == 'LIGHTS ON FLASH'][['service_name', 'service_name_detail']]['service_name'].value_counts()"
   ]
  },
  {
   "cell_type": "code",
   "execution_count": null,
   "id": "e95c8ec2-4ea8-42d3-b389-4adb24ae4eee",
   "metadata": {},
   "outputs": [],
   "source": [
    "#Check service_name for EVALUATE FOR RESURFACING/SLURRY\n",
    "requests_21[requests_21['service_name_detail'] == 'EVALUATE FOR RESURFACING/SLURRY'][['service_name', 'service_name_detail']]['service_name'].value_counts()"
   ]
  },
  {
   "cell_type": "code",
   "execution_count": null,
   "id": "cf4fe254-2241-47ec-9bd0-0b409cde4e34",
   "metadata": {},
   "outputs": [],
   "source": [
    "#enhance service type column by using service_name_details, where available\n",
    "requests_21['detailed_type'] = np.where(requests_21['service_name_detail'].isin(service_name_details_to_keep) == True, \n",
    "                                        requests_21['service_name_detail'], \n",
    "                                        requests_21['service_name'])"
   ]
  },
  {
   "cell_type": "code",
   "execution_count": null,
   "id": "7541e976-edfa-45fc-9d10-accabad54a57",
   "metadata": {
    "tags": []
   },
   "outputs": [],
   "source": [
    "requests_21['detailed_type'].value_counts()"
   ]
  },
  {
   "cell_type": "code",
   "execution_count": null,
   "id": "3f080981-93c5-4382-8763-3c169e128b1b",
   "metadata": {},
   "outputs": [],
   "source": [
    "# define replacement value function\n",
    "def replace_service(old_name, new_name):\n",
    "    requests_21['detailed_type'] = np.where(requests_21['service_name_detail'] == old_name, \n",
    "                                        new_name, \n",
    "                                        requests_21['detailed_type'])\n"
   ]
  },
  {
   "cell_type": "code",
   "execution_count": null,
   "id": "98e9a3ac-50e9-4280-a90c-140b0993239d",
   "metadata": {},
   "outputs": [],
   "source": [
    "replace_service('STREET LIGHT OUT', 'Street Light Out of Service')"
   ]
  },
  {
   "cell_type": "code",
   "execution_count": null,
   "id": "82f4370e-0c0f-42c9-bdad-266726d2e2fa",
   "metadata": {},
   "outputs": [],
   "source": [
    "replace_service('CONCRETE SIDEWALK REPAIR ISSUE', 'Sidewalk Repair Issue')\n",
    "replace_service('LIGHTS OUT', 'Traffic Signal OUt of Service')\n",
    "replace_service('SWPP - Storm Water Polution Prevention', 'Stormwater Pollution Prevention')\n",
    "replace_service('EVALUATE TREE FOR REMOVAL', 'Tree Removal')\n",
    "replace_service('LIGHTS ON FLASH', 'Flashing Traffic Signal Lights')\n",
    "replace_service('POLE KNOCK OVER/DAMAGE', 'Damaged/Knocked Over Pole')\n",
    "replace_service('LIMB FALLEN OR HANGING', 'Fallen/Hanging Tree Limb')\n",
    "replace_service('DRAIN INLET', 'Drain Inlet')\n",
    "replace_service('Out Late', 'Container Out Late')\n",
    "replace_service('CONTRACTUAL TRIMMING', 'Trimming Request')\n",
    "replace_service('EVALUATE FOR RESURFACING/SLURRY', 'Resurfacing Evaluation')"
   ]
  },
  {
   "cell_type": "code",
   "execution_count": null,
   "id": "ef2e6ec2-4d58-4fa4-8511-3c0d00f90e0d",
   "metadata": {},
   "outputs": [],
   "source": [
    "replace_service('TRIM TREE FOR PEDS/VEHICLE CLEARANCE', 'Tree Trimming for Pedestrian/Vehicle Clearance')"
   ]
  },
  {
   "cell_type": "code",
   "execution_count": null,
   "id": "924ce383-d3a1-4fbc-97d2-0b7a688e2102",
   "metadata": {},
   "outputs": [],
   "source": [
    "requests_21['detailed_type'].value_counts()"
   ]
  },
  {
   "cell_type": "code",
   "execution_count": null,
   "id": "390a8224-91aa-4fe2-80ff-cd74c8ea1ae9",
   "metadata": {},
   "outputs": [],
   "source": [
    "requests_21 = pd.get_dummies(requests_21, columns=['detailed_type'], prefix='', prefix_sep='', drop_first=False)"
   ]
  },
  {
   "cell_type": "markdown",
   "id": "0d03c47f-229f-41ec-b907-404debe36e54",
   "metadata": {
    "tags": []
   },
   "source": [
    "### 5: council_district"
   ]
  },
  {
   "cell_type": "markdown",
   "id": "9f154e59-d56a-463a-8cde-22210851445a",
   "metadata": {},
   "source": [
    "#### feature: cd"
   ]
  },
  {
   "cell_type": "code",
   "execution_count": null,
   "id": "729ab120-9b9c-4c22-bcb8-9440b946136e",
   "metadata": {},
   "outputs": [],
   "source": [
    "requests_21 = pd.get_dummies(requests_21, columns=['council_district'], prefix='cd', prefix_sep='_', drop_first=False)"
   ]
  },
  {
   "cell_type": "markdown",
   "id": "27978604-0ddc-48d2-be60-558e4cec922f",
   "metadata": {},
   "source": [
    "### 7: is_phone"
   ]
  },
  {
   "cell_type": "markdown",
   "id": "4148ce34-0d7a-4867-ad81-62e19cf3f7ac",
   "metadata": {},
   "source": [
    "#### feature: is_phone\n",
    "- describes whether person called in or requested via web or mobile app"
   ]
  },
  {
   "cell_type": "code",
   "execution_count": null,
   "id": "16c32cf9-0434-4a16-8103-92b93ad361dd",
   "metadata": {},
   "outputs": [],
   "source": [
    "requests_21['is_phone'] = np.where((requests_21['case_origin'] == 'Mobile') | (requests_21['case_origin'] == 'Web'), 0, 1)"
   ]
  },
  {
   "cell_type": "code",
   "execution_count": null,
   "id": "fb6b60bc-c929-4ccc-a87d-b4f60b2df9cb",
   "metadata": {},
   "outputs": [],
   "source": [
    "requests_21['is_phone'].value_counts()"
   ]
  },
  {
   "cell_type": "code",
   "execution_count": null,
   "id": "c7aa8410-a74f-4e12-ab17-796d9e19e7c3",
   "metadata": {},
   "outputs": [],
   "source": [
    "#drop case_origin columns\n",
    "requests_21 = requests_21.drop('case_origin', axis=1)"
   ]
  },
  {
   "cell_type": "code",
   "execution_count": null,
   "id": "c0a7213f-bbd9-4735-97a1-20cfbe84d447",
   "metadata": {},
   "outputs": [],
   "source": [
    "# drop referred column\n",
    "requests_21 = requests_21.drop('referred', axis=1)"
   ]
  },
  {
   "cell_type": "markdown",
   "id": "389e53b4-dc45-42a8-95a4-55357af6894f",
   "metadata": {},
   "source": [
    "### 8: public_description (NLP features)"
   ]
  },
  {
   "cell_type": "markdown",
   "id": "dfeccf37-0d20-4bd3-9505-ec3657919702",
   "metadata": {},
   "source": [
    "#### Imports"
   ]
  },
  {
   "cell_type": "code",
   "execution_count": null,
   "id": "3c6af19a-8816-43d2-86a1-e1d3cc15545c",
   "metadata": {},
   "outputs": [],
   "source": [
    "#import required packages for cleaning\n",
    "import nltk\n",
    "from nltk.corpus import stopwords\n",
    "nltk.download('stopwords')\n",
    "nltk.download('omw-1.4')\n",
    "from nltk.corpus import stopwords\n",
    "nltk.download('wordnet')\n",
    "from nltk.stem import WordNetLemmatizer\n",
    "nltk.download('punkt')\n",
    "from nltk.stem import PorterStemmer\n",
    "\n",
    "import string\n",
    "import re"
   ]
  },
  {
   "cell_type": "code",
   "execution_count": null,
   "id": "e40d454e-eeb3-47e1-859a-9b2dfbe56751",
   "metadata": {},
   "outputs": [],
   "source": [
    "from sklearn.preprocessing import MinMaxScaler\n",
    "# Import StandardScaler\n",
    "from sklearn.preprocessing import StandardScaler"
   ]
  },
  {
   "cell_type": "markdown",
   "id": "478b6b93-54fe-46ff-8a99-5e5501f7a1bc",
   "metadata": {},
   "source": [
    "#### Cleaning"
   ]
  },
  {
   "cell_type": "code",
   "execution_count": null,
   "id": "fd3158f0-1e34-47a3-b01f-46f96f95b3a2",
   "metadata": {},
   "outputs": [],
   "source": [
    "ENGstopwords = stopwords.words('english')"
   ]
  },
  {
   "cell_type": "code",
   "execution_count": null,
   "id": "472a35e7-411e-442b-88f8-8baa02e61c3d",
   "metadata": {},
   "outputs": [],
   "source": [
    "#remove all rows with no description\n",
    "requests_21 = requests_21.dropna(subset=['public_description'])"
   ]
  },
  {
   "cell_type": "code",
   "execution_count": null,
   "id": "015d718b-03a9-4f79-82b2-c97c79b18f10",
   "metadata": {},
   "outputs": [],
   "source": [
    "#define cleaning function\n",
    "\n",
    "def clean(text):\n",
    "    \n",
    "    # remove punctuation    \n",
    "    text = \"\".join([char for char in text if char not in string.punctuation])\n",
    "\n",
    "    # tokenize words\n",
    "    tokens = text.split()\n",
    "\n",
    "    # remove all stopwords\n",
    "    tokens_no_stopwords = [word for word in tokens if word not in ENGstopwords]\n",
    "\n",
    "    # lemmatize\n",
    "    lemmatizer = WordNetLemmatizer()\n",
    "    lemmatized_tokens_n = [lemmatizer.lemmatize(token) for token in tokens_no_stopwords]\n",
    "    lemmatized_tokens_v = [lemmatizer.lemmatize(token, pos =\"v\") for token in lemmatized_tokens_n]\n",
    "    lemmatized_tokens_a = [lemmatizer.lemmatize(token, pos =\"a\") for token in lemmatized_tokens_v]\n",
    "    lemmatized_tokens_r = [lemmatizer.lemmatize(token, pos =\"r\") for token in lemmatized_tokens_a]\n",
    "    lemmatized_tokens_s = [lemmatizer.lemmatize(token, pos =\"s\") for token in lemmatized_tokens_r]\n",
    "        \n",
    "    return lemmatized_tokens_s"
   ]
  },
  {
   "cell_type": "code",
   "execution_count": null,
   "id": "b200f089-d35a-47f5-beb0-913cbf7e6f03",
   "metadata": {},
   "outputs": [],
   "source": [
    "test_str = 'THIS is a STrINg!!'"
   ]
  },
  {
   "cell_type": "code",
   "execution_count": null,
   "id": "bde9b46b-3150-47f5-a3f8-59607f1203ec",
   "metadata": {},
   "outputs": [],
   "source": [
    "clean(test_str.lower())"
   ]
  },
  {
   "cell_type": "code",
   "execution_count": null,
   "id": "bf6003ac-0c15-4613-b4f5-df173f458b99",
   "metadata": {},
   "outputs": [],
   "source": [
    "requests_21['tokens'] = requests_21['public_description'].apply(lambda x: clean(x.lower()))"
   ]
  },
  {
   "cell_type": "markdown",
   "id": "5634a304-0837-45cc-871c-5df7563f8991",
   "metadata": {},
   "source": [
    "#### feature: word_count"
   ]
  },
  {
   "cell_type": "code",
   "execution_count": null,
   "id": "0475d23e-d2c0-467f-aac5-c52b8481df47",
   "metadata": {},
   "outputs": [],
   "source": [
    "# define function to create tokens WITH stopwords\n",
    "def count_all_words(text):\n",
    "    \n",
    "    # remove punctuation    \n",
    "    text = \"\".join([char for char in text if char not in string.punctuation])\n",
    "\n",
    "    # tokenize words\n",
    "    tokens = text.split()\n",
    "        \n",
    "    return len(tokens)\n",
    "\n",
    "requests_21['word_count'] = requests_21['public_description'].apply(lambda x: count_all_words(x.lower()))"
   ]
  },
  {
   "cell_type": "code",
   "execution_count": null,
   "id": "cbfa6937-ce3f-441f-a9cf-3f9d461bb861",
   "metadata": {},
   "outputs": [],
   "source": [
    "requests_21.head(2)"
   ]
  },
  {
   "cell_type": "code",
   "execution_count": null,
   "id": "a5856e56-494c-489c-bfab-236310c5e023",
   "metadata": {},
   "outputs": [],
   "source": [
    "#standardize word count column\n",
    "\n",
    "# Instantiate StandardScaler\n",
    "count_scaler = StandardScaler()\n",
    "\n",
    "# Fit SS_scaler to the data\n",
    "count_scaler.fit(requests_21[['word_count']])\n",
    "\n",
    "# Transform the data using the fitted scaler\n",
    "requests_21['word_count_SS'] = count_scaler.transform(requests_21[['word_count']])\n",
    "\n",
    "# # Compare the origional and transformed column\n",
    "# print(requests_21[['Age_SS', 'Age']].head())"
   ]
  },
  {
   "cell_type": "code",
   "execution_count": null,
   "id": "614f2737-b653-4b2c-86b3-81da0099b37b",
   "metadata": {},
   "outputs": [],
   "source": [
    "test = pd.DataFrame({'check1': [1,1,2], 'check2': ['y','n','y']})"
   ]
  },
  {
   "cell_type": "code",
   "execution_count": null,
   "id": "ebffd954-f1a8-4a8a-bd75-41f5cb03d01f",
   "metadata": {},
   "outputs": [],
   "source": [
    "test"
   ]
  },
  {
   "cell_type": "code",
   "execution_count": null,
   "id": "74d851e4-d8e4-4d1f-85d2-cea96129bd6b",
   "metadata": {},
   "outputs": [],
   "source": [
    "test['test_col'] = [1,2,3]"
   ]
  },
  {
   "cell_type": "code",
   "execution_count": null,
   "id": "734e9b95-09a0-4ea6-9e4e-044f77bc76ff",
   "metadata": {},
   "outputs": [],
   "source": [
    "test"
   ]
  },
  {
   "cell_type": "code",
   "execution_count": null,
   "id": "b1fae601-ec1f-4477-bf6a-e395b45a8169",
   "metadata": {},
   "outputs": [],
   "source": [
    "test[['test_col']].shape"
   ]
  },
  {
   "cell_type": "code",
   "execution_count": null,
   "id": "0a7b95d4-4401-40b3-8797-3da403698d39",
   "metadata": {},
   "outputs": [],
   "source": [
    "requests_21[['word_count']]"
   ]
  },
  {
   "cell_type": "code",
   "execution_count": null,
   "id": "45c5ed69-7dcd-4b16-83e4-efa42f111e45",
   "metadata": {},
   "outputs": [],
   "source": [
    "import pickle"
   ]
  },
  {
   "cell_type": "code",
   "execution_count": null,
   "id": "af63a977-77e1-4db9-8a26-3c0c0e149778",
   "metadata": {},
   "outputs": [],
   "source": [
    "pickle.dump(count_scaler, open('../data/count_scaler.pkl', 'wb'))"
   ]
  },
  {
   "cell_type": "code",
   "execution_count": null,
   "id": "261b9d96-9f9a-4af8-a302-bc6b8d574b84",
   "metadata": {},
   "outputs": [],
   "source": [
    "requests_21.head(2)"
   ]
  },
  {
   "cell_type": "code",
   "execution_count": null,
   "id": "da75024c-2b3e-40f8-b3c7-e19783a9f3eb",
   "metadata": {},
   "outputs": [],
   "source": [
    "# encampments = requests_21g[['public_description','w2v']]"
   ]
  },
  {
   "cell_type": "code",
   "execution_count": null,
   "id": "a2d98d8f-7257-4d3c-9b67-b29fd7dc52cd",
   "metadata": {},
   "outputs": [],
   "source": [
    "# encampments[encampments['public_description'] == 'Encampment']"
   ]
  },
  {
   "cell_type": "code",
   "execution_count": null,
   "id": "fe1685ee-60e5-41a1-80cc-a1415cf6ba0f",
   "metadata": {
    "tags": []
   },
   "outputs": [],
   "source": [
    "# list(requests_21.columns)"
   ]
  },
  {
   "cell_type": "code",
   "execution_count": null,
   "id": "eb92e750-ec68-447e-91b6-1e7a3c0c287e",
   "metadata": {},
   "outputs": [],
   "source": [
    "# #check histogram of word count\n",
    "# fig, ax = plt.subplots()\n",
    "# ax.hist(requests_21['word_count_SS'], bins=100)\n",
    "# plt.show()"
   ]
  },
  {
   "cell_type": "markdown",
   "id": "5f62c806-e0ca-4252-8a4d-495c6d842a90",
   "metadata": {},
   "source": [
    "### a - SIMPLE model - binary in_park and numerical council_district only"
   ]
  },
  {
   "cell_type": "code",
   "execution_count": null,
   "id": "17b4bf60-f623-4838-bdec-b8dd7e83c0d9",
   "metadata": {},
   "outputs": [],
   "source": [
    "# requests_21a = requests_21"
   ]
  },
  {
   "cell_type": "code",
   "execution_count": null,
   "id": "9d761262-031e-4708-a48b-02adaa72855d",
   "metadata": {},
   "outputs": [],
   "source": [
    "# X = requests_21a[['in_park', 'council_district']]\n",
    "# y = requests_21a['case_age_days']"
   ]
  },
  {
   "cell_type": "code",
   "execution_count": null,
   "id": "2d894127-57f5-4b2c-a331-e2b87e3e1a8e",
   "metadata": {},
   "outputs": [],
   "source": [
    "# X.head()"
   ]
  },
  {
   "cell_type": "code",
   "execution_count": null,
   "id": "fa9ac19b-bc37-49c0-a9c5-552406ac1b84",
   "metadata": {},
   "outputs": [],
   "source": [
    "# y.head()"
   ]
  },
  {
   "cell_type": "code",
   "execution_count": null,
   "id": "cc34d481-11b8-46b8-88a3-e835263d65b9",
   "metadata": {},
   "outputs": [],
   "source": [
    "# import xgboost as xgb\n",
    "# from sklearn.metrics import mean_squared_error\n",
    "# from sklearn.metrics import r2_score"
   ]
  },
  {
   "cell_type": "code",
   "execution_count": null,
   "id": "12a47da9-b7a8-4179-97fa-a09d222f01a9",
   "metadata": {},
   "outputs": [],
   "source": [
    "# (X_train, X_test, y_train, y_test) = train_test_split(X, y, test_size = 0.2, random_state = 42)"
   ]
  },
  {
   "cell_type": "code",
   "execution_count": null,
   "id": "0611af99-2cff-4a90-adcb-bf9f524a9cc0",
   "metadata": {},
   "outputs": [],
   "source": [
    "# print(X_train.shape)\n",
    "# print(X_test.shape)\n",
    "# print(y_train.shape)\n",
    "# print(y_test.shape)"
   ]
  },
  {
   "cell_type": "code",
   "execution_count": null,
   "id": "e2ed3ffe-91a9-49ac-967a-7bab83ad30d7",
   "metadata": {},
   "outputs": [],
   "source": [
    "# #Instantiate model\n",
    "# xg_reg = xgb.XGBRegressor()"
   ]
  },
  {
   "cell_type": "code",
   "execution_count": null,
   "id": "e23ac365-c658-4a14-b279-66759e554cea",
   "metadata": {},
   "outputs": [],
   "source": [
    "# xg_reg.fit(X_train, y_train)"
   ]
  },
  {
   "cell_type": "code",
   "execution_count": null,
   "id": "c9d92870-ef57-4ea9-8d15-d6d02ecfde18",
   "metadata": {},
   "outputs": [],
   "source": [
    "# preds = xg_reg.predict(X_test)"
   ]
  },
  {
   "cell_type": "code",
   "execution_count": null,
   "id": "d1871b75-d31b-4517-b515-8f845f1c7bb4",
   "metadata": {},
   "outputs": [],
   "source": [
    "# print(preds)"
   ]
  },
  {
   "cell_type": "code",
   "execution_count": null,
   "id": "b6144c92-f967-4148-b463-d3a9c93a9bff",
   "metadata": {},
   "outputs": [],
   "source": [
    "# rmse = np.sqrt(mean_squared_error(y_test,preds))\n",
    "\n",
    "# print(\"RMSE: %f\" % (rmse))"
   ]
  },
  {
   "cell_type": "code",
   "execution_count": null,
   "id": "39e2b19a-658c-4b6e-ae8d-973ed1c91ce9",
   "metadata": {},
   "outputs": [],
   "source": [
    "# r2 = r2_score(y_test, xg_reg.predict(X_test))\n",
    "# print(r2)"
   ]
  },
  {
   "cell_type": "code",
   "execution_count": null,
   "id": "2dfbf3ba-4945-4f5a-8037-a9647c91a2a2",
   "metadata": {},
   "outputs": [],
   "source": [
    "# model_columns = list(X_test.columns)\n",
    "# with open('../data/model_columns.pkl', 'wb') as file:\n",
    "#     pickle.dump(model_columns, file)"
   ]
  },
  {
   "cell_type": "code",
   "execution_count": null,
   "id": "4ea32782-3b97-4d46-bd10-3858fa0e13ee",
   "metadata": {},
   "outputs": [],
   "source": [
    "# import pickle\n",
    "\n",
    "    \n",
    "# pickle.dump(xg_reg, open('../data/simple_model.pkl', 'wb'))"
   ]
  },
  {
   "cell_type": "code",
   "execution_count": null,
   "id": "805f6aaf-482b-4bcc-8382-e7156eb26406",
   "metadata": {},
   "outputs": [],
   "source": [
    "# with open('../data/simple_model.pkl', 'rb') as file:\n",
    "#     test_pickle = pickle.load(file)"
   ]
  },
  {
   "cell_type": "code",
   "execution_count": null,
   "id": "a49e0b17-8a91-4462-b1c0-0e6b1e21d54a",
   "metadata": {},
   "outputs": [],
   "source": [
    "# test_pickle"
   ]
  },
  {
   "cell_type": "code",
   "execution_count": null,
   "id": "1d93b0b8-0080-4fdb-998b-b73cb032d0ad",
   "metadata": {},
   "outputs": [],
   "source": [
    "# # in_park_binary = (0,1)\n",
    "\n",
    "# # council_districts = (1,2,3,4,5,6,7,8,9)\n",
    "\n",
    "# in_park = 1\n",
    "# council_district = 3\n",
    "\n",
    "# # st.write(in_park)\n",
    "# # st.write(council_district)\n",
    "\n",
    "# # ok = st.button(\"Predict Response Time\")\n",
    "\n",
    "# # if ok == True:\n",
    "# X_dict = {'in_park': [in_park], 'council_district': [council_district]}\n",
    "# X = pd.DataFrame(X_dict)"
   ]
  },
  {
   "cell_type": "code",
   "execution_count": null,
   "id": "5f0c21e8-a20c-459b-8d2e-794d21bbcbb2",
   "metadata": {},
   "outputs": [],
   "source": [
    "# y_pred = test_pickle.predict(X)\n",
    "\n",
    "# # response_time = xg_reg.predict(X)\n",
    "# # response_time\n",
    "# # st.write(response_time[0])"
   ]
  },
  {
   "cell_type": "code",
   "execution_count": null,
   "id": "b6e5efc8-a4c7-4391-aad2-322ada332969",
   "metadata": {},
   "outputs": [],
   "source": [
    "# y_pred"
   ]
  },
  {
   "cell_type": "markdown",
   "id": "8f1899e8-b362-4557-81e2-ab843aadc79d",
   "metadata": {},
   "source": [
    "### b - SIMPLE model - binary in_park and one-hot council district"
   ]
  },
  {
   "cell_type": "code",
   "execution_count": null,
   "id": "6d9b1467-ac98-4d06-89e1-2d54ad1246a0",
   "metadata": {},
   "outputs": [],
   "source": [
    "requests_21b = requests_21"
   ]
  },
  {
   "cell_type": "code",
   "execution_count": null,
   "id": "e8d613cd-53b3-482e-b4e2-f607e566c862",
   "metadata": {},
   "outputs": [],
   "source": [
    "requests_21b.columns"
   ]
  },
  {
   "cell_type": "code",
   "execution_count": null,
   "id": "572241c4-20c6-4e82-886e-2c275c4194b2",
   "metadata": {},
   "outputs": [],
   "source": [
    "X = requests_21[['in_park', 'cd_1.0', 'cd_2.0', 'cd_3.0', 'cd_4.0',\n",
    "       'cd_5.0', 'cd_6.0', 'cd_7.0', 'cd_8.0', 'cd_9.0']]\n",
    "y = requests_21['case_age_days']"
   ]
  },
  {
   "cell_type": "code",
   "execution_count": null,
   "id": "1b1d97e8-521a-4478-b017-5511af81bb30",
   "metadata": {},
   "outputs": [],
   "source": [
    "X.head()"
   ]
  },
  {
   "cell_type": "code",
   "execution_count": null,
   "id": "33b70f97-d1a6-4aec-89cf-f441f096e2e8",
   "metadata": {},
   "outputs": [],
   "source": [
    "y.head()"
   ]
  },
  {
   "cell_type": "code",
   "execution_count": null,
   "id": "cf665ad2-e7a5-4d86-a63c-e8e88ce3ebdd",
   "metadata": {},
   "outputs": [],
   "source": [
    "import xgboost as xgb\n",
    "from sklearn.metrics import mean_squared_error\n",
    "from sklearn.metrics import r2_score"
   ]
  },
  {
   "cell_type": "code",
   "execution_count": null,
   "id": "870e8165-c0a5-4923-a20d-c89dc49e13fb",
   "metadata": {},
   "outputs": [],
   "source": [
    "(X_train, X_test, y_train, y_test) = train_test_split(X, y, test_size = 0.2, random_state = 42)"
   ]
  },
  {
   "cell_type": "code",
   "execution_count": null,
   "id": "6050970c-35cc-44f3-9916-c6fdd5e1820c",
   "metadata": {},
   "outputs": [],
   "source": [
    "print(X_train.shape)\n",
    "print(X_test.shape)\n",
    "print(y_train.shape)\n",
    "print(y_test.shape)"
   ]
  },
  {
   "cell_type": "code",
   "execution_count": null,
   "id": "e9e3c2ef-e591-453f-9ef1-36522f6275ee",
   "metadata": {},
   "outputs": [],
   "source": [
    "#Instantiate model\n",
    "xg_reg = xgb.XGBRegressor()"
   ]
  },
  {
   "cell_type": "code",
   "execution_count": null,
   "id": "3491231f-cefc-43bf-9a28-de1fdae9c6c4",
   "metadata": {},
   "outputs": [],
   "source": [
    "xg_reg.fit(X_train, y_train)"
   ]
  },
  {
   "cell_type": "code",
   "execution_count": null,
   "id": "13bf928d-4c8a-4836-9416-3a11fb8db89e",
   "metadata": {},
   "outputs": [],
   "source": [
    "preds = xg_reg.predict(X_test)"
   ]
  },
  {
   "cell_type": "code",
   "execution_count": null,
   "id": "84f7cfca-923e-43c0-a3b7-b06b037f4696",
   "metadata": {},
   "outputs": [],
   "source": [
    "print(preds)"
   ]
  },
  {
   "cell_type": "code",
   "execution_count": null,
   "id": "1cf7d857-67d4-48b3-b2e2-17210fafa9ef",
   "metadata": {},
   "outputs": [],
   "source": [
    "rmse = np.sqrt(mean_squared_error(y_test,preds))\n",
    "\n",
    "print(\"RMSE: %f\" % (rmse))"
   ]
  },
  {
   "cell_type": "code",
   "execution_count": null,
   "id": "0cd1b09e-0eb8-49e4-b440-fd6d7b0208ab",
   "metadata": {},
   "outputs": [],
   "source": [
    "r2 = r2_score(y_test, xg_reg.predict(X_test))\n",
    "print(r2)"
   ]
  },
  {
   "cell_type": "code",
   "execution_count": null,
   "id": "fe16cc9d-e503-40ab-916e-dd5d7bc192f0",
   "metadata": {},
   "outputs": [],
   "source": [
    " pickle.dump(xg_reg, open('../data/simple_model_b.pkl', 'wb'))"
   ]
  },
  {
   "cell_type": "code",
   "execution_count": null,
   "id": "10625d7b-d2ea-44e9-8768-68548c355da1",
   "metadata": {},
   "outputs": [],
   "source": [
    "with open('../data/simple_model_b.pkl', 'rb') as file:\n",
    "    test_pickle = pickle.load(file)"
   ]
  },
  {
   "cell_type": "markdown",
   "id": "2b558cc6-e177-4a49-a926-2097be735c95",
   "metadata": {},
   "source": [
    "### c - SIMPLE model - binary in_park, one-hot council district, one-hot weekday, one-hot month, is_weekend"
   ]
  },
  {
   "cell_type": "code",
   "execution_count": null,
   "id": "00658302-3ad5-427e-9134-889fb402b38f",
   "metadata": {
    "tags": []
   },
   "outputs": [],
   "source": [
    "requests_21c = requests_21"
   ]
  },
  {
   "cell_type": "code",
   "execution_count": null,
   "id": "52c0550b-2be8-4c33-8814-77849da5eb4f",
   "metadata": {},
   "outputs": [],
   "source": [
    "X = requests_21c[['day_0', 'day_1', 'day_2', 'day_3', 'day_4', 'day_5', 'day_6',\n",
    "                  'is_weekend',\n",
    "                 'month_1', 'month_2', 'month_3', 'month_4', 'month_5', 'month_6',\n",
    "                 'month_7', 'month_8', 'month_9', 'month_10', 'month_11', 'month_12',\n",
    "                 'in_park',\n",
    "                 'cd_1.0', 'cd_2.0', 'cd_3.0',\n",
    "                 'cd_4.0', 'cd_5.0', 'cd_6.0',\n",
    "                 'cd_7.0', 'cd_8.0', 'cd_9.0'\n",
    "                ]]\n",
    "y = requests_21c['case_age_days']"
   ]
  },
  {
   "cell_type": "code",
   "execution_count": null,
   "id": "4f10f934-45b0-493e-ba9b-2ee436142c45",
   "metadata": {},
   "outputs": [],
   "source": [
    "print(X.columns)"
   ]
  },
  {
   "cell_type": "code",
   "execution_count": null,
   "id": "a15e27a9-c13f-461a-83a6-e0e1068167fb",
   "metadata": {},
   "outputs": [],
   "source": [
    "X.head(2)"
   ]
  },
  {
   "cell_type": "code",
   "execution_count": null,
   "id": "eba35c4b-ee21-45c8-8824-90da26a5ea16",
   "metadata": {},
   "outputs": [],
   "source": [
    "import xgboost as xgb\n",
    "from sklearn.metrics import mean_squared_error\n",
    "from sklearn.metrics import r2_score"
   ]
  },
  {
   "cell_type": "code",
   "execution_count": null,
   "id": "e0907f58-2053-4a91-b6ac-81910789ae3b",
   "metadata": {},
   "outputs": [],
   "source": [
    "(X_train, X_test, y_train, y_test) = train_test_split(X, y, test_size = 0.2, random_state = 42)"
   ]
  },
  {
   "cell_type": "code",
   "execution_count": null,
   "id": "c969f533-c36e-4a4c-af7d-92c6dbcd0370",
   "metadata": {},
   "outputs": [],
   "source": [
    "print(X_train.shape)\n",
    "print(X_test.shape)\n",
    "print(y_train.shape)\n",
    "print(y_test.shape)"
   ]
  },
  {
   "cell_type": "code",
   "execution_count": null,
   "id": "8aad1b9b-1eb9-46ae-8e6f-9832bbd534d9",
   "metadata": {},
   "outputs": [],
   "source": [
    "#Instantiate model\n",
    "xg_reg = xgb.XGBRegressor()"
   ]
  },
  {
   "cell_type": "code",
   "execution_count": null,
   "id": "e6288f24-0b7d-4ddc-93a8-6593ffb5bd34",
   "metadata": {},
   "outputs": [],
   "source": [
    "xg_reg.fit(X_train, y_train)"
   ]
  },
  {
   "cell_type": "code",
   "execution_count": null,
   "id": "c8fde126-0fc8-431c-9b44-45d969d6fdec",
   "metadata": {},
   "outputs": [],
   "source": [
    "preds = xg_reg.predict(X_test)"
   ]
  },
  {
   "cell_type": "code",
   "execution_count": null,
   "id": "f9f34748-3db4-47f5-b50c-918fc8ca3d31",
   "metadata": {},
   "outputs": [],
   "source": [
    "print(preds)"
   ]
  },
  {
   "cell_type": "code",
   "execution_count": null,
   "id": "af7f9a74-09ee-480e-8e38-1c83693a7443",
   "metadata": {},
   "outputs": [],
   "source": [
    "rmse = np.sqrt(mean_squared_error(y_test,preds))\n",
    "\n",
    "print(\"RMSE: %f\" % (rmse))"
   ]
  },
  {
   "cell_type": "code",
   "execution_count": null,
   "id": "eee152cd-6d05-4a9e-bd45-253b2eeb9d65",
   "metadata": {},
   "outputs": [],
   "source": [
    "r2 = r2_score(y_test, xg_reg.predict(X_test))\n",
    "print(r2)"
   ]
  },
  {
   "cell_type": "code",
   "execution_count": null,
   "id": "aaf0878d-c252-40fb-89db-0d43084be5ce",
   "metadata": {},
   "outputs": [],
   "source": [
    " pickle.dump(xg_reg, open('../data/simple_model_c.pkl', 'wb'))"
   ]
  },
  {
   "cell_type": "code",
   "execution_count": null,
   "id": "ab57600f-32ea-4a92-945a-cc8634885fbf",
   "metadata": {},
   "outputs": [],
   "source": [
    "with open('../data/simple_model_c.pkl', 'rb') as file:\n",
    "    test_pickle = pickle.load(file)"
   ]
  },
  {
   "cell_type": "markdown",
   "id": "4960e888-5f39-4f15-b120-ad6e7a97ebbb",
   "metadata": {},
   "source": [
    "### d - SIMPLE model: add is_phone feature\n",
    "- binary in_park\n",
    "- one-hot council district\n",
    "- one-hot weekday\n",
    "- one-hot month\n",
    "- is_weekend\n",
    "- is_phone"
   ]
  },
  {
   "cell_type": "code",
   "execution_count": null,
   "id": "f5dbce24-600d-4539-9a12-c215e6d3d4eb",
   "metadata": {
    "tags": []
   },
   "outputs": [],
   "source": [
    "requests_21d = requests_21"
   ]
  },
  {
   "cell_type": "code",
   "execution_count": null,
   "id": "5e9d5084-f498-4c49-b8d2-6395041534f5",
   "metadata": {},
   "outputs": [],
   "source": [
    "X = requests_21d[['day_0', 'day_1', 'day_2', 'day_3', 'day_4', 'day_5', 'day_6',\n",
    "                  'is_weekend',\n",
    "                 'month_1', 'month_2', 'month_3', 'month_4', 'month_5', 'month_6',\n",
    "                 'month_7', 'month_8', 'month_9', 'month_10', 'month_11', 'month_12',\n",
    "                 'in_park',\n",
    "                 'cd_1.0', 'cd_2.0', 'cd_3.0',\n",
    "                 'cd_4.0', 'cd_5.0', 'cd_6.0',\n",
    "                 'cd_7.0', 'cd_8.0', 'cd_9.0', \n",
    "                  'is_phone'\n",
    "                ]]\n",
    "y = requests_21d['case_age_days']"
   ]
  },
  {
   "cell_type": "code",
   "execution_count": null,
   "id": "dd9d3de8-5d65-4dd6-8f42-c932b512da6a",
   "metadata": {},
   "outputs": [],
   "source": [
    "print(X.columns)"
   ]
  },
  {
   "cell_type": "code",
   "execution_count": null,
   "id": "618b3835-66f5-4f24-aa7e-fdb5a6a0e4e2",
   "metadata": {},
   "outputs": [],
   "source": [
    "X.head(2)"
   ]
  },
  {
   "cell_type": "code",
   "execution_count": null,
   "id": "517a1e30-fc73-474c-aa58-72a94d242339",
   "metadata": {},
   "outputs": [],
   "source": [
    "import xgboost as xgb\n",
    "from sklearn.metrics import mean_squared_error\n",
    "from sklearn.metrics import r2_score"
   ]
  },
  {
   "cell_type": "code",
   "execution_count": null,
   "id": "b889035f-4c46-4ed2-95e7-ebc2d9c4eb9f",
   "metadata": {},
   "outputs": [],
   "source": [
    "(X_train, X_test, y_train, y_test) = train_test_split(X, y, test_size = 0.2, random_state = 42)"
   ]
  },
  {
   "cell_type": "code",
   "execution_count": null,
   "id": "2cf64167-0014-44ef-9846-129863eb0c0b",
   "metadata": {},
   "outputs": [],
   "source": [
    "print(X_train.shape)\n",
    "print(X_test.shape)\n",
    "print(y_train.shape)\n",
    "print(y_test.shape)"
   ]
  },
  {
   "cell_type": "code",
   "execution_count": null,
   "id": "b63bf756-1de5-46ba-99d1-04074ad27826",
   "metadata": {},
   "outputs": [],
   "source": [
    "#Instantiate model\n",
    "xg_reg = xgb.XGBRegressor()"
   ]
  },
  {
   "cell_type": "code",
   "execution_count": null,
   "id": "2fb060b1-9b19-46b4-a40e-584571d8d2d3",
   "metadata": {},
   "outputs": [],
   "source": [
    "xg_reg.fit(X_train, y_train)"
   ]
  },
  {
   "cell_type": "code",
   "execution_count": null,
   "id": "54fd2e14-cc18-435d-bd5b-9a0a88369bd8",
   "metadata": {},
   "outputs": [],
   "source": [
    "preds = xg_reg.predict(X_test)"
   ]
  },
  {
   "cell_type": "code",
   "execution_count": null,
   "id": "6b337cf2-9b70-4690-9b93-5f5fdb79656b",
   "metadata": {},
   "outputs": [],
   "source": [
    "print(preds)"
   ]
  },
  {
   "cell_type": "code",
   "execution_count": null,
   "id": "a8279ed7-b8c6-4724-85aa-1d7d1c1e759f",
   "metadata": {},
   "outputs": [],
   "source": [
    "rmse = np.sqrt(mean_squared_error(y_test,preds))\n",
    "\n",
    "print(\"RMSE: %f\" % (rmse))"
   ]
  },
  {
   "cell_type": "code",
   "execution_count": null,
   "id": "194a675e-bcb0-45db-86d6-f70cc0d87e34",
   "metadata": {},
   "outputs": [],
   "source": [
    "r2 = r2_score(y_test, xg_reg.predict(X_test))\n",
    "print(r2)"
   ]
  },
  {
   "cell_type": "code",
   "execution_count": null,
   "id": "8173b6dd-f683-4d64-9354-ffdb3e4f0337",
   "metadata": {},
   "outputs": [],
   "source": [
    " pickle.dump(xg_reg, open('../data/simple_model_d.pkl', 'wb'))"
   ]
  },
  {
   "cell_type": "code",
   "execution_count": null,
   "id": "f8e04f31-07ed-4fd5-a453-4945136dcd8e",
   "metadata": {},
   "outputs": [],
   "source": [
    "with open('../data/simple_model_d.pkl', 'rb') as file:\n",
    "    test_pickle = pickle.load(file)"
   ]
  },
  {
   "cell_type": "markdown",
   "id": "7a61a96a-8579-4a16-8f3e-67765bf55d1b",
   "metadata": {},
   "source": [
    "### e - SIMPLE model: add text feature"
   ]
  },
  {
   "cell_type": "code",
   "execution_count": null,
   "id": "1cadefb2-c510-48d5-94ba-5a038ba668f2",
   "metadata": {
    "tags": []
   },
   "outputs": [],
   "source": [
    "requests_21e = requests_21"
   ]
  },
  {
   "cell_type": "code",
   "execution_count": null,
   "id": "b190eabc-9ada-471c-adb5-060fb9cdb9d8",
   "metadata": {},
   "outputs": [],
   "source": [
    "X = requests_21e[['day_0', 'day_1', 'day_2', 'day_3', 'day_4', 'day_5', 'day_6',\n",
    "                  'is_weekend',\n",
    "                 'month_1', 'month_2', 'month_3', 'month_4', 'month_5', 'month_6',\n",
    "                 'month_7', 'month_8', 'month_9', 'month_10', 'month_11', 'month_12',\n",
    "                 'in_park',\n",
    "                 'cd_1.0', 'cd_2.0', 'cd_3.0',\n",
    "                 'cd_4.0', 'cd_5.0', 'cd_6.0',\n",
    "                 'cd_7.0', 'cd_8.0', 'cd_9.0', \n",
    "                  'is_phone',\n",
    "                  'word_count_SS'\n",
    "                ]]\n",
    "y = requests_21e['case_age_days']"
   ]
  },
  {
   "cell_type": "code",
   "execution_count": null,
   "id": "1de44525-c344-4fe0-985c-992fdfe7fb2b",
   "metadata": {},
   "outputs": [],
   "source": [
    "print(X.columns)"
   ]
  },
  {
   "cell_type": "code",
   "execution_count": null,
   "id": "94135044-c8e6-4a8f-af8c-c7fb372e443b",
   "metadata": {},
   "outputs": [],
   "source": [
    "X.head(2)"
   ]
  },
  {
   "cell_type": "code",
   "execution_count": null,
   "id": "6829e7fe-754d-4996-bcc9-c69bf524c8a4",
   "metadata": {},
   "outputs": [],
   "source": [
    "import xgboost as xgb\n",
    "from sklearn.metrics import mean_squared_error\n",
    "from sklearn.metrics import r2_score"
   ]
  },
  {
   "cell_type": "code",
   "execution_count": null,
   "id": "f5c9511a-6093-406f-b7bf-4b26444cb868",
   "metadata": {},
   "outputs": [],
   "source": [
    "(X_train, X_test, y_train, y_test) = train_test_split(X, y, test_size = 0.2, random_state = 42)"
   ]
  },
  {
   "cell_type": "code",
   "execution_count": null,
   "id": "c73dee47-cae5-4912-9101-c59add10e8f8",
   "metadata": {},
   "outputs": [],
   "source": [
    "print(X_train.shape)\n",
    "print(X_test.shape)\n",
    "print(y_train.shape)\n",
    "print(y_test.shape)"
   ]
  },
  {
   "cell_type": "code",
   "execution_count": null,
   "id": "9685409c-0f3f-4ad4-96f8-2cc5f01f757b",
   "metadata": {},
   "outputs": [],
   "source": [
    "#Instantiate model\n",
    "xg_reg = xgb.XGBRegressor()"
   ]
  },
  {
   "cell_type": "code",
   "execution_count": null,
   "id": "2e4d2477-ea24-4965-bb06-fa5eaa24c364",
   "metadata": {},
   "outputs": [],
   "source": [
    "xg_reg.fit(X_train, y_train)"
   ]
  },
  {
   "cell_type": "code",
   "execution_count": null,
   "id": "5863cd5b-b070-433d-b5d9-8a9d08b7345b",
   "metadata": {},
   "outputs": [],
   "source": [
    "preds = xg_reg.predict(X_test)"
   ]
  },
  {
   "cell_type": "code",
   "execution_count": null,
   "id": "d6928798-6fa3-4053-abd5-61a4430f9411",
   "metadata": {},
   "outputs": [],
   "source": [
    "print(preds)"
   ]
  },
  {
   "cell_type": "code",
   "execution_count": null,
   "id": "bebe6c7c-76d5-4002-a5bc-cc1a8c989bbd",
   "metadata": {},
   "outputs": [],
   "source": [
    "rmse = np.sqrt(mean_squared_error(y_test,preds))\n",
    "\n",
    "print(\"RMSE: %f\" % (rmse))"
   ]
  },
  {
   "cell_type": "code",
   "execution_count": null,
   "id": "c0236b81-9562-4de1-911e-4a42b4af8a10",
   "metadata": {},
   "outputs": [],
   "source": [
    "r2 = r2_score(y_test, xg_reg.predict(X_test))\n",
    "print(r2)"
   ]
  },
  {
   "cell_type": "code",
   "execution_count": null,
   "id": "705048a6-6b36-41c6-9465-919b119a5d29",
   "metadata": {},
   "outputs": [],
   "source": [
    "pickle.dump(xg_reg, open('../data/simple_model_e.pkl', 'wb'))"
   ]
  },
  {
   "cell_type": "code",
   "execution_count": null,
   "id": "e3b7bc01-1d12-438c-8771-f14eb25f21b1",
   "metadata": {},
   "outputs": [],
   "source": [
    "with open('../data/simple_model_e.pkl', 'rb') as file:\n",
    "    test_pickle = pickle.load(file)"
   ]
  },
  {
   "cell_type": "markdown",
   "id": "64adb022-22a9-44ad-88f1-449bd16ac29b",
   "metadata": {},
   "source": [
    "### f - Model with service_name"
   ]
  },
  {
   "cell_type": "code",
   "execution_count": 428,
   "id": "a0831ee4-92f6-4d69-bf56-de4114a41d72",
   "metadata": {},
   "outputs": [],
   "source": [
    "requests_21f = requests_21"
   ]
  },
  {
   "cell_type": "code",
   "execution_count": 429,
   "id": "8c3638ff-3a87-4c4f-88a3-cf9458d988c5",
   "metadata": {
    "tags": []
   },
   "outputs": [
    {
     "data": {
      "text/plain": [
       "['case_age_days',\n",
       " 'service_name',\n",
       " 'service_name_detail',\n",
       " 'in_park',\n",
       " 'public_description',\n",
       " 'has_description',\n",
       " 'is_weekend',\n",
       " 'day_0',\n",
       " 'day_1',\n",
       " 'day_2',\n",
       " 'day_3',\n",
       " 'day_4',\n",
       " 'day_5',\n",
       " 'day_6',\n",
       " 'month_1',\n",
       " 'month_2',\n",
       " 'month_3',\n",
       " 'month_4',\n",
       " 'month_5',\n",
       " 'month_6',\n",
       " 'month_7',\n",
       " 'month_8',\n",
       " 'month_9',\n",
       " 'month_10',\n",
       " 'month_11',\n",
       " 'month_12',\n",
       " '72 Hour Violation',\n",
       " 'COVID-19',\n",
       " 'Container Left Out',\n",
       " 'Container Out Late',\n",
       " 'Damaged/Knocked Over Pole',\n",
       " 'Dead Animal',\n",
       " 'Development Services - Code Enforcement',\n",
       " 'Drain Inlet',\n",
       " 'Encampment',\n",
       " 'Encroachment',\n",
       " 'Environmental Services Code Compliance',\n",
       " 'Fallen/Hanging Tree Limb',\n",
       " 'Flashing Traffic Signal Lights',\n",
       " 'Graffiti',\n",
       " 'Graffiti Removal',\n",
       " 'Graffiti Removal - Commercial',\n",
       " 'Illegal Dumping',\n",
       " 'Litter',\n",
       " 'Missed Collection',\n",
       " 'Other',\n",
       " 'Oversized Vehicle',\n",
       " 'Parking',\n",
       " 'Parking Zone Violation',\n",
       " 'Pavement Maintenance',\n",
       " 'Potential Missed Collection',\n",
       " 'Pothole',\n",
       " 'Quality of Life Issues',\n",
       " 'ROW Maintenance',\n",
       " 'Resurfacing Evaluation',\n",
       " 'Right-of-Way Code Enforcement',\n",
       " 'Shared Mobility Device',\n",
       " 'Sidewalk Repair Issue',\n",
       " 'Stormwater',\n",
       " 'Stormwater Code Enforcement',\n",
       " 'Stormwater Pollution Prevention',\n",
       " 'Street Flooded',\n",
       " 'Street Light Maintenance',\n",
       " 'Street Light Out of Service',\n",
       " 'Street Sweeping',\n",
       " 'Traffic Engineering',\n",
       " 'Traffic Sign Maintenance',\n",
       " 'Traffic Signal Issue',\n",
       " 'Traffic Signal OUt of Service',\n",
       " 'Traffic Signal Timing',\n",
       " 'Trash/Recycling Collection',\n",
       " 'Tree Maintenance',\n",
       " 'Tree Removal',\n",
       " 'Tree Trimming for Pedestrian/Vehicle Clearance',\n",
       " 'Trimming Request',\n",
       " 'Vegetation Encroachment',\n",
       " 'Waste on Private Property',\n",
       " 'Weed Cleanup',\n",
       " 'cd_1.0',\n",
       " 'cd_2.0',\n",
       " 'cd_3.0',\n",
       " 'cd_4.0',\n",
       " 'cd_5.0',\n",
       " 'cd_6.0',\n",
       " 'cd_7.0',\n",
       " 'cd_8.0',\n",
       " 'cd_9.0',\n",
       " 'is_phone',\n",
       " 'tokens',\n",
       " 'word_count',\n",
       " 'word_count_SS']"
      ]
     },
     "execution_count": 429,
     "metadata": {},
     "output_type": "execute_result"
    }
   ],
   "source": [
    "list(requests_21f.columns)"
   ]
  },
  {
   "cell_type": "code",
   "execution_count": 433,
   "id": "807ec6ea-3e5c-4d61-8a06-37fc73adbf02",
   "metadata": {},
   "outputs": [
    {
     "ename": "KeyError",
     "evalue": "'detailed_type'",
     "output_type": "error",
     "traceback": [
      "\u001b[1;31m---------------------------------------------------------------------------\u001b[0m",
      "\u001b[1;31mKeyError\u001b[0m                                  Traceback (most recent call last)",
      "File \u001b[1;32m~\\anaconda3\\lib\\site-packages\\pandas\\core\\indexes\\base.py:3621\u001b[0m, in \u001b[0;36mIndex.get_loc\u001b[1;34m(self, key, method, tolerance)\u001b[0m\n\u001b[0;32m   3620\u001b[0m \u001b[38;5;28;01mtry\u001b[39;00m:\n\u001b[1;32m-> 3621\u001b[0m     \u001b[38;5;28;01mreturn\u001b[39;00m \u001b[38;5;28;43mself\u001b[39;49m\u001b[38;5;241;43m.\u001b[39;49m\u001b[43m_engine\u001b[49m\u001b[38;5;241;43m.\u001b[39;49m\u001b[43mget_loc\u001b[49m\u001b[43m(\u001b[49m\u001b[43mcasted_key\u001b[49m\u001b[43m)\u001b[49m\n\u001b[0;32m   3622\u001b[0m \u001b[38;5;28;01mexcept\u001b[39;00m \u001b[38;5;167;01mKeyError\u001b[39;00m \u001b[38;5;28;01mas\u001b[39;00m err:\n",
      "File \u001b[1;32m~\\anaconda3\\lib\\site-packages\\pandas\\_libs\\index.pyx:136\u001b[0m, in \u001b[0;36mpandas._libs.index.IndexEngine.get_loc\u001b[1;34m()\u001b[0m\n",
      "File \u001b[1;32m~\\anaconda3\\lib\\site-packages\\pandas\\_libs\\index.pyx:163\u001b[0m, in \u001b[0;36mpandas._libs.index.IndexEngine.get_loc\u001b[1;34m()\u001b[0m\n",
      "File \u001b[1;32mpandas\\_libs\\hashtable_class_helper.pxi:5198\u001b[0m, in \u001b[0;36mpandas._libs.hashtable.PyObjectHashTable.get_item\u001b[1;34m()\u001b[0m\n",
      "File \u001b[1;32mpandas\\_libs\\hashtable_class_helper.pxi:5206\u001b[0m, in \u001b[0;36mpandas._libs.hashtable.PyObjectHashTable.get_item\u001b[1;34m()\u001b[0m\n",
      "\u001b[1;31mKeyError\u001b[0m: 'detailed_type'",
      "\nThe above exception was the direct cause of the following exception:\n",
      "\u001b[1;31mKeyError\u001b[0m                                  Traceback (most recent call last)",
      "Input \u001b[1;32mIn [433]\u001b[0m, in \u001b[0;36m<cell line: 1>\u001b[1;34m()\u001b[0m\n\u001b[1;32m----> 1\u001b[0m \u001b[43mrequests_21\u001b[49m\u001b[43m[\u001b[49m\u001b[38;5;124;43m'\u001b[39;49m\u001b[38;5;124;43mdetailed_type\u001b[39;49m\u001b[38;5;124;43m'\u001b[39;49m\u001b[43m]\u001b[49m\n",
      "File \u001b[1;32m~\\anaconda3\\lib\\site-packages\\pandas\\core\\frame.py:3505\u001b[0m, in \u001b[0;36mDataFrame.__getitem__\u001b[1;34m(self, key)\u001b[0m\n\u001b[0;32m   3503\u001b[0m \u001b[38;5;28;01mif\u001b[39;00m \u001b[38;5;28mself\u001b[39m\u001b[38;5;241m.\u001b[39mcolumns\u001b[38;5;241m.\u001b[39mnlevels \u001b[38;5;241m>\u001b[39m \u001b[38;5;241m1\u001b[39m:\n\u001b[0;32m   3504\u001b[0m     \u001b[38;5;28;01mreturn\u001b[39;00m \u001b[38;5;28mself\u001b[39m\u001b[38;5;241m.\u001b[39m_getitem_multilevel(key)\n\u001b[1;32m-> 3505\u001b[0m indexer \u001b[38;5;241m=\u001b[39m \u001b[38;5;28;43mself\u001b[39;49m\u001b[38;5;241;43m.\u001b[39;49m\u001b[43mcolumns\u001b[49m\u001b[38;5;241;43m.\u001b[39;49m\u001b[43mget_loc\u001b[49m\u001b[43m(\u001b[49m\u001b[43mkey\u001b[49m\u001b[43m)\u001b[49m\n\u001b[0;32m   3506\u001b[0m \u001b[38;5;28;01mif\u001b[39;00m is_integer(indexer):\n\u001b[0;32m   3507\u001b[0m     indexer \u001b[38;5;241m=\u001b[39m [indexer]\n",
      "File \u001b[1;32m~\\anaconda3\\lib\\site-packages\\pandas\\core\\indexes\\base.py:3623\u001b[0m, in \u001b[0;36mIndex.get_loc\u001b[1;34m(self, key, method, tolerance)\u001b[0m\n\u001b[0;32m   3621\u001b[0m     \u001b[38;5;28;01mreturn\u001b[39;00m \u001b[38;5;28mself\u001b[39m\u001b[38;5;241m.\u001b[39m_engine\u001b[38;5;241m.\u001b[39mget_loc(casted_key)\n\u001b[0;32m   3622\u001b[0m \u001b[38;5;28;01mexcept\u001b[39;00m \u001b[38;5;167;01mKeyError\u001b[39;00m \u001b[38;5;28;01mas\u001b[39;00m err:\n\u001b[1;32m-> 3623\u001b[0m     \u001b[38;5;28;01mraise\u001b[39;00m \u001b[38;5;167;01mKeyError\u001b[39;00m(key) \u001b[38;5;28;01mfrom\u001b[39;00m \u001b[38;5;21;01merr\u001b[39;00m\n\u001b[0;32m   3624\u001b[0m \u001b[38;5;28;01mexcept\u001b[39;00m \u001b[38;5;167;01mTypeError\u001b[39;00m:\n\u001b[0;32m   3625\u001b[0m     \u001b[38;5;66;03m# If we have a listlike key, _check_indexing_error will raise\u001b[39;00m\n\u001b[0;32m   3626\u001b[0m     \u001b[38;5;66;03m#  InvalidIndexError. Otherwise we fall through and re-raise\u001b[39;00m\n\u001b[0;32m   3627\u001b[0m     \u001b[38;5;66;03m#  the TypeError.\u001b[39;00m\n\u001b[0;32m   3628\u001b[0m     \u001b[38;5;28mself\u001b[39m\u001b[38;5;241m.\u001b[39m_check_indexing_error(key)\n",
      "\u001b[1;31mKeyError\u001b[0m: 'detailed_type'"
     ]
    }
   ],
   "source": [
    "requests_21['detailed_type']"
   ]
  },
  {
   "cell_type": "code",
   "execution_count": 430,
   "id": "1b58f0cb-904b-4ac7-b374-085f843ec945",
   "metadata": {},
   "outputs": [
    {
     "ename": "KeyError",
     "evalue": "\"['Graffiti - Code Enforcement'] not in index\"",
     "output_type": "error",
     "traceback": [
      "\u001b[1;31m---------------------------------------------------------------------------\u001b[0m",
      "\u001b[1;31mKeyError\u001b[0m                                  Traceback (most recent call last)",
      "Input \u001b[1;32mIn [430]\u001b[0m, in \u001b[0;36m<cell line: 1>\u001b[1;34m()\u001b[0m\n\u001b[1;32m----> 1\u001b[0m X \u001b[38;5;241m=\u001b[39m \u001b[43mrequests_21f\u001b[49m\u001b[43m[\u001b[49m\u001b[43m[\u001b[49m\u001b[38;5;124;43m'\u001b[39;49m\u001b[38;5;124;43mday_0\u001b[39;49m\u001b[38;5;124;43m'\u001b[39;49m\u001b[43m,\u001b[49m\u001b[43m \u001b[49m\u001b[38;5;124;43m'\u001b[39;49m\u001b[38;5;124;43mday_1\u001b[39;49m\u001b[38;5;124;43m'\u001b[39;49m\u001b[43m,\u001b[49m\u001b[43m \u001b[49m\u001b[38;5;124;43m'\u001b[39;49m\u001b[38;5;124;43mday_2\u001b[39;49m\u001b[38;5;124;43m'\u001b[39;49m\u001b[43m,\u001b[49m\u001b[43m \u001b[49m\u001b[38;5;124;43m'\u001b[39;49m\u001b[38;5;124;43mday_3\u001b[39;49m\u001b[38;5;124;43m'\u001b[39;49m\u001b[43m,\u001b[49m\u001b[43m \u001b[49m\u001b[38;5;124;43m'\u001b[39;49m\u001b[38;5;124;43mday_4\u001b[39;49m\u001b[38;5;124;43m'\u001b[39;49m\u001b[43m,\u001b[49m\u001b[43m \u001b[49m\u001b[38;5;124;43m'\u001b[39;49m\u001b[38;5;124;43mday_5\u001b[39;49m\u001b[38;5;124;43m'\u001b[39;49m\u001b[43m,\u001b[49m\u001b[43m \u001b[49m\u001b[38;5;124;43m'\u001b[39;49m\u001b[38;5;124;43mday_6\u001b[39;49m\u001b[38;5;124;43m'\u001b[39;49m\u001b[43m,\u001b[49m\n\u001b[0;32m      2\u001b[0m \u001b[43m                  \u001b[49m\u001b[38;5;124;43m'\u001b[39;49m\u001b[38;5;124;43mis_weekend\u001b[39;49m\u001b[38;5;124;43m'\u001b[39;49m\u001b[43m,\u001b[49m\n\u001b[0;32m      3\u001b[0m \u001b[43m                 \u001b[49m\u001b[38;5;124;43m'\u001b[39;49m\u001b[38;5;124;43mmonth_1\u001b[39;49m\u001b[38;5;124;43m'\u001b[39;49m\u001b[43m,\u001b[49m\u001b[43m \u001b[49m\u001b[38;5;124;43m'\u001b[39;49m\u001b[38;5;124;43mmonth_2\u001b[39;49m\u001b[38;5;124;43m'\u001b[39;49m\u001b[43m,\u001b[49m\u001b[43m \u001b[49m\u001b[38;5;124;43m'\u001b[39;49m\u001b[38;5;124;43mmonth_3\u001b[39;49m\u001b[38;5;124;43m'\u001b[39;49m\u001b[43m,\u001b[49m\u001b[43m \u001b[49m\u001b[38;5;124;43m'\u001b[39;49m\u001b[38;5;124;43mmonth_4\u001b[39;49m\u001b[38;5;124;43m'\u001b[39;49m\u001b[43m,\u001b[49m\u001b[43m \u001b[49m\u001b[38;5;124;43m'\u001b[39;49m\u001b[38;5;124;43mmonth_5\u001b[39;49m\u001b[38;5;124;43m'\u001b[39;49m\u001b[43m,\u001b[49m\u001b[43m \u001b[49m\u001b[38;5;124;43m'\u001b[39;49m\u001b[38;5;124;43mmonth_6\u001b[39;49m\u001b[38;5;124;43m'\u001b[39;49m\u001b[43m,\u001b[49m\n\u001b[0;32m      4\u001b[0m \u001b[43m                 \u001b[49m\u001b[38;5;124;43m'\u001b[39;49m\u001b[38;5;124;43mmonth_7\u001b[39;49m\u001b[38;5;124;43m'\u001b[39;49m\u001b[43m,\u001b[49m\u001b[43m \u001b[49m\u001b[38;5;124;43m'\u001b[39;49m\u001b[38;5;124;43mmonth_8\u001b[39;49m\u001b[38;5;124;43m'\u001b[39;49m\u001b[43m,\u001b[49m\u001b[43m \u001b[49m\u001b[38;5;124;43m'\u001b[39;49m\u001b[38;5;124;43mmonth_9\u001b[39;49m\u001b[38;5;124;43m'\u001b[39;49m\u001b[43m,\u001b[49m\u001b[43m \u001b[49m\u001b[38;5;124;43m'\u001b[39;49m\u001b[38;5;124;43mmonth_10\u001b[39;49m\u001b[38;5;124;43m'\u001b[39;49m\u001b[43m,\u001b[49m\u001b[43m \u001b[49m\u001b[38;5;124;43m'\u001b[39;49m\u001b[38;5;124;43mmonth_11\u001b[39;49m\u001b[38;5;124;43m'\u001b[39;49m\u001b[43m,\u001b[49m\u001b[43m \u001b[49m\u001b[38;5;124;43m'\u001b[39;49m\u001b[38;5;124;43mmonth_12\u001b[39;49m\u001b[38;5;124;43m'\u001b[39;49m\u001b[43m,\u001b[49m\n\u001b[0;32m      5\u001b[0m \u001b[43m                 \u001b[49m\u001b[38;5;124;43m'\u001b[39;49m\u001b[38;5;124;43min_park\u001b[39;49m\u001b[38;5;124;43m'\u001b[39;49m\u001b[43m,\u001b[49m\n\u001b[0;32m      6\u001b[0m \u001b[43m                 \u001b[49m\u001b[38;5;124;43m'\u001b[39;49m\u001b[38;5;124;43mcd_1.0\u001b[39;49m\u001b[38;5;124;43m'\u001b[39;49m\u001b[43m,\u001b[49m\u001b[43m \u001b[49m\u001b[38;5;124;43m'\u001b[39;49m\u001b[38;5;124;43mcd_2.0\u001b[39;49m\u001b[38;5;124;43m'\u001b[39;49m\u001b[43m,\u001b[49m\u001b[43m \u001b[49m\u001b[38;5;124;43m'\u001b[39;49m\u001b[38;5;124;43mcd_3.0\u001b[39;49m\u001b[38;5;124;43m'\u001b[39;49m\u001b[43m,\u001b[49m\n\u001b[0;32m      7\u001b[0m \u001b[43m                 \u001b[49m\u001b[38;5;124;43m'\u001b[39;49m\u001b[38;5;124;43mcd_4.0\u001b[39;49m\u001b[38;5;124;43m'\u001b[39;49m\u001b[43m,\u001b[49m\u001b[43m \u001b[49m\u001b[38;5;124;43m'\u001b[39;49m\u001b[38;5;124;43mcd_5.0\u001b[39;49m\u001b[38;5;124;43m'\u001b[39;49m\u001b[43m,\u001b[49m\u001b[43m \u001b[49m\u001b[38;5;124;43m'\u001b[39;49m\u001b[38;5;124;43mcd_6.0\u001b[39;49m\u001b[38;5;124;43m'\u001b[39;49m\u001b[43m,\u001b[49m\n\u001b[0;32m      8\u001b[0m \u001b[43m                 \u001b[49m\u001b[38;5;124;43m'\u001b[39;49m\u001b[38;5;124;43mcd_7.0\u001b[39;49m\u001b[38;5;124;43m'\u001b[39;49m\u001b[43m,\u001b[49m\u001b[43m \u001b[49m\u001b[38;5;124;43m'\u001b[39;49m\u001b[38;5;124;43mcd_8.0\u001b[39;49m\u001b[38;5;124;43m'\u001b[39;49m\u001b[43m,\u001b[49m\u001b[43m \u001b[49m\u001b[38;5;124;43m'\u001b[39;49m\u001b[38;5;124;43mcd_9.0\u001b[39;49m\u001b[38;5;124;43m'\u001b[39;49m\u001b[43m,\u001b[49m\u001b[43m \u001b[49m\n\u001b[0;32m      9\u001b[0m \u001b[43m                  \u001b[49m\u001b[38;5;124;43m'\u001b[39;49m\u001b[38;5;124;43mis_phone\u001b[39;49m\u001b[38;5;124;43m'\u001b[39;49m\u001b[43m,\u001b[49m\n\u001b[0;32m     10\u001b[0m \u001b[43m                  \u001b[49m\u001b[38;5;124;43m'\u001b[39;49m\u001b[38;5;124;43mword_count_SS\u001b[39;49m\u001b[38;5;124;43m'\u001b[39;49m\u001b[43m,\u001b[49m\n\u001b[0;32m     11\u001b[0m \u001b[43m                  \u001b[49m\u001b[38;5;124;43m'\u001b[39;49m\u001b[38;5;124;43mCOVID-19\u001b[39;49m\u001b[38;5;124;43m'\u001b[39;49m\u001b[43m,\u001b[49m\n\u001b[0;32m     12\u001b[0m \u001b[38;5;124;43m'\u001b[39;49m\u001b[38;5;124;43mDead Animal\u001b[39;49m\u001b[38;5;124;43m'\u001b[39;49m\u001b[43m,\u001b[49m\n\u001b[0;32m     13\u001b[0m \u001b[38;5;124;43m'\u001b[39;49m\u001b[38;5;124;43mDevelopment Services - Code Enforcement\u001b[39;49m\u001b[38;5;124;43m'\u001b[39;49m\u001b[43m,\u001b[49m\n\u001b[0;32m     14\u001b[0m \u001b[38;5;124;43m'\u001b[39;49m\u001b[38;5;124;43mEncampment\u001b[39;49m\u001b[38;5;124;43m'\u001b[39;49m\u001b[43m,\u001b[49m\n\u001b[0;32m     15\u001b[0m \u001b[38;5;124;43m'\u001b[39;49m\u001b[38;5;124;43mEnvironmental Services Code Compliance\u001b[39;49m\u001b[38;5;124;43m'\u001b[39;49m\u001b[43m,\u001b[49m\n\u001b[0;32m     16\u001b[0m \u001b[38;5;124;43m'\u001b[39;49m\u001b[38;5;124;43mGraffiti\u001b[39;49m\u001b[38;5;124;43m'\u001b[39;49m\u001b[43m,\u001b[49m\n\u001b[0;32m     17\u001b[0m \u001b[38;5;124;43m'\u001b[39;49m\u001b[38;5;124;43mGraffiti - Code Enforcement\u001b[39;49m\u001b[38;5;124;43m'\u001b[39;49m\u001b[43m,\u001b[49m\n\u001b[0;32m     18\u001b[0m \u001b[38;5;124;43m'\u001b[39;49m\u001b[38;5;124;43mIllegal Dumping\u001b[39;49m\u001b[38;5;124;43m'\u001b[39;49m\u001b[43m,\u001b[49m\n\u001b[0;32m     19\u001b[0m \u001b[38;5;124;43m'\u001b[39;49m\u001b[38;5;124;43mMissed Collection\u001b[39;49m\u001b[38;5;124;43m'\u001b[39;49m\u001b[43m,\u001b[49m\n\u001b[0;32m     20\u001b[0m \u001b[38;5;124;43m'\u001b[39;49m\u001b[38;5;124;43mOther\u001b[39;49m\u001b[38;5;124;43m'\u001b[39;49m\u001b[43m,\u001b[49m\n\u001b[0;32m     21\u001b[0m \u001b[38;5;124;43m'\u001b[39;49m\u001b[38;5;124;43mOversized Vehicle\u001b[39;49m\u001b[38;5;124;43m'\u001b[39;49m\u001b[43m,\u001b[49m\n\u001b[0;32m     22\u001b[0m \u001b[38;5;124;43m'\u001b[39;49m\u001b[38;5;124;43mParking\u001b[39;49m\u001b[38;5;124;43m'\u001b[39;49m\u001b[43m,\u001b[49m\n\u001b[0;32m     23\u001b[0m \u001b[38;5;124;43m'\u001b[39;49m\u001b[38;5;124;43mPavement Maintenance\u001b[39;49m\u001b[38;5;124;43m'\u001b[39;49m\u001b[43m,\u001b[49m\n\u001b[0;32m     24\u001b[0m \u001b[38;5;124;43m'\u001b[39;49m\u001b[38;5;124;43mPothole\u001b[39;49m\u001b[38;5;124;43m'\u001b[39;49m\u001b[43m,\u001b[49m\n\u001b[0;32m     25\u001b[0m \u001b[38;5;124;43m'\u001b[39;49m\u001b[38;5;124;43mROW Maintenance\u001b[39;49m\u001b[38;5;124;43m'\u001b[39;49m\u001b[43m,\u001b[49m\n\u001b[0;32m     26\u001b[0m \u001b[38;5;124;43m'\u001b[39;49m\u001b[38;5;124;43mRight-of-Way Code Enforcement\u001b[39;49m\u001b[38;5;124;43m'\u001b[39;49m\u001b[43m,\u001b[49m\n\u001b[0;32m     27\u001b[0m \u001b[38;5;124;43m'\u001b[39;49m\u001b[38;5;124;43mShared Mobility Device\u001b[39;49m\u001b[38;5;124;43m'\u001b[39;49m\u001b[43m,\u001b[49m\n\u001b[0;32m     28\u001b[0m \u001b[38;5;124;43m'\u001b[39;49m\u001b[38;5;124;43mSidewalk Repair Issue\u001b[39;49m\u001b[38;5;124;43m'\u001b[39;49m\u001b[43m,\u001b[49m\n\u001b[0;32m     29\u001b[0m \u001b[38;5;124;43m'\u001b[39;49m\u001b[38;5;124;43mStormwater\u001b[39;49m\u001b[38;5;124;43m'\u001b[39;49m\u001b[43m,\u001b[49m\n\u001b[0;32m     30\u001b[0m \u001b[38;5;124;43m'\u001b[39;49m\u001b[38;5;124;43mStormwater Code Enforcement\u001b[39;49m\u001b[38;5;124;43m'\u001b[39;49m\u001b[43m,\u001b[49m\n\u001b[0;32m     31\u001b[0m \u001b[38;5;124;43m'\u001b[39;49m\u001b[38;5;124;43mStreet Flooded\u001b[39;49m\u001b[38;5;124;43m'\u001b[39;49m\u001b[43m,\u001b[49m\n\u001b[0;32m     32\u001b[0m \u001b[38;5;124;43m'\u001b[39;49m\u001b[38;5;124;43mStreet Light Maintenance\u001b[39;49m\u001b[38;5;124;43m'\u001b[39;49m\u001b[43m,\u001b[49m\n\u001b[0;32m     33\u001b[0m \u001b[38;5;124;43m'\u001b[39;49m\u001b[38;5;124;43mStreet Sweeping\u001b[39;49m\u001b[38;5;124;43m'\u001b[39;49m\u001b[43m,\u001b[49m\n\u001b[0;32m     34\u001b[0m \u001b[38;5;124;43m'\u001b[39;49m\u001b[38;5;124;43mTraffic Engineering\u001b[39;49m\u001b[38;5;124;43m'\u001b[39;49m\u001b[43m,\u001b[49m\n\u001b[0;32m     35\u001b[0m \u001b[38;5;124;43m'\u001b[39;49m\u001b[38;5;124;43mTraffic Sign Maintenance\u001b[39;49m\u001b[38;5;124;43m'\u001b[39;49m\u001b[43m,\u001b[49m\n\u001b[0;32m     36\u001b[0m \u001b[38;5;124;43m'\u001b[39;49m\u001b[38;5;124;43mTraffic Signal Issue\u001b[39;49m\u001b[38;5;124;43m'\u001b[39;49m\u001b[43m,\u001b[49m\n\u001b[0;32m     37\u001b[0m \u001b[38;5;124;43m'\u001b[39;49m\u001b[38;5;124;43mTraffic Signal Timing\u001b[39;49m\u001b[38;5;124;43m'\u001b[39;49m\u001b[43m,\u001b[49m\n\u001b[0;32m     38\u001b[0m \u001b[38;5;124;43m'\u001b[39;49m\u001b[38;5;124;43mTrash/Recycling Collection\u001b[39;49m\u001b[38;5;124;43m'\u001b[39;49m\u001b[43m,\u001b[49m\n\u001b[0;32m     39\u001b[0m \u001b[38;5;124;43m'\u001b[39;49m\u001b[38;5;124;43mTree Maintenance\u001b[39;49m\u001b[38;5;124;43m'\u001b[39;49m\u001b[43m,\u001b[49m\n\u001b[0;32m     40\u001b[0m \u001b[38;5;124;43m'\u001b[39;49m\u001b[38;5;124;43mWaste on Private Property\u001b[39;49m\u001b[38;5;124;43m'\u001b[39;49m\u001b[43m,\u001b[49m\n\u001b[0;32m     41\u001b[0m \u001b[38;5;124;43m'\u001b[39;49m\u001b[38;5;124;43mWeed Cleanup\u001b[39;49m\u001b[38;5;124;43m'\u001b[39;49m\n\u001b[0;32m     42\u001b[0m \u001b[43m                \u001b[49m\u001b[43m]\u001b[49m\u001b[43m]\u001b[49m\n\u001b[0;32m     43\u001b[0m y \u001b[38;5;241m=\u001b[39m requests_21f[\u001b[38;5;124m'\u001b[39m\u001b[38;5;124mcase_age_days\u001b[39m\u001b[38;5;124m'\u001b[39m]\n",
      "File \u001b[1;32m~\\anaconda3\\lib\\site-packages\\pandas\\core\\frame.py:3511\u001b[0m, in \u001b[0;36mDataFrame.__getitem__\u001b[1;34m(self, key)\u001b[0m\n\u001b[0;32m   3509\u001b[0m     \u001b[38;5;28;01mif\u001b[39;00m is_iterator(key):\n\u001b[0;32m   3510\u001b[0m         key \u001b[38;5;241m=\u001b[39m \u001b[38;5;28mlist\u001b[39m(key)\n\u001b[1;32m-> 3511\u001b[0m     indexer \u001b[38;5;241m=\u001b[39m \u001b[38;5;28;43mself\u001b[39;49m\u001b[38;5;241;43m.\u001b[39;49m\u001b[43mcolumns\u001b[49m\u001b[38;5;241;43m.\u001b[39;49m\u001b[43m_get_indexer_strict\u001b[49m\u001b[43m(\u001b[49m\u001b[43mkey\u001b[49m\u001b[43m,\u001b[49m\u001b[43m \u001b[49m\u001b[38;5;124;43m\"\u001b[39;49m\u001b[38;5;124;43mcolumns\u001b[39;49m\u001b[38;5;124;43m\"\u001b[39;49m\u001b[43m)\u001b[49m[\u001b[38;5;241m1\u001b[39m]\n\u001b[0;32m   3513\u001b[0m \u001b[38;5;66;03m# take() does not accept boolean indexers\u001b[39;00m\n\u001b[0;32m   3514\u001b[0m \u001b[38;5;28;01mif\u001b[39;00m \u001b[38;5;28mgetattr\u001b[39m(indexer, \u001b[38;5;124m\"\u001b[39m\u001b[38;5;124mdtype\u001b[39m\u001b[38;5;124m\"\u001b[39m, \u001b[38;5;28;01mNone\u001b[39;00m) \u001b[38;5;241m==\u001b[39m \u001b[38;5;28mbool\u001b[39m:\n",
      "File \u001b[1;32m~\\anaconda3\\lib\\site-packages\\pandas\\core\\indexes\\base.py:5782\u001b[0m, in \u001b[0;36mIndex._get_indexer_strict\u001b[1;34m(self, key, axis_name)\u001b[0m\n\u001b[0;32m   5779\u001b[0m \u001b[38;5;28;01melse\u001b[39;00m:\n\u001b[0;32m   5780\u001b[0m     keyarr, indexer, new_indexer \u001b[38;5;241m=\u001b[39m \u001b[38;5;28mself\u001b[39m\u001b[38;5;241m.\u001b[39m_reindex_non_unique(keyarr)\n\u001b[1;32m-> 5782\u001b[0m \u001b[38;5;28;43mself\u001b[39;49m\u001b[38;5;241;43m.\u001b[39;49m\u001b[43m_raise_if_missing\u001b[49m\u001b[43m(\u001b[49m\u001b[43mkeyarr\u001b[49m\u001b[43m,\u001b[49m\u001b[43m \u001b[49m\u001b[43mindexer\u001b[49m\u001b[43m,\u001b[49m\u001b[43m \u001b[49m\u001b[43maxis_name\u001b[49m\u001b[43m)\u001b[49m\n\u001b[0;32m   5784\u001b[0m keyarr \u001b[38;5;241m=\u001b[39m \u001b[38;5;28mself\u001b[39m\u001b[38;5;241m.\u001b[39mtake(indexer)\n\u001b[0;32m   5785\u001b[0m \u001b[38;5;28;01mif\u001b[39;00m \u001b[38;5;28misinstance\u001b[39m(key, Index):\n\u001b[0;32m   5786\u001b[0m     \u001b[38;5;66;03m# GH 42790 - Preserve name from an Index\u001b[39;00m\n",
      "File \u001b[1;32m~\\anaconda3\\lib\\site-packages\\pandas\\core\\indexes\\base.py:5845\u001b[0m, in \u001b[0;36mIndex._raise_if_missing\u001b[1;34m(self, key, indexer, axis_name)\u001b[0m\n\u001b[0;32m   5842\u001b[0m     \u001b[38;5;28;01mraise\u001b[39;00m \u001b[38;5;167;01mKeyError\u001b[39;00m(\u001b[38;5;124mf\u001b[39m\u001b[38;5;124m\"\u001b[39m\u001b[38;5;124mNone of [\u001b[39m\u001b[38;5;132;01m{\u001b[39;00mkey\u001b[38;5;132;01m}\u001b[39;00m\u001b[38;5;124m] are in the [\u001b[39m\u001b[38;5;132;01m{\u001b[39;00maxis_name\u001b[38;5;132;01m}\u001b[39;00m\u001b[38;5;124m]\u001b[39m\u001b[38;5;124m\"\u001b[39m)\n\u001b[0;32m   5844\u001b[0m not_found \u001b[38;5;241m=\u001b[39m \u001b[38;5;28mlist\u001b[39m(ensure_index(key)[missing_mask\u001b[38;5;241m.\u001b[39mnonzero()[\u001b[38;5;241m0\u001b[39m]]\u001b[38;5;241m.\u001b[39munique())\n\u001b[1;32m-> 5845\u001b[0m \u001b[38;5;28;01mraise\u001b[39;00m \u001b[38;5;167;01mKeyError\u001b[39;00m(\u001b[38;5;124mf\u001b[39m\u001b[38;5;124m\"\u001b[39m\u001b[38;5;132;01m{\u001b[39;00mnot_found\u001b[38;5;132;01m}\u001b[39;00m\u001b[38;5;124m not in index\u001b[39m\u001b[38;5;124m\"\u001b[39m)\n",
      "\u001b[1;31mKeyError\u001b[0m: \"['Graffiti - Code Enforcement'] not in index\""
     ]
    }
   ],
   "source": [
    "X = requests_21f[['day_0', 'day_1', 'day_2', 'day_3', 'day_4', 'day_5', 'day_6',\n",
    "                  'is_weekend',\n",
    "                 'month_1', 'month_2', 'month_3', 'month_4', 'month_5', 'month_6',\n",
    "                 'month_7', 'month_8', 'month_9', 'month_10', 'month_11', 'month_12',\n",
    "                 'in_park',\n",
    "                 'cd_1.0', 'cd_2.0', 'cd_3.0',\n",
    "                 'cd_4.0', 'cd_5.0', 'cd_6.0',\n",
    "                 'cd_7.0', 'cd_8.0', 'cd_9.0', \n",
    "                  'is_phone',\n",
    "                  'word_count_SS',\n",
    "                  'COVID-19',\n",
    "'Dead Animal',\n",
    "'Development Services - Code Enforcement',\n",
    "'Encampment',\n",
    "'Environmental Services Code Compliance',\n",
    "'Graffiti',\n",
    "'Graffiti - Code Enforcement',\n",
    "'Illegal Dumping',\n",
    "'Missed Collection',\n",
    "'Other',\n",
    "'Oversized Vehicle',\n",
    "'Parking',\n",
    "'Pavement Maintenance',\n",
    "'Pothole',\n",
    "'ROW Maintenance',\n",
    "'Right-of-Way Code Enforcement',\n",
    "'Shared Mobility Device',\n",
    "'Sidewalk Repair Issue',\n",
    "'Stormwater',\n",
    "'Stormwater Code Enforcement',\n",
    "'Street Flooded',\n",
    "'Street Light Maintenance',\n",
    "'Street Sweeping',\n",
    "'Traffic Engineering',\n",
    "'Traffic Sign Maintenance',\n",
    "'Traffic Signal Issue',\n",
    "'Traffic Signal Timing',\n",
    "'Trash/Recycling Collection',\n",
    "'Tree Maintenance',\n",
    "'Waste on Private Property',\n",
    "'Weed Cleanup'\n",
    "                ]]\n",
    "y = requests_21f['case_age_days']"
   ]
  },
  {
   "cell_type": "code",
   "execution_count": null,
   "id": "91ca801f-e8d7-4412-86cf-d9ca9c9abe90",
   "metadata": {},
   "outputs": [],
   "source": [
    "print(X.columns)"
   ]
  },
  {
   "cell_type": "code",
   "execution_count": null,
   "id": "5123d328-280c-406e-8b9a-10a7359aff3a",
   "metadata": {},
   "outputs": [],
   "source": [
    "(X_train, X_test, y_train, y_test) = train_test_split(X, y, test_size = 0.2, random_state = 42)"
   ]
  },
  {
   "cell_type": "code",
   "execution_count": null,
   "id": "2db3c41f-63db-4e63-9663-e86b586755b4",
   "metadata": {},
   "outputs": [],
   "source": [
    "print(X_train.shape)\n",
    "print(X_test.shape)\n",
    "print(y_train.shape)\n",
    "print(y_test.shape)"
   ]
  },
  {
   "cell_type": "code",
   "execution_count": null,
   "id": "1eb007b7-64cf-494d-857b-452ca907562a",
   "metadata": {},
   "outputs": [],
   "source": [
    "#Instantiate model\n",
    "xg_reg = xgb.XGBRegressor()"
   ]
  },
  {
   "cell_type": "code",
   "execution_count": null,
   "id": "ac7824b9-7172-4b82-b1ab-29e47a53b969",
   "metadata": {},
   "outputs": [],
   "source": [
    "xg_reg.fit(X_train, y_train)"
   ]
  },
  {
   "cell_type": "code",
   "execution_count": null,
   "id": "86cf5aaf-5d54-49be-b915-1fb34f1e354c",
   "metadata": {},
   "outputs": [],
   "source": [
    "preds = xg_reg.predict(X_test)"
   ]
  },
  {
   "cell_type": "code",
   "execution_count": null,
   "id": "826ef722-012c-4db5-a8d8-246fe50e97ff",
   "metadata": {},
   "outputs": [],
   "source": [
    "print(preds)"
   ]
  },
  {
   "cell_type": "code",
   "execution_count": null,
   "id": "177679c5-052e-45dc-93d5-a39dc5919b4f",
   "metadata": {},
   "outputs": [],
   "source": [
    "rmse = np.sqrt(mean_squared_error(y_test,preds))\n",
    "\n",
    "print(\"RMSE: %f\" % (rmse))"
   ]
  },
  {
   "cell_type": "code",
   "execution_count": null,
   "id": "47af8ae2-2a25-4cb2-94bd-d6af87a2cf70",
   "metadata": {},
   "outputs": [],
   "source": [
    "r2 = r2_score(y_test, xg_reg.predict(X_test))\n",
    "print(r2)"
   ]
  },
  {
   "cell_type": "code",
   "execution_count": null,
   "id": "c6e5b974-b90c-495d-bc39-afc59e39dbf6",
   "metadata": {},
   "outputs": [],
   "source": [
    "pickle.dump(xg_reg, open('../data/simple_model_f.pkl', 'wb'))"
   ]
  },
  {
   "cell_type": "code",
   "execution_count": null,
   "id": "cd3e06b1-324e-4a9c-a3e1-fbbe4d572ddb",
   "metadata": {
    "tags": []
   },
   "outputs": [],
   "source": [
    "with open('../data/simple_model_f.pkl', 'rb') as file:\n",
    "    test_pickle = pickle.load(file)"
   ]
  },
  {
   "cell_type": "markdown",
   "id": "3b5a4b5c-a026-4b48-a6ee-a5e1fb2d6f63",
   "metadata": {},
   "source": [
    "### g - Model with service_name and w2v"
   ]
  },
  {
   "cell_type": "code",
   "execution_count": 1474,
   "id": "68931c60-049a-4376-82f8-7a0e2cd79a2d",
   "metadata": {},
   "outputs": [],
   "source": [
    "requests_21g = requests_21"
   ]
  },
  {
   "cell_type": "code",
   "execution_count": 1475,
   "id": "3ce438e4-5089-4a08-aced-f53b3d13b11c",
   "metadata": {},
   "outputs": [
    {
     "data": {
      "text/plain": [
       "'{}'"
      ]
     },
     "execution_count": 1475,
     "metadata": {},
     "output_type": "execute_result"
    }
   ],
   "source": [
    "scaler = dict()\n",
    "f'{scaler}'.split('=')[0]"
   ]
  },
  {
   "cell_type": "code",
   "execution_count": 1476,
   "id": "9080f08f-46be-4e7f-b50a-1820efae4c79",
   "metadata": {},
   "outputs": [],
   "source": [
    "baz = []"
   ]
  },
  {
   "cell_type": "code",
   "execution_count": 1477,
   "id": "0411ad09-5aa8-4d24-bd1f-7f915c63b3e6",
   "metadata": {},
   "outputs": [],
   "source": [
    "import inspect\n",
    "\n",
    "# x, y, z = 1, 2, 3\n",
    "\n",
    "def retrieve_name(var):\n",
    "    callers_local_vars = inspect.currentframe().f_back.f_back.f_locals.items()\n",
    "    return [var_name for var_name, var_val in callers_local_vars if var_val is var]"
   ]
  },
  {
   "cell_type": "code",
   "execution_count": 1478,
   "id": "a8bcd1a7-a094-424d-9a3e-ec248da90751",
   "metadata": {},
   "outputs": [
    {
     "data": {
      "text/plain": [
       "'baz'"
      ]
     },
     "execution_count": 1478,
     "metadata": {},
     "output_type": "execute_result"
    }
   ],
   "source": [
    "def foo(bar):\n",
    "    return retrieve_name(bar)[0]\n",
    "\n",
    "foo(baz)"
   ]
  },
  {
   "cell_type": "markdown",
   "id": "4a2d4605-7b14-4571-9026-055041b7318c",
   "metadata": {},
   "source": [
    "#### feature: word2vec"
   ]
  },
  {
   "cell_type": "code",
   "execution_count": 1479,
   "id": "2eaa39cb-20c4-49ef-acbd-a1d27ee595dd",
   "metadata": {},
   "outputs": [
    {
     "data": {
      "text/plain": [
       "252369"
      ]
     },
     "execution_count": 1479,
     "metadata": {},
     "output_type": "execute_result"
    }
   ],
   "source": [
    "requests_21g = requests_21g[requests_21g['tokens'] != 0]\n",
    "\n",
    "requests_21g.shape[0]"
   ]
  },
  {
   "cell_type": "code",
   "execution_count": 1480,
   "id": "0ab0e1c0-c54e-4d8f-8c4e-cefb937ef972",
   "metadata": {},
   "outputs": [
    {
     "data": {
      "text/plain": [
       "['curb',\n",
       " 'crack',\n",
       " 'please',\n",
       " 'fill',\n",
       " 'gutter',\n",
       " 'joint',\n",
       " 'depress',\n",
       " 'please',\n",
       " 'level',\n",
       " 'thank']"
      ]
     },
     "execution_count": 1480,
     "metadata": {},
     "output_type": "execute_result"
    }
   ],
   "source": [
    "requests_21['tokens'].values[1]"
   ]
  },
  {
   "cell_type": "code",
   "execution_count": 1481,
   "id": "080cb71d-b35f-45cf-875e-adc579c4d58a",
   "metadata": {},
   "outputs": [],
   "source": [
    "# create list of unique tokens\n",
    "\n",
    "unique_tokens = []\n",
    "\n",
    "i = 0\n",
    "\n",
    "while i < len(requests_21g['tokens']):\n",
    "    unique_tokens.append(list(set(requests_21g['tokens'].values[i])))\n",
    "    i += 1"
   ]
  },
  {
   "cell_type": "code",
   "execution_count": 1482,
   "id": "29348522-f5b3-4284-8c54-74b8667728f1",
   "metadata": {},
   "outputs": [
    {
     "data": {
      "text/plain": [
       "[['get',\n",
       "  'trip',\n",
       "  'fell',\n",
       "  'nothin',\n",
       "  'do',\n",
       "  'cement',\n",
       "  'neighbor',\n",
       "  'bad',\n",
       "  'report',\n",
       "  'face',\n",
       "  'street',\n",
       "  'buckle',\n",
       "  'one'],\n",
       " ['please',\n",
       "  'gutter',\n",
       "  'level',\n",
       "  'thank',\n",
       "  'fill',\n",
       "  'crack',\n",
       "  'curb',\n",
       "  'joint',\n",
       "  'depress']]"
      ]
     },
     "execution_count": 1482,
     "metadata": {},
     "output_type": "execute_result"
    }
   ],
   "source": [
    "unique_tokens[0:2]"
   ]
  },
  {
   "cell_type": "code",
   "execution_count": 1483,
   "id": "af656170-c74d-4d21-b604-23ed8bd6c760",
   "metadata": {},
   "outputs": [],
   "source": [
    "requests_21g['unique_tokens'] = unique_tokens"
   ]
  },
  {
   "cell_type": "code",
   "execution_count": 1484,
   "id": "280c4619-eabe-4b24-a542-df8419c9fc09",
   "metadata": {},
   "outputs": [],
   "source": [
    "import gensim\n",
    "\n",
    "# Create CBoW model\n",
    "#size: output vector size\n",
    "#window: size of window for surrounding words\n",
    "#min_count: ignores all words that appear less than min_count times\n",
    "\n",
    "corpus_unique = unique_tokens\n",
    "Model_CBoW = gensim.models.Word2Vec(corpus_unique, vector_size=30, window = 3, min_count = 1)"
   ]
  },
  {
   "cell_type": "code",
   "execution_count": 1485,
   "id": "a0ea1c36-9cbd-4537-a261-d7fe00104e57",
   "metadata": {},
   "outputs": [],
   "source": [
    "pickle.dump(Model_CBoW, open('../data/Model_CBoW.pkl', 'wb'))"
   ]
  },
  {
   "cell_type": "code",
   "execution_count": 1486,
   "id": "8418112f-044b-4e7d-b5d5-35246c83514b",
   "metadata": {
    "tags": []
   },
   "outputs": [
    {
     "data": {
      "text/plain": [
       "[0.87931883,\n",
       " -2.9286838,\n",
       " -3.75166,\n",
       " 0.1794493,\n",
       " -0.14961852,\n",
       " -4.2083173,\n",
       " 2.4629364,\n",
       " 3.6012924,\n",
       " 0.54828995,\n",
       " 1.7790587,\n",
       " 2.4710405,\n",
       " -0.005346375,\n",
       " -3.630752,\n",
       " 0.54269207,\n",
       " -1.157452,\n",
       " 1.1764417,\n",
       " -0.86927664,\n",
       " -0.11389231,\n",
       " 0.5623311,\n",
       " 4.405835,\n",
       " -1.3911077,\n",
       " -0.25831375,\n",
       " 0.007819928,\n",
       " 0.7600021,\n",
       " 2.3599443,\n",
       " -1.1296788,\n",
       " -0.473514,\n",
       " -1.8127975,\n",
       " -0.023924068,\n",
       " 1.9840809]"
      ]
     },
     "execution_count": 1486,
     "metadata": {},
     "output_type": "execute_result"
    }
   ],
   "source": [
    "test = Model_CBoW.wv['encampment']\n",
    "list(test)"
   ]
  },
  {
   "cell_type": "code",
   "execution_count": 1487,
   "id": "f3f5fbff-6b7f-464f-aa08-291867c68519",
   "metadata": {
    "tags": []
   },
   "outputs": [],
   "source": [
    "#creates w2v vector in each row\n",
    "x = 0\n",
    "w2v = []\n",
    "\n",
    "while x < requests_21g.shape[0]:\n",
    "    f_tokens = requests_21g.iloc[x,-1]\n",
    "    if(len(f_tokens) != 0):\n",
    "        w2v.append(Model_CBoW.wv[f_tokens[0]])\n",
    "    else:\n",
    "        w2v.append(0)\n",
    "    \n",
    "    z = 1\n",
    "    \n",
    "    while z < len(f_tokens):\n",
    "        w2v[x] = w2v[x] + Model_CBoW.wv[f_tokens[z]]\n",
    "        \n",
    "        z += 1\n",
    "    \n",
    "    x += 1"
   ]
  },
  {
   "cell_type": "code",
   "execution_count": 1488,
   "id": "f6a2c8b4-2108-4c4b-8d19-bb6d67b08ca1",
   "metadata": {},
   "outputs": [],
   "source": [
    "requests_21g['w2v'] = w2v"
   ]
  },
  {
   "cell_type": "code",
   "execution_count": 1489,
   "id": "4ac721f3-88d5-4099-9cbe-8162d4408c49",
   "metadata": {},
   "outputs": [],
   "source": [
    "encampments = requests_21g[requests_21g['public_description'] == 'Encampment']"
   ]
  },
  {
   "cell_type": "code",
   "execution_count": 1490,
   "id": "c605137b-9e8e-4a02-a79b-beb5c541a726",
   "metadata": {},
   "outputs": [
    {
     "data": {
      "text/plain": [
       "array([array([ 0.87931883, -2.9286838 , -3.75166   ,  0.1794493 , -0.14961852,\n",
       "              -4.2083173 ,  2.4629364 ,  3.6012924 ,  0.54828995,  1.7790587 ,\n",
       "               2.4710405 , -0.00534638, -3.630752  ,  0.54269207, -1.157452  ,\n",
       "               1.1764417 , -0.86927664, -0.11389231,  0.5623311 ,  4.405835  ,\n",
       "              -1.3911077 , -0.25831375,  0.00781993,  0.7600021 ,  2.3599443 ,\n",
       "              -1.1296788 , -0.473514  , -1.8127975 , -0.02392407,  1.9840809 ],\n",
       "             dtype=float32)                                                    ],\n",
       "      dtype=object)"
      ]
     },
     "execution_count": 1490,
     "metadata": {},
     "output_type": "execute_result"
    }
   ],
   "source": [
    "w2v_array_encampment = encampments['w2v'].head(1).values\n",
    "w2v_array_encampment"
   ]
  },
  {
   "cell_type": "code",
   "execution_count": 1491,
   "id": "e52702df-4052-42b1-8e20-12355d1ec0d2",
   "metadata": {},
   "outputs": [
    {
     "name": "stdout",
     "output_type": "stream",
     "text": [
      "[\"<class 'numpy.ndarray'>\", \"<class 'numpy.ndarray'>\", \"<class 'numpy.ndarray'>\", \"<class 'numpy.ndarray'>\", \"<class 'numpy.ndarray'>\", \"<class 'numpy.ndarray'>\", \"<class 'numpy.ndarray'>\", \"<class 'numpy.ndarray'>\", \"<class 'numpy.ndarray'>\", \"<class 'numpy.ndarray'>\"]\n"
     ]
    }
   ],
   "source": [
    "real_type = []\n",
    "i=0\n",
    "\n",
    "while i < requests_21g.shape[0]:\n",
    "    real_type.append(str(type(requests_21g.iloc[i,-1])))\n",
    "    i+=1\n",
    "\n",
    "print(real_type[0:10])"
   ]
  },
  {
   "cell_type": "code",
   "execution_count": 1492,
   "id": "bdb60ed8-4760-4d98-9546-e04a72e51b6c",
   "metadata": {},
   "outputs": [],
   "source": [
    "requests_21g['real_type'] = real_type"
   ]
  },
  {
   "cell_type": "code",
   "execution_count": 1493,
   "id": "1f38c7a1-82e6-452b-b9ff-a39d62ddf3c0",
   "metadata": {},
   "outputs": [
    {
     "data": {
      "text/plain": [
       "252197"
      ]
     },
     "execution_count": 1493,
     "metadata": {},
     "output_type": "execute_result"
    }
   ],
   "source": [
    "requests_21g = requests_21g[requests_21g['real_type'] == \"<class 'numpy.ndarray'>\"]\n",
    "requests_21g.shape[0]"
   ]
  },
  {
   "cell_type": "code",
   "execution_count": 1494,
   "id": "6b04b53a-fbd0-4755-a092-a5bf9b464cb2",
   "metadata": {},
   "outputs": [
    {
     "data": {
      "text/plain": [
       "['case_age_days',\n",
       " 'service_name_detail',\n",
       " 'in_park',\n",
       " 'public_description',\n",
       " 'has_description',\n",
       " 'is_weekend',\n",
       " 'day_0',\n",
       " 'day_1',\n",
       " 'day_2',\n",
       " 'day_3',\n",
       " 'day_4',\n",
       " 'day_5',\n",
       " 'day_6',\n",
       " 'month_1',\n",
       " 'month_2',\n",
       " 'month_3',\n",
       " 'month_4',\n",
       " 'month_5',\n",
       " 'month_6',\n",
       " 'month_7',\n",
       " 'month_8',\n",
       " 'month_9',\n",
       " 'month_10',\n",
       " 'month_11',\n",
       " 'month_12',\n",
       " 'COVID-19',\n",
       " 'Dead Animal',\n",
       " 'Development Services - Code Enforcement',\n",
       " 'Encampment',\n",
       " 'Environmental Services Code Compliance',\n",
       " 'Graffiti',\n",
       " 'Graffiti - Code Enforcement',\n",
       " 'Illegal Dumping',\n",
       " 'Missed Collection',\n",
       " 'Other',\n",
       " 'Oversized Vehicle',\n",
       " 'Parking',\n",
       " 'Pavement Maintenance',\n",
       " 'Pothole',\n",
       " 'ROW Maintenance',\n",
       " 'Right-of-Way Code Enforcement',\n",
       " 'Shared Mobility Device',\n",
       " 'Sidewalk Repair Issue',\n",
       " 'Stormwater',\n",
       " 'Stormwater Code Enforcement',\n",
       " 'Street Flooded',\n",
       " 'Street Light Maintenance',\n",
       " 'Street Sweeping',\n",
       " 'Traffic Engineering',\n",
       " 'Traffic Sign Maintenance',\n",
       " 'Traffic Signal Issue',\n",
       " 'Traffic Signal Timing',\n",
       " 'Trash/Recycling Collection',\n",
       " 'Tree Maintenance',\n",
       " 'Waste on Private Property',\n",
       " 'Weed Cleanup',\n",
       " 'cd_1.0',\n",
       " 'cd_2.0',\n",
       " 'cd_3.0',\n",
       " 'cd_4.0',\n",
       " 'cd_5.0',\n",
       " 'cd_6.0',\n",
       " 'cd_7.0',\n",
       " 'cd_8.0',\n",
       " 'cd_9.0',\n",
       " 'is_phone',\n",
       " 'tokens',\n",
       " 'word_count',\n",
       " 'word_count_SS',\n",
       " 'unique_tokens',\n",
       " 'w2v',\n",
       " 'real_type']"
      ]
     },
     "execution_count": 1494,
     "metadata": {},
     "output_type": "execute_result"
    }
   ],
   "source": [
    "list(requests_21g.columns)"
   ]
  },
  {
   "cell_type": "code",
   "execution_count": 1495,
   "id": "d2344463-8df6-45ab-81c6-b8c60d8d60e2",
   "metadata": {},
   "outputs": [],
   "source": [
    "SS_scaler = StandardScaler()"
   ]
  },
  {
   "cell_type": "code",
   "execution_count": 1496,
   "id": "2e63cde2-432e-4cfa-9dbb-218678a1d086",
   "metadata": {},
   "outputs": [],
   "source": [
    "# create function to create columns for each of the w2v elements\n",
    "def append_scale_pickle(elem_num):  \n",
    "    i = 0\n",
    "    #create 2D arrary to fit scaler\n",
    "    w2v_list = []\n",
    "    while i < len(requests_21g['w2v']):\n",
    "        w2v_list.append(requests_21g['w2v'].iloc[i][elem_num])\n",
    "        i+=1\n",
    "    \n",
    "    #fit scaler, pickle scaler\n",
    "    SS_scaler = StandardScaler()\n",
    "    SS_scaler.fit(np.array(w2v_list).reshape(-1, 1))\n",
    "    pickle.dump(SS_scaler, open('../data/SS_scaler_w2v_' + str(elem_num) + '.pkl', 'wb'))\n",
    "    \n",
    "    requests_21g['w2v_' + str(elem_num)] = w2v_list"
   ]
  },
  {
   "cell_type": "code",
   "execution_count": 1497,
   "id": "83468d48-19a9-4f3e-a853-4b8815dc225b",
   "metadata": {
    "tags": []
   },
   "outputs": [],
   "source": [
    "for i in list(range(30)):\n",
    "    append_scale_pickle(i)"
   ]
  },
  {
   "cell_type": "code",
   "execution_count": 1498,
   "id": "c8c5388e-f0cc-4aea-8b0a-126248d1a541",
   "metadata": {},
   "outputs": [
    {
     "data": {
      "text/html": [
       "<div>\n",
       "<style scoped>\n",
       "    .dataframe tbody tr th:only-of-type {\n",
       "        vertical-align: middle;\n",
       "    }\n",
       "\n",
       "    .dataframe tbody tr th {\n",
       "        vertical-align: top;\n",
       "    }\n",
       "\n",
       "    .dataframe thead th {\n",
       "        text-align: right;\n",
       "    }\n",
       "</style>\n",
       "<table border=\"1\" class=\"dataframe\">\n",
       "  <thead>\n",
       "    <tr style=\"text-align: right;\">\n",
       "      <th></th>\n",
       "      <th>case_age_days</th>\n",
       "      <th>service_name_detail</th>\n",
       "      <th>in_park</th>\n",
       "      <th>public_description</th>\n",
       "      <th>has_description</th>\n",
       "      <th>is_weekend</th>\n",
       "      <th>day_0</th>\n",
       "      <th>day_1</th>\n",
       "      <th>day_2</th>\n",
       "      <th>day_3</th>\n",
       "      <th>...</th>\n",
       "      <th>w2v_20</th>\n",
       "      <th>w2v_21</th>\n",
       "      <th>w2v_22</th>\n",
       "      <th>w2v_23</th>\n",
       "      <th>w2v_24</th>\n",
       "      <th>w2v_25</th>\n",
       "      <th>w2v_26</th>\n",
       "      <th>w2v_27</th>\n",
       "      <th>w2v_28</th>\n",
       "      <th>w2v_29</th>\n",
       "    </tr>\n",
       "  </thead>\n",
       "  <tbody>\n",
       "    <tr>\n",
       "      <th>0</th>\n",
       "      <td>1654.0</td>\n",
       "      <td>CONCRETE PAVEMENT REPAIR ISSUE</td>\n",
       "      <td>0</td>\n",
       "      <td>We have a cement street it is buckling and one...</td>\n",
       "      <td>1</td>\n",
       "      <td>0</td>\n",
       "      <td>0</td>\n",
       "      <td>0</td>\n",
       "      <td>1</td>\n",
       "      <td>0</td>\n",
       "      <td>...</td>\n",
       "      <td>3.609093</td>\n",
       "      <td>4.115715</td>\n",
       "      <td>2.312183</td>\n",
       "      <td>22.253330</td>\n",
       "      <td>-6.545823</td>\n",
       "      <td>3.098747</td>\n",
       "      <td>4.231699</td>\n",
       "      <td>1.640217</td>\n",
       "      <td>15.655637</td>\n",
       "      <td>-0.790056</td>\n",
       "    </tr>\n",
       "    <tr>\n",
       "      <th>2</th>\n",
       "      <td>1652.0</td>\n",
       "      <td>DAMAGED CURB</td>\n",
       "      <td>0</td>\n",
       "      <td>curb cracked, please fill\\ngutter joint depres...</td>\n",
       "      <td>1</td>\n",
       "      <td>0</td>\n",
       "      <td>0</td>\n",
       "      <td>0</td>\n",
       "      <td>0</td>\n",
       "      <td>1</td>\n",
       "      <td>...</td>\n",
       "      <td>-2.020195</td>\n",
       "      <td>6.758088</td>\n",
       "      <td>-1.864907</td>\n",
       "      <td>-0.840121</td>\n",
       "      <td>-2.057721</td>\n",
       "      <td>12.321980</td>\n",
       "      <td>4.102563</td>\n",
       "      <td>-3.059424</td>\n",
       "      <td>7.753115</td>\n",
       "      <td>-1.495101</td>\n",
       "    </tr>\n",
       "    <tr>\n",
       "      <th>4</th>\n",
       "      <td>1838.0</td>\n",
       "      <td>EVALUATE FOR RESURFACING/SLURRY</td>\n",
       "      <td>0</td>\n",
       "      <td>This road needs To be repaired immediately</td>\n",
       "      <td>1</td>\n",
       "      <td>1</td>\n",
       "      <td>0</td>\n",
       "      <td>0</td>\n",
       "      <td>0</td>\n",
       "      <td>0</td>\n",
       "      <td>...</td>\n",
       "      <td>1.692410</td>\n",
       "      <td>-1.123189</td>\n",
       "      <td>-2.550319</td>\n",
       "      <td>6.659307</td>\n",
       "      <td>4.778492</td>\n",
       "      <td>1.700022</td>\n",
       "      <td>-8.228105</td>\n",
       "      <td>3.216305</td>\n",
       "      <td>3.714357</td>\n",
       "      <td>3.570485</td>\n",
       "    </tr>\n",
       "    <tr>\n",
       "      <th>6</th>\n",
       "      <td>1834.0</td>\n",
       "      <td>EVALUATE FOR RESURFACING/SLURRY</td>\n",
       "      <td>0</td>\n",
       "      <td>STRETCH OF FAIRMOUNT</td>\n",
       "      <td>1</td>\n",
       "      <td>0</td>\n",
       "      <td>0</td>\n",
       "      <td>0</td>\n",
       "      <td>1</td>\n",
       "      <td>0</td>\n",
       "      <td>...</td>\n",
       "      <td>-4.633541</td>\n",
       "      <td>-1.462685</td>\n",
       "      <td>-2.110401</td>\n",
       "      <td>-2.225306</td>\n",
       "      <td>0.149683</td>\n",
       "      <td>-0.802922</td>\n",
       "      <td>2.236004</td>\n",
       "      <td>-1.980746</td>\n",
       "      <td>2.099845</td>\n",
       "      <td>0.585378</td>\n",
       "    </tr>\n",
       "    <tr>\n",
       "      <th>7</th>\n",
       "      <td>1882.0</td>\n",
       "      <td>EVALUATE FOR RESURFACING/SLURRY</td>\n",
       "      <td>0</td>\n",
       "      <td>This area on Del Mar Heights Rd in front of th...</td>\n",
       "      <td>1</td>\n",
       "      <td>0</td>\n",
       "      <td>0</td>\n",
       "      <td>0</td>\n",
       "      <td>1</td>\n",
       "      <td>0</td>\n",
       "      <td>...</td>\n",
       "      <td>-20.283621</td>\n",
       "      <td>14.073701</td>\n",
       "      <td>-15.292051</td>\n",
       "      <td>-8.362285</td>\n",
       "      <td>-6.007620</td>\n",
       "      <td>10.835867</td>\n",
       "      <td>0.156324</td>\n",
       "      <td>-8.194807</td>\n",
       "      <td>24.310183</td>\n",
       "      <td>4.561614</td>\n",
       "    </tr>\n",
       "  </tbody>\n",
       "</table>\n",
       "<p>5 rows × 102 columns</p>\n",
       "</div>"
      ],
      "text/plain": [
       "   case_age_days              service_name_detail  in_park  \\\n",
       "0         1654.0   CONCRETE PAVEMENT REPAIR ISSUE        0   \n",
       "2         1652.0                     DAMAGED CURB        0   \n",
       "4         1838.0  EVALUATE FOR RESURFACING/SLURRY        0   \n",
       "6         1834.0  EVALUATE FOR RESURFACING/SLURRY        0   \n",
       "7         1882.0  EVALUATE FOR RESURFACING/SLURRY        0   \n",
       "\n",
       "                                  public_description  has_description  \\\n",
       "0  We have a cement street it is buckling and one...                1   \n",
       "2  curb cracked, please fill\\ngutter joint depres...                1   \n",
       "4         This road needs To be repaired immediately                1   \n",
       "6                               STRETCH OF FAIRMOUNT                1   \n",
       "7  This area on Del Mar Heights Rd in front of th...                1   \n",
       "\n",
       "   is_weekend  day_0  day_1  day_2  day_3  ...     w2v_20     w2v_21  \\\n",
       "0           0      0      0      1      0  ...   3.609093   4.115715   \n",
       "2           0      0      0      0      1  ...  -2.020195   6.758088   \n",
       "4           1      0      0      0      0  ...   1.692410  -1.123189   \n",
       "6           0      0      0      1      0  ...  -4.633541  -1.462685   \n",
       "7           0      0      0      1      0  ... -20.283621  14.073701   \n",
       "\n",
       "      w2v_22     w2v_23    w2v_24     w2v_25    w2v_26    w2v_27     w2v_28  \\\n",
       "0   2.312183  22.253330 -6.545823   3.098747  4.231699  1.640217  15.655637   \n",
       "2  -1.864907  -0.840121 -2.057721  12.321980  4.102563 -3.059424   7.753115   \n",
       "4  -2.550319   6.659307  4.778492   1.700022 -8.228105  3.216305   3.714357   \n",
       "6  -2.110401  -2.225306  0.149683  -0.802922  2.236004 -1.980746   2.099845   \n",
       "7 -15.292051  -8.362285 -6.007620  10.835867  0.156324 -8.194807  24.310183   \n",
       "\n",
       "     w2v_29  \n",
       "0 -0.790056  \n",
       "2 -1.495101  \n",
       "4  3.570485  \n",
       "6  0.585378  \n",
       "7  4.561614  \n",
       "\n",
       "[5 rows x 102 columns]"
      ]
     },
     "execution_count": 1498,
     "metadata": {},
     "output_type": "execute_result"
    }
   ],
   "source": [
    "requests_21g.head()"
   ]
  },
  {
   "cell_type": "code",
   "execution_count": 1499,
   "id": "6dd13f0b-a780-4671-a6db-c65c84d55357",
   "metadata": {
    "tags": []
   },
   "outputs": [],
   "source": [
    "encampments = requests_21g[requests_21g['public_description'] == 'Encampment']"
   ]
  },
  {
   "cell_type": "code",
   "execution_count": 1500,
   "id": "d8a06acb-ffde-4a85-8eb3-9e19928c25ad",
   "metadata": {
    "tags": []
   },
   "outputs": [
    {
     "data": {
      "text/html": [
       "<div>\n",
       "<style scoped>\n",
       "    .dataframe tbody tr th:only-of-type {\n",
       "        vertical-align: middle;\n",
       "    }\n",
       "\n",
       "    .dataframe tbody tr th {\n",
       "        vertical-align: top;\n",
       "    }\n",
       "\n",
       "    .dataframe thead th {\n",
       "        text-align: right;\n",
       "    }\n",
       "</style>\n",
       "<table border=\"1\" class=\"dataframe\">\n",
       "  <thead>\n",
       "    <tr style=\"text-align: right;\">\n",
       "      <th></th>\n",
       "      <th>w2v</th>\n",
       "      <th>w2v_0</th>\n",
       "      <th>w2v_1</th>\n",
       "    </tr>\n",
       "  </thead>\n",
       "  <tbody>\n",
       "    <tr>\n",
       "      <th>22911</th>\n",
       "      <td>[0.87931883, -2.9286838, -3.75166, 0.1794493, ...</td>\n",
       "      <td>0.879319</td>\n",
       "      <td>-2.928684</td>\n",
       "    </tr>\n",
       "    <tr>\n",
       "      <th>26846</th>\n",
       "      <td>[0.87931883, -2.9286838, -3.75166, 0.1794493, ...</td>\n",
       "      <td>0.879319</td>\n",
       "      <td>-2.928684</td>\n",
       "    </tr>\n",
       "    <tr>\n",
       "      <th>28674</th>\n",
       "      <td>[0.87931883, -2.9286838, -3.75166, 0.1794493, ...</td>\n",
       "      <td>0.879319</td>\n",
       "      <td>-2.928684</td>\n",
       "    </tr>\n",
       "    <tr>\n",
       "      <th>36419</th>\n",
       "      <td>[0.87931883, -2.9286838, -3.75166, 0.1794493, ...</td>\n",
       "      <td>0.879319</td>\n",
       "      <td>-2.928684</td>\n",
       "    </tr>\n",
       "    <tr>\n",
       "      <th>40371</th>\n",
       "      <td>[0.87931883, -2.9286838, -3.75166, 0.1794493, ...</td>\n",
       "      <td>0.879319</td>\n",
       "      <td>-2.928684</td>\n",
       "    </tr>\n",
       "  </tbody>\n",
       "</table>\n",
       "</div>"
      ],
      "text/plain": [
       "                                                     w2v     w2v_0     w2v_1\n",
       "22911  [0.87931883, -2.9286838, -3.75166, 0.1794493, ...  0.879319 -2.928684\n",
       "26846  [0.87931883, -2.9286838, -3.75166, 0.1794493, ...  0.879319 -2.928684\n",
       "28674  [0.87931883, -2.9286838, -3.75166, 0.1794493, ...  0.879319 -2.928684\n",
       "36419  [0.87931883, -2.9286838, -3.75166, 0.1794493, ...  0.879319 -2.928684\n",
       "40371  [0.87931883, -2.9286838, -3.75166, 0.1794493, ...  0.879319 -2.928684"
      ]
     },
     "execution_count": 1500,
     "metadata": {},
     "output_type": "execute_result"
    }
   ],
   "source": [
    "encampments[['w2v', 'w2v_0', 'w2v_1']].head()"
   ]
  },
  {
   "cell_type": "code",
   "execution_count": 1501,
   "id": "cb856cba-525b-454c-9676-5d20d8e4e664",
   "metadata": {
    "tags": []
   },
   "outputs": [],
   "source": [
    "requests_21g = requests_21g.drop(['w2v_0',\n",
    " 'w2v_1',\n",
    " 'w2v_2',\n",
    " 'w2v_3',\n",
    " 'w2v_4',\n",
    " 'w2v_5',\n",
    " 'w2v_6',\n",
    " 'w2v_7',\n",
    " 'w2v_8',\n",
    " 'w2v_9',\n",
    " 'w2v_10',\n",
    " 'w2v_11',\n",
    " 'w2v_12',\n",
    " 'w2v_13',\n",
    " 'w2v_14',\n",
    " 'w2v_15',\n",
    " 'w2v_16',\n",
    " 'w2v_17',\n",
    " 'w2v_18',\n",
    " 'w2v_19',\n",
    " 'w2v_20',\n",
    " 'w2v_21',\n",
    " 'w2v_22',\n",
    " 'w2v_23',\n",
    " 'w2v_24',\n",
    " 'w2v_25',\n",
    " 'w2v_26',\n",
    " 'w2v_27',\n",
    " 'w2v_28',\n",
    " 'w2v_29'], axis=1)"
   ]
  },
  {
   "cell_type": "code",
   "execution_count": 1502,
   "id": "8b88b6d2-0dce-4ceb-a61d-4894287b835f",
   "metadata": {
    "tags": []
   },
   "outputs": [
    {
     "data": {
      "text/plain": [
       "Index(['case_age_days', 'service_name_detail', 'in_park', 'public_description',\n",
       "       'has_description', 'is_weekend', 'day_0', 'day_1', 'day_2', 'day_3',\n",
       "       'day_4', 'day_5', 'day_6', 'month_1', 'month_2', 'month_3', 'month_4',\n",
       "       'month_5', 'month_6', 'month_7', 'month_8', 'month_9', 'month_10',\n",
       "       'month_11', 'month_12', 'COVID-19', 'Dead Animal',\n",
       "       'Development Services - Code Enforcement', 'Encampment',\n",
       "       'Environmental Services Code Compliance', 'Graffiti',\n",
       "       'Graffiti - Code Enforcement', 'Illegal Dumping', 'Missed Collection',\n",
       "       'Other', 'Oversized Vehicle', 'Parking', 'Pavement Maintenance',\n",
       "       'Pothole', 'ROW Maintenance', 'Right-of-Way Code Enforcement',\n",
       "       'Shared Mobility Device', 'Sidewalk Repair Issue', 'Stormwater',\n",
       "       'Stormwater Code Enforcement', 'Street Flooded',\n",
       "       'Street Light Maintenance', 'Street Sweeping', 'Traffic Engineering',\n",
       "       'Traffic Sign Maintenance', 'Traffic Signal Issue',\n",
       "       'Traffic Signal Timing', 'Trash/Recycling Collection',\n",
       "       'Tree Maintenance', 'Waste on Private Property', 'Weed Cleanup',\n",
       "       'cd_1.0', 'cd_2.0', 'cd_3.0', 'cd_4.0', 'cd_5.0', 'cd_6.0', 'cd_7.0',\n",
       "       'cd_8.0', 'cd_9.0', 'is_phone', 'tokens', 'word_count', 'word_count_SS',\n",
       "       'unique_tokens', 'w2v', 'real_type'],\n",
       "      dtype='object')"
      ]
     },
     "execution_count": 1502,
     "metadata": {},
     "output_type": "execute_result"
    }
   ],
   "source": [
    "requests_21g.columns"
   ]
  },
  {
   "cell_type": "code",
   "execution_count": 1503,
   "id": "84cc3380-6de6-4002-80fe-a48d6d991189",
   "metadata": {},
   "outputs": [],
   "source": [
    "def unpickle_scale_append(elem_num):  \n",
    "    i = 0\n",
    "    #create 2D arrary to fit scaler\n",
    "    w2v_list = []\n",
    "    while i < len(requests_21g['w2v']):\n",
    "        w2v_list.append(requests_21g['w2v'].iloc[i][elem_num])\n",
    "        i+=1\n",
    "    \n",
    "    #fit scaler, pickle scaler\n",
    "    with open('../data/SS_scaler_w2v_' + str(elem_num) + '.pkl', 'rb') as file:\n",
    "        scaler = pickle.load(file)\n",
    "\n",
    "    requests_21g['w2v_' + str(elem_num)] = scaler.transform(np.array(w2v_list).reshape(-1, 1))\n"
   ]
  },
  {
   "cell_type": "code",
   "execution_count": 1504,
   "id": "d60789e5-afec-454c-8542-7688bd6fdb83",
   "metadata": {},
   "outputs": [],
   "source": [
    "for i in list(range(30)):\n",
    "    unpickle_scale_append(i)"
   ]
  },
  {
   "cell_type": "code",
   "execution_count": 1505,
   "id": "1a23797b-c79f-4558-91e0-ba35c6276fe1",
   "metadata": {
    "tags": []
   },
   "outputs": [],
   "source": [
    "encampments = requests_21g[requests_21g['public_description'] == 'Encampment']"
   ]
  },
  {
   "cell_type": "code",
   "execution_count": 1506,
   "id": "21381ef7-e33d-49d0-accf-883739a8e01c",
   "metadata": {
    "tags": []
   },
   "outputs": [
    {
     "data": {
      "text/html": [
       "<div>\n",
       "<style scoped>\n",
       "    .dataframe tbody tr th:only-of-type {\n",
       "        vertical-align: middle;\n",
       "    }\n",
       "\n",
       "    .dataframe tbody tr th {\n",
       "        vertical-align: top;\n",
       "    }\n",
       "\n",
       "    .dataframe thead th {\n",
       "        text-align: right;\n",
       "    }\n",
       "</style>\n",
       "<table border=\"1\" class=\"dataframe\">\n",
       "  <thead>\n",
       "    <tr style=\"text-align: right;\">\n",
       "      <th></th>\n",
       "      <th>w2v</th>\n",
       "      <th>w2v_0</th>\n",
       "      <th>w2v_1</th>\n",
       "    </tr>\n",
       "  </thead>\n",
       "  <tbody>\n",
       "    <tr>\n",
       "      <th>22911</th>\n",
       "      <td>[0.87931883, -2.9286838, -3.75166, 0.1794493, ...</td>\n",
       "      <td>-0.891546</td>\n",
       "      <td>-0.191832</td>\n",
       "    </tr>\n",
       "    <tr>\n",
       "      <th>26846</th>\n",
       "      <td>[0.87931883, -2.9286838, -3.75166, 0.1794493, ...</td>\n",
       "      <td>-0.891546</td>\n",
       "      <td>-0.191832</td>\n",
       "    </tr>\n",
       "    <tr>\n",
       "      <th>28674</th>\n",
       "      <td>[0.87931883, -2.9286838, -3.75166, 0.1794493, ...</td>\n",
       "      <td>-0.891546</td>\n",
       "      <td>-0.191832</td>\n",
       "    </tr>\n",
       "    <tr>\n",
       "      <th>36419</th>\n",
       "      <td>[0.87931883, -2.9286838, -3.75166, 0.1794493, ...</td>\n",
       "      <td>-0.891546</td>\n",
       "      <td>-0.191832</td>\n",
       "    </tr>\n",
       "    <tr>\n",
       "      <th>40371</th>\n",
       "      <td>[0.87931883, -2.9286838, -3.75166, 0.1794493, ...</td>\n",
       "      <td>-0.891546</td>\n",
       "      <td>-0.191832</td>\n",
       "    </tr>\n",
       "  </tbody>\n",
       "</table>\n",
       "</div>"
      ],
      "text/plain": [
       "                                                     w2v     w2v_0     w2v_1\n",
       "22911  [0.87931883, -2.9286838, -3.75166, 0.1794493, ... -0.891546 -0.191832\n",
       "26846  [0.87931883, -2.9286838, -3.75166, 0.1794493, ... -0.891546 -0.191832\n",
       "28674  [0.87931883, -2.9286838, -3.75166, 0.1794493, ... -0.891546 -0.191832\n",
       "36419  [0.87931883, -2.9286838, -3.75166, 0.1794493, ... -0.891546 -0.191832\n",
       "40371  [0.87931883, -2.9286838, -3.75166, 0.1794493, ... -0.891546 -0.191832"
      ]
     },
     "execution_count": 1506,
     "metadata": {},
     "output_type": "execute_result"
    }
   ],
   "source": [
    "encampments[['w2v', 'w2v_0', 'w2v_1']].head()"
   ]
  },
  {
   "cell_type": "code",
   "execution_count": 1507,
   "id": "43f1cb06-54db-4be6-9d8b-1e08f7f32edb",
   "metadata": {
    "tags": []
   },
   "outputs": [
    {
     "data": {
      "image/png": "[encoded data removed]",
      "text/plain": [
       "<Figure size 432x288 with 1 Axes>"
      ]
     },
     "metadata": {
      "needs_background": "light"
     },
     "output_type": "display_data"
    }
   ],
   "source": [
    "fig, ax = plt.subplots()\n",
    "ax.hist(requests_21g['w2v_0'], bins = 50)\n",
    "plt.show()"
   ]
  },
  {
   "cell_type": "code",
   "execution_count": null,
   "id": "6642b60f-a201-4129-b457-4b309666ad89",
   "metadata": {},
   "outputs": [],
   "source": []
  },
  {
   "cell_type": "code",
   "execution_count": 1508,
   "id": "b29cadcc-6e5f-46c1-ae9d-80db3c359b87",
   "metadata": {
    "tags": []
   },
   "outputs": [],
   "source": [
    "X = requests_21g[['day_0', 'day_1', 'day_2', 'day_3', 'day_4', 'day_5', 'day_6',\n",
    "                  'is_weekend',\n",
    "                 'month_1', 'month_2', 'month_3', 'month_4', 'month_5', 'month_6',\n",
    "                 'month_7', 'month_8', 'month_9', 'month_10', 'month_11', 'month_12',\n",
    "                 'in_park',\n",
    "                 'cd_1.0', 'cd_2.0', 'cd_3.0',\n",
    "                 'cd_4.0', 'cd_5.0', 'cd_6.0',\n",
    "                 'cd_7.0', 'cd_8.0', 'cd_9.0', \n",
    "                  'is_phone',\n",
    "                  'word_count_SS',\n",
    "                  'COVID-19',\n",
    "'Dead Animal',\n",
    "'Development Services - Code Enforcement',\n",
    "'Encampment',\n",
    "'Environmental Services Code Compliance',\n",
    "'Graffiti',\n",
    "'Graffiti - Code Enforcement',\n",
    "'Illegal Dumping',\n",
    "'Missed Collection',\n",
    "'Other',\n",
    "'Oversized Vehicle',\n",
    "'Parking',\n",
    "'Pavement Maintenance',\n",
    "'Pothole',\n",
    "'ROW Maintenance',\n",
    "'Right-of-Way Code Enforcement',\n",
    "'Shared Mobility Device',\n",
    "'Sidewalk Repair Issue',\n",
    "'Stormwater',\n",
    "'Stormwater Code Enforcement',\n",
    "'Street Flooded',\n",
    "'Street Light Maintenance',\n",
    "'Street Sweeping',\n",
    "'Traffic Engineering',\n",
    "'Traffic Sign Maintenance',\n",
    "'Traffic Signal Issue',\n",
    "'Traffic Signal Timing',\n",
    "'Trash/Recycling Collection',\n",
    "'Tree Maintenance',\n",
    "'Waste on Private Property',\n",
    "'Weed Cleanup','w2v_0',\n",
    " 'w2v_1',\n",
    " 'w2v_2',\n",
    " 'w2v_3',\n",
    " 'w2v_4',\n",
    " 'w2v_5',\n",
    " 'w2v_6',\n",
    " 'w2v_7',\n",
    " 'w2v_8',\n",
    " 'w2v_9',\n",
    " 'w2v_10',\n",
    " 'w2v_11',\n",
    " 'w2v_12',\n",
    " 'w2v_13',\n",
    " 'w2v_14',\n",
    " 'w2v_15',\n",
    " 'w2v_16',\n",
    " 'w2v_17',\n",
    " 'w2v_18',\n",
    " 'w2v_19',\n",
    " 'w2v_20',\n",
    " 'w2v_21',\n",
    " 'w2v_22',\n",
    " 'w2v_23',\n",
    " 'w2v_24',\n",
    " 'w2v_25',\n",
    " 'w2v_26',\n",
    " 'w2v_27',\n",
    " 'w2v_28',\n",
    " 'w2v_29'\n",
    "                ]]\n",
    "y = requests_21g['case_age_days']"
   ]
  },
  {
   "cell_type": "code",
   "execution_count": 1509,
   "id": "85d1767c-1cc2-4c54-85a9-1b8184c190c5",
   "metadata": {},
   "outputs": [
    {
     "name": "stdout",
     "output_type": "stream",
     "text": [
      "Index(['day_0', 'day_1', 'day_2', 'day_3', 'day_4', 'day_5', 'day_6',\n",
      "       'is_weekend', 'month_1', 'month_2', 'month_3', 'month_4', 'month_5',\n",
      "       'month_6', 'month_7', 'month_8', 'month_9', 'month_10', 'month_11',\n",
      "       'month_12', 'in_park', 'cd_1.0', 'cd_2.0', 'cd_3.0', 'cd_4.0', 'cd_5.0',\n",
      "       'cd_6.0', 'cd_7.0', 'cd_8.0', 'cd_9.0', 'is_phone', 'word_count_SS',\n",
      "       'COVID-19', 'Dead Animal', 'Development Services - Code Enforcement',\n",
      "       'Encampment', 'Environmental Services Code Compliance', 'Graffiti',\n",
      "       'Graffiti - Code Enforcement', 'Illegal Dumping', 'Missed Collection',\n",
      "       'Other', 'Oversized Vehicle', 'Parking', 'Pavement Maintenance',\n",
      "       'Pothole', 'ROW Maintenance', 'Right-of-Way Code Enforcement',\n",
      "       'Shared Mobility Device', 'Sidewalk Repair Issue', 'Stormwater',\n",
      "       'Stormwater Code Enforcement', 'Street Flooded',\n",
      "       'Street Light Maintenance', 'Street Sweeping', 'Traffic Engineering',\n",
      "       'Traffic Sign Maintenance', 'Traffic Signal Issue',\n",
      "       'Traffic Signal Timing', 'Trash/Recycling Collection',\n",
      "       'Tree Maintenance', 'Waste on Private Property', 'Weed Cleanup',\n",
      "       'w2v_0', 'w2v_1', 'w2v_2', 'w2v_3', 'w2v_4', 'w2v_5', 'w2v_6', 'w2v_7',\n",
      "       'w2v_8', 'w2v_9', 'w2v_10', 'w2v_11', 'w2v_12', 'w2v_13', 'w2v_14',\n",
      "       'w2v_15', 'w2v_16', 'w2v_17', 'w2v_18', 'w2v_19', 'w2v_20', 'w2v_21',\n",
      "       'w2v_22', 'w2v_23', 'w2v_24', 'w2v_25', 'w2v_26', 'w2v_27', 'w2v_28',\n",
      "       'w2v_29'],\n",
      "      dtype='object')\n"
     ]
    }
   ],
   "source": [
    "print(X.columns)"
   ]
  },
  {
   "cell_type": "code",
   "execution_count": 1510,
   "id": "f6b3dc1e-6c36-41c9-99aa-6ba492cb8037",
   "metadata": {},
   "outputs": [],
   "source": [
    "(X_train, X_test, y_train, y_test) = train_test_split(X, y, test_size = 0.2, random_state = 42)"
   ]
  },
  {
   "cell_type": "code",
   "execution_count": 1511,
   "id": "cb021671-ea5f-4d89-8da5-39bbc9a80e68",
   "metadata": {},
   "outputs": [
    {
     "name": "stdout",
     "output_type": "stream",
     "text": [
      "(201757, 93)\n",
      "(50440, 93)\n",
      "(201757,)\n",
      "(50440,)\n"
     ]
    }
   ],
   "source": [
    "print(X_train.shape)\n",
    "print(X_test.shape)\n",
    "print(y_train.shape)\n",
    "print(y_test.shape)"
   ]
  },
  {
   "cell_type": "code",
   "execution_count": 1512,
   "id": "e15babd9-ddcd-42ff-85f8-e4705c2a7986",
   "metadata": {},
   "outputs": [],
   "source": [
    "#Instantiate model\n",
    "xg_reg = xgb.XGBRegressor()"
   ]
  },
  {
   "cell_type": "code",
   "execution_count": 1513,
   "id": "23ab64ff-4c3e-4e26-9a18-d15fab6b7235",
   "metadata": {},
   "outputs": [
    {
     "data": {
      "text/html": [
       "<style>#sk-container-id-26 {color: black;background-color: white;}#sk-container-id-26 pre{padding: 0;}#sk-container-id-26 div.sk-toggleable {background-color: white;}#sk-container-id-26 label.sk-toggleable__label {cursor: pointer;display: block;width: 100%;margin-bottom: 0;padding: 0.3em;box-sizing: border-box;text-align: center;}#sk-container-id-26 label.sk-toggleable__label-arrow:before {content: \"▸\";float: left;margin-right: 0.25em;color: #696969;}#sk-container-id-26 label.sk-toggleable__label-arrow:hover:before {color: black;}#sk-container-id-26 div.sk-estimator:hover label.sk-toggleable__label-arrow:before {color: black;}#sk-container-id-26 div.sk-toggleable__content {max-height: 0;max-width: 0;overflow: hidden;text-align: left;background-color: #f0f8ff;}#sk-container-id-26 div.sk-toggleable__content pre {margin: 0.2em;color: black;border-radius: 0.25em;background-color: #f0f8ff;}#sk-container-id-26 input.sk-toggleable__control:checked~div.sk-toggleable__content {max-height: 200px;max-width: 100%;overflow: auto;}#sk-container-id-26 input.sk-toggleable__control:checked~label.sk-toggleable__label-arrow:before {content: \"▾\";}#sk-container-id-26 div.sk-estimator input.sk-toggleable__control:checked~label.sk-toggleable__label {background-color: #d4ebff;}#sk-container-id-26 div.sk-label input.sk-toggleable__control:checked~label.sk-toggleable__label {background-color: #d4ebff;}#sk-container-id-26 input.sk-hidden--visually {border: 0;clip: rect(1px 1px 1px 1px);clip: rect(1px, 1px, 1px, 1px);height: 1px;margin: -1px;overflow: hidden;padding: 0;position: absolute;width: 1px;}#sk-container-id-26 div.sk-estimator {font-family: monospace;background-color: #f0f8ff;border: 1px dotted black;border-radius: 0.25em;box-sizing: border-box;margin-bottom: 0.5em;}#sk-container-id-26 div.sk-estimator:hover {background-color: #d4ebff;}#sk-container-id-26 div.sk-parallel-item::after {content: \"\";width: 100%;border-bottom: 1px solid gray;flex-grow: 1;}#sk-container-id-26 div.sk-label:hover label.sk-toggleable__label {background-color: #d4ebff;}#sk-container-id-26 div.sk-serial::before {content: \"\";position: absolute;border-left: 1px solid gray;box-sizing: border-box;top: 0;bottom: 0;left: 50%;z-index: 0;}#sk-container-id-26 div.sk-serial {display: flex;flex-direction: column;align-items: center;background-color: white;padding-right: 0.2em;padding-left: 0.2em;position: relative;}#sk-container-id-26 div.sk-item {position: relative;z-index: 1;}#sk-container-id-26 div.sk-parallel {display: flex;align-items: stretch;justify-content: center;background-color: white;position: relative;}#sk-container-id-26 div.sk-item::before, #sk-container-id-26 div.sk-parallel-item::before {content: \"\";position: absolute;border-left: 1px solid gray;box-sizing: border-box;top: 0;bottom: 0;left: 50%;z-index: -1;}#sk-container-id-26 div.sk-parallel-item {display: flex;flex-direction: column;z-index: 1;position: relative;background-color: white;}#sk-container-id-26 div.sk-parallel-item:first-child::after {align-self: flex-end;width: 50%;}#sk-container-id-26 div.sk-parallel-item:last-child::after {align-self: flex-start;width: 50%;}#sk-container-id-26 div.sk-parallel-item:only-child::after {width: 0;}#sk-container-id-26 div.sk-dashed-wrapped {border: 1px dashed gray;margin: 0 0.4em 0.5em 0.4em;box-sizing: border-box;padding-bottom: 0.4em;background-color: white;}#sk-container-id-26 div.sk-label label {font-family: monospace;font-weight: bold;display: inline-block;line-height: 1.2em;}#sk-container-id-26 div.sk-label-container {text-align: center;}#sk-container-id-26 div.sk-container {/* jupyter's `normalize.less` sets `[hidden] { display: none; }` but bootstrap.min.css set `[hidden] { display: none !important; }` so we also need the `!important` here to be able to override the default hidden behavior on the sphinx rendered scikit-learn.org. See: https://github.com/scikit-learn/scikit-learn/issues/21755 */display: inline-block !important;position: relative;}#sk-container-id-26 div.sk-text-repr-fallback {display: none;}</style><div id=\"sk-container-id-26\" class=\"sk-top-container\"><div class=\"sk-text-repr-fallback\"><pre>XGBRegressor(base_score=0.5, booster=&#x27;gbtree&#x27;, callbacks=None,\n",
       "             colsample_bylevel=1, colsample_bynode=1, colsample_bytree=1,\n",
       "             early_stopping_rounds=None, enable_categorical=False,\n",
       "             eval_metric=None, feature_types=None, gamma=0, gpu_id=-1,\n",
       "             grow_policy=&#x27;depthwise&#x27;, importance_type=None,\n",
       "             interaction_constraints=&#x27;&#x27;, learning_rate=0.300000012, max_bin=256,\n",
       "             max_cat_threshold=64, max_cat_to_onehot=4, max_delta_step=0,\n",
       "             max_depth=6, max_leaves=0, min_child_weight=1, missing=nan,\n",
       "             monotone_constraints=&#x27;()&#x27;, n_estimators=100, n_jobs=0,\n",
       "             num_parallel_tree=1, predictor=&#x27;auto&#x27;, random_state=0, ...)</pre><b>In a Jupyter environment, please rerun this cell to show the HTML representation or trust the notebook. <br />On GitHub, the HTML representation is unable to render, please try loading this page with nbviewer.org.</b></div><div class=\"sk-container\" hidden><div class=\"sk-item\"><div class=\"sk-estimator sk-toggleable\"><input class=\"sk-toggleable__control sk-hidden--visually\" id=\"sk-estimator-id-26\" type=\"checkbox\" checked><label for=\"sk-estimator-id-26\" class=\"sk-toggleable__label sk-toggleable__label-arrow\">XGBRegressor</label><div class=\"sk-toggleable__content\"><pre>XGBRegressor(base_score=0.5, booster=&#x27;gbtree&#x27;, callbacks=None,\n",
       "             colsample_bylevel=1, colsample_bynode=1, colsample_bytree=1,\n",
       "             early_stopping_rounds=None, enable_categorical=False,\n",
       "             eval_metric=None, feature_types=None, gamma=0, gpu_id=-1,\n",
       "             grow_policy=&#x27;depthwise&#x27;, importance_type=None,\n",
       "             interaction_constraints=&#x27;&#x27;, learning_rate=0.300000012, max_bin=256,\n",
       "             max_cat_threshold=64, max_cat_to_onehot=4, max_delta_step=0,\n",
       "             max_depth=6, max_leaves=0, min_child_weight=1, missing=nan,\n",
       "             monotone_constraints=&#x27;()&#x27;, n_estimators=100, n_jobs=0,\n",
       "             num_parallel_tree=1, predictor=&#x27;auto&#x27;, random_state=0, ...)</pre></div></div></div></div></div>"
      ],
      "text/plain": [
       "XGBRegressor(base_score=0.5, booster='gbtree', callbacks=None,\n",
       "             colsample_bylevel=1, colsample_bynode=1, colsample_bytree=1,\n",
       "             early_stopping_rounds=None, enable_categorical=False,\n",
       "             eval_metric=None, feature_types=None, gamma=0, gpu_id=-1,\n",
       "             grow_policy='depthwise', importance_type=None,\n",
       "             interaction_constraints='', learning_rate=0.300000012, max_bin=256,\n",
       "             max_cat_threshold=64, max_cat_to_onehot=4, max_delta_step=0,\n",
       "             max_depth=6, max_leaves=0, min_child_weight=1, missing=nan,\n",
       "             monotone_constraints='()', n_estimators=100, n_jobs=0,\n",
       "             num_parallel_tree=1, predictor='auto', random_state=0, ...)"
      ]
     },
     "execution_count": 1513,
     "metadata": {},
     "output_type": "execute_result"
    }
   ],
   "source": [
    "xg_reg.fit(X_train, y_train)"
   ]
  },
  {
   "cell_type": "code",
   "execution_count": 1514,
   "id": "69e607b0-ea04-416f-8c26-8196d4be2611",
   "metadata": {},
   "outputs": [],
   "source": [
    "preds = xg_reg.predict(X_test)"
   ]
  },
  {
   "cell_type": "code",
   "execution_count": 1515,
   "id": "87072fff-b065-41ac-8838-2c81a9bd90a6",
   "metadata": {},
   "outputs": [
    {
     "name": "stdout",
     "output_type": "stream",
     "text": [
      "[55.651222  2.135761 15.286354 ... 41.626087 45.641766 22.354176]\n"
     ]
    }
   ],
   "source": [
    "print(preds)"
   ]
  },
  {
   "cell_type": "code",
   "execution_count": 1516,
   "id": "8924ba37-5d9e-4237-b814-7de140117f87",
   "metadata": {},
   "outputs": [
    {
     "name": "stdout",
     "output_type": "stream",
     "text": [
      "RMSE: 99.385241\n"
     ]
    }
   ],
   "source": [
    "rmse = np.sqrt(mean_squared_error(y_test,preds))\n",
    "\n",
    "print(\"RMSE: %f\" % (rmse))"
   ]
  },
  {
   "cell_type": "code",
   "execution_count": 1517,
   "id": "142ce836-1e8d-42b6-be72-8c808cbe1034",
   "metadata": {},
   "outputs": [
    {
     "name": "stdout",
     "output_type": "stream",
     "text": [
      "0.4065408194062452\n"
     ]
    }
   ],
   "source": [
    "r2 = r2_score(y_test, xg_reg.predict(X_test))\n",
    "print(r2)"
   ]
  },
  {
   "cell_type": "code",
   "execution_count": 1518,
   "id": "1f1f8dd9-08a8-4215-9adc-ae3018fe3d72",
   "metadata": {},
   "outputs": [],
   "source": [
    "pickle.dump(xg_reg, open('../data/simple_model_g.pkl', 'wb'))"
   ]
  },
  {
   "cell_type": "code",
   "execution_count": 846,
   "id": "fc193e83-bdd4-40c0-990b-aa4436fde992",
   "metadata": {},
   "outputs": [],
   "source": [
    "with open('../data/simple_model_g.pkl', 'rb') as file:\n",
    "    test_pickle = pickle.load(file)"
   ]
  },
  {
   "cell_type": "markdown",
   "id": "141cafa1-e1c2-40fa-9e8b-1d4494ef224d",
   "metadata": {},
   "source": [
    "### Try Parameter Grid Search to Improve the Results with XGBoost"
   ]
  },
  {
   "cell_type": "code",
   "execution_count": null,
   "id": "131cf5bf-eac4-4df2-84bc-9593c2acc16e",
   "metadata": {},
   "outputs": [],
   "source": []
  },
  {
   "cell_type": "code",
   "execution_count": 847,
   "id": "c8df98cc-f3e1-4ac6-bf55-bcb1ba47b3d1",
   "metadata": {},
   "outputs": [],
   "source": [
    "from sklearn.model_selection import GridSearchCV\n",
    "from sklearn.model_selection import KFold"
   ]
  },
  {
   "cell_type": "markdown",
   "id": "302e913a-c0af-43fc-a121-e71709ab6707",
   "metadata": {},
   "source": [
    "#### feature: word2vec"
   ]
  },
  {
   "cell_type": "code",
   "execution_count": 848,
   "id": "091e0bab-2ddf-4657-8430-7b1d775fa37b",
   "metadata": {},
   "outputs": [
    {
     "data": {
      "text/plain": [
       "252369"
      ]
     },
     "execution_count": 848,
     "metadata": {},
     "output_type": "execute_result"
    }
   ],
   "source": [
    "requests_21 = requests_21[requests_21['tokens'] != 0]\n",
    "\n",
    "requests_21.shape[0]"
   ]
  },
  {
   "cell_type": "code",
   "execution_count": 853,
   "id": "35d5b332-1ec9-4a29-88fd-fed2b8a7520f",
   "metadata": {},
   "outputs": [],
   "source": [
    "#create w2v\n",
    "x = 0\n",
    "w2v = []\n",
    "\n",
    "while x < requests_21.shape[0]:\n",
    "    f_tokens = requests_21.iloc[x,-1]\n",
    "    if(len(f_tokens) != 0):\n",
    "        w2v.append(Model_CBoW.wv[f_tokens[0]])\n",
    "    else:\n",
    "        w2v.append(0)\n",
    "    \n",
    "    z = 1\n",
    "    \n",
    "    while z < len(f_tokens):\n",
    "        w2v[x] = w2v[x] + Model_CBoW.wv[f_tokens[z]]\n",
    "        \n",
    "        z += 1\n",
    "    \n",
    "    x += 1"
   ]
  },
  {
   "cell_type": "code",
   "execution_count": 854,
   "id": "d3eca9d0-c4aa-4789-8d42-15fd2be3ed1b",
   "metadata": {},
   "outputs": [],
   "source": [
    "requests_21['w2v'] = w2v"
   ]
  },
  {
   "cell_type": "code",
   "execution_count": 856,
   "id": "c8a12e12-ca0b-4641-a89e-e65b6792e149",
   "metadata": {},
   "outputs": [
    {
     "name": "stdout",
     "output_type": "stream",
     "text": [
      "[\"<class 'numpy.ndarray'>\", \"<class 'numpy.ndarray'>\", \"<class 'numpy.ndarray'>\", \"<class 'numpy.ndarray'>\", \"<class 'numpy.ndarray'>\", \"<class 'numpy.ndarray'>\", \"<class 'numpy.ndarray'>\", \"<class 'numpy.ndarray'>\", \"<class 'numpy.ndarray'>\", \"<class 'numpy.ndarray'>\"]\n"
     ]
    }
   ],
   "source": [
    "real_type = []\n",
    "i=0\n",
    "\n",
    "while i < requests_21.shape[0]:\n",
    "    real_type.append(str(type(requests_21.iloc[i,-1])))\n",
    "    i+=1\n",
    "\n",
    "print(real_type[0:10])"
   ]
  },
  {
   "cell_type": "code",
   "execution_count": 857,
   "id": "6be4983c-55ba-4239-8df2-0b930f27271b",
   "metadata": {},
   "outputs": [],
   "source": [
    "requests_21['real_type'] = real_type"
   ]
  },
  {
   "cell_type": "code",
   "execution_count": 858,
   "id": "9940f032-270a-40ae-8dda-8cc21ef0b390",
   "metadata": {},
   "outputs": [
    {
     "data": {
      "text/plain": [
       "252197"
      ]
     },
     "execution_count": 858,
     "metadata": {},
     "output_type": "execute_result"
    }
   ],
   "source": [
    "requests_21 = requests_21[requests_21['real_type'] == \"<class 'numpy.ndarray'>\"]\n",
    "requests_21.shape[0]"
   ]
  },
  {
   "cell_type": "code",
   "execution_count": 859,
   "id": "90b21cf1-9502-48ec-8b80-82d17bf25f68",
   "metadata": {},
   "outputs": [],
   "source": [
    "w2v_0 = []"
   ]
  },
  {
   "cell_type": "code",
   "execution_count": 860,
   "id": "1412687f-16cf-459a-b67c-826dbde6b5f9",
   "metadata": {},
   "outputs": [],
   "source": [
    "requests_21.drop('real_type', axis=1, inplace=True)"
   ]
  },
  {
   "cell_type": "code",
   "execution_count": null,
   "id": "84bd58ed-dbc7-40ff-afd1-22e40c350066",
   "metadata": {},
   "outputs": [],
   "source": [
    "len(requests_21['w2v'])"
   ]
  },
  {
   "cell_type": "code",
   "execution_count": null,
   "id": "937454fd-65bb-4266-ad11-97f32b30acdd",
   "metadata": {},
   "outputs": [],
   "source": [
    "word_count_SS = 0.2"
   ]
  },
  {
   "cell_type": "code",
   "execution_count": null,
   "id": "a619e816-f02a-4650-9494-e5bee8a55f88",
   "metadata": {
    "tags": []
   },
   "outputs": [],
   "source": [
    "w2v_0 = []\n",
    "i=0\n",
    "#(test['w2v']):\n",
    "while i < requests_21.shape[0]: \n",
    "    w2v_0.append(requests_21['w2v'].iloc[i][0])\n",
    "    i+=1\n",
    "requests_21['w2v_0'] = w2v_0\n",
    "SS_scaler.fit(requests_21[['w2v_0']])\n",
    "requests_21['w2v_0'] = SS_scaler.transform(requests_21[['w2v_0']])\n",
    "\n",
    "w2v_1 = []\n",
    "i=0\n",
    "#(test['w2v']):\n",
    "while i < requests_21.shape[0]: \n",
    "    w2v_1.append(requests_21['w2v'].iloc[i][1])\n",
    "    i+=1\n",
    "requests_21['w2v_1'] = w2v_1\n",
    "SS_scaler.fit(requests_21[['w2v_1']])\n",
    "requests_21['w2v_1'] = SS_scaler.transform(requests_21[['w2v_1']])\n",
    "\n",
    "w2v_2 = []\n",
    "i=0\n",
    "#(test['w2v']):\n",
    "while i < requests_21.shape[0]: \n",
    "    w2v_2.append(requests_21['w2v'].iloc[i][2])\n",
    "    i+=1\n",
    "requests_21['w2v_2'] = w2v_2\n",
    "SS_scaler.fit(requests_21[['w2v_2']])\n",
    "requests_21['w2v_2'] = SS_scaler.transform(requests_21[['w2v_2']])\n",
    "\n",
    "w2v_3 = []\n",
    "i=0\n",
    "#(test['w2v']):\n",
    "while i < requests_21.shape[0]: \n",
    "    w2v_3.append(requests_21['w2v'].iloc[i][3])\n",
    "    i+=1\n",
    "requests_21['w2v_3'] = w2v_3\n",
    "SS_scaler.fit(requests_21[['w2v_3']])\n",
    "requests_21['w2v_3'] = SS_scaler.transform(requests_21[['w2v_3']])\n",
    "\n",
    "w2v_4 = []\n",
    "i=0\n",
    "#(test['w2v']):\n",
    "while i < requests_21.shape[0]: \n",
    "    w2v_4.append(requests_21['w2v'].iloc[i][4])\n",
    "    i+=1\n",
    "requests_21['w2v_4'] = w2v_4\n",
    "SS_scaler.fit(requests_21[['w2v_4']])\n",
    "requests_21['w2v_4'] = SS_scaler.transform(requests_21[['w2v_4']])\n",
    "\n",
    "w2v_5 = []\n",
    "i=0\n",
    "#(test['w2v']):\n",
    "while i < requests_21.shape[0]: \n",
    "    w2v_5.append(requests_21['w2v'].iloc[i][5])\n",
    "    i+=1\n",
    "requests_21['w2v_5'] = w2v_5\n",
    "SS_scaler.fit(requests_21[['w2v_5']])\n",
    "requests_21['w2v_5'] = SS_scaler.transform(requests_21[['w2v_5']])\n",
    "\n",
    "w2v_6 = []\n",
    "i=0\n",
    "#(test['w2v']):\n",
    "while i < requests_21.shape[0]: \n",
    "    w2v_6.append(requests_21['w2v'].iloc[i][6])\n",
    "    i+=1\n",
    "requests_21['w2v_6'] = w2v_6\n",
    "SS_scaler.fit(requests_21[['w2v_6']])\n",
    "requests_21['w2v_6'] = SS_scaler.transform(requests_21[['w2v_6']])\n",
    "\n",
    "w2v_7 = []\n",
    "i=0\n",
    "#(test['w2v']):\n",
    "while i < requests_21.shape[0]: \n",
    "    w2v_7.append(requests_21['w2v'].iloc[i][7])\n",
    "    i+=1\n",
    "requests_21['w2v_7'] = w2v_7\n",
    "SS_scaler.fit(requests_21[['w2v_7']])\n",
    "requests_21['w2v_7'] = SS_scaler.transform(requests_21[['w2v_7']])\n",
    "\n",
    "w2v_8 = []\n",
    "i=0\n",
    "#(test['w2v']):\n",
    "while i < requests_21.shape[0]: \n",
    "    w2v_8.append(requests_21['w2v'].iloc[i][8])\n",
    "    i+=1\n",
    "requests_21['w2v_8'] = w2v_8\n",
    "SS_scaler.fit(requests_21[['w2v_8']])\n",
    "requests_21['w2v_8'] = SS_scaler.transform(requests_21[['w2v_8']])\n",
    "\n",
    "w2v_9 = []\n",
    "i=0\n",
    "#(test['w2v']):\n",
    "while i < requests_21.shape[0]: \n",
    "    w2v_9.append(requests_21['w2v'].iloc[i][9])\n",
    "    i+=1\n",
    "requests_21['w2v_9'] = w2v_9\n",
    "SS_scaler.fit(requests_21[['w2v_9']])\n",
    "requests_21['w2v_9'] = SS_scaler.transform(requests_21[['w2v_9']])\n",
    "\n",
    "w2v_10 = []\n",
    "i=0\n",
    "#(test['w2v']):\n",
    "while i < requests_21.shape[0]: \n",
    "    w2v_10.append(requests_21['w2v'].iloc[i][10])\n",
    "    i+=1\n",
    "requests_21['w2v_10'] = w2v_10\n",
    "SS_scaler.fit(requests_21[['w2v_10']])\n",
    "requests_21['w2v_10'] = SS_scaler.transform(requests_21[['w2v_10']])\n",
    "\n",
    "w2v_11 = []\n",
    "i=0\n",
    "#(test['w2v']):\n",
    "while i < requests_21.shape[0]: \n",
    "    w2v_11.append(requests_21['w2v'].iloc[i][11])\n",
    "    i+=1\n",
    "requests_21['w2v_11'] = w2v_11\n",
    "SS_scaler.fit(requests_21[['w2v_11']])\n",
    "requests_21['w2v_11'] = SS_scaler.transform(requests_21[['w2v_11']])\n",
    "\n",
    "w2v_12 = []\n",
    "i=0\n",
    "#(test['w2v']):\n",
    "while i < requests_21.shape[0]: \n",
    "    w2v_12.append(requests_21['w2v'].iloc[i][12])\n",
    "    i+=1\n",
    "requests_21['w2v_12'] = w2v_12\n",
    "SS_scaler.fit(requests_21[['w2v_12']])\n",
    "requests_21['w2v_12'] = SS_scaler.transform(requests_21[['w2v_12']])\n",
    "\n",
    "w2v_13 = []\n",
    "i=0\n",
    "#(test['w2v']):\n",
    "while i < requests_21.shape[0]: \n",
    "    w2v_13.append(requests_21['w2v'].iloc[i][13])\n",
    "    i+=1\n",
    "requests_21['w2v_13'] = w2v_13\n",
    "SS_scaler.fit(requests_21[['w2v_13']])\n",
    "requests_21['w2v_13'] = SS_scaler.transform(requests_21[['w2v_13']])\n",
    "\n",
    "w2v_14 = []\n",
    "i=0\n",
    "#(test['w2v']):\n",
    "while i < requests_21.shape[0]: \n",
    "    w2v_14.append(requests_21['w2v'].iloc[i][14])\n",
    "    i+=1\n",
    "requests_21['w2v_14'] = w2v_14\n",
    "SS_scaler.fit(requests_21[['w2v_14']])\n",
    "requests_21['w2v_14'] = SS_scaler.transform(requests_21[['w2v_14']])\n",
    "\n",
    "w2v_15 = []\n",
    "i=0\n",
    "#(test['w2v']):\n",
    "while i < requests_21.shape[0]: \n",
    "    w2v_15.append(requests_21['w2v'].iloc[i][15])\n",
    "    i+=1\n",
    "requests_21['w2v_15'] = w2v_15\n",
    "SS_scaler.fit(requests_21[['w2v_15']])\n",
    "requests_21['w2v_15'] = SS_scaler.transform(requests_21[['w2v_15']])\n",
    "\n",
    "w2v_16 = []\n",
    "i=0\n",
    "#(test['w2v']):\n",
    "while i < requests_21.shape[0]: \n",
    "    w2v_16.append(requests_21['w2v'].iloc[i][16])\n",
    "    i+=1\n",
    "requests_21['w2v_16'] = w2v_16\n",
    "SS_scaler.fit(requests_21[['w2v_16']])\n",
    "requests_21['w2v_16'] = SS_scaler.transform(requests_21[['w2v_16']])\n",
    "\n",
    "w2v_17 = []\n",
    "i=0\n",
    "#(test['w2v']):\n",
    "while i < requests_21.shape[0]: \n",
    "    w2v_17.append(requests_21['w2v'].iloc[i][17])\n",
    "    i+=1\n",
    "requests_21['w2v_17'] = w2v_17\n",
    "SS_scaler.fit(requests_21[['w2v_17']])\n",
    "requests_21['w2v_17'] = SS_scaler.transform(requests_21[['w2v_17']])\n",
    "\n",
    "w2v_18 = []\n",
    "i=0\n",
    "#(test['w2v']):\n",
    "while i < requests_21.shape[0]: \n",
    "    w2v_18.append(requests_21['w2v'].iloc[i][18])\n",
    "    i+=1\n",
    "requests_21['w2v_18'] = w2v_18\n",
    "SS_scaler.fit(requests_21[['w2v_18']])\n",
    "requests_21['w2v_18'] = SS_scaler.transform(requests_21[['w2v_18']])\n",
    "\n",
    "w2v_19 = []\n",
    "i=0\n",
    "#(test['w2v']):\n",
    "while i < requests_21.shape[0]: \n",
    "    w2v_19.append(requests_21['w2v'].iloc[i][19])\n",
    "    i+=1\n",
    "requests_21['w2v_19'] = w2v_19\n",
    "SS_scaler.fit(requests_21[['w2v_19']])\n",
    "requests_21['w2v_19'] = SS_scaler.transform(requests_21[['w2v_19']])\n",
    "\n",
    "w2v_20 = []\n",
    "i=0\n",
    "#(test['w2v']):\n",
    "while i < requests_21.shape[0]: \n",
    "    w2v_20.append(requests_21['w2v'].iloc[i][20])\n",
    "    i+=1\n",
    "requests_21['w2v_20'] = w2v_20\n",
    "SS_scaler.fit(requests_21[['w2v_20']])\n",
    "requests_21['w2v_20'] = SS_scaler.transform(requests_21[['w2v_20']])\n",
    "\n",
    "w2v_21 = []\n",
    "i=0\n",
    "#(test['w2v']):\n",
    "while i < requests_21.shape[0]: \n",
    "    w2v_21.append(requests_21['w2v'].iloc[i][21])\n",
    "    i+=1\n",
    "requests_21['w2v_21'] = w2v_21\n",
    "SS_scaler.fit(requests_21[['w2v_21']])\n",
    "requests_21['w2v_21'] = SS_scaler.transform(requests_21[['w2v_21']])\n",
    "\n",
    "w2v_22 = []\n",
    "i=0\n",
    "#(test['w2v']):\n",
    "while i < requests_21.shape[0]: \n",
    "    w2v_22.append(requests_21['w2v'].iloc[i][22])\n",
    "    i+=1\n",
    "requests_21['w2v_22'] = w2v_22\n",
    "SS_scaler.fit(requests_21[['w2v_22']])\n",
    "requests_21['w2v_22'] = SS_scaler.transform(requests_21[['w2v_22']])\n",
    "\n",
    "w2v_23 = []\n",
    "i=0\n",
    "#(test['w2v']):\n",
    "while i < requests_21.shape[0]: \n",
    "    w2v_23.append(requests_21['w2v'].iloc[i][23])\n",
    "    i+=1\n",
    "requests_21['w2v_23'] = w2v_23\n",
    "SS_scaler.fit(requests_21[['w2v_23']])\n",
    "requests_21['w2v_23'] = SS_scaler.transform(requests_21[['w2v_23']])\n",
    "\n",
    "w2v_24 = []\n",
    "i=0\n",
    "#(test['w2v']):\n",
    "while i < requests_21.shape[0]: \n",
    "    w2v_24.append(requests_21['w2v'].iloc[i][24])\n",
    "    i+=1\n",
    "requests_21['w2v_24'] = w2v_24\n",
    "SS_scaler.fit(requests_21[['w2v_24']])\n",
    "requests_21['w2v_24'] = SS_scaler.transform(requests_21[['w2v_24']])\n",
    "\n",
    "w2v_25 = []\n",
    "i=0\n",
    "#(test['w2v']):\n",
    "while i < requests_21.shape[0]: \n",
    "    w2v_25.append(requests_21['w2v'].iloc[i][25])\n",
    "    i+=1\n",
    "requests_21['w2v_25'] = w2v_25\n",
    "SS_scaler.fit(requests_21[['w2v_25']])\n",
    "requests_21['w2v_25'] = SS_scaler.transform(requests_21[['w2v_25']])\n",
    "\n",
    "w2v_26 = []\n",
    "i=0\n",
    "#(test['w2v']):\n",
    "while i < requests_21.shape[0]: \n",
    "    w2v_26.append(requests_21['w2v'].iloc[i][26])\n",
    "    i+=1\n",
    "requests_21['w2v_26'] = w2v_26\n",
    "SS_scaler.fit(requests_21[['w2v_26']])\n",
    "requests_21['w2v_26'] = SS_scaler.transform(requests_21[['w2v_26']])\n",
    "\n",
    "w2v_27 = []\n",
    "i=0\n",
    "#(test['w2v']):\n",
    "while i < requests_21.shape[0]: \n",
    "    w2v_27.append(requests_21['w2v'].iloc[i][27])\n",
    "    i+=1\n",
    "requests_21['w2v_27'] = w2v_27\n",
    "SS_scaler.fit(requests_21[['w2v_27']])\n",
    "requests_21['w2v_27'] = SS_scaler.transform(requests_21[['w2v_27']])\n",
    "\n",
    "w2v_28 = []\n",
    "i=0\n",
    "#(test['w2v']):\n",
    "while i < requests_21.shape[0]: \n",
    "    w2v_28.append(requests_21['w2v'].iloc[i][28])\n",
    "    i+=1\n",
    "requests_21['w2v_28'] = w2v_28\n",
    "SS_scaler.fit(requests_21[['w2v_28']])\n",
    "requests_21['w2v_28'] = SS_scaler.transform(requests_21[['w2v_28']])\n",
    "\n",
    "w2v_29 = []\n",
    "i=0\n",
    "#(test['w2v']):\n",
    "while i < requests_21.shape[0]: \n",
    "    w2v_29.append(requests_21['w2v'].iloc[i][29])\n",
    "    i+=1\n",
    "requests_21['w2v_29'] = w2v_29\n",
    "SS_scaler.fit(requests_21[['w2v_29']])\n",
    "requests_21['w2v_29'] = SS_scaler.transform(requests_21[['w2v_29']])\n",
    "\n"
   ]
  },
  {
   "cell_type": "code",
   "execution_count": null,
   "id": "f6cc96aa-ecb2-426e-87f4-3fee6a4a22ba",
   "metadata": {},
   "outputs": [],
   "source": [
    "# w2v_0 = []\n",
    "# i=0\n",
    "# #(test['w2v']):\n",
    "# while i < requests_21.shape[0]: \n",
    "#     w2v_0.append(requests_21['w2v'].iloc[i][0])\n",
    "#     i+=1\n",
    "\n",
    "# print(w2v_0[0:10])\n"
   ]
  },
  {
   "cell_type": "markdown",
   "id": "f577ff2e-9a0d-437c-a226-310646c3623a",
   "metadata": {
    "tags": []
   },
   "source": [
    "## 4. Building a Predictive Model"
   ]
  },
  {
   "cell_type": "markdown",
   "id": "f57a7813-bb9e-4ed4-92a8-714657cb4952",
   "metadata": {},
   "source": [
    "### Imports"
   ]
  },
  {
   "cell_type": "code",
   "execution_count": null,
   "id": "7774584c-6469-405d-ac36-af8e5de444ee",
   "metadata": {},
   "outputs": [],
   "source": [
    "import xgboost as xgb\n",
    "from sklearn.metrics import mean_squared_error\n",
    "from sklearn.metrics import r2_score"
   ]
  },
  {
   "cell_type": "markdown",
   "id": "546fa0b8-faa6-48bd-9022-0115b5038128",
   "metadata": {},
   "source": [
    "### a. Predictive Model with no NLP"
   ]
  },
  {
   "cell_type": "code",
   "execution_count": null,
   "id": "7dd25d48-89a2-4685-85ef-d9803760466f",
   "metadata": {
    "tags": []
   },
   "outputs": [],
   "source": [
    "list(requests_21.columns)"
   ]
  },
  {
   "cell_type": "code",
   "execution_count": null,
   "id": "75e27b85-fcf5-461c-935a-494142a625d0",
   "metadata": {},
   "outputs": [],
   "source": [
    "#Prepare x and y\n",
    "requests_21_Y = requests_21['case_age_days']\n",
    "requests_21_x = requests_21['']"
   ]
  },
  {
   "cell_type": "code",
   "execution_count": null,
   "id": "a29803d6-1fb4-4660-9282-a9217525a4aa",
   "metadata": {
    "tags": []
   },
   "outputs": [],
   "source": [
    "list(requests_21_x.columns)"
   ]
  },
  {
   "cell_type": "code",
   "execution_count": null,
   "id": "3aa62061-ab09-4bac-bb87-0b89109207a7",
   "metadata": {},
   "outputs": [],
   "source": [
    "(X_train, X_test, y_train, y_test) = train_test_split(requests_21_x, requests_21_Y, test_size = 0.2, random_state = 42)"
   ]
  },
  {
   "cell_type": "code",
   "execution_count": null,
   "id": "a3e0c4fc-d61e-4c7c-8e08-d9341e397cf5",
   "metadata": {},
   "outputs": [],
   "source": [
    "print(X_train.shape)\n",
    "print(X_test.shape)\n",
    "print(y_train.shape)\n",
    "print(y_test.shape)"
   ]
  },
  {
   "cell_type": "code",
   "execution_count": null,
   "id": "3f0b0ca3-8a3e-4277-85f3-b7a75bcd7b99",
   "metadata": {},
   "outputs": [],
   "source": [
    "#Instantiate model\n",
    "xg_reg = xgb.XGBRegressor()"
   ]
  },
  {
   "cell_type": "code",
   "execution_count": null,
   "id": "942a00db-7863-49c6-b2ea-c497e27ab63f",
   "metadata": {},
   "outputs": [],
   "source": [
    "xg_reg.fit(X_train, y_train)"
   ]
  },
  {
   "cell_type": "code",
   "execution_count": null,
   "id": "ed2569d7-4dcb-47d1-ab35-49808f8033ad",
   "metadata": {},
   "outputs": [],
   "source": [
    "preds = xg_reg.predict(X_test)"
   ]
  },
  {
   "cell_type": "code",
   "execution_count": null,
   "id": "bbc3bab7-ea17-41fc-87c0-cc018f2629ac",
   "metadata": {},
   "outputs": [],
   "source": [
    "print(preds)"
   ]
  },
  {
   "cell_type": "code",
   "execution_count": null,
   "id": "36034b20-7ac2-489d-90c1-8ac188e75a90",
   "metadata": {},
   "outputs": [],
   "source": [
    "rmse = np.sqrt(mean_squared_error(y_test,preds))\n",
    "\n",
    "print(\"RMSE: %f\" % (rmse))"
   ]
  },
  {
   "cell_type": "code",
   "execution_count": null,
   "id": "8a22f855-f085-457d-ae0c-3ae28bca03de",
   "metadata": {},
   "outputs": [],
   "source": [
    "r2 = r2_score(y_test, xg_reg.predict(X_test))\n",
    "print(r2)"
   ]
  },
  {
   "cell_type": "markdown",
   "id": "0bbc9518-a790-4ef2-acb9-1ab0413eef04",
   "metadata": {},
   "source": [
    "### Try Parameter Grid Search to Improve the Results with XGBoost"
   ]
  },
  {
   "cell_type": "code",
   "execution_count": null,
   "id": "61411b0b-8577-40c3-918b-5a91be8478d2",
   "metadata": {},
   "outputs": [],
   "source": [
    "from sklearn.model_selection import GridSearchCV\n",
    "from sklearn.model_selection import KFold"
   ]
  },
  {
   "cell_type": "code",
   "execution_count": null,
   "id": "dfc02ec8-e22c-4c22-af86-d4c46d55a188",
   "metadata": {},
   "outputs": [],
   "source": [
    "kf = KFold(n_splits=5, shuffle=True, random_state=33)\n",
    "params = {\n",
    "        'min_child_weight': [1, 5, 10],\n",
    "        'gamma': [0.5, 1, 1.5, 2, 5],\n",
    "        'subsample': [0.6, 0.8, 1.0],\n",
    "        'colsample_bytree': [0.6, 0.8, 1.0],\n",
    "        'max_depth': [3, 4, 5]\n",
    "        }\n",
    "xg_reg_gridsearch = GridSearchCV(xg_reg, params, cv=kf)\n",
    "xg_reg_gridsearch.fit(X_train, y_train)\n",
    "print(xg_reg_gridsearch.best_params_, xg_reg_gridsearch.best_score_)"
   ]
  },
  {
   "cell_type": "markdown",
   "id": "ea722efa-31bd-4d49-b8b0-dc27cf690f8a",
   "metadata": {
    "tags": []
   },
   "source": [
    "## 5. LDA Testing"
   ]
  },
  {
   "cell_type": "markdown",
   "id": "211d49ce-8f95-4370-94a7-08f7efff37ca",
   "metadata": {
    "tags": []
   },
   "source": [
    "### Imports"
   ]
  },
  {
   "cell_type": "code",
   "execution_count": null,
   "id": "19b51f78-fd52-4633-ae4c-7eecde417215",
   "metadata": {},
   "outputs": [],
   "source": [
    "import nltk\n",
    "nltk.download('stopwords')"
   ]
  },
  {
   "cell_type": "code",
   "execution_count": null,
   "id": "40ee4f88-8ed1-4328-af71-957601cfcf48",
   "metadata": {},
   "outputs": [],
   "source": [
    "import json\n",
    "import glob\n",
    "\n",
    "#gensim imports\n",
    "import gensim\n",
    "import gensim.corpora as corpora\n",
    "from gensim.utils import simple_preprocess\n",
    "from gensim.models import CoherenceModel\n",
    "from gensim.models import ldamodel\n",
    "\n",
    "# spacy imports\n",
    "import spacy\n",
    "from nltk.corpus import stopwords"
   ]
  },
  {
   "cell_type": "code",
   "execution_count": null,
   "id": "5f407644-e604-4e3e-bb88-7a2d3b2b13e8",
   "metadata": {},
   "outputs": [],
   "source": [
    "#vis\n",
    "import pyLDAvis\n",
    "import pyLDAvis.gensim_models as gensimvis\n",
    "# from pyLDAvis import gensim\n"
   ]
  },
  {
   "cell_type": "markdown",
   "id": "380c7492-dc15-400f-ae51-8a1366c6858f",
   "metadata": {},
   "source": [
    "### Script to Hangle JSON Data"
   ]
  },
  {
   "cell_type": "code",
   "execution_count": null,
   "id": "5de443d7-71c2-48c3-8a20-33602bc51883",
   "metadata": {},
   "outputs": [],
   "source": [
    "def load_data(file):\n",
    "    with open (file, \"r\", encoding=\"utf-8\") as f:\n",
    "        return (data)\n",
    "    \n",
    "def write_data(file, data):\n",
    "    with open (file, \"w\", encoding=\"utf-8\") as f:\n",
    "        json.dump(data, f, indent=4)"
   ]
  },
  {
   "cell_type": "markdown",
   "id": "3f8a88e9-70bd-400d-bd8d-0bb0e76e7fe4",
   "metadata": {},
   "source": [
    "### Create Stopwords"
   ]
  },
  {
   "cell_type": "code",
   "execution_count": null,
   "id": "e7046792-787f-43fe-935f-69edaf4e59cc",
   "metadata": {},
   "outputs": [],
   "source": [
    "stopwords = stopwords.words(\"english\")"
   ]
  },
  {
   "cell_type": "code",
   "execution_count": null,
   "id": "25832e9c-5eb7-47af-bc0e-db5650a72939",
   "metadata": {},
   "outputs": [],
   "source": [
    "print(stopwords)"
   ]
  },
  {
   "cell_type": "code",
   "execution_count": null,
   "id": "49e772e1-1de4-4772-9f60-ee5d4bd4a391",
   "metadata": {},
   "outputs": [],
   "source": [
    "# data = load_data(\"data/ushmm_dn.json\")[\"texts\"]\n",
    "\n",
    "# print(data)"
   ]
  },
  {
   "cell_type": "markdown",
   "id": "6abeb2d3-51cf-455c-ba82-485d7a487d0b",
   "metadata": {},
   "source": [
    "### Define Lemmatization\n",
    "This lemmatization function works on a list of tokens."
   ]
  },
  {
   "cell_type": "code",
   "execution_count": null,
   "id": "f6e2e778-3389-4c09-b3b2-cd1cdcf0425e",
   "metadata": {},
   "outputs": [],
   "source": [
    "nlp = spacy.load(\"en_core_web_sm\", disable=[\"parser\", \"ner\"])"
   ]
  },
  {
   "cell_type": "code",
   "execution_count": null,
   "id": "9b0904c2-e98f-4091-a574-d70d51bcab6f",
   "metadata": {},
   "outputs": [],
   "source": [
    "def lemmatization(texts, allowed_postags=[\"NOUN\", \"ADJ\", \"VERB\", \"ADV\"]):\n",
    "    # nlp = spacy.load(\"en_core_web_sm\", disable=[\"parser\", \"ner\"]) - this should be done within function but not working! in cell above. \n",
    "    texts_out = []\n",
    "    for text in texts:\n",
    "        #doc object (below) to contain essential metadata\n",
    "        doc = nlp(text)\n",
    "        new_text = []\n",
    "        for token in doc:\n",
    "            if token.pos_ in allowed_postags:\n",
    "                new_text.append(token.lemma_)\n",
    "        final = \" \".join(new_text)\n",
    "        texts_out.append(final)\n",
    "    return (texts_out)"
   ]
  },
  {
   "cell_type": "code",
   "execution_count": null,
   "id": "a13e0eaa-aaa7-4bb7-85fd-186d9a36fb04",
   "metadata": {},
   "outputs": [],
   "source": [
    "test_text = ['My name is Melissa who are you good sir and do you have any bananas for me?']\n",
    "test_doc = nlp('My name is Melissa who are you good sir and do you have any bananas for me?')\n",
    "lemmatized_text = lemmatization(test_text)\n",
    "print(lemmatized_text)"
   ]
  },
  {
   "cell_type": "code",
   "execution_count": null,
   "id": "4a8f83bc-8913-438d-b2e4-4ae706afb168",
   "metadata": {},
   "outputs": [],
   "source": [
    "def gen_words(texts):\n",
    "    final = []\n",
    "    for text in texts:\n",
    "        new = gensim.utils.simple_preprocess(text, deacc=True)\n",
    "        final.append(new)\n",
    "    return (final)"
   ]
  },
  {
   "cell_type": "code",
   "execution_count": null,
   "id": "442fbeef-1958-476d-be63-d5a257e03879",
   "metadata": {},
   "outputs": [],
   "source": [
    "data_words = gen_words(lemmatized_text)"
   ]
  },
  {
   "cell_type": "code",
   "execution_count": null,
   "id": "0e5848d5-0e69-444d-9778-68cc1745bec7",
   "metadata": {},
   "outputs": [],
   "source": [
    "id2word = corpora.Dictionary(data_words)\n",
    "\n",
    "corpus =[]\n",
    "for text in data_words:\n",
    "    new = id2word.doc2bow(text)\n",
    "    corpus.append(new)\n",
    "    \n",
    "print (corpus[0][0:20])"
   ]
  },
  {
   "cell_type": "code",
   "execution_count": null,
   "id": "360b97d2-c98e-4c10-b106-fded10f4ad63",
   "metadata": {},
   "outputs": [],
   "source": [
    "word = id2word[[0][:1][0]]\n",
    "print(word)"
   ]
  },
  {
   "cell_type": "code",
   "execution_count": null,
   "id": "565b194e-febe-410a-99a9-d4b1a4253482",
   "metadata": {},
   "outputs": [],
   "source": [
    "lda_model = gensim.models.ldamodel.LdaModel(corpus=corpus, \n",
    "                                            id2word=id2word, \n",
    "                                            num_topics=3, \n",
    "                                            random_state=100, \n",
    "                                            update_every=1, \n",
    "                                            chunksize=100,\n",
    "                                            passes=10,\n",
    "                                            alpha=\"auto\")"
   ]
  },
  {
   "cell_type": "code",
   "execution_count": null,
   "id": "db3912e7-e9a5-4ae5-b3a4-3acffb0beca6",
   "metadata": {},
   "outputs": [],
   "source": [
    "pyLDAvis.enable_notebook()\n",
    "vis = gensimvis.prepare(lda_model, corpus, id2word, mds='mmds')\n",
    "vis\n",
    "\n"
   ]
  },
  {
   "cell_type": "code",
   "execution_count": null,
   "id": "0054a6b8-a637-469d-a57d-1b2e5eb5d8e0",
   "metadata": {},
   "outputs": [],
   "source": []
  },
  {
   "cell_type": "code",
   "execution_count": null,
   "id": "e94ff48c-c45c-4f85-888a-90f20d3f87ad",
   "metadata": {},
   "outputs": [],
   "source": []
  },
  {
   "cell_type": "code",
   "execution_count": null,
   "id": "fc7a56e6-4d6d-43b2-80d7-54b271870e9a",
   "metadata": {},
   "outputs": [],
   "source": []
  },
  {
   "cell_type": "markdown",
   "id": "e35ddaab-c641-441f-8838-d99983888f6e",
   "metadata": {
    "tags": []
   },
   "source": [
    "## 5. Tensorflow Testing"
   ]
  },
  {
   "cell_type": "code",
   "execution_count": null,
   "id": "136f2973-bb1f-4b69-a0a1-cff261d99fde",
   "metadata": {},
   "outputs": [],
   "source": [
    "requests_21 = pd.read_csv('../data/2021_closed_requests.csv', low_memory=False)"
   ]
  },
  {
   "cell_type": "code",
   "execution_count": null,
   "id": "cc012fa9-60fd-45c6-ad8e-7cfde79f64f2",
   "metadata": {},
   "outputs": [],
   "source": [
    "requests_21.head()"
   ]
  },
  {
   "cell_type": "code",
   "execution_count": null,
   "id": "9e627362-8a0d-49ec-9eff-dbd83e8c4633",
   "metadata": {},
   "outputs": [],
   "source": []
  },
  {
   "cell_type": "code",
   "execution_count": null,
   "id": "b0844e9b-96a6-49e8-8a8e-1108f6ae5227",
   "metadata": {},
   "outputs": [],
   "source": []
  },
  {
   "cell_type": "code",
   "execution_count": null,
   "id": "085b6efb-3a49-43d8-bbd6-99501cd56b29",
   "metadata": {},
   "outputs": [],
   "source": []
  },
  {
   "cell_type": "code",
   "execution_count": null,
   "id": "9dd1c0cb-01d8-4283-b1dc-4c263c1101bd",
   "metadata": {},
   "outputs": [],
   "source": []
  },
  {
   "cell_type": "code",
   "execution_count": null,
   "id": "c21c7891-0a0b-45aa-aa8b-4a0527e572bb",
   "metadata": {},
   "outputs": [],
   "source": []
  },
  {
   "cell_type": "code",
   "execution_count": null,
   "id": "38428476-b0e6-47e5-9b77-6b3a4a076364",
   "metadata": {},
   "outputs": [],
   "source": []
  },
  {
   "cell_type": "code",
   "execution_count": null,
   "id": "7e0ce315-d37a-43f1-8ba4-2cd899176073",
   "metadata": {},
   "outputs": [],
   "source": []
  },
  {
   "cell_type": "markdown",
   "id": "ea8a44c6-9a50-442c-ad93-5e576d7c387e",
   "metadata": {},
   "source": [
    "## 6. Building a Pipeline"
   ]
  },
  {
   "cell_type": "markdown",
   "id": "fc797a3c-0454-4fad-aa49-2fa0f26e4792",
   "metadata": {},
   "source": [
    "### a. Picking Pipeline"
   ]
  },
  {
   "cell_type": "code",
   "execution_count": null,
   "id": "4179403d-22cb-4d99-970a-2d6f47817dd1",
   "metadata": {},
   "outputs": [],
   "source": []
  }
 ],
 "metadata": {
  "kernelspec": {
   "display_name": "Python 3 (ipykernel)",
   "language": "python",
   "name": "python3"
  },
  "language_info": {
   "codemirror_mode": {
    "name": "ipython",
    "version": 3
   },
   "file_extension": ".py",
   "mimetype": "text/x-python",
   "name": "python",
   "nbconvert_exporter": "python",
   "pygments_lexer": "ipython3",
   "version": "3.9.12"
  }
 },
 "nbformat": 4,
 "nbformat_minor": 5
}
