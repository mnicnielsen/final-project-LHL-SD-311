{
 "cells": [
  {
   "cell_type": "markdown",
   "id": "39f4264d-ab15-4503-b90d-d78d85271dca",
   "metadata": {
    "tags": []
   },
   "source": [
    "# Tensoflow NLP Model for Text Classification"
   ]
  },
  {
   "cell_type": "markdown",
   "id": "603d644c-7783-4f5f-b392-0865a6de92bb",
   "metadata": {},
   "source": [
    "## Imports"
   ]
  },
  {
   "cell_type": "code",
   "execution_count": 85,
   "id": "eda95c3b-eded-4950-addb-02536ef18f13",
   "metadata": {},
   "outputs": [],
   "source": [
    "import pandas as pd\n",
    "import numpy as np\n",
    "from matplotlib import pyplot as plt\n",
    "import seaborn as sns\n",
    "from datetime import datetime\n",
    "from sklearn.model_selection import train_test_split\n",
    "import pickle\n",
    "\n",
    "from __future__ import absolute_import, division, print_function, unicode_literals\n",
    "\n",
    "import tensorflow as tf\n",
    "\n",
    "import os\n",
    "import datetime\n",
    "# import tensorflow_hub as hub\n",
    "from tensorflow import keras"
   ]
  },
  {
   "cell_type": "markdown",
   "id": "f93e5afd-acf6-4314-8f65-5d530bdb60e1",
   "metadata": {},
   "source": [
    "## Pre-Processing"
   ]
  },
  {
   "cell_type": "code",
   "execution_count": 22,
   "id": "586917ea-a092-408e-9315-d78c308958e5",
   "metadata": {},
   "outputs": [],
   "source": [
    "with open('../data/processed_22_data.pkl', 'rb') as file:\n",
    "    processed_22_data = pickle.load(file)"
   ]
  },
  {
   "cell_type": "code",
   "execution_count": 23,
   "id": "09c5aebe-f300-465d-8f64-4ac16a30fe5e",
   "metadata": {},
   "outputs": [],
   "source": [
    "#only keep relevant columns\n",
    "processed_22_data = processed_22_data[['detailed_type', 'public_description']]"
   ]
  },
  {
   "cell_type": "code",
   "execution_count": 35,
   "id": "7cbd59fd-e225-461e-bee2-8c66d48c2bc4",
   "metadata": {},
   "outputs": [],
   "source": [
    "processed_22_data = processed_22_data[(processed_22_data['detailed_type'] != 'TRAFFIC MAINTENANCE - OTHER') & (processed_22_data['detailed_type'] != 'Red Zone') & (processed_22_data['detailed_type'] != 'Oversized Vehicle') & ((processed_22_data['detailed_type'] != 'Container Request'))]"
   ]
  },
  {
   "cell_type": "code",
   "execution_count": 36,
   "id": "af633270-a3d5-48aa-91c4-58b1860085ad",
   "metadata": {},
   "outputs": [],
   "source": [
    "# processed_21_data[processed_21_data['public_description'] == 'Encampment out front of Kristys.']"
   ]
  },
  {
   "cell_type": "code",
   "execution_count": 37,
   "id": "674e3c4b-bd84-4424-a791-fd8a949bcd77",
   "metadata": {},
   "outputs": [],
   "source": [
    "# #split train and test data\n",
    "# (requests_train, requests_test) = train_test_split(processed_21_data, test_size = 0.2, random_state = 42)"
   ]
  },
  {
   "cell_type": "markdown",
   "id": "32e5b78c-28de-468a-a437-977e100c9c83",
   "metadata": {},
   "source": [
    "## Tensorflow Model"
   ]
  },
  {
   "cell_type": "markdown",
   "id": "9c867814-2307-439c-9b18-9b8696172405",
   "metadata": {},
   "source": [
    "### Imports"
   ]
  },
  {
   "cell_type": "code",
   "execution_count": 38,
   "id": "035c470b-7fc3-42dd-a477-58c9fdc8b338",
   "metadata": {},
   "outputs": [],
   "source": [
    "from __future__ import absolute_import, division, print_function, unicode_literals\n",
    "\n",
    "import tensorflow as tf\n",
    "\n",
    "import os\n",
    "import datetime\n",
    "import tensorflow_hub as hub"
   ]
  },
  {
   "cell_type": "code",
   "execution_count": 39,
   "id": "e9016c86-4fcc-40b5-befb-f3d2b0612263",
   "metadata": {},
   "outputs": [],
   "source": [
    "pd.set_option('display.max_colwidth', None)"
   ]
  },
  {
   "cell_type": "code",
   "execution_count": 40,
   "id": "a668b477-604e-47bb-ba27-99c443d17bcd",
   "metadata": {},
   "outputs": [
    {
     "data": {
      "text/html": [
       "<div>\n",
       "<style scoped>\n",
       "    .dataframe tbody tr th:only-of-type {\n",
       "        vertical-align: middle;\n",
       "    }\n",
       "\n",
       "    .dataframe tbody tr th {\n",
       "        vertical-align: top;\n",
       "    }\n",
       "\n",
       "    .dataframe thead th {\n",
       "        text-align: right;\n",
       "    }\n",
       "</style>\n",
       "<table border=\"1\" class=\"dataframe\">\n",
       "  <thead>\n",
       "    <tr style=\"text-align: right;\">\n",
       "      <th></th>\n",
       "      <th>detailed_type</th>\n",
       "      <th>public_description</th>\n",
       "    </tr>\n",
       "  </thead>\n",
       "  <tbody>\n",
       "    <tr>\n",
       "      <th>286901</th>\n",
       "      <td>Graffiti - Public</td>\n",
       "      <td>Translated: Graffiti on wall</td>\n",
       "    </tr>\n",
       "    <tr>\n",
       "      <th>102363</th>\n",
       "      <td>Encampment</td>\n",
       "      <td>Encampment in front of our property. The people previously occupying the former union bank lot have now moved onto the sidewalk across the street from our house. At 4618 60th street.</td>\n",
       "    </tr>\n",
       "    <tr>\n",
       "      <th>303522</th>\n",
       "      <td>Encampment</td>\n",
       "      <td>large dangerous encampment with drug use and litter/needles.</td>\n",
       "    </tr>\n",
       "    <tr>\n",
       "      <th>232628</th>\n",
       "      <td>Traffic Signal Out of Service</td>\n",
       "      <td>Traffic signal green light is out. Contact is Kathy at 858-922-5950.</td>\n",
       "    </tr>\n",
       "    <tr>\n",
       "      <th>127653</th>\n",
       "      <td>Illegal Dumping</td>\n",
       "      <td>Private vehicle trucks and trailers dumping/abandoning trash/waste public street</td>\n",
       "    </tr>\n",
       "    <tr>\n",
       "      <th>196195</th>\n",
       "      <td>Pothole</td>\n",
       "      <td>Potholes; the asphalt is coming out in chunks at the intersection of 57th and Bollenbacher streets.</td>\n",
       "    </tr>\n",
       "    <tr>\n",
       "      <th>27963</th>\n",
       "      <td>Graffiti Removal</td>\n",
       "      <td>On MLK promenade at SDCC trolley station</td>\n",
       "    </tr>\n",
       "    <tr>\n",
       "      <th>57767</th>\n",
       "      <td>Illegal Dumping</td>\n",
       "      <td>Illegal dump at 2462 W Jewett st, at Comstock st and W Jewett st, Wood materials</td>\n",
       "    </tr>\n",
       "    <tr>\n",
       "      <th>277551</th>\n",
       "      <td>Drain Inlet</td>\n",
       "      <td>Water standing  higher than storm drain grate located in street curb.  This backup was reported  previously about two months ago.  The drain pipe must be clogged going to ocean.  I think it was previously cleared but is backing up again?  Its located right i n front of the 1241 businesses facing the ocean.PREVIOUS NOTIFICATION 040300608110</td>\n",
       "    </tr>\n",
       "    <tr>\n",
       "      <th>19819</th>\n",
       "      <td>72 Hour Violation</td>\n",
       "      <td>Car parked over three days</td>\n",
       "    </tr>\n",
       "  </tbody>\n",
       "</table>\n",
       "</div>"
      ],
      "text/plain": [
       "                        detailed_type  \\\n",
       "286901              Graffiti - Public   \n",
       "102363                     Encampment   \n",
       "303522                     Encampment   \n",
       "232628  Traffic Signal Out of Service   \n",
       "127653                Illegal Dumping   \n",
       "196195                        Pothole   \n",
       "27963                Graffiti Removal   \n",
       "57767                 Illegal Dumping   \n",
       "277551                    Drain Inlet   \n",
       "19819               72 Hour Violation   \n",
       "\n",
       "                                                                                                                                                                                                                                                                                                                                           public_description  \n",
       "286901                                                                                                                                                                                                                                                                                                                           Translated: Graffiti on wall  \n",
       "102363                                                                                                                                                                 Encampment in front of our property. The people previously occupying the former union bank lot have now moved onto the sidewalk across the street from our house. At 4618 60th street.  \n",
       "303522                                                                                                                                                                                                                                                                                           large dangerous encampment with drug use and litter/needles.  \n",
       "232628                                                                                                                                                                                                                                                                                   Traffic signal green light is out. Contact is Kathy at 858-922-5950.  \n",
       "127653                                                                                                                                                                                                                                                                       Private vehicle trucks and trailers dumping/abandoning trash/waste public street  \n",
       "196195                                                                                                                                                                                                                                                    Potholes; the asphalt is coming out in chunks at the intersection of 57th and Bollenbacher streets.  \n",
       "27963                                                                                                                                                                                                                                                                                                                On MLK promenade at SDCC trolley station  \n",
       "57767                                                                                                                                                                                                                                                                        Illegal dump at 2462 W Jewett st, at Comstock st and W Jewett st, Wood materials  \n",
       "277551  Water standing  higher than storm drain grate located in street curb.  This backup was reported  previously about two months ago.  The drain pipe must be clogged going to ocean.  I think it was previously cleared but is backing up again?  Its located right i n front of the 1241 businesses facing the ocean.PREVIOUS NOTIFICATION 040300608110  \n",
       "19819                                                                                                                                                                                                                                                                                                                              Car parked over three days  "
      ]
     },
     "execution_count": 40,
     "metadata": {},
     "output_type": "execute_result"
    }
   ],
   "source": [
    "processed_22_data.sample(10)"
   ]
  },
  {
   "cell_type": "code",
   "execution_count": 41,
   "id": "f85de6bf-3294-41f3-8c48-4ec983e38e16",
   "metadata": {},
   "outputs": [],
   "source": [
    "X_train, X_test = train_test_split(processed_22_data, test_size=0.2, random_state=42)"
   ]
  },
  {
   "cell_type": "code",
   "execution_count": 42,
   "id": "ed890d26-12fb-411b-8fcb-1d50996f04f1",
   "metadata": {},
   "outputs": [],
   "source": [
    "from sklearn.utils import class_weight"
   ]
  },
  {
   "cell_type": "code",
   "execution_count": 43,
   "id": "bea7fa13-4009-4250-b20f-759a5a3e2e9b",
   "metadata": {},
   "outputs": [],
   "source": [
    "class_weights = list(class_weight.compute_class_weight(class_weight = 'balanced',\n",
    "                                                       classes= np.unique(processed_22_data['detailed_type']),\n",
    "                                                      y=processed_22_data['detailed_type']\n",
    "                                                      ))"
   ]
  },
  {
   "cell_type": "code",
   "execution_count": 46,
   "id": "9fe647b9-bb29-4744-abf4-53d7f90df17c",
   "metadata": {},
   "outputs": [
    {
     "data": {
      "text/plain": [
       "51"
      ]
     },
     "execution_count": 46,
     "metadata": {},
     "output_type": "execute_result"
    }
   ],
   "source": [
    "len(X_train['detailed_type'].value_counts())"
   ]
  },
  {
   "cell_type": "code",
   "execution_count": 47,
   "id": "6132bd7a-9584-4e25-8766-e127636bbb3b",
   "metadata": {
    "tags": []
   },
   "outputs": [
    {
     "data": {
      "text/plain": [
       "[0.1485439969674624,\n",
       " 2.2840450625210607,\n",
       " 10.076944712311153,\n",
       " 3.3566887505855583,\n",
       " 1.4754122471070636,\n",
       " 819.5915032679738,\n",
       " 4.578723481943988,\n",
       " 0.13746922228580574,\n",
       " 2.5140843658526806,\n",
       " 4.723870335838466,\n",
       " 4.030777884924461,\n",
       " 2.6682306129179834,\n",
       " 0.465148412751404,\n",
       " 0.3226738201842417,\n",
       " 1.353950721257666,\n",
       " 0.32011124981173306,\n",
       " 3.517560099862549,\n",
       " 0.1674173226979826,\n",
       " 0.49126363832246184,\n",
       " 1.7701760329761855,\n",
       " 0.3635626955203196,\n",
       " 5.04881829528526,\n",
       " 4.53648433543159,\n",
       " 1.4661744244507582,\n",
       " 0.4565545464309575,\n",
       " 3.327164424633182,\n",
       " 3.2849358848415786,\n",
       " 79.31530676786844,\n",
       " 289.26758938869665,\n",
       " 0.7432812907508832,\n",
       " 1.2017470722404309,\n",
       " 12.263214512737763,\n",
       " 35.12535014005602,\n",
       " 2.052399423876395,\n",
       " 3.176711252976643,\n",
       " 11.543542299548928,\n",
       " 1.3137988297108851,\n",
       " 2.12054722708402,\n",
       " 2.3119647482876555,\n",
       " 1.384055451620558,\n",
       " 11.935798591281173,\n",
       " 1.7518877875339662,\n",
       " 1.3986203127439827,\n",
       " 4.132394134124238,\n",
       " 3.0280474258668986,\n",
       " 3.560860984509662,\n",
       " 4.265003486216689,\n",
       " 6.736368520010744,\n",
       " 1.813255538203482,\n",
       " 2.1511588012282776,\n",
       " 4.732963445243352]"
      ]
     },
     "execution_count": 47,
     "metadata": {},
     "output_type": "execute_result"
    }
   ],
   "source": [
    "class_weights"
   ]
  },
  {
   "cell_type": "code",
   "execution_count": 48,
   "id": "28fd6cd9-3d66-43c1-9cbe-7e689e2a7ce8",
   "metadata": {
    "tags": []
   },
   "outputs": [
    {
     "data": {
      "text/plain": [
       "51"
      ]
     },
     "execution_count": 48,
     "metadata": {},
     "output_type": "execute_result"
    }
   ],
   "source": [
    "num_options = len(class_weights)\n",
    "num_options"
   ]
  },
  {
   "cell_type": "code",
   "execution_count": 49,
   "id": "6c4fb032-7c8c-4ef5-a0fc-4f719a72158b",
   "metadata": {},
   "outputs": [],
   "source": [
    "weights = {}"
   ]
  },
  {
   "cell_type": "code",
   "execution_count": 50,
   "id": "6b5a6740-e31b-4c09-8c8e-e7d19a85cf82",
   "metadata": {},
   "outputs": [],
   "source": [
    "for index, weight in enumerate(class_weights) :\n",
    "    weights[index]=weight"
   ]
  },
  {
   "cell_type": "code",
   "execution_count": 51,
   "id": "a72fe509-02a3-4dc0-9503-97568039c06f",
   "metadata": {
    "tags": []
   },
   "outputs": [
    {
     "data": {
      "text/plain": [
       "{0: 0.1485439969674624,\n",
       " 1: 2.2840450625210607,\n",
       " 2: 10.076944712311153,\n",
       " 3: 3.3566887505855583,\n",
       " 4: 1.4754122471070636,\n",
       " 5: 819.5915032679738,\n",
       " 6: 4.578723481943988,\n",
       " 7: 0.13746922228580574,\n",
       " 8: 2.5140843658526806,\n",
       " 9: 4.723870335838466,\n",
       " 10: 4.030777884924461,\n",
       " 11: 2.6682306129179834,\n",
       " 12: 0.465148412751404,\n",
       " 13: 0.3226738201842417,\n",
       " 14: 1.353950721257666,\n",
       " 15: 0.32011124981173306,\n",
       " 16: 3.517560099862549,\n",
       " 17: 0.1674173226979826,\n",
       " 18: 0.49126363832246184,\n",
       " 19: 1.7701760329761855,\n",
       " 20: 0.3635626955203196,\n",
       " 21: 5.04881829528526,\n",
       " 22: 4.53648433543159,\n",
       " 23: 1.4661744244507582,\n",
       " 24: 0.4565545464309575,\n",
       " 25: 3.327164424633182,\n",
       " 26: 3.2849358848415786,\n",
       " 27: 79.31530676786844,\n",
       " 28: 289.26758938869665,\n",
       " 29: 0.7432812907508832,\n",
       " 30: 1.2017470722404309,\n",
       " 31: 12.263214512737763,\n",
       " 32: 35.12535014005602,\n",
       " 33: 2.052399423876395,\n",
       " 34: 3.176711252976643,\n",
       " 35: 11.543542299548928,\n",
       " 36: 1.3137988297108851,\n",
       " 37: 2.12054722708402,\n",
       " 38: 2.3119647482876555,\n",
       " 39: 1.384055451620558,\n",
       " 40: 11.935798591281173,\n",
       " 41: 1.7518877875339662,\n",
       " 42: 1.3986203127439827,\n",
       " 43: 4.132394134124238,\n",
       " 44: 3.0280474258668986,\n",
       " 45: 3.560860984509662,\n",
       " 46: 4.265003486216689,\n",
       " 47: 6.736368520010744,\n",
       " 48: 1.813255538203482,\n",
       " 49: 2.1511588012282776,\n",
       " 50: 4.732963445243352}"
      ]
     },
     "execution_count": 51,
     "metadata": {},
     "output_type": "execute_result"
    }
   ],
   "source": [
    "weights"
   ]
  },
  {
   "cell_type": "code",
   "execution_count": 52,
   "id": "5cab28d1-2c40-4ffe-b512-b42efa0d91d9",
   "metadata": {},
   "outputs": [],
   "source": [
    "list1 = [3,1]"
   ]
  },
  {
   "cell_type": "code",
   "execution_count": 53,
   "id": "f7c6f072-f071-4fc2-a139-d11be3565042",
   "metadata": {},
   "outputs": [
    {
     "data": {
      "text/plain": [
       "(2,)"
      ]
     },
     "execution_count": 53,
     "metadata": {},
     "output_type": "execute_result"
    }
   ],
   "source": [
    "np.array(list1).shape"
   ]
  },
  {
   "cell_type": "code",
   "execution_count": 54,
   "id": "5413842e-c654-42b6-bb9d-25957b344b58",
   "metadata": {},
   "outputs": [],
   "source": [
    "array1 = np.array([1])\n",
    "array2 = np.array([5])"
   ]
  },
  {
   "cell_type": "code",
   "execution_count": 55,
   "id": "f138f2f6-8804-4747-9009-2cad8cd1d675",
   "metadata": {},
   "outputs": [
    {
     "name": "stdout",
     "output_type": "stream",
     "text": [
      "shape (1,)\n",
      "type <class 'numpy.ndarray'>\n"
     ]
    }
   ],
   "source": [
    "string1 = 'string1'\n",
    "string2 = 'string2'\n",
    "string3 = 'string3'\n",
    "\n",
    "string_array = np.array([string1])\n",
    "print('shape', string_array.shape)\n",
    "print('type', type(string_array))"
   ]
  },
  {
   "cell_type": "code",
   "execution_count": 56,
   "id": "a78a6d5d-12cd-42a5-a8d7-ae92a906d990",
   "metadata": {},
   "outputs": [
    {
     "name": "stdout",
     "output_type": "stream",
     "text": [
      "shape (1,)\n",
      "type <class 'numpy.ndarray'>\n"
     ]
    }
   ],
   "source": [
    "test_array = X_train['public_description'].values[0:1]\n",
    "print('shape', test_array.shape)\n",
    "print('type', type(test_array))"
   ]
  },
  {
   "cell_type": "code",
   "execution_count": 57,
   "id": "ee75b7cb-ab51-4f37-8485-831f10b96c9a",
   "metadata": {},
   "outputs": [
    {
     "data": {
      "text/plain": [
       "str"
      ]
     },
     "execution_count": 57,
     "metadata": {},
     "output_type": "execute_result"
    }
   ],
   "source": [
    "type(X_train['public_description'].values[0])"
   ]
  },
  {
   "cell_type": "code",
   "execution_count": 58,
   "id": "504f894e-4e44-428c-9f26-2ccca7e7b510",
   "metadata": {},
   "outputs": [],
   "source": [
    "dataset_train = tf.data.Dataset.from_tensor_slices((string_array, test_array))"
   ]
  },
  {
   "cell_type": "code",
   "execution_count": 59,
   "id": "2e3ca4ad-8186-4f09-a7e0-32420e8bded2",
   "metadata": {},
   "outputs": [],
   "source": [
    "#Instantiate\n",
    "dataset_train = tf.data.Dataset.from_tensor_slices((X_train['public_description'].values, X_train['detailed_type'].values))\n",
    "dataset_test = tf.data.Dataset.from_tensor_slices((X_test['public_description'].values, X_test['detailed_type'].values))"
   ]
  },
  {
   "cell_type": "code",
   "execution_count": 61,
   "id": "dade2369-3051-47f1-81f7-5ccd552578e7",
   "metadata": {},
   "outputs": [],
   "source": [
    "# dataset_train = tf.data.Dataset.from_tensor_slices((testing, X_train['detailed_type'].values))"
   ]
  },
  {
   "cell_type": "code",
   "execution_count": 62,
   "id": "e14e1564-252d-4fdd-8133-e72b4aa65966",
   "metadata": {},
   "outputs": [
    {
     "name": "stdout",
     "output_type": "stream",
     "text": [
      "description: b'Multiple Storm Drain Filled With Debris / Trash', Target: b'Drain Inlet'\n",
      "description: b'Missed trash collection', Target: b'Missed Collection'\n",
      "description: b'The green bulb is burned out in the traffic signal on the northwest corner of the intersection of El Cajon Blvd and 30th St. The signal head faces westbound traffic.', Target: b'Traffic Signal Out of Service'\n",
      "description: b\"Lots of bees coming from the city's water meter box on the public sidewalk between 11571 Big Canyon Lane and 11569 Big Canyon Lane.  The city addressed the issue in previous years and unfortunately the bees are back and has stung a person who parked near the water meter box.\", Target: b'Sidewalk Repair Issue'\n",
      "description: b'Abandoned vehicles here over a month', Target: b'72 Hour Violation'\n"
     ]
    }
   ],
   "source": [
    "for text, target in dataset_train.take(5):\n",
    "    print('description: {}, Target: {}'.format(text, target))"
   ]
  },
  {
   "cell_type": "code",
   "execution_count": 63,
   "id": "6a1e4d18-6525-4e46-94af-e3775bf6fe11",
   "metadata": {},
   "outputs": [
    {
     "name": "stdout",
     "output_type": "stream",
     "text": [
      "description: b'My trash was missed bc we were at an appointment this morning. We didn?t put the cans out the night before like we typically do and just forgot.', Target: b'Missed Collection'\n",
      "description: b\"I got home I placed my trash can where I usually do when the schedule pick up day so I got home and notice my trash full but my neighbor  was empty so there was a Car Not From here but company employees  around my house  Parked Too close to trash can I don't know if that was the issue what can I do?\", Target: b'Missed Collection'\n",
      "description: b'Graffiti on light pole by school.', Target: b'Graffiti - Public'\n",
      "description: b'Junk trailer parked monthd', Target: b'72 Hour Violation'\n",
      "description: b'Homeless encampment on El Cajon Blvd. with tons of trash strewn everywhere. It?s a health hazard and it the trash is blocking the sidewalk and creating a hazard for pedestrians and the handicapped.', Target: b'Encampment'\n"
     ]
    }
   ],
   "source": [
    "for text, target in dataset_test.take(5):\n",
    "    print('description: {}, Target: {}'.format(text, target))"
   ]
  },
  {
   "cell_type": "code",
   "execution_count": 64,
   "id": "56412722-e259-40fa-8ace-c0ce77a77ac3",
   "metadata": {},
   "outputs": [
    {
     "data": {
      "text/plain": [
       "['72 Hour Violation',\n",
       " 'Container Left Out',\n",
       " 'Container Out Late',\n",
       " 'Damaged/Knocked Over Pole',\n",
       " 'Dead Animal',\n",
       " 'Development Services - Code Enforcement',\n",
       " 'Drain Inlet',\n",
       " 'Encampment',\n",
       " 'Encroachment',\n",
       " 'Environmental Services Code Compliance',\n",
       " 'Fallen/Hanging Tree Limb',\n",
       " 'Flashing Traffic Signal Lights',\n",
       " 'Graffiti - Public',\n",
       " 'Graffiti Removal',\n",
       " 'Graffiti Removal - Commercial',\n",
       " 'Illegal Dumping',\n",
       " 'Litter',\n",
       " 'Missed Collection',\n",
       " 'Other',\n",
       " 'Parking',\n",
       " 'Parking Zone Violation',\n",
       " 'Parks Issue',\n",
       " 'Pavement Maintenance',\n",
       " 'Potential Missed Collection',\n",
       " 'Pothole',\n",
       " 'Quality of Life Issues',\n",
       " 'ROW Maintenance',\n",
       " 'Resurfacing Evaluation',\n",
       " 'Right-of-Way Code Enforcement',\n",
       " 'Shared Mobility Device',\n",
       " 'Sidewalk Repair Issue',\n",
       " 'Stormwater',\n",
       " 'Stormwater Code Enforcement',\n",
       " 'Stormwater Pollution Prevention',\n",
       " 'Street Flooded',\n",
       " 'Street Light Maintenance',\n",
       " 'Street Light Out of Service',\n",
       " 'Street Sweeping',\n",
       " 'Traffic Engineering',\n",
       " 'Traffic Sign Maintenance',\n",
       " 'Traffic Signal Issue',\n",
       " 'Traffic Signal Out of Service',\n",
       " 'Traffic Signal Timing',\n",
       " 'Trash/Recycling Collection',\n",
       " 'Tree Maintenance',\n",
       " 'Tree Removal',\n",
       " 'Tree Trimming for Pedestrian/Vehicle Clearance',\n",
       " 'Trimming Request',\n",
       " 'Vegetation Encroachment',\n",
       " 'Waste on Private Property',\n",
       " 'Weed Cleanup']"
      ]
     },
     "execution_count": 64,
     "metadata": {},
     "output_type": "execute_result"
    }
   ],
   "source": [
    "detailed_types = list(np.unique(X_train['detailed_type']))\n",
    "detailed_types"
   ]
  },
  {
   "cell_type": "code",
   "execution_count": 65,
   "id": "5604d556-ae3d-4bdf-be00-746f9967da67",
   "metadata": {},
   "outputs": [],
   "source": [
    "vals = list(range(num_options))"
   ]
  },
  {
   "cell_type": "code",
   "execution_count": 66,
   "id": "f245a5b0-1079-4085-b991-8944a863570c",
   "metadata": {},
   "outputs": [
    {
     "data": {
      "text/plain": [
       "True"
      ]
     },
     "execution_count": 66,
     "metadata": {},
     "output_type": "execute_result"
    }
   ],
   "source": [
    "num_options == len(vals)"
   ]
  },
  {
   "cell_type": "code",
   "execution_count": 67,
   "id": "51fa5d6e-f487-4f55-b2b3-73080bded449",
   "metadata": {},
   "outputs": [],
   "source": [
    "table = tf.lookup.StaticHashTable(\n",
    "    initializer=tf.lookup.KeyValueTensorInitializer(\n",
    "        keys=tf.constant(detailed_types),\n",
    "        values=tf.constant(vals),\n",
    "    ),\n",
    "        default_value=tf.constant(-1),\n",
    "        name=\"target_encoding\"\n",
    ")\n"
   ]
  },
  {
   "cell_type": "code",
   "execution_count": 68,
   "id": "9e1a36be-8949-42f6-9f5d-9b160da55fcd",
   "metadata": {},
   "outputs": [],
   "source": [
    "pickle.dump(detailed_types, open('../data/detailed_types.pkl', 'wb'))\n",
    "pickle.dump(vals, open('../data/vals.pkl', 'wb'))"
   ]
  },
  {
   "cell_type": "code",
   "execution_count": 69,
   "id": "08c9011a-ea77-46c5-8ec5-e65ff68a6eb2",
   "metadata": {},
   "outputs": [],
   "source": [
    "@tf.function\n",
    "def target(x):\n",
    "    return table.lookup(x)"
   ]
  },
  {
   "cell_type": "code",
   "execution_count": 70,
   "id": "d265f243-769e-4337-8883-6c7d9efb2307",
   "metadata": {},
   "outputs": [],
   "source": [
    "def show_batch(dataset, size=5):\n",
    "    for batch, label in dataset.take(size):\n",
    "        print(batch.numpy())\n",
    "        print(target(label).numpy())"
   ]
  },
  {
   "cell_type": "code",
   "execution_count": 71,
   "id": "29b19d16-0ea6-494b-8cab-41e9c285d81c",
   "metadata": {
    "tags": []
   },
   "outputs": [
    {
     "name": "stdout",
     "output_type": "stream",
     "text": [
      "b'My trash was missed bc we were at an appointment this morning. We didn?t put the cans out the night before like we typically do and just forgot.'\n",
      "17\n",
      "b\"I got home I placed my trash can where I usually do when the schedule pick up day so I got home and notice my trash full but my neighbor  was empty so there was a Car Not From here but company employees  around my house  Parked Too close to trash can I don't know if that was the issue what can I do?\"\n",
      "17\n",
      "b'Graffiti on light pole by school.'\n",
      "12\n",
      "b'Junk trailer parked monthd'\n",
      "0\n",
      "b'Homeless encampment on El Cajon Blvd. with tons of trash strewn everywhere. It?s a health hazard and it the trash is blocking the sidewalk and creating a hazard for pedestrians and the handicapped.'\n",
      "7\n",
      "b'Obstructed sidewalk'\n",
      "48\n"
     ]
    }
   ],
   "source": [
    "show_batch(dataset_test, 6)"
   ]
  },
  {
   "cell_type": "code",
   "execution_count": 72,
   "id": "b23676d7-8efc-4eab-97b4-dc521d71f087",
   "metadata": {},
   "outputs": [],
   "source": [
    "def fetch(text, labels):\n",
    "        return text, tf.one_hot(target(labels),num_options)"
   ]
  },
  {
   "cell_type": "code",
   "execution_count": 73,
   "id": "f9d34044-413f-4f51-95e4-104f5f6808f6",
   "metadata": {},
   "outputs": [],
   "source": [
    "train_data_f = dataset_train.map(fetch)\n",
    "test_data_f=dataset_test.map(fetch)"
   ]
  },
  {
   "cell_type": "code",
   "execution_count": 78,
   "id": "f4afb2af-4922-4fdc-bac4-85fbb5ebd3fc",
   "metadata": {},
   "outputs": [],
   "source": [
    "# next(iter(train_data_f))"
   ]
  },
  {
   "cell_type": "code",
   "execution_count": 79,
   "id": "f585d628-70b8-4cef-8e51-7ac4502778e7",
   "metadata": {
    "tags": []
   },
   "outputs": [
    {
     "data": {
      "text/plain": [
       "(<tf.Tensor: shape=(2,), dtype=string, numpy=\n",
       " array([b'Multiple Storm Drain Filled With Debris / Trash',\n",
       "        b'Missed trash collection'], dtype=object)>,\n",
       " <tf.Tensor: shape=(2, 51), dtype=float32, numpy=\n",
       " array([[0., 0., 0., 0., 0., 0., 1., 0., 0., 0., 0., 0., 0., 0., 0., 0.,\n",
       "         0., 0., 0., 0., 0., 0., 0., 0., 0., 0., 0., 0., 0., 0., 0., 0.,\n",
       "         0., 0., 0., 0., 0., 0., 0., 0., 0., 0., 0., 0., 0., 0., 0., 0.,\n",
       "         0., 0., 0.],\n",
       "        [0., 0., 0., 0., 0., 0., 0., 0., 0., 0., 0., 0., 0., 0., 0., 0.,\n",
       "         0., 1., 0., 0., 0., 0., 0., 0., 0., 0., 0., 0., 0., 0., 0., 0.,\n",
       "         0., 0., 0., 0., 0., 0., 0., 0., 0., 0., 0., 0., 0., 0., 0., 0.,\n",
       "         0., 0., 0.]], dtype=float32)>)"
      ]
     },
     "execution_count": 79,
     "metadata": {},
     "output_type": "execute_result"
    }
   ],
   "source": [
    "train_data, train_labels = next(iter(train_data_f.batch(2)))\n",
    "train_data, train_labels"
   ]
  },
  {
   "cell_type": "code",
   "execution_count": 80,
   "id": "44c20810-b6a2-4fa5-915f-1471a9b00a29",
   "metadata": {
    "tags": []
   },
   "outputs": [],
   "source": [
    "# embedding = \"https://tfhub.dev/google/tf2-preview/nnlm-en-dim128/1\"\n",
    "# hub_layer = hub.KerasLayer(embedding, output_shape=[128], input_shape=[],\n",
    "#                            dtype=tf.string, trainable=True)\n",
    "# hub_layer(train_data[:1])"
   ]
  },
  {
   "cell_type": "code",
   "execution_count": 81,
   "id": "cfa02fe7-1be6-4c93-b2b6-02806237a458",
   "metadata": {},
   "outputs": [],
   "source": [
    "# model = tf.keras.Sequential()\n",
    "# model.add(hub_layer)\n",
    "# for units in [128, 128, 64, 32]:\n",
    "#     model.add(tf.keras.layers.Dense(units, activation='relu'))\n",
    "#     model.add(tf.keras.layers.Dropout(0.3))\n",
    "# model.add(tf.keras.layers.Dense(num_options, activation='softmax'))\n",
    "\n",
    "# model.summary()"
   ]
  },
  {
   "cell_type": "code",
   "execution_count": 82,
   "id": "82b91ee0-04c1-474e-9897-10c2cdfcac89",
   "metadata": {},
   "outputs": [],
   "source": [
    "# model.compile(optimizer='adam',\n",
    "#              loss=tf.keras.losses.CategoricalCrossentropy(from_logits=True),\n",
    "#              metrics=['accuracy'])"
   ]
  },
  {
   "cell_type": "code",
   "execution_count": 83,
   "id": "ddbd119f-8a5e-491f-8295-0634db9443b7",
   "metadata": {},
   "outputs": [],
   "source": [
    "train_data_f=train_data_f.shuffle(70000).batch(512)\n",
    "test_data_f=test_data_f.batch(512)"
   ]
  },
  {
   "cell_type": "code",
   "execution_count": 114,
   "id": "3cf42453-456b-43fd-9295-8c23573c5abc",
   "metadata": {},
   "outputs": [],
   "source": [
    "model = keras.models.load_model('../data/tf_model.pkl')"
   ]
  },
  {
   "cell_type": "code",
   "execution_count": 115,
   "id": "6827a02c-04ee-4d25-ad5f-2488e8dc0fa0",
   "metadata": {
    "tags": []
   },
   "outputs": [],
   "source": [
    "# history = model.train(train_data_f,\n",
    "#                    epochs=5,\n",
    "#                    validation_data=test_data_f,\n",
    "#                    verbose=1,\n",
    "#                    class_weight=weights)"
   ]
  },
  {
   "cell_type": "code",
   "execution_count": 128,
   "id": "b5f31844-a45f-4c28-8477-62b0fa2718fb",
   "metadata": {
    "tags": []
   },
   "outputs": [
    {
     "name": "stdout",
     "output_type": "stream",
     "text": [
      "WARNING:tensorflow:5 out of the last 11 calls to <function Model.make_train_function.<locals>.train_function at 0x0000026D478F7D30> triggered tf.function retracing. Tracing is expensive and the excessive number of tracings could be due to (1) creating @tf.function repeatedly in a loop, (2) passing tensors with different shapes, (3) passing Python objects instead of tensors. For (1), please define your @tf.function outside of the loop. For (2), @tf.function has reduce_retracing=True option that can avoid unnecessary retracing. For (3), please refer to https://www.tensorflow.org/guide/function#controlling_retracing and https://www.tensorflow.org/api_docs/python/tf/function for  more details.\n"
     ]
    },
    {
     "name": "stderr",
     "output_type": "stream",
     "text": [
      "WARNING:tensorflow:5 out of the last 11 calls to <function Model.make_train_function.<locals>.train_function at 0x0000026D478F7D30> triggered tf.function retracing. Tracing is expensive and the excessive number of tracings could be due to (1) creating @tf.function repeatedly in a loop, (2) passing tensors with different shapes, (3) passing Python objects instead of tensors. For (1), please define your @tf.function outside of the loop. For (2), @tf.function has reduce_retracing=True option that can avoid unnecessary retracing. For (3), please refer to https://www.tensorflow.org/guide/function#controlling_retracing and https://www.tensorflow.org/api_docs/python/tf/function for  more details.\n"
     ]
    },
    {
     "data": {
      "text/plain": [
       "<keras.callbacks.History at 0x26d42f33460>"
      ]
     },
     "execution_count": 128,
     "metadata": {},
     "output_type": "execute_result"
    }
   ],
   "source": [
    "# update neural network with new data only\n",
    "from sklearn.datasets import make_classification\n",
    "from sklearn.model_selection import train_test_split\n",
    "from tensorflow.keras.models import Sequential\n",
    "from tensorflow.keras.layers import Dense\n",
    "from tensorflow.keras.optimizers import SGD\n",
    "\n",
    "# define dataset\n",
    "# X, y = make_classification(n_samples=1000, n_features=20, n_informative=15, n_redundant=5, random_state=1)\n",
    "# record the number of input features in the data\n",
    "# n_features = X.shape[1]\n",
    "# split into old and new data\n",
    "# X_old, X_new, y_old, y_new = train_test_split(X, y, test_size=0.50, random_state=1)\n",
    "# define the model\n",
    "# model = Sequential()\n",
    "# model.add(Dense(20, kernel_initializer='he_normal', activation='relu', input_dim=n_features))\n",
    "# model.add(Dense(10, kernel_initializer='he_normal', activation='relu'))\n",
    "# model.add(Dense(1, activation='sigmoid'))\n",
    "# # define the optimization algorithm\n",
    "# opt = SGD(learning_rate=0.01, momentum=0.9)\n",
    "# # compile the model\n",
    "# model.compile(optimizer=opt, loss='binary_crossentropy')\n",
    "# # fit the model on old data\n",
    "# model.fit(X_old, y_old, epochs=150, batch_size=32, verbose=0)\n",
    " \n",
    "# save model...\n",
    " \n",
    "# load model...\n",
    " \n",
    "# update model on new data only with a smaller learning rate\n",
    "opt = SGD(learning_rate=0.001, momentum=0.9)\n",
    "# compile the model\n",
    "model.compile(optimizer=opt, loss='binary_crossentropy')\n",
    "# fit the model on new data\n",
    "model.fit(train_data, train_labels, epochs=3, batch_size=32, verbose=0)"
   ]
  },
  {
   "cell_type": "code",
   "execution_count": 129,
   "id": "2fbaba2b-f371-4498-8de1-e2b894b72d52",
   "metadata": {},
   "outputs": [],
   "source": [
    "# model.save('../data/tf_model.pkl')"
   ]
  },
  {
   "cell_type": "code",
   "execution_count": 130,
   "id": "e8d56388-24ad-49b5-862e-bb5753d8feef",
   "metadata": {
    "tags": []
   },
   "outputs": [],
   "source": [
    "# pickle.dump(model, open('../data/tf_model.pkl', 'wb'))"
   ]
  },
  {
   "cell_type": "code",
   "execution_count": 131,
   "id": "9e7815b0-251b-485e-9413-973526b237c3",
   "metadata": {},
   "outputs": [],
   "source": [
    "for_results = len(list(dataset_test))"
   ]
  },
  {
   "cell_type": "code",
   "execution_count": 132,
   "id": "64d0ae5e-7687-4c9c-89d1-0da786dfa56b",
   "metadata": {},
   "outputs": [
    {
     "name": "stdout",
     "output_type": "stream",
     "text": [
      "WARNING:tensorflow:6 out of the last 6 calls to <function Model.make_test_function.<locals>.test_function at 0x0000026D7C29FD30> triggered tf.function retracing. Tracing is expensive and the excessive number of tracings could be due to (1) creating @tf.function repeatedly in a loop, (2) passing tensors with different shapes, (3) passing Python objects instead of tensors. For (1), please define your @tf.function outside of the loop. For (2), @tf.function has reduce_retracing=True option that can avoid unnecessary retracing. For (3), please refer to https://www.tensorflow.org/guide/function#controlling_retracing and https://www.tensorflow.org/api_docs/python/tf/function for  more details.\n"
     ]
    },
    {
     "name": "stderr",
     "output_type": "stream",
     "text": [
      "WARNING:tensorflow:6 out of the last 6 calls to <function Model.make_test_function.<locals>.test_function at 0x0000026D7C29FD30> triggered tf.function retracing. Tracing is expensive and the excessive number of tracings could be due to (1) creating @tf.function repeatedly in a loop, (2) passing tensors with different shapes, (3) passing Python objects instead of tensors. For (1), please define your @tf.function outside of the loop. For (2), @tf.function has reduce_retracing=True option that can avoid unnecessary retracing. For (3), please refer to https://www.tensorflow.org/guide/function#controlling_retracing and https://www.tensorflow.org/api_docs/python/tf/function for  more details.\n"
     ]
    },
    {
     "name": "stdout",
     "output_type": "stream",
     "text": [
      "1/1 - 8s - loss: 0.7450 - 8s/epoch - 8s/step\n"
     ]
    }
   ],
   "source": [
    "results = model.evaluate(dataset_test.map(fetch).batch(for_results), verbose=2)"
   ]
  },
  {
   "cell_type": "code",
   "execution_count": 133,
   "id": "f286643a-3298-4555-add6-001d23dee538",
   "metadata": {},
   "outputs": [
    {
     "name": "stdout",
     "output_type": "stream",
     "text": [
      "0.7449644207954407\n"
     ]
    }
   ],
   "source": [
    "print(results)"
   ]
  },
  {
   "cell_type": "code",
   "execution_count": 134,
   "id": "b5a995df-70d7-427c-95f7-31f06f93d685",
   "metadata": {},
   "outputs": [
    {
     "data": {
      "text/plain": [
       "(<tf.Tensor: shape=(1,), dtype=string, numpy=\n",
       " array([b'My trash was missed bc we were at an appointment this morning. We didn?t put the cans out the night before like we typically do and just forgot.'],\n",
       "       dtype=object)>,\n",
       " <tf.Tensor: shape=(1, 51), dtype=float32, numpy=\n",
       " array([[0., 0., 0., 0., 0., 0., 0., 0., 0., 0., 0., 0., 0., 0., 0., 0.,\n",
       "         0., 1., 0., 0., 0., 0., 0., 0., 0., 0., 0., 0., 0., 0., 0., 0.,\n",
       "         0., 0., 0., 0., 0., 0., 0., 0., 0., 0., 0., 0., 0., 0., 0., 0.,\n",
       "         0., 0., 0.]], dtype=float32)>)"
      ]
     },
     "execution_count": 134,
     "metadata": {},
     "output_type": "execute_result"
    }
   ],
   "source": [
    "next(iter(dataset_test.map(fetch).batch(1)))"
   ]
  },
  {
   "cell_type": "code",
   "execution_count": 135,
   "id": "30098480-f686-4feb-8793-913171bda5b3",
   "metadata": {},
   "outputs": [
    {
     "data": {
      "text/plain": [
       "tensorflow.python.data.ops.from_tensor_slices_op.TensorSliceDataset"
      ]
     },
     "execution_count": 135,
     "metadata": {},
     "output_type": "execute_result"
    }
   ],
   "source": [
    "type(dataset_test)"
   ]
  },
  {
   "cell_type": "code",
   "execution_count": 136,
   "id": "38cbc0b6-ae68-4eda-bbf2-a37a80a869ca",
   "metadata": {},
   "outputs": [],
   "source": [
    "test_data, test_labels = next(iter(dataset_test.map(fetch).batch(for_results)))"
   ]
  },
  {
   "cell_type": "code",
   "execution_count": 137,
   "id": "167e1ac3-6d26-4147-9529-c896e3219408",
   "metadata": {},
   "outputs": [
    {
     "name": "stdout",
     "output_type": "stream",
     "text": [
      "1568/1568 [==============================] - 311s 198ms/step\n"
     ]
    }
   ],
   "source": [
    "y_pred=model.predict(test_data)"
   ]
  },
  {
   "cell_type": "code",
   "execution_count": 138,
   "id": "99e9e1c1-fc82-473a-ae0a-dca32a7534e0",
   "metadata": {},
   "outputs": [
    {
     "data": {
      "text/plain": [
       "tensorflow.python.framework.ops.EagerTensor"
      ]
     },
     "execution_count": 138,
     "metadata": {},
     "output_type": "execute_result"
    }
   ],
   "source": [
    "type(test_data)"
   ]
  },
  {
   "cell_type": "code",
   "execution_count": 139,
   "id": "e3b0b1d7-72f9-4fff-9d2a-c102607f194f",
   "metadata": {},
   "outputs": [
    {
     "data": {
      "text/plain": [
       "array([[4.7691487e-05, 2.4527367e-08, 8.6548872e-04, ..., 2.6362093e-16,\n",
       "        1.7160593e-06, 1.7350067e-15],\n",
       "       [9.8485012e-05, 9.4118241e-06, 5.0113939e-02, ..., 4.0401679e-14,\n",
       "        6.0341266e-05, 8.3725041e-13],\n",
       "       [1.7062610e-04, 6.9632938e-06, 2.5475043e-05, ..., 7.3224615e-04,\n",
       "        1.8136858e-03, 1.2289040e-03],\n",
       "       ...,\n",
       "       [4.4629199e-04, 3.6561125e-04, 2.5465182e-04, ..., 3.9904284e-05,\n",
       "        5.6467410e-02, 9.6462518e-06],\n",
       "       [1.1855287e-07, 2.4592050e-13, 5.5751685e-11, ..., 5.5815428e-07,\n",
       "        3.4303316e-06, 3.6026584e-06],\n",
       "       [1.1980516e-06, 1.9950015e-05, 1.9838264e-09, ..., 1.0558818e-07,\n",
       "        1.9745694e-06, 5.0291622e-08]], dtype=float32)"
      ]
     },
     "execution_count": 139,
     "metadata": {},
     "output_type": "execute_result"
    }
   ],
   "source": [
    "y_pred"
   ]
  },
  {
   "cell_type": "code",
   "execution_count": 140,
   "id": "7bf56281-5371-4466-a592-49f4ba2632a6",
   "metadata": {
    "tags": []
   },
   "outputs": [
    {
     "data": {
      "text/html": [
       "<div>\n",
       "<style scoped>\n",
       "    .dataframe tbody tr th:only-of-type {\n",
       "        vertical-align: middle;\n",
       "    }\n",
       "\n",
       "    .dataframe tbody tr th {\n",
       "        vertical-align: top;\n",
       "    }\n",
       "\n",
       "    .dataframe thead th {\n",
       "        text-align: right;\n",
       "    }\n",
       "</style>\n",
       "<table border=\"1\" class=\"dataframe\">\n",
       "  <thead>\n",
       "    <tr style=\"text-align: right;\">\n",
       "      <th></th>\n",
       "      <th>72 Hour Violation</th>\n",
       "      <th>COVID-19</th>\n",
       "      <th>Container Left Out</th>\n",
       "      <th>Container Out Late</th>\n",
       "      <th>Damaged/Knocked Over Pole</th>\n",
       "      <th>Dead Animal</th>\n",
       "      <th>Development Services - Code Enforcement</th>\n",
       "      <th>Drain Inlet</th>\n",
       "      <th>Encampment</th>\n",
       "      <th>Encroachment</th>\n",
       "      <th>...</th>\n",
       "      <th>Traffic Signal Out of Service</th>\n",
       "      <th>Traffic Signal Timing</th>\n",
       "      <th>Trash/Recycling Collection</th>\n",
       "      <th>Tree Maintenance</th>\n",
       "      <th>Tree Removal</th>\n",
       "      <th>Tree Trimming for Pedestrian/Vehicle Clearance</th>\n",
       "      <th>Trimming Request</th>\n",
       "      <th>Vegetation Encroachment</th>\n",
       "      <th>Waste on Private Property</th>\n",
       "      <th>Weed Cleanup</th>\n",
       "    </tr>\n",
       "  </thead>\n",
       "  <tbody>\n",
       "    <tr>\n",
       "      <th>0</th>\n",
       "      <td>4.769149e-05</td>\n",
       "      <td>2.452737e-08</td>\n",
       "      <td>8.654887e-04</td>\n",
       "      <td>9.399161e-01</td>\n",
       "      <td>1.491957e-08</td>\n",
       "      <td>2.198774e-12</td>\n",
       "      <td>2.431510e-12</td>\n",
       "      <td>5.471574e-09</td>\n",
       "      <td>0.000017</td>\n",
       "      <td>0.000035</td>\n",
       "      <td>...</td>\n",
       "      <td>1.271483e-08</td>\n",
       "      <td>9.151906e-07</td>\n",
       "      <td>1.787884e-04</td>\n",
       "      <td>3.773285e-13</td>\n",
       "      <td>4.450409e-18</td>\n",
       "      <td>1.995542e-14</td>\n",
       "      <td>1.181110e-17</td>\n",
       "      <td>2.636209e-16</td>\n",
       "      <td>0.000002</td>\n",
       "      <td>1.735007e-15</td>\n",
       "    </tr>\n",
       "    <tr>\n",
       "      <th>1</th>\n",
       "      <td>9.848501e-05</td>\n",
       "      <td>9.411824e-06</td>\n",
       "      <td>5.011394e-02</td>\n",
       "      <td>1.211731e-01</td>\n",
       "      <td>9.637523e-09</td>\n",
       "      <td>7.034455e-12</td>\n",
       "      <td>9.166781e-10</td>\n",
       "      <td>6.904694e-07</td>\n",
       "      <td>0.000030</td>\n",
       "      <td>0.000627</td>\n",
       "      <td>...</td>\n",
       "      <td>2.561353e-09</td>\n",
       "      <td>1.007262e-06</td>\n",
       "      <td>5.460774e-02</td>\n",
       "      <td>1.617505e-10</td>\n",
       "      <td>1.962724e-15</td>\n",
       "      <td>9.259784e-12</td>\n",
       "      <td>1.354534e-14</td>\n",
       "      <td>4.040168e-14</td>\n",
       "      <td>0.000060</td>\n",
       "      <td>8.372504e-13</td>\n",
       "    </tr>\n",
       "    <tr>\n",
       "      <th>2</th>\n",
       "      <td>1.706261e-04</td>\n",
       "      <td>6.963294e-06</td>\n",
       "      <td>2.547504e-05</td>\n",
       "      <td>1.714907e-04</td>\n",
       "      <td>6.469573e-02</td>\n",
       "      <td>6.723507e-04</td>\n",
       "      <td>5.512339e-06</td>\n",
       "      <td>1.776420e-04</td>\n",
       "      <td>0.007258</td>\n",
       "      <td>0.003504</td>\n",
       "      <td>...</td>\n",
       "      <td>6.741208e-04</td>\n",
       "      <td>4.720008e-05</td>\n",
       "      <td>2.934980e-04</td>\n",
       "      <td>1.355615e-03</td>\n",
       "      <td>7.413550e-05</td>\n",
       "      <td>4.447246e-05</td>\n",
       "      <td>3.226900e-06</td>\n",
       "      <td>7.322461e-04</td>\n",
       "      <td>0.001814</td>\n",
       "      <td>1.228904e-03</td>\n",
       "    </tr>\n",
       "    <tr>\n",
       "      <th>3</th>\n",
       "      <td>6.171597e-03</td>\n",
       "      <td>7.982684e-04</td>\n",
       "      <td>1.638399e-07</td>\n",
       "      <td>2.645602e-13</td>\n",
       "      <td>1.235827e-10</td>\n",
       "      <td>1.208913e-04</td>\n",
       "      <td>3.525866e-03</td>\n",
       "      <td>1.003611e-06</td>\n",
       "      <td>0.045592</td>\n",
       "      <td>0.000012</td>\n",
       "      <td>...</td>\n",
       "      <td>1.995703e-09</td>\n",
       "      <td>4.913862e-13</td>\n",
       "      <td>8.570158e-07</td>\n",
       "      <td>7.787693e-11</td>\n",
       "      <td>4.565507e-10</td>\n",
       "      <td>1.736326e-07</td>\n",
       "      <td>9.640148e-12</td>\n",
       "      <td>4.919084e-06</td>\n",
       "      <td>0.000531</td>\n",
       "      <td>9.204214e-08</td>\n",
       "    </tr>\n",
       "    <tr>\n",
       "      <th>4</th>\n",
       "      <td>1.815667e-03</td>\n",
       "      <td>7.041866e-04</td>\n",
       "      <td>5.825403e-04</td>\n",
       "      <td>1.500073e-08</td>\n",
       "      <td>3.361923e-08</td>\n",
       "      <td>2.233769e-04</td>\n",
       "      <td>3.407675e-03</td>\n",
       "      <td>2.402721e-05</td>\n",
       "      <td>0.710664</td>\n",
       "      <td>0.010401</td>\n",
       "      <td>...</td>\n",
       "      <td>1.397769e-08</td>\n",
       "      <td>3.087025e-10</td>\n",
       "      <td>6.554251e-04</td>\n",
       "      <td>1.178076e-06</td>\n",
       "      <td>8.475556e-08</td>\n",
       "      <td>3.541678e-05</td>\n",
       "      <td>1.337525e-08</td>\n",
       "      <td>2.173728e-04</td>\n",
       "      <td>0.063282</td>\n",
       "      <td>4.816052e-05</td>\n",
       "    </tr>\n",
       "    <tr>\n",
       "      <th>...</th>\n",
       "      <td>...</td>\n",
       "      <td>...</td>\n",
       "      <td>...</td>\n",
       "      <td>...</td>\n",
       "      <td>...</td>\n",
       "      <td>...</td>\n",
       "      <td>...</td>\n",
       "      <td>...</td>\n",
       "      <td>...</td>\n",
       "      <td>...</td>\n",
       "      <td>...</td>\n",
       "      <td>...</td>\n",
       "      <td>...</td>\n",
       "      <td>...</td>\n",
       "      <td>...</td>\n",
       "      <td>...</td>\n",
       "      <td>...</td>\n",
       "      <td>...</td>\n",
       "      <td>...</td>\n",
       "      <td>...</td>\n",
       "      <td>...</td>\n",
       "    </tr>\n",
       "    <tr>\n",
       "      <th>50154</th>\n",
       "      <td>3.973027e-01</td>\n",
       "      <td>3.467267e-04</td>\n",
       "      <td>2.005756e-06</td>\n",
       "      <td>4.890648e-08</td>\n",
       "      <td>3.511582e-14</td>\n",
       "      <td>1.043692e-07</td>\n",
       "      <td>2.576956e-03</td>\n",
       "      <td>2.407134e-10</td>\n",
       "      <td>0.037262</td>\n",
       "      <td>0.000002</td>\n",
       "      <td>...</td>\n",
       "      <td>8.771438e-10</td>\n",
       "      <td>3.549720e-09</td>\n",
       "      <td>6.371409e-08</td>\n",
       "      <td>4.965835e-12</td>\n",
       "      <td>5.694645e-14</td>\n",
       "      <td>4.248760e-08</td>\n",
       "      <td>2.044231e-12</td>\n",
       "      <td>4.750637e-10</td>\n",
       "      <td>0.000002</td>\n",
       "      <td>8.616006e-13</td>\n",
       "    </tr>\n",
       "    <tr>\n",
       "      <th>50155</th>\n",
       "      <td>1.297167e-01</td>\n",
       "      <td>2.474305e-06</td>\n",
       "      <td>4.704276e-08</td>\n",
       "      <td>1.653536e-09</td>\n",
       "      <td>2.026222e-12</td>\n",
       "      <td>2.386010e-06</td>\n",
       "      <td>4.020373e-05</td>\n",
       "      <td>3.600365e-11</td>\n",
       "      <td>0.028799</td>\n",
       "      <td>0.000008</td>\n",
       "      <td>...</td>\n",
       "      <td>1.143714e-09</td>\n",
       "      <td>9.622440e-11</td>\n",
       "      <td>6.885465e-09</td>\n",
       "      <td>1.416399e-12</td>\n",
       "      <td>2.124129e-14</td>\n",
       "      <td>1.519632e-09</td>\n",
       "      <td>1.126003e-14</td>\n",
       "      <td>4.710154e-09</td>\n",
       "      <td>0.000002</td>\n",
       "      <td>2.436008e-11</td>\n",
       "    </tr>\n",
       "    <tr>\n",
       "      <th>50156</th>\n",
       "      <td>4.462920e-04</td>\n",
       "      <td>3.656113e-04</td>\n",
       "      <td>2.546518e-04</td>\n",
       "      <td>1.359649e-09</td>\n",
       "      <td>3.932828e-09</td>\n",
       "      <td>6.669861e-05</td>\n",
       "      <td>1.148740e-03</td>\n",
       "      <td>9.742021e-06</td>\n",
       "      <td>0.796252</td>\n",
       "      <td>0.005877</td>\n",
       "      <td>...</td>\n",
       "      <td>7.283497e-10</td>\n",
       "      <td>8.602780e-12</td>\n",
       "      <td>4.066563e-04</td>\n",
       "      <td>2.048460e-07</td>\n",
       "      <td>8.994660e-09</td>\n",
       "      <td>6.622448e-06</td>\n",
       "      <td>1.105634e-09</td>\n",
       "      <td>3.990428e-05</td>\n",
       "      <td>0.056467</td>\n",
       "      <td>9.646252e-06</td>\n",
       "    </tr>\n",
       "    <tr>\n",
       "      <th>50157</th>\n",
       "      <td>1.185529e-07</td>\n",
       "      <td>2.459205e-13</td>\n",
       "      <td>5.575168e-11</td>\n",
       "      <td>1.225580e-09</td>\n",
       "      <td>8.855927e-06</td>\n",
       "      <td>5.127491e-06</td>\n",
       "      <td>1.137998e-11</td>\n",
       "      <td>3.388867e-10</td>\n",
       "      <td>0.000118</td>\n",
       "      <td>0.000476</td>\n",
       "      <td>...</td>\n",
       "      <td>1.101688e-08</td>\n",
       "      <td>5.929723e-11</td>\n",
       "      <td>1.236362e-08</td>\n",
       "      <td>4.312216e-08</td>\n",
       "      <td>1.559742e-11</td>\n",
       "      <td>1.252006e-10</td>\n",
       "      <td>1.717043e-14</td>\n",
       "      <td>5.581543e-07</td>\n",
       "      <td>0.000003</td>\n",
       "      <td>3.602658e-06</td>\n",
       "    </tr>\n",
       "    <tr>\n",
       "      <th>50158</th>\n",
       "      <td>1.198052e-06</td>\n",
       "      <td>1.995002e-05</td>\n",
       "      <td>1.983826e-09</td>\n",
       "      <td>2.037949e-09</td>\n",
       "      <td>5.433965e-04</td>\n",
       "      <td>3.047490e-07</td>\n",
       "      <td>2.503297e-07</td>\n",
       "      <td>4.926679e-03</td>\n",
       "      <td>0.000005</td>\n",
       "      <td>0.000001</td>\n",
       "      <td>...</td>\n",
       "      <td>1.574379e-05</td>\n",
       "      <td>2.161963e-05</td>\n",
       "      <td>2.967130e-06</td>\n",
       "      <td>8.073753e-06</td>\n",
       "      <td>6.883379e-06</td>\n",
       "      <td>1.869077e-07</td>\n",
       "      <td>2.287239e-07</td>\n",
       "      <td>1.055882e-07</td>\n",
       "      <td>0.000002</td>\n",
       "      <td>5.029162e-08</td>\n",
       "    </tr>\n",
       "  </tbody>\n",
       "</table>\n",
       "<p>50159 rows × 51 columns</p>\n",
       "</div>"
      ],
      "text/plain": [
       "       72 Hour Violation      COVID-19  Container Left Out  \\\n",
       "0           4.769149e-05  2.452737e-08        8.654887e-04   \n",
       "1           9.848501e-05  9.411824e-06        5.011394e-02   \n",
       "2           1.706261e-04  6.963294e-06        2.547504e-05   \n",
       "3           6.171597e-03  7.982684e-04        1.638399e-07   \n",
       "4           1.815667e-03  7.041866e-04        5.825403e-04   \n",
       "...                  ...           ...                 ...   \n",
       "50154       3.973027e-01  3.467267e-04        2.005756e-06   \n",
       "50155       1.297167e-01  2.474305e-06        4.704276e-08   \n",
       "50156       4.462920e-04  3.656113e-04        2.546518e-04   \n",
       "50157       1.185529e-07  2.459205e-13        5.575168e-11   \n",
       "50158       1.198052e-06  1.995002e-05        1.983826e-09   \n",
       "\n",
       "       Container Out Late  Damaged/Knocked Over Pole   Dead Animal  \\\n",
       "0            9.399161e-01               1.491957e-08  2.198774e-12   \n",
       "1            1.211731e-01               9.637523e-09  7.034455e-12   \n",
       "2            1.714907e-04               6.469573e-02  6.723507e-04   \n",
       "3            2.645602e-13               1.235827e-10  1.208913e-04   \n",
       "4            1.500073e-08               3.361923e-08  2.233769e-04   \n",
       "...                   ...                        ...           ...   \n",
       "50154        4.890648e-08               3.511582e-14  1.043692e-07   \n",
       "50155        1.653536e-09               2.026222e-12  2.386010e-06   \n",
       "50156        1.359649e-09               3.932828e-09  6.669861e-05   \n",
       "50157        1.225580e-09               8.855927e-06  5.127491e-06   \n",
       "50158        2.037949e-09               5.433965e-04  3.047490e-07   \n",
       "\n",
       "       Development Services - Code Enforcement   Drain Inlet  Encampment  \\\n",
       "0                                 2.431510e-12  5.471574e-09    0.000017   \n",
       "1                                 9.166781e-10  6.904694e-07    0.000030   \n",
       "2                                 5.512339e-06  1.776420e-04    0.007258   \n",
       "3                                 3.525866e-03  1.003611e-06    0.045592   \n",
       "4                                 3.407675e-03  2.402721e-05    0.710664   \n",
       "...                                        ...           ...         ...   \n",
       "50154                             2.576956e-03  2.407134e-10    0.037262   \n",
       "50155                             4.020373e-05  3.600365e-11    0.028799   \n",
       "50156                             1.148740e-03  9.742021e-06    0.796252   \n",
       "50157                             1.137998e-11  3.388867e-10    0.000118   \n",
       "50158                             2.503297e-07  4.926679e-03    0.000005   \n",
       "\n",
       "       Encroachment  ...  Traffic Signal Out of Service  \\\n",
       "0          0.000035  ...                   1.271483e-08   \n",
       "1          0.000627  ...                   2.561353e-09   \n",
       "2          0.003504  ...                   6.741208e-04   \n",
       "3          0.000012  ...                   1.995703e-09   \n",
       "4          0.010401  ...                   1.397769e-08   \n",
       "...             ...  ...                            ...   \n",
       "50154      0.000002  ...                   8.771438e-10   \n",
       "50155      0.000008  ...                   1.143714e-09   \n",
       "50156      0.005877  ...                   7.283497e-10   \n",
       "50157      0.000476  ...                   1.101688e-08   \n",
       "50158      0.000001  ...                   1.574379e-05   \n",
       "\n",
       "       Traffic Signal Timing  Trash/Recycling Collection  Tree Maintenance  \\\n",
       "0               9.151906e-07                1.787884e-04      3.773285e-13   \n",
       "1               1.007262e-06                5.460774e-02      1.617505e-10   \n",
       "2               4.720008e-05                2.934980e-04      1.355615e-03   \n",
       "3               4.913862e-13                8.570158e-07      7.787693e-11   \n",
       "4               3.087025e-10                6.554251e-04      1.178076e-06   \n",
       "...                      ...                         ...               ...   \n",
       "50154           3.549720e-09                6.371409e-08      4.965835e-12   \n",
       "50155           9.622440e-11                6.885465e-09      1.416399e-12   \n",
       "50156           8.602780e-12                4.066563e-04      2.048460e-07   \n",
       "50157           5.929723e-11                1.236362e-08      4.312216e-08   \n",
       "50158           2.161963e-05                2.967130e-06      8.073753e-06   \n",
       "\n",
       "       Tree Removal  Tree Trimming for Pedestrian/Vehicle Clearance  \\\n",
       "0      4.450409e-18                                    1.995542e-14   \n",
       "1      1.962724e-15                                    9.259784e-12   \n",
       "2      7.413550e-05                                    4.447246e-05   \n",
       "3      4.565507e-10                                    1.736326e-07   \n",
       "4      8.475556e-08                                    3.541678e-05   \n",
       "...             ...                                             ...   \n",
       "50154  5.694645e-14                                    4.248760e-08   \n",
       "50155  2.124129e-14                                    1.519632e-09   \n",
       "50156  8.994660e-09                                    6.622448e-06   \n",
       "50157  1.559742e-11                                    1.252006e-10   \n",
       "50158  6.883379e-06                                    1.869077e-07   \n",
       "\n",
       "       Trimming Request  Vegetation Encroachment  Waste on Private Property  \\\n",
       "0          1.181110e-17             2.636209e-16                   0.000002   \n",
       "1          1.354534e-14             4.040168e-14                   0.000060   \n",
       "2          3.226900e-06             7.322461e-04                   0.001814   \n",
       "3          9.640148e-12             4.919084e-06                   0.000531   \n",
       "4          1.337525e-08             2.173728e-04                   0.063282   \n",
       "...                 ...                      ...                        ...   \n",
       "50154      2.044231e-12             4.750637e-10                   0.000002   \n",
       "50155      1.126003e-14             4.710154e-09                   0.000002   \n",
       "50156      1.105634e-09             3.990428e-05                   0.056467   \n",
       "50157      1.717043e-14             5.581543e-07                   0.000003   \n",
       "50158      2.287239e-07             1.055882e-07                   0.000002   \n",
       "\n",
       "       Weed Cleanup  \n",
       "0      1.735007e-15  \n",
       "1      8.372504e-13  \n",
       "2      1.228904e-03  \n",
       "3      9.204214e-08  \n",
       "4      4.816052e-05  \n",
       "...             ...  \n",
       "50154  8.616006e-13  \n",
       "50155  2.436008e-11  \n",
       "50156  9.646252e-06  \n",
       "50157  3.602658e-06  \n",
       "50158  5.029162e-08  \n",
       "\n",
       "[50159 rows x 51 columns]"
      ]
     },
     "execution_count": 140,
     "metadata": {},
     "output_type": "execute_result"
    }
   ],
   "source": [
    "results_df = pd.DataFrame(y_pred)\n",
    "results_df.columns = ['72 Hour Violation',\n",
    " 'COVID-19',\n",
    " 'Container Left Out',\n",
    " 'Container Out Late',\n",
    " 'Damaged/Knocked Over Pole',\n",
    " 'Dead Animal',\n",
    " 'Development Services - Code Enforcement',\n",
    " 'Drain Inlet',\n",
    " 'Encampment',\n",
    " 'Encroachment',\n",
    " 'Environmental Services Code Compliance',\n",
    " 'Fallen/Hanging Tree Limb',\n",
    " 'Flashing Traffic Signal Lights',\n",
    " 'Graffiti Removal',\n",
    " 'Graffiti Removal - Commercial',\n",
    " 'Illegal Dumping',\n",
    " 'Litter',\n",
    " 'Missed Collection',\n",
    " 'Other',\n",
    " 'Oversized Vehicle',\n",
    " 'Parking',\n",
    " 'Parking Zone Violation',\n",
    " 'Pavement Maintenance',\n",
    " 'Potential Missed Collection',\n",
    " 'Pothole',\n",
    " 'Quality of Life Issues',\n",
    " 'ROW Maintenance',\n",
    " 'Resurfacing Evaluation',\n",
    " 'Right-of-Way Code Enforcement',\n",
    " 'Shared Mobility Device',\n",
    " 'Sidewalk Repair Issue',\n",
    " 'Stormwater',\n",
    " 'Stormwater Code Enforcement',\n",
    " 'Stormwater Pollution Prevention',\n",
    " 'Street Flooded',\n",
    " 'Street Light Maintenance',\n",
    " 'Street Light Out of Service',\n",
    " 'Street Sweeping',\n",
    " 'Traffic Engineering',\n",
    " 'Traffic Sign Maintenance',\n",
    " 'Traffic Signal Issue',\n",
    " 'Traffic Signal Out of Service',\n",
    " 'Traffic Signal Timing',\n",
    " 'Trash/Recycling Collection',\n",
    " 'Tree Maintenance',\n",
    " 'Tree Removal',\n",
    " 'Tree Trimming for Pedestrian/Vehicle Clearance',\n",
    " 'Trimming Request',\n",
    " 'Vegetation Encroachment',\n",
    " 'Waste on Private Property',\n",
    " 'Weed Cleanup']\n",
    "results_df"
   ]
  },
  {
   "cell_type": "code",
   "execution_count": 141,
   "id": "92195abd-977d-481e-a66e-821802e32361",
   "metadata": {
    "tags": []
   },
   "outputs": [],
   "source": [
    "#return column where value is that above\n",
    "j = 0\n",
    "max_col = []\n",
    "\n",
    "for j in range(100):\n",
    "\n",
    "    i=0\n",
    "\n",
    "\n",
    "    while i < results_df.shape[1]:\n",
    "        if results_df.iloc[j,i] == results_df.iloc[j,:].max():\n",
    "            max_col.append(list(results_df.columns)[i])\n",
    "        i += 1"
   ]
  },
  {
   "cell_type": "code",
   "execution_count": 142,
   "id": "8950cfdf-bfc4-424a-8598-0b6110d9abc4",
   "metadata": {
    "tags": []
   },
   "outputs": [
    {
     "data": {
      "text/plain": [
       "['Container Out Late',\n",
       " 'Missed Collection',\n",
       " 'Graffiti Removal',\n",
       " 'Quality of Life Issues',\n",
       " 'Encampment',\n",
       " 'Vegetation Encroachment',\n",
       " '72 Hour Violation',\n",
       " 'Parking',\n",
       " 'Waste on Private Property',\n",
       " 'Stormwater Code Enforcement',\n",
       " 'Damaged/Knocked Over Pole',\n",
       " 'Graffiti Removal',\n",
       " 'Encroachment',\n",
       " 'Parking Zone Violation',\n",
       " 'Graffiti Removal',\n",
       " 'Graffiti Removal',\n",
       " '72 Hour Violation',\n",
       " 'Encroachment',\n",
       " 'Parking',\n",
       " 'ROW Maintenance',\n",
       " '72 Hour Violation',\n",
       " 'Shared Mobility Device',\n",
       " 'Encampment',\n",
       " 'Encampment',\n",
       " '72 Hour Violation',\n",
       " '72 Hour Violation',\n",
       " 'Parking Zone Violation',\n",
       " 'Graffiti Removal - Commercial',\n",
       " 'Parking Zone Violation',\n",
       " 'Oversized Vehicle',\n",
       " 'Parking Zone Violation',\n",
       " 'Litter',\n",
       " 'Pothole',\n",
       " 'Graffiti Removal - Commercial',\n",
       " '72 Hour Violation',\n",
       " 'Quality of Life Issues',\n",
       " 'Graffiti Removal',\n",
       " 'Parking',\n",
       " 'Quality of Life Issues',\n",
       " 'Waste on Private Property',\n",
       " 'Resurfacing Evaluation',\n",
       " 'Other',\n",
       " 'Street Flooded',\n",
       " 'Missed Collection',\n",
       " 'Shared Mobility Device',\n",
       " 'Stormwater Pollution Prevention',\n",
       " 'Missed Collection',\n",
       " 'Stormwater Pollution Prevention',\n",
       " '72 Hour Violation',\n",
       " 'Graffiti Removal - Commercial',\n",
       " 'Street Flooded',\n",
       " 'Encampment',\n",
       " 'Graffiti Removal - Commercial',\n",
       " 'Encampment',\n",
       " '72 Hour Violation',\n",
       " 'Encampment',\n",
       " 'Trash/Recycling Collection',\n",
       " 'Tree Removal',\n",
       " 'Waste on Private Property',\n",
       " 'Parking Zone Violation',\n",
       " 'Parking Zone Violation',\n",
       " 'Oversized Vehicle',\n",
       " 'Graffiti Removal - Commercial',\n",
       " 'Missed Collection',\n",
       " 'Graffiti Removal',\n",
       " 'Sidewalk Repair Issue',\n",
       " 'Parking Zone Violation',\n",
       " 'Parking Zone Violation',\n",
       " 'Parking Zone Violation',\n",
       " 'Pothole',\n",
       " 'Encampment',\n",
       " 'Missed Collection',\n",
       " 'Parking',\n",
       " 'Parking Zone Violation',\n",
       " 'Illegal Dumping',\n",
       " 'Pothole',\n",
       " 'Resurfacing Evaluation',\n",
       " 'Missed Collection',\n",
       " 'Weed Cleanup',\n",
       " 'Missed Collection',\n",
       " 'Encampment',\n",
       " '72 Hour Violation',\n",
       " 'Parking Zone Violation',\n",
       " 'Graffiti Removal - Commercial',\n",
       " 'Pothole',\n",
       " 'Encampment',\n",
       " 'Waste on Private Property',\n",
       " '72 Hour Violation',\n",
       " 'Traffic Engineering',\n",
       " 'Stormwater',\n",
       " 'Shared Mobility Device',\n",
       " 'Missed Collection',\n",
       " 'Sidewalk Repair Issue',\n",
       " 'Vegetation Encroachment',\n",
       " 'Graffiti Removal',\n",
       " 'Encampment',\n",
       " '72 Hour Violation',\n",
       " 'Sidewalk Repair Issue',\n",
       " 'Graffiti Removal',\n",
       " 'Parking Zone Violation']"
      ]
     },
     "execution_count": 142,
     "metadata": {},
     "output_type": "execute_result"
    }
   ],
   "source": [
    "max_col"
   ]
  },
  {
   "cell_type": "code",
   "execution_count": 143,
   "id": "b7196a11-e016-4234-bcea-6f0adb99f430",
   "metadata": {},
   "outputs": [],
   "source": [
    "test_df = pd.DataFrame(test_data).head(100)"
   ]
  },
  {
   "cell_type": "code",
   "execution_count": 144,
   "id": "98225a09-6110-4140-93d9-a6375b70356b",
   "metadata": {},
   "outputs": [],
   "source": [
    "test_df['prediction'] = max_col"
   ]
  },
  {
   "cell_type": "code",
   "execution_count": 156,
   "id": "672dc0b4-de59-415d-850f-2fa494e0bfc9",
   "metadata": {},
   "outputs": [
    {
     "data": {
      "text/html": [
       "<div>\n",
       "<style scoped>\n",
       "    .dataframe tbody tr th:only-of-type {\n",
       "        vertical-align: middle;\n",
       "    }\n",
       "\n",
       "    .dataframe tbody tr th {\n",
       "        vertical-align: top;\n",
       "    }\n",
       "\n",
       "    .dataframe thead th {\n",
       "        text-align: right;\n",
       "    }\n",
       "</style>\n",
       "<table border=\"1\" class=\"dataframe\">\n",
       "  <thead>\n",
       "    <tr style=\"text-align: right;\">\n",
       "      <th></th>\n",
       "      <th>0</th>\n",
       "      <th>prediction</th>\n",
       "    </tr>\n",
       "  </thead>\n",
       "  <tbody>\n",
       "    <tr>\n",
       "      <th>80</th>\n",
       "      <td>b'Illegal encampments so close to children. It?s not safe.'</td>\n",
       "      <td>Encampment</td>\n",
       "    </tr>\n",
       "    <tr>\n",
       "      <th>2</th>\n",
       "      <td>b'Graffiti on light pole by school.'</td>\n",
       "      <td>Graffiti Removal</td>\n",
       "    </tr>\n",
       "    <tr>\n",
       "      <th>40</th>\n",
       "      <td>b'Bad roads'</td>\n",
       "      <td>Resurfacing Evaluation</td>\n",
       "    </tr>\n",
       "    <tr>\n",
       "      <th>54</th>\n",
       "      <td>b'Green jeep flat tires spider webs been there for over a month previously occupied'</td>\n",
       "      <td>72 Hour Violation</td>\n",
       "    </tr>\n",
       "    <tr>\n",
       "      <th>27</th>\n",
       "      <td>b'Gang tagging on the electrical box number 620 at the US Bank ? parking lot'</td>\n",
       "      <td>Graffiti Removal - Commercial</td>\n",
       "    </tr>\n",
       "    <tr>\n",
       "      <th>12</th>\n",
       "      <td>b'Sides being blocked by homeless'</td>\n",
       "      <td>Encroachment</td>\n",
       "    </tr>\n",
       "    <tr>\n",
       "      <th>17</th>\n",
       "      <td>b'Shopping cart and trash'</td>\n",
       "      <td>Encroachment</td>\n",
       "    </tr>\n",
       "    <tr>\n",
       "      <th>34</th>\n",
       "      <td>b'Over my neighbors. Parked within 15 feet of a fire hydrant with one car and parked blocking my drive way with another car. 4 door Acura blocking the drive way. 4 door Honda within 15 feet of the hydrant.  When I ask them not to block my drive way he cussed at me.'</td>\n",
       "      <td>72 Hour Violation</td>\n",
       "    </tr>\n",
       "    <tr>\n",
       "      <th>51</th>\n",
       "      <td>b'Homeless encampment with fire.  Fire has been extinguished.  RP is SDFD.'</td>\n",
       "      <td>Encampment</td>\n",
       "    </tr>\n",
       "    <tr>\n",
       "      <th>62</th>\n",
       "      <td>b'Apple stickers on pole'</td>\n",
       "      <td>Graffiti Removal - Commercial</td>\n",
       "    </tr>\n",
       "  </tbody>\n",
       "</table>\n",
       "</div>"
      ],
      "text/plain": [
       "                                                                                                                                                                                                                                                                             0  \\\n",
       "80                                                                                                                                                                                                                 b'Illegal encampments so close to children. It?s not safe.'   \n",
       "2                                                                                                                                                                                                                                         b'Graffiti on light pole by school.'   \n",
       "40                                                                                                                                                                                                                                                                b'Bad roads'   \n",
       "54                                                                                                                                                                                        b'Green jeep flat tires spider webs been there for over a month previously occupied'   \n",
       "27                                                                                                                                                                                               b'Gang tagging on the electrical box number 620 at the US Bank ? parking lot'   \n",
       "12                                                                                                                                                                                                                                          b'Sides being blocked by homeless'   \n",
       "17                                                                                                                                                                                                                                                  b'Shopping cart and trash'   \n",
       "34  b'Over my neighbors. Parked within 15 feet of a fire hydrant with one car and parked blocking my drive way with another car. 4 door Acura blocking the drive way. 4 door Honda within 15 feet of the hydrant.  When I ask them not to block my drive way he cussed at me.'   \n",
       "51                                                                                                                                                                                                 b'Homeless encampment with fire.  Fire has been extinguished.  RP is SDFD.'   \n",
       "62                                                                                                                                                                                                                                                   b'Apple stickers on pole'   \n",
       "\n",
       "                       prediction  \n",
       "80                     Encampment  \n",
       "2                Graffiti Removal  \n",
       "40         Resurfacing Evaluation  \n",
       "54              72 Hour Violation  \n",
       "27  Graffiti Removal - Commercial  \n",
       "12                   Encroachment  \n",
       "17                   Encroachment  \n",
       "34              72 Hour Violation  \n",
       "51                     Encampment  \n",
       "62  Graffiti Removal - Commercial  "
      ]
     },
     "execution_count": 156,
     "metadata": {},
     "output_type": "execute_result"
    }
   ],
   "source": [
    "test_df.sample(10)"
   ]
  },
  {
   "cell_type": "code",
   "execution_count": 150,
   "id": "ac776260-ca7e-4061-a158-332eaa1ae67e",
   "metadata": {},
   "outputs": [],
   "source": [
    "from sklearn.metrics import classification_report"
   ]
  },
  {
   "cell_type": "code",
   "execution_count": 147,
   "id": "78dabbfd-bfc1-47ee-82b8-6f8b9758fd90",
   "metadata": {},
   "outputs": [
    {
     "name": "stdout",
     "output_type": "stream",
     "text": [
      "              precision    recall  f1-score   support\n",
      "\n",
      "           0       0.88      0.67      0.76      6643\n",
      "           1       0.00      0.00      0.00       407\n",
      "           2       0.00      0.00      0.00        99\n",
      "           3       0.00      0.00      0.00       284\n",
      "           4       0.00      0.00      0.00       656\n",
      "           5       0.00      0.00      0.00         1\n",
      "           6       0.01      0.00      0.01       228\n",
      "           7       0.01      0.00      0.00      7155\n",
      "           8       0.00      0.02      0.00       379\n",
      "           9       0.01      0.04      0.02       200\n",
      "          10       0.00      0.00      0.00       226\n",
      "          11       0.00      0.00      0.00       342\n",
      "          12       0.00      0.00      0.00      2086\n",
      "          13       0.47      0.59      0.53      2966\n",
      "          14       0.18      0.46      0.26       761\n",
      "          15       0.36      0.01      0.02      3137\n",
      "          16       0.11      0.38      0.16       270\n",
      "          17       0.94      0.74      0.83      5858\n",
      "          18       0.37      0.12      0.18      2034\n",
      "          19       0.03      0.05      0.04       534\n",
      "          20       0.12      0.06      0.08      2729\n",
      "          21       0.00      0.00      0.00       203\n",
      "          22       0.09      0.30      0.14       191\n",
      "          23       0.33      0.52      0.40       664\n",
      "          24       0.96      0.65      0.77      2135\n",
      "          25       0.06      0.22      0.10       318\n",
      "          26       0.24      0.53      0.33       289\n",
      "          27       0.03      0.38      0.05        16\n",
      "          28       0.00      0.00      0.00         3\n",
      "          29       0.82      0.85      0.83      1326\n",
      "          30       0.53      0.56      0.55       819\n",
      "          31       0.10      0.25      0.14        77\n",
      "          32       0.20      0.36      0.26        33\n",
      "          33       0.41      0.52      0.46       466\n",
      "          34       0.33      0.65      0.43       323\n",
      "          35       0.32      0.46      0.38        97\n",
      "          36       0.77      0.62      0.69       769\n",
      "          37       0.54      0.56      0.55       492\n",
      "          38       0.39      0.51      0.44       432\n",
      "          39       0.71      0.69      0.70       743\n",
      "          40       0.41      0.64      0.50        77\n",
      "          41       0.60      0.83      0.70       531\n",
      "          42       0.83      0.78      0.80       689\n",
      "          43       0.19      0.40      0.25       243\n",
      "          44       0.47      0.42      0.44       318\n",
      "          45       0.51      0.61      0.55       307\n",
      "          46       0.30      0.43      0.35       230\n",
      "          47       0.42      0.33      0.37       128\n",
      "          48       0.53      0.40      0.45       533\n",
      "          49       0.10      0.53      0.16       499\n",
      "          50       0.30      0.45      0.36       213\n",
      "\n",
      "    accuracy                           0.38     50159\n",
      "   macro avg       0.29      0.34      0.30     50159\n",
      "weighted avg       0.45      0.38      0.39     50159\n",
      "\n"
     ]
    }
   ],
   "source": [
    "print(classification_report(test_labels.numpy().argmax(axis=1), y_pred.argmax(axis=1), zero_division = 1))"
   ]
  },
  {
   "cell_type": "code",
   "execution_count": 148,
   "id": "9382b4d1-abb7-46ec-92e7-3e246e84e40f",
   "metadata": {},
   "outputs": [
    {
     "data": {
      "text/plain": [
       "array([[4443,    8,   30, ...,    0,   24,    2],\n",
       "       [   4,    0,  293, ...,    0,   15,    0],\n",
       "       [   0,    0,    0, ...,    0,    0,    0],\n",
       "       ...,\n",
       "       [   3,    3,    0, ...,  211,    4,   99],\n",
       "       [   2,    1,    8, ...,    4,  264,    3],\n",
       "       [   0,    0,    0, ...,   64,    3,   95]], dtype=int64)"
      ]
     },
     "execution_count": 148,
     "metadata": {},
     "output_type": "execute_result"
    }
   ],
   "source": [
    "from sklearn.metrics import confusion_matrix\n",
    "confusion_matrix(test_labels.numpy().argmax(axis=1), y_pred.argmax(axis=1))"
   ]
  },
  {
   "cell_type": "code",
   "execution_count": 157,
   "id": "184c02fd-8980-443b-a35d-9d9c8a7dc2ab",
   "metadata": {},
   "outputs": [
    {
     "name": "stderr",
     "output_type": "stream",
     "text": [
      "WARNING:absl:Found untraced functions such as _update_step_xla while saving (showing 1 of 1). These functions will not be directly callable after loading.\n"
     ]
    },
    {
     "name": "stdout",
     "output_type": "stream",
     "text": [
      "INFO:tensorflow:Assets written to: ../data/tf_model_22.pkl\\assets\n"
     ]
    },
    {
     "name": "stderr",
     "output_type": "stream",
     "text": [
      "INFO:tensorflow:Assets written to: ../data/tf_model_22.pkl\\assets\n"
     ]
    }
   ],
   "source": [
    "model.save('../data/tf_model_22.pkl')"
   ]
  },
  {
   "cell_type": "code",
   "execution_count": null,
   "id": "866a7090-3611-40e2-9b1f-c9ae8b07900b",
   "metadata": {},
   "outputs": [],
   "source": []
  }
 ],
 "metadata": {
  "kernelspec": {
   "display_name": "Python 3 (ipykernel)",
   "language": "python",
   "name": "python3"
  },
  "language_info": {
   "codemirror_mode": {
    "name": "ipython",
    "version": 3
   },
   "file_extension": ".py",
   "mimetype": "text/x-python",
   "name": "python",
   "nbconvert_exporter": "python",
   "pygments_lexer": "ipython3",
   "version": "3.9.12"
  }
 },
 "nbformat": 4,
 "nbformat_minor": 5
}
