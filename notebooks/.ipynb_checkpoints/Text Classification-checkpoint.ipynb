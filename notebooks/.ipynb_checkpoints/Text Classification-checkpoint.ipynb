{
 "cells": [
  {
   "cell_type": "markdown",
   "id": "39f4264d-ab15-4503-b90d-d78d85271dca",
   "metadata": {
    "tags": []
   },
   "source": [
    "# Tensoflow NLP Model for Text Classification"
   ]
  },
  {
   "cell_type": "markdown",
   "id": "603d644c-7783-4f5f-b392-0865a6de92bb",
   "metadata": {},
   "source": [
    "## Imports"
   ]
  },
  {
   "cell_type": "code",
   "execution_count": 8,
   "id": "eda95c3b-eded-4950-addb-02536ef18f13",
   "metadata": {},
   "outputs": [],
   "source": [
    "import pandas as pd\n",
    "import numpy as np\n",
    "from matplotlib import pyplot as plt\n",
    "import seaborn as sns\n",
    "from datetime import datetime\n",
    "from sklearn.model_selection import train_test_split\n",
    "import pickle"
   ]
  },
  {
   "cell_type": "markdown",
   "id": "f93e5afd-acf6-4314-8f65-5d530bdb60e1",
   "metadata": {},
   "source": [
    "## Pre-Processing"
   ]
  },
  {
   "cell_type": "code",
   "execution_count": 9,
   "id": "586917ea-a092-408e-9315-d78c308958e5",
   "metadata": {},
   "outputs": [],
   "source": [
    "with open('../data/processed_21_data.pkl', 'rb') as file:\n",
    "    processed_21_data = pickle.load(file)"
   ]
  },
  {
   "cell_type": "code",
   "execution_count": 10,
   "id": "09c5aebe-f300-465d-8f64-4ac16a30fe5e",
   "metadata": {},
   "outputs": [],
   "source": [
    "#only keep relevant columns\n",
    "processed_21_data = processed_21_data[['detailed_type', 'public_description']]"
   ]
  },
  {
   "cell_type": "code",
   "execution_count": 11,
   "id": "674e3c4b-bd84-4424-a791-fd8a949bcd77",
   "metadata": {},
   "outputs": [],
   "source": [
    "#split train and test data\n",
    "(requests_train, requests_test) = train_test_split(processed_21_data, test_size = 0.2, random_state = 42)"
   ]
  },
  {
   "cell_type": "markdown",
   "id": "32e5b78c-28de-468a-a437-977e100c9c83",
   "metadata": {},
   "source": [
    "## Tensorflow Model"
   ]
  },
  {
   "cell_type": "markdown",
   "id": "9c867814-2307-439c-9b18-9b8696172405",
   "metadata": {},
   "source": [
    "### Imports"
   ]
  },
  {
   "cell_type": "code",
   "execution_count": 12,
   "id": "035c470b-7fc3-42dd-a477-58c9fdc8b338",
   "metadata": {},
   "outputs": [],
   "source": [
    "from __future__ import absolute_import, division, print_function, unicode_literals\n",
    "\n",
    "import tensorflow as tf\n",
    "\n",
    "import os\n",
    "import datetime\n",
    "import tensorflow_hub as hub"
   ]
  },
  {
   "cell_type": "code",
   "execution_count": 13,
   "id": "e9016c86-4fcc-40b5-befb-f3d2b0612263",
   "metadata": {},
   "outputs": [],
   "source": [
    "pd.set_option('display.max_colwidth', None)"
   ]
  },
  {
   "cell_type": "code",
   "execution_count": 14,
   "id": "a668b477-604e-47bb-ba27-99c443d17bcd",
   "metadata": {},
   "outputs": [
    {
     "data": {
      "text/html": [
       "<div>\n",
       "<style scoped>\n",
       "    .dataframe tbody tr th:only-of-type {\n",
       "        vertical-align: middle;\n",
       "    }\n",
       "\n",
       "    .dataframe tbody tr th {\n",
       "        vertical-align: top;\n",
       "    }\n",
       "\n",
       "    .dataframe thead th {\n",
       "        text-align: right;\n",
       "    }\n",
       "</style>\n",
       "<table border=\"1\" class=\"dataframe\">\n",
       "  <thead>\n",
       "    <tr style=\"text-align: right;\">\n",
       "      <th></th>\n",
       "      <th>detailed_type</th>\n",
       "      <th>public_description</th>\n",
       "    </tr>\n",
       "  </thead>\n",
       "  <tbody>\n",
       "    <tr>\n",
       "      <th>156493</th>\n",
       "      <td>Graffiti Removal - Commercial</td>\n",
       "      <td>Graffiti on utility box in Ally just off Howard Avenue</td>\n",
       "    </tr>\n",
       "    <tr>\n",
       "      <th>259241</th>\n",
       "      <td>Graffiti Removal</td>\n",
       "      <td>Graffiti on concrete wall on the underpass of the I-5. Contact is Bill at 619-990-0130.</td>\n",
       "    </tr>\n",
       "    <tr>\n",
       "      <th>123278</th>\n",
       "      <td>Shared Mobility Device</td>\n",
       "      <td>Scooter blocking sidewalk</td>\n",
       "    </tr>\n",
       "    <tr>\n",
       "      <th>206830</th>\n",
       "      <td>Graffiti Removal</td>\n",
       "      <td>Graffiti</td>\n",
       "    </tr>\n",
       "    <tr>\n",
       "      <th>145022</th>\n",
       "      <td>Encampment</td>\n",
       "      <td>Homeless encampment</td>\n",
       "    </tr>\n",
       "    <tr>\n",
       "      <th>254909</th>\n",
       "      <td>Shared Mobility Device</td>\n",
       "      <td>ADA</td>\n",
       "    </tr>\n",
       "    <tr>\n",
       "      <th>312349</th>\n",
       "      <td>Missed Collection</td>\n",
       "      <td>Entire alley</td>\n",
       "    </tr>\n",
       "    <tr>\n",
       "      <th>140604</th>\n",
       "      <td>Graffiti Removal</td>\n",
       "      <td>Graffiti</td>\n",
       "    </tr>\n",
       "    <tr>\n",
       "      <th>321176</th>\n",
       "      <td>Shared Mobility Device</td>\n",
       "      <td>Blocking Sidewalk</td>\n",
       "    </tr>\n",
       "    <tr>\n",
       "      <th>275949</th>\n",
       "      <td>Encampment</td>\n",
       "      <td>Homeless camp</td>\n",
       "    </tr>\n",
       "  </tbody>\n",
       "</table>\n",
       "</div>"
      ],
      "text/plain": [
       "                        detailed_type  \\\n",
       "156493  Graffiti Removal - Commercial   \n",
       "259241               Graffiti Removal   \n",
       "123278         Shared Mobility Device   \n",
       "206830               Graffiti Removal   \n",
       "145022                     Encampment   \n",
       "254909         Shared Mobility Device   \n",
       "312349              Missed Collection   \n",
       "140604               Graffiti Removal   \n",
       "321176         Shared Mobility Device   \n",
       "275949                     Encampment   \n",
       "\n",
       "                                                                             public_description  \n",
       "156493                                   Graffiti on utility box in Ally just off Howard Avenue  \n",
       "259241  Graffiti on concrete wall on the underpass of the I-5. Contact is Bill at 619-990-0130.  \n",
       "123278                                                                Scooter blocking sidewalk  \n",
       "206830                                                                                 Graffiti  \n",
       "145022                                                                      Homeless encampment  \n",
       "254909                                                                                      ADA  \n",
       "312349                                                                             Entire alley  \n",
       "140604                                                                                 Graffiti  \n",
       "321176                                                                        Blocking Sidewalk  \n",
       "275949                                                                            Homeless camp  "
      ]
     },
     "execution_count": 14,
     "metadata": {},
     "output_type": "execute_result"
    }
   ],
   "source": [
    "requests_train.sample(10)"
   ]
  },
  {
   "cell_type": "code",
   "execution_count": 15,
   "id": "f85de6bf-3294-41f3-8c48-4ec983e38e16",
   "metadata": {},
   "outputs": [],
   "source": [
    "X_train, X_test = train_test_split(requests_train, test_size=0.2, random_state=42)"
   ]
  },
  {
   "cell_type": "code",
   "execution_count": 16,
   "id": "ed890d26-12fb-411b-8fcb-1d50996f04f1",
   "metadata": {},
   "outputs": [],
   "source": [
    "from sklearn.utils import class_weight"
   ]
  },
  {
   "cell_type": "code",
   "execution_count": 17,
   "id": "bea7fa13-4009-4250-b20f-759a5a3e2e9b",
   "metadata": {},
   "outputs": [],
   "source": [
    "class_weights = list(class_weight.compute_class_weight(class_weight = 'balanced',\n",
    "                                                       classes= np.unique(X_train['detailed_type']),\n",
    "                                                      y=X_train['detailed_type']\n",
    "                                                      ))"
   ]
  },
  {
   "cell_type": "code",
   "execution_count": 20,
   "id": "9fe647b9-bb29-4744-abf4-53d7f90df17c",
   "metadata": {},
   "outputs": [
    {
     "data": {
      "text/plain": [
       "51"
      ]
     },
     "execution_count": 20,
     "metadata": {},
     "output_type": "execute_result"
    }
   ],
   "source": [
    "len(X_train['detailed_type'].value_counts())"
   ]
  },
  {
   "cell_type": "code",
   "execution_count": 21,
   "id": "31da30fc-6080-40d7-9d85-dc3409726944",
   "metadata": {},
   "outputs": [],
   "source": [
    "class_weights.sort()"
   ]
  },
  {
   "cell_type": "code",
   "execution_count": 23,
   "id": "6132bd7a-9584-4e25-8766-e127636bbb3b",
   "metadata": {
    "collapsed": true,
    "jupyter": {
     "outputs_hidden": true
    },
    "tags": []
   },
   "outputs": [
    {
     "data": {
      "text/plain": [
       "[0.1321752389562574,\n",
       " 0.18064980430210786,\n",
       " 0.18905638719047954,\n",
       " 0.20010141132831483,\n",
       " 0.2511350517035889,\n",
       " 0.31791099161914893,\n",
       " 0.32816299477069966,\n",
       " 0.5369534987391631,\n",
       " 0.541825701347137,\n",
       " 1.1408810099382218,\n",
       " 1.3856409463960715,\n",
       " 1.4437974094747388,\n",
       " 1.4497498495504477,\n",
       " 1.4604540477935521,\n",
       " 1.6330257593233373,\n",
       " 1.6491943311978257,\n",
       " 1.7533539731682146,\n",
       " 1.8616493656286044,\n",
       " 2.21469833559736,\n",
       " 2.3777640282258656,\n",
       " 2.4400955447714936,\n",
       " 2.5605209721429025,\n",
       " 2.5793022995669337,\n",
       " 2.6220413600402876,\n",
       " 2.684312062399175,\n",
       " 2.6888733403301845,\n",
       " 2.709592398603277,\n",
       " 2.9330898253648074,\n",
       " 3.0460095491517105,\n",
       " 3.22609981811277,\n",
       " 3.282991619884468,\n",
       " 3.785650623885918,\n",
       " 4.126211110258967,\n",
       " 4.371276134763297,\n",
       " 4.521148459383753,\n",
       " 4.5536747072929895,\n",
       " 4.674747299215107,\n",
       " 5.063686274509804,\n",
       " 5.137668703845175,\n",
       " 5.188203150112504,\n",
       " 6.279372860255213,\n",
       " 6.380653067678685,\n",
       " 6.8650844285653525,\n",
       " 8.507537423571579,\n",
       " 10.046996576408342,\n",
       " 11.678243253020765,\n",
       " 11.942656307806141,\n",
       " 23.975787284610814,\n",
       " 38.130167729742496,\n",
       " 166.5686274509804,\n",
       " 527.4673202614379]"
      ]
     },
     "execution_count": 23,
     "metadata": {},
     "output_type": "execute_result"
    }
   ],
   "source": [
    "class_weights"
   ]
  },
  {
   "cell_type": "code",
   "execution_count": 24,
   "id": "28fd6cd9-3d66-43c1-9cbe-7e689e2a7ce8",
   "metadata": {},
   "outputs": [
    {
     "data": {
      "text/plain": [
       "51"
      ]
     },
     "execution_count": 24,
     "metadata": {},
     "output_type": "execute_result"
    }
   ],
   "source": [
    "num_options = len(class_weights)\n",
    "num_options"
   ]
  },
  {
   "cell_type": "code",
   "execution_count": 25,
   "id": "6c4fb032-7c8c-4ef5-a0fc-4f719a72158b",
   "metadata": {},
   "outputs": [],
   "source": [
    "weights = {}"
   ]
  },
  {
   "cell_type": "code",
   "execution_count": 26,
   "id": "6b5a6740-e31b-4c09-8c8e-e7d19a85cf82",
   "metadata": {},
   "outputs": [],
   "source": [
    "for index, weight in enumerate(class_weights) :\n",
    "    weights[index]=weight"
   ]
  },
  {
   "cell_type": "code",
   "execution_count": 27,
   "id": "a72fe509-02a3-4dc0-9503-97568039c06f",
   "metadata": {
    "collapsed": true,
    "jupyter": {
     "outputs_hidden": true
    },
    "tags": []
   },
   "outputs": [
    {
     "data": {
      "text/plain": [
       "{0: 0.1321752389562574,\n",
       " 1: 0.18064980430210786,\n",
       " 2: 0.18905638719047954,\n",
       " 3: 0.20010141132831483,\n",
       " 4: 0.2511350517035889,\n",
       " 5: 0.31791099161914893,\n",
       " 6: 0.32816299477069966,\n",
       " 7: 0.5369534987391631,\n",
       " 8: 0.541825701347137,\n",
       " 9: 1.1408810099382218,\n",
       " 10: 1.3856409463960715,\n",
       " 11: 1.4437974094747388,\n",
       " 12: 1.4497498495504477,\n",
       " 13: 1.4604540477935521,\n",
       " 14: 1.6330257593233373,\n",
       " 15: 1.6491943311978257,\n",
       " 16: 1.7533539731682146,\n",
       " 17: 1.8616493656286044,\n",
       " 18: 2.21469833559736,\n",
       " 19: 2.3777640282258656,\n",
       " 20: 2.4400955447714936,\n",
       " 21: 2.5605209721429025,\n",
       " 22: 2.5793022995669337,\n",
       " 23: 2.6220413600402876,\n",
       " 24: 2.684312062399175,\n",
       " 25: 2.6888733403301845,\n",
       " 26: 2.709592398603277,\n",
       " 27: 2.9330898253648074,\n",
       " 28: 3.0460095491517105,\n",
       " 29: 3.22609981811277,\n",
       " 30: 3.282991619884468,\n",
       " 31: 3.785650623885918,\n",
       " 32: 4.126211110258967,\n",
       " 33: 4.371276134763297,\n",
       " 34: 4.521148459383753,\n",
       " 35: 4.5536747072929895,\n",
       " 36: 4.674747299215107,\n",
       " 37: 5.063686274509804,\n",
       " 38: 5.137668703845175,\n",
       " 39: 5.188203150112504,\n",
       " 40: 6.279372860255213,\n",
       " 41: 6.380653067678685,\n",
       " 42: 6.8650844285653525,\n",
       " 43: 8.507537423571579,\n",
       " 44: 10.046996576408342,\n",
       " 45: 11.678243253020765,\n",
       " 46: 11.942656307806141,\n",
       " 47: 23.975787284610814,\n",
       " 48: 38.130167729742496,\n",
       " 49: 166.5686274509804,\n",
       " 50: 527.4673202614379}"
      ]
     },
     "execution_count": 27,
     "metadata": {},
     "output_type": "execute_result"
    }
   ],
   "source": [
    "weights"
   ]
  },
  {
   "cell_type": "code",
   "execution_count": 28,
   "id": "2e3ca4ad-8186-4f09-a7e0-32420e8bded2",
   "metadata": {},
   "outputs": [],
   "source": [
    "#Instantiate\n",
    "dataset_train = tf.data.Dataset.from_tensor_slices((X_train['public_description'].values, X_train['detailed_type'].values))\n",
    "dataset_test = tf.data.Dataset.from_tensor_slices((X_test['public_description'].values, X_test['detailed_type'].values))"
   ]
  },
  {
   "cell_type": "code",
   "execution_count": 29,
   "id": "e14e1564-252d-4fdd-8133-e72b4aa65966",
   "metadata": {},
   "outputs": [
    {
     "name": "stdout",
     "output_type": "stream",
     "text": [
      "description: b'Graffiti', Target: b'Graffiti Removal'\n",
      "description: b'Illegal Dumpling', Target: b'Illegal Dumping'\n",
      "description: b'Pot holes, cracks in pavement', Target: b'Pothole'\n",
      "description: b'Our street is never cleaned. It needs a scheduled day for cleaning', Target: b'Street Sweeping'\n",
      "description: b'Prohibited parking always parked on entrance', Target: b'Parking Zone Violation'\n"
     ]
    }
   ],
   "source": [
    "for text, target in dataset_train.take(5):\n",
    "    print('description: {}, Target: {}'.format(text, target))"
   ]
  },
  {
   "cell_type": "code",
   "execution_count": 30,
   "id": "6a1e4d18-6525-4e46-94af-e3775bf6fe11",
   "metadata": {},
   "outputs": [
    {
     "name": "stdout",
     "output_type": "stream",
     "text": [
      "description: b'Scooter', Target: b'Shared Mobility Device'\n",
      "description: b'http://www.reliablepipe.com/contact.html', Target: b'Graffiti Removal'\n",
      "description: b'Telephone boxes damaged', Target: b'Other'\n",
      "description: b'It looks like What may be an abandoned vehicle. Possibly stolen.', Target: b'72 Hour Violation'\n",
      "description: b'FECES AND OTHER FLUIDS BLOCKING THE SIDEWALK FROM KNOW FENTANYL DEALERS', Target: b'Illegal Dumping'\n"
     ]
    }
   ],
   "source": [
    "for text, target in dataset_test.take(5):\n",
    "    print('description: {}, Target: {}'.format(text, target))"
   ]
  },
  {
   "cell_type": "code",
   "execution_count": 31,
   "id": "56412722-e259-40fa-8ace-c0ce77a77ac3",
   "metadata": {},
   "outputs": [],
   "source": [
    "detailed_types = list(np.unique(requests_train['detailed_type']))"
   ]
  },
  {
   "cell_type": "code",
   "execution_count": 35,
   "id": "5604d556-ae3d-4bdf-be00-746f9967da67",
   "metadata": {},
   "outputs": [],
   "source": [
    "vals = list(range(num_options))"
   ]
  },
  {
   "cell_type": "code",
   "execution_count": 36,
   "id": "f245a5b0-1079-4085-b991-8944a863570c",
   "metadata": {},
   "outputs": [
    {
     "data": {
      "text/plain": [
       "True"
      ]
     },
     "execution_count": 36,
     "metadata": {},
     "output_type": "execute_result"
    }
   ],
   "source": [
    "num_options == len(vals)"
   ]
  },
  {
   "cell_type": "code",
   "execution_count": 37,
   "id": "51fa5d6e-f487-4f55-b2b3-73080bded449",
   "metadata": {},
   "outputs": [],
   "source": [
    "table = tf.lookup.StaticHashTable(\n",
    "    initializer=tf.lookup.KeyValueTensorInitializer(\n",
    "        keys=tf.constant(detailed_types),\n",
    "        values=tf.constant(vals),\n",
    "    ),\n",
    "        default_value=tf.constant(-1),\n",
    "        name=\"target_encoding\"\n",
    ")\n"
   ]
  },
  {
   "cell_type": "code",
   "execution_count": 38,
   "id": "08c9011a-ea77-46c5-8ec5-e65ff68a6eb2",
   "metadata": {},
   "outputs": [],
   "source": [
    "@tf.function\n",
    "def target(x):\n",
    "    return table.lookup(x)"
   ]
  },
  {
   "cell_type": "code",
   "execution_count": 39,
   "id": "d265f243-769e-4337-8883-6c7d9efb2307",
   "metadata": {},
   "outputs": [],
   "source": [
    "def show_batch(dataset, size=5):\n",
    "    for batch, label in dataset.take(size):\n",
    "        print(batch.numpy())\n",
    "        print(target(label).numpy())"
   ]
  },
  {
   "cell_type": "code",
   "execution_count": 41,
   "id": "29b19d16-0ea6-494b-8cab-41e9c285d81c",
   "metadata": {
    "tags": []
   },
   "outputs": [
    {
     "name": "stdout",
     "output_type": "stream",
     "text": [
      "b'Scooter'\n",
      "29\n",
      "b'http://www.reliablepipe.com/contact.html'\n",
      "13\n",
      "b'Telephone boxes damaged'\n",
      "18\n",
      "b'It looks like What may be an abandoned vehicle. Possibly stolen.'\n",
      "0\n",
      "b'FECES AND OTHER FLUIDS BLOCKING THE SIDEWALK FROM KNOW FENTANYL DEALERS'\n",
      "15\n",
      "b'Sign in median tagged'\n",
      "13\n"
     ]
    }
   ],
   "source": [
    "show_batch(dataset_test, 6)"
   ]
  },
  {
   "cell_type": "code",
   "execution_count": 42,
   "id": "b23676d7-8efc-4eab-97b4-dc521d71f087",
   "metadata": {},
   "outputs": [],
   "source": [
    " def fetch(text, labels):\n",
    "        return text, tf.one_hot(target(labels),162)"
   ]
  },
  {
   "cell_type": "code",
   "execution_count": 43,
   "id": "f9d34044-413f-4f51-95e4-104f5f6808f6",
   "metadata": {},
   "outputs": [],
   "source": [
    "train_data_f = dataset_train.map(fetch)\n",
    "test_data_f=dataset_test.map(fetch)"
   ]
  },
  {
   "cell_type": "code",
   "execution_count": 44,
   "id": "f4afb2af-4922-4fdc-bac4-85fbb5ebd3fc",
   "metadata": {},
   "outputs": [
    {
     "data": {
      "text/plain": [
       "(<tf.Tensor: shape=(), dtype=string, numpy=b'Graffiti'>,\n",
       " <tf.Tensor: shape=(162,), dtype=float32, numpy=\n",
       " array([0., 0., 0., 0., 0., 0., 0., 0., 0., 0., 0., 0., 0., 1., 0., 0., 0.,\n",
       "        0., 0., 0., 0., 0., 0., 0., 0., 0., 0., 0., 0., 0., 0., 0., 0., 0.,\n",
       "        0., 0., 0., 0., 0., 0., 0., 0., 0., 0., 0., 0., 0., 0., 0., 0., 0.,\n",
       "        0., 0., 0., 0., 0., 0., 0., 0., 0., 0., 0., 0., 0., 0., 0., 0., 0.,\n",
       "        0., 0., 0., 0., 0., 0., 0., 0., 0., 0., 0., 0., 0., 0., 0., 0., 0.,\n",
       "        0., 0., 0., 0., 0., 0., 0., 0., 0., 0., 0., 0., 0., 0., 0., 0., 0.,\n",
       "        0., 0., 0., 0., 0., 0., 0., 0., 0., 0., 0., 0., 0., 0., 0., 0., 0.,\n",
       "        0., 0., 0., 0., 0., 0., 0., 0., 0., 0., 0., 0., 0., 0., 0., 0., 0.,\n",
       "        0., 0., 0., 0., 0., 0., 0., 0., 0., 0., 0., 0., 0., 0., 0., 0., 0.,\n",
       "        0., 0., 0., 0., 0., 0., 0., 0., 0.], dtype=float32)>)"
      ]
     },
     "execution_count": 44,
     "metadata": {},
     "output_type": "execute_result"
    }
   ],
   "source": [
    "next(iter(train_data_f))"
   ]
  },
  {
   "cell_type": "code",
   "execution_count": 45,
   "id": "f585d628-70b8-4cef-8e51-7ac4502778e7",
   "metadata": {
    "tags": []
   },
   "outputs": [
    {
     "data": {
      "text/plain": [
       "(<tf.Tensor: shape=(2,), dtype=string, numpy=array([b'Graffiti', b'Illegal Dumpling'], dtype=object)>,\n",
       " <tf.Tensor: shape=(2, 162), dtype=float32, numpy=\n",
       " array([[0., 0., 0., 0., 0., 0., 0., 0., 0., 0., 0., 0., 0., 1., 0., 0.,\n",
       "         0., 0., 0., 0., 0., 0., 0., 0., 0., 0., 0., 0., 0., 0., 0., 0.,\n",
       "         0., 0., 0., 0., 0., 0., 0., 0., 0., 0., 0., 0., 0., 0., 0., 0.,\n",
       "         0., 0., 0., 0., 0., 0., 0., 0., 0., 0., 0., 0., 0., 0., 0., 0.,\n",
       "         0., 0., 0., 0., 0., 0., 0., 0., 0., 0., 0., 0., 0., 0., 0., 0.,\n",
       "         0., 0., 0., 0., 0., 0., 0., 0., 0., 0., 0., 0., 0., 0., 0., 0.,\n",
       "         0., 0., 0., 0., 0., 0., 0., 0., 0., 0., 0., 0., 0., 0., 0., 0.,\n",
       "         0., 0., 0., 0., 0., 0., 0., 0., 0., 0., 0., 0., 0., 0., 0., 0.,\n",
       "         0., 0., 0., 0., 0., 0., 0., 0., 0., 0., 0., 0., 0., 0., 0., 0.,\n",
       "         0., 0., 0., 0., 0., 0., 0., 0., 0., 0., 0., 0., 0., 0., 0., 0.,\n",
       "         0., 0.],\n",
       "        [0., 0., 0., 0., 0., 0., 0., 0., 0., 0., 0., 0., 0., 0., 0., 1.,\n",
       "         0., 0., 0., 0., 0., 0., 0., 0., 0., 0., 0., 0., 0., 0., 0., 0.,\n",
       "         0., 0., 0., 0., 0., 0., 0., 0., 0., 0., 0., 0., 0., 0., 0., 0.,\n",
       "         0., 0., 0., 0., 0., 0., 0., 0., 0., 0., 0., 0., 0., 0., 0., 0.,\n",
       "         0., 0., 0., 0., 0., 0., 0., 0., 0., 0., 0., 0., 0., 0., 0., 0.,\n",
       "         0., 0., 0., 0., 0., 0., 0., 0., 0., 0., 0., 0., 0., 0., 0., 0.,\n",
       "         0., 0., 0., 0., 0., 0., 0., 0., 0., 0., 0., 0., 0., 0., 0., 0.,\n",
       "         0., 0., 0., 0., 0., 0., 0., 0., 0., 0., 0., 0., 0., 0., 0., 0.,\n",
       "         0., 0., 0., 0., 0., 0., 0., 0., 0., 0., 0., 0., 0., 0., 0., 0.,\n",
       "         0., 0., 0., 0., 0., 0., 0., 0., 0., 0., 0., 0., 0., 0., 0., 0.,\n",
       "         0., 0.]], dtype=float32)>)"
      ]
     },
     "execution_count": 45,
     "metadata": {},
     "output_type": "execute_result"
    }
   ],
   "source": [
    "train_data, train_labels = next(iter(train_data_f.batch(2)))\n",
    "train_data, train_labels"
   ]
  },
  {
   "cell_type": "code",
   "execution_count": 46,
   "id": "44c20810-b6a2-4fa5-915f-1471a9b00a29",
   "metadata": {
    "tags": []
   },
   "outputs": [
    {
     "name": "stdout",
     "output_type": "stream",
     "text": [
      "WARNING:tensorflow:Please fix your imports. Module tensorflow.python.training.tracking.data_structures has been moved to tensorflow.python.trackable.data_structures. The old module will be deleted in version 2.11.\n"
     ]
    },
    {
     "data": {
      "text/plain": [
       "<tf.Tensor: shape=(1, 128), dtype=float32, numpy=\n",
       "array([[-1.39179647e-01,  9.52817723e-02, -3.63736078e-02,\n",
       "         7.33999759e-02, -6.32884502e-02,  4.36592810e-02,\n",
       "        -2.29714476e-02,  4.14458998e-02, -4.11153920e-02,\n",
       "        -6.08860562e-03,  9.22431499e-02, -4.87491265e-02,\n",
       "         1.05019417e-02, -1.54585522e-02,  1.27385616e-01,\n",
       "         1.49793131e-02, -1.13783076e-01,  9.32408795e-02,\n",
       "        -4.50370908e-02, -3.31810936e-02, -7.40331113e-02,\n",
       "        -1.03484608e-01, -2.43988354e-02, -1.58706561e-01,\n",
       "        -1.52567342e-01,  2.98491446e-04, -1.05073124e-01,\n",
       "        -9.02146548e-02,  1.40838390e-02, -6.45939633e-02,\n",
       "        -1.94969643e-02,  2.48357281e-02, -1.87971115e-01,\n",
       "        -9.87707153e-02, -5.50029874e-02, -1.35416985e-01,\n",
       "         4.75696214e-02, -1.40368447e-01, -5.28071634e-02,\n",
       "         9.52177402e-03, -4.54429984e-02,  2.86252256e-02,\n",
       "         2.51011681e-02,  1.88235510e-02,  3.26904953e-02,\n",
       "         3.77090764e-03, -1.11999363e-01, -5.04006408e-02,\n",
       "         1.27120182e-01, -6.07218370e-02,  2.65605729e-02,\n",
       "         3.15089226e-02,  7.58643448e-02, -1.65234134e-02,\n",
       "         1.73049644e-01,  1.09729171e-02,  3.79776135e-02,\n",
       "         5.44101372e-03, -8.22018608e-02,  1.63409099e-01,\n",
       "        -4.26832438e-02, -3.29115242e-02,  2.48233322e-02,\n",
       "         1.10353008e-01,  5.05741611e-02,  1.93534009e-02,\n",
       "         7.68486336e-02, -1.56279393e-02, -5.99255133e-03,\n",
       "        -1.24180704e-01, -1.09416217e-01,  3.96260321e-02,\n",
       "        -2.06806026e-02, -5.96683361e-02, -3.97871546e-02,\n",
       "        -5.75489439e-02,  4.84836847e-02,  4.68693562e-02,\n",
       "        -7.02725276e-02,  1.61774103e-02, -4.46280874e-02,\n",
       "         7.50318691e-02, -1.22558109e-01, -5.55638187e-02,\n",
       "        -7.02828616e-02,  7.86932930e-02, -1.08747976e-02,\n",
       "         9.97829065e-03, -4.06144597e-02, -1.26901209e-01,\n",
       "         1.95551157e-01,  6.69591688e-03,  8.40258598e-02,\n",
       "        -3.13989252e-01,  5.29331714e-02,  4.81820963e-02,\n",
       "        -1.31470501e-01,  2.29249690e-02,  7.78122768e-02,\n",
       "         1.41160637e-01,  1.04433790e-01, -1.92765564e-01,\n",
       "        -9.29527134e-02,  2.48987302e-02,  1.02622181e-01,\n",
       "         8.32935721e-02, -9.26975999e-03,  4.12858054e-02,\n",
       "         1.41444668e-01, -3.76553684e-02, -2.30468456e-02,\n",
       "         7.50215426e-02,  2.11133640e-02,  1.23126172e-01,\n",
       "        -1.10627748e-02, -7.93223009e-02,  2.69117393e-02,\n",
       "         3.30148041e-02,  2.02974185e-01, -1.42256469e-01,\n",
       "        -6.25313744e-02, -1.12489961e-01,  8.20841193e-02,\n",
       "         2.35890877e-02, -2.13037178e-01, -9.79341101e-03,\n",
       "         1.70655504e-01,  2.83670165e-02]], dtype=float32)>"
      ]
     },
     "execution_count": 46,
     "metadata": {},
     "output_type": "execute_result"
    }
   ],
   "source": [
    "embedding = \"https://tfhub.dev/google/tf2-preview/nnlm-en-dim128/1\"\n",
    "hub_layer = hub.KerasLayer(embedding, output_shape=[128], input_shape=[],\n",
    "                           dtype=tf.string, trainable=True)\n",
    "hub_layer(train_data[:1])"
   ]
  },
  {
   "cell_type": "code",
   "execution_count": 47,
   "id": "cfa02fe7-1be6-4c93-b2b6-02806237a458",
   "metadata": {},
   "outputs": [
    {
     "name": "stdout",
     "output_type": "stream",
     "text": [
      "WARNING:tensorflow:From C:\\Users\\mnicn\\anaconda3\\lib\\site-packages\\tensorflow\\python\\autograph\\pyct\\static_analysis\\liveness.py:83: Analyzer.lamba_check (from tensorflow.python.autograph.pyct.static_analysis.liveness) is deprecated and will be removed after 2023-09-23.\n",
      "Instructions for updating:\n",
      "Lambda fuctions will be no more assumed to be used in the statement where they are used, or at least in the same block. https://github.com/tensorflow/tensorflow/issues/56089\n"
     ]
    },
    {
     "name": "stderr",
     "output_type": "stream",
     "text": [
      "WARNING:tensorflow:From C:\\Users\\mnicn\\anaconda3\\lib\\site-packages\\tensorflow\\python\\autograph\\pyct\\static_analysis\\liveness.py:83: Analyzer.lamba_check (from tensorflow.python.autograph.pyct.static_analysis.liveness) is deprecated and will be removed after 2023-09-23.\n",
      "Instructions for updating:\n",
      "Lambda fuctions will be no more assumed to be used in the statement where they are used, or at least in the same block. https://github.com/tensorflow/tensorflow/issues/56089\n"
     ]
    },
    {
     "name": "stdout",
     "output_type": "stream",
     "text": [
      "Model: \"sequential\"\n",
      "_________________________________________________________________\n",
      " Layer (type)                Output Shape              Param #   \n",
      "=================================================================\n",
      " keras_layer (KerasLayer)    (None, 128)               124642688 \n",
      "                                                                 \n",
      " dense (Dense)               (None, 128)               16512     \n",
      "                                                                 \n",
      " dropout (Dropout)           (None, 128)               0         \n",
      "                                                                 \n",
      " dense_1 (Dense)             (None, 128)               16512     \n",
      "                                                                 \n",
      " dropout_1 (Dropout)         (None, 128)               0         \n",
      "                                                                 \n",
      " dense_2 (Dense)             (None, 64)                8256      \n",
      "                                                                 \n",
      " dropout_2 (Dropout)         (None, 64)                0         \n",
      "                                                                 \n",
      " dense_3 (Dense)             (None, 32)                2080      \n",
      "                                                                 \n",
      " dropout_3 (Dropout)         (None, 32)                0         \n",
      "                                                                 \n",
      " dense_4 (Dense)             (None, 162)               5346      \n",
      "                                                                 \n",
      "=================================================================\n",
      "Total params: 124,691,394\n",
      "Trainable params: 124,691,394\n",
      "Non-trainable params: 0\n",
      "_________________________________________________________________\n"
     ]
    }
   ],
   "source": [
    "model = tf.keras.Sequential()\n",
    "model.add(hub_layer)\n",
    "for units in [128, 128, 64, 32]:\n",
    "    model.add(tf.keras.layers.Dense(units, activation='relu'))\n",
    "    model.add(tf.keras.layers.Dropout(0.3))\n",
    "model.add(tf.keras.layers.Dense(162, activation='softmax'))\n",
    "\n",
    "model.summary()"
   ]
  },
  {
   "cell_type": "code",
   "execution_count": 48,
   "id": "82b91ee0-04c1-474e-9897-10c2cdfcac89",
   "metadata": {},
   "outputs": [],
   "source": [
    "model.compile(optimizer='adam',\n",
    "             loss=tf.keras.losses.CategoricalCrossentropy(from_logits=True),\n",
    "             metrics=['accuracy'])"
   ]
  },
  {
   "cell_type": "code",
   "execution_count": 49,
   "id": "ddbd119f-8a5e-491f-8295-0634db9443b7",
   "metadata": {},
   "outputs": [],
   "source": [
    "train_data_f=train_data_f.shuffle(70000).batch(512)\n",
    "test_data_f=test_data_f.batch(512)"
   ]
  },
  {
   "cell_type": "code",
   "execution_count": 50,
   "id": "6827a02c-04ee-4d25-ad5f-2488e8dc0fa0",
   "metadata": {
    "tags": []
   },
   "outputs": [
    {
     "name": "stdout",
     "output_type": "stream",
     "text": [
      "Epoch 1/5\n"
     ]
    },
    {
     "name": "stderr",
     "output_type": "stream",
     "text": [
      "C:\\Users\\mnicn\\anaconda3\\lib\\site-packages\\keras\\backend.py:5534: UserWarning: \"`categorical_crossentropy` received `from_logits=True`, but the `output` argument was produced by a Softmax activation and thus does not represent logits. Was this intended?\n",
      "  output, from_logits = _get_logits(\n"
     ]
    },
    {
     "name": "stdout",
     "output_type": "stream",
     "text": [
      "316/316 [==============================] - 469s 1s/step - loss: 13.0575 - accuracy: 0.0839 - val_loss: 2.9724 - val_accuracy: 0.2244\n",
      "Epoch 2/5\n",
      "316/316 [==============================] - 458s 1s/step - loss: 7.1113 - accuracy: 0.2971 - val_loss: 2.1934 - val_accuracy: 0.4094\n",
      "Epoch 3/5\n",
      "316/316 [==============================] - 489s 2s/step - loss: 5.6580 - accuracy: 0.3936 - val_loss: 2.0193 - val_accuracy: 0.4372\n",
      "Epoch 4/5\n",
      "316/316 [==============================] - 484s 2s/step - loss: 4.8849 - accuracy: 0.4327 - val_loss: 1.9019 - val_accuracy: 0.4645\n",
      "Epoch 5/5\n",
      "316/316 [==============================] - 478s 2s/step - loss: 4.4963 - accuracy: 0.4602 - val_loss: 1.9123 - val_accuracy: 0.4807\n"
     ]
    }
   ],
   "source": [
    "history = model.fit(train_data_f,\n",
    "                   epochs=5,\n",
    "                   validation_data=test_data_f,\n",
    "                   verbose=1,\n",
    "                   class_weight=weights)"
   ]
  },
  {
   "cell_type": "code",
   "execution_count": null,
   "id": "9e7815b0-251b-485e-9413-973526b237c3",
   "metadata": {},
   "outputs": [],
   "source": [
    "len(list(dataset_test))"
   ]
  },
  {
   "cell_type": "code",
   "execution_count": null,
   "id": "64d0ae5e-7687-4c9c-89d1-0da786dfa56b",
   "metadata": {},
   "outputs": [],
   "source": [
    "results = model.evaluate(dataset_test.map(fetch).batch(40406), verbose=2)"
   ]
  },
  {
   "cell_type": "code",
   "execution_count": null,
   "id": "f286643a-3298-4555-add6-001d23dee538",
   "metadata": {},
   "outputs": [],
   "source": [
    "print(results)"
   ]
  },
  {
   "cell_type": "code",
   "execution_count": null,
   "id": "38cbc0b6-ae68-4eda-bbf2-a37a80a869ca",
   "metadata": {},
   "outputs": [],
   "source": [
    "test_data, test_labels = next(iter(dataset_test.map(fetch).batch(45963)))"
   ]
  },
  {
   "cell_type": "code",
   "execution_count": null,
   "id": "167e1ac3-6d26-4147-9529-c896e3219408",
   "metadata": {},
   "outputs": [],
   "source": [
    "y_pred=model.predict(test_data)"
   ]
  },
  {
   "cell_type": "code",
   "execution_count": null,
   "id": "ac776260-ca7e-4061-a158-332eaa1ae67e",
   "metadata": {},
   "outputs": [],
   "source": [
    "from sklearn.metrics import classification_report"
   ]
  },
  {
   "cell_type": "code",
   "execution_count": null,
   "id": "78dabbfd-bfc1-47ee-82b8-6f8b9758fd90",
   "metadata": {},
   "outputs": [],
   "source": [
    "print(classification_report(test_labels.numpy().argmax(axis=1), y_pred.argmax(axis=1), zero_division = 1))"
   ]
  },
  {
   "cell_type": "code",
   "execution_count": null,
   "id": "9382b4d1-abb7-46ec-92e7-3e246e84e40f",
   "metadata": {},
   "outputs": [],
   "source": [
    "from sklearn.metrics import confusion_matrix\n",
    "confusion_matrix(test_labels.numpy().argmax(axis=1), y_pred.argmax(axis=1))"
   ]
  },
  {
   "cell_type": "code",
   "execution_count": null,
   "id": "184c02fd-8980-443b-a35d-9d9c8a7dc2ab",
   "metadata": {},
   "outputs": [],
   "source": []
  }
 ],
 "metadata": {
  "kernelspec": {
   "display_name": "Python 3 (ipykernel)",
   "language": "python",
   "name": "python3"
  },
  "language_info": {
   "codemirror_mode": {
    "name": "ipython",
    "version": 3
   },
   "file_extension": ".py",
   "mimetype": "text/x-python",
   "name": "python",
   "nbconvert_exporter": "python",
   "pygments_lexer": "ipython3",
   "version": "3.9.12"
  }
 },
 "nbformat": 4,
 "nbformat_minor": 5
}
